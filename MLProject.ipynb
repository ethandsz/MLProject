{
  "nbformat": 4,
  "nbformat_minor": 0,
  "metadata": {
    "colab": {
      "name": "MLProject.ipynb",
      "provenance": [],
      "collapsed_sections": [
        "-snk5WUQFZAA",
        "mA4jIh2dypJ3",
        "wA_JygJLhtBP",
        "Jpm19BSNhwfF",
        "iC64n-yihyKn"
      ],
      "mount_file_id": "1VHPL41d-OBs939nuenhDhww8cExMxpDK",
      "authorship_tag": "ABX9TyN2w675pM5uQu4hj97T4wpi",
      "include_colab_link": true
    },
    "kernelspec": {
      "name": "python3",
      "display_name": "Python 3"
    },
    "language_info": {
      "name": "python"
    }
  },
  "cells": [
    {
      "cell_type": "markdown",
      "metadata": {
        "id": "view-in-github",
        "colab_type": "text"
      },
      "source": [
        "<a href=\"https://colab.research.google.com/github/ethandsz/MLProject/blob/main/MLProject.ipynb\" target=\"_parent\"><img src=\"https://colab.research.google.com/assets/colab-badge.svg\" alt=\"Open In Colab\"/></a>"
      ]
    },
    {
      "cell_type": "markdown",
      "source": [
        "# **![EthanDSZ linkedin banner-01.png](data:image/png;base64,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)News Headline Category Prediction**\n",
        "\n",
        "https://colab.research.google.com/drive/1VHPL41d-OBs939nuenhDhww8cExMxpDK?usp=sharing\n"
      ],
      "metadata": {
        "id": "Fz9uXwEZDG-6"
      }
    },
    {
      "cell_type": "code",
      "execution_count": null,
      "metadata": {
        "id": "uewNILOrwLBO"
      },
      "outputs": [],
      "source": [
        "import pandas as pd\n",
        "import numpy as np\n",
        "from sklearn.model_selection import train_test_split\n",
        "import seaborn as sns\n",
        "import matplotlib.pyplot as plt\n",
        "import os\n",
        "import plotly.express as px\n",
        "import plotly.graph_objects as go\n",
        "%matplotlib inline"
      ]
    },
    {
      "cell_type": "markdown",
      "source": [
        "# Importing data, exploratory analysis, and setting target column(s) for training"
      ],
      "metadata": {
        "id": "uXNcuQCF5OlJ"
      }
    },
    {
      "cell_type": "code",
      "source": [
        "#raw = pd.read_excel('drive/MyDrive/Headline/Headlines.xlsx') \n",
        "raw = pd.read_excel('Downloads/Headlines.xlsx')"
      ],
      "metadata": {
        "id": "LkHFxf60wRlV"
      },
      "execution_count": null,
      "outputs": []
    },
    {
      "cell_type": "code",
      "source": [
        "#raw = raw.sample(50000)"
      ],
      "metadata": {
        "id": "5aaoCivZwIfH"
      },
      "execution_count": null,
      "outputs": []
    },
    {
      "cell_type": "code",
      "source": [
        "raw"
      ],
      "metadata": {
        "colab": {
          "base_uri": "https://localhost:8080/",
          "height": 424
        },
        "id": "8ACPHr9rloqC",
        "outputId": "520482a7-b526-4607-8107-110fed37242b"
      },
      "execution_count": null,
      "outputs": [
        {
          "output_type": "execute_result",
          "data": {
            "text/plain": [
              "        Unnamed: 0       category  \\\n",
              "0                0          CRIME   \n",
              "1                1  ENTERTAINMENT   \n",
              "2                2  ENTERTAINMENT   \n",
              "3                3  ENTERTAINMENT   \n",
              "4                4  ENTERTAINMENT   \n",
              "...            ...            ...   \n",
              "200848      200848           TECH   \n",
              "200849      200849         SPORTS   \n",
              "200850      200850         SPORTS   \n",
              "200851      200851         SPORTS   \n",
              "200852      200852         SPORTS   \n",
              "\n",
              "                                                 headline           authors  \\\n",
              "0       There Were 2 Mass Shootings In Texas Last Week...   Melissa Jeltsen   \n",
              "1       Will Smith Joins Diplo And Nicky Jam For The 2...     Andy McDonald   \n",
              "2         Hugh Grant Marries For The First Time At Age 57        Ron Dicker   \n",
              "3       Jim Carrey Blasts 'Castrato' Adam Schiff And D...        Ron Dicker   \n",
              "4       Julianna Margulies Uses Donald Trump Poop Bags...        Ron Dicker   \n",
              "...                                                   ...               ...   \n",
              "200848  RIM CEO Thorsten Heins' 'Significant' Plans Fo...  Reuters, Reuters   \n",
              "200849  Maria Sharapova Stunned By Victoria Azarenka I...               NaN   \n",
              "200850  Giants Over Patriots, Jets Over Colts Among  M...               NaN   \n",
              "200851  Aldon Smith Arrested: 49ers Linebacker Busted ...               NaN   \n",
              "200852  Dwight Howard Rips Teammates After Magic Loss ...               NaN   \n",
              "\n",
              "                                                     link  \\\n",
              "0       https://www.huffingtonpost.com/entry/texas-ama...   \n",
              "1       https://www.huffingtonpost.com/entry/will-smit...   \n",
              "2       https://www.huffingtonpost.com/entry/hugh-gran...   \n",
              "3       https://www.huffingtonpost.com/entry/jim-carre...   \n",
              "4       https://www.huffingtonpost.com/entry/julianna-...   \n",
              "...                                                   ...   \n",
              "200848  https://www.huffingtonpost.com/entry/rim-ceo-t...   \n",
              "200849  https://www.huffingtonpost.com/entry/maria-sha...   \n",
              "200850  https://www.huffingtonpost.com/entry/super-bow...   \n",
              "200851  https://www.huffingtonpost.com/entry/aldon-smi...   \n",
              "200852  https://www.huffingtonpost.com/entry/dwight-ho...   \n",
              "\n",
              "                                        short_description       date  \n",
              "0       She left her husband. He killed their children... 2018-05-26  \n",
              "1                                Of course it has a song. 2018-05-26  \n",
              "2       The actor and his longtime girlfriend Anna Ebe... 2018-05-26  \n",
              "3       The actor gives Dems an ass-kicking for not fi... 2018-05-26  \n",
              "4       The \"Dietland\" actress said using the bags is ... 2018-05-26  \n",
              "...                                                   ...        ...  \n",
              "200848  Verizon Wireless and AT&T are already promotin... 2012-01-28  \n",
              "200849  Afterward, Azarenka, more effusive with the pr... 2012-01-28  \n",
              "200850  Leading up to Super Bowl XLVI, the most talked... 2012-01-28  \n",
              "200851  CORRECTION: An earlier version of this story i... 2012-01-28  \n",
              "200852  The five-time all-star center tore into his te... 2012-01-28  \n",
              "\n",
              "[200853 rows x 7 columns]"
            ],
            "text/html": [
              "<div>\n",
              "<style scoped>\n",
              "    .dataframe tbody tr th:only-of-type {\n",
              "        vertical-align: middle;\n",
              "    }\n",
              "\n",
              "    .dataframe tbody tr th {\n",
              "        vertical-align: top;\n",
              "    }\n",
              "\n",
              "    .dataframe thead th {\n",
              "        text-align: right;\n",
              "    }\n",
              "</style>\n",
              "<table border=\"1\" class=\"dataframe\">\n",
              "  <thead>\n",
              "    <tr style=\"text-align: right;\">\n",
              "      <th></th>\n",
              "      <th>Unnamed: 0</th>\n",
              "      <th>category</th>\n",
              "      <th>headline</th>\n",
              "      <th>authors</th>\n",
              "      <th>link</th>\n",
              "      <th>short_description</th>\n",
              "      <th>date</th>\n",
              "    </tr>\n",
              "  </thead>\n",
              "  <tbody>\n",
              "    <tr>\n",
              "      <th>0</th>\n",
              "      <td>0</td>\n",
              "      <td>CRIME</td>\n",
              "      <td>There Were 2 Mass Shootings In Texas Last Week...</td>\n",
              "      <td>Melissa Jeltsen</td>\n",
              "      <td>https://www.huffingtonpost.com/entry/texas-ama...</td>\n",
              "      <td>She left her husband. He killed their children...</td>\n",
              "      <td>2018-05-26</td>\n",
              "    </tr>\n",
              "    <tr>\n",
              "      <th>1</th>\n",
              "      <td>1</td>\n",
              "      <td>ENTERTAINMENT</td>\n",
              "      <td>Will Smith Joins Diplo And Nicky Jam For The 2...</td>\n",
              "      <td>Andy McDonald</td>\n",
              "      <td>https://www.huffingtonpost.com/entry/will-smit...</td>\n",
              "      <td>Of course it has a song.</td>\n",
              "      <td>2018-05-26</td>\n",
              "    </tr>\n",
              "    <tr>\n",
              "      <th>2</th>\n",
              "      <td>2</td>\n",
              "      <td>ENTERTAINMENT</td>\n",
              "      <td>Hugh Grant Marries For The First Time At Age 57</td>\n",
              "      <td>Ron Dicker</td>\n",
              "      <td>https://www.huffingtonpost.com/entry/hugh-gran...</td>\n",
              "      <td>The actor and his longtime girlfriend Anna Ebe...</td>\n",
              "      <td>2018-05-26</td>\n",
              "    </tr>\n",
              "    <tr>\n",
              "      <th>3</th>\n",
              "      <td>3</td>\n",
              "      <td>ENTERTAINMENT</td>\n",
              "      <td>Jim Carrey Blasts 'Castrato' Adam Schiff And D...</td>\n",
              "      <td>Ron Dicker</td>\n",
              "      <td>https://www.huffingtonpost.com/entry/jim-carre...</td>\n",
              "      <td>The actor gives Dems an ass-kicking for not fi...</td>\n",
              "      <td>2018-05-26</td>\n",
              "    </tr>\n",
              "    <tr>\n",
              "      <th>4</th>\n",
              "      <td>4</td>\n",
              "      <td>ENTERTAINMENT</td>\n",
              "      <td>Julianna Margulies Uses Donald Trump Poop Bags...</td>\n",
              "      <td>Ron Dicker</td>\n",
              "      <td>https://www.huffingtonpost.com/entry/julianna-...</td>\n",
              "      <td>The \"Dietland\" actress said using the bags is ...</td>\n",
              "      <td>2018-05-26</td>\n",
              "    </tr>\n",
              "    <tr>\n",
              "      <th>...</th>\n",
              "      <td>...</td>\n",
              "      <td>...</td>\n",
              "      <td>...</td>\n",
              "      <td>...</td>\n",
              "      <td>...</td>\n",
              "      <td>...</td>\n",
              "      <td>...</td>\n",
              "    </tr>\n",
              "    <tr>\n",
              "      <th>200848</th>\n",
              "      <td>200848</td>\n",
              "      <td>TECH</td>\n",
              "      <td>RIM CEO Thorsten Heins' 'Significant' Plans Fo...</td>\n",
              "      <td>Reuters, Reuters</td>\n",
              "      <td>https://www.huffingtonpost.com/entry/rim-ceo-t...</td>\n",
              "      <td>Verizon Wireless and AT&amp;T are already promotin...</td>\n",
              "      <td>2012-01-28</td>\n",
              "    </tr>\n",
              "    <tr>\n",
              "      <th>200849</th>\n",
              "      <td>200849</td>\n",
              "      <td>SPORTS</td>\n",
              "      <td>Maria Sharapova Stunned By Victoria Azarenka I...</td>\n",
              "      <td>NaN</td>\n",
              "      <td>https://www.huffingtonpost.com/entry/maria-sha...</td>\n",
              "      <td>Afterward, Azarenka, more effusive with the pr...</td>\n",
              "      <td>2012-01-28</td>\n",
              "    </tr>\n",
              "    <tr>\n",
              "      <th>200850</th>\n",
              "      <td>200850</td>\n",
              "      <td>SPORTS</td>\n",
              "      <td>Giants Over Patriots, Jets Over Colts Among  M...</td>\n",
              "      <td>NaN</td>\n",
              "      <td>https://www.huffingtonpost.com/entry/super-bow...</td>\n",
              "      <td>Leading up to Super Bowl XLVI, the most talked...</td>\n",
              "      <td>2012-01-28</td>\n",
              "    </tr>\n",
              "    <tr>\n",
              "      <th>200851</th>\n",
              "      <td>200851</td>\n",
              "      <td>SPORTS</td>\n",
              "      <td>Aldon Smith Arrested: 49ers Linebacker Busted ...</td>\n",
              "      <td>NaN</td>\n",
              "      <td>https://www.huffingtonpost.com/entry/aldon-smi...</td>\n",
              "      <td>CORRECTION: An earlier version of this story i...</td>\n",
              "      <td>2012-01-28</td>\n",
              "    </tr>\n",
              "    <tr>\n",
              "      <th>200852</th>\n",
              "      <td>200852</td>\n",
              "      <td>SPORTS</td>\n",
              "      <td>Dwight Howard Rips Teammates After Magic Loss ...</td>\n",
              "      <td>NaN</td>\n",
              "      <td>https://www.huffingtonpost.com/entry/dwight-ho...</td>\n",
              "      <td>The five-time all-star center tore into his te...</td>\n",
              "      <td>2012-01-28</td>\n",
              "    </tr>\n",
              "  </tbody>\n",
              "</table>\n",
              "<p>200853 rows × 7 columns</p>\n",
              "</div>"
            ]
          },
          "metadata": {},
          "execution_count": 4
        }
      ]
    },
    {
      "cell_type": "markdown",
      "source": [
        "Dropping \"Unnamed: 0\" as it has no useful data"
      ],
      "metadata": {
        "id": "gyc4M1yD7mq6"
      }
    },
    {
      "cell_type": "code",
      "source": [
        "raw.drop(columns=\"Unnamed: 0\", inplace= True) "
      ],
      "metadata": {
        "id": "X5EMSxxZ2PGC"
      },
      "execution_count": null,
      "outputs": []
    },
    {
      "cell_type": "markdown",
      "source": [
        "Checking the number of categories and their names"
      ],
      "metadata": {
        "id": "MI_CjFnZ7vnY"
      }
    },
    {
      "cell_type": "code",
      "source": [
        "len(list(raw.category.unique()))"
      ],
      "metadata": {
        "id": "G_kc_rxhyQbM",
        "colab": {
          "base_uri": "https://localhost:8080/"
        },
        "outputId": "e80858e3-8c9c-4e9f-d3a7-14d94f8a4a75"
      },
      "execution_count": null,
      "outputs": [
        {
          "output_type": "execute_result",
          "data": {
            "text/plain": [
              "41"
            ]
          },
          "metadata": {},
          "execution_count": 6
        }
      ]
    },
    {
      "cell_type": "code",
      "source": [
        "raw.category.unique()"
      ],
      "metadata": {
        "id": "jnRystIMrFgK",
        "colab": {
          "base_uri": "https://localhost:8080/"
        },
        "outputId": "4bbd3949-da40-4d82-8d70-da0747032c88"
      },
      "execution_count": null,
      "outputs": [
        {
          "output_type": "execute_result",
          "data": {
            "text/plain": [
              "array(['CRIME', 'ENTERTAINMENT', 'WORLD NEWS', 'IMPACT', 'POLITICS',\n",
              "       'WEIRD NEWS', 'BLACK VOICES', 'WOMEN', 'COMEDY', 'QUEER VOICES',\n",
              "       'SPORTS', 'BUSINESS', 'TRAVEL', 'MEDIA', 'TECH', 'RELIGION',\n",
              "       'SCIENCE', 'LATINO VOICES', 'EDUCATION', 'COLLEGE', 'PARENTS',\n",
              "       'ARTS & CULTURE', 'STYLE', 'GREEN', 'TASTE', 'HEALTHY LIVING',\n",
              "       'THE WORLDPOST', 'GOOD NEWS', 'WORLDPOST', 'FIFTY', 'ARTS',\n",
              "       'WELLNESS', 'PARENTING', 'HOME & LIVING', 'STYLE & BEAUTY',\n",
              "       'DIVORCE', 'WEDDINGS', 'FOOD & DRINK', 'MONEY', 'ENVIRONMENT',\n",
              "       'CULTURE & ARTS'], dtype=object)"
            ]
          },
          "metadata": {},
          "execution_count": 7
        }
      ]
    },
    {
      "cell_type": "code",
      "source": [
        "raw.describe()"
      ],
      "metadata": {
        "id": "_jQMYp7UdVPh",
        "colab": {
          "base_uri": "https://localhost:8080/",
          "height": 294
        },
        "outputId": "1efc2841-d822-4c5e-b9fc-dd182ed1c118"
      },
      "execution_count": null,
      "outputs": [
        {
          "output_type": "stream",
          "name": "stderr",
          "text": [
            "C:\\Users\\Ethan\\AppData\\Local\\Temp\\ipykernel_2448\\79165625.py:1: FutureWarning: Treating datetime data as categorical rather than numeric in `.describe` is deprecated and will be removed in a future version of pandas. Specify `datetime_is_numeric=True` to silence this warning and adopt the future behavior now.\n",
            "  raw.describe()\n"
          ]
        },
        {
          "output_type": "execute_result",
          "data": {
            "text/plain": [
              "        category        headline    authors  \\\n",
              "count     200853          200847     164233   \n",
              "unique        41          199343      27992   \n",
              "top     POLITICS  Sunday Roundup  Lee Moran   \n",
              "freq       32739              90       2423   \n",
              "first        NaN             NaN        NaN   \n",
              "last         NaN             NaN        NaN   \n",
              "\n",
              "                                                     link  \\\n",
              "count                                              200853   \n",
              "unique                                             200812   \n",
              "top     https://www.huffingtonpost.comhttp://stylelike...   \n",
              "freq                                                    2   \n",
              "first                                                 NaN   \n",
              "last                                                  NaN   \n",
              "\n",
              "                                        short_description                 date  \n",
              "count                                              181121               200853  \n",
              "unique                                             178332                 2309  \n",
              "top     Welcome to the HuffPost Rise Morning Newsbrief...  2013-04-24 00:00:00  \n",
              "freq                                                  192                  100  \n",
              "first                                                 NaN  2012-01-28 00:00:00  \n",
              "last                                                  NaN  2018-05-26 00:00:00  "
            ],
            "text/html": [
              "<div>\n",
              "<style scoped>\n",
              "    .dataframe tbody tr th:only-of-type {\n",
              "        vertical-align: middle;\n",
              "    }\n",
              "\n",
              "    .dataframe tbody tr th {\n",
              "        vertical-align: top;\n",
              "    }\n",
              "\n",
              "    .dataframe thead th {\n",
              "        text-align: right;\n",
              "    }\n",
              "</style>\n",
              "<table border=\"1\" class=\"dataframe\">\n",
              "  <thead>\n",
              "    <tr style=\"text-align: right;\">\n",
              "      <th></th>\n",
              "      <th>category</th>\n",
              "      <th>headline</th>\n",
              "      <th>authors</th>\n",
              "      <th>link</th>\n",
              "      <th>short_description</th>\n",
              "      <th>date</th>\n",
              "    </tr>\n",
              "  </thead>\n",
              "  <tbody>\n",
              "    <tr>\n",
              "      <th>count</th>\n",
              "      <td>200853</td>\n",
              "      <td>200847</td>\n",
              "      <td>164233</td>\n",
              "      <td>200853</td>\n",
              "      <td>181121</td>\n",
              "      <td>200853</td>\n",
              "    </tr>\n",
              "    <tr>\n",
              "      <th>unique</th>\n",
              "      <td>41</td>\n",
              "      <td>199343</td>\n",
              "      <td>27992</td>\n",
              "      <td>200812</td>\n",
              "      <td>178332</td>\n",
              "      <td>2309</td>\n",
              "    </tr>\n",
              "    <tr>\n",
              "      <th>top</th>\n",
              "      <td>POLITICS</td>\n",
              "      <td>Sunday Roundup</td>\n",
              "      <td>Lee Moran</td>\n",
              "      <td>https://www.huffingtonpost.comhttp://stylelike...</td>\n",
              "      <td>Welcome to the HuffPost Rise Morning Newsbrief...</td>\n",
              "      <td>2013-04-24 00:00:00</td>\n",
              "    </tr>\n",
              "    <tr>\n",
              "      <th>freq</th>\n",
              "      <td>32739</td>\n",
              "      <td>90</td>\n",
              "      <td>2423</td>\n",
              "      <td>2</td>\n",
              "      <td>192</td>\n",
              "      <td>100</td>\n",
              "    </tr>\n",
              "    <tr>\n",
              "      <th>first</th>\n",
              "      <td>NaN</td>\n",
              "      <td>NaN</td>\n",
              "      <td>NaN</td>\n",
              "      <td>NaN</td>\n",
              "      <td>NaN</td>\n",
              "      <td>2012-01-28 00:00:00</td>\n",
              "    </tr>\n",
              "    <tr>\n",
              "      <th>last</th>\n",
              "      <td>NaN</td>\n",
              "      <td>NaN</td>\n",
              "      <td>NaN</td>\n",
              "      <td>NaN</td>\n",
              "      <td>NaN</td>\n",
              "      <td>2018-05-26 00:00:00</td>\n",
              "    </tr>\n",
              "  </tbody>\n",
              "</table>\n",
              "</div>"
            ]
          },
          "metadata": {},
          "execution_count": 8
        }
      ]
    },
    {
      "cell_type": "code",
      "source": [
        "raw.authors.unique().size"
      ],
      "metadata": {
        "id": "w2tgjWIQ39d0",
        "colab": {
          "base_uri": "https://localhost:8080/"
        },
        "outputId": "da13d0d2-086e-4d36-c440-46fa15abe0af"
      },
      "execution_count": null,
      "outputs": [
        {
          "output_type": "execute_result",
          "data": {
            "text/plain": [
              "27993"
            ]
          },
          "metadata": {},
          "execution_count": 9
        }
      ]
    },
    {
      "cell_type": "code",
      "source": [
        "raw.authors.isna().sum()"
      ],
      "metadata": {
        "id": "BGc70QTVdsGh",
        "colab": {
          "base_uri": "https://localhost:8080/"
        },
        "outputId": "ec912893-3372-4a8b-fd6c-f6333722f894"
      },
      "execution_count": null,
      "outputs": [
        {
          "output_type": "execute_result",
          "data": {
            "text/plain": [
              "36620"
            ]
          },
          "metadata": {},
          "execution_count": 10
        }
      ]
    },
    {
      "cell_type": "markdown",
      "source": [
        "Dropping null/NaN values in the specified columns"
      ],
      "metadata": {
        "id": "vwraOeqR741f"
      }
    },
    {
      "cell_type": "code",
      "source": [
        "raw.dropna(subset = ['short_description', 'headline'], inplace = True) #Dropping all rows which contain Null/NaN values in the specified columns"
      ],
      "metadata": {
        "id": "dzhdqVmDirVm"
      },
      "execution_count": null,
      "outputs": []
    },
    {
      "cell_type": "markdown",
      "source": [
        "Plot of the top 25 reported categories"
      ],
      "metadata": {
        "id": "DIWUH_oM7_AX"
      }
    },
    {
      "cell_type": "code",
      "source": [
        "plt.figure(figsize=(60,24));\n",
        "\n",
        "fig = px.bar(x = raw.category.value_counts().index[:25], y = raw.category.value_counts()[:25], labels = {\n",
        "    \"x\": \"Categories\", #Setting x label to categories\n",
        "    \"y\": \"Count\"}, #Setting y label to count\n",
        "    title = \"Top 25 categories\"); #Setting the title\n",
        "fig.show(renderer=\"colab\");"
      ],
      "metadata": {
        "id": "69aVtfJVtAdd",
        "colab": {
          "base_uri": "https://localhost:8080/",
          "height": 560
        },
        "outputId": "6ebadf3f-3b27-4b62-81aa-e4eb1a7d3c21"
      },
      "execution_count": null,
      "outputs": [
        {
          "output_type": "display_data",
          "data": {
            "text/html": [
              "<html>\n",
              "<head><meta charset=\"utf-8\" /></head>\n",
              "<body>\n",
              "    <div>            <script src=\"https://cdnjs.cloudflare.com/ajax/libs/mathjax/2.7.5/MathJax.js?config=TeX-AMS-MML_SVG\"></script><script type=\"text/javascript\">if (window.MathJax) {MathJax.Hub.Config({SVG: {font: \"STIX-Web\"}});}</script>                <script type=\"text/javascript\">window.PlotlyConfig = {MathJaxConfig: 'local'};</script>\n",
              "        <script src=\"https://cdn.plot.ly/plotly-2.9.0.min.js\"></script>                <div id=\"59767f86-f95a-426d-91cd-3a660f7a554a\" class=\"plotly-graph-div\" style=\"height:525px; width:100%;\"></div>            <script type=\"text/javascript\">                                    window.PLOTLYENV=window.PLOTLYENV || {};                                    if (document.getElementById(\"59767f86-f95a-426d-91cd-3a660f7a554a\")) {                    Plotly.newPlot(                        \"59767f86-f95a-426d-91cd-3a660f7a554a\",                        [{\"alignmentgroup\":\"True\",\"hovertemplate\":\"Categories=%{x}<br>Count=%{y}<extra></extra>\",\"legendgroup\":\"\",\"marker\":{\"color\":\"#636efa\",\"pattern\":{\"shape\":\"\"}},\"name\":\"\",\"offsetgroup\":\"\",\"orientation\":\"v\",\"showlegend\":false,\"textposition\":\"auto\",\"x\":[\"POLITICS\",\"WELLNESS\",\"ENTERTAINMENT\",\"STYLE & BEAUTY\",\"TRAVEL\",\"PARENTING\",\"FOOD & DRINK\",\"QUEER VOICES\",\"HEALTHY LIVING\",\"BUSINESS\",\"COMEDY\",\"SPORTS\",\"HOME & LIVING\",\"BLACK VOICES\",\"THE WORLDPOST\",\"WEDDINGS\",\"PARENTS\",\"DIVORCE\",\"WOMEN\",\"IMPACT\",\"CRIME\",\"MEDIA\",\"WEIRD NEWS\",\"WORLD NEWS\",\"TECH\"],\"xaxis\":\"x\",\"y\":[29578,17820,13470,9636,9402,8675,6217,5570,5265,5077,4417,4221,4190,4121,3664,3650,3556,3424,3102,3061,2675,2275,2209,2175,2080],\"yaxis\":\"y\",\"type\":\"bar\"}],                        {\"template\":{\"data\":{\"bar\":[{\"error_x\":{\"color\":\"#2a3f5f\"},\"error_y\":{\"color\":\"#2a3f5f\"},\"marker\":{\"line\":{\"color\":\"#E5ECF6\",\"width\":0.5},\"pattern\":{\"fillmode\":\"overlay\",\"size\":10,\"solidity\":0.2}},\"type\":\"bar\"}],\"barpolar\":[{\"marker\":{\"line\":{\"color\":\"#E5ECF6\",\"width\":0.5},\"pattern\":{\"fillmode\":\"overlay\",\"size\":10,\"solidity\":0.2}},\"type\":\"barpolar\"}],\"carpet\":[{\"aaxis\":{\"endlinecolor\":\"#2a3f5f\",\"gridcolor\":\"white\",\"linecolor\":\"white\",\"minorgridcolor\":\"white\",\"startlinecolor\":\"#2a3f5f\"},\"baxis\":{\"endlinecolor\":\"#2a3f5f\",\"gridcolor\":\"white\",\"linecolor\":\"white\",\"minorgridcolor\":\"white\",\"startlinecolor\":\"#2a3f5f\"},\"type\":\"carpet\"}],\"choropleth\":[{\"colorbar\":{\"outlinewidth\":0,\"ticks\":\"\"},\"type\":\"choropleth\"}],\"contour\":[{\"colorbar\":{\"outlinewidth\":0,\"ticks\":\"\"},\"colorscale\":[[0.0,\"#0d0887\"],[0.1111111111111111,\"#46039f\"],[0.2222222222222222,\"#7201a8\"],[0.3333333333333333,\"#9c179e\"],[0.4444444444444444,\"#bd3786\"],[0.5555555555555556,\"#d8576b\"],[0.6666666666666666,\"#ed7953\"],[0.7777777777777778,\"#fb9f3a\"],[0.8888888888888888,\"#fdca26\"],[1.0,\"#f0f921\"]],\"type\":\"contour\"}],\"contourcarpet\":[{\"colorbar\":{\"outlinewidth\":0,\"ticks\":\"\"},\"type\":\"contourcarpet\"}],\"heatmap\":[{\"colorbar\":{\"outlinewidth\":0,\"ticks\":\"\"},\"colorscale\":[[0.0,\"#0d0887\"],[0.1111111111111111,\"#46039f\"],[0.2222222222222222,\"#7201a8\"],[0.3333333333333333,\"#9c179e\"],[0.4444444444444444,\"#bd3786\"],[0.5555555555555556,\"#d8576b\"],[0.6666666666666666,\"#ed7953\"],[0.7777777777777778,\"#fb9f3a\"],[0.8888888888888888,\"#fdca26\"],[1.0,\"#f0f921\"]],\"type\":\"heatmap\"}],\"heatmapgl\":[{\"colorbar\":{\"outlinewidth\":0,\"ticks\":\"\"},\"colorscale\":[[0.0,\"#0d0887\"],[0.1111111111111111,\"#46039f\"],[0.2222222222222222,\"#7201a8\"],[0.3333333333333333,\"#9c179e\"],[0.4444444444444444,\"#bd3786\"],[0.5555555555555556,\"#d8576b\"],[0.6666666666666666,\"#ed7953\"],[0.7777777777777778,\"#fb9f3a\"],[0.8888888888888888,\"#fdca26\"],[1.0,\"#f0f921\"]],\"type\":\"heatmapgl\"}],\"histogram\":[{\"marker\":{\"pattern\":{\"fillmode\":\"overlay\",\"size\":10,\"solidity\":0.2}},\"type\":\"histogram\"}],\"histogram2d\":[{\"colorbar\":{\"outlinewidth\":0,\"ticks\":\"\"},\"colorscale\":[[0.0,\"#0d0887\"],[0.1111111111111111,\"#46039f\"],[0.2222222222222222,\"#7201a8\"],[0.3333333333333333,\"#9c179e\"],[0.4444444444444444,\"#bd3786\"],[0.5555555555555556,\"#d8576b\"],[0.6666666666666666,\"#ed7953\"],[0.7777777777777778,\"#fb9f3a\"],[0.8888888888888888,\"#fdca26\"],[1.0,\"#f0f921\"]],\"type\":\"histogram2d\"}],\"histogram2dcontour\":[{\"colorbar\":{\"outlinewidth\":0,\"ticks\":\"\"},\"colorscale\":[[0.0,\"#0d0887\"],[0.1111111111111111,\"#46039f\"],[0.2222222222222222,\"#7201a8\"],[0.3333333333333333,\"#9c179e\"],[0.4444444444444444,\"#bd3786\"],[0.5555555555555556,\"#d8576b\"],[0.6666666666666666,\"#ed7953\"],[0.7777777777777778,\"#fb9f3a\"],[0.8888888888888888,\"#fdca26\"],[1.0,\"#f0f921\"]],\"type\":\"histogram2dcontour\"}],\"mesh3d\":[{\"colorbar\":{\"outlinewidth\":0,\"ticks\":\"\"},\"type\":\"mesh3d\"}],\"parcoords\":[{\"line\":{\"colorbar\":{\"outlinewidth\":0,\"ticks\":\"\"}},\"type\":\"parcoords\"}],\"pie\":[{\"automargin\":true,\"type\":\"pie\"}],\"scatter\":[{\"marker\":{\"colorbar\":{\"outlinewidth\":0,\"ticks\":\"\"}},\"type\":\"scatter\"}],\"scatter3d\":[{\"line\":{\"colorbar\":{\"outlinewidth\":0,\"ticks\":\"\"}},\"marker\":{\"colorbar\":{\"outlinewidth\":0,\"ticks\":\"\"}},\"type\":\"scatter3d\"}],\"scattercarpet\":[{\"marker\":{\"colorbar\":{\"outlinewidth\":0,\"ticks\":\"\"}},\"type\":\"scattercarpet\"}],\"scattergeo\":[{\"marker\":{\"colorbar\":{\"outlinewidth\":0,\"ticks\":\"\"}},\"type\":\"scattergeo\"}],\"scattergl\":[{\"marker\":{\"colorbar\":{\"outlinewidth\":0,\"ticks\":\"\"}},\"type\":\"scattergl\"}],\"scattermapbox\":[{\"marker\":{\"colorbar\":{\"outlinewidth\":0,\"ticks\":\"\"}},\"type\":\"scattermapbox\"}],\"scatterpolar\":[{\"marker\":{\"colorbar\":{\"outlinewidth\":0,\"ticks\":\"\"}},\"type\":\"scatterpolar\"}],\"scatterpolargl\":[{\"marker\":{\"colorbar\":{\"outlinewidth\":0,\"ticks\":\"\"}},\"type\":\"scatterpolargl\"}],\"scatterternary\":[{\"marker\":{\"colorbar\":{\"outlinewidth\":0,\"ticks\":\"\"}},\"type\":\"scatterternary\"}],\"surface\":[{\"colorbar\":{\"outlinewidth\":0,\"ticks\":\"\"},\"colorscale\":[[0.0,\"#0d0887\"],[0.1111111111111111,\"#46039f\"],[0.2222222222222222,\"#7201a8\"],[0.3333333333333333,\"#9c179e\"],[0.4444444444444444,\"#bd3786\"],[0.5555555555555556,\"#d8576b\"],[0.6666666666666666,\"#ed7953\"],[0.7777777777777778,\"#fb9f3a\"],[0.8888888888888888,\"#fdca26\"],[1.0,\"#f0f921\"]],\"type\":\"surface\"}],\"table\":[{\"cells\":{\"fill\":{\"color\":\"#EBF0F8\"},\"line\":{\"color\":\"white\"}},\"header\":{\"fill\":{\"color\":\"#C8D4E3\"},\"line\":{\"color\":\"white\"}},\"type\":\"table\"}]},\"layout\":{\"annotationdefaults\":{\"arrowcolor\":\"#2a3f5f\",\"arrowhead\":0,\"arrowwidth\":1},\"autotypenumbers\":\"strict\",\"coloraxis\":{\"colorbar\":{\"outlinewidth\":0,\"ticks\":\"\"}},\"colorscale\":{\"diverging\":[[0,\"#8e0152\"],[0.1,\"#c51b7d\"],[0.2,\"#de77ae\"],[0.3,\"#f1b6da\"],[0.4,\"#fde0ef\"],[0.5,\"#f7f7f7\"],[0.6,\"#e6f5d0\"],[0.7,\"#b8e186\"],[0.8,\"#7fbc41\"],[0.9,\"#4d9221\"],[1,\"#276419\"]],\"sequential\":[[0.0,\"#0d0887\"],[0.1111111111111111,\"#46039f\"],[0.2222222222222222,\"#7201a8\"],[0.3333333333333333,\"#9c179e\"],[0.4444444444444444,\"#bd3786\"],[0.5555555555555556,\"#d8576b\"],[0.6666666666666666,\"#ed7953\"],[0.7777777777777778,\"#fb9f3a\"],[0.8888888888888888,\"#fdca26\"],[1.0,\"#f0f921\"]],\"sequentialminus\":[[0.0,\"#0d0887\"],[0.1111111111111111,\"#46039f\"],[0.2222222222222222,\"#7201a8\"],[0.3333333333333333,\"#9c179e\"],[0.4444444444444444,\"#bd3786\"],[0.5555555555555556,\"#d8576b\"],[0.6666666666666666,\"#ed7953\"],[0.7777777777777778,\"#fb9f3a\"],[0.8888888888888888,\"#fdca26\"],[1.0,\"#f0f921\"]]},\"colorway\":[\"#636efa\",\"#EF553B\",\"#00cc96\",\"#ab63fa\",\"#FFA15A\",\"#19d3f3\",\"#FF6692\",\"#B6E880\",\"#FF97FF\",\"#FECB52\"],\"font\":{\"color\":\"#2a3f5f\"},\"geo\":{\"bgcolor\":\"white\",\"lakecolor\":\"white\",\"landcolor\":\"#E5ECF6\",\"showlakes\":true,\"showland\":true,\"subunitcolor\":\"white\"},\"hoverlabel\":{\"align\":\"left\"},\"hovermode\":\"closest\",\"mapbox\":{\"style\":\"light\"},\"paper_bgcolor\":\"white\",\"plot_bgcolor\":\"#E5ECF6\",\"polar\":{\"angularaxis\":{\"gridcolor\":\"white\",\"linecolor\":\"white\",\"ticks\":\"\"},\"bgcolor\":\"#E5ECF6\",\"radialaxis\":{\"gridcolor\":\"white\",\"linecolor\":\"white\",\"ticks\":\"\"}},\"scene\":{\"xaxis\":{\"backgroundcolor\":\"#E5ECF6\",\"gridcolor\":\"white\",\"gridwidth\":2,\"linecolor\":\"white\",\"showbackground\":true,\"ticks\":\"\",\"zerolinecolor\":\"white\"},\"yaxis\":{\"backgroundcolor\":\"#E5ECF6\",\"gridcolor\":\"white\",\"gridwidth\":2,\"linecolor\":\"white\",\"showbackground\":true,\"ticks\":\"\",\"zerolinecolor\":\"white\"},\"zaxis\":{\"backgroundcolor\":\"#E5ECF6\",\"gridcolor\":\"white\",\"gridwidth\":2,\"linecolor\":\"white\",\"showbackground\":true,\"ticks\":\"\",\"zerolinecolor\":\"white\"}},\"shapedefaults\":{\"line\":{\"color\":\"#2a3f5f\"}},\"ternary\":{\"aaxis\":{\"gridcolor\":\"white\",\"linecolor\":\"white\",\"ticks\":\"\"},\"baxis\":{\"gridcolor\":\"white\",\"linecolor\":\"white\",\"ticks\":\"\"},\"bgcolor\":\"#E5ECF6\",\"caxis\":{\"gridcolor\":\"white\",\"linecolor\":\"white\",\"ticks\":\"\"}},\"title\":{\"x\":0.05},\"xaxis\":{\"automargin\":true,\"gridcolor\":\"white\",\"linecolor\":\"white\",\"ticks\":\"\",\"title\":{\"standoff\":15},\"zerolinecolor\":\"white\",\"zerolinewidth\":2},\"yaxis\":{\"automargin\":true,\"gridcolor\":\"white\",\"linecolor\":\"white\",\"ticks\":\"\",\"title\":{\"standoff\":15},\"zerolinecolor\":\"white\",\"zerolinewidth\":2}}},\"xaxis\":{\"anchor\":\"y\",\"domain\":[0.0,1.0],\"title\":{\"text\":\"Categories\"}},\"yaxis\":{\"anchor\":\"x\",\"domain\":[0.0,1.0],\"title\":{\"text\":\"Count\"}},\"legend\":{\"tracegroupgap\":0},\"title\":{\"text\":\"Top 25 categories\"},\"barmode\":\"relative\"},                        {\"responsive\": true}                    ).then(function(){\n",
              "                            \n",
              "var gd = document.getElementById('59767f86-f95a-426d-91cd-3a660f7a554a');\n",
              "var x = new MutationObserver(function (mutations, observer) {{\n",
              "        var display = window.getComputedStyle(gd).display;\n",
              "        if (!display || display === 'none') {{\n",
              "            console.log([gd, 'removed!']);\n",
              "            Plotly.purge(gd);\n",
              "            observer.disconnect();\n",
              "        }}\n",
              "}});\n",
              "\n",
              "// Listen for the removal of the full notebook cells\n",
              "var notebookContainer = gd.closest('#notebook-container');\n",
              "if (notebookContainer) {{\n",
              "    x.observe(notebookContainer, {childList: true});\n",
              "}}\n",
              "\n",
              "// Listen for the clearing of the current output cell\n",
              "var outputEl = gd.closest('.output');\n",
              "if (outputEl) {{\n",
              "    x.observe(outputEl, {childList: true});\n",
              "}}\n",
              "\n",
              "                        })                };                            </script>        </div>\n",
              "</body>\n",
              "</html>"
            ]
          },
          "metadata": {}
        },
        {
          "output_type": "display_data",
          "data": {
            "text/plain": [
              "<Figure size 4320x1728 with 0 Axes>"
            ]
          },
          "metadata": {}
        }
      ]
    },
    {
      "cell_type": "code",
      "source": [
        "raw['date'] = pd.to_datetime(raw['date'])"
      ],
      "metadata": {
        "id": "we7ygk0ffG_c"
      },
      "execution_count": null,
      "outputs": []
    },
    {
      "cell_type": "code",
      "source": [
        "raw['year'] = raw['date'].dt.year"
      ],
      "metadata": {
        "id": "UIMLq2ocyfkc"
      },
      "execution_count": null,
      "outputs": []
    },
    {
      "cell_type": "code",
      "source": [
        "plt.figure(figsize=(32,24));\n",
        "\n",
        "fig = px.bar(x = raw.year.value_counts().index, y = raw.year.value_counts(), labels = {\n",
        "    \"x\": \"Year\", #Setting x label to categories\n",
        "    \"y\": \"Count\"}, #Setting y label to count\n",
        "    title = \"*Year of publication*\"); #Setting the title\n",
        "fig.show(renderer=\"colab\");"
      ],
      "metadata": {
        "id": "eUGdMI9IzFqY",
        "colab": {
          "base_uri": "https://localhost:8080/",
          "height": 560
        },
        "outputId": "6f7346b5-3493-4dcb-a5e6-91459b4cb0d8"
      },
      "execution_count": null,
      "outputs": [
        {
          "output_type": "display_data",
          "data": {
            "text/html": [
              "<html>\n",
              "<head><meta charset=\"utf-8\" /></head>\n",
              "<body>\n",
              "    <div>            <script src=\"https://cdnjs.cloudflare.com/ajax/libs/mathjax/2.7.5/MathJax.js?config=TeX-AMS-MML_SVG\"></script><script type=\"text/javascript\">if (window.MathJax) {MathJax.Hub.Config({SVG: {font: \"STIX-Web\"}});}</script>                <script type=\"text/javascript\">window.PlotlyConfig = {MathJaxConfig: 'local'};</script>\n",
              "        <script src=\"https://cdn.plot.ly/plotly-2.9.0.min.js\"></script>                <div id=\"fcb89ac4-bbb8-4cef-be77-93beef9a609e\" class=\"plotly-graph-div\" style=\"height:525px; width:100%;\"></div>            <script type=\"text/javascript\">                                    window.PLOTLYENV=window.PLOTLYENV || {};                                    if (document.getElementById(\"fcb89ac4-bbb8-4cef-be77-93beef9a609e\")) {                    Plotly.newPlot(                        \"fcb89ac4-bbb8-4cef-be77-93beef9a609e\",                        [{\"alignmentgroup\":\"True\",\"hovertemplate\":\"Year=%{x}<br>Count=%{y}<extra></extra>\",\"legendgroup\":\"\",\"marker\":{\"color\":\"#636efa\",\"pattern\":{\"shape\":\"\"}},\"name\":\"\",\"offsetgroup\":\"\",\"orientation\":\"v\",\"showlegend\":false,\"textposition\":\"auto\",\"x\":[2013,2012,2016,2017,2015,2014,2018],\"xaxis\":\"x\",\"y\":[34536,31277,31200,29753,24799,20972,8583],\"yaxis\":\"y\",\"type\":\"bar\"}],                        {\"template\":{\"data\":{\"bar\":[{\"error_x\":{\"color\":\"#2a3f5f\"},\"error_y\":{\"color\":\"#2a3f5f\"},\"marker\":{\"line\":{\"color\":\"#E5ECF6\",\"width\":0.5},\"pattern\":{\"fillmode\":\"overlay\",\"size\":10,\"solidity\":0.2}},\"type\":\"bar\"}],\"barpolar\":[{\"marker\":{\"line\":{\"color\":\"#E5ECF6\",\"width\":0.5},\"pattern\":{\"fillmode\":\"overlay\",\"size\":10,\"solidity\":0.2}},\"type\":\"barpolar\"}],\"carpet\":[{\"aaxis\":{\"endlinecolor\":\"#2a3f5f\",\"gridcolor\":\"white\",\"linecolor\":\"white\",\"minorgridcolor\":\"white\",\"startlinecolor\":\"#2a3f5f\"},\"baxis\":{\"endlinecolor\":\"#2a3f5f\",\"gridcolor\":\"white\",\"linecolor\":\"white\",\"minorgridcolor\":\"white\",\"startlinecolor\":\"#2a3f5f\"},\"type\":\"carpet\"}],\"choropleth\":[{\"colorbar\":{\"outlinewidth\":0,\"ticks\":\"\"},\"type\":\"choropleth\"}],\"contour\":[{\"colorbar\":{\"outlinewidth\":0,\"ticks\":\"\"},\"colorscale\":[[0.0,\"#0d0887\"],[0.1111111111111111,\"#46039f\"],[0.2222222222222222,\"#7201a8\"],[0.3333333333333333,\"#9c179e\"],[0.4444444444444444,\"#bd3786\"],[0.5555555555555556,\"#d8576b\"],[0.6666666666666666,\"#ed7953\"],[0.7777777777777778,\"#fb9f3a\"],[0.8888888888888888,\"#fdca26\"],[1.0,\"#f0f921\"]],\"type\":\"contour\"}],\"contourcarpet\":[{\"colorbar\":{\"outlinewidth\":0,\"ticks\":\"\"},\"type\":\"contourcarpet\"}],\"heatmap\":[{\"colorbar\":{\"outlinewidth\":0,\"ticks\":\"\"},\"colorscale\":[[0.0,\"#0d0887\"],[0.1111111111111111,\"#46039f\"],[0.2222222222222222,\"#7201a8\"],[0.3333333333333333,\"#9c179e\"],[0.4444444444444444,\"#bd3786\"],[0.5555555555555556,\"#d8576b\"],[0.6666666666666666,\"#ed7953\"],[0.7777777777777778,\"#fb9f3a\"],[0.8888888888888888,\"#fdca26\"],[1.0,\"#f0f921\"]],\"type\":\"heatmap\"}],\"heatmapgl\":[{\"colorbar\":{\"outlinewidth\":0,\"ticks\":\"\"},\"colorscale\":[[0.0,\"#0d0887\"],[0.1111111111111111,\"#46039f\"],[0.2222222222222222,\"#7201a8\"],[0.3333333333333333,\"#9c179e\"],[0.4444444444444444,\"#bd3786\"],[0.5555555555555556,\"#d8576b\"],[0.6666666666666666,\"#ed7953\"],[0.7777777777777778,\"#fb9f3a\"],[0.8888888888888888,\"#fdca26\"],[1.0,\"#f0f921\"]],\"type\":\"heatmapgl\"}],\"histogram\":[{\"marker\":{\"pattern\":{\"fillmode\":\"overlay\",\"size\":10,\"solidity\":0.2}},\"type\":\"histogram\"}],\"histogram2d\":[{\"colorbar\":{\"outlinewidth\":0,\"ticks\":\"\"},\"colorscale\":[[0.0,\"#0d0887\"],[0.1111111111111111,\"#46039f\"],[0.2222222222222222,\"#7201a8\"],[0.3333333333333333,\"#9c179e\"],[0.4444444444444444,\"#bd3786\"],[0.5555555555555556,\"#d8576b\"],[0.6666666666666666,\"#ed7953\"],[0.7777777777777778,\"#fb9f3a\"],[0.8888888888888888,\"#fdca26\"],[1.0,\"#f0f921\"]],\"type\":\"histogram2d\"}],\"histogram2dcontour\":[{\"colorbar\":{\"outlinewidth\":0,\"ticks\":\"\"},\"colorscale\":[[0.0,\"#0d0887\"],[0.1111111111111111,\"#46039f\"],[0.2222222222222222,\"#7201a8\"],[0.3333333333333333,\"#9c179e\"],[0.4444444444444444,\"#bd3786\"],[0.5555555555555556,\"#d8576b\"],[0.6666666666666666,\"#ed7953\"],[0.7777777777777778,\"#fb9f3a\"],[0.8888888888888888,\"#fdca26\"],[1.0,\"#f0f921\"]],\"type\":\"histogram2dcontour\"}],\"mesh3d\":[{\"colorbar\":{\"outlinewidth\":0,\"ticks\":\"\"},\"type\":\"mesh3d\"}],\"parcoords\":[{\"line\":{\"colorbar\":{\"outlinewidth\":0,\"ticks\":\"\"}},\"type\":\"parcoords\"}],\"pie\":[{\"automargin\":true,\"type\":\"pie\"}],\"scatter\":[{\"marker\":{\"colorbar\":{\"outlinewidth\":0,\"ticks\":\"\"}},\"type\":\"scatter\"}],\"scatter3d\":[{\"line\":{\"colorbar\":{\"outlinewidth\":0,\"ticks\":\"\"}},\"marker\":{\"colorbar\":{\"outlinewidth\":0,\"ticks\":\"\"}},\"type\":\"scatter3d\"}],\"scattercarpet\":[{\"marker\":{\"colorbar\":{\"outlinewidth\":0,\"ticks\":\"\"}},\"type\":\"scattercarpet\"}],\"scattergeo\":[{\"marker\":{\"colorbar\":{\"outlinewidth\":0,\"ticks\":\"\"}},\"type\":\"scattergeo\"}],\"scattergl\":[{\"marker\":{\"colorbar\":{\"outlinewidth\":0,\"ticks\":\"\"}},\"type\":\"scattergl\"}],\"scattermapbox\":[{\"marker\":{\"colorbar\":{\"outlinewidth\":0,\"ticks\":\"\"}},\"type\":\"scattermapbox\"}],\"scatterpolar\":[{\"marker\":{\"colorbar\":{\"outlinewidth\":0,\"ticks\":\"\"}},\"type\":\"scatterpolar\"}],\"scatterpolargl\":[{\"marker\":{\"colorbar\":{\"outlinewidth\":0,\"ticks\":\"\"}},\"type\":\"scatterpolargl\"}],\"scatterternary\":[{\"marker\":{\"colorbar\":{\"outlinewidth\":0,\"ticks\":\"\"}},\"type\":\"scatterternary\"}],\"surface\":[{\"colorbar\":{\"outlinewidth\":0,\"ticks\":\"\"},\"colorscale\":[[0.0,\"#0d0887\"],[0.1111111111111111,\"#46039f\"],[0.2222222222222222,\"#7201a8\"],[0.3333333333333333,\"#9c179e\"],[0.4444444444444444,\"#bd3786\"],[0.5555555555555556,\"#d8576b\"],[0.6666666666666666,\"#ed7953\"],[0.7777777777777778,\"#fb9f3a\"],[0.8888888888888888,\"#fdca26\"],[1.0,\"#f0f921\"]],\"type\":\"surface\"}],\"table\":[{\"cells\":{\"fill\":{\"color\":\"#EBF0F8\"},\"line\":{\"color\":\"white\"}},\"header\":{\"fill\":{\"color\":\"#C8D4E3\"},\"line\":{\"color\":\"white\"}},\"type\":\"table\"}]},\"layout\":{\"annotationdefaults\":{\"arrowcolor\":\"#2a3f5f\",\"arrowhead\":0,\"arrowwidth\":1},\"autotypenumbers\":\"strict\",\"coloraxis\":{\"colorbar\":{\"outlinewidth\":0,\"ticks\":\"\"}},\"colorscale\":{\"diverging\":[[0,\"#8e0152\"],[0.1,\"#c51b7d\"],[0.2,\"#de77ae\"],[0.3,\"#f1b6da\"],[0.4,\"#fde0ef\"],[0.5,\"#f7f7f7\"],[0.6,\"#e6f5d0\"],[0.7,\"#b8e186\"],[0.8,\"#7fbc41\"],[0.9,\"#4d9221\"],[1,\"#276419\"]],\"sequential\":[[0.0,\"#0d0887\"],[0.1111111111111111,\"#46039f\"],[0.2222222222222222,\"#7201a8\"],[0.3333333333333333,\"#9c179e\"],[0.4444444444444444,\"#bd3786\"],[0.5555555555555556,\"#d8576b\"],[0.6666666666666666,\"#ed7953\"],[0.7777777777777778,\"#fb9f3a\"],[0.8888888888888888,\"#fdca26\"],[1.0,\"#f0f921\"]],\"sequentialminus\":[[0.0,\"#0d0887\"],[0.1111111111111111,\"#46039f\"],[0.2222222222222222,\"#7201a8\"],[0.3333333333333333,\"#9c179e\"],[0.4444444444444444,\"#bd3786\"],[0.5555555555555556,\"#d8576b\"],[0.6666666666666666,\"#ed7953\"],[0.7777777777777778,\"#fb9f3a\"],[0.8888888888888888,\"#fdca26\"],[1.0,\"#f0f921\"]]},\"colorway\":[\"#636efa\",\"#EF553B\",\"#00cc96\",\"#ab63fa\",\"#FFA15A\",\"#19d3f3\",\"#FF6692\",\"#B6E880\",\"#FF97FF\",\"#FECB52\"],\"font\":{\"color\":\"#2a3f5f\"},\"geo\":{\"bgcolor\":\"white\",\"lakecolor\":\"white\",\"landcolor\":\"#E5ECF6\",\"showlakes\":true,\"showland\":true,\"subunitcolor\":\"white\"},\"hoverlabel\":{\"align\":\"left\"},\"hovermode\":\"closest\",\"mapbox\":{\"style\":\"light\"},\"paper_bgcolor\":\"white\",\"plot_bgcolor\":\"#E5ECF6\",\"polar\":{\"angularaxis\":{\"gridcolor\":\"white\",\"linecolor\":\"white\",\"ticks\":\"\"},\"bgcolor\":\"#E5ECF6\",\"radialaxis\":{\"gridcolor\":\"white\",\"linecolor\":\"white\",\"ticks\":\"\"}},\"scene\":{\"xaxis\":{\"backgroundcolor\":\"#E5ECF6\",\"gridcolor\":\"white\",\"gridwidth\":2,\"linecolor\":\"white\",\"showbackground\":true,\"ticks\":\"\",\"zerolinecolor\":\"white\"},\"yaxis\":{\"backgroundcolor\":\"#E5ECF6\",\"gridcolor\":\"white\",\"gridwidth\":2,\"linecolor\":\"white\",\"showbackground\":true,\"ticks\":\"\",\"zerolinecolor\":\"white\"},\"zaxis\":{\"backgroundcolor\":\"#E5ECF6\",\"gridcolor\":\"white\",\"gridwidth\":2,\"linecolor\":\"white\",\"showbackground\":true,\"ticks\":\"\",\"zerolinecolor\":\"white\"}},\"shapedefaults\":{\"line\":{\"color\":\"#2a3f5f\"}},\"ternary\":{\"aaxis\":{\"gridcolor\":\"white\",\"linecolor\":\"white\",\"ticks\":\"\"},\"baxis\":{\"gridcolor\":\"white\",\"linecolor\":\"white\",\"ticks\":\"\"},\"bgcolor\":\"#E5ECF6\",\"caxis\":{\"gridcolor\":\"white\",\"linecolor\":\"white\",\"ticks\":\"\"}},\"title\":{\"x\":0.05},\"xaxis\":{\"automargin\":true,\"gridcolor\":\"white\",\"linecolor\":\"white\",\"ticks\":\"\",\"title\":{\"standoff\":15},\"zerolinecolor\":\"white\",\"zerolinewidth\":2},\"yaxis\":{\"automargin\":true,\"gridcolor\":\"white\",\"linecolor\":\"white\",\"ticks\":\"\",\"title\":{\"standoff\":15},\"zerolinecolor\":\"white\",\"zerolinewidth\":2}}},\"xaxis\":{\"anchor\":\"y\",\"domain\":[0.0,1.0],\"title\":{\"text\":\"Year\"}},\"yaxis\":{\"anchor\":\"x\",\"domain\":[0.0,1.0],\"title\":{\"text\":\"Count\"}},\"legend\":{\"tracegroupgap\":0},\"title\":{\"text\":\"*Year of publication*\"},\"barmode\":\"relative\"},                        {\"responsive\": true}                    ).then(function(){\n",
              "                            \n",
              "var gd = document.getElementById('fcb89ac4-bbb8-4cef-be77-93beef9a609e');\n",
              "var x = new MutationObserver(function (mutations, observer) {{\n",
              "        var display = window.getComputedStyle(gd).display;\n",
              "        if (!display || display === 'none') {{\n",
              "            console.log([gd, 'removed!']);\n",
              "            Plotly.purge(gd);\n",
              "            observer.disconnect();\n",
              "        }}\n",
              "}});\n",
              "\n",
              "// Listen for the removal of the full notebook cells\n",
              "var notebookContainer = gd.closest('#notebook-container');\n",
              "if (notebookContainer) {{\n",
              "    x.observe(notebookContainer, {childList: true});\n",
              "}}\n",
              "\n",
              "// Listen for the clearing of the current output cell\n",
              "var outputEl = gd.closest('.output');\n",
              "if (outputEl) {{\n",
              "    x.observe(outputEl, {childList: true});\n",
              "}}\n",
              "\n",
              "                        })                };                            </script>        </div>\n",
              "</body>\n",
              "</html>"
            ]
          },
          "metadata": {}
        },
        {
          "output_type": "display_data",
          "data": {
            "text/plain": [
              "<Figure size 2304x1728 with 0 Axes>"
            ]
          },
          "metadata": {}
        }
      ]
    },
    {
      "cell_type": "markdown",
      "source": [
        "# Combining Similar Categories"
      ],
      "metadata": {
        "id": "mAKIXnAp1OfN"
      }
    },
    {
      "cell_type": "code",
      "source": [
        "raw.category.unique()"
      ],
      "metadata": {
        "id": "y35HVAoG1NSx",
        "colab": {
          "base_uri": "https://localhost:8080/"
        },
        "outputId": "fe1f6d8a-bf7f-4d0e-b60f-1c30d3f93b31"
      },
      "execution_count": null,
      "outputs": [
        {
          "output_type": "execute_result",
          "data": {
            "text/plain": [
              "array(['CRIME', 'ENTERTAINMENT', 'WORLD NEWS', 'IMPACT', 'POLITICS',\n",
              "       'WEIRD NEWS', 'BLACK VOICES', 'WOMEN', 'COMEDY', 'QUEER VOICES',\n",
              "       'SPORTS', 'BUSINESS', 'TRAVEL', 'MEDIA', 'TECH', 'RELIGION',\n",
              "       'SCIENCE', 'LATINO VOICES', 'EDUCATION', 'COLLEGE', 'PARENTS',\n",
              "       'ARTS & CULTURE', 'STYLE', 'GREEN', 'TASTE', 'HEALTHY LIVING',\n",
              "       'THE WORLDPOST', 'GOOD NEWS', 'WORLDPOST', 'FIFTY', 'ARTS',\n",
              "       'WELLNESS', 'PARENTING', 'HOME & LIVING', 'STYLE & BEAUTY',\n",
              "       'DIVORCE', 'WEDDINGS', 'FOOD & DRINK', 'MONEY', 'ENVIRONMENT',\n",
              "       'CULTURE & ARTS'], dtype=object)"
            ]
          },
          "metadata": {},
          "execution_count": 16
        }
      ]
    },
    {
      "cell_type": "code",
      "source": [
        "pd.set_option('display.max_rows', 5)\n",
        "pd.set_option('display.max_columns', None)\n",
        "pd.set_option('display.width', None)\n",
        "pd.set_option('display.max_colwidth', None)"
      ],
      "metadata": {
        "id": "3yAX4la_27Sq"
      },
      "execution_count": null,
      "outputs": []
    },
    {
      "cell_type": "code",
      "source": [
        "raw.loc[raw['category'] == 'FIFTY'].sample(5)"
      ],
      "metadata": {
        "id": "msj5vczD-Hh3",
        "colab": {
          "base_uri": "https://localhost:8080/",
          "height": 466
        },
        "outputId": "34c476ce-1bc7-4283-bb8e-5b09afda750a"
      },
      "execution_count": null,
      "outputs": [
        {
          "output_type": "execute_result",
          "data": {
            "text/plain": [
              "       category  \\\n",
              "123290    FIFTY   \n",
              "93543     FIFTY   \n",
              "100357    FIFTY   \n",
              "114367    FIFTY   \n",
              "91899     FIFTY   \n",
              "\n",
              "                                                                      headline  \\\n",
              "123290  Why I Didn't Feel Like A 'Real' Mother Until My Kids Hit Middle School   \n",
              "93543                    How Constant Praise May Be Damaging Our Grandchildren   \n",
              "100357     The Verdict Is In: Obamacare Is Working Exactly As The Law Intended   \n",
              "114367                                                        A Freeway Detour   \n",
              "91899                               Dear Human: A Desperate Plea From Your Dog   \n",
              "\n",
              "                                                                                                 authors  \\\n",
              "123290                         Donna Highfill, ContributorWriter, Coach, Humorist, and Change Consultant   \n",
              "93543                              Donne Davis, ContributorAuthor, \"When Being a Grandma Isn't So Grand\"   \n",
              "100357                                   Buck Wargo, ContributorBuck Wargo, Sr. Editor | NowItCounts.com   \n",
              "114367                                                         Rob Hiaasen, ContributorColumnist, Editor   \n",
              "91899   Janet Eve Josselyn, ContributorArchitect, attorney, badass mother writer and the author of an...   \n",
              "\n",
              "                                                                                                             link  \\\n",
              "123290                             https://www.huffingtonpost.com/entry/different-kinds-of-mothers_b_5269266.html   \n",
              "93543   https://www.huffingtonpost.com/entry/how-constant-praise-may-be-damaging-our-grandchildren_b_7021158.html   \n",
              "100357                              https://www.huffingtonpost.com/entry/the-verdict-is-in-obamaca_b_6533878.html   \n",
              "114367                                       https://www.huffingtonpost.com/entry/a-freeway-detour_b_5682467.html   \n",
              "91899                                 https://www.huffingtonpost.com/entry/desperate-plea-from-dog_b_7143016.html   \n",
              "\n",
              "                                                                                                                                                                                                                                                                                                                        short_description  \\\n",
              "123290  Disclaimer: I think my children are the greatest two contributions I will ever make to this crazy world. But motherhood has not always been apple pie for me, because as a mother I felt responsible for making the pie, and I'm one of those women who would rather face a criminal on the streets than a stove ripe for action.   \n",
              "93543                                      Over the past three generations, theories about self-esteem have dramatically changed. Now the pendulum has swung in the opposite direction and it turns out my grandparents may have been on to something. There is mounting evidence that constant praise may be damaging our grandchildren.   \n",
              "100357                                Prior to the enactment of the Affordable Care Act, those 50 and older, if they could get coverage, faced premiums several times higher than those who are younger and in better health. That same group is also now eligible for subsides that help lower the cost to make it even more affordable.   \n",
              "114367                                             I stopped, pulled over and walked back to the dog. He was still standing guard on the bridge. As I approached, he began barking, then jumped down behind the bridge and started to run. I turned my back and sat on the bridge to see if the dog would settle down. I was in no hurry.   \n",
              "91899                                    We are in danger. We need to get out of this house and away from the cat. He is a psychopath. Did you see what he did to that mouse? Torture and dismemberment are activities associated with antisocial personality disorders. And he exhibits no remorse or guilt. He's not right in the head.   \n",
              "\n",
              "             date  year  \n",
              "123290 2014-05-08  2014  \n",
              "93543  2015-04-15  2015  \n",
              "100357 2015-01-26  2015  \n",
              "114367 2014-08-18  2014  \n",
              "91899  2015-05-04  2015  "
            ],
            "text/html": [
              "<div>\n",
              "<style scoped>\n",
              "    .dataframe tbody tr th:only-of-type {\n",
              "        vertical-align: middle;\n",
              "    }\n",
              "\n",
              "    .dataframe tbody tr th {\n",
              "        vertical-align: top;\n",
              "    }\n",
              "\n",
              "    .dataframe thead th {\n",
              "        text-align: right;\n",
              "    }\n",
              "</style>\n",
              "<table border=\"1\" class=\"dataframe\">\n",
              "  <thead>\n",
              "    <tr style=\"text-align: right;\">\n",
              "      <th></th>\n",
              "      <th>category</th>\n",
              "      <th>headline</th>\n",
              "      <th>authors</th>\n",
              "      <th>link</th>\n",
              "      <th>short_description</th>\n",
              "      <th>date</th>\n",
              "      <th>year</th>\n",
              "    </tr>\n",
              "  </thead>\n",
              "  <tbody>\n",
              "    <tr>\n",
              "      <th>123290</th>\n",
              "      <td>FIFTY</td>\n",
              "      <td>Why I Didn't Feel Like A 'Real' Mother Until My Kids Hit Middle School</td>\n",
              "      <td>Donna Highfill, ContributorWriter, Coach, Humorist, and Change Consultant</td>\n",
              "      <td>https://www.huffingtonpost.com/entry/different-kinds-of-mothers_b_5269266.html</td>\n",
              "      <td>Disclaimer: I think my children are the greatest two contributions I will ever make to this crazy world. But motherhood has not always been apple pie for me, because as a mother I felt responsible for making the pie, and I'm one of those women who would rather face a criminal on the streets than a stove ripe for action.</td>\n",
              "      <td>2014-05-08</td>\n",
              "      <td>2014</td>\n",
              "    </tr>\n",
              "    <tr>\n",
              "      <th>93543</th>\n",
              "      <td>FIFTY</td>\n",
              "      <td>How Constant Praise May Be Damaging Our Grandchildren</td>\n",
              "      <td>Donne Davis, ContributorAuthor, \"When Being a Grandma Isn't So Grand\"</td>\n",
              "      <td>https://www.huffingtonpost.com/entry/how-constant-praise-may-be-damaging-our-grandchildren_b_7021158.html</td>\n",
              "      <td>Over the past three generations, theories about self-esteem have dramatically changed. Now the pendulum has swung in the opposite direction and it turns out my grandparents may have been on to something. There is mounting evidence that constant praise may be damaging our grandchildren.</td>\n",
              "      <td>2015-04-15</td>\n",
              "      <td>2015</td>\n",
              "    </tr>\n",
              "    <tr>\n",
              "      <th>100357</th>\n",
              "      <td>FIFTY</td>\n",
              "      <td>The Verdict Is In: Obamacare Is Working Exactly As The Law Intended</td>\n",
              "      <td>Buck Wargo, ContributorBuck Wargo, Sr. Editor | NowItCounts.com</td>\n",
              "      <td>https://www.huffingtonpost.com/entry/the-verdict-is-in-obamaca_b_6533878.html</td>\n",
              "      <td>Prior to the enactment of the Affordable Care Act, those 50 and older, if they could get coverage, faced premiums several times higher than those who are younger and in better health. That same group is also now eligible for subsides that help lower the cost to make it even more affordable.</td>\n",
              "      <td>2015-01-26</td>\n",
              "      <td>2015</td>\n",
              "    </tr>\n",
              "    <tr>\n",
              "      <th>114367</th>\n",
              "      <td>FIFTY</td>\n",
              "      <td>A Freeway Detour</td>\n",
              "      <td>Rob Hiaasen, ContributorColumnist, Editor</td>\n",
              "      <td>https://www.huffingtonpost.com/entry/a-freeway-detour_b_5682467.html</td>\n",
              "      <td>I stopped, pulled over and walked back to the dog. He was still standing guard on the bridge. As I approached, he began barking, then jumped down behind the bridge and started to run. I turned my back and sat on the bridge to see if the dog would settle down. I was in no hurry.</td>\n",
              "      <td>2014-08-18</td>\n",
              "      <td>2014</td>\n",
              "    </tr>\n",
              "    <tr>\n",
              "      <th>91899</th>\n",
              "      <td>FIFTY</td>\n",
              "      <td>Dear Human: A Desperate Plea From Your Dog</td>\n",
              "      <td>Janet Eve Josselyn, ContributorArchitect, attorney, badass mother writer and the author of an...</td>\n",
              "      <td>https://www.huffingtonpost.com/entry/desperate-plea-from-dog_b_7143016.html</td>\n",
              "      <td>We are in danger. We need to get out of this house and away from the cat. He is a psychopath. Did you see what he did to that mouse? Torture and dismemberment are activities associated with antisocial personality disorders. And he exhibits no remorse or guilt. He's not right in the head.</td>\n",
              "      <td>2015-05-04</td>\n",
              "      <td>2015</td>\n",
              "    </tr>\n",
              "  </tbody>\n",
              "</table>\n",
              "</div>"
            ]
          },
          "metadata": {},
          "execution_count": 18
        }
      ]
    },
    {
      "cell_type": "code",
      "source": [
        "raw.loc[raw['category'] == 'GREEN'].sample(5)"
      ],
      "metadata": {
        "id": "R_6s8NCy9DPL",
        "colab": {
          "base_uri": "https://localhost:8080/",
          "height": 432
        },
        "outputId": "97cfbf1f-0cb6-4823-99bb-70fa4e109fe8"
      },
      "execution_count": null,
      "outputs": [
        {
          "output_type": "execute_result",
          "data": {
            "text/plain": [
              "      category  \\\n",
              "92432    GREEN   \n",
              "54595    GREEN   \n",
              "21214    GREEN   \n",
              "99351    GREEN   \n",
              "45929    GREEN   \n",
              "\n",
              "                                                                                headline  \\\n",
              "92432  A Call to Action on Climate for All Candidates for President of the United States   \n",
              "54595                  Here's Proof We Can Solve Global Environmental Problems If We Try   \n",
              "21214                                               Global Series: Humans In Our Habitat   \n",
              "99351                                           4 Climate-Friendly Valentine's Day Gifts   \n",
              "45929                  Colorful Coral Pulses With Life In This Stunning Time-Lapse Video   \n",
              "\n",
              "                                                                                                     authors  \\\n",
              "92432                                                              Rhea Suh and Gene Karpinski, Contributors   \n",
              "54595                                                                                          Ryan Grenoble   \n",
              "21214  The Conversation Global, ContributorThe Conversation is a collaboration between editors and academ...   \n",
              "99351                          Lori Popkewitz Alper, ContributorFounder, Editor-In-Chief, Groovy Green Livin   \n",
              "45929                                                                                          David Freeman   \n",
              "\n",
              "                                                                                                       link  \\\n",
              "92432                         https://www.huffingtonpost.com/entry/a-call-to-action-on-clima_b_7154944.html   \n",
              "54595   https://www.huffingtonpost.com/entry/ozone-hole-shrinks-montreal-treaty_us_577684c8e4b04164640f9cd8   \n",
              "21214  https://www.huffingtonpost.com/entry/global-series-humans-in-our-habitat_us_596e2ed8e4b0376db8b65b32   \n",
              "99351                         https://www.huffingtonpost.com/entry/4-climatefriendly-valenti_b_6622590.html   \n",
              "45929                 https://www.huffingtonpost.com/entry/colorful-coral-video_us_57f694efe4b00885f2c67a14   \n",
              "\n",
              "                                                                                                                                                                                                                                                                                                                                                short_description  \\\n",
              "92432  Through rising seas, withering drought, catastrophic storms and other hallmarks of climate change, our world is telling us every way it knows how that it's time to cut the dangerous carbon pollution that's driving the climate crisis. Long before history judges our response, voters will decide which candidate best understands the threat we face.   \n",
              "54595                                                                                                                                                                                                                                           \"We can now be confident that the things weâ€™ve done have put the planet on a path to heal,\" one scientist says.   \n",
              "21214                                                                                                                                                                                                                                   On the Tibetan plateau, the village of Yunta is showing that animals and humans can live peacefully together and care for   \n",
              "99351       While discussions of political solutions to climate change are beginning to circulate, we can continue with our own personal efforts to reduce our individual carbon footprints. This Valentine's Day, rather than focusing on those red and chocolate filled aisles, why not look outside the box and give a gift that will truly make a difference.   \n",
              "45929                                                                                                                                                                                                                                                                                                                                                  Beautiful!   \n",
              "\n",
              "            date  year  \n",
              "92432 2015-04-28  2015  \n",
              "54595 2016-07-01  2016  \n",
              "21214 2017-07-18  2017  \n",
              "99351 2015-02-07  2015  \n",
              "45929 2016-10-07  2016  "
            ],
            "text/html": [
              "<div>\n",
              "<style scoped>\n",
              "    .dataframe tbody tr th:only-of-type {\n",
              "        vertical-align: middle;\n",
              "    }\n",
              "\n",
              "    .dataframe tbody tr th {\n",
              "        vertical-align: top;\n",
              "    }\n",
              "\n",
              "    .dataframe thead th {\n",
              "        text-align: right;\n",
              "    }\n",
              "</style>\n",
              "<table border=\"1\" class=\"dataframe\">\n",
              "  <thead>\n",
              "    <tr style=\"text-align: right;\">\n",
              "      <th></th>\n",
              "      <th>category</th>\n",
              "      <th>headline</th>\n",
              "      <th>authors</th>\n",
              "      <th>link</th>\n",
              "      <th>short_description</th>\n",
              "      <th>date</th>\n",
              "      <th>year</th>\n",
              "    </tr>\n",
              "  </thead>\n",
              "  <tbody>\n",
              "    <tr>\n",
              "      <th>92432</th>\n",
              "      <td>GREEN</td>\n",
              "      <td>A Call to Action on Climate for All Candidates for President of the United States</td>\n",
              "      <td>Rhea Suh and Gene Karpinski, Contributors</td>\n",
              "      <td>https://www.huffingtonpost.com/entry/a-call-to-action-on-clima_b_7154944.html</td>\n",
              "      <td>Through rising seas, withering drought, catastrophic storms and other hallmarks of climate change, our world is telling us every way it knows how that it's time to cut the dangerous carbon pollution that's driving the climate crisis. Long before history judges our response, voters will decide which candidate best understands the threat we face.</td>\n",
              "      <td>2015-04-28</td>\n",
              "      <td>2015</td>\n",
              "    </tr>\n",
              "    <tr>\n",
              "      <th>54595</th>\n",
              "      <td>GREEN</td>\n",
              "      <td>Here's Proof We Can Solve Global Environmental Problems If We Try</td>\n",
              "      <td>Ryan Grenoble</td>\n",
              "      <td>https://www.huffingtonpost.com/entry/ozone-hole-shrinks-montreal-treaty_us_577684c8e4b04164640f9cd8</td>\n",
              "      <td>\"We can now be confident that the things weâ€™ve done have put the planet on a path to heal,\" one scientist says.</td>\n",
              "      <td>2016-07-01</td>\n",
              "      <td>2016</td>\n",
              "    </tr>\n",
              "    <tr>\n",
              "      <th>21214</th>\n",
              "      <td>GREEN</td>\n",
              "      <td>Global Series: Humans In Our Habitat</td>\n",
              "      <td>The Conversation Global, ContributorThe Conversation is a collaboration between editors and academ...</td>\n",
              "      <td>https://www.huffingtonpost.com/entry/global-series-humans-in-our-habitat_us_596e2ed8e4b0376db8b65b32</td>\n",
              "      <td>On the Tibetan plateau, the village of Yunta is showing that animals and humans can live peacefully together and care for</td>\n",
              "      <td>2017-07-18</td>\n",
              "      <td>2017</td>\n",
              "    </tr>\n",
              "    <tr>\n",
              "      <th>99351</th>\n",
              "      <td>GREEN</td>\n",
              "      <td>4 Climate-Friendly Valentine's Day Gifts</td>\n",
              "      <td>Lori Popkewitz Alper, ContributorFounder, Editor-In-Chief, Groovy Green Livin</td>\n",
              "      <td>https://www.huffingtonpost.com/entry/4-climatefriendly-valenti_b_6622590.html</td>\n",
              "      <td>While discussions of political solutions to climate change are beginning to circulate, we can continue with our own personal efforts to reduce our individual carbon footprints. This Valentine's Day, rather than focusing on those red and chocolate filled aisles, why not look outside the box and give a gift that will truly make a difference.</td>\n",
              "      <td>2015-02-07</td>\n",
              "      <td>2015</td>\n",
              "    </tr>\n",
              "    <tr>\n",
              "      <th>45929</th>\n",
              "      <td>GREEN</td>\n",
              "      <td>Colorful Coral Pulses With Life In This Stunning Time-Lapse Video</td>\n",
              "      <td>David Freeman</td>\n",
              "      <td>https://www.huffingtonpost.com/entry/colorful-coral-video_us_57f694efe4b00885f2c67a14</td>\n",
              "      <td>Beautiful!</td>\n",
              "      <td>2016-10-07</td>\n",
              "      <td>2016</td>\n",
              "    </tr>\n",
              "  </tbody>\n",
              "</table>\n",
              "</div>"
            ]
          },
          "metadata": {},
          "execution_count": 19
        }
      ]
    },
    {
      "cell_type": "code",
      "source": [
        "raw.loc[raw['category'] == 'QUEER VOICES'].sample(5)"
      ],
      "metadata": {
        "id": "WN-4H7Te87Ni",
        "colab": {
          "base_uri": "https://localhost:8080/",
          "height": 362
        },
        "outputId": "70e4b835-a806-4719-e497-be6d5f4a5bb6"
      },
      "execution_count": null,
      "outputs": [
        {
          "output_type": "execute_result",
          "data": {
            "text/plain": [
              "            category  \\\n",
              "5498    QUEER VOICES   \n",
              "37821   QUEER VOICES   \n",
              "25413   QUEER VOICES   \n",
              "136449  QUEER VOICES   \n",
              "142460  QUEER VOICES   \n",
              "\n",
              "                                                                 headline  \\\n",
              "5498               'RuPaul's Drag Race' Season 10 Premiere Date Announced   \n",
              "37821                  What's It Like To Be Bisexual? The Tough Questions   \n",
              "25413   Russian Retail Store Displays Sign Reading 'No Entry For Faggots'   \n",
              "136449                       Queer New World: Meet Brooklyn's Babes Trust   \n",
              "142460          Allison Moon Talks Girl Sex 101, New Book For Queer Woman   \n",
              "\n",
              "                                                                                              authors  \\\n",
              "5498                                                                            James Michael Nichols   \n",
              "37821   Justin T Weller, ContributorCo-Founder of TrueChat.org, media personality, LGBT+ activist,...   \n",
              "25413                                                                                             NaN   \n",
              "136449                                                                          James Michael Nichols   \n",
              "142460                                                                          James Michael Nichols   \n",
              "\n",
              "                                                                                                                     link  \\\n",
              "5498                         https://www.huffingtonpost.com/entry/rupauls-drag-race-season-10_us_5a86fd19e4b00bc49f437939   \n",
              "37821   https://www.huffingtonpost.com/entry/whats-it-like-to-be-bisexual-the-tough-questions_us_587186c3e4b08052400ee33c   \n",
              "25413                          https://www.huffingtonpost.com/entry/russian-retail-chain-gays_us_592ba40ce4b053f2d2ad4984   \n",
              "136449                         https://www.huffingtonpost.com/entry/babes-trust-brooklyn-drag_us_5bafbf5de4b0ad76926146a8   \n",
              "142460                                      https://www.huffingtonpost.com/entry/girl-sex-101_us_5bafbbeae4b0ad76926108b6   \n",
              "\n",
              "                                                                                                                          short_description  \\\n",
              "5498                                                                          Are you ready for two hours of \"Drag Race\" every single week?   \n",
              "37821                                                                                             We must step out of the closet every day.   \n",
              "25413                                                                        \"Our planet is full of filth and sick humans,\" the owner said.   \n",
              "136449          I'll also be doing a New Years Eve Dance & Drag Party at Secret Project Robot! with my sisters Macy Rodman and SCHWARZ. Any   \n",
              "142460  You describe Girl Sex 101 as a â€œroad trip in a book unlike any other.â€ What do you mean by that? Iâ€™m kind of jokingly calling   \n",
              "\n",
              "             date  year  \n",
              "5498   2018-02-16  2018  \n",
              "37821  2017-01-08  2017  \n",
              "25413  2017-05-29  2017  \n",
              "136449 2013-12-15  2013  \n",
              "142460 2013-10-13  2013  "
            ],
            "text/html": [
              "<div>\n",
              "<style scoped>\n",
              "    .dataframe tbody tr th:only-of-type {\n",
              "        vertical-align: middle;\n",
              "    }\n",
              "\n",
              "    .dataframe tbody tr th {\n",
              "        vertical-align: top;\n",
              "    }\n",
              "\n",
              "    .dataframe thead th {\n",
              "        text-align: right;\n",
              "    }\n",
              "</style>\n",
              "<table border=\"1\" class=\"dataframe\">\n",
              "  <thead>\n",
              "    <tr style=\"text-align: right;\">\n",
              "      <th></th>\n",
              "      <th>category</th>\n",
              "      <th>headline</th>\n",
              "      <th>authors</th>\n",
              "      <th>link</th>\n",
              "      <th>short_description</th>\n",
              "      <th>date</th>\n",
              "      <th>year</th>\n",
              "    </tr>\n",
              "  </thead>\n",
              "  <tbody>\n",
              "    <tr>\n",
              "      <th>5498</th>\n",
              "      <td>QUEER VOICES</td>\n",
              "      <td>'RuPaul's Drag Race' Season 10 Premiere Date Announced</td>\n",
              "      <td>James Michael Nichols</td>\n",
              "      <td>https://www.huffingtonpost.com/entry/rupauls-drag-race-season-10_us_5a86fd19e4b00bc49f437939</td>\n",
              "      <td>Are you ready for two hours of \"Drag Race\" every single week?</td>\n",
              "      <td>2018-02-16</td>\n",
              "      <td>2018</td>\n",
              "    </tr>\n",
              "    <tr>\n",
              "      <th>37821</th>\n",
              "      <td>QUEER VOICES</td>\n",
              "      <td>What's It Like To Be Bisexual? The Tough Questions</td>\n",
              "      <td>Justin T Weller, ContributorCo-Founder of TrueChat.org, media personality, LGBT+ activist,...</td>\n",
              "      <td>https://www.huffingtonpost.com/entry/whats-it-like-to-be-bisexual-the-tough-questions_us_587186c3e4b08052400ee33c</td>\n",
              "      <td>We must step out of the closet every day.</td>\n",
              "      <td>2017-01-08</td>\n",
              "      <td>2017</td>\n",
              "    </tr>\n",
              "    <tr>\n",
              "      <th>25413</th>\n",
              "      <td>QUEER VOICES</td>\n",
              "      <td>Russian Retail Store Displays Sign Reading 'No Entry For Faggots'</td>\n",
              "      <td>NaN</td>\n",
              "      <td>https://www.huffingtonpost.com/entry/russian-retail-chain-gays_us_592ba40ce4b053f2d2ad4984</td>\n",
              "      <td>\"Our planet is full of filth and sick humans,\" the owner said.</td>\n",
              "      <td>2017-05-29</td>\n",
              "      <td>2017</td>\n",
              "    </tr>\n",
              "    <tr>\n",
              "      <th>136449</th>\n",
              "      <td>QUEER VOICES</td>\n",
              "      <td>Queer New World: Meet Brooklyn's Babes Trust</td>\n",
              "      <td>James Michael Nichols</td>\n",
              "      <td>https://www.huffingtonpost.com/entry/babes-trust-brooklyn-drag_us_5bafbf5de4b0ad76926146a8</td>\n",
              "      <td>I'll also be doing a New Years Eve Dance &amp; Drag Party at Secret Project Robot! with my sisters Macy Rodman and SCHWARZ. Any</td>\n",
              "      <td>2013-12-15</td>\n",
              "      <td>2013</td>\n",
              "    </tr>\n",
              "    <tr>\n",
              "      <th>142460</th>\n",
              "      <td>QUEER VOICES</td>\n",
              "      <td>Allison Moon Talks Girl Sex 101, New Book For Queer Woman</td>\n",
              "      <td>James Michael Nichols</td>\n",
              "      <td>https://www.huffingtonpost.com/entry/girl-sex-101_us_5bafbbeae4b0ad76926108b6</td>\n",
              "      <td>You describe Girl Sex 101 as a â€œroad trip in a book unlike any other.â€ What do you mean by that? Iâ€™m kind of jokingly calling</td>\n",
              "      <td>2013-10-13</td>\n",
              "      <td>2013</td>\n",
              "    </tr>\n",
              "  </tbody>\n",
              "</table>\n",
              "</div>"
            ]
          },
          "metadata": {},
          "execution_count": 20
        }
      ]
    },
    {
      "cell_type": "code",
      "source": [
        "raw.loc[raw['category'] == 'IMPACT'].sample(5)"
      ],
      "metadata": {
        "id": "UuGC_9np486i",
        "colab": {
          "base_uri": "https://localhost:8080/",
          "height": 415
        },
        "outputId": "4e1ba815-9045-4466-8e3e-e02aa20be9f9"
      },
      "execution_count": null,
      "outputs": [
        {
          "output_type": "execute_result",
          "data": {
            "text/plain": [
              "       category  \\\n",
              "122088   IMPACT   \n",
              "109463   IMPACT   \n",
              "118520   IMPACT   \n",
              "90853    IMPACT   \n",
              "144464   IMPACT   \n",
              "\n",
              "                                                                                        headline  \\\n",
              "122088                                       Albert Pujols and the End to Down Syndrome Bullying   \n",
              "109463                            Promoting Malala's Vision for Youth Through Global Dignity Day   \n",
              "118520                                    Reflecting on 50 Years of the Civil Rights Act of 1964   \n",
              "90853                                                   Lessons From a Great Community Organizer   \n",
              "144464  Keeping Promises to Women and Children: PMNCH 2013 Report on Global Strategy Commitments   \n",
              "\n",
              "                                                                                               authors  \\\n",
              "122088                              Kai Sato, ContributorFounding Partner, Vintage Capital Investments   \n",
              "109463              Giovanna Mingarelli, ContributorTechnology Entrepreneur, Public Speaker and Writer   \n",
              "118520       Kiran Ahuja, ContributorFormer Executive Director of the White House Initiative on Asi...   \n",
              "90853                    Pablo Eisenberg, ContributorSenior Fellow, Georgetown Public Policy Institute   \n",
              "144464  Carole Presern, Contributor\\nExecutive Director, The Partnership for Maternal, Newborn and ...   \n",
              "\n",
              "                                                                                                                     link  \\\n",
              "122088                                      https://www.huffingtonpost.com/entry/albert-pujols-the-end-to-_b_5380308.html   \n",
              "109463  https://www.huffingtonpost.com/entry/promoting-malalas-vision-for-youth-through-global-dignity-day_b_5980280.html   \n",
              "118520                                      https://www.huffingtonpost.com/entry/reflecting-on-50-years-of_b_5553462.html   \n",
              "90853                                       https://www.huffingtonpost.com/entry/lessons-from-a-great-comm_b_7297456.html   \n",
              "144464                                 https://www.huffingtonpost.com/entry/pmnch-2013-report_us_5bb1b41fe4b01857b70a6372   \n",
              "\n",
              "                                                                                                                                                                                                                                                                                                                                   short_description  \\\n",
              "122088                                                                                                                                                                 This one presented a unique opportunity for all of us to contribute, without ever having to spend a nickel: We can help protect people with Down syndrome from being bullied.   \n",
              "109463                                                                                                                                Given the widespread use of social media and text messaging, one of the most common themes being discussed is bullying, where at least half of teens worldwide have been bullied online in the last few years.   \n",
              "118520                                                                                                             Today, July 2, 2014, marks the 50th anniversary of the Civil Rights Act of 1964, the landmark legislation signed by President Lyndon B. Johnson outlawing discrimination based on race, color, religion, sex, or national origin.   \n",
              "90853   The death last month of Edward Chambers, one of the world's great community organizers, serves as a strong reminder of how the power of the grass-roots can be mobilized to make a huge difference in the lives of the neediest. He was a master of building groups that could last for the long haul, a skill not enough activists possess.   \n",
              "144464                                                                                                                  A new report gives us hope. More organizations, governments and the private sector are making commitments to improve women's and children's health every year, and those commitments are being followed up with real action.   \n",
              "\n",
              "             date  year  \n",
              "122088 2014-05-23  2014  \n",
              "109463 2014-10-14  2014  \n",
              "118520 2014-07-03  2014  \n",
              "90853  2015-05-16  2015  \n",
              "144464 2013-09-22  2013  "
            ],
            "text/html": [
              "<div>\n",
              "<style scoped>\n",
              "    .dataframe tbody tr th:only-of-type {\n",
              "        vertical-align: middle;\n",
              "    }\n",
              "\n",
              "    .dataframe tbody tr th {\n",
              "        vertical-align: top;\n",
              "    }\n",
              "\n",
              "    .dataframe thead th {\n",
              "        text-align: right;\n",
              "    }\n",
              "</style>\n",
              "<table border=\"1\" class=\"dataframe\">\n",
              "  <thead>\n",
              "    <tr style=\"text-align: right;\">\n",
              "      <th></th>\n",
              "      <th>category</th>\n",
              "      <th>headline</th>\n",
              "      <th>authors</th>\n",
              "      <th>link</th>\n",
              "      <th>short_description</th>\n",
              "      <th>date</th>\n",
              "      <th>year</th>\n",
              "    </tr>\n",
              "  </thead>\n",
              "  <tbody>\n",
              "    <tr>\n",
              "      <th>122088</th>\n",
              "      <td>IMPACT</td>\n",
              "      <td>Albert Pujols and the End to Down Syndrome Bullying</td>\n",
              "      <td>Kai Sato, ContributorFounding Partner, Vintage Capital Investments</td>\n",
              "      <td>https://www.huffingtonpost.com/entry/albert-pujols-the-end-to-_b_5380308.html</td>\n",
              "      <td>This one presented a unique opportunity for all of us to contribute, without ever having to spend a nickel: We can help protect people with Down syndrome from being bullied.</td>\n",
              "      <td>2014-05-23</td>\n",
              "      <td>2014</td>\n",
              "    </tr>\n",
              "    <tr>\n",
              "      <th>109463</th>\n",
              "      <td>IMPACT</td>\n",
              "      <td>Promoting Malala's Vision for Youth Through Global Dignity Day</td>\n",
              "      <td>Giovanna Mingarelli, ContributorTechnology Entrepreneur, Public Speaker and Writer</td>\n",
              "      <td>https://www.huffingtonpost.com/entry/promoting-malalas-vision-for-youth-through-global-dignity-day_b_5980280.html</td>\n",
              "      <td>Given the widespread use of social media and text messaging, one of the most common themes being discussed is bullying, where at least half of teens worldwide have been bullied online in the last few years.</td>\n",
              "      <td>2014-10-14</td>\n",
              "      <td>2014</td>\n",
              "    </tr>\n",
              "    <tr>\n",
              "      <th>118520</th>\n",
              "      <td>IMPACT</td>\n",
              "      <td>Reflecting on 50 Years of the Civil Rights Act of 1964</td>\n",
              "      <td>Kiran Ahuja, ContributorFormer Executive Director of the White House Initiative on Asi...</td>\n",
              "      <td>https://www.huffingtonpost.com/entry/reflecting-on-50-years-of_b_5553462.html</td>\n",
              "      <td>Today, July 2, 2014, marks the 50th anniversary of the Civil Rights Act of 1964, the landmark legislation signed by President Lyndon B. Johnson outlawing discrimination based on race, color, religion, sex, or national origin.</td>\n",
              "      <td>2014-07-03</td>\n",
              "      <td>2014</td>\n",
              "    </tr>\n",
              "    <tr>\n",
              "      <th>90853</th>\n",
              "      <td>IMPACT</td>\n",
              "      <td>Lessons From a Great Community Organizer</td>\n",
              "      <td>Pablo Eisenberg, ContributorSenior Fellow, Georgetown Public Policy Institute</td>\n",
              "      <td>https://www.huffingtonpost.com/entry/lessons-from-a-great-comm_b_7297456.html</td>\n",
              "      <td>The death last month of Edward Chambers, one of the world's great community organizers, serves as a strong reminder of how the power of the grass-roots can be mobilized to make a huge difference in the lives of the neediest. He was a master of building groups that could last for the long haul, a skill not enough activists possess.</td>\n",
              "      <td>2015-05-16</td>\n",
              "      <td>2015</td>\n",
              "    </tr>\n",
              "    <tr>\n",
              "      <th>144464</th>\n",
              "      <td>IMPACT</td>\n",
              "      <td>Keeping Promises to Women and Children: PMNCH 2013 Report on Global Strategy Commitments</td>\n",
              "      <td>Carole Presern, Contributor\\nExecutive Director, The Partnership for Maternal, Newborn and ...</td>\n",
              "      <td>https://www.huffingtonpost.com/entry/pmnch-2013-report_us_5bb1b41fe4b01857b70a6372</td>\n",
              "      <td>A new report gives us hope. More organizations, governments and the private sector are making commitments to improve women's and children's health every year, and those commitments are being followed up with real action.</td>\n",
              "      <td>2013-09-22</td>\n",
              "      <td>2013</td>\n",
              "    </tr>\n",
              "  </tbody>\n",
              "</table>\n",
              "</div>"
            ]
          },
          "metadata": {},
          "execution_count": 21
        }
      ]
    },
    {
      "cell_type": "code",
      "source": [
        "raw.loc[raw['category'] == 'WELLNESS'].sample(5)"
      ],
      "metadata": {
        "colab": {
          "base_uri": "https://localhost:8080/",
          "height": 397
        },
        "id": "Me5zVo0H5roy",
        "outputId": "c598364d-d6c6-49e3-de20-c059a628ec14"
      },
      "execution_count": null,
      "outputs": [
        {
          "output_type": "execute_result",
          "data": {
            "text/plain": [
              "        category                                      headline  \\\n",
              "125321  WELLNESS       What Dreams May Come, or Feelin' Drowsy   \n",
              "186792  WELLNESS                           Engage With Empathy   \n",
              "145898  WELLNESS                      Letting Go and Moving On   \n",
              "195313  WELLNESS  If Your Spouse Snores, Will You Gain Weight?   \n",
              "191787  WELLNESS                               Que Sera, Siri?   \n",
              "\n",
              "                                                                                                              authors  \\\n",
              "125321                           Judith Greenberg, Ph.D., Contributor\\nGallatin School of Individualized Study at NYU   \n",
              "186792  Barbara Ficarra, RN, BSN, MPA, Contributor\\nJournalist; Founder, BarbaraFicarra.com; Media broadcaster; He...   \n",
              "145898                                                                 Monica Miranda, Contributor\\nOwner, Arbol Toys   \n",
              "195313                                    Judith J. Wurtman, PhD., Contributor\\nCo-Author, 'The Serotonin Power Diet'   \n",
              "191787                                        Benedetta Pignatelli, Contributor\\nNeapolitan freelance photojournalist   \n",
              "\n",
              "                                                                                                          link  \\\n",
              "125321  https://www.huffingtonpost.com/entry/what-dreams-may-come-or-feelin-drowsy_us_5b9dfab4e4b03a1dcc8fcef6   \n",
              "186792                    https://www.huffingtonpost.com/entry/health-care-empathy_us_5b9bea1ce4b03a1dcc7b1945   \n",
              "145898                             https://www.huffingtonpost.com/entry/letting-go_us_5b9d7d29e4b03a1dcc88a097   \n",
              "195313                      https://www.huffingtonpost.com/entry/sleep-weight-loss_us_5b9b7f4fe4b03a1dcc781516   \n",
              "191787                          https://www.huffingtonpost.com/entry/que-sera-siri_us_5b9ba5f3e4b03a1dcc7949d6   \n",
              "\n",
              "                                                                                                                                                                                                                                                                            short_description  \\\n",
              "125321  This winter, I developed an odd napping habit. As I described to my doctor, this new habit is different from my lifelong affection for the pleasures of plush pillows, soft blankets and high thread-count Egyptian cotton sheets (preferably Italian, if we're sharing pillow talk).   \n",
              "186792             To effectively engage patients and caregivers, it is critical that health care providers engage with empathy. With empathy we connect, we understand, we listen, and we communicate. We can engage and empower our patients to be proactive and in charge of their health.   \n",
              "145898                                                                   It is human nature to gravitate towards what you know is safe. Hence, we blindly go through the motions of our daily routines, oblivious to the fact that our world is constantly moving and changing all around us.   \n",
              "195313                                                          Although snoring spouses have not made it onto the list of common causes of weight gain, sleeplessness, whether caused by a noisy bed partner, 3 a.m. anxiety, jet lag or shift work, may have a disastrous effect on eating.   \n",
              "191787                                                                                                                                                             How far is distant gratification? Get me to its nearest exit, Siri, and let it be your parting gift. The quest for instant   \n",
              "\n",
              "             date  year  \n",
              "125321 2014-04-14  2014  \n",
              "186792 2012-06-27  2012  \n",
              "145898 2013-09-06  2013  \n",
              "195313 2012-03-28  2012  \n",
              "191787 2012-05-04  2012  "
            ],
            "text/html": [
              "<div>\n",
              "<style scoped>\n",
              "    .dataframe tbody tr th:only-of-type {\n",
              "        vertical-align: middle;\n",
              "    }\n",
              "\n",
              "    .dataframe tbody tr th {\n",
              "        vertical-align: top;\n",
              "    }\n",
              "\n",
              "    .dataframe thead th {\n",
              "        text-align: right;\n",
              "    }\n",
              "</style>\n",
              "<table border=\"1\" class=\"dataframe\">\n",
              "  <thead>\n",
              "    <tr style=\"text-align: right;\">\n",
              "      <th></th>\n",
              "      <th>category</th>\n",
              "      <th>headline</th>\n",
              "      <th>authors</th>\n",
              "      <th>link</th>\n",
              "      <th>short_description</th>\n",
              "      <th>date</th>\n",
              "      <th>year</th>\n",
              "    </tr>\n",
              "  </thead>\n",
              "  <tbody>\n",
              "    <tr>\n",
              "      <th>125321</th>\n",
              "      <td>WELLNESS</td>\n",
              "      <td>What Dreams May Come, or Feelin' Drowsy</td>\n",
              "      <td>Judith Greenberg, Ph.D., Contributor\\nGallatin School of Individualized Study at NYU</td>\n",
              "      <td>https://www.huffingtonpost.com/entry/what-dreams-may-come-or-feelin-drowsy_us_5b9dfab4e4b03a1dcc8fcef6</td>\n",
              "      <td>This winter, I developed an odd napping habit. As I described to my doctor, this new habit is different from my lifelong affection for the pleasures of plush pillows, soft blankets and high thread-count Egyptian cotton sheets (preferably Italian, if we're sharing pillow talk).</td>\n",
              "      <td>2014-04-14</td>\n",
              "      <td>2014</td>\n",
              "    </tr>\n",
              "    <tr>\n",
              "      <th>186792</th>\n",
              "      <td>WELLNESS</td>\n",
              "      <td>Engage With Empathy</td>\n",
              "      <td>Barbara Ficarra, RN, BSN, MPA, Contributor\\nJournalist; Founder, BarbaraFicarra.com; Media broadcaster; He...</td>\n",
              "      <td>https://www.huffingtonpost.com/entry/health-care-empathy_us_5b9bea1ce4b03a1dcc7b1945</td>\n",
              "      <td>To effectively engage patients and caregivers, it is critical that health care providers engage with empathy. With empathy we connect, we understand, we listen, and we communicate. We can engage and empower our patients to be proactive and in charge of their health.</td>\n",
              "      <td>2012-06-27</td>\n",
              "      <td>2012</td>\n",
              "    </tr>\n",
              "    <tr>\n",
              "      <th>145898</th>\n",
              "      <td>WELLNESS</td>\n",
              "      <td>Letting Go and Moving On</td>\n",
              "      <td>Monica Miranda, Contributor\\nOwner, Arbol Toys</td>\n",
              "      <td>https://www.huffingtonpost.com/entry/letting-go_us_5b9d7d29e4b03a1dcc88a097</td>\n",
              "      <td>It is human nature to gravitate towards what you know is safe. Hence, we blindly go through the motions of our daily routines, oblivious to the fact that our world is constantly moving and changing all around us.</td>\n",
              "      <td>2013-09-06</td>\n",
              "      <td>2013</td>\n",
              "    </tr>\n",
              "    <tr>\n",
              "      <th>195313</th>\n",
              "      <td>WELLNESS</td>\n",
              "      <td>If Your Spouse Snores, Will You Gain Weight?</td>\n",
              "      <td>Judith J. Wurtman, PhD., Contributor\\nCo-Author, 'The Serotonin Power Diet'</td>\n",
              "      <td>https://www.huffingtonpost.com/entry/sleep-weight-loss_us_5b9b7f4fe4b03a1dcc781516</td>\n",
              "      <td>Although snoring spouses have not made it onto the list of common causes of weight gain, sleeplessness, whether caused by a noisy bed partner, 3 a.m. anxiety, jet lag or shift work, may have a disastrous effect on eating.</td>\n",
              "      <td>2012-03-28</td>\n",
              "      <td>2012</td>\n",
              "    </tr>\n",
              "    <tr>\n",
              "      <th>191787</th>\n",
              "      <td>WELLNESS</td>\n",
              "      <td>Que Sera, Siri?</td>\n",
              "      <td>Benedetta Pignatelli, Contributor\\nNeapolitan freelance photojournalist</td>\n",
              "      <td>https://www.huffingtonpost.com/entry/que-sera-siri_us_5b9ba5f3e4b03a1dcc7949d6</td>\n",
              "      <td>How far is distant gratification? Get me to its nearest exit, Siri, and let it be your parting gift. The quest for instant</td>\n",
              "      <td>2012-05-04</td>\n",
              "      <td>2012</td>\n",
              "    </tr>\n",
              "  </tbody>\n",
              "</table>\n",
              "</div>"
            ]
          },
          "metadata": {},
          "execution_count": 22
        }
      ]
    },
    {
      "cell_type": "code",
      "source": [
        "raw.loc[raw['category'] == 'FOOD & DRINK'].sample(5)"
      ],
      "metadata": {
        "colab": {
          "base_uri": "https://localhost:8080/",
          "height": 293
        },
        "id": "vPJY5M7y6mLi",
        "outputId": "f45d205d-395f-4dda-abc6-f4e57a6b25b1"
      },
      "execution_count": null,
      "outputs": [
        {
          "output_type": "execute_result",
          "data": {
            "text/plain": [
              "            category  \\\n",
              "156501  FOOD & DRINK   \n",
              "156486  FOOD & DRINK   \n",
              "140945  FOOD & DRINK   \n",
              "163887  FOOD & DRINK   \n",
              "170411  FOOD & DRINK   \n",
              "\n",
              "                                                             headline  \\\n",
              "156501  Instant Japanese Candy GIF Is Totally Freaking Us Out (VIDEO)   \n",
              "156486                         Accidental Locavore: DIY Butter Recipe   \n",
              "140945                                              Outrageous Nachos   \n",
              "163887                  HuffPost Tastemakers: 250 Slices Of Crack Pie   \n",
              "170411                                            Food Geek Wish List   \n",
              "\n",
              "                                                          authors  \\\n",
              "156501                                            Rebecca Orchant   \n",
              "156486                        Anne Maxfield, Contributor\\nFounder   \n",
              "140945                  Food & Wine, Contributor\\nfoodandwine.com   \n",
              "163887                                                        NaN   \n",
              "170411  So Good, Contributor\\nAn absurd look at the world of food   \n",
              "\n",
              "                                                                                                     link  \\\n",
              "156501  https://www.huffingtonpost.com/entry/instant-japanese-candy-gif-video_us_5b9d2a6de4b03a1dcc8512f7   \n",
              "156486    https://www.huffingtonpost.com/entry/accidental-locavore-diy-butter_us_5b9d2bd6e4b03a1dcc852092   \n",
              "140945                 https://www.huffingtonpost.com/entry/outrageous-nachos_us_5b9da101e4b03a1dcc8a77e9   \n",
              "163887                https://www.huffingtonpost.com/entry/crack-pie-momofuku_us_5b9cdfc4e4b03a1dcc829a3a   \n",
              "170411               https://www.huffingtonpost.com/entry/food-geek-wish-list_us_5b9ca908e4b03a1dcc80a44c   \n",
              "\n",
              "                                                                                                                 short_description  \\\n",
              "156501                                                                                                What is this candy sorcery??   \n",
              "156486  Making butter is pretty easy. You just abuse heavy cream long enough and it starts to separate into butter and buttermilk.   \n",
              "140945                                                                                        The nation's most innovative nachos.   \n",
              "163887                                                                                                     It's a beautiful sight.   \n",
              "170411                                        For the nerdy foodie in your life, you can't go wrong with these 11 food geek gifts.   \n",
              "\n",
              "             date  year  \n",
              "156501 2013-05-17  2013  \n",
              "156486 2013-05-17  2013  \n",
              "140945 2013-10-29  2013  \n",
              "163887 2013-02-28  2013  \n",
              "170411 2012-12-21  2012  "
            ],
            "text/html": [
              "<div>\n",
              "<style scoped>\n",
              "    .dataframe tbody tr th:only-of-type {\n",
              "        vertical-align: middle;\n",
              "    }\n",
              "\n",
              "    .dataframe tbody tr th {\n",
              "        vertical-align: top;\n",
              "    }\n",
              "\n",
              "    .dataframe thead th {\n",
              "        text-align: right;\n",
              "    }\n",
              "</style>\n",
              "<table border=\"1\" class=\"dataframe\">\n",
              "  <thead>\n",
              "    <tr style=\"text-align: right;\">\n",
              "      <th></th>\n",
              "      <th>category</th>\n",
              "      <th>headline</th>\n",
              "      <th>authors</th>\n",
              "      <th>link</th>\n",
              "      <th>short_description</th>\n",
              "      <th>date</th>\n",
              "      <th>year</th>\n",
              "    </tr>\n",
              "  </thead>\n",
              "  <tbody>\n",
              "    <tr>\n",
              "      <th>156501</th>\n",
              "      <td>FOOD &amp; DRINK</td>\n",
              "      <td>Instant Japanese Candy GIF Is Totally Freaking Us Out (VIDEO)</td>\n",
              "      <td>Rebecca Orchant</td>\n",
              "      <td>https://www.huffingtonpost.com/entry/instant-japanese-candy-gif-video_us_5b9d2a6de4b03a1dcc8512f7</td>\n",
              "      <td>What is this candy sorcery??</td>\n",
              "      <td>2013-05-17</td>\n",
              "      <td>2013</td>\n",
              "    </tr>\n",
              "    <tr>\n",
              "      <th>156486</th>\n",
              "      <td>FOOD &amp; DRINK</td>\n",
              "      <td>Accidental Locavore: DIY Butter Recipe</td>\n",
              "      <td>Anne Maxfield, Contributor\\nFounder</td>\n",
              "      <td>https://www.huffingtonpost.com/entry/accidental-locavore-diy-butter_us_5b9d2bd6e4b03a1dcc852092</td>\n",
              "      <td>Making butter is pretty easy. You just abuse heavy cream long enough and it starts to separate into butter and buttermilk.</td>\n",
              "      <td>2013-05-17</td>\n",
              "      <td>2013</td>\n",
              "    </tr>\n",
              "    <tr>\n",
              "      <th>140945</th>\n",
              "      <td>FOOD &amp; DRINK</td>\n",
              "      <td>Outrageous Nachos</td>\n",
              "      <td>Food &amp; Wine, Contributor\\nfoodandwine.com</td>\n",
              "      <td>https://www.huffingtonpost.com/entry/outrageous-nachos_us_5b9da101e4b03a1dcc8a77e9</td>\n",
              "      <td>The nation's most innovative nachos.</td>\n",
              "      <td>2013-10-29</td>\n",
              "      <td>2013</td>\n",
              "    </tr>\n",
              "    <tr>\n",
              "      <th>163887</th>\n",
              "      <td>FOOD &amp; DRINK</td>\n",
              "      <td>HuffPost Tastemakers: 250 Slices Of Crack Pie</td>\n",
              "      <td>NaN</td>\n",
              "      <td>https://www.huffingtonpost.com/entry/crack-pie-momofuku_us_5b9cdfc4e4b03a1dcc829a3a</td>\n",
              "      <td>It's a beautiful sight.</td>\n",
              "      <td>2013-02-28</td>\n",
              "      <td>2013</td>\n",
              "    </tr>\n",
              "    <tr>\n",
              "      <th>170411</th>\n",
              "      <td>FOOD &amp; DRINK</td>\n",
              "      <td>Food Geek Wish List</td>\n",
              "      <td>So Good, Contributor\\nAn absurd look at the world of food</td>\n",
              "      <td>https://www.huffingtonpost.com/entry/food-geek-wish-list_us_5b9ca908e4b03a1dcc80a44c</td>\n",
              "      <td>For the nerdy foodie in your life, you can't go wrong with these 11 food geek gifts.</td>\n",
              "      <td>2012-12-21</td>\n",
              "      <td>2012</td>\n",
              "    </tr>\n",
              "  </tbody>\n",
              "</table>\n",
              "</div>"
            ]
          },
          "metadata": {},
          "execution_count": 23
        }
      ]
    },
    {
      "cell_type": "code",
      "source": [
        "raw.loc[raw['category'] == 'BUSINESS'].sample(5)"
      ],
      "metadata": {
        "colab": {
          "base_uri": "https://localhost:8080/",
          "height": 432
        },
        "id": "tOhNAokQTmiW",
        "outputId": "8c227aef-460d-4038-aa0e-77e28a4437fc"
      },
      "execution_count": null,
      "outputs": [
        {
          "output_type": "execute_result",
          "data": {
            "text/plain": [
              "        category  \\\n",
              "119972  BUSINESS   \n",
              "67077   BUSINESS   \n",
              "120715  BUSINESS   \n",
              "79407   BUSINESS   \n",
              "88067   BUSINESS   \n",
              "\n",
              "                                                                                                               headline  \\\n",
              "119972                                                                                         Bring Your Brain to Work   \n",
              "67077                            Exclusive: Accenture Is the First Big Consulting Firm To Publish Race And Gender Stats   \n",
              "120715  New Jersey's Consumer Advocate Takes the Verizon-NJ Board of Public Utilities' 'Stipulation Agreement' to Court   \n",
              "79407                                                                 Unlikely Coalition Forms To Back Renewable Energy   \n",
              "88067                         In the Face of Fear, Organizational Leaders Need to Create Armies of Yes Men (and Women)!   \n",
              "\n",
              "                                                                      authors  \\\n",
              "119972                          Edward Muzio, ContributorCEO, Group Harmonics   \n",
              "67077                                                                     NaN   \n",
              "120715  Bruce Kushnick, ContributorExecutive Director, New Networks Institute   \n",
              "79407                                                               Jenny Che   \n",
              "88067            Jayson Boyers, ContributorPresident & CEO, Cleary University   \n",
              "\n",
              "                                                                                                                                                     link  \\\n",
              "119972                                                                       https://www.huffingtonpost.com/entry/bring-your-brain-to-work_b_5499772.html   \n",
              "67077   https://www.huffingtonpost.comhttp://fortune.com/2016/02/08/exclusive-accenture-is-the-first-big-consulting-firm-to-publish-race-and-gender-stats   \n",
              "120715                                                                      https://www.huffingtonpost.com/entry/-new-jerseys-consumer-adv_b_5470299.html   \n",
              "79407                                                 https://www.huffingtonpost.com/entry/re100-fortune-500-renewable-energy_us_5602b7c7e4b0fde8b0d08e9a   \n",
              "88067           https://www.huffingtonpost.com/entry/in-the-face-of-fear-organizational-leaders-need-to-create-armies-of-yes-men-and-women_b_7599514.html   \n",
              "\n",
              "                                                                                                                                                                                                                                                                                                   short_description  \\\n",
              "119972                                                                                                           My wife, my infant son, and I arrived at the boarding door, baby in arm and bags in hand. That's when we found ourselves caught in an example of one of the biggest workplace problems of our time.   \n",
              "67077                                                                                                                                                                                       For the first time, Accenture on Monday released a detailed breakdown of the gender and ethnicity of its U.S. workforce.   \n",
              "120715  On May 27, 2014, the New Jersey Division of Rate Counsel filed with the Superior Court, Appellate Division, a Notice of Appeal to halt a stipulation agreement between the New Jersey Board of Public Utilities (NJBPU) and Verizon New Jersey (VNJ) to erase a 20+ year plan called Opportunity New Jersey.   \n",
              "79407                                                                                                                                                                                                                                      Starbucks, Walmart and others are setting tough new goals for themselves.   \n",
              "88067                                                    The message that employees should hear and pass along is \"yes.\"  Yes, we want to hear from you.  Yes, your opinion matters. Yes, you are valued. This message should be repeated throughout the organization, not only to employees, but customers as well.   \n",
              "\n",
              "             date  year  \n",
              "119972 2014-06-16  2014  \n",
              "67077  2016-02-09  2016  \n",
              "120715 2014-06-08  2014  \n",
              "79407  2015-09-23  2015  \n",
              "88067  2015-06-17  2015  "
            ],
            "text/html": [
              "<div>\n",
              "<style scoped>\n",
              "    .dataframe tbody tr th:only-of-type {\n",
              "        vertical-align: middle;\n",
              "    }\n",
              "\n",
              "    .dataframe tbody tr th {\n",
              "        vertical-align: top;\n",
              "    }\n",
              "\n",
              "    .dataframe thead th {\n",
              "        text-align: right;\n",
              "    }\n",
              "</style>\n",
              "<table border=\"1\" class=\"dataframe\">\n",
              "  <thead>\n",
              "    <tr style=\"text-align: right;\">\n",
              "      <th></th>\n",
              "      <th>category</th>\n",
              "      <th>headline</th>\n",
              "      <th>authors</th>\n",
              "      <th>link</th>\n",
              "      <th>short_description</th>\n",
              "      <th>date</th>\n",
              "      <th>year</th>\n",
              "    </tr>\n",
              "  </thead>\n",
              "  <tbody>\n",
              "    <tr>\n",
              "      <th>119972</th>\n",
              "      <td>BUSINESS</td>\n",
              "      <td>Bring Your Brain to Work</td>\n",
              "      <td>Edward Muzio, ContributorCEO, Group Harmonics</td>\n",
              "      <td>https://www.huffingtonpost.com/entry/bring-your-brain-to-work_b_5499772.html</td>\n",
              "      <td>My wife, my infant son, and I arrived at the boarding door, baby in arm and bags in hand. That's when we found ourselves caught in an example of one of the biggest workplace problems of our time.</td>\n",
              "      <td>2014-06-16</td>\n",
              "      <td>2014</td>\n",
              "    </tr>\n",
              "    <tr>\n",
              "      <th>67077</th>\n",
              "      <td>BUSINESS</td>\n",
              "      <td>Exclusive: Accenture Is the First Big Consulting Firm To Publish Race And Gender Stats</td>\n",
              "      <td>NaN</td>\n",
              "      <td>https://www.huffingtonpost.comhttp://fortune.com/2016/02/08/exclusive-accenture-is-the-first-big-consulting-firm-to-publish-race-and-gender-stats</td>\n",
              "      <td>For the first time, Accenture on Monday released a detailed breakdown of the gender and ethnicity of its U.S. workforce.</td>\n",
              "      <td>2016-02-09</td>\n",
              "      <td>2016</td>\n",
              "    </tr>\n",
              "    <tr>\n",
              "      <th>120715</th>\n",
              "      <td>BUSINESS</td>\n",
              "      <td>New Jersey's Consumer Advocate Takes the Verizon-NJ Board of Public Utilities' 'Stipulation Agreement' to Court</td>\n",
              "      <td>Bruce Kushnick, ContributorExecutive Director, New Networks Institute</td>\n",
              "      <td>https://www.huffingtonpost.com/entry/-new-jerseys-consumer-adv_b_5470299.html</td>\n",
              "      <td>On May 27, 2014, the New Jersey Division of Rate Counsel filed with the Superior Court, Appellate Division, a Notice of Appeal to halt a stipulation agreement between the New Jersey Board of Public Utilities (NJBPU) and Verizon New Jersey (VNJ) to erase a 20+ year plan called Opportunity New Jersey.</td>\n",
              "      <td>2014-06-08</td>\n",
              "      <td>2014</td>\n",
              "    </tr>\n",
              "    <tr>\n",
              "      <th>79407</th>\n",
              "      <td>BUSINESS</td>\n",
              "      <td>Unlikely Coalition Forms To Back Renewable Energy</td>\n",
              "      <td>Jenny Che</td>\n",
              "      <td>https://www.huffingtonpost.com/entry/re100-fortune-500-renewable-energy_us_5602b7c7e4b0fde8b0d08e9a</td>\n",
              "      <td>Starbucks, Walmart and others are setting tough new goals for themselves.</td>\n",
              "      <td>2015-09-23</td>\n",
              "      <td>2015</td>\n",
              "    </tr>\n",
              "    <tr>\n",
              "      <th>88067</th>\n",
              "      <td>BUSINESS</td>\n",
              "      <td>In the Face of Fear, Organizational Leaders Need to Create Armies of Yes Men (and Women)!</td>\n",
              "      <td>Jayson Boyers, ContributorPresident &amp; CEO, Cleary University</td>\n",
              "      <td>https://www.huffingtonpost.com/entry/in-the-face-of-fear-organizational-leaders-need-to-create-armies-of-yes-men-and-women_b_7599514.html</td>\n",
              "      <td>The message that employees should hear and pass along is \"yes.\"  Yes, we want to hear from you.  Yes, your opinion matters. Yes, you are valued. This message should be repeated throughout the organization, not only to employees, but customers as well.</td>\n",
              "      <td>2015-06-17</td>\n",
              "      <td>2015</td>\n",
              "    </tr>\n",
              "  </tbody>\n",
              "</table>\n",
              "</div>"
            ]
          },
          "metadata": {},
          "execution_count": 24
        }
      ]
    },
    {
      "cell_type": "code",
      "source": [
        "raw.loc[raw['category'] == 'MONEY'].sample(5)"
      ],
      "metadata": {
        "colab": {
          "base_uri": "https://localhost:8080/",
          "height": 397
        },
        "id": "U_7XYyiN7Tu1",
        "outputId": "a03a744f-bccf-498e-9531-a52d9f1d60c7"
      },
      "execution_count": null,
      "outputs": [
        {
          "output_type": "execute_result",
          "data": {
            "text/plain": [
              "       category  \\\n",
              "126001    MONEY   \n",
              "185661    MONEY   \n",
              "193869    MONEY   \n",
              "195230    MONEY   \n",
              "181245    MONEY   \n",
              "\n",
              "                                                                                        headline  \\\n",
              "126001                                      What Wikipedia Won't Tell You About Personal Savings   \n",
              "185661                                             IRS Employee Overstated $95,000 In Deductions   \n",
              "193869                                                              Your Phone Can Do Your Taxes   \n",
              "195230  NerdWallet: Free Checking Account Finder Locates No Fee Services, High Interest Accounts   \n",
              "181245                  Postal Service Financial Problems: 10 Things They Don't Want You To Know   \n",
              "\n",
              "                                                                           authors  \\\n",
              "126001  Jim Gibson, Contributor\\nPersonal Finance writer, Your Finances Simplified   \n",
              "185661                                                                         NaN   \n",
              "193869                DailyWorth, Contributor\\nA community of women who talk money   \n",
              "195230                                                               Catherine New   \n",
              "181245                                                      SmartMoney, SmartMoney   \n",
              "\n",
              "                                                                                                                          link  \\\n",
              "126001                               https://www.huffingtonpost.com/entry/what-wikipedia-wont-tell_us_5b9df6d7e4b03a1dcc8fa112   \n",
              "185661  https://www.huffingtonpost.comhttp://blogs.wsj.com/totalreturn/2012/07/10/irs-employee-overstated-95000-in-deductions/   \n",
              "193869                                    https://www.huffingtonpost.com/entry/paying-taxes-mobile_us_5b9b9098e4b03a1dcc78a4b7   \n",
              "195230                       https://www.huffingtonpost.com/entry/nerdwallet-checking-account-tool_us_5b9b8181e4b03a1dcc782408   \n",
              "181245                      https://www.huffingtonpost.com/entry/postal-service-financial-problems_us_5b9c30e9e4b03a1dcc7cf81c   \n",
              "\n",
              "                                                                                                                                                                                            short_description  \\\n",
              "126001                                                                               The real power is in your hands. Now its up to you to step up to the plate and do something about your personal savings.   \n",
              "185661                                                                               Think you have tax troubles? Jacynthia Quinn probably has more. A U.S. Tax Court judge recently slapped her with a civil   \n",
              "193869  If you still haven't done your taxes -- even with the extended April 17 deadline, even though your taxes are pretty simple (no kids, no real estate, no investment income) -- it's time to go mobile.   \n",
              "195230                                                                              \"By answering up to 10 simple questions, NerdWallet identifies the checking account with the lowest fees by matching your   \n",
              "181245                                                                          To continue reading, click here. 4. We're hiring our competitors to do our jobs for us. 2. Our retirees are just fine, thanks   \n",
              "\n",
              "             date  year  \n",
              "126001 2014-04-07  2014  \n",
              "185661 2012-07-10  2012  \n",
              "193869 2012-04-12  2012  \n",
              "195230 2012-03-28  2012  \n",
              "181245 2012-08-27  2012  "
            ],
            "text/html": [
              "<div>\n",
              "<style scoped>\n",
              "    .dataframe tbody tr th:only-of-type {\n",
              "        vertical-align: middle;\n",
              "    }\n",
              "\n",
              "    .dataframe tbody tr th {\n",
              "        vertical-align: top;\n",
              "    }\n",
              "\n",
              "    .dataframe thead th {\n",
              "        text-align: right;\n",
              "    }\n",
              "</style>\n",
              "<table border=\"1\" class=\"dataframe\">\n",
              "  <thead>\n",
              "    <tr style=\"text-align: right;\">\n",
              "      <th></th>\n",
              "      <th>category</th>\n",
              "      <th>headline</th>\n",
              "      <th>authors</th>\n",
              "      <th>link</th>\n",
              "      <th>short_description</th>\n",
              "      <th>date</th>\n",
              "      <th>year</th>\n",
              "    </tr>\n",
              "  </thead>\n",
              "  <tbody>\n",
              "    <tr>\n",
              "      <th>126001</th>\n",
              "      <td>MONEY</td>\n",
              "      <td>What Wikipedia Won't Tell You About Personal Savings</td>\n",
              "      <td>Jim Gibson, Contributor\\nPersonal Finance writer, Your Finances Simplified</td>\n",
              "      <td>https://www.huffingtonpost.com/entry/what-wikipedia-wont-tell_us_5b9df6d7e4b03a1dcc8fa112</td>\n",
              "      <td>The real power is in your hands. Now its up to you to step up to the plate and do something about your personal savings.</td>\n",
              "      <td>2014-04-07</td>\n",
              "      <td>2014</td>\n",
              "    </tr>\n",
              "    <tr>\n",
              "      <th>185661</th>\n",
              "      <td>MONEY</td>\n",
              "      <td>IRS Employee Overstated $95,000 In Deductions</td>\n",
              "      <td>NaN</td>\n",
              "      <td>https://www.huffingtonpost.comhttp://blogs.wsj.com/totalreturn/2012/07/10/irs-employee-overstated-95000-in-deductions/</td>\n",
              "      <td>Think you have tax troubles? Jacynthia Quinn probably has more. A U.S. Tax Court judge recently slapped her with a civil</td>\n",
              "      <td>2012-07-10</td>\n",
              "      <td>2012</td>\n",
              "    </tr>\n",
              "    <tr>\n",
              "      <th>193869</th>\n",
              "      <td>MONEY</td>\n",
              "      <td>Your Phone Can Do Your Taxes</td>\n",
              "      <td>DailyWorth, Contributor\\nA community of women who talk money</td>\n",
              "      <td>https://www.huffingtonpost.com/entry/paying-taxes-mobile_us_5b9b9098e4b03a1dcc78a4b7</td>\n",
              "      <td>If you still haven't done your taxes -- even with the extended April 17 deadline, even though your taxes are pretty simple (no kids, no real estate, no investment income) -- it's time to go mobile.</td>\n",
              "      <td>2012-04-12</td>\n",
              "      <td>2012</td>\n",
              "    </tr>\n",
              "    <tr>\n",
              "      <th>195230</th>\n",
              "      <td>MONEY</td>\n",
              "      <td>NerdWallet: Free Checking Account Finder Locates No Fee Services, High Interest Accounts</td>\n",
              "      <td>Catherine New</td>\n",
              "      <td>https://www.huffingtonpost.com/entry/nerdwallet-checking-account-tool_us_5b9b8181e4b03a1dcc782408</td>\n",
              "      <td>\"By answering up to 10 simple questions, NerdWallet identifies the checking account with the lowest fees by matching your</td>\n",
              "      <td>2012-03-28</td>\n",
              "      <td>2012</td>\n",
              "    </tr>\n",
              "    <tr>\n",
              "      <th>181245</th>\n",
              "      <td>MONEY</td>\n",
              "      <td>Postal Service Financial Problems: 10 Things They Don't Want You To Know</td>\n",
              "      <td>SmartMoney, SmartMoney</td>\n",
              "      <td>https://www.huffingtonpost.com/entry/postal-service-financial-problems_us_5b9c30e9e4b03a1dcc7cf81c</td>\n",
              "      <td>To continue reading, click here. 4. We're hiring our competitors to do our jobs for us. 2. Our retirees are just fine, thanks</td>\n",
              "      <td>2012-08-27</td>\n",
              "      <td>2012</td>\n",
              "    </tr>\n",
              "  </tbody>\n",
              "</table>\n",
              "</div>"
            ]
          },
          "metadata": {},
          "execution_count": 25
        }
      ]
    },
    {
      "cell_type": "code",
      "source": [
        "raw.loc[raw['category'] == 'PARENTS'].sample(5)"
      ],
      "metadata": {
        "colab": {
          "base_uri": "https://localhost:8080/",
          "height": 293
        },
        "id": "fmeoHSp3_Iln",
        "outputId": "70dcff6d-4a4e-40c2-a553-1450da991648"
      },
      "execution_count": null,
      "outputs": [
        {
          "output_type": "execute_result",
          "data": {
            "text/plain": [
              "      category  \\\n",
              "21335  PARENTS   \n",
              "72003  PARENTS   \n",
              "10202  PARENTS   \n",
              "20655  PARENTS   \n",
              "33028  PARENTS   \n",
              "\n",
              "                                                                          headline  \\\n",
              "21335           Hilary Duff Shared This Moving Poem That's Resonating With Parents   \n",
              "72003                   This Elf On The Shelf Brightens Kids' Days In The Hospital   \n",
              "10202     Prince George Had The Tiniest, Cutest Part In His School's Nativity Play   \n",
              "20655    You'll Cry-Laugh At This Mom's Post About Her Kid Catching Her Having Sex   \n",
              "33028  Dad Makes Invisible Jet Out Of Balloons For Daughter's Wonder Woman Costume   \n",
              "\n",
              "               authors  \\\n",
              "21335   Taylor Pittman   \n",
              "72003   Taylor Pittman   \n",
              "10202  Carly Ledbetter   \n",
              "20655   Taylor Pittman   \n",
              "33028   Taylor Pittman   \n",
              "\n",
              "                                                                                                                                              link  \\\n",
              "21335           https://www.huffingtonpost.com/entry/hilary-duff-shared-this-moving-poem-thats-resonating-with-parents_us_596ccea4e4b03389bb192c42   \n",
              "72003                   https://www.huffingtonpost.com/entry/this-elf-on-the-shelf-brightens-kids-days-in-the-hospital_us_56705802e4b0e292150f686c   \n",
              "10202                                               https://www.huffingtonpost.com/entry/prince-george-school-nativity_us_5a2825c8e4b02d3bfc379051   \n",
              "20655     https://www.huffingtonpost.com/entry/youll-cry-laugh-at-this-moms-post-about-her-kid-catching-her-having-sex_us_59775fe6e4b0c95f375ed963   \n",
              "33028  https://www.huffingtonpost.com/entry/dad-makes-invisible-jet-out-of-balloons-for-daughters-wonder-woman-costume_us_58b5b4afe4b060480e0c4111   \n",
              "\n",
              "                                                                    short_description  \\\n",
              "21335  Poet Rachel Zucker's take on parenting struck a chord with the \"Younger\" star.   \n",
              "72003            Milania is making the holidays a little brighter for young patients.   \n",
              "10202                                Hopefully Meghan Markle shared some acting tips.   \n",
              "20655                                   She wrote it like a (parenting) horror story.   \n",
              "33028                                                 It required about 275 balloons.   \n",
              "\n",
              "            date  year  \n",
              "21335 2017-07-17  2017  \n",
              "72003 2015-12-15  2015  \n",
              "10202 2017-12-06  2017  \n",
              "20655 2017-07-25  2017  \n",
              "33028 2017-03-01  2017  "
            ],
            "text/html": [
              "<div>\n",
              "<style scoped>\n",
              "    .dataframe tbody tr th:only-of-type {\n",
              "        vertical-align: middle;\n",
              "    }\n",
              "\n",
              "    .dataframe tbody tr th {\n",
              "        vertical-align: top;\n",
              "    }\n",
              "\n",
              "    .dataframe thead th {\n",
              "        text-align: right;\n",
              "    }\n",
              "</style>\n",
              "<table border=\"1\" class=\"dataframe\">\n",
              "  <thead>\n",
              "    <tr style=\"text-align: right;\">\n",
              "      <th></th>\n",
              "      <th>category</th>\n",
              "      <th>headline</th>\n",
              "      <th>authors</th>\n",
              "      <th>link</th>\n",
              "      <th>short_description</th>\n",
              "      <th>date</th>\n",
              "      <th>year</th>\n",
              "    </tr>\n",
              "  </thead>\n",
              "  <tbody>\n",
              "    <tr>\n",
              "      <th>21335</th>\n",
              "      <td>PARENTS</td>\n",
              "      <td>Hilary Duff Shared This Moving Poem That's Resonating With Parents</td>\n",
              "      <td>Taylor Pittman</td>\n",
              "      <td>https://www.huffingtonpost.com/entry/hilary-duff-shared-this-moving-poem-thats-resonating-with-parents_us_596ccea4e4b03389bb192c42</td>\n",
              "      <td>Poet Rachel Zucker's take on parenting struck a chord with the \"Younger\" star.</td>\n",
              "      <td>2017-07-17</td>\n",
              "      <td>2017</td>\n",
              "    </tr>\n",
              "    <tr>\n",
              "      <th>72003</th>\n",
              "      <td>PARENTS</td>\n",
              "      <td>This Elf On The Shelf Brightens Kids' Days In The Hospital</td>\n",
              "      <td>Taylor Pittman</td>\n",
              "      <td>https://www.huffingtonpost.com/entry/this-elf-on-the-shelf-brightens-kids-days-in-the-hospital_us_56705802e4b0e292150f686c</td>\n",
              "      <td>Milania is making the holidays a little brighter for young patients.</td>\n",
              "      <td>2015-12-15</td>\n",
              "      <td>2015</td>\n",
              "    </tr>\n",
              "    <tr>\n",
              "      <th>10202</th>\n",
              "      <td>PARENTS</td>\n",
              "      <td>Prince George Had The Tiniest, Cutest Part In His School's Nativity Play</td>\n",
              "      <td>Carly Ledbetter</td>\n",
              "      <td>https://www.huffingtonpost.com/entry/prince-george-school-nativity_us_5a2825c8e4b02d3bfc379051</td>\n",
              "      <td>Hopefully Meghan Markle shared some acting tips.</td>\n",
              "      <td>2017-12-06</td>\n",
              "      <td>2017</td>\n",
              "    </tr>\n",
              "    <tr>\n",
              "      <th>20655</th>\n",
              "      <td>PARENTS</td>\n",
              "      <td>You'll Cry-Laugh At This Mom's Post About Her Kid Catching Her Having Sex</td>\n",
              "      <td>Taylor Pittman</td>\n",
              "      <td>https://www.huffingtonpost.com/entry/youll-cry-laugh-at-this-moms-post-about-her-kid-catching-her-having-sex_us_59775fe6e4b0c95f375ed963</td>\n",
              "      <td>She wrote it like a (parenting) horror story.</td>\n",
              "      <td>2017-07-25</td>\n",
              "      <td>2017</td>\n",
              "    </tr>\n",
              "    <tr>\n",
              "      <th>33028</th>\n",
              "      <td>PARENTS</td>\n",
              "      <td>Dad Makes Invisible Jet Out Of Balloons For Daughter's Wonder Woman Costume</td>\n",
              "      <td>Taylor Pittman</td>\n",
              "      <td>https://www.huffingtonpost.com/entry/dad-makes-invisible-jet-out-of-balloons-for-daughters-wonder-woman-costume_us_58b5b4afe4b060480e0c4111</td>\n",
              "      <td>It required about 275 balloons.</td>\n",
              "      <td>2017-03-01</td>\n",
              "      <td>2017</td>\n",
              "    </tr>\n",
              "  </tbody>\n",
              "</table>\n",
              "</div>"
            ]
          },
          "metadata": {},
          "execution_count": 26
        }
      ]
    },
    {
      "cell_type": "code",
      "source": [
        "raw.loc[raw['category'] == 'PARENTING'].sample(5)"
      ],
      "metadata": {
        "colab": {
          "base_uri": "https://localhost:8080/",
          "height": 397
        },
        "id": "y_R87JnW_VQq",
        "outputId": "26b60273-b044-4a1a-e484-317007851fd6"
      },
      "execution_count": null,
      "outputs": [
        {
          "output_type": "execute_result",
          "data": {
            "text/plain": [
              "         category  \\\n",
              "190297  PARENTING   \n",
              "141378  PARENTING   \n",
              "182109  PARENTING   \n",
              "156411  PARENTING   \n",
              "190119  PARENTING   \n",
              "\n",
              "                                                                             headline  \\\n",
              "190297  Celebrities Who Breastfeed: Alanis Morissette, Mayim Bialik, Beyonce And More   \n",
              "141378                     Davion's Plea for a Family (and the 101,000 He Represents)   \n",
              "182109                                                               Swimming Lessons   \n",
              "156411                  Beating the Odds of Divorce When Your Child Has Special Needs   \n",
              "190119                                                                Rite of Passage   \n",
              "\n",
              "                                                                                             authors  \\\n",
              "190297                                                                                           NaN   \n",
              "141378                              Kristen Howerton, Contributor\\nBlogger, Rage Against the Minivan   \n",
              "182109                                                       Judy Bolton-Fasman, Contributor\\nWriter   \n",
              "156411  Anat Baniel, Contributor\\nAnat Baniel, Founder of the Anat Baniel MethodÂ® and NeuroMovem...   \n",
              "190119                    Tom W. Watson, Contributor\\nBusinessman, Entrepreneur, Author, \"Man Shoes\"   \n",
              "\n",
              "                                                                                                                           link  \\\n",
              "190297                              https://www.huffingtonpost.com/entry/celebrities-who-breastfeed_us_5b9bbd3de4b03a1dcc79f93c   \n",
              "141378  https://www.huffingtonpost.com/entry/davions-plea-for-a-family-and-the-101000-he-represents_us_5b9d9e58e4b03a1dcc8a5323   \n",
              "182109                                        https://www.huffingtonpost.com/entry/swimming-lessons_us_5b9c24e2e4b03a1dcc7c9c19   \n",
              "156411                             https://www.huffingtonpost.com/entry/beating-the-odds-of-divorce_us_5b9d2c27e4b03a1dcc8524b4   \n",
              "190119                                         https://www.huffingtonpost.com/entry/rite-of-passage_us_5b9bb72ee4b03a1dcc79d15b   \n",
              "\n",
              "                                                                                                                                                                                                                                                                               short_description  \\\n",
              "190297                                                                                                                                                                After a certain national magazine rocked the world with a cover story about attachment parenting, singer Alanis Morissette   \n",
              "141378                                                                                          Maybe Davion's plea will create a bigger change than he ever imagined. Maybe it will prompt our nation to listen to the voices of foster youth who are asking for a family before it's too late.   \n",
              "182109                                                                                                                                                        In the old-fashion parlance of the Talmud, a father is required to teach his son three things: The Torah, a trade and how to swim.   \n",
              "156411                                                             It's often said that parents of children with special needs divorce at a higher rate than the general population. So, I asked John Gray: What do you think are the causes and what suggestions can you give to these parents?   \n",
              "190119  The spring of my son's high school graduation became a \"rite of passage\" ceremony for him. No, we didn't have him sleep outside in the wild and drink milk laced with blood. But we did make a concerted effort to transition him from a boy living at home to a young man in the world.   \n",
              "\n",
              "             date  year  \n",
              "190297 2012-05-21  2012  \n",
              "141378 2013-10-24  2013  \n",
              "182109 2012-08-17  2012  \n",
              "156411 2013-05-17  2013  \n",
              "190119 2012-05-22  2012  "
            ],
            "text/html": [
              "<div>\n",
              "<style scoped>\n",
              "    .dataframe tbody tr th:only-of-type {\n",
              "        vertical-align: middle;\n",
              "    }\n",
              "\n",
              "    .dataframe tbody tr th {\n",
              "        vertical-align: top;\n",
              "    }\n",
              "\n",
              "    .dataframe thead th {\n",
              "        text-align: right;\n",
              "    }\n",
              "</style>\n",
              "<table border=\"1\" class=\"dataframe\">\n",
              "  <thead>\n",
              "    <tr style=\"text-align: right;\">\n",
              "      <th></th>\n",
              "      <th>category</th>\n",
              "      <th>headline</th>\n",
              "      <th>authors</th>\n",
              "      <th>link</th>\n",
              "      <th>short_description</th>\n",
              "      <th>date</th>\n",
              "      <th>year</th>\n",
              "    </tr>\n",
              "  </thead>\n",
              "  <tbody>\n",
              "    <tr>\n",
              "      <th>190297</th>\n",
              "      <td>PARENTING</td>\n",
              "      <td>Celebrities Who Breastfeed: Alanis Morissette, Mayim Bialik, Beyonce And More</td>\n",
              "      <td>NaN</td>\n",
              "      <td>https://www.huffingtonpost.com/entry/celebrities-who-breastfeed_us_5b9bbd3de4b03a1dcc79f93c</td>\n",
              "      <td>After a certain national magazine rocked the world with a cover story about attachment parenting, singer Alanis Morissette</td>\n",
              "      <td>2012-05-21</td>\n",
              "      <td>2012</td>\n",
              "    </tr>\n",
              "    <tr>\n",
              "      <th>141378</th>\n",
              "      <td>PARENTING</td>\n",
              "      <td>Davion's Plea for a Family (and the 101,000 He Represents)</td>\n",
              "      <td>Kristen Howerton, Contributor\\nBlogger, Rage Against the Minivan</td>\n",
              "      <td>https://www.huffingtonpost.com/entry/davions-plea-for-a-family-and-the-101000-he-represents_us_5b9d9e58e4b03a1dcc8a5323</td>\n",
              "      <td>Maybe Davion's plea will create a bigger change than he ever imagined. Maybe it will prompt our nation to listen to the voices of foster youth who are asking for a family before it's too late.</td>\n",
              "      <td>2013-10-24</td>\n",
              "      <td>2013</td>\n",
              "    </tr>\n",
              "    <tr>\n",
              "      <th>182109</th>\n",
              "      <td>PARENTING</td>\n",
              "      <td>Swimming Lessons</td>\n",
              "      <td>Judy Bolton-Fasman, Contributor\\nWriter</td>\n",
              "      <td>https://www.huffingtonpost.com/entry/swimming-lessons_us_5b9c24e2e4b03a1dcc7c9c19</td>\n",
              "      <td>In the old-fashion parlance of the Talmud, a father is required to teach his son three things: The Torah, a trade and how to swim.</td>\n",
              "      <td>2012-08-17</td>\n",
              "      <td>2012</td>\n",
              "    </tr>\n",
              "    <tr>\n",
              "      <th>156411</th>\n",
              "      <td>PARENTING</td>\n",
              "      <td>Beating the Odds of Divorce When Your Child Has Special Needs</td>\n",
              "      <td>Anat Baniel, Contributor\\nAnat Baniel, Founder of the Anat Baniel MethodÂ® and NeuroMovem...</td>\n",
              "      <td>https://www.huffingtonpost.com/entry/beating-the-odds-of-divorce_us_5b9d2c27e4b03a1dcc8524b4</td>\n",
              "      <td>It's often said that parents of children with special needs divorce at a higher rate than the general population. So, I asked John Gray: What do you think are the causes and what suggestions can you give to these parents?</td>\n",
              "      <td>2013-05-17</td>\n",
              "      <td>2013</td>\n",
              "    </tr>\n",
              "    <tr>\n",
              "      <th>190119</th>\n",
              "      <td>PARENTING</td>\n",
              "      <td>Rite of Passage</td>\n",
              "      <td>Tom W. Watson, Contributor\\nBusinessman, Entrepreneur, Author, \"Man Shoes\"</td>\n",
              "      <td>https://www.huffingtonpost.com/entry/rite-of-passage_us_5b9bb72ee4b03a1dcc79d15b</td>\n",
              "      <td>The spring of my son's high school graduation became a \"rite of passage\" ceremony for him. No, we didn't have him sleep outside in the wild and drink milk laced with blood. But we did make a concerted effort to transition him from a boy living at home to a young man in the world.</td>\n",
              "      <td>2012-05-22</td>\n",
              "      <td>2012</td>\n",
              "    </tr>\n",
              "  </tbody>\n",
              "</table>\n",
              "</div>"
            ]
          },
          "metadata": {},
          "execution_count": 27
        }
      ]
    },
    {
      "cell_type": "code",
      "source": [
        "raw.loc[raw['category'] == 'TASTE'].sample(5)"
      ],
      "metadata": {
        "colab": {
          "base_uri": "https://localhost:8080/",
          "height": 397
        },
        "id": "6tlypDtz_lu0",
        "outputId": "af3e6dd4-f83b-42f1-8490-50a6f2aa2dd6"
      },
      "execution_count": null,
      "outputs": [
        {
          "output_type": "execute_result",
          "data": {
            "text/plain": [
              "       category  \\\n",
              "11746     TASTE   \n",
              "106259    TASTE   \n",
              "108728    TASTE   \n",
              "63084     TASTE   \n",
              "41348     TASTE   \n",
              "\n",
              "                                                                                    headline  \\\n",
              "11746   Papa John's Apologizes For 'Divisive' NFL Protests Comments, Flips Bird At Neo-Nazis   \n",
              "106259                                              How To Make The Most Of Your Slow Cooker   \n",
              "108728                            Someone Made A $13 Bacon Cheeseburger-Stuffed Glazed Donut   \n",
              "63084                                                          Lemon Raspberry Swirl Muffins   \n",
              "41348                           The Fondoodler Cheese Gun Is The Only Gift We Want This Year   \n",
              "\n",
              "                                                                                          authors  \\\n",
              "11746                                                                                   Lee Moran   \n",
              "106259                                                              Food52, Contributorfood52.com   \n",
              "108728                                                                            Carly Ledbetter   \n",
              "63084   Dough Mamma, ContributorPrivate chef, culinary school graduate and second-generation f...   \n",
              "41348                                                                               Suzy Strutner   \n",
              "\n",
              "                                                                                                     link  \\\n",
              "11746   https://www.huffingtonpost.com/entry/papa-johns-apology-nfl-neo-nazis_us_5a0c2e17e4b0b17ffce173ed   \n",
              "106259                      https://www.huffingtonpost.com/entry/how-to-make-the-most-of-y_b_5996156.html   \n",
              "108728                         https://www.huffingtonpost.com/entry/cheeseburger-donut-put_n_6029622.html   \n",
              "63084                       https://www.huffingtonpost.com/entry/lemon-raspberry-swirl-muf_b_9550936.html   \n",
              "41348              https://www.huffingtonpost.com/entry/fondoodler-cheese-gun_us_583c68cae4b09b6056016851   \n",
              "\n",
              "                                                                                                                                                                                                                                                                                       short_description  \\\n",
              "11746                                                                                                                                                                                                                                \"We sincerely apologize to anyone that thought they were divisive.\"   \n",
              "106259                                                                                                                                                                                                                                                       Your weeknights just got infinitely better.   \n",
              "108728                                                                                                                                                                                                                                                                      This donut has gone too far.   \n",
              "63084   Easter is tomorrow and if you are hosting a brunch or joining others at their home, trying to please everyone's tastes can be a challenge. Nevertheless, it's time to celebrate and Sunday mornings are always a good time to enjoy muffins, especially these sophisticated little love-muffins.   \n",
              "41348                                                                                                                                                                                                                                                It may be the grate-est kitchen gadget of all time.   \n",
              "\n",
              "             date  year  \n",
              "11746  2017-11-15  2017  \n",
              "106259 2014-11-20  2014  \n",
              "108728 2014-10-22  2014  \n",
              "63084  2016-03-26  2016  \n",
              "41348  2016-11-28  2016  "
            ],
            "text/html": [
              "<div>\n",
              "<style scoped>\n",
              "    .dataframe tbody tr th:only-of-type {\n",
              "        vertical-align: middle;\n",
              "    }\n",
              "\n",
              "    .dataframe tbody tr th {\n",
              "        vertical-align: top;\n",
              "    }\n",
              "\n",
              "    .dataframe thead th {\n",
              "        text-align: right;\n",
              "    }\n",
              "</style>\n",
              "<table border=\"1\" class=\"dataframe\">\n",
              "  <thead>\n",
              "    <tr style=\"text-align: right;\">\n",
              "      <th></th>\n",
              "      <th>category</th>\n",
              "      <th>headline</th>\n",
              "      <th>authors</th>\n",
              "      <th>link</th>\n",
              "      <th>short_description</th>\n",
              "      <th>date</th>\n",
              "      <th>year</th>\n",
              "    </tr>\n",
              "  </thead>\n",
              "  <tbody>\n",
              "    <tr>\n",
              "      <th>11746</th>\n",
              "      <td>TASTE</td>\n",
              "      <td>Papa John's Apologizes For 'Divisive' NFL Protests Comments, Flips Bird At Neo-Nazis</td>\n",
              "      <td>Lee Moran</td>\n",
              "      <td>https://www.huffingtonpost.com/entry/papa-johns-apology-nfl-neo-nazis_us_5a0c2e17e4b0b17ffce173ed</td>\n",
              "      <td>\"We sincerely apologize to anyone that thought they were divisive.\"</td>\n",
              "      <td>2017-11-15</td>\n",
              "      <td>2017</td>\n",
              "    </tr>\n",
              "    <tr>\n",
              "      <th>106259</th>\n",
              "      <td>TASTE</td>\n",
              "      <td>How To Make The Most Of Your Slow Cooker</td>\n",
              "      <td>Food52, Contributorfood52.com</td>\n",
              "      <td>https://www.huffingtonpost.com/entry/how-to-make-the-most-of-y_b_5996156.html</td>\n",
              "      <td>Your weeknights just got infinitely better.</td>\n",
              "      <td>2014-11-20</td>\n",
              "      <td>2014</td>\n",
              "    </tr>\n",
              "    <tr>\n",
              "      <th>108728</th>\n",
              "      <td>TASTE</td>\n",
              "      <td>Someone Made A $13 Bacon Cheeseburger-Stuffed Glazed Donut</td>\n",
              "      <td>Carly Ledbetter</td>\n",
              "      <td>https://www.huffingtonpost.com/entry/cheeseburger-donut-put_n_6029622.html</td>\n",
              "      <td>This donut has gone too far.</td>\n",
              "      <td>2014-10-22</td>\n",
              "      <td>2014</td>\n",
              "    </tr>\n",
              "    <tr>\n",
              "      <th>63084</th>\n",
              "      <td>TASTE</td>\n",
              "      <td>Lemon Raspberry Swirl Muffins</td>\n",
              "      <td>Dough Mamma, ContributorPrivate chef, culinary school graduate and second-generation f...</td>\n",
              "      <td>https://www.huffingtonpost.com/entry/lemon-raspberry-swirl-muf_b_9550936.html</td>\n",
              "      <td>Easter is tomorrow and if you are hosting a brunch or joining others at their home, trying to please everyone's tastes can be a challenge. Nevertheless, it's time to celebrate and Sunday mornings are always a good time to enjoy muffins, especially these sophisticated little love-muffins.</td>\n",
              "      <td>2016-03-26</td>\n",
              "      <td>2016</td>\n",
              "    </tr>\n",
              "    <tr>\n",
              "      <th>41348</th>\n",
              "      <td>TASTE</td>\n",
              "      <td>The Fondoodler Cheese Gun Is The Only Gift We Want This Year</td>\n",
              "      <td>Suzy Strutner</td>\n",
              "      <td>https://www.huffingtonpost.com/entry/fondoodler-cheese-gun_us_583c68cae4b09b6056016851</td>\n",
              "      <td>It may be the grate-est kitchen gadget of all time.</td>\n",
              "      <td>2016-11-28</td>\n",
              "      <td>2016</td>\n",
              "    </tr>\n",
              "  </tbody>\n",
              "</table>\n",
              "</div>"
            ]
          },
          "metadata": {},
          "execution_count": 28
        }
      ]
    },
    {
      "cell_type": "code",
      "source": [
        "raw.loc[raw['category'] == 'MEDIA'].sample(5)"
      ],
      "metadata": {
        "colab": {
          "base_uri": "https://localhost:8080/",
          "height": 362
        },
        "id": "uoGLbZz-_xoC",
        "outputId": "d3593c7e-4df4-468c-acc4-9b8119762255"
      },
      "execution_count": null,
      "outputs": [
        {
          "output_type": "execute_result",
          "data": {
            "text/plain": [
              "       category  \\\n",
              "27822     MEDIA   \n",
              "4271      MEDIA   \n",
              "119364    MEDIA   \n",
              "54342     MEDIA   \n",
              "73087     MEDIA   \n",
              "\n",
              "                                                                       headline  \\\n",
              "27822   Fox News Reporter Sues Network For Gender And Disability Discrimination   \n",
              "4271             See If You Can Watch This Powerful 1-Minute PSA Without Crying   \n",
              "119364                                The Fine Print on Our Favorite Columnists   \n",
              "54342                                           Is The Statue Of Liberty A Man?   \n",
              "73087                    Egypt Lawyers Say Journalist Detained For 'False News'   \n",
              "\n",
              "                                            authors  \\\n",
              "27822                            Michael McLaughlin   \n",
              "4271                                       Ed Mazza   \n",
              "119364  Grammarly, ContributorAutomated Proofreader   \n",
              "54342                                      Ed Mazza   \n",
              "73087                              Nour Youssef, AP   \n",
              "\n",
              "                                                                                                                                           link  \\\n",
              "27822   https://www.huffingtonpost.com/entry/fox-news-reports-sues-network-for-gender-and-disability-discrimination_us_59076301e4b0bb2d086ff913   \n",
              "4271                                       https://www.huffingtonpost.com/entry/blood-donation-42-hitchhikers-guide_us_5aa0c907e4b002df2c60ae36   \n",
              "119364                                                            https://www.huffingtonpost.com/entry/the-fine-print-on-our-fav_b_5523366.html   \n",
              "54342                                                    https://www.huffingtonpost.com/entry/statue-of-liberty-man_us_5779a460e4b0a629c1aa711a   \n",
              "73087                                              https://www.huffingtonpost.com/entry/egypt-journalist-false-news_us_565f096fe4b079b2818ca995   \n",
              "\n",
              "                                                                                                                                                                               short_description  \\\n",
              "27822                                                                                          Diana Falzone says her duties were reduced after she wrote about her struggle with endometriosis.   \n",
              "4271                                                                                                      42 really is the answer to the ultimate question of life, the universe and everything.   \n",
              "119364  While it is by no means exhaustive, this list includes a dozen of Grammarly's favorite print journalists from the English-speaking world in honor of National Columnists Day on June 23.   \n",
              "54342                                                                                            Author believes the model for Lady Liberty was sculptor FrÃ©dÃ©ric Auguste Bartholdi's brother.   \n",
              "73087                                           After more than eight hours of questioning in Cairo on Tuesday, prosecutors ordered Ismail Alexandrani jailed for 15 days pending investigations   \n",
              "\n",
              "             date  year  \n",
              "27822  2017-05-01  2017  \n",
              "4271   2018-03-08  2018  \n",
              "119364 2014-06-23  2014  \n",
              "54342  2016-07-04  2016  \n",
              "73087  2015-12-02  2015  "
            ],
            "text/html": [
              "<div>\n",
              "<style scoped>\n",
              "    .dataframe tbody tr th:only-of-type {\n",
              "        vertical-align: middle;\n",
              "    }\n",
              "\n",
              "    .dataframe tbody tr th {\n",
              "        vertical-align: top;\n",
              "    }\n",
              "\n",
              "    .dataframe thead th {\n",
              "        text-align: right;\n",
              "    }\n",
              "</style>\n",
              "<table border=\"1\" class=\"dataframe\">\n",
              "  <thead>\n",
              "    <tr style=\"text-align: right;\">\n",
              "      <th></th>\n",
              "      <th>category</th>\n",
              "      <th>headline</th>\n",
              "      <th>authors</th>\n",
              "      <th>link</th>\n",
              "      <th>short_description</th>\n",
              "      <th>date</th>\n",
              "      <th>year</th>\n",
              "    </tr>\n",
              "  </thead>\n",
              "  <tbody>\n",
              "    <tr>\n",
              "      <th>27822</th>\n",
              "      <td>MEDIA</td>\n",
              "      <td>Fox News Reporter Sues Network For Gender And Disability Discrimination</td>\n",
              "      <td>Michael McLaughlin</td>\n",
              "      <td>https://www.huffingtonpost.com/entry/fox-news-reports-sues-network-for-gender-and-disability-discrimination_us_59076301e4b0bb2d086ff913</td>\n",
              "      <td>Diana Falzone says her duties were reduced after she wrote about her struggle with endometriosis.</td>\n",
              "      <td>2017-05-01</td>\n",
              "      <td>2017</td>\n",
              "    </tr>\n",
              "    <tr>\n",
              "      <th>4271</th>\n",
              "      <td>MEDIA</td>\n",
              "      <td>See If You Can Watch This Powerful 1-Minute PSA Without Crying</td>\n",
              "      <td>Ed Mazza</td>\n",
              "      <td>https://www.huffingtonpost.com/entry/blood-donation-42-hitchhikers-guide_us_5aa0c907e4b002df2c60ae36</td>\n",
              "      <td>42 really is the answer to the ultimate question of life, the universe and everything.</td>\n",
              "      <td>2018-03-08</td>\n",
              "      <td>2018</td>\n",
              "    </tr>\n",
              "    <tr>\n",
              "      <th>119364</th>\n",
              "      <td>MEDIA</td>\n",
              "      <td>The Fine Print on Our Favorite Columnists</td>\n",
              "      <td>Grammarly, ContributorAutomated Proofreader</td>\n",
              "      <td>https://www.huffingtonpost.com/entry/the-fine-print-on-our-fav_b_5523366.html</td>\n",
              "      <td>While it is by no means exhaustive, this list includes a dozen of Grammarly's favorite print journalists from the English-speaking world in honor of National Columnists Day on June 23.</td>\n",
              "      <td>2014-06-23</td>\n",
              "      <td>2014</td>\n",
              "    </tr>\n",
              "    <tr>\n",
              "      <th>54342</th>\n",
              "      <td>MEDIA</td>\n",
              "      <td>Is The Statue Of Liberty A Man?</td>\n",
              "      <td>Ed Mazza</td>\n",
              "      <td>https://www.huffingtonpost.com/entry/statue-of-liberty-man_us_5779a460e4b0a629c1aa711a</td>\n",
              "      <td>Author believes the model for Lady Liberty was sculptor FrÃ©dÃ©ric Auguste Bartholdi's brother.</td>\n",
              "      <td>2016-07-04</td>\n",
              "      <td>2016</td>\n",
              "    </tr>\n",
              "    <tr>\n",
              "      <th>73087</th>\n",
              "      <td>MEDIA</td>\n",
              "      <td>Egypt Lawyers Say Journalist Detained For 'False News'</td>\n",
              "      <td>Nour Youssef, AP</td>\n",
              "      <td>https://www.huffingtonpost.com/entry/egypt-journalist-false-news_us_565f096fe4b079b2818ca995</td>\n",
              "      <td>After more than eight hours of questioning in Cairo on Tuesday, prosecutors ordered Ismail Alexandrani jailed for 15 days pending investigations</td>\n",
              "      <td>2015-12-02</td>\n",
              "      <td>2015</td>\n",
              "    </tr>\n",
              "  </tbody>\n",
              "</table>\n",
              "</div>"
            ]
          },
          "metadata": {},
          "execution_count": 29
        }
      ]
    },
    {
      "cell_type": "code",
      "source": [
        "raw.loc[raw['category'] == 'WORLDPOST'].sample(5)"
      ],
      "metadata": {
        "colab": {
          "base_uri": "https://localhost:8080/",
          "height": 449
        },
        "id": "FCwr1TgWA4Xr",
        "outputId": "2bde7099-ff61-499c-b815-26f5b42c8cb0"
      },
      "execution_count": null,
      "outputs": [
        {
          "output_type": "execute_result",
          "data": {
            "text/plain": [
              "         category  \\\n",
              "93375   WORLDPOST   \n",
              "90324   WORLDPOST   \n",
              "88433   WORLDPOST   \n",
              "58211   WORLDPOST   \n",
              "123090  WORLDPOST   \n",
              "\n",
              "                                                                             headline  \\\n",
              "93375                        Denial of the Armenian Genocide Is Brutalizing the World   \n",
              "90324   Philippine Economy and Elections: How Political Cycles Shape Emerging Markets   \n",
              "88433                               America's Military Strategy? Persistent Overreach   \n",
              "58211                               U.S. and NATO Should End New Cold War With Russia   \n",
              "123090                                         Morally, What Does the U.S. Stand for?   \n",
              "\n",
              "                                                                                                      authors  \\\n",
              "93375                                  Stefan Ihrig, ContributorPolonsky Fellow, Van Leer Jerusalem Institute   \n",
              "90324   Richard Javad Heydarian, ContributorAcademic, policy adviser, and author of \"Asia's New Battlefiel...   \n",
              "88433                            William Astore, ContributorWriter, Professor, Retired Lt. Colonel, Air Force   \n",
              "58211                                             Doug Bandow, ContributorContributing writer, policy analyst   \n",
              "123090             Dambisa Moyo, ContributorAuthor, 'Dead Aid: Why Aid is Not Working and How There is a B...   \n",
              "\n",
              "                                                                                  link  \\\n",
              "93375     https://www.huffingtonpost.com/entry/armenian-genocide-denial_b_7079384.html   \n",
              "90324    https://www.huffingtonpost.com/entry/philippine-economy-and-el_b_7418264.html   \n",
              "88433    https://www.huffingtonpost.com/entry/americas-military-strateg_b_7575900.html   \n",
              "58211   https://www.huffingtonpost.com/entry/us-and-nato-should-end-ne_b_10080714.html   \n",
              "123090   https://www.huffingtonpost.com/entry/morally-what-does-the-us-_b_5303108.html   \n",
              "\n",
              "                                                                                                                                                                                                                                                                                                                                        short_description  \\\n",
              "93375                                                                                     JERUSALEM -- That the acknowledgment of the genocide by the pope and Kim Kardashian's trip to Armenia were so newsworthy and were hailed as such a great \"PR disaster for Turkey\" shows that something went terribly wrong over the course of the last century.   \n",
              "90324                                                                                                                   Soon, the Philippines will be engulfed by an election fever. And in promising emerging markets like the Philippines, electoral cycles are extremely crucial to shaping the short-to-medium term growth trajectory of the country.   \n",
              "88433   Ever since 9/11, American presidents and their military advisors have repeatedly committed U.S. troops and prestige to inhospitable regions in terrain that largely neutralizes U.S. advantages in firepower and maneuverability. Despite setback after setback, American presidents and generals persist in trying to control hostile territory.   \n",
              "58211                                                                   It's good that NATO and Russia met. Dialogue should continue, with the EU and U.S. prepared to negotiate a deal normalizing relations.However, the allies won't know without trying. And everyone would benefit from ending the current impasse. Especially the Ukrainian people.   \n",
              "123090                                                                                                                 It took three weeks for President Obama to publicly address the crisis of over 250 Nigerian school girls kidnapped on April 14, and to pledge to send modest support. That is 22 days of unfathomable cruelty to vulnerable girls.   \n",
              "\n",
              "             date  year  \n",
              "93375  2015-04-17  2015  \n",
              "90324  2015-05-22  2015  \n",
              "88433  2015-06-13  2015  \n",
              "58211  2016-05-21  2016  \n",
              "123090 2014-05-11  2014  "
            ],
            "text/html": [
              "<div>\n",
              "<style scoped>\n",
              "    .dataframe tbody tr th:only-of-type {\n",
              "        vertical-align: middle;\n",
              "    }\n",
              "\n",
              "    .dataframe tbody tr th {\n",
              "        vertical-align: top;\n",
              "    }\n",
              "\n",
              "    .dataframe thead th {\n",
              "        text-align: right;\n",
              "    }\n",
              "</style>\n",
              "<table border=\"1\" class=\"dataframe\">\n",
              "  <thead>\n",
              "    <tr style=\"text-align: right;\">\n",
              "      <th></th>\n",
              "      <th>category</th>\n",
              "      <th>headline</th>\n",
              "      <th>authors</th>\n",
              "      <th>link</th>\n",
              "      <th>short_description</th>\n",
              "      <th>date</th>\n",
              "      <th>year</th>\n",
              "    </tr>\n",
              "  </thead>\n",
              "  <tbody>\n",
              "    <tr>\n",
              "      <th>93375</th>\n",
              "      <td>WORLDPOST</td>\n",
              "      <td>Denial of the Armenian Genocide Is Brutalizing the World</td>\n",
              "      <td>Stefan Ihrig, ContributorPolonsky Fellow, Van Leer Jerusalem Institute</td>\n",
              "      <td>https://www.huffingtonpost.com/entry/armenian-genocide-denial_b_7079384.html</td>\n",
              "      <td>JERUSALEM -- That the acknowledgment of the genocide by the pope and Kim Kardashian's trip to Armenia were so newsworthy and were hailed as such a great \"PR disaster for Turkey\" shows that something went terribly wrong over the course of the last century.</td>\n",
              "      <td>2015-04-17</td>\n",
              "      <td>2015</td>\n",
              "    </tr>\n",
              "    <tr>\n",
              "      <th>90324</th>\n",
              "      <td>WORLDPOST</td>\n",
              "      <td>Philippine Economy and Elections: How Political Cycles Shape Emerging Markets</td>\n",
              "      <td>Richard Javad Heydarian, ContributorAcademic, policy adviser, and author of \"Asia's New Battlefiel...</td>\n",
              "      <td>https://www.huffingtonpost.com/entry/philippine-economy-and-el_b_7418264.html</td>\n",
              "      <td>Soon, the Philippines will be engulfed by an election fever. And in promising emerging markets like the Philippines, electoral cycles are extremely crucial to shaping the short-to-medium term growth trajectory of the country.</td>\n",
              "      <td>2015-05-22</td>\n",
              "      <td>2015</td>\n",
              "    </tr>\n",
              "    <tr>\n",
              "      <th>88433</th>\n",
              "      <td>WORLDPOST</td>\n",
              "      <td>America's Military Strategy? Persistent Overreach</td>\n",
              "      <td>William Astore, ContributorWriter, Professor, Retired Lt. Colonel, Air Force</td>\n",
              "      <td>https://www.huffingtonpost.com/entry/americas-military-strateg_b_7575900.html</td>\n",
              "      <td>Ever since 9/11, American presidents and their military advisors have repeatedly committed U.S. troops and prestige to inhospitable regions in terrain that largely neutralizes U.S. advantages in firepower and maneuverability. Despite setback after setback, American presidents and generals persist in trying to control hostile territory.</td>\n",
              "      <td>2015-06-13</td>\n",
              "      <td>2015</td>\n",
              "    </tr>\n",
              "    <tr>\n",
              "      <th>58211</th>\n",
              "      <td>WORLDPOST</td>\n",
              "      <td>U.S. and NATO Should End New Cold War With Russia</td>\n",
              "      <td>Doug Bandow, ContributorContributing writer, policy analyst</td>\n",
              "      <td>https://www.huffingtonpost.com/entry/us-and-nato-should-end-ne_b_10080714.html</td>\n",
              "      <td>It's good that NATO and Russia met. Dialogue should continue, with the EU and U.S. prepared to negotiate a deal normalizing relations.However, the allies won't know without trying. And everyone would benefit from ending the current impasse. Especially the Ukrainian people.</td>\n",
              "      <td>2016-05-21</td>\n",
              "      <td>2016</td>\n",
              "    </tr>\n",
              "    <tr>\n",
              "      <th>123090</th>\n",
              "      <td>WORLDPOST</td>\n",
              "      <td>Morally, What Does the U.S. Stand for?</td>\n",
              "      <td>Dambisa Moyo, ContributorAuthor, 'Dead Aid: Why Aid is Not Working and How There is a B...</td>\n",
              "      <td>https://www.huffingtonpost.com/entry/morally-what-does-the-us-_b_5303108.html</td>\n",
              "      <td>It took three weeks for President Obama to publicly address the crisis of over 250 Nigerian school girls kidnapped on April 14, and to pledge to send modest support. That is 22 days of unfathomable cruelty to vulnerable girls.</td>\n",
              "      <td>2014-05-11</td>\n",
              "      <td>2014</td>\n",
              "    </tr>\n",
              "  </tbody>\n",
              "</table>\n",
              "</div>"
            ]
          },
          "metadata": {},
          "execution_count": 30
        }
      ]
    },
    {
      "cell_type": "code",
      "source": [
        "raw.loc[raw['category'] == 'THE WORLDPOST'].sample(5)"
      ],
      "metadata": {
        "colab": {
          "base_uri": "https://localhost:8080/",
          "height": 345
        },
        "id": "CMKCeMtFBKhf",
        "outputId": "d6e976f6-eda9-4060-e5d2-685ae3978f61"
      },
      "execution_count": null,
      "outputs": [
        {
          "output_type": "execute_result",
          "data": {
            "text/plain": [
              "            category  \\\n",
              "84024  THE WORLDPOST   \n",
              "45770  THE WORLDPOST   \n",
              "57201  THE WORLDPOST   \n",
              "30400  THE WORLDPOST   \n",
              "57414  THE WORLDPOST   \n",
              "\n",
              "                                                                        headline  \\\n",
              "84024                   Canada Launches Its Election Campaign, Sets October Vote   \n",
              "45770            Haiti Grapples With Cholera After Deadly Hurricane Matthew Hits   \n",
              "57201                   Everything Is Better For The Super Rich. Even Jail Time.   \n",
              "30400  Iraqi Intelligence Says Islamic State's Second-In-Command Has Been Killed   \n",
              "57414         Turkish President: No Muslim Family Should Engage In Birth Control   \n",
              "\n",
              "      authors  \\\n",
              "84024     NaN   \n",
              "45770     NaN   \n",
              "57201     NaN   \n",
              "30400     NaN   \n",
              "57414     NaN   \n",
              "\n",
              "                                                                                                                                                   link  \\\n",
              "84024                                                         https://www.huffingtonpost.com/entry/canada-election-campaign_us_55be6a0de4b0b23e3ce31af5   \n",
              "45770                                                          https://www.huffingtonpost.com/entry/haiti-hurricane-cholera_us_57fa4b6ce4b068ecb5df4b7c   \n",
              "57201  https://www.huffingtonpost.comhttp://www.nytimes.com/2016/06/02/nyregion/rich-defendants-request-to-judges-lock-me-up-in-a-gilded-cage.html?_r=0   \n",
              "30400                                                    https://www.huffingtonpost.com/entry/isis-second-in-command-killed_us_58dfa990e4b0c777f787cf04   \n",
              "57414                https://www.huffingtonpost.com/entry/turkish-president-no-muslim-family-should-engage-in-birth-control_us_574c96e9e4b055bb11728a2f   \n",
              "\n",
              "                                                                                                                          short_description  \\\n",
              "84024                                                                                It will be one of the longest in the nation's history.   \n",
              "45770                                                                            Nearly 900 people are estimated to have died in the storm.   \n",
              "57201  The rich are different from everyone else, even those accused of crimes. But a handful of extremely wealthy defendants, particularly   \n",
              "30400      Ayad al-Jumaili, the man believed to be the deputy of Islamic Stateâ€™s leader Abu Bakr al-Baghdadi, has reportedly been killed.   \n",
              "57414             ISTANBUL (Reuters) - No Muslim family should engage in birth control or family planning, Turkish President Tayyip Erdogan   \n",
              "\n",
              "            date  year  \n",
              "84024 2015-08-02  2015  \n",
              "45770 2016-10-09  2016  \n",
              "57201 2016-06-02  2016  \n",
              "30400 2017-04-01  2017  \n",
              "57414 2016-05-30  2016  "
            ],
            "text/html": [
              "<div>\n",
              "<style scoped>\n",
              "    .dataframe tbody tr th:only-of-type {\n",
              "        vertical-align: middle;\n",
              "    }\n",
              "\n",
              "    .dataframe tbody tr th {\n",
              "        vertical-align: top;\n",
              "    }\n",
              "\n",
              "    .dataframe thead th {\n",
              "        text-align: right;\n",
              "    }\n",
              "</style>\n",
              "<table border=\"1\" class=\"dataframe\">\n",
              "  <thead>\n",
              "    <tr style=\"text-align: right;\">\n",
              "      <th></th>\n",
              "      <th>category</th>\n",
              "      <th>headline</th>\n",
              "      <th>authors</th>\n",
              "      <th>link</th>\n",
              "      <th>short_description</th>\n",
              "      <th>date</th>\n",
              "      <th>year</th>\n",
              "    </tr>\n",
              "  </thead>\n",
              "  <tbody>\n",
              "    <tr>\n",
              "      <th>84024</th>\n",
              "      <td>THE WORLDPOST</td>\n",
              "      <td>Canada Launches Its Election Campaign, Sets October Vote</td>\n",
              "      <td>NaN</td>\n",
              "      <td>https://www.huffingtonpost.com/entry/canada-election-campaign_us_55be6a0de4b0b23e3ce31af5</td>\n",
              "      <td>It will be one of the longest in the nation's history.</td>\n",
              "      <td>2015-08-02</td>\n",
              "      <td>2015</td>\n",
              "    </tr>\n",
              "    <tr>\n",
              "      <th>45770</th>\n",
              "      <td>THE WORLDPOST</td>\n",
              "      <td>Haiti Grapples With Cholera After Deadly Hurricane Matthew Hits</td>\n",
              "      <td>NaN</td>\n",
              "      <td>https://www.huffingtonpost.com/entry/haiti-hurricane-cholera_us_57fa4b6ce4b068ecb5df4b7c</td>\n",
              "      <td>Nearly 900 people are estimated to have died in the storm.</td>\n",
              "      <td>2016-10-09</td>\n",
              "      <td>2016</td>\n",
              "    </tr>\n",
              "    <tr>\n",
              "      <th>57201</th>\n",
              "      <td>THE WORLDPOST</td>\n",
              "      <td>Everything Is Better For The Super Rich. Even Jail Time.</td>\n",
              "      <td>NaN</td>\n",
              "      <td>https://www.huffingtonpost.comhttp://www.nytimes.com/2016/06/02/nyregion/rich-defendants-request-to-judges-lock-me-up-in-a-gilded-cage.html?_r=0</td>\n",
              "      <td>The rich are different from everyone else, even those accused of crimes. But a handful of extremely wealthy defendants, particularly</td>\n",
              "      <td>2016-06-02</td>\n",
              "      <td>2016</td>\n",
              "    </tr>\n",
              "    <tr>\n",
              "      <th>30400</th>\n",
              "      <td>THE WORLDPOST</td>\n",
              "      <td>Iraqi Intelligence Says Islamic State's Second-In-Command Has Been Killed</td>\n",
              "      <td>NaN</td>\n",
              "      <td>https://www.huffingtonpost.com/entry/isis-second-in-command-killed_us_58dfa990e4b0c777f787cf04</td>\n",
              "      <td>Ayad al-Jumaili, the man believed to be the deputy of Islamic Stateâ€™s leader Abu Bakr al-Baghdadi, has reportedly been killed.</td>\n",
              "      <td>2017-04-01</td>\n",
              "      <td>2017</td>\n",
              "    </tr>\n",
              "    <tr>\n",
              "      <th>57414</th>\n",
              "      <td>THE WORLDPOST</td>\n",
              "      <td>Turkish President: No Muslim Family Should Engage In Birth Control</td>\n",
              "      <td>NaN</td>\n",
              "      <td>https://www.huffingtonpost.com/entry/turkish-president-no-muslim-family-should-engage-in-birth-control_us_574c96e9e4b055bb11728a2f</td>\n",
              "      <td>ISTANBUL (Reuters) - No Muslim family should engage in birth control or family planning, Turkish President Tayyip Erdogan</td>\n",
              "      <td>2016-05-30</td>\n",
              "      <td>2016</td>\n",
              "    </tr>\n",
              "  </tbody>\n",
              "</table>\n",
              "</div>"
            ]
          },
          "metadata": {},
          "execution_count": 31
        }
      ]
    },
    {
      "cell_type": "code",
      "source": [
        "raw.loc[raw['category'] == 'GOOD NEWS'].sample(5)"
      ],
      "metadata": {
        "colab": {
          "base_uri": "https://localhost:8080/",
          "height": 362
        },
        "id": "9r9xkC-qBaL_",
        "outputId": "00861157-0e53-4d2d-d0cd-2cdd2acead37"
      },
      "execution_count": null,
      "outputs": [
        {
          "output_type": "execute_result",
          "data": {
            "text/plain": [
              "         category  \\\n",
              "67697   GOOD NEWS   \n",
              "53328   GOOD NEWS   \n",
              "21135   GOOD NEWS   \n",
              "102201  GOOD NEWS   \n",
              "84040   GOOD NEWS   \n",
              "\n",
              "                                                                                      headline  \\\n",
              "67697   Prince Harry Helps Woman In Wheelchair Who Fell, Proves Again He's Pretty Darn Perfect   \n",
              "53328                                        This Big Dog And Little Bird Are Inseparable Pals   \n",
              "21135                  Tiny Seal Pup Found Tangled In Fishing Net Saved In Heartwarming Rescue   \n",
              "102201                                Perspective: The Worst Thing Ever or the Best Thing Ever   \n",
              "84040                They Shoot Horses, Don't They? Not If These Equine Innovators Can Help It   \n",
              "\n",
              "                                                                                            authors  \\\n",
              "67697                                                                                  Kimberly Yam   \n",
              "53328                                                                                 Hilary Hanson   \n",
              "21135                                                                                Nina Golgowski   \n",
              "102201  John Brubaker, ContributorNationally renowned performance consultant, speaker and award-...   \n",
              "84040                                                                                Arin Greenwood   \n",
              "\n",
              "                                                                                                                                             link  \\\n",
              "67697   https://www.huffingtonpost.com/entry/prince-harry-helps-woman-who-fell-in-wheelchair-at-invictus-games-trials_us_56b0d7c7e4b0655877f73063   \n",
              "53328                                                      https://www.huffingtonpost.com/entry/dog-bird-best-friends_us_57881b1be4b03fc3ee502ed3   \n",
              "21135                                                     https://www.huffingtonpost.com/entry/lobstermen-rescue-seal_us_596f596be4b00db3d0f49420   \n",
              "102201                                                              https://www.huffingtonpost.com/entry/perspective-the-worst-thi_b_6418714.html   \n",
              "84040                                                         https://www.huffingtonpost.com/entry/horses-broken-legs_us_55b11ee5e4b08f57d5d3e35a   \n",
              "\n",
              "                                                                                                                                                               short_description  \\\n",
              "67697                                                                                                   So we're proposing that Prince Harry change his name to Prince Charming.   \n",
              "53328                                                                                                           But in general, please leave helping wildlife up to the experts.   \n",
              "21135                                                                                                                                                    Lobstermen for the win!   \n",
              "102201  If you're in the midst of something difficult, find a way to gain perspective. Approach your challenges with gratitude not resentment; with fascination not frustration.   \n",
              "84040                                                                                              \"I can't imagine if someone had suggested shooting me because I lost my leg.\"   \n",
              "\n",
              "             date  year  \n",
              "67697  2016-02-02  2016  \n",
              "53328  2016-07-15  2016  \n",
              "21135  2017-07-19  2017  \n",
              "102201 2015-01-05  2015  \n",
              "84040  2015-08-02  2015  "
            ],
            "text/html": [
              "<div>\n",
              "<style scoped>\n",
              "    .dataframe tbody tr th:only-of-type {\n",
              "        vertical-align: middle;\n",
              "    }\n",
              "\n",
              "    .dataframe tbody tr th {\n",
              "        vertical-align: top;\n",
              "    }\n",
              "\n",
              "    .dataframe thead th {\n",
              "        text-align: right;\n",
              "    }\n",
              "</style>\n",
              "<table border=\"1\" class=\"dataframe\">\n",
              "  <thead>\n",
              "    <tr style=\"text-align: right;\">\n",
              "      <th></th>\n",
              "      <th>category</th>\n",
              "      <th>headline</th>\n",
              "      <th>authors</th>\n",
              "      <th>link</th>\n",
              "      <th>short_description</th>\n",
              "      <th>date</th>\n",
              "      <th>year</th>\n",
              "    </tr>\n",
              "  </thead>\n",
              "  <tbody>\n",
              "    <tr>\n",
              "      <th>67697</th>\n",
              "      <td>GOOD NEWS</td>\n",
              "      <td>Prince Harry Helps Woman In Wheelchair Who Fell, Proves Again He's Pretty Darn Perfect</td>\n",
              "      <td>Kimberly Yam</td>\n",
              "      <td>https://www.huffingtonpost.com/entry/prince-harry-helps-woman-who-fell-in-wheelchair-at-invictus-games-trials_us_56b0d7c7e4b0655877f73063</td>\n",
              "      <td>So we're proposing that Prince Harry change his name to Prince Charming.</td>\n",
              "      <td>2016-02-02</td>\n",
              "      <td>2016</td>\n",
              "    </tr>\n",
              "    <tr>\n",
              "      <th>53328</th>\n",
              "      <td>GOOD NEWS</td>\n",
              "      <td>This Big Dog And Little Bird Are Inseparable Pals</td>\n",
              "      <td>Hilary Hanson</td>\n",
              "      <td>https://www.huffingtonpost.com/entry/dog-bird-best-friends_us_57881b1be4b03fc3ee502ed3</td>\n",
              "      <td>But in general, please leave helping wildlife up to the experts.</td>\n",
              "      <td>2016-07-15</td>\n",
              "      <td>2016</td>\n",
              "    </tr>\n",
              "    <tr>\n",
              "      <th>21135</th>\n",
              "      <td>GOOD NEWS</td>\n",
              "      <td>Tiny Seal Pup Found Tangled In Fishing Net Saved In Heartwarming Rescue</td>\n",
              "      <td>Nina Golgowski</td>\n",
              "      <td>https://www.huffingtonpost.com/entry/lobstermen-rescue-seal_us_596f596be4b00db3d0f49420</td>\n",
              "      <td>Lobstermen for the win!</td>\n",
              "      <td>2017-07-19</td>\n",
              "      <td>2017</td>\n",
              "    </tr>\n",
              "    <tr>\n",
              "      <th>102201</th>\n",
              "      <td>GOOD NEWS</td>\n",
              "      <td>Perspective: The Worst Thing Ever or the Best Thing Ever</td>\n",
              "      <td>John Brubaker, ContributorNationally renowned performance consultant, speaker and award-...</td>\n",
              "      <td>https://www.huffingtonpost.com/entry/perspective-the-worst-thi_b_6418714.html</td>\n",
              "      <td>If you're in the midst of something difficult, find a way to gain perspective. Approach your challenges with gratitude not resentment; with fascination not frustration.</td>\n",
              "      <td>2015-01-05</td>\n",
              "      <td>2015</td>\n",
              "    </tr>\n",
              "    <tr>\n",
              "      <th>84040</th>\n",
              "      <td>GOOD NEWS</td>\n",
              "      <td>They Shoot Horses, Don't They? Not If These Equine Innovators Can Help It</td>\n",
              "      <td>Arin Greenwood</td>\n",
              "      <td>https://www.huffingtonpost.com/entry/horses-broken-legs_us_55b11ee5e4b08f57d5d3e35a</td>\n",
              "      <td>\"I can't imagine if someone had suggested shooting me because I lost my leg.\"</td>\n",
              "      <td>2015-08-02</td>\n",
              "      <td>2015</td>\n",
              "    </tr>\n",
              "  </tbody>\n",
              "</table>\n",
              "</div>"
            ]
          },
          "metadata": {},
          "execution_count": 32
        }
      ]
    },
    {
      "cell_type": "code",
      "source": [
        "raw.loc[raw['category'] == 'WEDDINGS'].sample(5)"
      ],
      "metadata": {
        "colab": {
          "base_uri": "https://localhost:8080/",
          "height": 362
        },
        "id": "GVB4tNYVCUS5",
        "outputId": "4a2e1c26-409a-4163-ebe1-f06d0016738e"
      },
      "execution_count": null,
      "outputs": [
        {
          "output_type": "execute_result",
          "data": {
            "text/plain": [
              "        category  \\\n",
              "163969  WEDDINGS   \n",
              "196978  WEDDINGS   \n",
              "131811  WEDDINGS   \n",
              "182447  WEDDINGS   \n",
              "144097  WEDDINGS   \n",
              "\n",
              "                                                                          headline  \\\n",
              "163969                      Bridezilla vs. Her Mummy: Whose Wedding Is It, Anyway?   \n",
              "196978                                                 Fantastic DIY Wedding Signs   \n",
              "131811                                      Katie Couric Reveals Her Wedding Plans   \n",
              "182447                            7 Reasons Why Diamonds Are a Waste of Your Money   \n",
              "144097  Football Wedding Held At Louisville Tailgate Is Spirited And Sweet (VIDEO)   \n",
              "\n",
              "                                                        authors  \\\n",
              "163969  Janice Van Dyck, Contributor\\nAuthor, \"Finding Frances\"   \n",
              "196978             Daniel Maloney, Contributor\\nCEO, BridesView   \n",
              "131811                                                      NaN   \n",
              "182447       Ira Weissman, Contributor\\nDiamond Industry Expert   \n",
              "144097                                                      NaN   \n",
              "\n",
              "                                                                                              link  \\\n",
              "163969    https://www.huffingtonpost.com/entry/bridezilla-vs-her-mummy_us_5b9ccc8be4b03a1dcc81f85b   \n",
              "196978  https://www.huffingtonpost.com/entry/fantastic-diy-wedding-sig_us_5b9b379be4b03a1dcc7596ff   \n",
              "131811       https://www.huffingtonpost.com/entry/katie-couric-wedding_us_5b9dd4eae4b03a1dcc8d847d   \n",
              "182447  https://www.huffingtonpost.com/entry/7-reasons-why-you-shouldn_us_5b9c104ce4b03a1dcc7c1b02   \n",
              "144097           https://www.huffingtonpost.com/entry/football-wedding_us_5b9d8b37e4b03a1dcc895354   \n",
              "\n",
              "                                                                                                                                                                         short_description  \\\n",
              "163969                                                                                            The difference between mother of the bride and mother-in-law comes down to just one day.   \n",
              "196978  From homemade wedding dresses to handcrafted decorations, the details of DIY weddings are often the core of their inspiring nature. Signs are a nice touch for DIY wedding dÃ©cor.   \n",
              "131811                                                            Keep in touch! Check out HuffPost Weddings on Facebook, Twitter and Pinterest. When Stern asked if he was invited to the   \n",
              "182447                                     Considering my deep personal involvement in the diamond business, my opinion might surprise you -- diamonds are a terrible waste of your money.   \n",
              "144097                                                         Keep in touch! Check out HuffPost Weddings on Facebook, Twitter and Pinterest. For sports fans, the number one rule of fall   \n",
              "\n",
              "             date  year  \n",
              "163969 2013-02-27  2013  \n",
              "196978 2012-03-09  2012  \n",
              "131811 2014-02-03  2014  \n",
              "182447 2012-08-13  2012  \n",
              "144097 2013-09-25  2013  "
            ],
            "text/html": [
              "<div>\n",
              "<style scoped>\n",
              "    .dataframe tbody tr th:only-of-type {\n",
              "        vertical-align: middle;\n",
              "    }\n",
              "\n",
              "    .dataframe tbody tr th {\n",
              "        vertical-align: top;\n",
              "    }\n",
              "\n",
              "    .dataframe thead th {\n",
              "        text-align: right;\n",
              "    }\n",
              "</style>\n",
              "<table border=\"1\" class=\"dataframe\">\n",
              "  <thead>\n",
              "    <tr style=\"text-align: right;\">\n",
              "      <th></th>\n",
              "      <th>category</th>\n",
              "      <th>headline</th>\n",
              "      <th>authors</th>\n",
              "      <th>link</th>\n",
              "      <th>short_description</th>\n",
              "      <th>date</th>\n",
              "      <th>year</th>\n",
              "    </tr>\n",
              "  </thead>\n",
              "  <tbody>\n",
              "    <tr>\n",
              "      <th>163969</th>\n",
              "      <td>WEDDINGS</td>\n",
              "      <td>Bridezilla vs. Her Mummy: Whose Wedding Is It, Anyway?</td>\n",
              "      <td>Janice Van Dyck, Contributor\\nAuthor, \"Finding Frances\"</td>\n",
              "      <td>https://www.huffingtonpost.com/entry/bridezilla-vs-her-mummy_us_5b9ccc8be4b03a1dcc81f85b</td>\n",
              "      <td>The difference between mother of the bride and mother-in-law comes down to just one day.</td>\n",
              "      <td>2013-02-27</td>\n",
              "      <td>2013</td>\n",
              "    </tr>\n",
              "    <tr>\n",
              "      <th>196978</th>\n",
              "      <td>WEDDINGS</td>\n",
              "      <td>Fantastic DIY Wedding Signs</td>\n",
              "      <td>Daniel Maloney, Contributor\\nCEO, BridesView</td>\n",
              "      <td>https://www.huffingtonpost.com/entry/fantastic-diy-wedding-sig_us_5b9b379be4b03a1dcc7596ff</td>\n",
              "      <td>From homemade wedding dresses to handcrafted decorations, the details of DIY weddings are often the core of their inspiring nature. Signs are a nice touch for DIY wedding dÃ©cor.</td>\n",
              "      <td>2012-03-09</td>\n",
              "      <td>2012</td>\n",
              "    </tr>\n",
              "    <tr>\n",
              "      <th>131811</th>\n",
              "      <td>WEDDINGS</td>\n",
              "      <td>Katie Couric Reveals Her Wedding Plans</td>\n",
              "      <td>NaN</td>\n",
              "      <td>https://www.huffingtonpost.com/entry/katie-couric-wedding_us_5b9dd4eae4b03a1dcc8d847d</td>\n",
              "      <td>Keep in touch! Check out HuffPost Weddings on Facebook, Twitter and Pinterest. When Stern asked if he was invited to the</td>\n",
              "      <td>2014-02-03</td>\n",
              "      <td>2014</td>\n",
              "    </tr>\n",
              "    <tr>\n",
              "      <th>182447</th>\n",
              "      <td>WEDDINGS</td>\n",
              "      <td>7 Reasons Why Diamonds Are a Waste of Your Money</td>\n",
              "      <td>Ira Weissman, Contributor\\nDiamond Industry Expert</td>\n",
              "      <td>https://www.huffingtonpost.com/entry/7-reasons-why-you-shouldn_us_5b9c104ce4b03a1dcc7c1b02</td>\n",
              "      <td>Considering my deep personal involvement in the diamond business, my opinion might surprise you -- diamonds are a terrible waste of your money.</td>\n",
              "      <td>2012-08-13</td>\n",
              "      <td>2012</td>\n",
              "    </tr>\n",
              "    <tr>\n",
              "      <th>144097</th>\n",
              "      <td>WEDDINGS</td>\n",
              "      <td>Football Wedding Held At Louisville Tailgate Is Spirited And Sweet (VIDEO)</td>\n",
              "      <td>NaN</td>\n",
              "      <td>https://www.huffingtonpost.com/entry/football-wedding_us_5b9d8b37e4b03a1dcc895354</td>\n",
              "      <td>Keep in touch! Check out HuffPost Weddings on Facebook, Twitter and Pinterest. For sports fans, the number one rule of fall</td>\n",
              "      <td>2013-09-25</td>\n",
              "      <td>2013</td>\n",
              "    </tr>\n",
              "  </tbody>\n",
              "</table>\n",
              "</div>"
            ]
          },
          "metadata": {},
          "execution_count": 33
        }
      ]
    },
    {
      "cell_type": "code",
      "source": [
        "raw.loc[raw['category'] == 'WOMEN'].sample(5)"
      ],
      "metadata": {
        "colab": {
          "base_uri": "https://localhost:8080/",
          "height": 293
        },
        "id": "5-kxoHT4CyBu",
        "outputId": "cf7f842f-3f3c-46bf-fff0-7ae566b57c11"
      },
      "execution_count": null,
      "outputs": [
        {
          "output_type": "execute_result",
          "data": {
            "text/plain": [
              "      category  \\\n",
              "13098    WOMEN   \n",
              "37647    WOMEN   \n",
              "42692    WOMEN   \n",
              "66872    WOMEN   \n",
              "67243    WOMEN   \n",
              "\n",
              "                                                                  headline  \\\n",
              "13098   Rose McGowan On Sexual Violence: 'Name It. Shame It. Call It Out.'   \n",
              "37647    Cecile Richards: 'Women Are Absolutely Not Going Without A Fight'   \n",
              "42692                                     The Picture I'd Planned To Share   \n",
              "66872  Voters Are Urging Democratic Debate Moderators To #AskAboutAbortion   \n",
              "67243                        Newsflash: Young Women Vote With Their Brains   \n",
              "\n",
              "                                                                        authors  \\\n",
              "13098                                                           Alanna Vagianos   \n",
              "37647                                                           Alanna Vagianos   \n",
              "42692  Rick ZednÃ­k, ContributorCEO, Women Political Leaders Global Forum (WPL)   \n",
              "66872                                                           Alanna Vagianos   \n",
              "67243                                                                 Emma Gray   \n",
              "\n",
              "                                                                                                                                      link  \\\n",
              "13098        https://www.huffingtonpost.com/entry/rose-mcgowan-on-sexual-violence-name-it-shame-it-call-it-out_us_59f34677e4b077d8dfc93745   \n",
              "37647      https://www.huffingtonpost.com/entry/cecile-richards-women-are-absolutely-not-going-without-a-fight_us_58751b8fe4b099cdb0ffb855   \n",
              "42692                                     https://www.huffingtonpost.com/entry/the-picture-id-planned-to-share_us_58276d3de4b02b1f5257a33c   \n",
              "66872  https://www.huffingtonpost.com/entry/voters-are-urging-democratic-debate-moderators-to-askaboutabortion_us_56bca415e4b0c3c550502e41   \n",
              "67243                        https://www.huffingtonpost.com/entry/newsflash-young-women-vote-with-their-brains_us_56b64b4ae4b01d80b2468842   \n",
              "\n",
              "                                                                            short_description  \\\n",
              "13098  The actress spoke publicly for the first time since accusing Harvey Weinstein of rape.   \n",
              "37647    Reminder from the Planned Parenthood president: Health care is not a partisan issue.   \n",
              "42692            Some years from now, I look forward to taking another photo of my daughters.   \n",
              "66872                        Democrats, it's time to address reproductive rights at a debate.   \n",
              "67243             Let's stop acting like millennials can't make thoughtful political choices.   \n",
              "\n",
              "            date  year  \n",
              "13098 2017-10-27  2017  \n",
              "37647 2017-01-10  2017  \n",
              "42692 2016-11-12  2016  \n",
              "66872 2016-02-11  2016  \n",
              "67243 2016-02-07  2016  "
            ],
            "text/html": [
              "<div>\n",
              "<style scoped>\n",
              "    .dataframe tbody tr th:only-of-type {\n",
              "        vertical-align: middle;\n",
              "    }\n",
              "\n",
              "    .dataframe tbody tr th {\n",
              "        vertical-align: top;\n",
              "    }\n",
              "\n",
              "    .dataframe thead th {\n",
              "        text-align: right;\n",
              "    }\n",
              "</style>\n",
              "<table border=\"1\" class=\"dataframe\">\n",
              "  <thead>\n",
              "    <tr style=\"text-align: right;\">\n",
              "      <th></th>\n",
              "      <th>category</th>\n",
              "      <th>headline</th>\n",
              "      <th>authors</th>\n",
              "      <th>link</th>\n",
              "      <th>short_description</th>\n",
              "      <th>date</th>\n",
              "      <th>year</th>\n",
              "    </tr>\n",
              "  </thead>\n",
              "  <tbody>\n",
              "    <tr>\n",
              "      <th>13098</th>\n",
              "      <td>WOMEN</td>\n",
              "      <td>Rose McGowan On Sexual Violence: 'Name It. Shame It. Call It Out.'</td>\n",
              "      <td>Alanna Vagianos</td>\n",
              "      <td>https://www.huffingtonpost.com/entry/rose-mcgowan-on-sexual-violence-name-it-shame-it-call-it-out_us_59f34677e4b077d8dfc93745</td>\n",
              "      <td>The actress spoke publicly for the first time since accusing Harvey Weinstein of rape.</td>\n",
              "      <td>2017-10-27</td>\n",
              "      <td>2017</td>\n",
              "    </tr>\n",
              "    <tr>\n",
              "      <th>37647</th>\n",
              "      <td>WOMEN</td>\n",
              "      <td>Cecile Richards: 'Women Are Absolutely Not Going Without A Fight'</td>\n",
              "      <td>Alanna Vagianos</td>\n",
              "      <td>https://www.huffingtonpost.com/entry/cecile-richards-women-are-absolutely-not-going-without-a-fight_us_58751b8fe4b099cdb0ffb855</td>\n",
              "      <td>Reminder from the Planned Parenthood president: Health care is not a partisan issue.</td>\n",
              "      <td>2017-01-10</td>\n",
              "      <td>2017</td>\n",
              "    </tr>\n",
              "    <tr>\n",
              "      <th>42692</th>\n",
              "      <td>WOMEN</td>\n",
              "      <td>The Picture I'd Planned To Share</td>\n",
              "      <td>Rick ZednÃ­k, ContributorCEO, Women Political Leaders Global Forum (WPL)</td>\n",
              "      <td>https://www.huffingtonpost.com/entry/the-picture-id-planned-to-share_us_58276d3de4b02b1f5257a33c</td>\n",
              "      <td>Some years from now, I look forward to taking another photo of my daughters.</td>\n",
              "      <td>2016-11-12</td>\n",
              "      <td>2016</td>\n",
              "    </tr>\n",
              "    <tr>\n",
              "      <th>66872</th>\n",
              "      <td>WOMEN</td>\n",
              "      <td>Voters Are Urging Democratic Debate Moderators To #AskAboutAbortion</td>\n",
              "      <td>Alanna Vagianos</td>\n",
              "      <td>https://www.huffingtonpost.com/entry/voters-are-urging-democratic-debate-moderators-to-askaboutabortion_us_56bca415e4b0c3c550502e41</td>\n",
              "      <td>Democrats, it's time to address reproductive rights at a debate.</td>\n",
              "      <td>2016-02-11</td>\n",
              "      <td>2016</td>\n",
              "    </tr>\n",
              "    <tr>\n",
              "      <th>67243</th>\n",
              "      <td>WOMEN</td>\n",
              "      <td>Newsflash: Young Women Vote With Their Brains</td>\n",
              "      <td>Emma Gray</td>\n",
              "      <td>https://www.huffingtonpost.com/entry/newsflash-young-women-vote-with-their-brains_us_56b64b4ae4b01d80b2468842</td>\n",
              "      <td>Let's stop acting like millennials can't make thoughtful political choices.</td>\n",
              "      <td>2016-02-07</td>\n",
              "      <td>2016</td>\n",
              "    </tr>\n",
              "  </tbody>\n",
              "</table>\n",
              "</div>"
            ]
          },
          "metadata": {},
          "execution_count": 34
        }
      ]
    },
    {
      "cell_type": "code",
      "source": [
        "raw.loc[raw['category'] == 'HOME & LIVING'].sample(5)"
      ],
      "metadata": {
        "colab": {
          "base_uri": "https://localhost:8080/",
          "height": 362
        },
        "id": "FgPsQOEyDdbg",
        "outputId": "7a1eb3b2-e1ed-4307-a771-ba6a18121c20"
      },
      "execution_count": null,
      "outputs": [
        {
          "output_type": "execute_result",
          "data": {
            "text/plain": [
              "             category  \\\n",
              "182087  HOME & LIVING   \n",
              "134944  HOME & LIVING   \n",
              "171175  HOME & LIVING   \n",
              "141064  HOME & LIVING   \n",
              "178192  HOME & LIVING   \n",
              "\n",
              "                                                                           headline  \\\n",
              "182087  DIY Repurposing Crafts: Turn An Ordinary Bottle Into A Unique Vase (PHOTOS)   \n",
              "134944           Four Simple Ways to Use Holiday Clutter to Pack Away DÃ©cor Safely   \n",
              "171175                Christmas Gift Ideas For The Hostess or Homebody On Your List   \n",
              "141064                       Top Tricks For Making Grocery Store Flowers Look Great   \n",
              "178192                                 Name Color Survey Reveals Gender Preferences   \n",
              "\n",
              "                                                               authors  \\\n",
              "182087                                                Michelle Manetti   \n",
              "134944  Laura McHolm, Contributor\\nNorthStar Moving Company Co-Founder   \n",
              "171175                                                Michelle Manetti   \n",
              "141064                                                             NaN   \n",
              "178192                                                   Amy Marturana   \n",
              "\n",
              "                                                                                                                            link  \\\n",
              "182087         https://www.huffingtonpost.com/entry/diy-repurposing-crafts-turn-a-bottle-into-a-vase_us_5b9c279de4b03a1dcc7cb07a   \n",
              "134944                                https://www.huffingtonpost.com/entry/four-simple-ways-to-use-h_us_5b9dbf5ce4b03a1dcc8c62f7   \n",
              "171175                        https://www.huffingtonpost.com/entry/christmas-gift-ideas-2012-hostess_us_5b9c9e76e4b03a1dcc80597e   \n",
              "141064  https://www.huffingtonpost.comhttp://www.apartmenttherapy.com/tips-tricks-making-grocery-store-flowers-look-great-195636   \n",
              "178192         https://www.huffingtonpost.com/entry/name-color-survey-his-and-hers-color-infographic_us_5b9c5aebe4b03a1dcc7e0294   \n",
              "\n",
              "                                                                                                                                               short_description  \\\n",
              "182087                                  We're always looking for ways to reinvent ordinary items in our home. So, when we realized all it would take is hot glue   \n",
              "134944  Follow these four simple steps to reuse Christmas past, clear holiday clutter and make sure your dÃ©cor is in one piece next year, all at the same time!   \n",
              "171175                                                                                                              There's nothing that will be re-gifted here.   \n",
              "141064                             As wonderful as it would be to decorate your home with flowers gathered lovingly from your lush, rambling garden and arranged   \n",
              "178192                                                                  Many times, women and men who looked at the same colors called them something different.   \n",
              "\n",
              "             date  year  \n",
              "182087 2012-08-17  2012  \n",
              "134944 2013-12-31  2013  \n",
              "171175 2012-12-13  2012  \n",
              "141064 2013-10-28  2013  \n",
              "178192 2012-09-28  2012  "
            ],
            "text/html": [
              "<div>\n",
              "<style scoped>\n",
              "    .dataframe tbody tr th:only-of-type {\n",
              "        vertical-align: middle;\n",
              "    }\n",
              "\n",
              "    .dataframe tbody tr th {\n",
              "        vertical-align: top;\n",
              "    }\n",
              "\n",
              "    .dataframe thead th {\n",
              "        text-align: right;\n",
              "    }\n",
              "</style>\n",
              "<table border=\"1\" class=\"dataframe\">\n",
              "  <thead>\n",
              "    <tr style=\"text-align: right;\">\n",
              "      <th></th>\n",
              "      <th>category</th>\n",
              "      <th>headline</th>\n",
              "      <th>authors</th>\n",
              "      <th>link</th>\n",
              "      <th>short_description</th>\n",
              "      <th>date</th>\n",
              "      <th>year</th>\n",
              "    </tr>\n",
              "  </thead>\n",
              "  <tbody>\n",
              "    <tr>\n",
              "      <th>182087</th>\n",
              "      <td>HOME &amp; LIVING</td>\n",
              "      <td>DIY Repurposing Crafts: Turn An Ordinary Bottle Into A Unique Vase (PHOTOS)</td>\n",
              "      <td>Michelle Manetti</td>\n",
              "      <td>https://www.huffingtonpost.com/entry/diy-repurposing-crafts-turn-a-bottle-into-a-vase_us_5b9c279de4b03a1dcc7cb07a</td>\n",
              "      <td>We're always looking for ways to reinvent ordinary items in our home. So, when we realized all it would take is hot glue</td>\n",
              "      <td>2012-08-17</td>\n",
              "      <td>2012</td>\n",
              "    </tr>\n",
              "    <tr>\n",
              "      <th>134944</th>\n",
              "      <td>HOME &amp; LIVING</td>\n",
              "      <td>Four Simple Ways to Use Holiday Clutter to Pack Away DÃ©cor Safely</td>\n",
              "      <td>Laura McHolm, Contributor\\nNorthStar Moving Company Co-Founder</td>\n",
              "      <td>https://www.huffingtonpost.com/entry/four-simple-ways-to-use-h_us_5b9dbf5ce4b03a1dcc8c62f7</td>\n",
              "      <td>Follow these four simple steps to reuse Christmas past, clear holiday clutter and make sure your dÃ©cor is in one piece next year, all at the same time!</td>\n",
              "      <td>2013-12-31</td>\n",
              "      <td>2013</td>\n",
              "    </tr>\n",
              "    <tr>\n",
              "      <th>171175</th>\n",
              "      <td>HOME &amp; LIVING</td>\n",
              "      <td>Christmas Gift Ideas For The Hostess or Homebody On Your List</td>\n",
              "      <td>Michelle Manetti</td>\n",
              "      <td>https://www.huffingtonpost.com/entry/christmas-gift-ideas-2012-hostess_us_5b9c9e76e4b03a1dcc80597e</td>\n",
              "      <td>There's nothing that will be re-gifted here.</td>\n",
              "      <td>2012-12-13</td>\n",
              "      <td>2012</td>\n",
              "    </tr>\n",
              "    <tr>\n",
              "      <th>141064</th>\n",
              "      <td>HOME &amp; LIVING</td>\n",
              "      <td>Top Tricks For Making Grocery Store Flowers Look Great</td>\n",
              "      <td>NaN</td>\n",
              "      <td>https://www.huffingtonpost.comhttp://www.apartmenttherapy.com/tips-tricks-making-grocery-store-flowers-look-great-195636</td>\n",
              "      <td>As wonderful as it would be to decorate your home with flowers gathered lovingly from your lush, rambling garden and arranged</td>\n",
              "      <td>2013-10-28</td>\n",
              "      <td>2013</td>\n",
              "    </tr>\n",
              "    <tr>\n",
              "      <th>178192</th>\n",
              "      <td>HOME &amp; LIVING</td>\n",
              "      <td>Name Color Survey Reveals Gender Preferences</td>\n",
              "      <td>Amy Marturana</td>\n",
              "      <td>https://www.huffingtonpost.com/entry/name-color-survey-his-and-hers-color-infographic_us_5b9c5aebe4b03a1dcc7e0294</td>\n",
              "      <td>Many times, women and men who looked at the same colors called them something different.</td>\n",
              "      <td>2012-09-28</td>\n",
              "      <td>2012</td>\n",
              "    </tr>\n",
              "  </tbody>\n",
              "</table>\n",
              "</div>"
            ]
          },
          "metadata": {},
          "execution_count": 35
        }
      ]
    },
    {
      "cell_type": "code",
      "source": [
        "raw.loc[raw['category'] == 'TRAVEL'].sample(5)"
      ],
      "metadata": {
        "colab": {
          "base_uri": "https://localhost:8080/",
          "height": 380
        },
        "id": "N6cxJfwaDw79",
        "outputId": "ff3be6d8-06b8-411f-fe04-84cf80dac196"
      },
      "execution_count": null,
      "outputs": [
        {
          "output_type": "execute_result",
          "data": {
            "text/plain": [
              "       category                                                headline  \\\n",
              "129211   TRAVEL                          Your Travel Questions Answered   \n",
              "162437   TRAVEL           My Favorite 'Insider' Money Savers For Travel   \n",
              "190949   TRAVEL               Stepping Back In Time In Myanmar (PHOTOS)   \n",
              "153506   TRAVEL      Trend Watch: The Rise of Immersive Role-Play Games   \n",
              "136920   TRAVEL  Strange and Funny Bathroom Signs From Around the World   \n",
              "\n",
              "                                                                                         authors  \\\n",
              "129211     George Hobica, Contributor\\nSyndicated travel writer and founder, Airfarewatchdog.com   \n",
              "162437     George Hobica, Contributor\\nSyndicated travel writer and founder, Airfarewatchdog.com   \n",
              "190949                                             Sam Gellman, Contributor\\nTravel photographer   \n",
              "153506  MiniTime, Contributor\\nMiniTime is the first family travel site with personalized rec...   \n",
              "136920                                     Conde Nast Traveler, Contributor\\nConde Nast Traveler   \n",
              "\n",
              "                                                                                              link  \\\n",
              "129211  https://www.huffingtonpost.com/entry/your-travel-questions-ans_us_5b9de813e4b03a1dcc8e813d   \n",
              "162437  https://www.huffingtonpost.com/entry/my-favorite-insider-money_us_5b9ceef3e4b03a1dcc830eb4   \n",
              "190949  https://www.huffingtonpost.com/entry/myanmar-a-trip-back-in-ti_us_5b9bb506e4b03a1dcc79c091   \n",
              "153506  https://www.huffingtonpost.com/entry/trend-watch-the-rise-of-i_us_5b9d4501e4b03a1dcc862558   \n",
              "136920  https://www.huffingtonpost.com/entry/strange-and-funny-bathroo_us_5b9db5c9e4b03a1dcc8bcf7e   \n",
              "\n",
              "                                                                                                                                                                                                                                                                      short_description  \\\n",
              "129211                                                                                                                                                                       Q: I'll be visiting Milan this summer. Any suggestions of what to do and see, and the best places to stay?   \n",
              "162437                                                                                                                    If your hotel lowers the your room rate between the time you buy and check in, which happens about 20% of the time, you can usually rebook at the lower rate.   \n",
              "190949                                                                                                                                       in Myanmar, villagers never ask for money to have their picture taken. This is especially noteworthy because the country is terribly poor.   \n",
              "153506  Taking a cue from the enormous popularity of video games, top family travel destinations are offering high-tech interactive gaming experiences that immerse visitors in a storyline. Here are four places your family can experience this growing trend and get in on the game.   \n",
              "136920                         Loo, john, latrine, oval office, outhouse, W.C., throne room -- whatever you call it, it's a place we all have to visit sometime, no matter where we are in the world. But while the experience is universal, the way we label the space varies greatly.   \n",
              "\n",
              "             date  year  \n",
              "129211 2014-03-03  2014  \n",
              "162437 2013-03-15  2013  \n",
              "190949 2012-05-14  2012  \n",
              "153506 2013-06-18  2013  \n",
              "136920 2013-12-10  2013  "
            ],
            "text/html": [
              "<div>\n",
              "<style scoped>\n",
              "    .dataframe tbody tr th:only-of-type {\n",
              "        vertical-align: middle;\n",
              "    }\n",
              "\n",
              "    .dataframe tbody tr th {\n",
              "        vertical-align: top;\n",
              "    }\n",
              "\n",
              "    .dataframe thead th {\n",
              "        text-align: right;\n",
              "    }\n",
              "</style>\n",
              "<table border=\"1\" class=\"dataframe\">\n",
              "  <thead>\n",
              "    <tr style=\"text-align: right;\">\n",
              "      <th></th>\n",
              "      <th>category</th>\n",
              "      <th>headline</th>\n",
              "      <th>authors</th>\n",
              "      <th>link</th>\n",
              "      <th>short_description</th>\n",
              "      <th>date</th>\n",
              "      <th>year</th>\n",
              "    </tr>\n",
              "  </thead>\n",
              "  <tbody>\n",
              "    <tr>\n",
              "      <th>129211</th>\n",
              "      <td>TRAVEL</td>\n",
              "      <td>Your Travel Questions Answered</td>\n",
              "      <td>George Hobica, Contributor\\nSyndicated travel writer and founder, Airfarewatchdog.com</td>\n",
              "      <td>https://www.huffingtonpost.com/entry/your-travel-questions-ans_us_5b9de813e4b03a1dcc8e813d</td>\n",
              "      <td>Q: I'll be visiting Milan this summer. Any suggestions of what to do and see, and the best places to stay?</td>\n",
              "      <td>2014-03-03</td>\n",
              "      <td>2014</td>\n",
              "    </tr>\n",
              "    <tr>\n",
              "      <th>162437</th>\n",
              "      <td>TRAVEL</td>\n",
              "      <td>My Favorite 'Insider' Money Savers For Travel</td>\n",
              "      <td>George Hobica, Contributor\\nSyndicated travel writer and founder, Airfarewatchdog.com</td>\n",
              "      <td>https://www.huffingtonpost.com/entry/my-favorite-insider-money_us_5b9ceef3e4b03a1dcc830eb4</td>\n",
              "      <td>If your hotel lowers the your room rate between the time you buy and check in, which happens about 20% of the time, you can usually rebook at the lower rate.</td>\n",
              "      <td>2013-03-15</td>\n",
              "      <td>2013</td>\n",
              "    </tr>\n",
              "    <tr>\n",
              "      <th>190949</th>\n",
              "      <td>TRAVEL</td>\n",
              "      <td>Stepping Back In Time In Myanmar (PHOTOS)</td>\n",
              "      <td>Sam Gellman, Contributor\\nTravel photographer</td>\n",
              "      <td>https://www.huffingtonpost.com/entry/myanmar-a-trip-back-in-ti_us_5b9bb506e4b03a1dcc79c091</td>\n",
              "      <td>in Myanmar, villagers never ask for money to have their picture taken. This is especially noteworthy because the country is terribly poor.</td>\n",
              "      <td>2012-05-14</td>\n",
              "      <td>2012</td>\n",
              "    </tr>\n",
              "    <tr>\n",
              "      <th>153506</th>\n",
              "      <td>TRAVEL</td>\n",
              "      <td>Trend Watch: The Rise of Immersive Role-Play Games</td>\n",
              "      <td>MiniTime, Contributor\\nMiniTime is the first family travel site with personalized rec...</td>\n",
              "      <td>https://www.huffingtonpost.com/entry/trend-watch-the-rise-of-i_us_5b9d4501e4b03a1dcc862558</td>\n",
              "      <td>Taking a cue from the enormous popularity of video games, top family travel destinations are offering high-tech interactive gaming experiences that immerse visitors in a storyline. Here are four places your family can experience this growing trend and get in on the game.</td>\n",
              "      <td>2013-06-18</td>\n",
              "      <td>2013</td>\n",
              "    </tr>\n",
              "    <tr>\n",
              "      <th>136920</th>\n",
              "      <td>TRAVEL</td>\n",
              "      <td>Strange and Funny Bathroom Signs From Around the World</td>\n",
              "      <td>Conde Nast Traveler, Contributor\\nConde Nast Traveler</td>\n",
              "      <td>https://www.huffingtonpost.com/entry/strange-and-funny-bathroo_us_5b9db5c9e4b03a1dcc8bcf7e</td>\n",
              "      <td>Loo, john, latrine, oval office, outhouse, W.C., throne room -- whatever you call it, it's a place we all have to visit sometime, no matter where we are in the world. But while the experience is universal, the way we label the space varies greatly.</td>\n",
              "      <td>2013-12-10</td>\n",
              "      <td>2013</td>\n",
              "    </tr>\n",
              "  </tbody>\n",
              "</table>\n",
              "</div>"
            ]
          },
          "metadata": {},
          "execution_count": 36
        }
      ]
    },
    {
      "cell_type": "code",
      "source": [
        "raw.loc[raw['category'] == 'STYLE & BEAUTY'].sample(5)"
      ],
      "metadata": {
        "colab": {
          "base_uri": "https://localhost:8080/",
          "height": 362
        },
        "id": "auFgHqFBD8xA",
        "outputId": "ba989803-81e4-4129-fffb-7f54c65ff9fd"
      },
      "execution_count": null,
      "outputs": [
        {
          "output_type": "execute_result",
          "data": {
            "text/plain": [
              "              category  \\\n",
              "189856  STYLE & BEAUTY   \n",
              "188988  STYLE & BEAUTY   \n",
              "130970  STYLE & BEAUTY   \n",
              "180770  STYLE & BEAUTY   \n",
              "197178  STYLE & BEAUTY   \n",
              "\n",
              "                                                                                       headline  \\\n",
              "189856  Keira Knightley Engagement: What Has The Enigmatic Star Been Wearing All Year? (PHOTOS)   \n",
              "188988                   Adele Wore '3 Or 4 Pairs Of Spanx' At The 2012 Grammys (VIDEO, PHOTOS)   \n",
              "130970                    Redheads, You're the Strong Trend This New York Fashion Week (PHOTOS)   \n",
              "180770                       Princess Diana & Kate Moss Shake Hands: Fashion Flashback (PHOTOS)   \n",
              "197178                                                Re-Cycling: Peddling 2-Wheeler Miscellany   \n",
              "\n",
              "                                                                  authors  \\\n",
              "189856                                                                NaN   \n",
              "188988                                                                NaN   \n",
              "130970  Adrienne Vendetti, Contributor\\nCo-Founder of How to be a Redhead   \n",
              "180770                                                                NaN   \n",
              "197178  Michael Phillips Moskowitz, Contributor\\nFounder, BUREAU OF TRADE   \n",
              "\n",
              "                                                                                                    link  \\\n",
              "189856       https://www.huffingtonpost.com/entry/keira-knightley-engagement_us_5b9bc27de4b03a1dcc7a2161   \n",
              "188988         https://www.huffingtonpost.com/entry/adele-spanx-grammys-2012_us_5b9bcd87e4b03a1dcc7a635d   \n",
              "130970        https://www.huffingtonpost.com/entry/redheads-youre-the-strong_us_5b9ddb28e4b03a1dcc8dc8d6   \n",
              "180770  https://www.huffingtonpost.com/entry/princess-diana-kate-moss-photos_us_5b9c36f5e4b03a1dcc7d25d6   \n",
              "197178        https://www.huffingtonpost.com/entry/recycling-peddling-2wheel_us_5b9b62b1e4b03a1dcc771dd7   \n",
              "\n",
              "                                                                                                                                                                            short_description  \\\n",
              "189856                                                            Does her style get tongues wagging? Not so much. But have we ever seen a major red carpet flub from this A-lister? Not that   \n",
              "188988                                                            \"It,\" of course, is the stunning custom Giorgio Armani gown that landed Adele on everyone's \"Best Dressed\" lists that night   \n",
              "130970                            Never before have we seen so many redheads walk the runway in one week. It makes us think: redheads must be the strongest trend this New York Fashion Week.   \n",
              "180770                                                             Kate Moss also made an appearance, resulting in the fabulous photo opp below. Queen Elizabeth II has met all sorts of cool   \n",
              "197178  Simple pieces, built around austere engineering principles. Light-touch design. Little or no rhetorical flourishes -- the way it ought to be. That's the focus of this week's spread.   \n",
              "\n",
              "             date  year  \n",
              "189856 2012-05-25  2012  \n",
              "188988 2012-06-04  2012  \n",
              "130970 2014-02-11  2014  \n",
              "180770 2012-08-31  2012  \n",
              "197178 2012-03-07  2012  "
            ],
            "text/html": [
              "<div>\n",
              "<style scoped>\n",
              "    .dataframe tbody tr th:only-of-type {\n",
              "        vertical-align: middle;\n",
              "    }\n",
              "\n",
              "    .dataframe tbody tr th {\n",
              "        vertical-align: top;\n",
              "    }\n",
              "\n",
              "    .dataframe thead th {\n",
              "        text-align: right;\n",
              "    }\n",
              "</style>\n",
              "<table border=\"1\" class=\"dataframe\">\n",
              "  <thead>\n",
              "    <tr style=\"text-align: right;\">\n",
              "      <th></th>\n",
              "      <th>category</th>\n",
              "      <th>headline</th>\n",
              "      <th>authors</th>\n",
              "      <th>link</th>\n",
              "      <th>short_description</th>\n",
              "      <th>date</th>\n",
              "      <th>year</th>\n",
              "    </tr>\n",
              "  </thead>\n",
              "  <tbody>\n",
              "    <tr>\n",
              "      <th>189856</th>\n",
              "      <td>STYLE &amp; BEAUTY</td>\n",
              "      <td>Keira Knightley Engagement: What Has The Enigmatic Star Been Wearing All Year? (PHOTOS)</td>\n",
              "      <td>NaN</td>\n",
              "      <td>https://www.huffingtonpost.com/entry/keira-knightley-engagement_us_5b9bc27de4b03a1dcc7a2161</td>\n",
              "      <td>Does her style get tongues wagging? Not so much. But have we ever seen a major red carpet flub from this A-lister? Not that</td>\n",
              "      <td>2012-05-25</td>\n",
              "      <td>2012</td>\n",
              "    </tr>\n",
              "    <tr>\n",
              "      <th>188988</th>\n",
              "      <td>STYLE &amp; BEAUTY</td>\n",
              "      <td>Adele Wore '3 Or 4 Pairs Of Spanx' At The 2012 Grammys (VIDEO, PHOTOS)</td>\n",
              "      <td>NaN</td>\n",
              "      <td>https://www.huffingtonpost.com/entry/adele-spanx-grammys-2012_us_5b9bcd87e4b03a1dcc7a635d</td>\n",
              "      <td>\"It,\" of course, is the stunning custom Giorgio Armani gown that landed Adele on everyone's \"Best Dressed\" lists that night</td>\n",
              "      <td>2012-06-04</td>\n",
              "      <td>2012</td>\n",
              "    </tr>\n",
              "    <tr>\n",
              "      <th>130970</th>\n",
              "      <td>STYLE &amp; BEAUTY</td>\n",
              "      <td>Redheads, You're the Strong Trend This New York Fashion Week (PHOTOS)</td>\n",
              "      <td>Adrienne Vendetti, Contributor\\nCo-Founder of How to be a Redhead</td>\n",
              "      <td>https://www.huffingtonpost.com/entry/redheads-youre-the-strong_us_5b9ddb28e4b03a1dcc8dc8d6</td>\n",
              "      <td>Never before have we seen so many redheads walk the runway in one week. It makes us think: redheads must be the strongest trend this New York Fashion Week.</td>\n",
              "      <td>2014-02-11</td>\n",
              "      <td>2014</td>\n",
              "    </tr>\n",
              "    <tr>\n",
              "      <th>180770</th>\n",
              "      <td>STYLE &amp; BEAUTY</td>\n",
              "      <td>Princess Diana &amp; Kate Moss Shake Hands: Fashion Flashback (PHOTOS)</td>\n",
              "      <td>NaN</td>\n",
              "      <td>https://www.huffingtonpost.com/entry/princess-diana-kate-moss-photos_us_5b9c36f5e4b03a1dcc7d25d6</td>\n",
              "      <td>Kate Moss also made an appearance, resulting in the fabulous photo opp below. Queen Elizabeth II has met all sorts of cool</td>\n",
              "      <td>2012-08-31</td>\n",
              "      <td>2012</td>\n",
              "    </tr>\n",
              "    <tr>\n",
              "      <th>197178</th>\n",
              "      <td>STYLE &amp; BEAUTY</td>\n",
              "      <td>Re-Cycling: Peddling 2-Wheeler Miscellany</td>\n",
              "      <td>Michael Phillips Moskowitz, Contributor\\nFounder, BUREAU OF TRADE</td>\n",
              "      <td>https://www.huffingtonpost.com/entry/recycling-peddling-2wheel_us_5b9b62b1e4b03a1dcc771dd7</td>\n",
              "      <td>Simple pieces, built around austere engineering principles. Light-touch design. Little or no rhetorical flourishes -- the way it ought to be. That's the focus of this week's spread.</td>\n",
              "      <td>2012-03-07</td>\n",
              "      <td>2012</td>\n",
              "    </tr>\n",
              "  </tbody>\n",
              "</table>\n",
              "</div>"
            ]
          },
          "metadata": {},
          "execution_count": 37
        }
      ]
    },
    {
      "cell_type": "code",
      "source": [
        "raw.loc[raw['category'] == 'IMPACT'].sample(5)"
      ],
      "metadata": {
        "colab": {
          "base_uri": "https://localhost:8080/",
          "height": 432
        },
        "id": "VXI0lUuqazLS",
        "outputId": "c5fa83a0-8529-44f0-f396-8ac25e26edd5"
      },
      "execution_count": null,
      "outputs": [
        {
          "output_type": "execute_result",
          "data": {
            "text/plain": [
              "       category  \\\n",
              "115429   IMPACT   \n",
              "167603   IMPACT   \n",
              "116877   IMPACT   \n",
              "17137    IMPACT   \n",
              "107560   IMPACT   \n",
              "\n",
              "                                                                                                        headline  \\\n",
              "115429                                                                               Giving Birth in a Graveyard   \n",
              "167603                                                               Life After Death: Why the Growing Interest?   \n",
              "116877                          Good Governance -- A Sustainable Development Goal Too Essential To Be Side-lined   \n",
              "17137                                                                           My Hometown And Hurricane Harvey   \n",
              "107560  Using the Data Revolution for Mutual Accountability & Transparency in the Era of Sustainable Development   \n",
              "\n",
              "                                                                                                   authors  \\\n",
              "115429                                                 Suzanne Skees, ContributorNonprofit director/writer   \n",
              "167603  Elisa Medhus, M.D., Contributor\\nVeteran physician and author, 'My Son and the Afterlife: Conve...   \n",
              "116877                                       David Weiss, ContributorPresident and CEO, Global Communities   \n",
              "17137                    Sharon Bush, ContributorCEO of Teddy Shares/Mother, Entrepreneur & Philanthropist   \n",
              "107560                                      Dr. Paul Zeitz, ContributorAdvocate for Global Peace & Justice   \n",
              "\n",
              "                                                                                                             link  \\\n",
              "115429                            https://www.huffingtonpost.com/entry/giving-birth-in-a-graveyard_b_5648110.html   \n",
              "167603                  https://www.huffingtonpost.com/entry/life-after-death-why-the_us_5bb1a2f1e4b01857b709192b   \n",
              "116877                              https://www.huffingtonpost.com/entry/good-governance-a-sustain_b_5595807.html   \n",
              "17137   https://www.huffingtonpost.com/entry/houston-my-hometown-and-hurricane-harvey_us_59b03f88e4b0bef3378cdd2a   \n",
              "107560                              https://www.huffingtonpost.com/entry/using-the-data-revolution_b_6053186.html   \n",
              "\n",
              "                                                                                                                                                                                                                                                                                                                   short_description  \\\n",
              "115429  Bent over a wood-fired oven, drying the fish her husband caught yesterday, 29-year-old Leticia Sam blinks the smoke from her eyes, one hand stoking the fire, the other holding her swollen belly. Expecting her fourth baby, Leticia lives atop an old graveyard piled with trash, strewn with crumbling cinderblock homes.   \n",
              "167603                                                                                                                                                          Is there sufficient proof for immortality and the existence of the afterlife? No, not 100 percent. And for me, there will never be until I'm there. But that's okay.   \n",
              "116877                                                                                               I encourage the decision makers and the governments of the world to make the right decision and to include a sustainable development goal on governance so that we can truly measure the improvements in the lives of millions.   \n",
              "17137                                                                                                                                                                                                                                                                                 I couldnâ€™t be prouder of my son and my city.   \n",
              "107560                                                                     Recognizing that we as global citizens, are, at a critical inflection point in global sustainable development, in the design and implementation of data revolution 2.0, to ensure better data for better programming, delivery and mutual accountability.   \n",
              "\n",
              "             date  year  \n",
              "115429 2014-08-06  2014  \n",
              "167603 2013-01-21  2013  \n",
              "116877 2014-07-21  2014  \n",
              "17137  2017-09-06  2017  \n",
              "107560 2014-11-04  2014  "
            ],
            "text/html": [
              "<div>\n",
              "<style scoped>\n",
              "    .dataframe tbody tr th:only-of-type {\n",
              "        vertical-align: middle;\n",
              "    }\n",
              "\n",
              "    .dataframe tbody tr th {\n",
              "        vertical-align: top;\n",
              "    }\n",
              "\n",
              "    .dataframe thead th {\n",
              "        text-align: right;\n",
              "    }\n",
              "</style>\n",
              "<table border=\"1\" class=\"dataframe\">\n",
              "  <thead>\n",
              "    <tr style=\"text-align: right;\">\n",
              "      <th></th>\n",
              "      <th>category</th>\n",
              "      <th>headline</th>\n",
              "      <th>authors</th>\n",
              "      <th>link</th>\n",
              "      <th>short_description</th>\n",
              "      <th>date</th>\n",
              "      <th>year</th>\n",
              "    </tr>\n",
              "  </thead>\n",
              "  <tbody>\n",
              "    <tr>\n",
              "      <th>115429</th>\n",
              "      <td>IMPACT</td>\n",
              "      <td>Giving Birth in a Graveyard</td>\n",
              "      <td>Suzanne Skees, ContributorNonprofit director/writer</td>\n",
              "      <td>https://www.huffingtonpost.com/entry/giving-birth-in-a-graveyard_b_5648110.html</td>\n",
              "      <td>Bent over a wood-fired oven, drying the fish her husband caught yesterday, 29-year-old Leticia Sam blinks the smoke from her eyes, one hand stoking the fire, the other holding her swollen belly. Expecting her fourth baby, Leticia lives atop an old graveyard piled with trash, strewn with crumbling cinderblock homes.</td>\n",
              "      <td>2014-08-06</td>\n",
              "      <td>2014</td>\n",
              "    </tr>\n",
              "    <tr>\n",
              "      <th>167603</th>\n",
              "      <td>IMPACT</td>\n",
              "      <td>Life After Death: Why the Growing Interest?</td>\n",
              "      <td>Elisa Medhus, M.D., Contributor\\nVeteran physician and author, 'My Son and the Afterlife: Conve...</td>\n",
              "      <td>https://www.huffingtonpost.com/entry/life-after-death-why-the_us_5bb1a2f1e4b01857b709192b</td>\n",
              "      <td>Is there sufficient proof for immortality and the existence of the afterlife? No, not 100 percent. And for me, there will never be until I'm there. But that's okay.</td>\n",
              "      <td>2013-01-21</td>\n",
              "      <td>2013</td>\n",
              "    </tr>\n",
              "    <tr>\n",
              "      <th>116877</th>\n",
              "      <td>IMPACT</td>\n",
              "      <td>Good Governance -- A Sustainable Development Goal Too Essential To Be Side-lined</td>\n",
              "      <td>David Weiss, ContributorPresident and CEO, Global Communities</td>\n",
              "      <td>https://www.huffingtonpost.com/entry/good-governance-a-sustain_b_5595807.html</td>\n",
              "      <td>I encourage the decision makers and the governments of the world to make the right decision and to include a sustainable development goal on governance so that we can truly measure the improvements in the lives of millions.</td>\n",
              "      <td>2014-07-21</td>\n",
              "      <td>2014</td>\n",
              "    </tr>\n",
              "    <tr>\n",
              "      <th>17137</th>\n",
              "      <td>IMPACT</td>\n",
              "      <td>My Hometown And Hurricane Harvey</td>\n",
              "      <td>Sharon Bush, ContributorCEO of Teddy Shares/Mother, Entrepreneur &amp; Philanthropist</td>\n",
              "      <td>https://www.huffingtonpost.com/entry/houston-my-hometown-and-hurricane-harvey_us_59b03f88e4b0bef3378cdd2a</td>\n",
              "      <td>I couldnâ€™t be prouder of my son and my city.</td>\n",
              "      <td>2017-09-06</td>\n",
              "      <td>2017</td>\n",
              "    </tr>\n",
              "    <tr>\n",
              "      <th>107560</th>\n",
              "      <td>IMPACT</td>\n",
              "      <td>Using the Data Revolution for Mutual Accountability &amp; Transparency in the Era of Sustainable Development</td>\n",
              "      <td>Dr. Paul Zeitz, ContributorAdvocate for Global Peace &amp; Justice</td>\n",
              "      <td>https://www.huffingtonpost.com/entry/using-the-data-revolution_b_6053186.html</td>\n",
              "      <td>Recognizing that we as global citizens, are, at a critical inflection point in global sustainable development, in the design and implementation of data revolution 2.0, to ensure better data for better programming, delivery and mutual accountability.</td>\n",
              "      <td>2014-11-04</td>\n",
              "      <td>2014</td>\n",
              "    </tr>\n",
              "  </tbody>\n",
              "</table>\n",
              "</div>"
            ]
          },
          "metadata": {},
          "execution_count": 38
        }
      ]
    },
    {
      "cell_type": "code",
      "source": [
        "raw.loc[raw['category'] == 'SCIENCE'].sample(5)"
      ],
      "metadata": {
        "colab": {
          "base_uri": "https://localhost:8080/",
          "height": 310
        },
        "id": "Pa8REbwUMrEc",
        "outputId": "692ee6e6-2f99-4186-c313-3a7a1439c379"
      },
      "execution_count": null,
      "outputs": [
        {
          "output_type": "execute_result",
          "data": {
            "text/plain": [
              "       category  \\\n",
              "179443  SCIENCE   \n",
              "160403  SCIENCE   \n",
              "179369  SCIENCE   \n",
              "4707    SCIENCE   \n",
              "80858   SCIENCE   \n",
              "\n",
              "                                                                                               headline  \\\n",
              "179443  M4 Star Cluster: Hubble Telescope Photographs Core Located 7,200 Light-Years From Earth (PHOTO)   \n",
              "160403               Lizards Hatch From Their Eggs Prematurely To Escape Danger, Study Suggests (VIDEO)   \n",
              "179369                         Megalodon, Prehistoric Shark, Called 'Apex Predator Of All Time' (VIDEO)   \n",
              "4707                                    Pesticides Put Wild Bees At Risk, Food Safety Watchdog Confirms   \n",
              "80858                                        Remains Of Prehistoric Monument Discovered Near Stonehenge   \n",
              "\n",
              "                         authors  \\\n",
              "179443                       NaN   \n",
              "160403         Jacqueline Howard   \n",
              "179369                Sara Gates   \n",
              "4707    By Kate Kelland, Reuters   \n",
              "80858             Lydia O'Connor   \n",
              "\n",
              "                                                                                                      link  \\\n",
              "179443   https://www.huffingtonpost.com/entry/m4-star-cluster-hubble-telescope_us_5baeb150e4b014374e2dcf3f   \n",
              "160403                      https://www.huffingtonpost.com/entry/lizards-hatch_us_5baeb573e4b014374e2e3ab4   \n",
              "179369  https://www.huffingtonpost.com/entry/megalodon-prehistoric-shark-video_us_5baeb150e4b014374e2dcf5b   \n",
              "4707              https://www.huffingtonpost.com/entry/pesticides-bees-at-risk_us_5a97c28de4b09c872bb14d55   \n",
              "80858   https://www.huffingtonpost.com/entry/ritual-area-found-near-stonehenge_us_55edb01ae4b093be51bbd309   \n",
              "\n",
              "                                                                                                                     short_description  \\\n",
              "179443      By: SPACE.com Staff Published: 09/14/2012 07:39 AM EDT on SPACE.com The image shows the heart of a globular cluster called   \n",
              "160403   There may be a downside to such emergency exits, however. \"[E]arly hatching skinks were significantly smaller and left behind   \n",
              "179369    Not much is known about the 50-plus-foot shark that once ruled the seas for 25 million years, as just about all that remains   \n",
              "4707       The EU has had a moratorium on the use of neonicotinoids since 2014 after lab research pointed to potential risks for bees.   \n",
              "80858   \"Everything written previously about the Stonehenge landscape and the ancient monuments within it will need to be re-written.\"   \n",
              "\n",
              "             date  year  \n",
              "179443 2012-09-15  2012  \n",
              "160403 2013-04-06  2013  \n",
              "179369 2012-09-16  2012  \n",
              "4707   2018-03-01  2018  \n",
              "80858  2015-09-07  2015  "
            ],
            "text/html": [
              "<div>\n",
              "<style scoped>\n",
              "    .dataframe tbody tr th:only-of-type {\n",
              "        vertical-align: middle;\n",
              "    }\n",
              "\n",
              "    .dataframe tbody tr th {\n",
              "        vertical-align: top;\n",
              "    }\n",
              "\n",
              "    .dataframe thead th {\n",
              "        text-align: right;\n",
              "    }\n",
              "</style>\n",
              "<table border=\"1\" class=\"dataframe\">\n",
              "  <thead>\n",
              "    <tr style=\"text-align: right;\">\n",
              "      <th></th>\n",
              "      <th>category</th>\n",
              "      <th>headline</th>\n",
              "      <th>authors</th>\n",
              "      <th>link</th>\n",
              "      <th>short_description</th>\n",
              "      <th>date</th>\n",
              "      <th>year</th>\n",
              "    </tr>\n",
              "  </thead>\n",
              "  <tbody>\n",
              "    <tr>\n",
              "      <th>179443</th>\n",
              "      <td>SCIENCE</td>\n",
              "      <td>M4 Star Cluster: Hubble Telescope Photographs Core Located 7,200 Light-Years From Earth (PHOTO)</td>\n",
              "      <td>NaN</td>\n",
              "      <td>https://www.huffingtonpost.com/entry/m4-star-cluster-hubble-telescope_us_5baeb150e4b014374e2dcf3f</td>\n",
              "      <td>By: SPACE.com Staff Published: 09/14/2012 07:39 AM EDT on SPACE.com The image shows the heart of a globular cluster called</td>\n",
              "      <td>2012-09-15</td>\n",
              "      <td>2012</td>\n",
              "    </tr>\n",
              "    <tr>\n",
              "      <th>160403</th>\n",
              "      <td>SCIENCE</td>\n",
              "      <td>Lizards Hatch From Their Eggs Prematurely To Escape Danger, Study Suggests (VIDEO)</td>\n",
              "      <td>Jacqueline Howard</td>\n",
              "      <td>https://www.huffingtonpost.com/entry/lizards-hatch_us_5baeb573e4b014374e2e3ab4</td>\n",
              "      <td>There may be a downside to such emergency exits, however. \"[E]arly hatching skinks were significantly smaller and left behind</td>\n",
              "      <td>2013-04-06</td>\n",
              "      <td>2013</td>\n",
              "    </tr>\n",
              "    <tr>\n",
              "      <th>179369</th>\n",
              "      <td>SCIENCE</td>\n",
              "      <td>Megalodon, Prehistoric Shark, Called 'Apex Predator Of All Time' (VIDEO)</td>\n",
              "      <td>Sara Gates</td>\n",
              "      <td>https://www.huffingtonpost.com/entry/megalodon-prehistoric-shark-video_us_5baeb150e4b014374e2dcf5b</td>\n",
              "      <td>Not much is known about the 50-plus-foot shark that once ruled the seas for 25 million years, as just about all that remains</td>\n",
              "      <td>2012-09-16</td>\n",
              "      <td>2012</td>\n",
              "    </tr>\n",
              "    <tr>\n",
              "      <th>4707</th>\n",
              "      <td>SCIENCE</td>\n",
              "      <td>Pesticides Put Wild Bees At Risk, Food Safety Watchdog Confirms</td>\n",
              "      <td>By Kate Kelland, Reuters</td>\n",
              "      <td>https://www.huffingtonpost.com/entry/pesticides-bees-at-risk_us_5a97c28de4b09c872bb14d55</td>\n",
              "      <td>The EU has had a moratorium on the use of neonicotinoids since 2014 after lab research pointed to potential risks for bees.</td>\n",
              "      <td>2018-03-01</td>\n",
              "      <td>2018</td>\n",
              "    </tr>\n",
              "    <tr>\n",
              "      <th>80858</th>\n",
              "      <td>SCIENCE</td>\n",
              "      <td>Remains Of Prehistoric Monument Discovered Near Stonehenge</td>\n",
              "      <td>Lydia O'Connor</td>\n",
              "      <td>https://www.huffingtonpost.com/entry/ritual-area-found-near-stonehenge_us_55edb01ae4b093be51bbd309</td>\n",
              "      <td>\"Everything written previously about the Stonehenge landscape and the ancient monuments within it will need to be re-written.\"</td>\n",
              "      <td>2015-09-07</td>\n",
              "      <td>2015</td>\n",
              "    </tr>\n",
              "  </tbody>\n",
              "</table>\n",
              "</div>"
            ]
          },
          "metadata": {},
          "execution_count": 39
        }
      ]
    },
    {
      "cell_type": "code",
      "source": [
        "raw.loc[raw['category'] == 'ARTS & CULTURE'].sample(5)"
      ],
      "metadata": {
        "colab": {
          "base_uri": "https://localhost:8080/",
          "height": 327
        },
        "id": "_cn8Ycn9XMf4",
        "outputId": "54980afb-a3c2-4017-abb8-781dfd4e6886"
      },
      "execution_count": null,
      "outputs": [
        {
          "output_type": "execute_result",
          "data": {
            "text/plain": [
              "             category  \\\n",
              "50476  ARTS & CULTURE   \n",
              "48268  ARTS & CULTURE   \n",
              "79312  ARTS & CULTURE   \n",
              "25308  ARTS & CULTURE   \n",
              "29442  ARTS & CULTURE   \n",
              "\n",
              "                                                                                headline  \\\n",
              "50476  J.K. Rowling Has More To Share About The Wizarding World In 'Pottermore Presents'   \n",
              "48268                   Time-Lapse Photos Show How The Twin Towers Defined New York City   \n",
              "79312                   One Artist's Old Blotting Tissues Become Accidental Masterpieces   \n",
              "25308          People Across Manchester Are Getting Bee Tattoos To Honor Bombing Victims   \n",
              "29442             7-Year-Old Refugee Who Tweeted During Aleppo Siege Is Writing A Memoir   \n",
              "\n",
              "                   authors  \\\n",
              "50476       Jenna Amatulli   \n",
              "48268  Kate Abbey-Lambertz   \n",
              "79312      Priscilla Frank   \n",
              "25308    Cavan Sieczkowski   \n",
              "29442          Doha Madani   \n",
              "\n",
              "                                                                                                                                                 link  \\\n",
              "50476  https://www.huffingtonpost.com/entry/jk-rowling-has-more-to-share-about-the-wizarding-world-in-pottermore-presents_us_57b46af6e4b0edfa80da6ecf   \n",
              "48268                                                 https://www.huffingtonpost.com/entry/world-trade-center-photographs_us_57d29238e4b06a74c9f4158a   \n",
              "79312                                              https://www.huffingtonpost.com/entry/tim-moore-not-my-blotting-tissues_us_5602e06be4b0fde8b0d0d93a   \n",
              "25308                                              https://www.huffingtonpost.com/entry/manchester-bee-tattoos-fundraiser_us_592d954ae4b053f2d2ae5d35   \n",
              "29442         https://www.huffingtonpost.com/entry/7-year-old-refugee-who-tweeted-during-aleppo-siege-is-writing-a-memoir_us_58ee4779e4b0f392747482b8   \n",
              "\n",
              "                                                                                                                       short_description  \\\n",
              "50476                                                                                       Something wicked(ly awesome) this way comes.   \n",
              "48268  Camilo JosÃ© Vergara's photographs, spanning 46 years, are on display this fall for the 15th anniversary of the Sept. 11 attacks.   \n",
              "79312                                                                                                   They are \"not to be sneezed at.\"   \n",
              "25308                                                                                       Hundreds of people got inked across the U.K.   \n",
              "29442                                                                  \"Dear World\" might become our generation's \"Diary of Anne Frank.\"   \n",
              "\n",
              "            date  year  \n",
              "50476 2016-08-17  2016  \n",
              "48268 2016-09-11  2016  \n",
              "79312 2015-09-24  2015  \n",
              "25308 2017-05-30  2017  \n",
              "29442 2017-04-12  2017  "
            ],
            "text/html": [
              "<div>\n",
              "<style scoped>\n",
              "    .dataframe tbody tr th:only-of-type {\n",
              "        vertical-align: middle;\n",
              "    }\n",
              "\n",
              "    .dataframe tbody tr th {\n",
              "        vertical-align: top;\n",
              "    }\n",
              "\n",
              "    .dataframe thead th {\n",
              "        text-align: right;\n",
              "    }\n",
              "</style>\n",
              "<table border=\"1\" class=\"dataframe\">\n",
              "  <thead>\n",
              "    <tr style=\"text-align: right;\">\n",
              "      <th></th>\n",
              "      <th>category</th>\n",
              "      <th>headline</th>\n",
              "      <th>authors</th>\n",
              "      <th>link</th>\n",
              "      <th>short_description</th>\n",
              "      <th>date</th>\n",
              "      <th>year</th>\n",
              "    </tr>\n",
              "  </thead>\n",
              "  <tbody>\n",
              "    <tr>\n",
              "      <th>50476</th>\n",
              "      <td>ARTS &amp; CULTURE</td>\n",
              "      <td>J.K. Rowling Has More To Share About The Wizarding World In 'Pottermore Presents'</td>\n",
              "      <td>Jenna Amatulli</td>\n",
              "      <td>https://www.huffingtonpost.com/entry/jk-rowling-has-more-to-share-about-the-wizarding-world-in-pottermore-presents_us_57b46af6e4b0edfa80da6ecf</td>\n",
              "      <td>Something wicked(ly awesome) this way comes.</td>\n",
              "      <td>2016-08-17</td>\n",
              "      <td>2016</td>\n",
              "    </tr>\n",
              "    <tr>\n",
              "      <th>48268</th>\n",
              "      <td>ARTS &amp; CULTURE</td>\n",
              "      <td>Time-Lapse Photos Show How The Twin Towers Defined New York City</td>\n",
              "      <td>Kate Abbey-Lambertz</td>\n",
              "      <td>https://www.huffingtonpost.com/entry/world-trade-center-photographs_us_57d29238e4b06a74c9f4158a</td>\n",
              "      <td>Camilo JosÃ© Vergara's photographs, spanning 46 years, are on display this fall for the 15th anniversary of the Sept. 11 attacks.</td>\n",
              "      <td>2016-09-11</td>\n",
              "      <td>2016</td>\n",
              "    </tr>\n",
              "    <tr>\n",
              "      <th>79312</th>\n",
              "      <td>ARTS &amp; CULTURE</td>\n",
              "      <td>One Artist's Old Blotting Tissues Become Accidental Masterpieces</td>\n",
              "      <td>Priscilla Frank</td>\n",
              "      <td>https://www.huffingtonpost.com/entry/tim-moore-not-my-blotting-tissues_us_5602e06be4b0fde8b0d0d93a</td>\n",
              "      <td>They are \"not to be sneezed at.\"</td>\n",
              "      <td>2015-09-24</td>\n",
              "      <td>2015</td>\n",
              "    </tr>\n",
              "    <tr>\n",
              "      <th>25308</th>\n",
              "      <td>ARTS &amp; CULTURE</td>\n",
              "      <td>People Across Manchester Are Getting Bee Tattoos To Honor Bombing Victims</td>\n",
              "      <td>Cavan Sieczkowski</td>\n",
              "      <td>https://www.huffingtonpost.com/entry/manchester-bee-tattoos-fundraiser_us_592d954ae4b053f2d2ae5d35</td>\n",
              "      <td>Hundreds of people got inked across the U.K.</td>\n",
              "      <td>2017-05-30</td>\n",
              "      <td>2017</td>\n",
              "    </tr>\n",
              "    <tr>\n",
              "      <th>29442</th>\n",
              "      <td>ARTS &amp; CULTURE</td>\n",
              "      <td>7-Year-Old Refugee Who Tweeted During Aleppo Siege Is Writing A Memoir</td>\n",
              "      <td>Doha Madani</td>\n",
              "      <td>https://www.huffingtonpost.com/entry/7-year-old-refugee-who-tweeted-during-aleppo-siege-is-writing-a-memoir_us_58ee4779e4b0f392747482b8</td>\n",
              "      <td>\"Dear World\" might become our generation's \"Diary of Anne Frank.\"</td>\n",
              "      <td>2017-04-12</td>\n",
              "      <td>2017</td>\n",
              "    </tr>\n",
              "  </tbody>\n",
              "</table>\n",
              "</div>"
            ]
          },
          "metadata": {},
          "execution_count": 40
        }
      ]
    },
    {
      "cell_type": "code",
      "source": [
        "raw.loc[raw['category'] == 'CRIME'].sample(5)"
      ],
      "metadata": {
        "colab": {
          "base_uri": "https://localhost:8080/",
          "height": 432
        },
        "id": "KN0yGlClYm-M",
        "outputId": "f872a475-2801-4547-ad1b-5fa2735eba6a"
      },
      "execution_count": null,
      "outputs": [
        {
          "output_type": "execute_result",
          "data": {
            "text/plain": [
              "       category  \\\n",
              "196203    CRIME   \n",
              "59190     CRIME   \n",
              "73049     CRIME   \n",
              "67960     CRIME   \n",
              "69393     CRIME   \n",
              "\n",
              "                                                                                  headline  \\\n",
              "196203                                   The Dharun Ravi Case: Law Upheld, Justice Denied?   \n",
              "59190                          San Francisco Area Deputies Charged Over Videotaped Beating   \n",
              "73049                    Video Shows Dramatic Moment Police Swarmed Inland Regional Center   \n",
              "67960         Family Says Falling Snake At Disney World Bit Boy, Gave Grandma Heart Attack   \n",
              "69393   Top Aides Were Aware Of Laquan McDonald Details Months Before Emanuel Says He Knew   \n",
              "\n",
              "                                                  authors  \\\n",
              "196203  Sunil Adam, Contributor\\nEditor, News India Times   \n",
              "59190                                                 NaN   \n",
              "73049                                         Nick Visser   \n",
              "67960                    Mike Schneider, Associated Press   \n",
              "69393                                                 NaN   \n",
              "\n",
              "                                                                                                                                                    link  \\\n",
              "196203                                                                 https://www.huffingtonpost.com/entry/dharun-ravi-case_us_5ba2b9b5e4b0c2784da50f38   \n",
              "59190                                                    https://www.huffingtonpost.com/entry/san-francisco-deputies-beating_us_5732579fe4b016f37897792f   \n",
              "73049                                                      https://www.huffingtonpost.com/entry/video-inland-regional-center_us_565f8d50e4b079b2818d3571   \n",
              "67960                                                https://www.huffingtonpost.com/entry/falling-snake-disney-world-lawsuit_us_56ad1346e4b0010e80ea53e0   \n",
              "69393   https://www.huffingtonpost.comhttp://www.chicagotribune.com/news/local/politics/ct-rahm-emanuel-laquan-mcdonald-shooting-met-20160113-story.html   \n",
              "\n",
              "                                                                                                                                                                                                                                        short_description  \\\n",
              "196203  With the jury's guilty verdict in the so-called Rutgers University webcam spying case, Ravi, it appears, has been turned into the proverbial sacrificial lamb for society's collective guilt about its own bias intimidation against homosexuals.   \n",
              "59190                                                                                                  Video shows the deputies punching and hitting Petrov with batons at least three dozen times as he screams \"I'm sorry,\" \"Help me,\" and \"Oh my God.\"   \n",
              "73049                                                                                                                                                                        Several staff members at the San Bernardino facility thought it was a drill.   \n",
              "67960                                                                                                                                                                                                             They're now planning on suing the park.   \n",
              "69393                                                                                                                          Mayor Rahm Emanuel has said he didn't understand the gravity of Laquan McDonald's shooting death at the hands of a Chicago   \n",
              "\n",
              "             date  year  \n",
              "196203 2012-03-18  2012  \n",
              "59190  2016-05-10  2016  \n",
              "73049  2015-12-03  2015  \n",
              "67960  2016-01-30  2016  \n",
              "69393  2016-01-14  2016  "
            ],
            "text/html": [
              "<div>\n",
              "<style scoped>\n",
              "    .dataframe tbody tr th:only-of-type {\n",
              "        vertical-align: middle;\n",
              "    }\n",
              "\n",
              "    .dataframe tbody tr th {\n",
              "        vertical-align: top;\n",
              "    }\n",
              "\n",
              "    .dataframe thead th {\n",
              "        text-align: right;\n",
              "    }\n",
              "</style>\n",
              "<table border=\"1\" class=\"dataframe\">\n",
              "  <thead>\n",
              "    <tr style=\"text-align: right;\">\n",
              "      <th></th>\n",
              "      <th>category</th>\n",
              "      <th>headline</th>\n",
              "      <th>authors</th>\n",
              "      <th>link</th>\n",
              "      <th>short_description</th>\n",
              "      <th>date</th>\n",
              "      <th>year</th>\n",
              "    </tr>\n",
              "  </thead>\n",
              "  <tbody>\n",
              "    <tr>\n",
              "      <th>196203</th>\n",
              "      <td>CRIME</td>\n",
              "      <td>The Dharun Ravi Case: Law Upheld, Justice Denied?</td>\n",
              "      <td>Sunil Adam, Contributor\\nEditor, News India Times</td>\n",
              "      <td>https://www.huffingtonpost.com/entry/dharun-ravi-case_us_5ba2b9b5e4b0c2784da50f38</td>\n",
              "      <td>With the jury's guilty verdict in the so-called Rutgers University webcam spying case, Ravi, it appears, has been turned into the proverbial sacrificial lamb for society's collective guilt about its own bias intimidation against homosexuals.</td>\n",
              "      <td>2012-03-18</td>\n",
              "      <td>2012</td>\n",
              "    </tr>\n",
              "    <tr>\n",
              "      <th>59190</th>\n",
              "      <td>CRIME</td>\n",
              "      <td>San Francisco Area Deputies Charged Over Videotaped Beating</td>\n",
              "      <td>NaN</td>\n",
              "      <td>https://www.huffingtonpost.com/entry/san-francisco-deputies-beating_us_5732579fe4b016f37897792f</td>\n",
              "      <td>Video shows the deputies punching and hitting Petrov with batons at least three dozen times as he screams \"I'm sorry,\" \"Help me,\" and \"Oh my God.\"</td>\n",
              "      <td>2016-05-10</td>\n",
              "      <td>2016</td>\n",
              "    </tr>\n",
              "    <tr>\n",
              "      <th>73049</th>\n",
              "      <td>CRIME</td>\n",
              "      <td>Video Shows Dramatic Moment Police Swarmed Inland Regional Center</td>\n",
              "      <td>Nick Visser</td>\n",
              "      <td>https://www.huffingtonpost.com/entry/video-inland-regional-center_us_565f8d50e4b079b2818d3571</td>\n",
              "      <td>Several staff members at the San Bernardino facility thought it was a drill.</td>\n",
              "      <td>2015-12-03</td>\n",
              "      <td>2015</td>\n",
              "    </tr>\n",
              "    <tr>\n",
              "      <th>67960</th>\n",
              "      <td>CRIME</td>\n",
              "      <td>Family Says Falling Snake At Disney World Bit Boy, Gave Grandma Heart Attack</td>\n",
              "      <td>Mike Schneider, Associated Press</td>\n",
              "      <td>https://www.huffingtonpost.com/entry/falling-snake-disney-world-lawsuit_us_56ad1346e4b0010e80ea53e0</td>\n",
              "      <td>They're now planning on suing the park.</td>\n",
              "      <td>2016-01-30</td>\n",
              "      <td>2016</td>\n",
              "    </tr>\n",
              "    <tr>\n",
              "      <th>69393</th>\n",
              "      <td>CRIME</td>\n",
              "      <td>Top Aides Were Aware Of Laquan McDonald Details Months Before Emanuel Says He Knew</td>\n",
              "      <td>NaN</td>\n",
              "      <td>https://www.huffingtonpost.comhttp://www.chicagotribune.com/news/local/politics/ct-rahm-emanuel-laquan-mcdonald-shooting-met-20160113-story.html</td>\n",
              "      <td>Mayor Rahm Emanuel has said he didn't understand the gravity of Laquan McDonald's shooting death at the hands of a Chicago</td>\n",
              "      <td>2016-01-14</td>\n",
              "      <td>2016</td>\n",
              "    </tr>\n",
              "  </tbody>\n",
              "</table>\n",
              "</div>"
            ]
          },
          "metadata": {},
          "execution_count": 41
        }
      ]
    },
    {
      "cell_type": "code",
      "source": [
        "raw.loc[raw['category'] == 'RELIGION'].sample(5)"
      ],
      "metadata": {
        "colab": {
          "base_uri": "https://localhost:8080/",
          "height": 310
        },
        "id": "jIBD95dUZWJl",
        "outputId": "ca903489-2c52-469f-ee6e-c7e06b464c5a"
      },
      "execution_count": null,
      "outputs": [
        {
          "output_type": "execute_result",
          "data": {
            "text/plain": [
              "       category  \\\n",
              "77729  RELIGION   \n",
              "86160  RELIGION   \n",
              "76007  RELIGION   \n",
              "78167  RELIGION   \n",
              "49804  RELIGION   \n",
              "\n",
              "                                                                                          headline  \\\n",
              "77729  Chicago Archbishop Questions Second Amendment's Relevance, Calls For Tough Gun Control Laws   \n",
              "86160                            What 'Scandalous' Changes Could Be Coming To The Catholic Church?   \n",
              "76007                              7 Deeply Spiritual Moments In Mary Oliverâ€™s New Book Of Poems   \n",
              "78167                                             Vatican: Gay People Are 'Our Sons And Daughters'   \n",
              "49804                      Pope Leads Thousands In Praying The Rosary For Italy Earthquake Victims   \n",
              "\n",
              "                                   authors  \\\n",
              "77729  David Gibson, Religion News Service   \n",
              "86160                     Antonia Blumberg   \n",
              "76007                      Carol Kuruvilla   \n",
              "78167                      Carol Kuruvilla   \n",
              "49804                     Antonia Blumberg   \n",
              "\n",
              "                                                                                                                                                             link  \\\n",
              "77729  https://www.huffingtonpost.com/entry/chicago-archbishop-questions-second-amendments-relevance-calls-for-tough-gun-control-laws_us_561c1100e4b0082030a381ce   \n",
              "86160                                                            https://www.huffingtonpost.com/entry/pope-francis-scandalous-changes_us_559ebad6e4b01c2162a61864   \n",
              "76007                                                                       https://www.huffingtonpost.com/entry/mary-oliver-felicity_us_5633e40ee4b0c66bae5c8d1c   \n",
              "78167       https://www.huffingtonpost.com/entry/bishops-at-vatican-synod-raise-the-need-for-more-inclusionary-language-on-gay-people_us_561531a0e4b0cf9984d7c752   \n",
              "49804                    https://www.huffingtonpost.com/entry/pope-leads-thousands-in-praying-the-rosary-for-italy-earthquake-victims_us_57bddc6fe4b02673444d8f21   \n",
              "\n",
              "                                                                                        short_description  \\\n",
              "77729  â€œWe must act in ways that promote the dignity and value of human life. And we must do it now.â€   \n",
              "86160                                         It may or may not have something to do with LGBT Catholics.   \n",
              "76007                                                                  \"Prayers fly from all directions.\"   \n",
              "78167    \"[Gay people] are our sons and daughters and brothers and sisters and neighbors and colleagues.\"   \n",
              "49804                               The pontiff dispatched Vatican firefighters to aid in rescue efforts.   \n",
              "\n",
              "            date  year  \n",
              "77729 2015-10-12  2015  \n",
              "86160 2015-07-09  2015  \n",
              "76007 2015-10-31  2015  \n",
              "78167 2015-10-07  2015  \n",
              "49804 2016-08-24  2016  "
            ],
            "text/html": [
              "<div>\n",
              "<style scoped>\n",
              "    .dataframe tbody tr th:only-of-type {\n",
              "        vertical-align: middle;\n",
              "    }\n",
              "\n",
              "    .dataframe tbody tr th {\n",
              "        vertical-align: top;\n",
              "    }\n",
              "\n",
              "    .dataframe thead th {\n",
              "        text-align: right;\n",
              "    }\n",
              "</style>\n",
              "<table border=\"1\" class=\"dataframe\">\n",
              "  <thead>\n",
              "    <tr style=\"text-align: right;\">\n",
              "      <th></th>\n",
              "      <th>category</th>\n",
              "      <th>headline</th>\n",
              "      <th>authors</th>\n",
              "      <th>link</th>\n",
              "      <th>short_description</th>\n",
              "      <th>date</th>\n",
              "      <th>year</th>\n",
              "    </tr>\n",
              "  </thead>\n",
              "  <tbody>\n",
              "    <tr>\n",
              "      <th>77729</th>\n",
              "      <td>RELIGION</td>\n",
              "      <td>Chicago Archbishop Questions Second Amendment's Relevance, Calls For Tough Gun Control Laws</td>\n",
              "      <td>David Gibson, Religion News Service</td>\n",
              "      <td>https://www.huffingtonpost.com/entry/chicago-archbishop-questions-second-amendments-relevance-calls-for-tough-gun-control-laws_us_561c1100e4b0082030a381ce</td>\n",
              "      <td>â€œWe must act in ways that promote the dignity and value of human life. And we must do it now.â€</td>\n",
              "      <td>2015-10-12</td>\n",
              "      <td>2015</td>\n",
              "    </tr>\n",
              "    <tr>\n",
              "      <th>86160</th>\n",
              "      <td>RELIGION</td>\n",
              "      <td>What 'Scandalous' Changes Could Be Coming To The Catholic Church?</td>\n",
              "      <td>Antonia Blumberg</td>\n",
              "      <td>https://www.huffingtonpost.com/entry/pope-francis-scandalous-changes_us_559ebad6e4b01c2162a61864</td>\n",
              "      <td>It may or may not have something to do with LGBT Catholics.</td>\n",
              "      <td>2015-07-09</td>\n",
              "      <td>2015</td>\n",
              "    </tr>\n",
              "    <tr>\n",
              "      <th>76007</th>\n",
              "      <td>RELIGION</td>\n",
              "      <td>7 Deeply Spiritual Moments In Mary Oliverâ€™s New Book Of Poems</td>\n",
              "      <td>Carol Kuruvilla</td>\n",
              "      <td>https://www.huffingtonpost.com/entry/mary-oliver-felicity_us_5633e40ee4b0c66bae5c8d1c</td>\n",
              "      <td>\"Prayers fly from all directions.\"</td>\n",
              "      <td>2015-10-31</td>\n",
              "      <td>2015</td>\n",
              "    </tr>\n",
              "    <tr>\n",
              "      <th>78167</th>\n",
              "      <td>RELIGION</td>\n",
              "      <td>Vatican: Gay People Are 'Our Sons And Daughters'</td>\n",
              "      <td>Carol Kuruvilla</td>\n",
              "      <td>https://www.huffingtonpost.com/entry/bishops-at-vatican-synod-raise-the-need-for-more-inclusionary-language-on-gay-people_us_561531a0e4b0cf9984d7c752</td>\n",
              "      <td>\"[Gay people] are our sons and daughters and brothers and sisters and neighbors and colleagues.\"</td>\n",
              "      <td>2015-10-07</td>\n",
              "      <td>2015</td>\n",
              "    </tr>\n",
              "    <tr>\n",
              "      <th>49804</th>\n",
              "      <td>RELIGION</td>\n",
              "      <td>Pope Leads Thousands In Praying The Rosary For Italy Earthquake Victims</td>\n",
              "      <td>Antonia Blumberg</td>\n",
              "      <td>https://www.huffingtonpost.com/entry/pope-leads-thousands-in-praying-the-rosary-for-italy-earthquake-victims_us_57bddc6fe4b02673444d8f21</td>\n",
              "      <td>The pontiff dispatched Vatican firefighters to aid in rescue efforts.</td>\n",
              "      <td>2016-08-24</td>\n",
              "      <td>2016</td>\n",
              "    </tr>\n",
              "  </tbody>\n",
              "</table>\n",
              "</div>"
            ]
          },
          "metadata": {},
          "execution_count": 42
        }
      ]
    },
    {
      "cell_type": "code",
      "source": [
        "raw['category'] = raw['category'].replace(['GREEN'], 'ENVIRONMENT')\n",
        "\n",
        "raw['category'] = raw['category'].replace(['WEIRD NEWS'], 'ENTERTAINMENT')\n",
        "raw['category'] = raw['category'].replace(['SPORTS'], 'ENTERTAINMENT')\n",
        "raw['category'] = raw['category'].replace(['COMEDY'], 'ENTERTAINMENT')\n",
        "\n",
        "\n",
        "raw['category'] = raw['category'].replace(['ARTS'], 'ARTS & CULTURE')\n",
        "raw['category'] = raw['category'].replace(['CULTURE & ARTS'], 'ARTS & CULTURE')\n",
        "raw['category'] = raw['category'].replace(['RELIGION'], 'ARTS & CULTURE')\n",
        "\n",
        "raw['category'] = raw['category'].replace(['HEALTHY LIVING'], 'WELLNESS')\n",
        "\n",
        "raw['category'] = raw['category'].replace(['PARENTING'], 'PARENTS')\n",
        "\n",
        "raw['category'] = raw['category'].replace(['TASTE'], 'FOOD & DRINK')\n",
        "\n",
        "raw['category'] = raw['category'].replace(['COLLEGE'], 'EDUCATION')\n",
        "\n",
        "raw['category'] = raw['category'].replace(['THE WORLDPOST'], 'WORLD NEWS')\n",
        "raw['category'] = raw['category'].replace(['WORLDPOST'], 'WORLD NEWS')\n",
        "\n",
        "raw['category'] = raw['category'].replace(['GOOD NEWS'], 'IMPACT')\n",
        "raw['category'] = raw['category'].replace(['CRIME'], 'IMPACT')\n",
        "raw['category'] = raw['category'].replace(['WOMEN'], 'IMPACT')\n",
        "\n",
        "raw['category'] = raw['category'].replace(['WEDDINGS'], 'RELATIONSHIP')\n",
        "raw['category'] = raw['category'].replace(['DIVORCE'], 'RELATIONSHIP')\n",
        "\n",
        "raw['category'] = raw['category'].replace(['STYLE'], 'LIFESTYLE')\n",
        "raw['category'] = raw['category'].replace(['STYLE & BEAUTY'], 'LIFESTYLE')\n",
        "raw['category'] = raw['category'].replace(['TRAVEL'], 'LIFESTYLE')\n",
        "raw['category'] = raw['category'].replace(['FIFTY'], 'LIFESTYLE')\n",
        "raw['category'] = raw['category'].replace(['HOME & LIVING'], 'LIFESTYLE')\n",
        "\n",
        "raw['category'] = raw['category'].replace(['MONEY'], 'BUSINESS')\n",
        "\n",
        "raw['category'] = raw['category'].replace(['BLACK VOICES'], 'MARGINALISED VOICES')\n",
        "raw['category'] = raw['category'].replace(['LATINO VOICES'], 'MARGINALISED VOICES')"
      ],
      "metadata": {
        "id": "oJmu5MxzQ4I4"
      },
      "execution_count": null,
      "outputs": []
    },
    {
      "cell_type": "code",
      "source": [
        "len(list(raw.category.unique()))"
      ],
      "metadata": {
        "colab": {
          "base_uri": "https://localhost:8080/"
        },
        "id": "c4nLRsF6aFMU",
        "outputId": "ff4c97aa-862b-431d-a1d5-17bf6463a0fd"
      },
      "execution_count": null,
      "outputs": [
        {
          "output_type": "execute_result",
          "data": {
            "text/plain": [
              "18"
            ]
          },
          "metadata": {},
          "execution_count": 44
        }
      ]
    },
    {
      "cell_type": "code",
      "source": [
        "raw.category.unique()"
      ],
      "metadata": {
        "colab": {
          "base_uri": "https://localhost:8080/"
        },
        "id": "PXEedG7ID8E9",
        "outputId": "3ec0f621-6159-4324-eefa-aac633bd0464"
      },
      "execution_count": null,
      "outputs": [
        {
          "output_type": "execute_result",
          "data": {
            "text/plain": [
              "array(['IMPACT', 'ENTERTAINMENT', 'WORLD NEWS', 'POLITICS',\n",
              "       'MARGINALISED VOICES', 'QUEER VOICES', 'BUSINESS', 'LIFESTYLE',\n",
              "       'MEDIA', 'TECH', 'ARTS & CULTURE', 'SCIENCE', 'EDUCATION',\n",
              "       'PARENTS', 'ENVIRONMENT', 'FOOD & DRINK', 'WELLNESS',\n",
              "       'RELATIONSHIP'], dtype=object)"
            ]
          },
          "metadata": {},
          "execution_count": 45
        }
      ]
    },
    {
      "cell_type": "code",
      "source": [
        "plt.figure(figsize=(60,24));\n",
        "\n",
        "fig = px.bar(x = raw.category.value_counts().index, y = raw.category.value_counts(), labels = {\n",
        "    \"x\": \"Categories\", #Setting x label to categories\n",
        "    \"y\": \"Count\"}, #Setting y label to count\n",
        "    title = \"Category counts\"); #Setting the title\n",
        "fig.show(renderer=\"colab\");"
      ],
      "metadata": {
        "colab": {
          "base_uri": "https://localhost:8080/",
          "height": 560
        },
        "id": "JX72wBtmEuqj",
        "outputId": "085840c9-1dda-45a8-fc5f-b663de56d754"
      },
      "execution_count": null,
      "outputs": [
        {
          "output_type": "display_data",
          "data": {
            "text/html": [
              "<html>\n",
              "<head><meta charset=\"utf-8\" /></head>\n",
              "<body>\n",
              "    <div>            <script src=\"https://cdnjs.cloudflare.com/ajax/libs/mathjax/2.7.5/MathJax.js?config=TeX-AMS-MML_SVG\"></script><script type=\"text/javascript\">if (window.MathJax) {MathJax.Hub.Config({SVG: {font: \"STIX-Web\"}});}</script>                <script type=\"text/javascript\">window.PlotlyConfig = {MathJaxConfig: 'local'};</script>\n",
              "        <script src=\"https://cdn.plot.ly/plotly-2.9.0.min.js\"></script>                <div id=\"4c59f7f9-222b-4fc1-a196-8ebf90d9431d\" class=\"plotly-graph-div\" style=\"height:525px; width:100%;\"></div>            <script type=\"text/javascript\">                                    window.PLOTLYENV=window.PLOTLYENV || {};                                    if (document.getElementById(\"4c59f7f9-222b-4fc1-a196-8ebf90d9431d\")) {                    Plotly.newPlot(                        \"4c59f7f9-222b-4fc1-a196-8ebf90d9431d\",                        [{\"alignmentgroup\":\"True\",\"hovertemplate\":\"Categories=%{x}<br>Count=%{y}<extra></extra>\",\"legendgroup\":\"\",\"marker\":{\"color\":\"#636efa\",\"pattern\":{\"shape\":\"\"}},\"name\":\"\",\"offsetgroup\":\"\",\"orientation\":\"v\",\"showlegend\":false,\"textposition\":\"auto\",\"x\":[\"POLITICS\",\"LIFESTYLE\",\"ENTERTAINMENT\",\"WELLNESS\",\"PARENTS\",\"IMPACT\",\"FOOD & DRINK\",\"WORLD NEWS\",\"RELATIONSHIP\",\"BUSINESS\",\"QUEER VOICES\",\"MARGINALISED VOICES\",\"ARTS & CULTURE\",\"ENVIRONMENT\",\"MEDIA\",\"TECH\",\"EDUCATION\",\"SCIENCE\"],\"xaxis\":\"x\",\"y\":[29578,25837,24317,23085,12231,9877,8157,7081,7074,6783,5570,5142,5078,3367,2275,2080,1813,1775],\"yaxis\":\"y\",\"type\":\"bar\"}],                        {\"template\":{\"data\":{\"bar\":[{\"error_x\":{\"color\":\"#2a3f5f\"},\"error_y\":{\"color\":\"#2a3f5f\"},\"marker\":{\"line\":{\"color\":\"#E5ECF6\",\"width\":0.5},\"pattern\":{\"fillmode\":\"overlay\",\"size\":10,\"solidity\":0.2}},\"type\":\"bar\"}],\"barpolar\":[{\"marker\":{\"line\":{\"color\":\"#E5ECF6\",\"width\":0.5},\"pattern\":{\"fillmode\":\"overlay\",\"size\":10,\"solidity\":0.2}},\"type\":\"barpolar\"}],\"carpet\":[{\"aaxis\":{\"endlinecolor\":\"#2a3f5f\",\"gridcolor\":\"white\",\"linecolor\":\"white\",\"minorgridcolor\":\"white\",\"startlinecolor\":\"#2a3f5f\"},\"baxis\":{\"endlinecolor\":\"#2a3f5f\",\"gridcolor\":\"white\",\"linecolor\":\"white\",\"minorgridcolor\":\"white\",\"startlinecolor\":\"#2a3f5f\"},\"type\":\"carpet\"}],\"choropleth\":[{\"colorbar\":{\"outlinewidth\":0,\"ticks\":\"\"},\"type\":\"choropleth\"}],\"contour\":[{\"colorbar\":{\"outlinewidth\":0,\"ticks\":\"\"},\"colorscale\":[[0.0,\"#0d0887\"],[0.1111111111111111,\"#46039f\"],[0.2222222222222222,\"#7201a8\"],[0.3333333333333333,\"#9c179e\"],[0.4444444444444444,\"#bd3786\"],[0.5555555555555556,\"#d8576b\"],[0.6666666666666666,\"#ed7953\"],[0.7777777777777778,\"#fb9f3a\"],[0.8888888888888888,\"#fdca26\"],[1.0,\"#f0f921\"]],\"type\":\"contour\"}],\"contourcarpet\":[{\"colorbar\":{\"outlinewidth\":0,\"ticks\":\"\"},\"type\":\"contourcarpet\"}],\"heatmap\":[{\"colorbar\":{\"outlinewidth\":0,\"ticks\":\"\"},\"colorscale\":[[0.0,\"#0d0887\"],[0.1111111111111111,\"#46039f\"],[0.2222222222222222,\"#7201a8\"],[0.3333333333333333,\"#9c179e\"],[0.4444444444444444,\"#bd3786\"],[0.5555555555555556,\"#d8576b\"],[0.6666666666666666,\"#ed7953\"],[0.7777777777777778,\"#fb9f3a\"],[0.8888888888888888,\"#fdca26\"],[1.0,\"#f0f921\"]],\"type\":\"heatmap\"}],\"heatmapgl\":[{\"colorbar\":{\"outlinewidth\":0,\"ticks\":\"\"},\"colorscale\":[[0.0,\"#0d0887\"],[0.1111111111111111,\"#46039f\"],[0.2222222222222222,\"#7201a8\"],[0.3333333333333333,\"#9c179e\"],[0.4444444444444444,\"#bd3786\"],[0.5555555555555556,\"#d8576b\"],[0.6666666666666666,\"#ed7953\"],[0.7777777777777778,\"#fb9f3a\"],[0.8888888888888888,\"#fdca26\"],[1.0,\"#f0f921\"]],\"type\":\"heatmapgl\"}],\"histogram\":[{\"marker\":{\"pattern\":{\"fillmode\":\"overlay\",\"size\":10,\"solidity\":0.2}},\"type\":\"histogram\"}],\"histogram2d\":[{\"colorbar\":{\"outlinewidth\":0,\"ticks\":\"\"},\"colorscale\":[[0.0,\"#0d0887\"],[0.1111111111111111,\"#46039f\"],[0.2222222222222222,\"#7201a8\"],[0.3333333333333333,\"#9c179e\"],[0.4444444444444444,\"#bd3786\"],[0.5555555555555556,\"#d8576b\"],[0.6666666666666666,\"#ed7953\"],[0.7777777777777778,\"#fb9f3a\"],[0.8888888888888888,\"#fdca26\"],[1.0,\"#f0f921\"]],\"type\":\"histogram2d\"}],\"histogram2dcontour\":[{\"colorbar\":{\"outlinewidth\":0,\"ticks\":\"\"},\"colorscale\":[[0.0,\"#0d0887\"],[0.1111111111111111,\"#46039f\"],[0.2222222222222222,\"#7201a8\"],[0.3333333333333333,\"#9c179e\"],[0.4444444444444444,\"#bd3786\"],[0.5555555555555556,\"#d8576b\"],[0.6666666666666666,\"#ed7953\"],[0.7777777777777778,\"#fb9f3a\"],[0.8888888888888888,\"#fdca26\"],[1.0,\"#f0f921\"]],\"type\":\"histogram2dcontour\"}],\"mesh3d\":[{\"colorbar\":{\"outlinewidth\":0,\"ticks\":\"\"},\"type\":\"mesh3d\"}],\"parcoords\":[{\"line\":{\"colorbar\":{\"outlinewidth\":0,\"ticks\":\"\"}},\"type\":\"parcoords\"}],\"pie\":[{\"automargin\":true,\"type\":\"pie\"}],\"scatter\":[{\"marker\":{\"colorbar\":{\"outlinewidth\":0,\"ticks\":\"\"}},\"type\":\"scatter\"}],\"scatter3d\":[{\"line\":{\"colorbar\":{\"outlinewidth\":0,\"ticks\":\"\"}},\"marker\":{\"colorbar\":{\"outlinewidth\":0,\"ticks\":\"\"}},\"type\":\"scatter3d\"}],\"scattercarpet\":[{\"marker\":{\"colorbar\":{\"outlinewidth\":0,\"ticks\":\"\"}},\"type\":\"scattercarpet\"}],\"scattergeo\":[{\"marker\":{\"colorbar\":{\"outlinewidth\":0,\"ticks\":\"\"}},\"type\":\"scattergeo\"}],\"scattergl\":[{\"marker\":{\"colorbar\":{\"outlinewidth\":0,\"ticks\":\"\"}},\"type\":\"scattergl\"}],\"scattermapbox\":[{\"marker\":{\"colorbar\":{\"outlinewidth\":0,\"ticks\":\"\"}},\"type\":\"scattermapbox\"}],\"scatterpolar\":[{\"marker\":{\"colorbar\":{\"outlinewidth\":0,\"ticks\":\"\"}},\"type\":\"scatterpolar\"}],\"scatterpolargl\":[{\"marker\":{\"colorbar\":{\"outlinewidth\":0,\"ticks\":\"\"}},\"type\":\"scatterpolargl\"}],\"scatterternary\":[{\"marker\":{\"colorbar\":{\"outlinewidth\":0,\"ticks\":\"\"}},\"type\":\"scatterternary\"}],\"surface\":[{\"colorbar\":{\"outlinewidth\":0,\"ticks\":\"\"},\"colorscale\":[[0.0,\"#0d0887\"],[0.1111111111111111,\"#46039f\"],[0.2222222222222222,\"#7201a8\"],[0.3333333333333333,\"#9c179e\"],[0.4444444444444444,\"#bd3786\"],[0.5555555555555556,\"#d8576b\"],[0.6666666666666666,\"#ed7953\"],[0.7777777777777778,\"#fb9f3a\"],[0.8888888888888888,\"#fdca26\"],[1.0,\"#f0f921\"]],\"type\":\"surface\"}],\"table\":[{\"cells\":{\"fill\":{\"color\":\"#EBF0F8\"},\"line\":{\"color\":\"white\"}},\"header\":{\"fill\":{\"color\":\"#C8D4E3\"},\"line\":{\"color\":\"white\"}},\"type\":\"table\"}]},\"layout\":{\"annotationdefaults\":{\"arrowcolor\":\"#2a3f5f\",\"arrowhead\":0,\"arrowwidth\":1},\"autotypenumbers\":\"strict\",\"coloraxis\":{\"colorbar\":{\"outlinewidth\":0,\"ticks\":\"\"}},\"colorscale\":{\"diverging\":[[0,\"#8e0152\"],[0.1,\"#c51b7d\"],[0.2,\"#de77ae\"],[0.3,\"#f1b6da\"],[0.4,\"#fde0ef\"],[0.5,\"#f7f7f7\"],[0.6,\"#e6f5d0\"],[0.7,\"#b8e186\"],[0.8,\"#7fbc41\"],[0.9,\"#4d9221\"],[1,\"#276419\"]],\"sequential\":[[0.0,\"#0d0887\"],[0.1111111111111111,\"#46039f\"],[0.2222222222222222,\"#7201a8\"],[0.3333333333333333,\"#9c179e\"],[0.4444444444444444,\"#bd3786\"],[0.5555555555555556,\"#d8576b\"],[0.6666666666666666,\"#ed7953\"],[0.7777777777777778,\"#fb9f3a\"],[0.8888888888888888,\"#fdca26\"],[1.0,\"#f0f921\"]],\"sequentialminus\":[[0.0,\"#0d0887\"],[0.1111111111111111,\"#46039f\"],[0.2222222222222222,\"#7201a8\"],[0.3333333333333333,\"#9c179e\"],[0.4444444444444444,\"#bd3786\"],[0.5555555555555556,\"#d8576b\"],[0.6666666666666666,\"#ed7953\"],[0.7777777777777778,\"#fb9f3a\"],[0.8888888888888888,\"#fdca26\"],[1.0,\"#f0f921\"]]},\"colorway\":[\"#636efa\",\"#EF553B\",\"#00cc96\",\"#ab63fa\",\"#FFA15A\",\"#19d3f3\",\"#FF6692\",\"#B6E880\",\"#FF97FF\",\"#FECB52\"],\"font\":{\"color\":\"#2a3f5f\"},\"geo\":{\"bgcolor\":\"white\",\"lakecolor\":\"white\",\"landcolor\":\"#E5ECF6\",\"showlakes\":true,\"showland\":true,\"subunitcolor\":\"white\"},\"hoverlabel\":{\"align\":\"left\"},\"hovermode\":\"closest\",\"mapbox\":{\"style\":\"light\"},\"paper_bgcolor\":\"white\",\"plot_bgcolor\":\"#E5ECF6\",\"polar\":{\"angularaxis\":{\"gridcolor\":\"white\",\"linecolor\":\"white\",\"ticks\":\"\"},\"bgcolor\":\"#E5ECF6\",\"radialaxis\":{\"gridcolor\":\"white\",\"linecolor\":\"white\",\"ticks\":\"\"}},\"scene\":{\"xaxis\":{\"backgroundcolor\":\"#E5ECF6\",\"gridcolor\":\"white\",\"gridwidth\":2,\"linecolor\":\"white\",\"showbackground\":true,\"ticks\":\"\",\"zerolinecolor\":\"white\"},\"yaxis\":{\"backgroundcolor\":\"#E5ECF6\",\"gridcolor\":\"white\",\"gridwidth\":2,\"linecolor\":\"white\",\"showbackground\":true,\"ticks\":\"\",\"zerolinecolor\":\"white\"},\"zaxis\":{\"backgroundcolor\":\"#E5ECF6\",\"gridcolor\":\"white\",\"gridwidth\":2,\"linecolor\":\"white\",\"showbackground\":true,\"ticks\":\"\",\"zerolinecolor\":\"white\"}},\"shapedefaults\":{\"line\":{\"color\":\"#2a3f5f\"}},\"ternary\":{\"aaxis\":{\"gridcolor\":\"white\",\"linecolor\":\"white\",\"ticks\":\"\"},\"baxis\":{\"gridcolor\":\"white\",\"linecolor\":\"white\",\"ticks\":\"\"},\"bgcolor\":\"#E5ECF6\",\"caxis\":{\"gridcolor\":\"white\",\"linecolor\":\"white\",\"ticks\":\"\"}},\"title\":{\"x\":0.05},\"xaxis\":{\"automargin\":true,\"gridcolor\":\"white\",\"linecolor\":\"white\",\"ticks\":\"\",\"title\":{\"standoff\":15},\"zerolinecolor\":\"white\",\"zerolinewidth\":2},\"yaxis\":{\"automargin\":true,\"gridcolor\":\"white\",\"linecolor\":\"white\",\"ticks\":\"\",\"title\":{\"standoff\":15},\"zerolinecolor\":\"white\",\"zerolinewidth\":2}}},\"xaxis\":{\"anchor\":\"y\",\"domain\":[0.0,1.0],\"title\":{\"text\":\"Categories\"}},\"yaxis\":{\"anchor\":\"x\",\"domain\":[0.0,1.0],\"title\":{\"text\":\"Count\"}},\"legend\":{\"tracegroupgap\":0},\"title\":{\"text\":\"Category counts\"},\"barmode\":\"relative\"},                        {\"responsive\": true}                    ).then(function(){\n",
              "                            \n",
              "var gd = document.getElementById('4c59f7f9-222b-4fc1-a196-8ebf90d9431d');\n",
              "var x = new MutationObserver(function (mutations, observer) {{\n",
              "        var display = window.getComputedStyle(gd).display;\n",
              "        if (!display || display === 'none') {{\n",
              "            console.log([gd, 'removed!']);\n",
              "            Plotly.purge(gd);\n",
              "            observer.disconnect();\n",
              "        }}\n",
              "}});\n",
              "\n",
              "// Listen for the removal of the full notebook cells\n",
              "var notebookContainer = gd.closest('#notebook-container');\n",
              "if (notebookContainer) {{\n",
              "    x.observe(notebookContainer, {childList: true});\n",
              "}}\n",
              "\n",
              "// Listen for the clearing of the current output cell\n",
              "var outputEl = gd.closest('.output');\n",
              "if (outputEl) {{\n",
              "    x.observe(outputEl, {childList: true});\n",
              "}}\n",
              "\n",
              "                        })                };                            </script>        </div>\n",
              "</body>\n",
              "</html>"
            ]
          },
          "metadata": {}
        },
        {
          "output_type": "display_data",
          "data": {
            "text/plain": [
              "<Figure size 4320x1728 with 0 Axes>"
            ]
          },
          "metadata": {}
        }
      ]
    },
    {
      "cell_type": "markdown",
      "source": [
        "Setting the target column and creating a dataframe from it"
      ],
      "metadata": {
        "id": "s9vTywyO8JLe"
      }
    },
    {
      "cell_type": "code",
      "source": [
        "targets = raw[['category']]"
      ],
      "metadata": {
        "id": "JSH7s45Gi-Rz"
      },
      "execution_count": null,
      "outputs": []
    },
    {
      "cell_type": "code",
      "source": [
        "raw.short_description.str.split().str.len()"
      ],
      "metadata": {
        "colab": {
          "base_uri": "https://localhost:8080/"
        },
        "id": "Sq9S1nmo8x6l",
        "outputId": "afe31c6c-65ce-401d-96c1-27e9ac30170a"
      },
      "execution_count": null,
      "outputs": [
        {
          "output_type": "execute_result",
          "data": {
            "text/plain": [
              "0         13\n",
              "1          6\n",
              "          ..\n",
              "200851    20\n",
              "200852    19\n",
              "Name: short_description, Length: 181120, dtype: int64"
            ]
          },
          "metadata": {},
          "execution_count": 48
        }
      ]
    },
    {
      "cell_type": "code",
      "source": [
        "raw['number_of_words'] = raw.short_description.str.split().str.len()"
      ],
      "metadata": {
        "id": "7EtWbEuY63_9"
      },
      "execution_count": null,
      "outputs": []
    },
    {
      "cell_type": "code",
      "source": [
        "raw.groupby(by='category').describe()"
      ],
      "metadata": {
        "colab": {
          "base_uri": "https://localhost:8080/",
          "height": 298
        },
        "id": "gvye-FVP7mSn",
        "outputId": "1b973c1f-e301-4912-c579-3b5741002798"
      },
      "execution_count": null,
      "outputs": [
        {
          "output_type": "execute_result",
          "data": {
            "text/plain": [
              "                   year                                                 \\\n",
              "                  count         mean       std     min     25%     50%   \n",
              "category                                                                 \n",
              "ARTS & CULTURE   5078.0  2014.984246  1.490482  2012.0  2014.0  2015.0   \n",
              "BUSINESS         6783.0  2013.903435  1.667147  2012.0  2012.0  2014.0   \n",
              "...                 ...          ...       ...     ...     ...     ...   \n",
              "WELLNESS        23085.0  2013.389647  1.432870  2012.0  2012.0  2013.0   \n",
              "WORLD NEWS       7081.0  2016.233724  1.048148  2014.0  2016.0  2016.0   \n",
              "\n",
              "                               number_of_words                             \\\n",
              "                   75%     max           count       mean        std  min   \n",
              "category                                                                    \n",
              "ARTS & CULTURE  2016.0  2018.0          5078.0  24.190429  13.837907  1.0   \n",
              "BUSINESS        2015.0  2018.0          6783.0  26.363851  12.744026  1.0   \n",
              "...                ...     ...             ...        ...        ...  ...   \n",
              "WELLNESS        2014.0  2018.0         23085.0  29.588391  13.362106  1.0   \n",
              "WORLD NEWS      2017.0  2018.0          7081.0  20.244881  14.899756  1.0   \n",
              "\n",
              "                                         \n",
              "                 25%   50%   75%    max  \n",
              "category                                 \n",
              "ARTS & CULTURE  14.0  21.0  34.0  137.0  \n",
              "BUSINESS        19.0  22.0  35.0  143.0  \n",
              "...              ...   ...   ...    ...  \n",
              "WELLNESS        20.0  25.0  40.0  165.0  \n",
              "WORLD NEWS      12.0  17.0  22.0  222.0  \n",
              "\n",
              "[18 rows x 16 columns]"
            ],
            "text/html": [
              "<div>\n",
              "<style scoped>\n",
              "    .dataframe tbody tr th:only-of-type {\n",
              "        vertical-align: middle;\n",
              "    }\n",
              "\n",
              "    .dataframe tbody tr th {\n",
              "        vertical-align: top;\n",
              "    }\n",
              "\n",
              "    .dataframe thead tr th {\n",
              "        text-align: left;\n",
              "    }\n",
              "\n",
              "    .dataframe thead tr:last-of-type th {\n",
              "        text-align: right;\n",
              "    }\n",
              "</style>\n",
              "<table border=\"1\" class=\"dataframe\">\n",
              "  <thead>\n",
              "    <tr>\n",
              "      <th></th>\n",
              "      <th colspan=\"8\" halign=\"left\">year</th>\n",
              "      <th colspan=\"8\" halign=\"left\">number_of_words</th>\n",
              "    </tr>\n",
              "    <tr>\n",
              "      <th></th>\n",
              "      <th>count</th>\n",
              "      <th>mean</th>\n",
              "      <th>std</th>\n",
              "      <th>min</th>\n",
              "      <th>25%</th>\n",
              "      <th>50%</th>\n",
              "      <th>75%</th>\n",
              "      <th>max</th>\n",
              "      <th>count</th>\n",
              "      <th>mean</th>\n",
              "      <th>std</th>\n",
              "      <th>min</th>\n",
              "      <th>25%</th>\n",
              "      <th>50%</th>\n",
              "      <th>75%</th>\n",
              "      <th>max</th>\n",
              "    </tr>\n",
              "    <tr>\n",
              "      <th>category</th>\n",
              "      <th></th>\n",
              "      <th></th>\n",
              "      <th></th>\n",
              "      <th></th>\n",
              "      <th></th>\n",
              "      <th></th>\n",
              "      <th></th>\n",
              "      <th></th>\n",
              "      <th></th>\n",
              "      <th></th>\n",
              "      <th></th>\n",
              "      <th></th>\n",
              "      <th></th>\n",
              "      <th></th>\n",
              "      <th></th>\n",
              "      <th></th>\n",
              "    </tr>\n",
              "  </thead>\n",
              "  <tbody>\n",
              "    <tr>\n",
              "      <th>ARTS &amp; CULTURE</th>\n",
              "      <td>5078.0</td>\n",
              "      <td>2014.984246</td>\n",
              "      <td>1.490482</td>\n",
              "      <td>2012.0</td>\n",
              "      <td>2014.0</td>\n",
              "      <td>2015.0</td>\n",
              "      <td>2016.0</td>\n",
              "      <td>2018.0</td>\n",
              "      <td>5078.0</td>\n",
              "      <td>24.190429</td>\n",
              "      <td>13.837907</td>\n",
              "      <td>1.0</td>\n",
              "      <td>14.0</td>\n",
              "      <td>21.0</td>\n",
              "      <td>34.0</td>\n",
              "      <td>137.0</td>\n",
              "    </tr>\n",
              "    <tr>\n",
              "      <th>BUSINESS</th>\n",
              "      <td>6783.0</td>\n",
              "      <td>2013.903435</td>\n",
              "      <td>1.667147</td>\n",
              "      <td>2012.0</td>\n",
              "      <td>2012.0</td>\n",
              "      <td>2014.0</td>\n",
              "      <td>2015.0</td>\n",
              "      <td>2018.0</td>\n",
              "      <td>6783.0</td>\n",
              "      <td>26.363851</td>\n",
              "      <td>12.744026</td>\n",
              "      <td>1.0</td>\n",
              "      <td>19.0</td>\n",
              "      <td>22.0</td>\n",
              "      <td>35.0</td>\n",
              "      <td>143.0</td>\n",
              "    </tr>\n",
              "    <tr>\n",
              "      <th>...</th>\n",
              "      <td>...</td>\n",
              "      <td>...</td>\n",
              "      <td>...</td>\n",
              "      <td>...</td>\n",
              "      <td>...</td>\n",
              "      <td>...</td>\n",
              "      <td>...</td>\n",
              "      <td>...</td>\n",
              "      <td>...</td>\n",
              "      <td>...</td>\n",
              "      <td>...</td>\n",
              "      <td>...</td>\n",
              "      <td>...</td>\n",
              "      <td>...</td>\n",
              "      <td>...</td>\n",
              "      <td>...</td>\n",
              "    </tr>\n",
              "    <tr>\n",
              "      <th>WELLNESS</th>\n",
              "      <td>23085.0</td>\n",
              "      <td>2013.389647</td>\n",
              "      <td>1.432870</td>\n",
              "      <td>2012.0</td>\n",
              "      <td>2012.0</td>\n",
              "      <td>2013.0</td>\n",
              "      <td>2014.0</td>\n",
              "      <td>2018.0</td>\n",
              "      <td>23085.0</td>\n",
              "      <td>29.588391</td>\n",
              "      <td>13.362106</td>\n",
              "      <td>1.0</td>\n",
              "      <td>20.0</td>\n",
              "      <td>25.0</td>\n",
              "      <td>40.0</td>\n",
              "      <td>165.0</td>\n",
              "    </tr>\n",
              "    <tr>\n",
              "      <th>WORLD NEWS</th>\n",
              "      <td>7081.0</td>\n",
              "      <td>2016.233724</td>\n",
              "      <td>1.048148</td>\n",
              "      <td>2014.0</td>\n",
              "      <td>2016.0</td>\n",
              "      <td>2016.0</td>\n",
              "      <td>2017.0</td>\n",
              "      <td>2018.0</td>\n",
              "      <td>7081.0</td>\n",
              "      <td>20.244881</td>\n",
              "      <td>14.899756</td>\n",
              "      <td>1.0</td>\n",
              "      <td>12.0</td>\n",
              "      <td>17.0</td>\n",
              "      <td>22.0</td>\n",
              "      <td>222.0</td>\n",
              "    </tr>\n",
              "  </tbody>\n",
              "</table>\n",
              "<p>18 rows × 16 columns</p>\n",
              "</div>"
            ]
          },
          "metadata": {},
          "execution_count": 50
        }
      ]
    },
    {
      "cell_type": "code",
      "source": [
        "raw.groupby(by='category')['number_of_words'].mean()"
      ],
      "metadata": {
        "colab": {
          "base_uri": "https://localhost:8080/"
        },
        "id": "AyQ8sBcE976t",
        "outputId": "6f74c5ab-e34f-4945-f16d-95d297671842"
      },
      "execution_count": null,
      "outputs": [
        {
          "output_type": "execute_result",
          "data": {
            "text/plain": [
              "category\n",
              "ARTS & CULTURE    24.190429\n",
              "BUSINESS          26.363851\n",
              "                    ...    \n",
              "WELLNESS          29.588391\n",
              "WORLD NEWS        20.244881\n",
              "Name: number_of_words, Length: 18, dtype: float64"
            ]
          },
          "metadata": {},
          "execution_count": 51
        }
      ]
    },
    {
      "cell_type": "code",
      "source": [
        "plt.figure(figsize = (36,12))\n",
        "\n",
        "fig = px.bar(x = raw.category.unique(), y = raw.groupby(by='category')['number_of_words'].mean(), color = raw.category.unique(),color_discrete_sequence= px.colors.sequential.Plasma_r, title=\"Mean Number of Words in Short Description per Category\",)\n",
        "\n",
        "fig.update_layout(xaxis_title = \"Category\", yaxis_title = \"Mean Number of Words\")\n",
        "\n",
        "fig.show(renderer=\"colab\");"
      ],
      "metadata": {
        "colab": {
          "base_uri": "https://localhost:8080/",
          "height": 560
        },
        "id": "TXS0KzZw-FDU",
        "outputId": "b4e13f8c-a304-4750-83e2-72b2920173f0"
      },
      "execution_count": null,
      "outputs": [
        {
          "output_type": "display_data",
          "data": {
            "text/html": [
              "<html>\n",
              "<head><meta charset=\"utf-8\" /></head>\n",
              "<body>\n",
              "    <div>            <script src=\"https://cdnjs.cloudflare.com/ajax/libs/mathjax/2.7.5/MathJax.js?config=TeX-AMS-MML_SVG\"></script><script type=\"text/javascript\">if (window.MathJax) {MathJax.Hub.Config({SVG: {font: \"STIX-Web\"}});}</script>                <script type=\"text/javascript\">window.PlotlyConfig = {MathJaxConfig: 'local'};</script>\n",
              "        <script src=\"https://cdn.plot.ly/plotly-2.9.0.min.js\"></script>                <div id=\"2c4c275f-9650-47f8-84ad-955eddc6a57e\" class=\"plotly-graph-div\" style=\"height:525px; width:100%;\"></div>            <script type=\"text/javascript\">                                    window.PLOTLYENV=window.PLOTLYENV || {};                                    if (document.getElementById(\"2c4c275f-9650-47f8-84ad-955eddc6a57e\")) {                    Plotly.newPlot(                        \"2c4c275f-9650-47f8-84ad-955eddc6a57e\",                        [{\"alignmentgroup\":\"True\",\"hovertemplate\":\"color=IMPACT<br>x=%{x}<br>y=%{y}<extra></extra>\",\"legendgroup\":\"IMPACT\",\"marker\":{\"color\":\"#f0f921\",\"pattern\":{\"shape\":\"\"}},\"name\":\"IMPACT\",\"offsetgroup\":\"IMPACT\",\"orientation\":\"v\",\"showlegend\":true,\"textposition\":\"auto\",\"x\":[\"IMPACT\"],\"xaxis\":\"x\",\"y\":[24.19042930287515],\"yaxis\":\"y\",\"type\":\"bar\"},{\"alignmentgroup\":\"True\",\"hovertemplate\":\"color=ENTERTAINMENT<br>x=%{x}<br>y=%{y}<extra></extra>\",\"legendgroup\":\"ENTERTAINMENT\",\"marker\":{\"color\":\"#fdca26\",\"pattern\":{\"shape\":\"\"}},\"name\":\"ENTERTAINMENT\",\"offsetgroup\":\"ENTERTAINMENT\",\"orientation\":\"v\",\"showlegend\":true,\"textposition\":\"auto\",\"x\":[\"ENTERTAINMENT\"],\"xaxis\":\"x\",\"y\":[26.363850803479288],\"yaxis\":\"y\",\"type\":\"bar\"},{\"alignmentgroup\":\"True\",\"hovertemplate\":\"color=WORLD NEWS<br>x=%{x}<br>y=%{y}<extra></extra>\",\"legendgroup\":\"WORLD NEWS\",\"marker\":{\"color\":\"#fb9f3a\",\"pattern\":{\"shape\":\"\"}},\"name\":\"WORLD NEWS\",\"offsetgroup\":\"WORLD NEWS\",\"orientation\":\"v\",\"showlegend\":true,\"textposition\":\"auto\",\"x\":[\"WORLD NEWS\"],\"xaxis\":\"x\",\"y\":[29.46111417539989],\"yaxis\":\"y\",\"type\":\"bar\"},{\"alignmentgroup\":\"True\",\"hovertemplate\":\"color=POLITICS<br>x=%{x}<br>y=%{y}<extra></extra>\",\"legendgroup\":\"POLITICS\",\"marker\":{\"color\":\"#ed7953\",\"pattern\":{\"shape\":\"\"}},\"name\":\"POLITICS\",\"offsetgroup\":\"POLITICS\",\"orientation\":\"v\",\"showlegend\":true,\"textposition\":\"auto\",\"x\":[\"POLITICS\"],\"xaxis\":\"x\",\"y\":[14.309413167742731],\"yaxis\":\"y\",\"type\":\"bar\"},{\"alignmentgroup\":\"True\",\"hovertemplate\":\"color=MARGINALISED VOICES<br>x=%{x}<br>y=%{y}<extra></extra>\",\"legendgroup\":\"MARGINALISED VOICES\",\"marker\":{\"color\":\"#d8576b\",\"pattern\":{\"shape\":\"\"}},\"name\":\"MARGINALISED VOICES\",\"offsetgroup\":\"MARGINALISED VOICES\",\"orientation\":\"v\",\"showlegend\":true,\"textposition\":\"auto\",\"x\":[\"MARGINALISED VOICES\"],\"xaxis\":\"x\",\"y\":[24.471636471636472],\"yaxis\":\"y\",\"type\":\"bar\"},{\"alignmentgroup\":\"True\",\"hovertemplate\":\"color=QUEER VOICES<br>x=%{x}<br>y=%{y}<extra></extra>\",\"legendgroup\":\"QUEER VOICES\",\"marker\":{\"color\":\"#bd3786\",\"pattern\":{\"shape\":\"\"}},\"name\":\"QUEER VOICES\",\"offsetgroup\":\"QUEER VOICES\",\"orientation\":\"v\",\"showlegend\":true,\"textposition\":\"auto\",\"x\":[\"QUEER VOICES\"],\"xaxis\":\"x\",\"y\":[17.583547872992522],\"yaxis\":\"y\",\"type\":\"bar\"},{\"alignmentgroup\":\"True\",\"hovertemplate\":\"color=BUSINESS<br>x=%{x}<br>y=%{y}<extra></extra>\",\"legendgroup\":\"BUSINESS\",\"marker\":{\"color\":\"#9c179e\",\"pattern\":{\"shape\":\"\"}},\"name\":\"BUSINESS\",\"offsetgroup\":\"BUSINESS\",\"orientation\":\"v\",\"showlegend\":true,\"textposition\":\"auto\",\"x\":[\"BUSINESS\"],\"xaxis\":\"x\",\"y\":[22.329553508150248],\"yaxis\":\"y\",\"type\":\"bar\"},{\"alignmentgroup\":\"True\",\"hovertemplate\":\"color=LIFESTYLE<br>x=%{x}<br>y=%{y}<extra></extra>\",\"legendgroup\":\"LIFESTYLE\",\"marker\":{\"color\":\"#7201a8\",\"pattern\":{\"shape\":\"\"}},\"name\":\"LIFESTYLE\",\"offsetgroup\":\"LIFESTYLE\",\"orientation\":\"v\",\"showlegend\":true,\"textposition\":\"auto\",\"x\":[\"LIFESTYLE\"],\"xaxis\":\"x\",\"y\":[23.976700081278786],\"yaxis\":\"y\",\"type\":\"bar\"},{\"alignmentgroup\":\"True\",\"hovertemplate\":\"color=MEDIA<br>x=%{x}<br>y=%{y}<extra></extra>\",\"legendgroup\":\"MEDIA\",\"marker\":{\"color\":\"#46039f\",\"pattern\":{\"shape\":\"\"}},\"name\":\"MEDIA\",\"offsetgroup\":\"MEDIA\",\"orientation\":\"v\",\"showlegend\":true,\"textposition\":\"auto\",\"x\":[\"MEDIA\"],\"xaxis\":\"x\",\"y\":[18.52878257487359],\"yaxis\":\"y\",\"type\":\"bar\"},{\"alignmentgroup\":\"True\",\"hovertemplate\":\"color=TECH<br>x=%{x}<br>y=%{y}<extra></extra>\",\"legendgroup\":\"TECH\",\"marker\":{\"color\":\"#0d0887\",\"pattern\":{\"shape\":\"\"}},\"name\":\"TECH\",\"offsetgroup\":\"TECH\",\"orientation\":\"v\",\"showlegend\":true,\"textposition\":\"auto\",\"x\":[\"TECH\"],\"xaxis\":\"x\",\"y\":[17.57098901098901],\"yaxis\":\"y\",\"type\":\"bar\"},{\"alignmentgroup\":\"True\",\"hovertemplate\":\"color=ARTS & CULTURE<br>x=%{x}<br>y=%{y}<extra></extra>\",\"legendgroup\":\"ARTS & CULTURE\",\"marker\":{\"color\":\"#f0f921\",\"pattern\":{\"shape\":\"\"}},\"name\":\"ARTS & CULTURE\",\"offsetgroup\":\"ARTS & CULTURE\",\"orientation\":\"v\",\"showlegend\":true,\"textposition\":\"auto\",\"x\":[\"ARTS & CULTURE\"],\"xaxis\":\"x\",\"y\":[27.67279862644101],\"yaxis\":\"y\",\"type\":\"bar\"},{\"alignmentgroup\":\"True\",\"hovertemplate\":\"color=SCIENCE<br>x=%{x}<br>y=%{y}<extra></extra>\",\"legendgroup\":\"SCIENCE\",\"marker\":{\"color\":\"#fdca26\",\"pattern\":{\"shape\":\"\"}},\"name\":\"SCIENCE\",\"offsetgroup\":\"SCIENCE\",\"orientation\":\"v\",\"showlegend\":true,\"textposition\":\"auto\",\"x\":[\"SCIENCE\"],\"xaxis\":\"x\",\"y\":[17.4267360876327],\"yaxis\":\"y\",\"type\":\"bar\"},{\"alignmentgroup\":\"True\",\"hovertemplate\":\"color=EDUCATION<br>x=%{x}<br>y=%{y}<extra></extra>\",\"legendgroup\":\"EDUCATION\",\"marker\":{\"color\":\"#fb9f3a\",\"pattern\":{\"shape\":\"\"}},\"name\":\"EDUCATION\",\"offsetgroup\":\"EDUCATION\",\"orientation\":\"v\",\"showlegend\":true,\"textposition\":\"auto\",\"x\":[\"EDUCATION\"],\"xaxis\":\"x\",\"y\":[22.021723518850987],\"yaxis\":\"y\",\"type\":\"bar\"},{\"alignmentgroup\":\"True\",\"hovertemplate\":\"color=PARENTS<br>x=%{x}<br>y=%{y}<extra></extra>\",\"legendgroup\":\"PARENTS\",\"marker\":{\"color\":\"#ed7953\",\"pattern\":{\"shape\":\"\"}},\"name\":\"PARENTS\",\"offsetgroup\":\"PARENTS\",\"orientation\":\"v\",\"showlegend\":true,\"textposition\":\"auto\",\"x\":[\"PARENTS\"],\"xaxis\":\"x\",\"y\":[25.7800395815663],\"yaxis\":\"y\",\"type\":\"bar\"},{\"alignmentgroup\":\"True\",\"hovertemplate\":\"color=ENVIRONMENT<br>x=%{x}<br>y=%{y}<extra></extra>\",\"legendgroup\":\"ENVIRONMENT\",\"marker\":{\"color\":\"#d8576b\",\"pattern\":{\"shape\":\"\"}},\"name\":\"ENVIRONMENT\",\"offsetgroup\":\"ENVIRONMENT\",\"orientation\":\"v\",\"showlegend\":true,\"textposition\":\"auto\",\"x\":[\"ENVIRONMENT\"],\"xaxis\":\"x\",\"y\":[20.43718309859155],\"yaxis\":\"y\",\"type\":\"bar\"},{\"alignmentgroup\":\"True\",\"hovertemplate\":\"color=FOOD & DRINK<br>x=%{x}<br>y=%{y}<extra></extra>\",\"legendgroup\":\"FOOD & DRINK\",\"marker\":{\"color\":\"#bd3786\",\"pattern\":{\"shape\":\"\"}},\"name\":\"FOOD & DRINK\",\"offsetgroup\":\"FOOD & DRINK\",\"orientation\":\"v\",\"showlegend\":true,\"textposition\":\"auto\",\"x\":[\"FOOD & DRINK\"],\"xaxis\":\"x\",\"y\":[17.570673076923075],\"yaxis\":\"y\",\"type\":\"bar\"},{\"alignmentgroup\":\"True\",\"hovertemplate\":\"color=WELLNESS<br>x=%{x}<br>y=%{y}<extra></extra>\",\"legendgroup\":\"WELLNESS\",\"marker\":{\"color\":\"#9c179e\",\"pattern\":{\"shape\":\"\"}},\"name\":\"WELLNESS\",\"offsetgroup\":\"WELLNESS\",\"orientation\":\"v\",\"showlegend\":true,\"textposition\":\"auto\",\"x\":[\"WELLNESS\"],\"xaxis\":\"x\",\"y\":[29.588390729911197],\"yaxis\":\"y\",\"type\":\"bar\"},{\"alignmentgroup\":\"True\",\"hovertemplate\":\"color=RELATIONSHIP<br>x=%{x}<br>y=%{y}<extra></extra>\",\"legendgroup\":\"RELATIONSHIP\",\"marker\":{\"color\":\"#7201a8\",\"pattern\":{\"shape\":\"\"}},\"name\":\"RELATIONSHIP\",\"offsetgroup\":\"RELATIONSHIP\",\"orientation\":\"v\",\"showlegend\":true,\"textposition\":\"auto\",\"x\":[\"RELATIONSHIP\"],\"xaxis\":\"x\",\"y\":[20.244880666572517],\"yaxis\":\"y\",\"type\":\"bar\"}],                        {\"template\":{\"data\":{\"bar\":[{\"error_x\":{\"color\":\"#2a3f5f\"},\"error_y\":{\"color\":\"#2a3f5f\"},\"marker\":{\"line\":{\"color\":\"#E5ECF6\",\"width\":0.5},\"pattern\":{\"fillmode\":\"overlay\",\"size\":10,\"solidity\":0.2}},\"type\":\"bar\"}],\"barpolar\":[{\"marker\":{\"line\":{\"color\":\"#E5ECF6\",\"width\":0.5},\"pattern\":{\"fillmode\":\"overlay\",\"size\":10,\"solidity\":0.2}},\"type\":\"barpolar\"}],\"carpet\":[{\"aaxis\":{\"endlinecolor\":\"#2a3f5f\",\"gridcolor\":\"white\",\"linecolor\":\"white\",\"minorgridcolor\":\"white\",\"startlinecolor\":\"#2a3f5f\"},\"baxis\":{\"endlinecolor\":\"#2a3f5f\",\"gridcolor\":\"white\",\"linecolor\":\"white\",\"minorgridcolor\":\"white\",\"startlinecolor\":\"#2a3f5f\"},\"type\":\"carpet\"}],\"choropleth\":[{\"colorbar\":{\"outlinewidth\":0,\"ticks\":\"\"},\"type\":\"choropleth\"}],\"contour\":[{\"colorbar\":{\"outlinewidth\":0,\"ticks\":\"\"},\"colorscale\":[[0.0,\"#0d0887\"],[0.1111111111111111,\"#46039f\"],[0.2222222222222222,\"#7201a8\"],[0.3333333333333333,\"#9c179e\"],[0.4444444444444444,\"#bd3786\"],[0.5555555555555556,\"#d8576b\"],[0.6666666666666666,\"#ed7953\"],[0.7777777777777778,\"#fb9f3a\"],[0.8888888888888888,\"#fdca26\"],[1.0,\"#f0f921\"]],\"type\":\"contour\"}],\"contourcarpet\":[{\"colorbar\":{\"outlinewidth\":0,\"ticks\":\"\"},\"type\":\"contourcarpet\"}],\"heatmap\":[{\"colorbar\":{\"outlinewidth\":0,\"ticks\":\"\"},\"colorscale\":[[0.0,\"#0d0887\"],[0.1111111111111111,\"#46039f\"],[0.2222222222222222,\"#7201a8\"],[0.3333333333333333,\"#9c179e\"],[0.4444444444444444,\"#bd3786\"],[0.5555555555555556,\"#d8576b\"],[0.6666666666666666,\"#ed7953\"],[0.7777777777777778,\"#fb9f3a\"],[0.8888888888888888,\"#fdca26\"],[1.0,\"#f0f921\"]],\"type\":\"heatmap\"}],\"heatmapgl\":[{\"colorbar\":{\"outlinewidth\":0,\"ticks\":\"\"},\"colorscale\":[[0.0,\"#0d0887\"],[0.1111111111111111,\"#46039f\"],[0.2222222222222222,\"#7201a8\"],[0.3333333333333333,\"#9c179e\"],[0.4444444444444444,\"#bd3786\"],[0.5555555555555556,\"#d8576b\"],[0.6666666666666666,\"#ed7953\"],[0.7777777777777778,\"#fb9f3a\"],[0.8888888888888888,\"#fdca26\"],[1.0,\"#f0f921\"]],\"type\":\"heatmapgl\"}],\"histogram\":[{\"marker\":{\"pattern\":{\"fillmode\":\"overlay\",\"size\":10,\"solidity\":0.2}},\"type\":\"histogram\"}],\"histogram2d\":[{\"colorbar\":{\"outlinewidth\":0,\"ticks\":\"\"},\"colorscale\":[[0.0,\"#0d0887\"],[0.1111111111111111,\"#46039f\"],[0.2222222222222222,\"#7201a8\"],[0.3333333333333333,\"#9c179e\"],[0.4444444444444444,\"#bd3786\"],[0.5555555555555556,\"#d8576b\"],[0.6666666666666666,\"#ed7953\"],[0.7777777777777778,\"#fb9f3a\"],[0.8888888888888888,\"#fdca26\"],[1.0,\"#f0f921\"]],\"type\":\"histogram2d\"}],\"histogram2dcontour\":[{\"colorbar\":{\"outlinewidth\":0,\"ticks\":\"\"},\"colorscale\":[[0.0,\"#0d0887\"],[0.1111111111111111,\"#46039f\"],[0.2222222222222222,\"#7201a8\"],[0.3333333333333333,\"#9c179e\"],[0.4444444444444444,\"#bd3786\"],[0.5555555555555556,\"#d8576b\"],[0.6666666666666666,\"#ed7953\"],[0.7777777777777778,\"#fb9f3a\"],[0.8888888888888888,\"#fdca26\"],[1.0,\"#f0f921\"]],\"type\":\"histogram2dcontour\"}],\"mesh3d\":[{\"colorbar\":{\"outlinewidth\":0,\"ticks\":\"\"},\"type\":\"mesh3d\"}],\"parcoords\":[{\"line\":{\"colorbar\":{\"outlinewidth\":0,\"ticks\":\"\"}},\"type\":\"parcoords\"}],\"pie\":[{\"automargin\":true,\"type\":\"pie\"}],\"scatter\":[{\"marker\":{\"colorbar\":{\"outlinewidth\":0,\"ticks\":\"\"}},\"type\":\"scatter\"}],\"scatter3d\":[{\"line\":{\"colorbar\":{\"outlinewidth\":0,\"ticks\":\"\"}},\"marker\":{\"colorbar\":{\"outlinewidth\":0,\"ticks\":\"\"}},\"type\":\"scatter3d\"}],\"scattercarpet\":[{\"marker\":{\"colorbar\":{\"outlinewidth\":0,\"ticks\":\"\"}},\"type\":\"scattercarpet\"}],\"scattergeo\":[{\"marker\":{\"colorbar\":{\"outlinewidth\":0,\"ticks\":\"\"}},\"type\":\"scattergeo\"}],\"scattergl\":[{\"marker\":{\"colorbar\":{\"outlinewidth\":0,\"ticks\":\"\"}},\"type\":\"scattergl\"}],\"scattermapbox\":[{\"marker\":{\"colorbar\":{\"outlinewidth\":0,\"ticks\":\"\"}},\"type\":\"scattermapbox\"}],\"scatterpolar\":[{\"marker\":{\"colorbar\":{\"outlinewidth\":0,\"ticks\":\"\"}},\"type\":\"scatterpolar\"}],\"scatterpolargl\":[{\"marker\":{\"colorbar\":{\"outlinewidth\":0,\"ticks\":\"\"}},\"type\":\"scatterpolargl\"}],\"scatterternary\":[{\"marker\":{\"colorbar\":{\"outlinewidth\":0,\"ticks\":\"\"}},\"type\":\"scatterternary\"}],\"surface\":[{\"colorbar\":{\"outlinewidth\":0,\"ticks\":\"\"},\"colorscale\":[[0.0,\"#0d0887\"],[0.1111111111111111,\"#46039f\"],[0.2222222222222222,\"#7201a8\"],[0.3333333333333333,\"#9c179e\"],[0.4444444444444444,\"#bd3786\"],[0.5555555555555556,\"#d8576b\"],[0.6666666666666666,\"#ed7953\"],[0.7777777777777778,\"#fb9f3a\"],[0.8888888888888888,\"#fdca26\"],[1.0,\"#f0f921\"]],\"type\":\"surface\"}],\"table\":[{\"cells\":{\"fill\":{\"color\":\"#EBF0F8\"},\"line\":{\"color\":\"white\"}},\"header\":{\"fill\":{\"color\":\"#C8D4E3\"},\"line\":{\"color\":\"white\"}},\"type\":\"table\"}]},\"layout\":{\"annotationdefaults\":{\"arrowcolor\":\"#2a3f5f\",\"arrowhead\":0,\"arrowwidth\":1},\"autotypenumbers\":\"strict\",\"coloraxis\":{\"colorbar\":{\"outlinewidth\":0,\"ticks\":\"\"}},\"colorscale\":{\"diverging\":[[0,\"#8e0152\"],[0.1,\"#c51b7d\"],[0.2,\"#de77ae\"],[0.3,\"#f1b6da\"],[0.4,\"#fde0ef\"],[0.5,\"#f7f7f7\"],[0.6,\"#e6f5d0\"],[0.7,\"#b8e186\"],[0.8,\"#7fbc41\"],[0.9,\"#4d9221\"],[1,\"#276419\"]],\"sequential\":[[0.0,\"#0d0887\"],[0.1111111111111111,\"#46039f\"],[0.2222222222222222,\"#7201a8\"],[0.3333333333333333,\"#9c179e\"],[0.4444444444444444,\"#bd3786\"],[0.5555555555555556,\"#d8576b\"],[0.6666666666666666,\"#ed7953\"],[0.7777777777777778,\"#fb9f3a\"],[0.8888888888888888,\"#fdca26\"],[1.0,\"#f0f921\"]],\"sequentialminus\":[[0.0,\"#0d0887\"],[0.1111111111111111,\"#46039f\"],[0.2222222222222222,\"#7201a8\"],[0.3333333333333333,\"#9c179e\"],[0.4444444444444444,\"#bd3786\"],[0.5555555555555556,\"#d8576b\"],[0.6666666666666666,\"#ed7953\"],[0.7777777777777778,\"#fb9f3a\"],[0.8888888888888888,\"#fdca26\"],[1.0,\"#f0f921\"]]},\"colorway\":[\"#636efa\",\"#EF553B\",\"#00cc96\",\"#ab63fa\",\"#FFA15A\",\"#19d3f3\",\"#FF6692\",\"#B6E880\",\"#FF97FF\",\"#FECB52\"],\"font\":{\"color\":\"#2a3f5f\"},\"geo\":{\"bgcolor\":\"white\",\"lakecolor\":\"white\",\"landcolor\":\"#E5ECF6\",\"showlakes\":true,\"showland\":true,\"subunitcolor\":\"white\"},\"hoverlabel\":{\"align\":\"left\"},\"hovermode\":\"closest\",\"mapbox\":{\"style\":\"light\"},\"paper_bgcolor\":\"white\",\"plot_bgcolor\":\"#E5ECF6\",\"polar\":{\"angularaxis\":{\"gridcolor\":\"white\",\"linecolor\":\"white\",\"ticks\":\"\"},\"bgcolor\":\"#E5ECF6\",\"radialaxis\":{\"gridcolor\":\"white\",\"linecolor\":\"white\",\"ticks\":\"\"}},\"scene\":{\"xaxis\":{\"backgroundcolor\":\"#E5ECF6\",\"gridcolor\":\"white\",\"gridwidth\":2,\"linecolor\":\"white\",\"showbackground\":true,\"ticks\":\"\",\"zerolinecolor\":\"white\"},\"yaxis\":{\"backgroundcolor\":\"#E5ECF6\",\"gridcolor\":\"white\",\"gridwidth\":2,\"linecolor\":\"white\",\"showbackground\":true,\"ticks\":\"\",\"zerolinecolor\":\"white\"},\"zaxis\":{\"backgroundcolor\":\"#E5ECF6\",\"gridcolor\":\"white\",\"gridwidth\":2,\"linecolor\":\"white\",\"showbackground\":true,\"ticks\":\"\",\"zerolinecolor\":\"white\"}},\"shapedefaults\":{\"line\":{\"color\":\"#2a3f5f\"}},\"ternary\":{\"aaxis\":{\"gridcolor\":\"white\",\"linecolor\":\"white\",\"ticks\":\"\"},\"baxis\":{\"gridcolor\":\"white\",\"linecolor\":\"white\",\"ticks\":\"\"},\"bgcolor\":\"#E5ECF6\",\"caxis\":{\"gridcolor\":\"white\",\"linecolor\":\"white\",\"ticks\":\"\"}},\"title\":{\"x\":0.05},\"xaxis\":{\"automargin\":true,\"gridcolor\":\"white\",\"linecolor\":\"white\",\"ticks\":\"\",\"title\":{\"standoff\":15},\"zerolinecolor\":\"white\",\"zerolinewidth\":2},\"yaxis\":{\"automargin\":true,\"gridcolor\":\"white\",\"linecolor\":\"white\",\"ticks\":\"\",\"title\":{\"standoff\":15},\"zerolinecolor\":\"white\",\"zerolinewidth\":2}}},\"xaxis\":{\"anchor\":\"y\",\"domain\":[0.0,1.0],\"title\":{\"text\":\"Category\"}},\"yaxis\":{\"anchor\":\"x\",\"domain\":[0.0,1.0],\"title\":{\"text\":\"Mean Number of Words\"}},\"legend\":{\"title\":{\"text\":\"color\"},\"tracegroupgap\":0},\"title\":{\"text\":\"Mean Number of Words in Short Description per Category\"},\"barmode\":\"relative\"},                        {\"responsive\": true}                    ).then(function(){\n",
              "                            \n",
              "var gd = document.getElementById('2c4c275f-9650-47f8-84ad-955eddc6a57e');\n",
              "var x = new MutationObserver(function (mutations, observer) {{\n",
              "        var display = window.getComputedStyle(gd).display;\n",
              "        if (!display || display === 'none') {{\n",
              "            console.log([gd, 'removed!']);\n",
              "            Plotly.purge(gd);\n",
              "            observer.disconnect();\n",
              "        }}\n",
              "}});\n",
              "\n",
              "// Listen for the removal of the full notebook cells\n",
              "var notebookContainer = gd.closest('#notebook-container');\n",
              "if (notebookContainer) {{\n",
              "    x.observe(notebookContainer, {childList: true});\n",
              "}}\n",
              "\n",
              "// Listen for the clearing of the current output cell\n",
              "var outputEl = gd.closest('.output');\n",
              "if (outputEl) {{\n",
              "    x.observe(outputEl, {childList: true});\n",
              "}}\n",
              "\n",
              "                        })                };                            </script>        </div>\n",
              "</body>\n",
              "</html>"
            ]
          },
          "metadata": {}
        },
        {
          "output_type": "display_data",
          "data": {
            "text/plain": [
              "<Figure size 2592x864 with 0 Axes>"
            ]
          },
          "metadata": {}
        }
      ]
    },
    {
      "cell_type": "markdown",
      "source": [
        "# Splitting data into a training and validation set"
      ],
      "metadata": {
        "id": "E9zL1YTa46Vr"
      }
    },
    {
      "cell_type": "code",
      "source": [
        "from sklearn.model_selection import train_test_split"
      ],
      "metadata": {
        "id": "sYmNWM0IhTWx"
      },
      "execution_count": null,
      "outputs": []
    },
    {
      "cell_type": "markdown",
      "source": [
        "Splitting the data into 2, a training set with the inputs and its targets and a validation set with its targets. 30% Split"
      ],
      "metadata": {
        "id": "hXAD6JN4DpVm"
      }
    },
    {
      "cell_type": "code",
      "source": [
        "train_df, val_df, train_targets, val_targets = train_test_split(raw, targets, test_size=0.3, random_state=42)"
      ],
      "metadata": {
        "id": "UQacrFGMid61"
      },
      "execution_count": null,
      "outputs": []
    },
    {
      "cell_type": "markdown",
      "source": [
        "# Cleaning data/Preparation for Vectorizing"
      ],
      "metadata": {
        "id": "owMuH5qh5AZx"
      }
    },
    {
      "cell_type": "code",
      "source": [
        "import string"
      ],
      "metadata": {
        "id": "y20hwMh_joDW"
      },
      "execution_count": null,
      "outputs": []
    },
    {
      "cell_type": "markdown",
      "source": [
        "Removing text-errors and punctuations in the specified columns."
      ],
      "metadata": {
        "id": "VxdKqpeE8QUC"
      }
    },
    {
      "cell_type": "code",
      "source": [
        "train_df['short_description'] = train_df['short_description'].str.encode('ascii', 'ignore').str.decode('ascii') #Removing ascii characthers in the data\n",
        "train_df['short_description'] = train_df['short_description'].str.lower() #Setting all the charcaters to lowercase\n",
        "train_df['short_description'] = train_df['short_description'].str.replace('[{}]'.format(string.punctuation), '') #Removing punctuations from the data\n",
        "\n",
        "train_df['headline'] = train_df['headline'].str.encode('ascii', 'ignore').str.decode('ascii') #Removing ascii characthers in the data\n",
        "train_df['headline'] = train_df['headline'].str.lower() #Setting all the charcaters to lowercase\n",
        "train_df['headline'] = train_df['headline'].str.replace('[{}]'.format(string.punctuation), '') #Removing punctuations from the data"
      ],
      "metadata": {
        "id": "eca-WXLw27MG",
        "colab": {
          "base_uri": "https://localhost:8080/"
        },
        "outputId": "d3499ea3-d238-49ef-ec45-0a0d08cfe20f"
      },
      "execution_count": null,
      "outputs": [
        {
          "output_type": "stream",
          "name": "stderr",
          "text": [
            "C:\\Users\\Ethan\\AppData\\Local\\Temp\\ipykernel_2448\\42535777.py:3: FutureWarning:\n",
            "\n",
            "The default value of regex will change from True to False in a future version.\n",
            "\n",
            "C:\\Users\\Ethan\\AppData\\Local\\Temp\\ipykernel_2448\\42535777.py:7: FutureWarning:\n",
            "\n",
            "The default value of regex will change from True to False in a future version.\n",
            "\n"
          ]
        }
      ]
    },
    {
      "cell_type": "markdown",
      "source": [
        "Checking the data to ensure it is cleaned and prepared correctly before TFIDF vectorizing "
      ],
      "metadata": {
        "id": "UPWIjU8CD4PO"
      }
    },
    {
      "cell_type": "code",
      "source": [
        "train_df.sample(5)"
      ],
      "metadata": {
        "id": "aph0T4ikNFrx",
        "colab": {
          "base_uri": "https://localhost:8080/",
          "height": 466
        },
        "outputId": "1778815a-72cd-4910-b3a8-d17af4dad628"
      },
      "execution_count": null,
      "outputs": [
        {
          "output_type": "execute_result",
          "data": {
            "text/plain": [
              "            category  \\\n",
              "41762           TECH   \n",
              "177682  RELATIONSHIP   \n",
              "103432      WELLNESS   \n",
              "122982     EDUCATION   \n",
              "44161       POLITICS   \n",
              "\n",
              "                                                             headline  \\\n",
              "41762                                         best black friday deals   \n",
              "177682                    7 tips for taking great wedding ring photos   \n",
              "103432                                       glutenfree holiday hacks   \n",
              "122982                                  my journey into the spotlight   \n",
              "44161   in ballot selfie battle free speech beats fear of voter fraud   \n",
              "\n",
              "                                                                                            authors  \\\n",
              "41762                                                             Jeff Lee, ContributorTechBargains   \n",
              "177682                                                                                          NaN   \n",
              "103432  Hannah Ross Crane, ContributorAssistant Director, NYU Law Institute for Executive Education   \n",
              "122982                                                  Pauline Hawkins, ContributorEnglish teacher   \n",
              "44161                                                                       Alison Frankel, Reuters   \n",
              "\n",
              "                                                                                                          link  \\\n",
              "41762                 https://www.huffingtonpost.com/entry/best-black-friday-deals_us_5834e764e4b0c2ab94436595   \n",
              "177682               https://www.huffingtonpost.comhttp://www.iheartfaces.com/2012/10/wedding-ring-photo-tips/   \n",
              "103432                           https://www.huffingtonpost.com/entry/gluten-free-holiday-hacks_b_6308206.html   \n",
              "122982                           https://www.huffingtonpost.com/entry/my-journey-into-the-spotl_b_5303142.html   \n",
              "44161   https://www.huffingtonpost.com/entry/ballot-selfie-free-speach-voter-fraud_us_5811f867e4b064e1b4b09f38   \n",
              "\n",
              "                                                                                                                                                                                                                             short_description  \\\n",
              "41762                                                                                                                   irobot rooma 650 vacuum robot for 27499 orig 375 you cant beat a vacuum that does the work for you schedule the roomba   \n",
              "177682                                                                                                                one wedding image that most brides like to have as part of their wedding photos is the ring shot today rachel durik from   \n",
              "103432  whether they be made by family or friends there is always a risk for crosscontamination of food that makes it nearly impossible to relax when you are invited into someone elses home or sometimes even in your own for holiday feasts   \n",
              "122982                                why did i write the letter if all of these things are true because over the past eleven years i have been more and more concerned over the 1520 percent of students who have given up on their education   \n",
              "44161                                                       a federal appellate court in boston and a federal trial judge in east lansing have found laws prohibiting ballot selfies to violate the first amendments protection of free speech   \n",
              "\n",
              "             date  year  number_of_words  \n",
              "41762  2016-11-23  2016               23  \n",
              "177682 2012-10-04  2012               23  \n",
              "103432 2014-12-22  2014               41  \n",
              "122982 2014-05-12  2014               39  \n",
              "44161  2016-10-27  2016               29  "
            ],
            "text/html": [
              "<div>\n",
              "<style scoped>\n",
              "    .dataframe tbody tr th:only-of-type {\n",
              "        vertical-align: middle;\n",
              "    }\n",
              "\n",
              "    .dataframe tbody tr th {\n",
              "        vertical-align: top;\n",
              "    }\n",
              "\n",
              "    .dataframe thead th {\n",
              "        text-align: right;\n",
              "    }\n",
              "</style>\n",
              "<table border=\"1\" class=\"dataframe\">\n",
              "  <thead>\n",
              "    <tr style=\"text-align: right;\">\n",
              "      <th></th>\n",
              "      <th>category</th>\n",
              "      <th>headline</th>\n",
              "      <th>authors</th>\n",
              "      <th>link</th>\n",
              "      <th>short_description</th>\n",
              "      <th>date</th>\n",
              "      <th>year</th>\n",
              "      <th>number_of_words</th>\n",
              "    </tr>\n",
              "  </thead>\n",
              "  <tbody>\n",
              "    <tr>\n",
              "      <th>41762</th>\n",
              "      <td>TECH</td>\n",
              "      <td>best black friday deals</td>\n",
              "      <td>Jeff Lee, ContributorTechBargains</td>\n",
              "      <td>https://www.huffingtonpost.com/entry/best-black-friday-deals_us_5834e764e4b0c2ab94436595</td>\n",
              "      <td>irobot rooma 650 vacuum robot for 27499 orig 375 you cant beat a vacuum that does the work for you schedule the roomba</td>\n",
              "      <td>2016-11-23</td>\n",
              "      <td>2016</td>\n",
              "      <td>23</td>\n",
              "    </tr>\n",
              "    <tr>\n",
              "      <th>177682</th>\n",
              "      <td>RELATIONSHIP</td>\n",
              "      <td>7 tips for taking great wedding ring photos</td>\n",
              "      <td>NaN</td>\n",
              "      <td>https://www.huffingtonpost.comhttp://www.iheartfaces.com/2012/10/wedding-ring-photo-tips/</td>\n",
              "      <td>one wedding image that most brides like to have as part of their wedding photos is the ring shot today rachel durik from</td>\n",
              "      <td>2012-10-04</td>\n",
              "      <td>2012</td>\n",
              "      <td>23</td>\n",
              "    </tr>\n",
              "    <tr>\n",
              "      <th>103432</th>\n",
              "      <td>WELLNESS</td>\n",
              "      <td>glutenfree holiday hacks</td>\n",
              "      <td>Hannah Ross Crane, ContributorAssistant Director, NYU Law Institute for Executive Education</td>\n",
              "      <td>https://www.huffingtonpost.com/entry/gluten-free-holiday-hacks_b_6308206.html</td>\n",
              "      <td>whether they be made by family or friends there is always a risk for crosscontamination of food that makes it nearly impossible to relax when you are invited into someone elses home or sometimes even in your own for holiday feasts</td>\n",
              "      <td>2014-12-22</td>\n",
              "      <td>2014</td>\n",
              "      <td>41</td>\n",
              "    </tr>\n",
              "    <tr>\n",
              "      <th>122982</th>\n",
              "      <td>EDUCATION</td>\n",
              "      <td>my journey into the spotlight</td>\n",
              "      <td>Pauline Hawkins, ContributorEnglish teacher</td>\n",
              "      <td>https://www.huffingtonpost.com/entry/my-journey-into-the-spotl_b_5303142.html</td>\n",
              "      <td>why did i write the letter if all of these things are true because over the past eleven years i have been more and more concerned over the 1520 percent of students who have given up on their education</td>\n",
              "      <td>2014-05-12</td>\n",
              "      <td>2014</td>\n",
              "      <td>39</td>\n",
              "    </tr>\n",
              "    <tr>\n",
              "      <th>44161</th>\n",
              "      <td>POLITICS</td>\n",
              "      <td>in ballot selfie battle free speech beats fear of voter fraud</td>\n",
              "      <td>Alison Frankel, Reuters</td>\n",
              "      <td>https://www.huffingtonpost.com/entry/ballot-selfie-free-speach-voter-fraud_us_5811f867e4b064e1b4b09f38</td>\n",
              "      <td>a federal appellate court in boston and a federal trial judge in east lansing have found laws prohibiting ballot selfies to violate the first amendments protection of free speech</td>\n",
              "      <td>2016-10-27</td>\n",
              "      <td>2016</td>\n",
              "      <td>29</td>\n",
              "    </tr>\n",
              "  </tbody>\n",
              "</table>\n",
              "</div>"
            ]
          },
          "metadata": {},
          "execution_count": 57
        }
      ]
    },
    {
      "cell_type": "markdown",
      "source": [
        "Importing list of stopwords"
      ],
      "metadata": {
        "id": "-sP9-uNc8hjk"
      }
    },
    {
      "cell_type": "code",
      "source": [
        "import nltk\n",
        "from nltk.corpus import stopwords\n",
        "nltk.download('stopwords')"
      ],
      "metadata": {
        "id": "TmjgtOjZfzQN",
        "colab": {
          "base_uri": "https://localhost:8080/"
        },
        "outputId": "ce3ed3f2-eb30-4ec4-8c7c-04243b3f86ba"
      },
      "execution_count": null,
      "outputs": [
        {
          "output_type": "stream",
          "name": "stderr",
          "text": [
            "[nltk_data] Downloading package stopwords to\n",
            "[nltk_data]     C:\\Users\\Ethan\\AppData\\Roaming\\nltk_data...\n",
            "[nltk_data]   Package stopwords is already up-to-date!\n"
          ]
        },
        {
          "output_type": "execute_result",
          "data": {
            "text/plain": [
              "True"
            ]
          },
          "metadata": {},
          "execution_count": 58
        }
      ]
    },
    {
      "cell_type": "markdown",
      "source": [
        "Setting english stopwords as our datasets information is in english"
      ],
      "metadata": {
        "id": "1NVaAymoEFTT"
      }
    },
    {
      "cell_type": "code",
      "source": [
        "stop = stopwords.words('english')"
      ],
      "metadata": {
        "id": "OJ2kDyRyjjrX"
      },
      "execution_count": null,
      "outputs": []
    },
    {
      "cell_type": "code",
      "source": [
        "train_df.dropna(subset=['headline'], inplace = True) #Dropping null values in headline category"
      ],
      "metadata": {
        "id": "AeW_XA8-kKws"
      },
      "execution_count": null,
      "outputs": []
    },
    {
      "cell_type": "code",
      "source": [
        "val_df.isna().sum()"
      ],
      "metadata": {
        "colab": {
          "base_uri": "https://localhost:8080/"
        },
        "id": "pfTak5b5kSzW",
        "outputId": "df970715-dbae-4686-a048-baafaa521ef6"
      },
      "execution_count": null,
      "outputs": [
        {
          "output_type": "execute_result",
          "data": {
            "text/plain": [
              "category           0\n",
              "headline           0\n",
              "                  ..\n",
              "year               0\n",
              "number_of_words    0\n",
              "Length: 8, dtype: int64"
            ]
          },
          "metadata": {},
          "execution_count": 61
        }
      ]
    },
    {
      "cell_type": "code",
      "source": [
        "train_df.isna().sum()"
      ],
      "metadata": {
        "colab": {
          "base_uri": "https://localhost:8080/"
        },
        "outputId": "549bebe2-ecf1-4457-9c2c-91e8bcf04d90",
        "id": "C3YT3cCikS4E"
      },
      "execution_count": null,
      "outputs": [
        {
          "output_type": "execute_result",
          "data": {
            "text/plain": [
              "category           0\n",
              "headline           0\n",
              "                  ..\n",
              "year               0\n",
              "number_of_words    0\n",
              "Length: 8, dtype: int64"
            ]
          },
          "metadata": {},
          "execution_count": 62
        }
      ]
    },
    {
      "cell_type": "markdown",
      "source": [
        "Creating a new column which combine headline and short descriptions columns "
      ],
      "metadata": {
        "id": "sTj56w0NZ6Vl"
      }
    },
    {
      "cell_type": "code",
      "source": [
        "train_df['combined'] = train_df['headline'] + \" \" + train_df['short_description'] + \" \" + train_df['link']"
      ],
      "metadata": {
        "id": "iIGfVZKvZ6Vm"
      },
      "execution_count": null,
      "outputs": []
    },
    {
      "cell_type": "code",
      "source": [
        "val_df['combined'] = val_df['headline'] + \" \" + val_df['short_description'] + \" \" + val_df['link']"
      ],
      "metadata": {
        "id": "-7OymX9nZ6Vm"
      },
      "execution_count": null,
      "outputs": []
    },
    {
      "cell_type": "code",
      "source": [
        "%%time\n",
        "stopword_count_headline = 0\n",
        "for headline in train_df.headline.str.split().to_numpy():\n",
        "  headline = str(headline)\n",
        "  for word in headline:\n",
        "    for stopWord in stop:\n",
        "      if(stopWord == word):\n",
        "        stopword_count_headline += 1\n",
        "print(stopword_count_headline)\n",
        "stopword_count_description = 0\n",
        "for desc in train_df.short_description.str.split().to_numpy():\n",
        "  desc = str(desc)\n",
        "  for word in desc:\n",
        "    for stopWord in stop:\n",
        "      if(stopWord == word):\n",
        "        stopword_count_description += 1\n",
        "print(stopword_count_description)"
      ],
      "metadata": {
        "colab": {
          "base_uri": "https://localhost:8080/"
        },
        "id": "QUq2xiS5aMBG",
        "outputId": "a781efb6-7c04-4240-b78c-84da8505bcd6"
      },
      "execution_count": null,
      "outputs": [
        {
          "output_type": "stream",
          "name": "stdout",
          "text": [
            "2868817\n",
            "6083912\n",
            "CPU times: total: 5min 1s\n",
            "Wall time: 5min 2s\n"
          ]
        }
      ]
    },
    {
      "cell_type": "code",
      "source": [
        "plt.figure(figsize = (36,12))\n",
        "\n",
        "fig = px.bar(x = [\"Headline\", \"Short Description\"], y = [stopword_count_headline, stopword_count_description], title=\"Number of Stopwords in The Headline and Short Description\", color=[\"Headline\", \"Short Description\"])\n",
        "\n",
        "fig.update_layout(xaxis_title = \"\",yaxis_title = \"Number of stop words\", barmode='group', bargap = 0.25, width = 800, showlegend = False)\n",
        "\n",
        "fig.show(renderer=\"colab\");"
      ],
      "metadata": {
        "colab": {
          "base_uri": "https://localhost:8080/",
          "height": 560
        },
        "id": "YFy-WooGeeZc",
        "outputId": "237c4113-85b3-4a45-d7f2-e8006454908e"
      },
      "execution_count": null,
      "outputs": [
        {
          "output_type": "display_data",
          "data": {
            "text/html": [
              "<html>\n",
              "<head><meta charset=\"utf-8\" /></head>\n",
              "<body>\n",
              "    <div>            <script src=\"https://cdnjs.cloudflare.com/ajax/libs/mathjax/2.7.5/MathJax.js?config=TeX-AMS-MML_SVG\"></script><script type=\"text/javascript\">if (window.MathJax) {MathJax.Hub.Config({SVG: {font: \"STIX-Web\"}});}</script>                <script type=\"text/javascript\">window.PlotlyConfig = {MathJaxConfig: 'local'};</script>\n",
              "        <script src=\"https://cdn.plot.ly/plotly-2.9.0.min.js\"></script>                <div id=\"9402f7fb-1f6c-4cb0-9ac4-f0f8fff64507\" class=\"plotly-graph-div\" style=\"height:525px; width:800px;\"></div>            <script type=\"text/javascript\">                                    window.PLOTLYENV=window.PLOTLYENV || {};                                    if (document.getElementById(\"9402f7fb-1f6c-4cb0-9ac4-f0f8fff64507\")) {                    Plotly.newPlot(                        \"9402f7fb-1f6c-4cb0-9ac4-f0f8fff64507\",                        [{\"alignmentgroup\":\"True\",\"hovertemplate\":\"color=Headline<br>x=%{x}<br>y=%{y}<extra></extra>\",\"legendgroup\":\"Headline\",\"marker\":{\"color\":\"#636efa\",\"pattern\":{\"shape\":\"\"}},\"name\":\"Headline\",\"offsetgroup\":\"Headline\",\"orientation\":\"v\",\"showlegend\":true,\"textposition\":\"auto\",\"x\":[\"Headline\"],\"xaxis\":\"x\",\"y\":[2868817],\"yaxis\":\"y\",\"type\":\"bar\"},{\"alignmentgroup\":\"True\",\"hovertemplate\":\"color=Short Description<br>x=%{x}<br>y=%{y}<extra></extra>\",\"legendgroup\":\"Short Description\",\"marker\":{\"color\":\"#EF553B\",\"pattern\":{\"shape\":\"\"}},\"name\":\"Short Description\",\"offsetgroup\":\"Short Description\",\"orientation\":\"v\",\"showlegend\":true,\"textposition\":\"auto\",\"x\":[\"Short Description\"],\"xaxis\":\"x\",\"y\":[6083912],\"yaxis\":\"y\",\"type\":\"bar\"}],                        {\"template\":{\"data\":{\"bar\":[{\"error_x\":{\"color\":\"#2a3f5f\"},\"error_y\":{\"color\":\"#2a3f5f\"},\"marker\":{\"line\":{\"color\":\"#E5ECF6\",\"width\":0.5},\"pattern\":{\"fillmode\":\"overlay\",\"size\":10,\"solidity\":0.2}},\"type\":\"bar\"}],\"barpolar\":[{\"marker\":{\"line\":{\"color\":\"#E5ECF6\",\"width\":0.5},\"pattern\":{\"fillmode\":\"overlay\",\"size\":10,\"solidity\":0.2}},\"type\":\"barpolar\"}],\"carpet\":[{\"aaxis\":{\"endlinecolor\":\"#2a3f5f\",\"gridcolor\":\"white\",\"linecolor\":\"white\",\"minorgridcolor\":\"white\",\"startlinecolor\":\"#2a3f5f\"},\"baxis\":{\"endlinecolor\":\"#2a3f5f\",\"gridcolor\":\"white\",\"linecolor\":\"white\",\"minorgridcolor\":\"white\",\"startlinecolor\":\"#2a3f5f\"},\"type\":\"carpet\"}],\"choropleth\":[{\"colorbar\":{\"outlinewidth\":0,\"ticks\":\"\"},\"type\":\"choropleth\"}],\"contour\":[{\"colorbar\":{\"outlinewidth\":0,\"ticks\":\"\"},\"colorscale\":[[0.0,\"#0d0887\"],[0.1111111111111111,\"#46039f\"],[0.2222222222222222,\"#7201a8\"],[0.3333333333333333,\"#9c179e\"],[0.4444444444444444,\"#bd3786\"],[0.5555555555555556,\"#d8576b\"],[0.6666666666666666,\"#ed7953\"],[0.7777777777777778,\"#fb9f3a\"],[0.8888888888888888,\"#fdca26\"],[1.0,\"#f0f921\"]],\"type\":\"contour\"}],\"contourcarpet\":[{\"colorbar\":{\"outlinewidth\":0,\"ticks\":\"\"},\"type\":\"contourcarpet\"}],\"heatmap\":[{\"colorbar\":{\"outlinewidth\":0,\"ticks\":\"\"},\"colorscale\":[[0.0,\"#0d0887\"],[0.1111111111111111,\"#46039f\"],[0.2222222222222222,\"#7201a8\"],[0.3333333333333333,\"#9c179e\"],[0.4444444444444444,\"#bd3786\"],[0.5555555555555556,\"#d8576b\"],[0.6666666666666666,\"#ed7953\"],[0.7777777777777778,\"#fb9f3a\"],[0.8888888888888888,\"#fdca26\"],[1.0,\"#f0f921\"]],\"type\":\"heatmap\"}],\"heatmapgl\":[{\"colorbar\":{\"outlinewidth\":0,\"ticks\":\"\"},\"colorscale\":[[0.0,\"#0d0887\"],[0.1111111111111111,\"#46039f\"],[0.2222222222222222,\"#7201a8\"],[0.3333333333333333,\"#9c179e\"],[0.4444444444444444,\"#bd3786\"],[0.5555555555555556,\"#d8576b\"],[0.6666666666666666,\"#ed7953\"],[0.7777777777777778,\"#fb9f3a\"],[0.8888888888888888,\"#fdca26\"],[1.0,\"#f0f921\"]],\"type\":\"heatmapgl\"}],\"histogram\":[{\"marker\":{\"pattern\":{\"fillmode\":\"overlay\",\"size\":10,\"solidity\":0.2}},\"type\":\"histogram\"}],\"histogram2d\":[{\"colorbar\":{\"outlinewidth\":0,\"ticks\":\"\"},\"colorscale\":[[0.0,\"#0d0887\"],[0.1111111111111111,\"#46039f\"],[0.2222222222222222,\"#7201a8\"],[0.3333333333333333,\"#9c179e\"],[0.4444444444444444,\"#bd3786\"],[0.5555555555555556,\"#d8576b\"],[0.6666666666666666,\"#ed7953\"],[0.7777777777777778,\"#fb9f3a\"],[0.8888888888888888,\"#fdca26\"],[1.0,\"#f0f921\"]],\"type\":\"histogram2d\"}],\"histogram2dcontour\":[{\"colorbar\":{\"outlinewidth\":0,\"ticks\":\"\"},\"colorscale\":[[0.0,\"#0d0887\"],[0.1111111111111111,\"#46039f\"],[0.2222222222222222,\"#7201a8\"],[0.3333333333333333,\"#9c179e\"],[0.4444444444444444,\"#bd3786\"],[0.5555555555555556,\"#d8576b\"],[0.6666666666666666,\"#ed7953\"],[0.7777777777777778,\"#fb9f3a\"],[0.8888888888888888,\"#fdca26\"],[1.0,\"#f0f921\"]],\"type\":\"histogram2dcontour\"}],\"mesh3d\":[{\"colorbar\":{\"outlinewidth\":0,\"ticks\":\"\"},\"type\":\"mesh3d\"}],\"parcoords\":[{\"line\":{\"colorbar\":{\"outlinewidth\":0,\"ticks\":\"\"}},\"type\":\"parcoords\"}],\"pie\":[{\"automargin\":true,\"type\":\"pie\"}],\"scatter\":[{\"marker\":{\"colorbar\":{\"outlinewidth\":0,\"ticks\":\"\"}},\"type\":\"scatter\"}],\"scatter3d\":[{\"line\":{\"colorbar\":{\"outlinewidth\":0,\"ticks\":\"\"}},\"marker\":{\"colorbar\":{\"outlinewidth\":0,\"ticks\":\"\"}},\"type\":\"scatter3d\"}],\"scattercarpet\":[{\"marker\":{\"colorbar\":{\"outlinewidth\":0,\"ticks\":\"\"}},\"type\":\"scattercarpet\"}],\"scattergeo\":[{\"marker\":{\"colorbar\":{\"outlinewidth\":0,\"ticks\":\"\"}},\"type\":\"scattergeo\"}],\"scattergl\":[{\"marker\":{\"colorbar\":{\"outlinewidth\":0,\"ticks\":\"\"}},\"type\":\"scattergl\"}],\"scattermapbox\":[{\"marker\":{\"colorbar\":{\"outlinewidth\":0,\"ticks\":\"\"}},\"type\":\"scattermapbox\"}],\"scatterpolar\":[{\"marker\":{\"colorbar\":{\"outlinewidth\":0,\"ticks\":\"\"}},\"type\":\"scatterpolar\"}],\"scatterpolargl\":[{\"marker\":{\"colorbar\":{\"outlinewidth\":0,\"ticks\":\"\"}},\"type\":\"scatterpolargl\"}],\"scatterternary\":[{\"marker\":{\"colorbar\":{\"outlinewidth\":0,\"ticks\":\"\"}},\"type\":\"scatterternary\"}],\"surface\":[{\"colorbar\":{\"outlinewidth\":0,\"ticks\":\"\"},\"colorscale\":[[0.0,\"#0d0887\"],[0.1111111111111111,\"#46039f\"],[0.2222222222222222,\"#7201a8\"],[0.3333333333333333,\"#9c179e\"],[0.4444444444444444,\"#bd3786\"],[0.5555555555555556,\"#d8576b\"],[0.6666666666666666,\"#ed7953\"],[0.7777777777777778,\"#fb9f3a\"],[0.8888888888888888,\"#fdca26\"],[1.0,\"#f0f921\"]],\"type\":\"surface\"}],\"table\":[{\"cells\":{\"fill\":{\"color\":\"#EBF0F8\"},\"line\":{\"color\":\"white\"}},\"header\":{\"fill\":{\"color\":\"#C8D4E3\"},\"line\":{\"color\":\"white\"}},\"type\":\"table\"}]},\"layout\":{\"annotationdefaults\":{\"arrowcolor\":\"#2a3f5f\",\"arrowhead\":0,\"arrowwidth\":1},\"autotypenumbers\":\"strict\",\"coloraxis\":{\"colorbar\":{\"outlinewidth\":0,\"ticks\":\"\"}},\"colorscale\":{\"diverging\":[[0,\"#8e0152\"],[0.1,\"#c51b7d\"],[0.2,\"#de77ae\"],[0.3,\"#f1b6da\"],[0.4,\"#fde0ef\"],[0.5,\"#f7f7f7\"],[0.6,\"#e6f5d0\"],[0.7,\"#b8e186\"],[0.8,\"#7fbc41\"],[0.9,\"#4d9221\"],[1,\"#276419\"]],\"sequential\":[[0.0,\"#0d0887\"],[0.1111111111111111,\"#46039f\"],[0.2222222222222222,\"#7201a8\"],[0.3333333333333333,\"#9c179e\"],[0.4444444444444444,\"#bd3786\"],[0.5555555555555556,\"#d8576b\"],[0.6666666666666666,\"#ed7953\"],[0.7777777777777778,\"#fb9f3a\"],[0.8888888888888888,\"#fdca26\"],[1.0,\"#f0f921\"]],\"sequentialminus\":[[0.0,\"#0d0887\"],[0.1111111111111111,\"#46039f\"],[0.2222222222222222,\"#7201a8\"],[0.3333333333333333,\"#9c179e\"],[0.4444444444444444,\"#bd3786\"],[0.5555555555555556,\"#d8576b\"],[0.6666666666666666,\"#ed7953\"],[0.7777777777777778,\"#fb9f3a\"],[0.8888888888888888,\"#fdca26\"],[1.0,\"#f0f921\"]]},\"colorway\":[\"#636efa\",\"#EF553B\",\"#00cc96\",\"#ab63fa\",\"#FFA15A\",\"#19d3f3\",\"#FF6692\",\"#B6E880\",\"#FF97FF\",\"#FECB52\"],\"font\":{\"color\":\"#2a3f5f\"},\"geo\":{\"bgcolor\":\"white\",\"lakecolor\":\"white\",\"landcolor\":\"#E5ECF6\",\"showlakes\":true,\"showland\":true,\"subunitcolor\":\"white\"},\"hoverlabel\":{\"align\":\"left\"},\"hovermode\":\"closest\",\"mapbox\":{\"style\":\"light\"},\"paper_bgcolor\":\"white\",\"plot_bgcolor\":\"#E5ECF6\",\"polar\":{\"angularaxis\":{\"gridcolor\":\"white\",\"linecolor\":\"white\",\"ticks\":\"\"},\"bgcolor\":\"#E5ECF6\",\"radialaxis\":{\"gridcolor\":\"white\",\"linecolor\":\"white\",\"ticks\":\"\"}},\"scene\":{\"xaxis\":{\"backgroundcolor\":\"#E5ECF6\",\"gridcolor\":\"white\",\"gridwidth\":2,\"linecolor\":\"white\",\"showbackground\":true,\"ticks\":\"\",\"zerolinecolor\":\"white\"},\"yaxis\":{\"backgroundcolor\":\"#E5ECF6\",\"gridcolor\":\"white\",\"gridwidth\":2,\"linecolor\":\"white\",\"showbackground\":true,\"ticks\":\"\",\"zerolinecolor\":\"white\"},\"zaxis\":{\"backgroundcolor\":\"#E5ECF6\",\"gridcolor\":\"white\",\"gridwidth\":2,\"linecolor\":\"white\",\"showbackground\":true,\"ticks\":\"\",\"zerolinecolor\":\"white\"}},\"shapedefaults\":{\"line\":{\"color\":\"#2a3f5f\"}},\"ternary\":{\"aaxis\":{\"gridcolor\":\"white\",\"linecolor\":\"white\",\"ticks\":\"\"},\"baxis\":{\"gridcolor\":\"white\",\"linecolor\":\"white\",\"ticks\":\"\"},\"bgcolor\":\"#E5ECF6\",\"caxis\":{\"gridcolor\":\"white\",\"linecolor\":\"white\",\"ticks\":\"\"}},\"title\":{\"x\":0.05},\"xaxis\":{\"automargin\":true,\"gridcolor\":\"white\",\"linecolor\":\"white\",\"ticks\":\"\",\"title\":{\"standoff\":15},\"zerolinecolor\":\"white\",\"zerolinewidth\":2},\"yaxis\":{\"automargin\":true,\"gridcolor\":\"white\",\"linecolor\":\"white\",\"ticks\":\"\",\"title\":{\"standoff\":15},\"zerolinecolor\":\"white\",\"zerolinewidth\":2}}},\"xaxis\":{\"anchor\":\"y\",\"domain\":[0.0,1.0],\"title\":{\"text\":\"\"}},\"yaxis\":{\"anchor\":\"x\",\"domain\":[0.0,1.0],\"title\":{\"text\":\"Number of stop words\"}},\"legend\":{\"title\":{\"text\":\"color\"},\"tracegroupgap\":0},\"title\":{\"text\":\"Number of Stopwords in The Headline and Short Description\"},\"barmode\":\"group\",\"bargap\":0.25,\"width\":800,\"showlegend\":false},                        {\"responsive\": true}                    ).then(function(){\n",
              "                            \n",
              "var gd = document.getElementById('9402f7fb-1f6c-4cb0-9ac4-f0f8fff64507');\n",
              "var x = new MutationObserver(function (mutations, observer) {{\n",
              "        var display = window.getComputedStyle(gd).display;\n",
              "        if (!display || display === 'none') {{\n",
              "            console.log([gd, 'removed!']);\n",
              "            Plotly.purge(gd);\n",
              "            observer.disconnect();\n",
              "        }}\n",
              "}});\n",
              "\n",
              "// Listen for the removal of the full notebook cells\n",
              "var notebookContainer = gd.closest('#notebook-container');\n",
              "if (notebookContainer) {{\n",
              "    x.observe(notebookContainer, {childList: true});\n",
              "}}\n",
              "\n",
              "// Listen for the clearing of the current output cell\n",
              "var outputEl = gd.closest('.output');\n",
              "if (outputEl) {{\n",
              "    x.observe(outputEl, {childList: true});\n",
              "}}\n",
              "\n",
              "                        })                };                            </script>        </div>\n",
              "</body>\n",
              "</html>"
            ]
          },
          "metadata": {}
        },
        {
          "output_type": "display_data",
          "data": {
            "text/plain": [
              "<Figure size 2592x864 with 0 Axes>"
            ]
          },
          "metadata": {}
        }
      ]
    },
    {
      "cell_type": "markdown",
      "source": [
        "# Count Vectorizing"
      ],
      "metadata": {
        "id": "NC0b5caAuI7w"
      }
    },
    {
      "cell_type": "code",
      "source": [
        "from sklearn.feature_extraction.text import CountVectorizer"
      ],
      "metadata": {
        "id": "5wyvaJTBuQeI"
      },
      "execution_count": null,
      "outputs": []
    },
    {
      "cell_type": "code",
      "source": [
        "train_df"
      ],
      "metadata": {
        "colab": {
          "base_uri": "https://localhost:8080/",
          "height": 600
        },
        "id": "s8aCv-oXjnbU",
        "outputId": "aebccd6e-c43e-48e2-b309-0cfdc05e8d07"
      },
      "execution_count": null,
      "outputs": [
        {
          "output_type": "execute_result",
          "data": {
            "text/plain": [
              "            category  \\\n",
              "104854       PARENTS   \n",
              "185246      BUSINESS   \n",
              "...              ...   \n",
              "166515  FOOD & DRINK   \n",
              "141577     LIFESTYLE   \n",
              "\n",
              "                                                               headline  \\\n",
              "104854                                       the reality of family time   \n",
              "185246  health law costs benefits can add up to a win for young and old   \n",
              "...                                                                 ...   \n",
              "166515                                 recipe guacamole with pistachios   \n",
              "141577                    weekly roundup of ebay vintage clothing finds   \n",
              "\n",
              "                                                                                               authors  \\\n",
              "104854       M. Blazoned, ContributorWriter. Blogger. Recovering Nail Biter. Wearer of Funny Hats. ...   \n",
              "185246                                                                                   Jeffrey Young   \n",
              "...                                                                                                ...   \n",
              "166515  James Beard Foundation, Contributor\\nPreserving America's diverse culinary heritage and future   \n",
              "141577                                   Mary Kincaid, Contributor\\nFounder and Editor of Zuburbia.com   \n",
              "\n",
              "                                                                                              link  \\\n",
              "104854              https://www.huffingtonpost.com/entry/the-reality-of-family-time_b_6187702.html   \n",
              "185246  https://www.huffingtonpost.com/entry/health-law-costs-benefits_us_5bb2c9c2e4b0480ca65c124d   \n",
              "...                                                                                            ...   \n",
              "166515           https://www.huffingtonpost.com/entry/guacamole-recipe_us_5b9cc6a5e4b03a1dcc81c096   \n",
              "141577  https://www.huffingtonpost.com/entry/-weekly-roundup-of-ebay-v_us_5b9d9cd0e4b03a1dcc8a3dad   \n",
              "\n",
              "                                                                                                                                                                                                                                     short_description  \\\n",
              "104854  all i want is peace and for the game to end before im old enough to sprout hairs out of the moles on my face as i pack up the evil pieces eye still twitching i somehow keep it together and say that was fun and wonder if anyone believes me   \n",
              "185246                                                                                                                           thats more than the 88 a month he paid for his old health plan and more than the 155 price he found when shopping for   \n",
              "...                                                                                                                                                                                                                                                ...   \n",
              "166515                                                                                                                                   when it comes to guacamole upgrades we used to think that we had seen it all but we were happily proven wrong   \n",
              "141577                                                                                                                           get ready get set bid click on pic for more info and auction links no time to page through thousands of ebay listings   \n",
              "\n",
              "             date  year  number_of_words  \\\n",
              "104854 2014-12-05  2014               51   \n",
              "185246 2012-07-14  2012               25   \n",
              "...           ...   ...              ...   \n",
              "166515 2013-02-01  2013               22   \n",
              "141577 2013-10-22  2013               23   \n",
              "\n",
              "                                                                                                                                                                                                                                                                                                                                                        combined  \n",
              "104854  the reality of family time all i want is peace and for the game to end before im old enough to sprout hairs out of the moles on my face as i pack up the evil pieces eye still twitching i somehow keep it together and say that was fun and wonder if anyone believes me https://www.huffingtonpost.com/entry/the-reality-of-family-time_b_6187702.html  \n",
              "185246                                                                          health law costs benefits can add up to a win for young and old thats more than the 88 a month he paid for his old health plan and more than the 155 price he found when shopping for https://www.huffingtonpost.com/entry/health-law-costs-benefits_us_5bb2c9c2e4b0480ca65c124d  \n",
              "...                                                                                                                                                                                                                                                                                                                                                          ...  \n",
              "166515                                                                                                                          recipe guacamole with pistachios when it comes to guacamole upgrades we used to think that we had seen it all but we were happily proven wrong https://www.huffingtonpost.com/entry/guacamole-recipe_us_5b9cc6a5e4b03a1dcc81c096  \n",
              "141577                                                                                            weekly roundup of ebay vintage clothing finds get ready get set bid click on pic for more info and auction links no time to page through thousands of ebay listings https://www.huffingtonpost.com/entry/-weekly-roundup-of-ebay-v_us_5b9d9cd0e4b03a1dcc8a3dad  \n",
              "\n",
              "[126780 rows x 9 columns]"
            ],
            "text/html": [
              "<div>\n",
              "<style scoped>\n",
              "    .dataframe tbody tr th:only-of-type {\n",
              "        vertical-align: middle;\n",
              "    }\n",
              "\n",
              "    .dataframe tbody tr th {\n",
              "        vertical-align: top;\n",
              "    }\n",
              "\n",
              "    .dataframe thead th {\n",
              "        text-align: right;\n",
              "    }\n",
              "</style>\n",
              "<table border=\"1\" class=\"dataframe\">\n",
              "  <thead>\n",
              "    <tr style=\"text-align: right;\">\n",
              "      <th></th>\n",
              "      <th>category</th>\n",
              "      <th>headline</th>\n",
              "      <th>authors</th>\n",
              "      <th>link</th>\n",
              "      <th>short_description</th>\n",
              "      <th>date</th>\n",
              "      <th>year</th>\n",
              "      <th>number_of_words</th>\n",
              "      <th>combined</th>\n",
              "    </tr>\n",
              "  </thead>\n",
              "  <tbody>\n",
              "    <tr>\n",
              "      <th>104854</th>\n",
              "      <td>PARENTS</td>\n",
              "      <td>the reality of family time</td>\n",
              "      <td>M. Blazoned, ContributorWriter. Blogger. Recovering Nail Biter. Wearer of Funny Hats. ...</td>\n",
              "      <td>https://www.huffingtonpost.com/entry/the-reality-of-family-time_b_6187702.html</td>\n",
              "      <td>all i want is peace and for the game to end before im old enough to sprout hairs out of the moles on my face as i pack up the evil pieces eye still twitching i somehow keep it together and say that was fun and wonder if anyone believes me</td>\n",
              "      <td>2014-12-05</td>\n",
              "      <td>2014</td>\n",
              "      <td>51</td>\n",
              "      <td>the reality of family time all i want is peace and for the game to end before im old enough to sprout hairs out of the moles on my face as i pack up the evil pieces eye still twitching i somehow keep it together and say that was fun and wonder if anyone believes me https://www.huffingtonpost.com/entry/the-reality-of-family-time_b_6187702.html</td>\n",
              "    </tr>\n",
              "    <tr>\n",
              "      <th>185246</th>\n",
              "      <td>BUSINESS</td>\n",
              "      <td>health law costs benefits can add up to a win for young and old</td>\n",
              "      <td>Jeffrey Young</td>\n",
              "      <td>https://www.huffingtonpost.com/entry/health-law-costs-benefits_us_5bb2c9c2e4b0480ca65c124d</td>\n",
              "      <td>thats more than the 88 a month he paid for his old health plan and more than the 155 price he found when shopping for</td>\n",
              "      <td>2012-07-14</td>\n",
              "      <td>2012</td>\n",
              "      <td>25</td>\n",
              "      <td>health law costs benefits can add up to a win for young and old thats more than the 88 a month he paid for his old health plan and more than the 155 price he found when shopping for https://www.huffingtonpost.com/entry/health-law-costs-benefits_us_5bb2c9c2e4b0480ca65c124d</td>\n",
              "    </tr>\n",
              "    <tr>\n",
              "      <th>...</th>\n",
              "      <td>...</td>\n",
              "      <td>...</td>\n",
              "      <td>...</td>\n",
              "      <td>...</td>\n",
              "      <td>...</td>\n",
              "      <td>...</td>\n",
              "      <td>...</td>\n",
              "      <td>...</td>\n",
              "      <td>...</td>\n",
              "    </tr>\n",
              "    <tr>\n",
              "      <th>166515</th>\n",
              "      <td>FOOD &amp; DRINK</td>\n",
              "      <td>recipe guacamole with pistachios</td>\n",
              "      <td>James Beard Foundation, Contributor\\nPreserving America's diverse culinary heritage and future</td>\n",
              "      <td>https://www.huffingtonpost.com/entry/guacamole-recipe_us_5b9cc6a5e4b03a1dcc81c096</td>\n",
              "      <td>when it comes to guacamole upgrades we used to think that we had seen it all but we were happily proven wrong</td>\n",
              "      <td>2013-02-01</td>\n",
              "      <td>2013</td>\n",
              "      <td>22</td>\n",
              "      <td>recipe guacamole with pistachios when it comes to guacamole upgrades we used to think that we had seen it all but we were happily proven wrong https://www.huffingtonpost.com/entry/guacamole-recipe_us_5b9cc6a5e4b03a1dcc81c096</td>\n",
              "    </tr>\n",
              "    <tr>\n",
              "      <th>141577</th>\n",
              "      <td>LIFESTYLE</td>\n",
              "      <td>weekly roundup of ebay vintage clothing finds</td>\n",
              "      <td>Mary Kincaid, Contributor\\nFounder and Editor of Zuburbia.com</td>\n",
              "      <td>https://www.huffingtonpost.com/entry/-weekly-roundup-of-ebay-v_us_5b9d9cd0e4b03a1dcc8a3dad</td>\n",
              "      <td>get ready get set bid click on pic for more info and auction links no time to page through thousands of ebay listings</td>\n",
              "      <td>2013-10-22</td>\n",
              "      <td>2013</td>\n",
              "      <td>23</td>\n",
              "      <td>weekly roundup of ebay vintage clothing finds get ready get set bid click on pic for more info and auction links no time to page through thousands of ebay listings https://www.huffingtonpost.com/entry/-weekly-roundup-of-ebay-v_us_5b9d9cd0e4b03a1dcc8a3dad</td>\n",
              "    </tr>\n",
              "  </tbody>\n",
              "</table>\n",
              "<p>126780 rows × 9 columns</p>\n",
              "</div>"
            ]
          },
          "metadata": {},
          "execution_count": 68
        }
      ]
    },
    {
      "cell_type": "code",
      "source": [
        "def CountVectorizing(y, features):\n",
        "  vectorizer = CountVectorizer(lowercase=True, #Lowercasing all data\n",
        "                               stop_words = stop, #using stopwords data from the previous section\n",
        "                               max_df=0.80, #when building the vocabulary ignore terms that have a document frequency higher than 80%, \n",
        "                               max_features=features, \n",
        "                               ngram_range=(1,3))  \n",
        "  vectorizer.fit(y) #fitting the data to 'y'\n",
        "  cleaned_desc = vectorizer.transform(y) #transforming 'y'\n",
        "  dense = cleaned_desc.todense() #Returning a dense matrix of the transformed data\n",
        "  denselist = dense.tolist() #Converting the matrix to a list\n",
        "  feature_names = vectorizer.get_feature_names_out() #Getting the feature names of the data, AKA the words that hold value\n",
        "  inverse = vectorizer.inverse_transform(cleaned_desc)\n",
        "  print(inverse)\n",
        "  return(denselist, feature_names); #Return the list and feature names of the model"
      ],
      "metadata": {
        "id": "xlHOEE4DuMHK"
      },
      "execution_count": null,
      "outputs": []
    },
    {
      "cell_type": "code",
      "source": [
        "vec_matrix, feature_words = CountVectorizing(train_df['combined'], 3000)"
      ],
      "metadata": {
        "colab": {
          "base_uri": "https://localhost:8080/"
        },
        "id": "sEDKRQRRuW6D",
        "outputId": "b73e430f-6139-4fff-e012-2b3b901295d0"
      },
      "execution_count": null,
      "outputs": [
        {
          "output_type": "stream",
          "name": "stderr",
          "text": [
            "IOPub data rate exceeded.\n",
            "The notebook server will temporarily stop sending output\n",
            "to the client in order to avoid crashing it.\n",
            "To change this limit, set the config variable\n",
            "`--NotebookApp.iopub_data_rate_limit`.\n",
            "\n",
            "Current values:\n",
            "NotebookApp.iopub_data_rate_limit=1000000.0 (bytes/sec)\n",
            "NotebookApp.rate_limit_window=3.0 (secs)\n",
            "\n"
          ]
        }
      ]
    },
    {
      "cell_type": "markdown",
      "source": [
        "# TFIDF Vectorizing"
      ],
      "metadata": {
        "id": "LGI-ocKmXKcU"
      }
    },
    {
      "cell_type": "markdown",
      "source": [
        "Importing TFIDF Vectorizer from the scikit learn library"
      ],
      "metadata": {
        "id": "E4ffuwnZ8tVp"
      }
    },
    {
      "cell_type": "code",
      "source": [
        "from sklearn.feature_extraction.text import TfidfVectorizer"
      ],
      "metadata": {
        "id": "2F7nnl2KhuX2"
      },
      "execution_count": null,
      "outputs": []
    },
    {
      "cell_type": "markdown",
      "source": [
        "Defining a function and setting parameters for the vectorizer"
      ],
      "metadata": {
        "id": "AGH1zzte8zq_"
      }
    },
    {
      "cell_type": "code",
      "source": [
        "def tfid(y, features):\n",
        "  vectorizer = TfidfVectorizer(lowercase=True, #Lowercasing all data\n",
        "                               stop_words = stop, #using stopwords data from the previous section\n",
        "                               max_df=0.80, #when building the vocabulary ignore terms that have a document frequency higher than 80%, \n",
        "                               max_features=features, \n",
        "                               ngram_range=(1,3))  \n",
        "  vectorizer.fit(y) #fitting the data to 'y'\n",
        "  cleaned_desc = vectorizer.transform(y) #transforming 'y'\n",
        "  print(cleaned_desc.shape)\n",
        "  dense = cleaned_desc.todense() #Returning a dense matrix of the transformed data\n",
        "  denselist = dense.tolist() #Converting the matrix to a list\n",
        "  feature_names = vectorizer.get_feature_names_out() #Getting the feature names of the data, AKA the words that hold value\n",
        "  return(denselist, feature_names); #Return the list and feature names of the model\n"
      ],
      "metadata": {
        "id": "t3NHGRzmzVqI"
      },
      "execution_count": null,
      "outputs": []
    },
    {
      "cell_type": "markdown",
      "source": [
        "Calling the function created earlier for TFIDF"
      ],
      "metadata": {
        "id": "h9-1Sqj29bD9"
      }
    },
    {
      "cell_type": "code",
      "source": [
        "combined_vec, combined_features = tfid(train_df['combined'], 3000)"
      ],
      "metadata": {
        "colab": {
          "base_uri": "https://localhost:8080/"
        },
        "id": "WRLTIh_UfFFQ",
        "outputId": "e01f9d26-01fb-4cd2-9831-fc1452d61cc1"
      },
      "execution_count": null,
      "outputs": [
        {
          "output_type": "stream",
          "name": "stdout",
          "text": [
            "(126780, 3000)\n"
          ]
        }
      ]
    },
    {
      "cell_type": "code",
      "source": [
        "combined_features"
      ],
      "metadata": {
        "colab": {
          "base_uri": "https://localhost:8080/"
        },
        "id": "TzxcPoLr6isK",
        "outputId": "5db7ff32-e816-4728-9b36-b3922952f9d4"
      },
      "execution_count": null,
      "outputs": [
        {
          "output_type": "execute_result",
          "data": {
            "text/plain": [
              "array(['01', '02', '03', ..., 'youtube', 'youve', 'zika'], dtype=object)"
            ]
          },
          "metadata": {},
          "execution_count": 74
        }
      ]
    },
    {
      "cell_type": "markdown",
      "source": [
        "# Hasing Vectorizer"
      ],
      "metadata": {
        "id": "olBF6ptLJ7t4"
      }
    },
    {
      "cell_type": "code",
      "source": [
        "from sklearn.feature_extraction.text import HashingVectorizer"
      ],
      "metadata": {
        "id": "DKHhBcsWKBMr"
      },
      "execution_count": null,
      "outputs": []
    },
    {
      "cell_type": "code",
      "source": [
        "def hashingVectorizer(y):\n",
        "  vectorizer = HashingVectorizer(lowercase=True, #Lowercasing all data\n",
        "                               stop_words = stop, #using stopwords data from the previous section\n",
        "                               ngram_range=(1,3),\n",
        "                               n_features = 2**4)  \n",
        "  vectorizer.fit(y) #fitting the data to 'y'\n",
        "  cleaned_desc = vectorizer.transform(y) #transforming 'y'\n",
        "  print(cleaned_desc.shape)\n",
        "  dense = cleaned_desc.todense() #Returning a dense matrix of the transformed data\n",
        "  denselist = dense.tolist() #Converting the matrix to a list\n",
        "  return(denselist); #Return the list and feature names of the model"
      ],
      "metadata": {
        "id": "vzZBBxvVKHGz"
      },
      "execution_count": null,
      "outputs": []
    },
    {
      "cell_type": "code",
      "source": [
        "combined_vec = hashingVectorizer(train_df['combined'])"
      ],
      "metadata": {
        "colab": {
          "base_uri": "https://localhost:8080/"
        },
        "id": "ZvPHdrGDKv8y",
        "outputId": "3847a285-4b8b-4c10-d6fa-85e46dc356c2"
      },
      "execution_count": null,
      "outputs": [
        {
          "output_type": "stream",
          "name": "stdout",
          "text": [
            "(126780, 16)\n"
          ]
        }
      ]
    },
    {
      "cell_type": "code",
      "source": [
        "train_targets.shape"
      ],
      "metadata": {
        "colab": {
          "base_uri": "https://localhost:8080/"
        },
        "id": "tOgNU3B1-E12",
        "outputId": "0ca7d742-b9c2-498c-b07a-331c8751c3b1"
      },
      "execution_count": null,
      "outputs": [
        {
          "output_type": "execute_result",
          "data": {
            "text/plain": [
              "(126784, 1)"
            ]
          },
          "metadata": {},
          "execution_count": 79
        }
      ]
    },
    {
      "cell_type": "markdown",
      "source": [
        "Updating train_targets DF so when we train the model there is no mismatch in dimensions/values"
      ],
      "metadata": {
        "id": "boD5DUXJ9qP4"
      }
    },
    {
      "cell_type": "code",
      "source": [
        "train_targets = train_df[['category']]"
      ],
      "metadata": {
        "id": "O5PXE1UX9_wN"
      },
      "execution_count": null,
      "outputs": []
    },
    {
      "cell_type": "code",
      "source": [
        "train_df['category']"
      ],
      "metadata": {
        "colab": {
          "base_uri": "https://localhost:8080/"
        },
        "id": "KOd8ERWlkRQy",
        "outputId": "be03d915-2b61-4470-8a51-ba85428ea286"
      },
      "execution_count": null,
      "outputs": [
        {
          "output_type": "execute_result",
          "data": {
            "text/plain": [
              "104854         PARENTS\n",
              "185246        BUSINESS\n",
              "              ...     \n",
              "166515    FOOD & DRINK\n",
              "141577       LIFESTYLE\n",
              "Name: category, Length: 126780, dtype: object"
            ]
          },
          "metadata": {},
          "execution_count": 81
        }
      ]
    },
    {
      "cell_type": "code",
      "source": [
        "train_targets.shape"
      ],
      "metadata": {
        "colab": {
          "base_uri": "https://localhost:8080/"
        },
        "id": "r9hFxC5HkOM8",
        "outputId": "fa82e12f-04c4-4bcd-887b-7ccbb8a44357"
      },
      "execution_count": null,
      "outputs": [
        {
          "output_type": "execute_result",
          "data": {
            "text/plain": [
              "(126780, 1)"
            ]
          },
          "metadata": {},
          "execution_count": 82
        }
      ]
    },
    {
      "cell_type": "code",
      "source": [
        "def TFIDF_vectorizer(**params):\n",
        "    vectorizer = TfidfVectorizer(**params) #**params for tuning the TFIDF Vectorizer\n",
        "    vectorizer.fit(train_df['combined']) #Fitting model to the combined column in the training set\n",
        "    cleaned_desc = vectorizer.transform(train_df['combined']) #Transforming the training set\n",
        "    return cleaned_desc, vectorizer"
      ],
      "metadata": {
        "id": "7PUvMDEZERNN"
      },
      "execution_count": null,
      "outputs": []
    },
    {
      "cell_type": "code",
      "source": [
        "def count_vectorizer(**params):\n",
        "    vectorizer = CountVectorizer(**params) #**params for tuning the Count Vectorizer\n",
        "    vectorizer.fit(train_df['combined']) #Fitting model to the combined column in the training set\n",
        "    cleaned_desc = vectorizer.transform(train_df['combined']) #Transforming the training set\n",
        "    return cleaned_desc, vectorizer"
      ],
      "metadata": {
        "id": "F6Pl2QxBqXiQ"
      },
      "execution_count": null,
      "outputs": []
    },
    {
      "cell_type": "code",
      "source": [
        "def hashing_vectorizer(**params):\n",
        "    vectorizer = HashingVectorizer(**params) #**params for tuning the Hasing Vectorizer\n",
        "    vectorizer.fit(train_df['combined']) #Fitting model to the combined column in the training set\n",
        "    cleaned_desc = vectorizer.transform(train_df['combined']) #Transforming the training set\n",
        "    return cleaned_desc, vectorizer"
      ],
      "metadata": {
        "id": "clun5epiNRWC"
      },
      "execution_count": null,
      "outputs": []
    },
    {
      "cell_type": "code",
      "source": [
        "def increment(x): #Incremting function for different rounds/epochs when training/tuning\n",
        "  arr = []\n",
        "  for i in range(3):\n",
        "   arr.append(x)\n",
        "   x = x + x\n",
        "  return arr"
      ],
      "metadata": {
        "id": "6zQ2bW9-ESzi"
      },
      "execution_count": null,
      "outputs": []
    },
    {
      "cell_type": "markdown",
      "source": [
        "# Gradient Boosting Classifer\n"
      ],
      "metadata": {
        "id": "InYh-WOsXFrW"
      }
    },
    {
      "cell_type": "markdown",
      "source": [
        "Trying the RandomForestClassifier as a model"
      ],
      "metadata": {
        "id": "69-7NLPa-ncW"
      }
    },
    {
      "cell_type": "code",
      "source": [
        "from xgboost import XGBClassifier\n",
        "from xgboost import plot_tree\n",
        "from sklearn import preprocessing"
      ],
      "metadata": {
        "id": "7j978U1NOOzD",
        "colab": {
          "base_uri": "https://localhost:8080/"
        },
        "outputId": "eec18d80-8a3c-40da-aeaf-ecf5ccdfaa16"
      },
      "execution_count": null,
      "outputs": [
        {
          "output_type": "stream",
          "name": "stderr",
          "text": [
            "C:\\Users\\Ethan\\AppData\\Local\\Programs\\Python\\Python39\\lib\\site-packages\\xgboost\\compat.py:36: FutureWarning:\n",
            "\n",
            "pandas.Int64Index is deprecated and will be removed from pandas in a future version. Use pandas.Index with the appropriate dtype instead.\n",
            "\n"
          ]
        }
      ]
    },
    {
      "cell_type": "markdown",
      "source": [
        "Defining functions for hyper parameter testing"
      ],
      "metadata": {
        "id": "Rhiv-umND9Js"
      }
    },
    {
      "cell_type": "code",
      "source": [
        "lbl = preprocessing.LabelEncoder()\n",
        "encoded_train_cats = lbl.fit_transform(train_targets.category.astype(str))\n",
        "encoded_val_cats = lbl.fit_transform(val_targets.category.astype(str))\n",
        "\n",
        "def GradientBoostingHyperParams(x, vector,vectorizerName, round, **params):\n",
        "    model = XGBClassifier(**params) #**params for tuning the XGBClassifier model\n",
        "    model.fit(x, encoded_train_cats) #Fitting the model \n",
        "    print(\"Training set score: {:.5f}\".format(model.score(x, encoded_train_cats))) #Predictions for training set\n",
        "    valvector = vector.transform(val_df.combined) #Transforming the validation data for predictions\n",
        "    print(\"Validation set score: {:.5f}\\n\".format(model.score(valvector, encoded_val_cats))) #Predictions for validation set\n",
        "    Forest_history.append({\"train_score\":model.score(x, encoded_train_cats), \"val_score\":model.score(valvector, encoded_val_cats), \"vectorizer\":vectorizerName, \"round\": round})\n",
        "    return model"
      ],
      "metadata": {
        "id": "mAPdJQrjn_7D"
      },
      "execution_count": null,
      "outputs": []
    },
    {
      "cell_type": "code",
      "source": [
        "def ForestTuning(): \n",
        "  range = increment(4000)\n",
        "  counter = 1;\n",
        "  hash_features = [10, 15, 20]\n",
        "  for i in range:\n",
        "    clean, tfidf_vectorizer = TFIDF_vectorizer(lowercase=True, max_df=0.80, max_features= i, ngram_range=(1,3), stop_words = stop) #Setting the parameters for TFIDF vectorizing\n",
        "    print(\"\\nRound {}:\\nMax_features = {}\\nVectorizer = TFIDF\".format(counter, i)) #Displaying the round/epoch and the current parameters\n",
        "    tfidf_model = GradientBoostingHyperParams(x = clean, vector = tfidf_vectorizer, vectorizerName = \"tfidf\", round=counter,n_estimators= 20, max_depth = 6, n_jobs=-1, random_state=42, use_label_encoder=False) #Setting the XGBClassifer parameters\n",
        "    \n",
        "    clean, countVectorizer = count_vectorizer(lowercase=True, max_df=0.80, max_features= i, ngram_range=(1,3), stop_words = stop) #Setting the parameters for Count vectorizing\n",
        "    print(\"\\nRound {}:\\nMax_features = {}\\nVectorizer = Count Vectorizing\".format(counter, i)) #Displaying the round/epoch and the current parameters\n",
        "    count_model = GradientBoostingHyperParams(x = clean, vector = countVectorizer,vectorizerName = \"countvectorizer\", round=counter, n_estimators= 20, max_depth = 6, n_jobs=-1, random_state=42, use_label_encoder=False) #Setting the XGBClassifer parameters\n",
        "    \n",
        "    clean, hash_vectorizer = hashing_vectorizer(lowercase=True, stop_words = stop,ngram_range=(1,3),n_features = 2**hash_features[(counter - 1)]) #Setting the parameters for Hash vectorizing\n",
        "    print(\"\\nRound {}:\\nMax_features = {}\\nVectorizer = Hash Vectorizing\".format(counter, 2**hash_features[(counter - 1)])) #Displaying the round/epoch and the current parameters\n",
        "    hash_model = GradientBoostingHyperParams(x = clean, vector = hash_vectorizer,vectorizerName = \"hashingvectorizer\", round=counter, n_estimators= 20, max_depth = 6, n_jobs=-1, random_state=42, use_label_encoder=False) #Setting the XGBClassifer parameters\n",
        "\n",
        "    counter += 1; #Keeping track of the current round/epoch\n",
        "  return tfidf_model, count_model, hash_model, tfidf_vectorizer, countVectorizer, hash_vectorizer"
      ],
      "metadata": {
        "id": "70BdBeY1Y5BY"
      },
      "execution_count": null,
      "outputs": []
    },
    {
      "cell_type": "code",
      "source": [
        "%%time\n",
        "Forest_history = []\n",
        "tfidf_model, count_model, hash_model, tfidf_vectorizer, countVectorizer, hash_vectorizer = ForestTuning()"
      ],
      "metadata": {
        "colab": {
          "base_uri": "https://localhost:8080/"
        },
        "id": "_j8MLyz9mkdo",
        "outputId": "40a06802-0614-4164-89e0-039dc73a3967"
      },
      "execution_count": null,
      "outputs": [
        {
          "output_type": "stream",
          "name": "stdout",
          "text": [
            "\n",
            "Round 1:\n",
            "Max_features = 4000\n",
            "Vectorizer = TFIDF\n",
            "[16:06:34] WARNING: C:/Users/Administrator/workspace/xgboost-win64_release_1.5.1/src/learner.cc:1115: Starting in XGBoost 1.3.0, the default evaluation metric used with the objective 'multi:softprob' was changed from 'merror' to 'mlogloss'. Explicitly set eval_metric if you'd like to restore the old behavior.\n",
            "Training set score: 0.63300\n",
            "Validation set score: 0.60264\n",
            "\n",
            "\n",
            "Round 1:\n",
            "Max_features = 4000\n",
            "Vectorizer = Count Vectorizing\n",
            "[16:07:52] WARNING: C:/Users/Administrator/workspace/xgboost-win64_release_1.5.1/src/learner.cc:1115: Starting in XGBoost 1.3.0, the default evaluation metric used with the objective 'multi:softprob' was changed from 'merror' to 'mlogloss'. Explicitly set eval_metric if you'd like to restore the old behavior.\n",
            "Training set score: 0.62380\n",
            "Validation set score: 0.60490\n",
            "\n",
            "\n",
            "Round 1:\n",
            "Max_features = 1024\n",
            "Vectorizer = Hash Vectorizing\n",
            "[16:08:16] WARNING: C:/Users/Administrator/workspace/xgboost-win64_release_1.5.1/src/learner.cc:1115: Starting in XGBoost 1.3.0, the default evaluation metric used with the objective 'multi:softprob' was changed from 'merror' to 'mlogloss'. Explicitly set eval_metric if you'd like to restore the old behavior.\n",
            "Training set score: 0.53025\n",
            "Validation set score: 0.45565\n",
            "\n",
            "\n",
            "Round 2:\n",
            "Max_features = 8000\n",
            "Vectorizer = TFIDF\n",
            "[16:10:03] WARNING: C:/Users/Administrator/workspace/xgboost-win64_release_1.5.1/src/learner.cc:1115: Starting in XGBoost 1.3.0, the default evaluation metric used with the objective 'multi:softprob' was changed from 'merror' to 'mlogloss'. Explicitly set eval_metric if you'd like to restore the old behavior.\n",
            "Training set score: 0.63612\n",
            "Validation set score: 0.60674\n",
            "\n",
            "\n",
            "Round 2:\n",
            "Max_features = 8000\n",
            "Vectorizer = Count Vectorizing\n",
            "[16:11:29] WARNING: C:/Users/Administrator/workspace/xgboost-win64_release_1.5.1/src/learner.cc:1115: Starting in XGBoost 1.3.0, the default evaluation metric used with the objective 'multi:softprob' was changed from 'merror' to 'mlogloss'. Explicitly set eval_metric if you'd like to restore the old behavior.\n",
            "Training set score: 0.62800\n",
            "Validation set score: 0.60934\n",
            "\n",
            "\n",
            "Round 2:\n",
            "Max_features = 32768\n",
            "Vectorizer = Hash Vectorizing\n",
            "[16:11:57] WARNING: C:/Users/Administrator/workspace/xgboost-win64_release_1.5.1/src/learner.cc:1115: Starting in XGBoost 1.3.0, the default evaluation metric used with the objective 'multi:softprob' was changed from 'merror' to 'mlogloss'. Explicitly set eval_metric if you'd like to restore the old behavior.\n",
            "Training set score: 0.62258\n",
            "Validation set score: 0.58701\n",
            "\n",
            "\n",
            "Round 3:\n",
            "Max_features = 16000\n",
            "Vectorizer = TFIDF\n",
            "[16:14:45] WARNING: C:/Users/Administrator/workspace/xgboost-win64_release_1.5.1/src/learner.cc:1115: Starting in XGBoost 1.3.0, the default evaluation metric used with the objective 'multi:softprob' was changed from 'merror' to 'mlogloss'. Explicitly set eval_metric if you'd like to restore the old behavior.\n",
            "Training set score: 0.63920\n",
            "Validation set score: 0.60976\n",
            "\n",
            "\n",
            "Round 3:\n",
            "Max_features = 16000\n",
            "Vectorizer = Count Vectorizing\n",
            "[16:16:14] WARNING: C:/Users/Administrator/workspace/xgboost-win64_release_1.5.1/src/learner.cc:1115: Starting in XGBoost 1.3.0, the default evaluation metric used with the objective 'multi:softprob' was changed from 'merror' to 'mlogloss'. Explicitly set eval_metric if you'd like to restore the old behavior.\n",
            "Training set score: 0.63004\n",
            "Validation set score: 0.61052\n",
            "\n",
            "\n",
            "Round 3:\n",
            "Max_features = 1048576\n",
            "Vectorizer = Hash Vectorizing\n",
            "[16:16:43] WARNING: C:/Users/Administrator/workspace/xgboost-win64_release_1.5.1/src/learner.cc:1115: Starting in XGBoost 1.3.0, the default evaluation metric used with the objective 'multi:softprob' was changed from 'merror' to 'mlogloss'. Explicitly set eval_metric if you'd like to restore the old behavior.\n",
            "Training set score: 0.64087\n",
            "Validation set score: 0.60893\n",
            "\n",
            "CPU times: total: 1h 9min 12s\n",
            "Wall time: 12min 45s\n"
          ]
        }
      ]
    },
    {
      "cell_type": "code",
      "source": [
        "train_score_tfidf = []\n",
        "val_score_tfidf = []\n",
        "round_tfidf =[]\n",
        "train_score_count = []\n",
        "val_score_count = []\n",
        "round_count =[]\n",
        "train_score_hashing = []\n",
        "val_score_hashing = []\n",
        "round_hashing =[]\n",
        "vectorizer = []\n",
        "\n",
        "\n",
        "\n",
        "for x in Forest_history:\n",
        "  if(x[\"vectorizer\"]==\"tfidf\"):\n",
        "    train_score_tfidf.append(x[\"train_score\"])\n",
        "    val_score_tfidf.append(x[\"val_score\"])\n",
        "    round_tfidf.append(x[\"round\"])\n",
        "\n",
        "  if(x[\"vectorizer\"]==\"countvectorizer\"):\n",
        "    train_score_count.append(x[\"train_score\"])\n",
        "    val_score_count.append(x[\"val_score\"])\n",
        "    round_count.append(x[\"round\"])\n",
        "    \n",
        "  if(x[\"vectorizer\"]==\"hashingvectorizer\"):\n",
        "    train_score_hashing.append(x[\"train_score\"])\n",
        "    val_score_hashing.append(x[\"val_score\"])\n",
        "    round_hashing.append(x[\"round\"])\n",
        "    \n",
        "  vectorizer.append(x[\"vectorizer\"])\n",
        "\n",
        "  \n",
        "fig = go.Figure()\n",
        "\n",
        "#TFIDF Results\n",
        "fig.add_trace(go.Scatter(\n",
        "    x=round_tfidf,\n",
        "    y=train_score_tfidf,\n",
        "    name= \"TFIDF Training Accuracy\"\n",
        "))\n",
        "\n",
        "\n",
        "fig.add_trace(go.Scatter(\n",
        "    x=round_tfidf,\n",
        "    y=val_score_tfidf,\n",
        "    name=\"TFIDF Validation Accuracy\"\n",
        "))\n",
        "\n",
        "#Count Vectorizer Results\n",
        "\n",
        "fig.add_trace(go.Scatter(\n",
        "    x=round_count,\n",
        "    y=train_score_count,\n",
        "    name= \"Count Vectorizer Train Accuracy\"\n",
        "))\n",
        "\n",
        "\n",
        "fig.add_trace(go.Scatter(\n",
        "    x=round_count,\n",
        "    y=val_score_count,\n",
        "    name=\"Count Vectorizer Validation Accuracy\"\n",
        "))\n",
        "\n",
        "#Hashing Vectorizer Results\n",
        "\n",
        "fig.add_trace(go.Scatter(\n",
        "    x=round_hashing,\n",
        "    y=train_score_hashing,\n",
        "    name= \"Hash Vectorizer Train Accuracy\"\n",
        "))\n",
        "\n",
        "\n",
        "fig.add_trace(go.Scatter(\n",
        "    x=round_hashing,\n",
        "    y=val_score_hashing,\n",
        "    name=\"Hash Vectorizer Validation Accuracy\"\n",
        "))\n",
        "\n",
        "fig.update_layout(\n",
        "    title=\"Gradient Boosting Model Accuracy\",\n",
        "    xaxis_title=\"Round\",\n",
        "    yaxis_title=\"Accuracy (%)\",\n",
        "    legend_title=\"Vectorzing Technique Accuracies\",\n",
        ")\n",
        "\n",
        "fig.show(renderer=\"colab\");"
      ],
      "metadata": {
        "colab": {
          "base_uri": "https://localhost:8080/",
          "height": 542
        },
        "id": "dPENxbJoyOW3",
        "outputId": "cabedd93-ebaf-4326-df17-7c61ead6aa26"
      },
      "execution_count": null,
      "outputs": [
        {
          "output_type": "display_data",
          "data": {
            "text/html": [
              "<html>\n",
              "<head><meta charset=\"utf-8\" /></head>\n",
              "<body>\n",
              "    <div>            <script src=\"https://cdnjs.cloudflare.com/ajax/libs/mathjax/2.7.5/MathJax.js?config=TeX-AMS-MML_SVG\"></script><script type=\"text/javascript\">if (window.MathJax) {MathJax.Hub.Config({SVG: {font: \"STIX-Web\"}});}</script>                <script type=\"text/javascript\">window.PlotlyConfig = {MathJaxConfig: 'local'};</script>\n",
              "        <script src=\"https://cdn.plot.ly/plotly-2.9.0.min.js\"></script>                <div id=\"aec7649f-69ec-46f5-998c-486ec9a43f1d\" class=\"plotly-graph-div\" style=\"height:525px; width:100%;\"></div>            <script type=\"text/javascript\">                                    window.PLOTLYENV=window.PLOTLYENV || {};                                    if (document.getElementById(\"aec7649f-69ec-46f5-998c-486ec9a43f1d\")) {                    Plotly.newPlot(                        \"aec7649f-69ec-46f5-998c-486ec9a43f1d\",                        [{\"name\":\"TFIDF Training Accuracy\",\"x\":[1,2,3],\"y\":[0.6330020507966556,0.6361176841773151,0.6392017668401956],\"type\":\"scatter\"},{\"name\":\"TFIDF Validation Accuracy\",\"x\":[1,2,3],\"y\":[0.6026391342756183,0.6067432273262662,0.6097614840989399],\"type\":\"scatter\"},{\"name\":\"Count Vectorizer Train Accuracy\",\"x\":[1,2,3],\"y\":[0.6237971288846821,0.6280012620287112,0.6300362833254457],\"type\":\"scatter\"},{\"name\":\"Count Vectorizer Validation Accuracy\",\"x\":[1,2,3],\"y\":[0.6049028268551236,0.6093381919905771,0.6105160482921084],\"type\":\"scatter\"},{\"name\":\"Hash Vectorizer Train Accuracy\",\"x\":[1,2,3],\"y\":[0.5302492506704527,0.6225824262501972,0.6408739548824736],\"type\":\"scatter\"},{\"name\":\"Hash Vectorizer Validation Accuracy\",\"x\":[1,2,3],\"y\":[0.45564634864546527,0.5870141342756183,0.6089333038869258],\"type\":\"scatter\"}],                        {\"template\":{\"data\":{\"bar\":[{\"error_x\":{\"color\":\"#2a3f5f\"},\"error_y\":{\"color\":\"#2a3f5f\"},\"marker\":{\"line\":{\"color\":\"#E5ECF6\",\"width\":0.5},\"pattern\":{\"fillmode\":\"overlay\",\"size\":10,\"solidity\":0.2}},\"type\":\"bar\"}],\"barpolar\":[{\"marker\":{\"line\":{\"color\":\"#E5ECF6\",\"width\":0.5},\"pattern\":{\"fillmode\":\"overlay\",\"size\":10,\"solidity\":0.2}},\"type\":\"barpolar\"}],\"carpet\":[{\"aaxis\":{\"endlinecolor\":\"#2a3f5f\",\"gridcolor\":\"white\",\"linecolor\":\"white\",\"minorgridcolor\":\"white\",\"startlinecolor\":\"#2a3f5f\"},\"baxis\":{\"endlinecolor\":\"#2a3f5f\",\"gridcolor\":\"white\",\"linecolor\":\"white\",\"minorgridcolor\":\"white\",\"startlinecolor\":\"#2a3f5f\"},\"type\":\"carpet\"}],\"choropleth\":[{\"colorbar\":{\"outlinewidth\":0,\"ticks\":\"\"},\"type\":\"choropleth\"}],\"contour\":[{\"colorbar\":{\"outlinewidth\":0,\"ticks\":\"\"},\"colorscale\":[[0.0,\"#0d0887\"],[0.1111111111111111,\"#46039f\"],[0.2222222222222222,\"#7201a8\"],[0.3333333333333333,\"#9c179e\"],[0.4444444444444444,\"#bd3786\"],[0.5555555555555556,\"#d8576b\"],[0.6666666666666666,\"#ed7953\"],[0.7777777777777778,\"#fb9f3a\"],[0.8888888888888888,\"#fdca26\"],[1.0,\"#f0f921\"]],\"type\":\"contour\"}],\"contourcarpet\":[{\"colorbar\":{\"outlinewidth\":0,\"ticks\":\"\"},\"type\":\"contourcarpet\"}],\"heatmap\":[{\"colorbar\":{\"outlinewidth\":0,\"ticks\":\"\"},\"colorscale\":[[0.0,\"#0d0887\"],[0.1111111111111111,\"#46039f\"],[0.2222222222222222,\"#7201a8\"],[0.3333333333333333,\"#9c179e\"],[0.4444444444444444,\"#bd3786\"],[0.5555555555555556,\"#d8576b\"],[0.6666666666666666,\"#ed7953\"],[0.7777777777777778,\"#fb9f3a\"],[0.8888888888888888,\"#fdca26\"],[1.0,\"#f0f921\"]],\"type\":\"heatmap\"}],\"heatmapgl\":[{\"colorbar\":{\"outlinewidth\":0,\"ticks\":\"\"},\"colorscale\":[[0.0,\"#0d0887\"],[0.1111111111111111,\"#46039f\"],[0.2222222222222222,\"#7201a8\"],[0.3333333333333333,\"#9c179e\"],[0.4444444444444444,\"#bd3786\"],[0.5555555555555556,\"#d8576b\"],[0.6666666666666666,\"#ed7953\"],[0.7777777777777778,\"#fb9f3a\"],[0.8888888888888888,\"#fdca26\"],[1.0,\"#f0f921\"]],\"type\":\"heatmapgl\"}],\"histogram\":[{\"marker\":{\"pattern\":{\"fillmode\":\"overlay\",\"size\":10,\"solidity\":0.2}},\"type\":\"histogram\"}],\"histogram2d\":[{\"colorbar\":{\"outlinewidth\":0,\"ticks\":\"\"},\"colorscale\":[[0.0,\"#0d0887\"],[0.1111111111111111,\"#46039f\"],[0.2222222222222222,\"#7201a8\"],[0.3333333333333333,\"#9c179e\"],[0.4444444444444444,\"#bd3786\"],[0.5555555555555556,\"#d8576b\"],[0.6666666666666666,\"#ed7953\"],[0.7777777777777778,\"#fb9f3a\"],[0.8888888888888888,\"#fdca26\"],[1.0,\"#f0f921\"]],\"type\":\"histogram2d\"}],\"histogram2dcontour\":[{\"colorbar\":{\"outlinewidth\":0,\"ticks\":\"\"},\"colorscale\":[[0.0,\"#0d0887\"],[0.1111111111111111,\"#46039f\"],[0.2222222222222222,\"#7201a8\"],[0.3333333333333333,\"#9c179e\"],[0.4444444444444444,\"#bd3786\"],[0.5555555555555556,\"#d8576b\"],[0.6666666666666666,\"#ed7953\"],[0.7777777777777778,\"#fb9f3a\"],[0.8888888888888888,\"#fdca26\"],[1.0,\"#f0f921\"]],\"type\":\"histogram2dcontour\"}],\"mesh3d\":[{\"colorbar\":{\"outlinewidth\":0,\"ticks\":\"\"},\"type\":\"mesh3d\"}],\"parcoords\":[{\"line\":{\"colorbar\":{\"outlinewidth\":0,\"ticks\":\"\"}},\"type\":\"parcoords\"}],\"pie\":[{\"automargin\":true,\"type\":\"pie\"}],\"scatter\":[{\"marker\":{\"colorbar\":{\"outlinewidth\":0,\"ticks\":\"\"}},\"type\":\"scatter\"}],\"scatter3d\":[{\"line\":{\"colorbar\":{\"outlinewidth\":0,\"ticks\":\"\"}},\"marker\":{\"colorbar\":{\"outlinewidth\":0,\"ticks\":\"\"}},\"type\":\"scatter3d\"}],\"scattercarpet\":[{\"marker\":{\"colorbar\":{\"outlinewidth\":0,\"ticks\":\"\"}},\"type\":\"scattercarpet\"}],\"scattergeo\":[{\"marker\":{\"colorbar\":{\"outlinewidth\":0,\"ticks\":\"\"}},\"type\":\"scattergeo\"}],\"scattergl\":[{\"marker\":{\"colorbar\":{\"outlinewidth\":0,\"ticks\":\"\"}},\"type\":\"scattergl\"}],\"scattermapbox\":[{\"marker\":{\"colorbar\":{\"outlinewidth\":0,\"ticks\":\"\"}},\"type\":\"scattermapbox\"}],\"scatterpolar\":[{\"marker\":{\"colorbar\":{\"outlinewidth\":0,\"ticks\":\"\"}},\"type\":\"scatterpolar\"}],\"scatterpolargl\":[{\"marker\":{\"colorbar\":{\"outlinewidth\":0,\"ticks\":\"\"}},\"type\":\"scatterpolargl\"}],\"scatterternary\":[{\"marker\":{\"colorbar\":{\"outlinewidth\":0,\"ticks\":\"\"}},\"type\":\"scatterternary\"}],\"surface\":[{\"colorbar\":{\"outlinewidth\":0,\"ticks\":\"\"},\"colorscale\":[[0.0,\"#0d0887\"],[0.1111111111111111,\"#46039f\"],[0.2222222222222222,\"#7201a8\"],[0.3333333333333333,\"#9c179e\"],[0.4444444444444444,\"#bd3786\"],[0.5555555555555556,\"#d8576b\"],[0.6666666666666666,\"#ed7953\"],[0.7777777777777778,\"#fb9f3a\"],[0.8888888888888888,\"#fdca26\"],[1.0,\"#f0f921\"]],\"type\":\"surface\"}],\"table\":[{\"cells\":{\"fill\":{\"color\":\"#EBF0F8\"},\"line\":{\"color\":\"white\"}},\"header\":{\"fill\":{\"color\":\"#C8D4E3\"},\"line\":{\"color\":\"white\"}},\"type\":\"table\"}]},\"layout\":{\"annotationdefaults\":{\"arrowcolor\":\"#2a3f5f\",\"arrowhead\":0,\"arrowwidth\":1},\"autotypenumbers\":\"strict\",\"coloraxis\":{\"colorbar\":{\"outlinewidth\":0,\"ticks\":\"\"}},\"colorscale\":{\"diverging\":[[0,\"#8e0152\"],[0.1,\"#c51b7d\"],[0.2,\"#de77ae\"],[0.3,\"#f1b6da\"],[0.4,\"#fde0ef\"],[0.5,\"#f7f7f7\"],[0.6,\"#e6f5d0\"],[0.7,\"#b8e186\"],[0.8,\"#7fbc41\"],[0.9,\"#4d9221\"],[1,\"#276419\"]],\"sequential\":[[0.0,\"#0d0887\"],[0.1111111111111111,\"#46039f\"],[0.2222222222222222,\"#7201a8\"],[0.3333333333333333,\"#9c179e\"],[0.4444444444444444,\"#bd3786\"],[0.5555555555555556,\"#d8576b\"],[0.6666666666666666,\"#ed7953\"],[0.7777777777777778,\"#fb9f3a\"],[0.8888888888888888,\"#fdca26\"],[1.0,\"#f0f921\"]],\"sequentialminus\":[[0.0,\"#0d0887\"],[0.1111111111111111,\"#46039f\"],[0.2222222222222222,\"#7201a8\"],[0.3333333333333333,\"#9c179e\"],[0.4444444444444444,\"#bd3786\"],[0.5555555555555556,\"#d8576b\"],[0.6666666666666666,\"#ed7953\"],[0.7777777777777778,\"#fb9f3a\"],[0.8888888888888888,\"#fdca26\"],[1.0,\"#f0f921\"]]},\"colorway\":[\"#636efa\",\"#EF553B\",\"#00cc96\",\"#ab63fa\",\"#FFA15A\",\"#19d3f3\",\"#FF6692\",\"#B6E880\",\"#FF97FF\",\"#FECB52\"],\"font\":{\"color\":\"#2a3f5f\"},\"geo\":{\"bgcolor\":\"white\",\"lakecolor\":\"white\",\"landcolor\":\"#E5ECF6\",\"showlakes\":true,\"showland\":true,\"subunitcolor\":\"white\"},\"hoverlabel\":{\"align\":\"left\"},\"hovermode\":\"closest\",\"mapbox\":{\"style\":\"light\"},\"paper_bgcolor\":\"white\",\"plot_bgcolor\":\"#E5ECF6\",\"polar\":{\"angularaxis\":{\"gridcolor\":\"white\",\"linecolor\":\"white\",\"ticks\":\"\"},\"bgcolor\":\"#E5ECF6\",\"radialaxis\":{\"gridcolor\":\"white\",\"linecolor\":\"white\",\"ticks\":\"\"}},\"scene\":{\"xaxis\":{\"backgroundcolor\":\"#E5ECF6\",\"gridcolor\":\"white\",\"gridwidth\":2,\"linecolor\":\"white\",\"showbackground\":true,\"ticks\":\"\",\"zerolinecolor\":\"white\"},\"yaxis\":{\"backgroundcolor\":\"#E5ECF6\",\"gridcolor\":\"white\",\"gridwidth\":2,\"linecolor\":\"white\",\"showbackground\":true,\"ticks\":\"\",\"zerolinecolor\":\"white\"},\"zaxis\":{\"backgroundcolor\":\"#E5ECF6\",\"gridcolor\":\"white\",\"gridwidth\":2,\"linecolor\":\"white\",\"showbackground\":true,\"ticks\":\"\",\"zerolinecolor\":\"white\"}},\"shapedefaults\":{\"line\":{\"color\":\"#2a3f5f\"}},\"ternary\":{\"aaxis\":{\"gridcolor\":\"white\",\"linecolor\":\"white\",\"ticks\":\"\"},\"baxis\":{\"gridcolor\":\"white\",\"linecolor\":\"white\",\"ticks\":\"\"},\"bgcolor\":\"#E5ECF6\",\"caxis\":{\"gridcolor\":\"white\",\"linecolor\":\"white\",\"ticks\":\"\"}},\"title\":{\"x\":0.05},\"xaxis\":{\"automargin\":true,\"gridcolor\":\"white\",\"linecolor\":\"white\",\"ticks\":\"\",\"title\":{\"standoff\":15},\"zerolinecolor\":\"white\",\"zerolinewidth\":2},\"yaxis\":{\"automargin\":true,\"gridcolor\":\"white\",\"linecolor\":\"white\",\"ticks\":\"\",\"title\":{\"standoff\":15},\"zerolinecolor\":\"white\",\"zerolinewidth\":2}}},\"title\":{\"text\":\"Gradient Boosting Model Accuracy\"},\"xaxis\":{\"title\":{\"text\":\"Round\"}},\"yaxis\":{\"title\":{\"text\":\"Accuracy (%)\"}},\"legend\":{\"title\":{\"text\":\"Vectorzing Technique Accuracies\"}}},                        {\"responsive\": true}                    ).then(function(){\n",
              "                            \n",
              "var gd = document.getElementById('aec7649f-69ec-46f5-998c-486ec9a43f1d');\n",
              "var x = new MutationObserver(function (mutations, observer) {{\n",
              "        var display = window.getComputedStyle(gd).display;\n",
              "        if (!display || display === 'none') {{\n",
              "            console.log([gd, 'removed!']);\n",
              "            Plotly.purge(gd);\n",
              "            observer.disconnect();\n",
              "        }}\n",
              "}});\n",
              "\n",
              "// Listen for the removal of the full notebook cells\n",
              "var notebookContainer = gd.closest('#notebook-container');\n",
              "if (notebookContainer) {{\n",
              "    x.observe(notebookContainer, {childList: true});\n",
              "}}\n",
              "\n",
              "// Listen for the clearing of the current output cell\n",
              "var outputEl = gd.closest('.output');\n",
              "if (outputEl) {{\n",
              "    x.observe(outputEl, {childList: true});\n",
              "}}\n",
              "\n",
              "                        })                };                            </script>        </div>\n",
              "</body>\n",
              "</html>"
            ]
          },
          "metadata": {}
        }
      ]
    },
    {
      "cell_type": "code",
      "source": [
        "%%time\n",
        "from sklearn.metrics import f1_score, confusion_matrix\n",
        "\n",
        "tfidf_valvector = tfidf_vectorizer.transform(val_df.combined)\n",
        "tfidf_preds = tfidf_model.predict(tfidf_valvector).astype(str)\n",
        "\n",
        "tfidf_f1_macro = f1_score(encoded_val_cats.astype(str), tfidf_preds, average='macro')\n",
        "tfidf_f1_micro = f1_score(encoded_val_cats.astype(str), tfidf_preds, average='micro')\n",
        "tfidf_f1_weighted = f1_score(encoded_val_cats.astype(str), tfidf_preds, average='weighted')\n",
        "tfidf_confusion = confusion_matrix(encoded_val_cats.astype(str), tfidf_preds)\n",
        "\n",
        "count_valvector = countVectorizer.transform(val_df.combined)\n",
        "count_preds = count_model.predict(count_valvector).astype(str)\n",
        "count_f1_macro = f1_score(encoded_val_cats.astype(str), count_preds, average='macro')\n",
        "count_f1_micro = f1_score(encoded_val_cats.astype(str), count_preds, average='micro')\n",
        "count_f1_weighted = f1_score(encoded_val_cats.astype(str), count_preds, average='weighted')\n",
        "count_confusion = confusion_matrix(encoded_val_cats.astype(str), count_preds)\n",
        "\n",
        "hash_valvector = hash_vectorizer.transform(val_df.combined)\n",
        "hash_preds = hash_model.predict(hash_valvector).astype(str)\n",
        "hash_f1_macro = f1_score(encoded_val_cats.astype(str), hash_preds, average='macro')\n",
        "hash_f1_micro = f1_score(encoded_val_cats.astype(str), hash_preds, average='micro')\n",
        "hash_f1_weighted = f1_score(encoded_val_cats.astype(str), hash_preds, average='weighted')\n",
        "hash_confusion = confusion_matrix(encoded_val_cats.astype(str), hash_preds)\n",
        "\n",
        "\n",
        "f1_scores = {\"Tfidf_macro\":tfidf_f1_macro,\n",
        "             \"Tfidf_micro\":tfidf_f1_micro,\n",
        "             \"Tfidf_weighted\":tfidf_f1_weighted,\n",
        "             \"Count_macro\":count_f1_macro,\n",
        "             \"Count_micro\":count_f1_micro,\n",
        "             \"Count_weighted\":count_f1_weighted,\n",
        "             \"Hash_macro\":hash_f1_macro,\n",
        "             \"Hash_micro\":hash_f1_micro,\n",
        "             \"Hash_weighted\":hash_f1_weighted}"
      ],
      "metadata": {
        "colab": {
          "base_uri": "https://localhost:8080/"
        },
        "outputId": "8fb7c14a-0131-48db-b720-06fa382463eb",
        "id": "fSw2drowUmC2"
      },
      "execution_count": null,
      "outputs": [
        {
          "output_type": "stream",
          "name": "stdout",
          "text": [
            "CPU times: total: 17 s\n",
            "Wall time: 11.9 s\n"
          ]
        }
      ]
    },
    {
      "cell_type": "code",
      "source": [
        "fig = px.imshow(count_confusion, text_auto=True)\n",
        "fig.update_layout(title = \"Hash Vectorizer Gradient Boosting Confusion Matrix\")\n",
        "fig.show(renderer = \"colab\")"
      ],
      "metadata": {
        "colab": {
          "base_uri": "https://localhost:8080/",
          "height": 542
        },
        "id": "tymCucF9YPQx",
        "outputId": "88b05df0-bdcd-4b44-a6a1-190f50d4e568"
      },
      "execution_count": null,
      "outputs": [
        {
          "output_type": "display_data",
          "data": {
            "text/html": [
              "<html>\n",
              "<head><meta charset=\"utf-8\" /></head>\n",
              "<body>\n",
              "    <div>            <script src=\"https://cdnjs.cloudflare.com/ajax/libs/mathjax/2.7.5/MathJax.js?config=TeX-AMS-MML_SVG\"></script><script type=\"text/javascript\">if (window.MathJax) {MathJax.Hub.Config({SVG: {font: \"STIX-Web\"}});}</script>                <script type=\"text/javascript\">window.PlotlyConfig = {MathJaxConfig: 'local'};</script>\n",
              "        <script src=\"https://cdn.plot.ly/plotly-2.9.0.min.js\"></script>                <div id=\"2c8e9ee0-8374-4602-885e-437c55e65390\" class=\"plotly-graph-div\" style=\"height:525px; width:100%;\"></div>            <script type=\"text/javascript\">                                    window.PLOTLYENV=window.PLOTLYENV || {};                                    if (document.getElementById(\"2c8e9ee0-8374-4602-885e-437c55e65390\")) {                    Plotly.newPlot(                        \"2c8e9ee0-8374-4602-885e-437c55e65390\",                        [{\"coloraxis\":\"coloraxis\",\"name\":\"0\",\"texttemplate\":\"%{z}\",\"z\":[[486,9,41,125,33,7,5,2,112,19,15,407,8,11,53,159,24,6],[8,762,51,189,4,10,5,31,213,19,16,468,20,34,59,113,7,8],[7,14,2469,40,9,23,5,9,379,2,23,418,2,29,55,172,7,0],[25,84,100,6752,92,23,9,18,251,147,52,787,65,12,187,101,95,57],[12,1,52,69,1121,32,0,0,73,0,5,205,2,5,26,30,8,8],[5,6,96,13,7,1565,1,2,92,0,0,164,0,8,23,121,2,1],[3,5,8,13,3,0,189,3,110,1,5,159,17,6,8,38,10,0],[1,24,18,50,0,2,1,250,38,10,1,215,2,3,14,33,3,2],[32,41,261,145,14,38,32,22,4814,13,13,1029,8,121,62,258,12,4],[26,27,45,354,7,11,4,4,83,897,6,384,30,15,99,94,11,9],[3,14,29,55,3,1,1,0,34,3,247,91,2,3,27,17,6,1],[65,29,271,592,48,74,13,22,301,22,17,5169,25,50,186,362,79,22],[6,17,25,123,1,2,18,0,72,17,4,245,371,20,15,100,7,5],[8,2,37,26,1,8,3,9,159,2,1,538,2,1397,6,236,3,0],[23,69,236,258,19,28,5,10,392,40,51,718,27,50,814,178,26,8],[60,41,196,116,17,71,10,12,420,25,10,1230,25,145,81,5148,29,4],[20,13,68,211,11,17,1,7,70,5,17,469,4,8,94,79,511,5],[3,10,8,222,3,2,2,2,28,11,4,132,3,1,13,16,9,211]],\"type\":\"heatmap\",\"xaxis\":\"x\",\"yaxis\":\"y\",\"hovertemplate\":\"x: %{x}<br>y: %{y}<br>color: %{z}<extra></extra>\"}],                        {\"template\":{\"data\":{\"bar\":[{\"error_x\":{\"color\":\"#2a3f5f\"},\"error_y\":{\"color\":\"#2a3f5f\"},\"marker\":{\"line\":{\"color\":\"#E5ECF6\",\"width\":0.5},\"pattern\":{\"fillmode\":\"overlay\",\"size\":10,\"solidity\":0.2}},\"type\":\"bar\"}],\"barpolar\":[{\"marker\":{\"line\":{\"color\":\"#E5ECF6\",\"width\":0.5},\"pattern\":{\"fillmode\":\"overlay\",\"size\":10,\"solidity\":0.2}},\"type\":\"barpolar\"}],\"carpet\":[{\"aaxis\":{\"endlinecolor\":\"#2a3f5f\",\"gridcolor\":\"white\",\"linecolor\":\"white\",\"minorgridcolor\":\"white\",\"startlinecolor\":\"#2a3f5f\"},\"baxis\":{\"endlinecolor\":\"#2a3f5f\",\"gridcolor\":\"white\",\"linecolor\":\"white\",\"minorgridcolor\":\"white\",\"startlinecolor\":\"#2a3f5f\"},\"type\":\"carpet\"}],\"choropleth\":[{\"colorbar\":{\"outlinewidth\":0,\"ticks\":\"\"},\"type\":\"choropleth\"}],\"contour\":[{\"colorbar\":{\"outlinewidth\":0,\"ticks\":\"\"},\"colorscale\":[[0.0,\"#0d0887\"],[0.1111111111111111,\"#46039f\"],[0.2222222222222222,\"#7201a8\"],[0.3333333333333333,\"#9c179e\"],[0.4444444444444444,\"#bd3786\"],[0.5555555555555556,\"#d8576b\"],[0.6666666666666666,\"#ed7953\"],[0.7777777777777778,\"#fb9f3a\"],[0.8888888888888888,\"#fdca26\"],[1.0,\"#f0f921\"]],\"type\":\"contour\"}],\"contourcarpet\":[{\"colorbar\":{\"outlinewidth\":0,\"ticks\":\"\"},\"type\":\"contourcarpet\"}],\"heatmap\":[{\"colorbar\":{\"outlinewidth\":0,\"ticks\":\"\"},\"colorscale\":[[0.0,\"#0d0887\"],[0.1111111111111111,\"#46039f\"],[0.2222222222222222,\"#7201a8\"],[0.3333333333333333,\"#9c179e\"],[0.4444444444444444,\"#bd3786\"],[0.5555555555555556,\"#d8576b\"],[0.6666666666666666,\"#ed7953\"],[0.7777777777777778,\"#fb9f3a\"],[0.8888888888888888,\"#fdca26\"],[1.0,\"#f0f921\"]],\"type\":\"heatmap\"}],\"heatmapgl\":[{\"colorbar\":{\"outlinewidth\":0,\"ticks\":\"\"},\"colorscale\":[[0.0,\"#0d0887\"],[0.1111111111111111,\"#46039f\"],[0.2222222222222222,\"#7201a8\"],[0.3333333333333333,\"#9c179e\"],[0.4444444444444444,\"#bd3786\"],[0.5555555555555556,\"#d8576b\"],[0.6666666666666666,\"#ed7953\"],[0.7777777777777778,\"#fb9f3a\"],[0.8888888888888888,\"#fdca26\"],[1.0,\"#f0f921\"]],\"type\":\"heatmapgl\"}],\"histogram\":[{\"marker\":{\"pattern\":{\"fillmode\":\"overlay\",\"size\":10,\"solidity\":0.2}},\"type\":\"histogram\"}],\"histogram2d\":[{\"colorbar\":{\"outlinewidth\":0,\"ticks\":\"\"},\"colorscale\":[[0.0,\"#0d0887\"],[0.1111111111111111,\"#46039f\"],[0.2222222222222222,\"#7201a8\"],[0.3333333333333333,\"#9c179e\"],[0.4444444444444444,\"#bd3786\"],[0.5555555555555556,\"#d8576b\"],[0.6666666666666666,\"#ed7953\"],[0.7777777777777778,\"#fb9f3a\"],[0.8888888888888888,\"#fdca26\"],[1.0,\"#f0f921\"]],\"type\":\"histogram2d\"}],\"histogram2dcontour\":[{\"colorbar\":{\"outlinewidth\":0,\"ticks\":\"\"},\"colorscale\":[[0.0,\"#0d0887\"],[0.1111111111111111,\"#46039f\"],[0.2222222222222222,\"#7201a8\"],[0.3333333333333333,\"#9c179e\"],[0.4444444444444444,\"#bd3786\"],[0.5555555555555556,\"#d8576b\"],[0.6666666666666666,\"#ed7953\"],[0.7777777777777778,\"#fb9f3a\"],[0.8888888888888888,\"#fdca26\"],[1.0,\"#f0f921\"]],\"type\":\"histogram2dcontour\"}],\"mesh3d\":[{\"colorbar\":{\"outlinewidth\":0,\"ticks\":\"\"},\"type\":\"mesh3d\"}],\"parcoords\":[{\"line\":{\"colorbar\":{\"outlinewidth\":0,\"ticks\":\"\"}},\"type\":\"parcoords\"}],\"pie\":[{\"automargin\":true,\"type\":\"pie\"}],\"scatter\":[{\"marker\":{\"colorbar\":{\"outlinewidth\":0,\"ticks\":\"\"}},\"type\":\"scatter\"}],\"scatter3d\":[{\"line\":{\"colorbar\":{\"outlinewidth\":0,\"ticks\":\"\"}},\"marker\":{\"colorbar\":{\"outlinewidth\":0,\"ticks\":\"\"}},\"type\":\"scatter3d\"}],\"scattercarpet\":[{\"marker\":{\"colorbar\":{\"outlinewidth\":0,\"ticks\":\"\"}},\"type\":\"scattercarpet\"}],\"scattergeo\":[{\"marker\":{\"colorbar\":{\"outlinewidth\":0,\"ticks\":\"\"}},\"type\":\"scattergeo\"}],\"scattergl\":[{\"marker\":{\"colorbar\":{\"outlinewidth\":0,\"ticks\":\"\"}},\"type\":\"scattergl\"}],\"scattermapbox\":[{\"marker\":{\"colorbar\":{\"outlinewidth\":0,\"ticks\":\"\"}},\"type\":\"scattermapbox\"}],\"scatterpolar\":[{\"marker\":{\"colorbar\":{\"outlinewidth\":0,\"ticks\":\"\"}},\"type\":\"scatterpolar\"}],\"scatterpolargl\":[{\"marker\":{\"colorbar\":{\"outlinewidth\":0,\"ticks\":\"\"}},\"type\":\"scatterpolargl\"}],\"scatterternary\":[{\"marker\":{\"colorbar\":{\"outlinewidth\":0,\"ticks\":\"\"}},\"type\":\"scatterternary\"}],\"surface\":[{\"colorbar\":{\"outlinewidth\":0,\"ticks\":\"\"},\"colorscale\":[[0.0,\"#0d0887\"],[0.1111111111111111,\"#46039f\"],[0.2222222222222222,\"#7201a8\"],[0.3333333333333333,\"#9c179e\"],[0.4444444444444444,\"#bd3786\"],[0.5555555555555556,\"#d8576b\"],[0.6666666666666666,\"#ed7953\"],[0.7777777777777778,\"#fb9f3a\"],[0.8888888888888888,\"#fdca26\"],[1.0,\"#f0f921\"]],\"type\":\"surface\"}],\"table\":[{\"cells\":{\"fill\":{\"color\":\"#EBF0F8\"},\"line\":{\"color\":\"white\"}},\"header\":{\"fill\":{\"color\":\"#C8D4E3\"},\"line\":{\"color\":\"white\"}},\"type\":\"table\"}]},\"layout\":{\"annotationdefaults\":{\"arrowcolor\":\"#2a3f5f\",\"arrowhead\":0,\"arrowwidth\":1},\"autotypenumbers\":\"strict\",\"coloraxis\":{\"colorbar\":{\"outlinewidth\":0,\"ticks\":\"\"}},\"colorscale\":{\"diverging\":[[0,\"#8e0152\"],[0.1,\"#c51b7d\"],[0.2,\"#de77ae\"],[0.3,\"#f1b6da\"],[0.4,\"#fde0ef\"],[0.5,\"#f7f7f7\"],[0.6,\"#e6f5d0\"],[0.7,\"#b8e186\"],[0.8,\"#7fbc41\"],[0.9,\"#4d9221\"],[1,\"#276419\"]],\"sequential\":[[0.0,\"#0d0887\"],[0.1111111111111111,\"#46039f\"],[0.2222222222222222,\"#7201a8\"],[0.3333333333333333,\"#9c179e\"],[0.4444444444444444,\"#bd3786\"],[0.5555555555555556,\"#d8576b\"],[0.6666666666666666,\"#ed7953\"],[0.7777777777777778,\"#fb9f3a\"],[0.8888888888888888,\"#fdca26\"],[1.0,\"#f0f921\"]],\"sequentialminus\":[[0.0,\"#0d0887\"],[0.1111111111111111,\"#46039f\"],[0.2222222222222222,\"#7201a8\"],[0.3333333333333333,\"#9c179e\"],[0.4444444444444444,\"#bd3786\"],[0.5555555555555556,\"#d8576b\"],[0.6666666666666666,\"#ed7953\"],[0.7777777777777778,\"#fb9f3a\"],[0.8888888888888888,\"#fdca26\"],[1.0,\"#f0f921\"]]},\"colorway\":[\"#636efa\",\"#EF553B\",\"#00cc96\",\"#ab63fa\",\"#FFA15A\",\"#19d3f3\",\"#FF6692\",\"#B6E880\",\"#FF97FF\",\"#FECB52\"],\"font\":{\"color\":\"#2a3f5f\"},\"geo\":{\"bgcolor\":\"white\",\"lakecolor\":\"white\",\"landcolor\":\"#E5ECF6\",\"showlakes\":true,\"showland\":true,\"subunitcolor\":\"white\"},\"hoverlabel\":{\"align\":\"left\"},\"hovermode\":\"closest\",\"mapbox\":{\"style\":\"light\"},\"paper_bgcolor\":\"white\",\"plot_bgcolor\":\"#E5ECF6\",\"polar\":{\"angularaxis\":{\"gridcolor\":\"white\",\"linecolor\":\"white\",\"ticks\":\"\"},\"bgcolor\":\"#E5ECF6\",\"radialaxis\":{\"gridcolor\":\"white\",\"linecolor\":\"white\",\"ticks\":\"\"}},\"scene\":{\"xaxis\":{\"backgroundcolor\":\"#E5ECF6\",\"gridcolor\":\"white\",\"gridwidth\":2,\"linecolor\":\"white\",\"showbackground\":true,\"ticks\":\"\",\"zerolinecolor\":\"white\"},\"yaxis\":{\"backgroundcolor\":\"#E5ECF6\",\"gridcolor\":\"white\",\"gridwidth\":2,\"linecolor\":\"white\",\"showbackground\":true,\"ticks\":\"\",\"zerolinecolor\":\"white\"},\"zaxis\":{\"backgroundcolor\":\"#E5ECF6\",\"gridcolor\":\"white\",\"gridwidth\":2,\"linecolor\":\"white\",\"showbackground\":true,\"ticks\":\"\",\"zerolinecolor\":\"white\"}},\"shapedefaults\":{\"line\":{\"color\":\"#2a3f5f\"}},\"ternary\":{\"aaxis\":{\"gridcolor\":\"white\",\"linecolor\":\"white\",\"ticks\":\"\"},\"baxis\":{\"gridcolor\":\"white\",\"linecolor\":\"white\",\"ticks\":\"\"},\"bgcolor\":\"#E5ECF6\",\"caxis\":{\"gridcolor\":\"white\",\"linecolor\":\"white\",\"ticks\":\"\"}},\"title\":{\"x\":0.05},\"xaxis\":{\"automargin\":true,\"gridcolor\":\"white\",\"linecolor\":\"white\",\"ticks\":\"\",\"title\":{\"standoff\":15},\"zerolinecolor\":\"white\",\"zerolinewidth\":2},\"yaxis\":{\"automargin\":true,\"gridcolor\":\"white\",\"linecolor\":\"white\",\"ticks\":\"\",\"title\":{\"standoff\":15},\"zerolinecolor\":\"white\",\"zerolinewidth\":2}}},\"xaxis\":{\"anchor\":\"y\",\"domain\":[0.0,1.0],\"scaleanchor\":\"y\",\"constrain\":\"domain\"},\"yaxis\":{\"anchor\":\"x\",\"domain\":[0.0,1.0],\"autorange\":\"reversed\",\"constrain\":\"domain\"},\"coloraxis\":{\"colorscale\":[[0.0,\"#0d0887\"],[0.1111111111111111,\"#46039f\"],[0.2222222222222222,\"#7201a8\"],[0.3333333333333333,\"#9c179e\"],[0.4444444444444444,\"#bd3786\"],[0.5555555555555556,\"#d8576b\"],[0.6666666666666666,\"#ed7953\"],[0.7777777777777778,\"#fb9f3a\"],[0.8888888888888888,\"#fdca26\"],[1.0,\"#f0f921\"]]},\"margin\":{\"t\":60},\"title\":{\"text\":\"Hash Vectorizer Gradient Boosting Confusion Matrix\"}},                        {\"responsive\": true}                    ).then(function(){\n",
              "                            \n",
              "var gd = document.getElementById('2c8e9ee0-8374-4602-885e-437c55e65390');\n",
              "var x = new MutationObserver(function (mutations, observer) {{\n",
              "        var display = window.getComputedStyle(gd).display;\n",
              "        if (!display || display === 'none') {{\n",
              "            console.log([gd, 'removed!']);\n",
              "            Plotly.purge(gd);\n",
              "            observer.disconnect();\n",
              "        }}\n",
              "}});\n",
              "\n",
              "// Listen for the removal of the full notebook cells\n",
              "var notebookContainer = gd.closest('#notebook-container');\n",
              "if (notebookContainer) {{\n",
              "    x.observe(notebookContainer, {childList: true});\n",
              "}}\n",
              "\n",
              "// Listen for the clearing of the current output cell\n",
              "var outputEl = gd.closest('.output');\n",
              "if (outputEl) {{\n",
              "    x.observe(outputEl, {childList: true});\n",
              "}}\n",
              "\n",
              "                        })                };                            </script>        </div>\n",
              "</body>\n",
              "</html>"
            ]
          },
          "metadata": {}
        }
      ]
    },
    {
      "cell_type": "code",
      "source": [
        "fig = px.imshow(count_confusion, text_auto=True)\n",
        "fig.update_layout(title = \"Count Vectorizer Gradient Boosting Confusion Matrix\")\n",
        "fig.show(renderer = \"colab\")"
      ],
      "metadata": {
        "colab": {
          "base_uri": "https://localhost:8080/",
          "height": 542
        },
        "id": "sMsFQPIxYPDR",
        "outputId": "037c699d-19ac-44f5-b19f-cc141167d1ae"
      },
      "execution_count": null,
      "outputs": [
        {
          "output_type": "display_data",
          "data": {
            "text/html": [
              "<html>\n",
              "<head><meta charset=\"utf-8\" /></head>\n",
              "<body>\n",
              "    <div>            <script src=\"https://cdnjs.cloudflare.com/ajax/libs/mathjax/2.7.5/MathJax.js?config=TeX-AMS-MML_SVG\"></script><script type=\"text/javascript\">if (window.MathJax) {MathJax.Hub.Config({SVG: {font: \"STIX-Web\"}});}</script>                <script type=\"text/javascript\">window.PlotlyConfig = {MathJaxConfig: 'local'};</script>\n",
              "        <script src=\"https://cdn.plot.ly/plotly-2.9.0.min.js\"></script>                <div id=\"b1e10498-a90b-4f86-a4ea-dfae1f7143b8\" class=\"plotly-graph-div\" style=\"height:525px; width:100%;\"></div>            <script type=\"text/javascript\">                                    window.PLOTLYENV=window.PLOTLYENV || {};                                    if (document.getElementById(\"b1e10498-a90b-4f86-a4ea-dfae1f7143b8\")) {                    Plotly.newPlot(                        \"b1e10498-a90b-4f86-a4ea-dfae1f7143b8\",                        [{\"coloraxis\":\"coloraxis\",\"name\":\"0\",\"texttemplate\":\"%{z}\",\"z\":[[486,9,41,125,33,7,5,2,112,19,15,407,8,11,53,159,24,6],[8,762,51,189,4,10,5,31,213,19,16,468,20,34,59,113,7,8],[7,14,2469,40,9,23,5,9,379,2,23,418,2,29,55,172,7,0],[25,84,100,6752,92,23,9,18,251,147,52,787,65,12,187,101,95,57],[12,1,52,69,1121,32,0,0,73,0,5,205,2,5,26,30,8,8],[5,6,96,13,7,1565,1,2,92,0,0,164,0,8,23,121,2,1],[3,5,8,13,3,0,189,3,110,1,5,159,17,6,8,38,10,0],[1,24,18,50,0,2,1,250,38,10,1,215,2,3,14,33,3,2],[32,41,261,145,14,38,32,22,4814,13,13,1029,8,121,62,258,12,4],[26,27,45,354,7,11,4,4,83,897,6,384,30,15,99,94,11,9],[3,14,29,55,3,1,1,0,34,3,247,91,2,3,27,17,6,1],[65,29,271,592,48,74,13,22,301,22,17,5169,25,50,186,362,79,22],[6,17,25,123,1,2,18,0,72,17,4,245,371,20,15,100,7,5],[8,2,37,26,1,8,3,9,159,2,1,538,2,1397,6,236,3,0],[23,69,236,258,19,28,5,10,392,40,51,718,27,50,814,178,26,8],[60,41,196,116,17,71,10,12,420,25,10,1230,25,145,81,5148,29,4],[20,13,68,211,11,17,1,7,70,5,17,469,4,8,94,79,511,5],[3,10,8,222,3,2,2,2,28,11,4,132,3,1,13,16,9,211]],\"type\":\"heatmap\",\"xaxis\":\"x\",\"yaxis\":\"y\",\"hovertemplate\":\"x: %{x}<br>y: %{y}<br>color: %{z}<extra></extra>\"}],                        {\"template\":{\"data\":{\"bar\":[{\"error_x\":{\"color\":\"#2a3f5f\"},\"error_y\":{\"color\":\"#2a3f5f\"},\"marker\":{\"line\":{\"color\":\"#E5ECF6\",\"width\":0.5},\"pattern\":{\"fillmode\":\"overlay\",\"size\":10,\"solidity\":0.2}},\"type\":\"bar\"}],\"barpolar\":[{\"marker\":{\"line\":{\"color\":\"#E5ECF6\",\"width\":0.5},\"pattern\":{\"fillmode\":\"overlay\",\"size\":10,\"solidity\":0.2}},\"type\":\"barpolar\"}],\"carpet\":[{\"aaxis\":{\"endlinecolor\":\"#2a3f5f\",\"gridcolor\":\"white\",\"linecolor\":\"white\",\"minorgridcolor\":\"white\",\"startlinecolor\":\"#2a3f5f\"},\"baxis\":{\"endlinecolor\":\"#2a3f5f\",\"gridcolor\":\"white\",\"linecolor\":\"white\",\"minorgridcolor\":\"white\",\"startlinecolor\":\"#2a3f5f\"},\"type\":\"carpet\"}],\"choropleth\":[{\"colorbar\":{\"outlinewidth\":0,\"ticks\":\"\"},\"type\":\"choropleth\"}],\"contour\":[{\"colorbar\":{\"outlinewidth\":0,\"ticks\":\"\"},\"colorscale\":[[0.0,\"#0d0887\"],[0.1111111111111111,\"#46039f\"],[0.2222222222222222,\"#7201a8\"],[0.3333333333333333,\"#9c179e\"],[0.4444444444444444,\"#bd3786\"],[0.5555555555555556,\"#d8576b\"],[0.6666666666666666,\"#ed7953\"],[0.7777777777777778,\"#fb9f3a\"],[0.8888888888888888,\"#fdca26\"],[1.0,\"#f0f921\"]],\"type\":\"contour\"}],\"contourcarpet\":[{\"colorbar\":{\"outlinewidth\":0,\"ticks\":\"\"},\"type\":\"contourcarpet\"}],\"heatmap\":[{\"colorbar\":{\"outlinewidth\":0,\"ticks\":\"\"},\"colorscale\":[[0.0,\"#0d0887\"],[0.1111111111111111,\"#46039f\"],[0.2222222222222222,\"#7201a8\"],[0.3333333333333333,\"#9c179e\"],[0.4444444444444444,\"#bd3786\"],[0.5555555555555556,\"#d8576b\"],[0.6666666666666666,\"#ed7953\"],[0.7777777777777778,\"#fb9f3a\"],[0.8888888888888888,\"#fdca26\"],[1.0,\"#f0f921\"]],\"type\":\"heatmap\"}],\"heatmapgl\":[{\"colorbar\":{\"outlinewidth\":0,\"ticks\":\"\"},\"colorscale\":[[0.0,\"#0d0887\"],[0.1111111111111111,\"#46039f\"],[0.2222222222222222,\"#7201a8\"],[0.3333333333333333,\"#9c179e\"],[0.4444444444444444,\"#bd3786\"],[0.5555555555555556,\"#d8576b\"],[0.6666666666666666,\"#ed7953\"],[0.7777777777777778,\"#fb9f3a\"],[0.8888888888888888,\"#fdca26\"],[1.0,\"#f0f921\"]],\"type\":\"heatmapgl\"}],\"histogram\":[{\"marker\":{\"pattern\":{\"fillmode\":\"overlay\",\"size\":10,\"solidity\":0.2}},\"type\":\"histogram\"}],\"histogram2d\":[{\"colorbar\":{\"outlinewidth\":0,\"ticks\":\"\"},\"colorscale\":[[0.0,\"#0d0887\"],[0.1111111111111111,\"#46039f\"],[0.2222222222222222,\"#7201a8\"],[0.3333333333333333,\"#9c179e\"],[0.4444444444444444,\"#bd3786\"],[0.5555555555555556,\"#d8576b\"],[0.6666666666666666,\"#ed7953\"],[0.7777777777777778,\"#fb9f3a\"],[0.8888888888888888,\"#fdca26\"],[1.0,\"#f0f921\"]],\"type\":\"histogram2d\"}],\"histogram2dcontour\":[{\"colorbar\":{\"outlinewidth\":0,\"ticks\":\"\"},\"colorscale\":[[0.0,\"#0d0887\"],[0.1111111111111111,\"#46039f\"],[0.2222222222222222,\"#7201a8\"],[0.3333333333333333,\"#9c179e\"],[0.4444444444444444,\"#bd3786\"],[0.5555555555555556,\"#d8576b\"],[0.6666666666666666,\"#ed7953\"],[0.7777777777777778,\"#fb9f3a\"],[0.8888888888888888,\"#fdca26\"],[1.0,\"#f0f921\"]],\"type\":\"histogram2dcontour\"}],\"mesh3d\":[{\"colorbar\":{\"outlinewidth\":0,\"ticks\":\"\"},\"type\":\"mesh3d\"}],\"parcoords\":[{\"line\":{\"colorbar\":{\"outlinewidth\":0,\"ticks\":\"\"}},\"type\":\"parcoords\"}],\"pie\":[{\"automargin\":true,\"type\":\"pie\"}],\"scatter\":[{\"marker\":{\"colorbar\":{\"outlinewidth\":0,\"ticks\":\"\"}},\"type\":\"scatter\"}],\"scatter3d\":[{\"line\":{\"colorbar\":{\"outlinewidth\":0,\"ticks\":\"\"}},\"marker\":{\"colorbar\":{\"outlinewidth\":0,\"ticks\":\"\"}},\"type\":\"scatter3d\"}],\"scattercarpet\":[{\"marker\":{\"colorbar\":{\"outlinewidth\":0,\"ticks\":\"\"}},\"type\":\"scattercarpet\"}],\"scattergeo\":[{\"marker\":{\"colorbar\":{\"outlinewidth\":0,\"ticks\":\"\"}},\"type\":\"scattergeo\"}],\"scattergl\":[{\"marker\":{\"colorbar\":{\"outlinewidth\":0,\"ticks\":\"\"}},\"type\":\"scattergl\"}],\"scattermapbox\":[{\"marker\":{\"colorbar\":{\"outlinewidth\":0,\"ticks\":\"\"}},\"type\":\"scattermapbox\"}],\"scatterpolar\":[{\"marker\":{\"colorbar\":{\"outlinewidth\":0,\"ticks\":\"\"}},\"type\":\"scatterpolar\"}],\"scatterpolargl\":[{\"marker\":{\"colorbar\":{\"outlinewidth\":0,\"ticks\":\"\"}},\"type\":\"scatterpolargl\"}],\"scatterternary\":[{\"marker\":{\"colorbar\":{\"outlinewidth\":0,\"ticks\":\"\"}},\"type\":\"scatterternary\"}],\"surface\":[{\"colorbar\":{\"outlinewidth\":0,\"ticks\":\"\"},\"colorscale\":[[0.0,\"#0d0887\"],[0.1111111111111111,\"#46039f\"],[0.2222222222222222,\"#7201a8\"],[0.3333333333333333,\"#9c179e\"],[0.4444444444444444,\"#bd3786\"],[0.5555555555555556,\"#d8576b\"],[0.6666666666666666,\"#ed7953\"],[0.7777777777777778,\"#fb9f3a\"],[0.8888888888888888,\"#fdca26\"],[1.0,\"#f0f921\"]],\"type\":\"surface\"}],\"table\":[{\"cells\":{\"fill\":{\"color\":\"#EBF0F8\"},\"line\":{\"color\":\"white\"}},\"header\":{\"fill\":{\"color\":\"#C8D4E3\"},\"line\":{\"color\":\"white\"}},\"type\":\"table\"}]},\"layout\":{\"annotationdefaults\":{\"arrowcolor\":\"#2a3f5f\",\"arrowhead\":0,\"arrowwidth\":1},\"autotypenumbers\":\"strict\",\"coloraxis\":{\"colorbar\":{\"outlinewidth\":0,\"ticks\":\"\"}},\"colorscale\":{\"diverging\":[[0,\"#8e0152\"],[0.1,\"#c51b7d\"],[0.2,\"#de77ae\"],[0.3,\"#f1b6da\"],[0.4,\"#fde0ef\"],[0.5,\"#f7f7f7\"],[0.6,\"#e6f5d0\"],[0.7,\"#b8e186\"],[0.8,\"#7fbc41\"],[0.9,\"#4d9221\"],[1,\"#276419\"]],\"sequential\":[[0.0,\"#0d0887\"],[0.1111111111111111,\"#46039f\"],[0.2222222222222222,\"#7201a8\"],[0.3333333333333333,\"#9c179e\"],[0.4444444444444444,\"#bd3786\"],[0.5555555555555556,\"#d8576b\"],[0.6666666666666666,\"#ed7953\"],[0.7777777777777778,\"#fb9f3a\"],[0.8888888888888888,\"#fdca26\"],[1.0,\"#f0f921\"]],\"sequentialminus\":[[0.0,\"#0d0887\"],[0.1111111111111111,\"#46039f\"],[0.2222222222222222,\"#7201a8\"],[0.3333333333333333,\"#9c179e\"],[0.4444444444444444,\"#bd3786\"],[0.5555555555555556,\"#d8576b\"],[0.6666666666666666,\"#ed7953\"],[0.7777777777777778,\"#fb9f3a\"],[0.8888888888888888,\"#fdca26\"],[1.0,\"#f0f921\"]]},\"colorway\":[\"#636efa\",\"#EF553B\",\"#00cc96\",\"#ab63fa\",\"#FFA15A\",\"#19d3f3\",\"#FF6692\",\"#B6E880\",\"#FF97FF\",\"#FECB52\"],\"font\":{\"color\":\"#2a3f5f\"},\"geo\":{\"bgcolor\":\"white\",\"lakecolor\":\"white\",\"landcolor\":\"#E5ECF6\",\"showlakes\":true,\"showland\":true,\"subunitcolor\":\"white\"},\"hoverlabel\":{\"align\":\"left\"},\"hovermode\":\"closest\",\"mapbox\":{\"style\":\"light\"},\"paper_bgcolor\":\"white\",\"plot_bgcolor\":\"#E5ECF6\",\"polar\":{\"angularaxis\":{\"gridcolor\":\"white\",\"linecolor\":\"white\",\"ticks\":\"\"},\"bgcolor\":\"#E5ECF6\",\"radialaxis\":{\"gridcolor\":\"white\",\"linecolor\":\"white\",\"ticks\":\"\"}},\"scene\":{\"xaxis\":{\"backgroundcolor\":\"#E5ECF6\",\"gridcolor\":\"white\",\"gridwidth\":2,\"linecolor\":\"white\",\"showbackground\":true,\"ticks\":\"\",\"zerolinecolor\":\"white\"},\"yaxis\":{\"backgroundcolor\":\"#E5ECF6\",\"gridcolor\":\"white\",\"gridwidth\":2,\"linecolor\":\"white\",\"showbackground\":true,\"ticks\":\"\",\"zerolinecolor\":\"white\"},\"zaxis\":{\"backgroundcolor\":\"#E5ECF6\",\"gridcolor\":\"white\",\"gridwidth\":2,\"linecolor\":\"white\",\"showbackground\":true,\"ticks\":\"\",\"zerolinecolor\":\"white\"}},\"shapedefaults\":{\"line\":{\"color\":\"#2a3f5f\"}},\"ternary\":{\"aaxis\":{\"gridcolor\":\"white\",\"linecolor\":\"white\",\"ticks\":\"\"},\"baxis\":{\"gridcolor\":\"white\",\"linecolor\":\"white\",\"ticks\":\"\"},\"bgcolor\":\"#E5ECF6\",\"caxis\":{\"gridcolor\":\"white\",\"linecolor\":\"white\",\"ticks\":\"\"}},\"title\":{\"x\":0.05},\"xaxis\":{\"automargin\":true,\"gridcolor\":\"white\",\"linecolor\":\"white\",\"ticks\":\"\",\"title\":{\"standoff\":15},\"zerolinecolor\":\"white\",\"zerolinewidth\":2},\"yaxis\":{\"automargin\":true,\"gridcolor\":\"white\",\"linecolor\":\"white\",\"ticks\":\"\",\"title\":{\"standoff\":15},\"zerolinecolor\":\"white\",\"zerolinewidth\":2}}},\"xaxis\":{\"anchor\":\"y\",\"domain\":[0.0,1.0],\"scaleanchor\":\"y\",\"constrain\":\"domain\"},\"yaxis\":{\"anchor\":\"x\",\"domain\":[0.0,1.0],\"autorange\":\"reversed\",\"constrain\":\"domain\"},\"coloraxis\":{\"colorscale\":[[0.0,\"#0d0887\"],[0.1111111111111111,\"#46039f\"],[0.2222222222222222,\"#7201a8\"],[0.3333333333333333,\"#9c179e\"],[0.4444444444444444,\"#bd3786\"],[0.5555555555555556,\"#d8576b\"],[0.6666666666666666,\"#ed7953\"],[0.7777777777777778,\"#fb9f3a\"],[0.8888888888888888,\"#fdca26\"],[1.0,\"#f0f921\"]]},\"margin\":{\"t\":60},\"title\":{\"text\":\"Count Vectorizer Gradient Boosting Confusion Matrix\"}},                        {\"responsive\": true}                    ).then(function(){\n",
              "                            \n",
              "var gd = document.getElementById('b1e10498-a90b-4f86-a4ea-dfae1f7143b8');\n",
              "var x = new MutationObserver(function (mutations, observer) {{\n",
              "        var display = window.getComputedStyle(gd).display;\n",
              "        if (!display || display === 'none') {{\n",
              "            console.log([gd, 'removed!']);\n",
              "            Plotly.purge(gd);\n",
              "            observer.disconnect();\n",
              "        }}\n",
              "}});\n",
              "\n",
              "// Listen for the removal of the full notebook cells\n",
              "var notebookContainer = gd.closest('#notebook-container');\n",
              "if (notebookContainer) {{\n",
              "    x.observe(notebookContainer, {childList: true});\n",
              "}}\n",
              "\n",
              "// Listen for the clearing of the current output cell\n",
              "var outputEl = gd.closest('.output');\n",
              "if (outputEl) {{\n",
              "    x.observe(outputEl, {childList: true});\n",
              "}}\n",
              "\n",
              "                        })                };                            </script>        </div>\n",
              "</body>\n",
              "</html>"
            ]
          },
          "metadata": {}
        }
      ]
    },
    {
      "cell_type": "code",
      "source": [
        "fig = px.imshow(count_confusion, text_auto=True)\n",
        "fig.update_layout(title = \"TFIDF Vectorizer Gradient Boosting Confusion Matrix\")\n",
        "fig.show(renderer = \"colab\")"
      ],
      "metadata": {
        "colab": {
          "base_uri": "https://localhost:8080/",
          "height": 542
        },
        "id": "InIDS_SEYO2h",
        "outputId": "b2e9ad97-b0fd-4e96-8cae-9140c8a80e3b"
      },
      "execution_count": null,
      "outputs": [
        {
          "output_type": "display_data",
          "data": {
            "text/html": [
              "<html>\n",
              "<head><meta charset=\"utf-8\" /></head>\n",
              "<body>\n",
              "    <div>            <script src=\"https://cdnjs.cloudflare.com/ajax/libs/mathjax/2.7.5/MathJax.js?config=TeX-AMS-MML_SVG\"></script><script type=\"text/javascript\">if (window.MathJax) {MathJax.Hub.Config({SVG: {font: \"STIX-Web\"}});}</script>                <script type=\"text/javascript\">window.PlotlyConfig = {MathJaxConfig: 'local'};</script>\n",
              "        <script src=\"https://cdn.plot.ly/plotly-2.9.0.min.js\"></script>                <div id=\"ac683b40-c79b-4791-8035-f40b822c398c\" class=\"plotly-graph-div\" style=\"height:525px; width:100%;\"></div>            <script type=\"text/javascript\">                                    window.PLOTLYENV=window.PLOTLYENV || {};                                    if (document.getElementById(\"ac683b40-c79b-4791-8035-f40b822c398c\")) {                    Plotly.newPlot(                        \"ac683b40-c79b-4791-8035-f40b822c398c\",                        [{\"coloraxis\":\"coloraxis\",\"name\":\"0\",\"texttemplate\":\"%{z}\",\"z\":[[486,9,41,125,33,7,5,2,112,19,15,407,8,11,53,159,24,6],[8,762,51,189,4,10,5,31,213,19,16,468,20,34,59,113,7,8],[7,14,2469,40,9,23,5,9,379,2,23,418,2,29,55,172,7,0],[25,84,100,6752,92,23,9,18,251,147,52,787,65,12,187,101,95,57],[12,1,52,69,1121,32,0,0,73,0,5,205,2,5,26,30,8,8],[5,6,96,13,7,1565,1,2,92,0,0,164,0,8,23,121,2,1],[3,5,8,13,3,0,189,3,110,1,5,159,17,6,8,38,10,0],[1,24,18,50,0,2,1,250,38,10,1,215,2,3,14,33,3,2],[32,41,261,145,14,38,32,22,4814,13,13,1029,8,121,62,258,12,4],[26,27,45,354,7,11,4,4,83,897,6,384,30,15,99,94,11,9],[3,14,29,55,3,1,1,0,34,3,247,91,2,3,27,17,6,1],[65,29,271,592,48,74,13,22,301,22,17,5169,25,50,186,362,79,22],[6,17,25,123,1,2,18,0,72,17,4,245,371,20,15,100,7,5],[8,2,37,26,1,8,3,9,159,2,1,538,2,1397,6,236,3,0],[23,69,236,258,19,28,5,10,392,40,51,718,27,50,814,178,26,8],[60,41,196,116,17,71,10,12,420,25,10,1230,25,145,81,5148,29,4],[20,13,68,211,11,17,1,7,70,5,17,469,4,8,94,79,511,5],[3,10,8,222,3,2,2,2,28,11,4,132,3,1,13,16,9,211]],\"type\":\"heatmap\",\"xaxis\":\"x\",\"yaxis\":\"y\",\"hovertemplate\":\"x: %{x}<br>y: %{y}<br>color: %{z}<extra></extra>\"}],                        {\"template\":{\"data\":{\"bar\":[{\"error_x\":{\"color\":\"#2a3f5f\"},\"error_y\":{\"color\":\"#2a3f5f\"},\"marker\":{\"line\":{\"color\":\"#E5ECF6\",\"width\":0.5},\"pattern\":{\"fillmode\":\"overlay\",\"size\":10,\"solidity\":0.2}},\"type\":\"bar\"}],\"barpolar\":[{\"marker\":{\"line\":{\"color\":\"#E5ECF6\",\"width\":0.5},\"pattern\":{\"fillmode\":\"overlay\",\"size\":10,\"solidity\":0.2}},\"type\":\"barpolar\"}],\"carpet\":[{\"aaxis\":{\"endlinecolor\":\"#2a3f5f\",\"gridcolor\":\"white\",\"linecolor\":\"white\",\"minorgridcolor\":\"white\",\"startlinecolor\":\"#2a3f5f\"},\"baxis\":{\"endlinecolor\":\"#2a3f5f\",\"gridcolor\":\"white\",\"linecolor\":\"white\",\"minorgridcolor\":\"white\",\"startlinecolor\":\"#2a3f5f\"},\"type\":\"carpet\"}],\"choropleth\":[{\"colorbar\":{\"outlinewidth\":0,\"ticks\":\"\"},\"type\":\"choropleth\"}],\"contour\":[{\"colorbar\":{\"outlinewidth\":0,\"ticks\":\"\"},\"colorscale\":[[0.0,\"#0d0887\"],[0.1111111111111111,\"#46039f\"],[0.2222222222222222,\"#7201a8\"],[0.3333333333333333,\"#9c179e\"],[0.4444444444444444,\"#bd3786\"],[0.5555555555555556,\"#d8576b\"],[0.6666666666666666,\"#ed7953\"],[0.7777777777777778,\"#fb9f3a\"],[0.8888888888888888,\"#fdca26\"],[1.0,\"#f0f921\"]],\"type\":\"contour\"}],\"contourcarpet\":[{\"colorbar\":{\"outlinewidth\":0,\"ticks\":\"\"},\"type\":\"contourcarpet\"}],\"heatmap\":[{\"colorbar\":{\"outlinewidth\":0,\"ticks\":\"\"},\"colorscale\":[[0.0,\"#0d0887\"],[0.1111111111111111,\"#46039f\"],[0.2222222222222222,\"#7201a8\"],[0.3333333333333333,\"#9c179e\"],[0.4444444444444444,\"#bd3786\"],[0.5555555555555556,\"#d8576b\"],[0.6666666666666666,\"#ed7953\"],[0.7777777777777778,\"#fb9f3a\"],[0.8888888888888888,\"#fdca26\"],[1.0,\"#f0f921\"]],\"type\":\"heatmap\"}],\"heatmapgl\":[{\"colorbar\":{\"outlinewidth\":0,\"ticks\":\"\"},\"colorscale\":[[0.0,\"#0d0887\"],[0.1111111111111111,\"#46039f\"],[0.2222222222222222,\"#7201a8\"],[0.3333333333333333,\"#9c179e\"],[0.4444444444444444,\"#bd3786\"],[0.5555555555555556,\"#d8576b\"],[0.6666666666666666,\"#ed7953\"],[0.7777777777777778,\"#fb9f3a\"],[0.8888888888888888,\"#fdca26\"],[1.0,\"#f0f921\"]],\"type\":\"heatmapgl\"}],\"histogram\":[{\"marker\":{\"pattern\":{\"fillmode\":\"overlay\",\"size\":10,\"solidity\":0.2}},\"type\":\"histogram\"}],\"histogram2d\":[{\"colorbar\":{\"outlinewidth\":0,\"ticks\":\"\"},\"colorscale\":[[0.0,\"#0d0887\"],[0.1111111111111111,\"#46039f\"],[0.2222222222222222,\"#7201a8\"],[0.3333333333333333,\"#9c179e\"],[0.4444444444444444,\"#bd3786\"],[0.5555555555555556,\"#d8576b\"],[0.6666666666666666,\"#ed7953\"],[0.7777777777777778,\"#fb9f3a\"],[0.8888888888888888,\"#fdca26\"],[1.0,\"#f0f921\"]],\"type\":\"histogram2d\"}],\"histogram2dcontour\":[{\"colorbar\":{\"outlinewidth\":0,\"ticks\":\"\"},\"colorscale\":[[0.0,\"#0d0887\"],[0.1111111111111111,\"#46039f\"],[0.2222222222222222,\"#7201a8\"],[0.3333333333333333,\"#9c179e\"],[0.4444444444444444,\"#bd3786\"],[0.5555555555555556,\"#d8576b\"],[0.6666666666666666,\"#ed7953\"],[0.7777777777777778,\"#fb9f3a\"],[0.8888888888888888,\"#fdca26\"],[1.0,\"#f0f921\"]],\"type\":\"histogram2dcontour\"}],\"mesh3d\":[{\"colorbar\":{\"outlinewidth\":0,\"ticks\":\"\"},\"type\":\"mesh3d\"}],\"parcoords\":[{\"line\":{\"colorbar\":{\"outlinewidth\":0,\"ticks\":\"\"}},\"type\":\"parcoords\"}],\"pie\":[{\"automargin\":true,\"type\":\"pie\"}],\"scatter\":[{\"marker\":{\"colorbar\":{\"outlinewidth\":0,\"ticks\":\"\"}},\"type\":\"scatter\"}],\"scatter3d\":[{\"line\":{\"colorbar\":{\"outlinewidth\":0,\"ticks\":\"\"}},\"marker\":{\"colorbar\":{\"outlinewidth\":0,\"ticks\":\"\"}},\"type\":\"scatter3d\"}],\"scattercarpet\":[{\"marker\":{\"colorbar\":{\"outlinewidth\":0,\"ticks\":\"\"}},\"type\":\"scattercarpet\"}],\"scattergeo\":[{\"marker\":{\"colorbar\":{\"outlinewidth\":0,\"ticks\":\"\"}},\"type\":\"scattergeo\"}],\"scattergl\":[{\"marker\":{\"colorbar\":{\"outlinewidth\":0,\"ticks\":\"\"}},\"type\":\"scattergl\"}],\"scattermapbox\":[{\"marker\":{\"colorbar\":{\"outlinewidth\":0,\"ticks\":\"\"}},\"type\":\"scattermapbox\"}],\"scatterpolar\":[{\"marker\":{\"colorbar\":{\"outlinewidth\":0,\"ticks\":\"\"}},\"type\":\"scatterpolar\"}],\"scatterpolargl\":[{\"marker\":{\"colorbar\":{\"outlinewidth\":0,\"ticks\":\"\"}},\"type\":\"scatterpolargl\"}],\"scatterternary\":[{\"marker\":{\"colorbar\":{\"outlinewidth\":0,\"ticks\":\"\"}},\"type\":\"scatterternary\"}],\"surface\":[{\"colorbar\":{\"outlinewidth\":0,\"ticks\":\"\"},\"colorscale\":[[0.0,\"#0d0887\"],[0.1111111111111111,\"#46039f\"],[0.2222222222222222,\"#7201a8\"],[0.3333333333333333,\"#9c179e\"],[0.4444444444444444,\"#bd3786\"],[0.5555555555555556,\"#d8576b\"],[0.6666666666666666,\"#ed7953\"],[0.7777777777777778,\"#fb9f3a\"],[0.8888888888888888,\"#fdca26\"],[1.0,\"#f0f921\"]],\"type\":\"surface\"}],\"table\":[{\"cells\":{\"fill\":{\"color\":\"#EBF0F8\"},\"line\":{\"color\":\"white\"}},\"header\":{\"fill\":{\"color\":\"#C8D4E3\"},\"line\":{\"color\":\"white\"}},\"type\":\"table\"}]},\"layout\":{\"annotationdefaults\":{\"arrowcolor\":\"#2a3f5f\",\"arrowhead\":0,\"arrowwidth\":1},\"autotypenumbers\":\"strict\",\"coloraxis\":{\"colorbar\":{\"outlinewidth\":0,\"ticks\":\"\"}},\"colorscale\":{\"diverging\":[[0,\"#8e0152\"],[0.1,\"#c51b7d\"],[0.2,\"#de77ae\"],[0.3,\"#f1b6da\"],[0.4,\"#fde0ef\"],[0.5,\"#f7f7f7\"],[0.6,\"#e6f5d0\"],[0.7,\"#b8e186\"],[0.8,\"#7fbc41\"],[0.9,\"#4d9221\"],[1,\"#276419\"]],\"sequential\":[[0.0,\"#0d0887\"],[0.1111111111111111,\"#46039f\"],[0.2222222222222222,\"#7201a8\"],[0.3333333333333333,\"#9c179e\"],[0.4444444444444444,\"#bd3786\"],[0.5555555555555556,\"#d8576b\"],[0.6666666666666666,\"#ed7953\"],[0.7777777777777778,\"#fb9f3a\"],[0.8888888888888888,\"#fdca26\"],[1.0,\"#f0f921\"]],\"sequentialminus\":[[0.0,\"#0d0887\"],[0.1111111111111111,\"#46039f\"],[0.2222222222222222,\"#7201a8\"],[0.3333333333333333,\"#9c179e\"],[0.4444444444444444,\"#bd3786\"],[0.5555555555555556,\"#d8576b\"],[0.6666666666666666,\"#ed7953\"],[0.7777777777777778,\"#fb9f3a\"],[0.8888888888888888,\"#fdca26\"],[1.0,\"#f0f921\"]]},\"colorway\":[\"#636efa\",\"#EF553B\",\"#00cc96\",\"#ab63fa\",\"#FFA15A\",\"#19d3f3\",\"#FF6692\",\"#B6E880\",\"#FF97FF\",\"#FECB52\"],\"font\":{\"color\":\"#2a3f5f\"},\"geo\":{\"bgcolor\":\"white\",\"lakecolor\":\"white\",\"landcolor\":\"#E5ECF6\",\"showlakes\":true,\"showland\":true,\"subunitcolor\":\"white\"},\"hoverlabel\":{\"align\":\"left\"},\"hovermode\":\"closest\",\"mapbox\":{\"style\":\"light\"},\"paper_bgcolor\":\"white\",\"plot_bgcolor\":\"#E5ECF6\",\"polar\":{\"angularaxis\":{\"gridcolor\":\"white\",\"linecolor\":\"white\",\"ticks\":\"\"},\"bgcolor\":\"#E5ECF6\",\"radialaxis\":{\"gridcolor\":\"white\",\"linecolor\":\"white\",\"ticks\":\"\"}},\"scene\":{\"xaxis\":{\"backgroundcolor\":\"#E5ECF6\",\"gridcolor\":\"white\",\"gridwidth\":2,\"linecolor\":\"white\",\"showbackground\":true,\"ticks\":\"\",\"zerolinecolor\":\"white\"},\"yaxis\":{\"backgroundcolor\":\"#E5ECF6\",\"gridcolor\":\"white\",\"gridwidth\":2,\"linecolor\":\"white\",\"showbackground\":true,\"ticks\":\"\",\"zerolinecolor\":\"white\"},\"zaxis\":{\"backgroundcolor\":\"#E5ECF6\",\"gridcolor\":\"white\",\"gridwidth\":2,\"linecolor\":\"white\",\"showbackground\":true,\"ticks\":\"\",\"zerolinecolor\":\"white\"}},\"shapedefaults\":{\"line\":{\"color\":\"#2a3f5f\"}},\"ternary\":{\"aaxis\":{\"gridcolor\":\"white\",\"linecolor\":\"white\",\"ticks\":\"\"},\"baxis\":{\"gridcolor\":\"white\",\"linecolor\":\"white\",\"ticks\":\"\"},\"bgcolor\":\"#E5ECF6\",\"caxis\":{\"gridcolor\":\"white\",\"linecolor\":\"white\",\"ticks\":\"\"}},\"title\":{\"x\":0.05},\"xaxis\":{\"automargin\":true,\"gridcolor\":\"white\",\"linecolor\":\"white\",\"ticks\":\"\",\"title\":{\"standoff\":15},\"zerolinecolor\":\"white\",\"zerolinewidth\":2},\"yaxis\":{\"automargin\":true,\"gridcolor\":\"white\",\"linecolor\":\"white\",\"ticks\":\"\",\"title\":{\"standoff\":15},\"zerolinecolor\":\"white\",\"zerolinewidth\":2}}},\"xaxis\":{\"anchor\":\"y\",\"domain\":[0.0,1.0],\"scaleanchor\":\"y\",\"constrain\":\"domain\"},\"yaxis\":{\"anchor\":\"x\",\"domain\":[0.0,1.0],\"autorange\":\"reversed\",\"constrain\":\"domain\"},\"coloraxis\":{\"colorscale\":[[0.0,\"#0d0887\"],[0.1111111111111111,\"#46039f\"],[0.2222222222222222,\"#7201a8\"],[0.3333333333333333,\"#9c179e\"],[0.4444444444444444,\"#bd3786\"],[0.5555555555555556,\"#d8576b\"],[0.6666666666666666,\"#ed7953\"],[0.7777777777777778,\"#fb9f3a\"],[0.8888888888888888,\"#fdca26\"],[1.0,\"#f0f921\"]]},\"margin\":{\"t\":60},\"title\":{\"text\":\"TFIDF Vectorizer Gradient Boosting Confusion Matrix\"}},                        {\"responsive\": true}                    ).then(function(){\n",
              "                            \n",
              "var gd = document.getElementById('ac683b40-c79b-4791-8035-f40b822c398c');\n",
              "var x = new MutationObserver(function (mutations, observer) {{\n",
              "        var display = window.getComputedStyle(gd).display;\n",
              "        if (!display || display === 'none') {{\n",
              "            console.log([gd, 'removed!']);\n",
              "            Plotly.purge(gd);\n",
              "            observer.disconnect();\n",
              "        }}\n",
              "}});\n",
              "\n",
              "// Listen for the removal of the full notebook cells\n",
              "var notebookContainer = gd.closest('#notebook-container');\n",
              "if (notebookContainer) {{\n",
              "    x.observe(notebookContainer, {childList: true});\n",
              "}}\n",
              "\n",
              "// Listen for the clearing of the current output cell\n",
              "var outputEl = gd.closest('.output');\n",
              "if (outputEl) {{\n",
              "    x.observe(outputEl, {childList: true});\n",
              "}}\n",
              "\n",
              "                        })                };                            </script>        </div>\n",
              "</body>\n",
              "</html>"
            ]
          },
          "metadata": {}
        }
      ]
    },
    {
      "cell_type": "code",
      "source": [
        "fig = px.scatter(x=(list(f1_scores.keys())), y=list(f1_scores.values()), color=list(f1_scores.keys()))\n",
        "fig.update_traces(marker_size=10)\n",
        "fig.update_layout(xaxis_title = \"Gradient Boosting F1 Score Average\", yaxis_title = \"Score\", title = \"F1 Scores\", legend_title=\"F1 Score Averages\")\n",
        "fig.show(renderer = \"colab\")"
      ],
      "metadata": {
        "colab": {
          "base_uri": "https://localhost:8080/",
          "height": 542
        },
        "outputId": "2d0924b1-a4ac-4f7b-eee5-32e90987415d",
        "id": "b7ehGWehUmC3"
      },
      "execution_count": null,
      "outputs": [
        {
          "output_type": "display_data",
          "data": {
            "text/html": [
              "<html>\n",
              "<head><meta charset=\"utf-8\" /></head>\n",
              "<body>\n",
              "    <div>            <script src=\"https://cdnjs.cloudflare.com/ajax/libs/mathjax/2.7.5/MathJax.js?config=TeX-AMS-MML_SVG\"></script><script type=\"text/javascript\">if (window.MathJax) {MathJax.Hub.Config({SVG: {font: \"STIX-Web\"}});}</script>                <script type=\"text/javascript\">window.PlotlyConfig = {MathJaxConfig: 'local'};</script>\n",
              "        <script src=\"https://cdn.plot.ly/plotly-2.9.0.min.js\"></script>                <div id=\"a2db36d5-c457-430c-9194-9b1205d26319\" class=\"plotly-graph-div\" style=\"height:525px; width:100%;\"></div>            <script type=\"text/javascript\">                                    window.PLOTLYENV=window.PLOTLYENV || {};                                    if (document.getElementById(\"a2db36d5-c457-430c-9194-9b1205d26319\")) {                    Plotly.newPlot(                        \"a2db36d5-c457-430c-9194-9b1205d26319\",                        [{\"hovertemplate\":\"color=Tfidf_macro<br>x=%{x}<br>y=%{y}<extra></extra>\",\"legendgroup\":\"Tfidf_macro\",\"marker\":{\"color\":\"#636efa\",\"symbol\":\"circle\",\"size\":10},\"mode\":\"markers\",\"name\":\"Tfidf_macro\",\"orientation\":\"v\",\"showlegend\":true,\"x\":[\"Tfidf_macro\"],\"xaxis\":\"x\",\"y\":[0.5422160254558693],\"yaxis\":\"y\",\"type\":\"scatter\"},{\"hovertemplate\":\"color=Tfidf_micro<br>x=%{x}<br>y=%{y}<extra></extra>\",\"legendgroup\":\"Tfidf_micro\",\"marker\":{\"color\":\"#EF553B\",\"symbol\":\"circle\",\"size\":10},\"mode\":\"markers\",\"name\":\"Tfidf_micro\",\"orientation\":\"v\",\"showlegend\":true,\"x\":[\"Tfidf_micro\"],\"xaxis\":\"x\",\"y\":[0.6097614840989399],\"yaxis\":\"y\",\"type\":\"scatter\"},{\"hovertemplate\":\"color=Tfidf_weighted<br>x=%{x}<br>y=%{y}<extra></extra>\",\"legendgroup\":\"Tfidf_weighted\",\"marker\":{\"color\":\"#00cc96\",\"symbol\":\"circle\",\"size\":10},\"mode\":\"markers\",\"name\":\"Tfidf_weighted\",\"orientation\":\"v\",\"showlegend\":true,\"x\":[\"Tfidf_weighted\"],\"xaxis\":\"x\",\"y\":[0.605181541534495],\"yaxis\":\"y\",\"type\":\"scatter\"},{\"hovertemplate\":\"color=Count_macro<br>x=%{x}<br>y=%{y}<extra></extra>\",\"legendgroup\":\"Count_macro\",\"marker\":{\"color\":\"#ab63fa\",\"symbol\":\"circle\",\"size\":10},\"mode\":\"markers\",\"name\":\"Count_macro\",\"orientation\":\"v\",\"showlegend\":true,\"x\":[\"Count_macro\"],\"xaxis\":\"x\",\"y\":[0.5463105623880122],\"yaxis\":\"y\",\"type\":\"scatter\"},{\"hovertemplate\":\"color=Count_micro<br>x=%{x}<br>y=%{y}<extra></extra>\",\"legendgroup\":\"Count_micro\",\"marker\":{\"color\":\"#FFA15A\",\"symbol\":\"circle\",\"size\":10},\"mode\":\"markers\",\"name\":\"Count_micro\",\"orientation\":\"v\",\"showlegend\":true,\"x\":[\"Count_micro\"],\"xaxis\":\"x\",\"y\":[0.6105160482921084],\"yaxis\":\"y\",\"type\":\"scatter\"},{\"hovertemplate\":\"color=Count_weighted<br>x=%{x}<br>y=%{y}<extra></extra>\",\"legendgroup\":\"Count_weighted\",\"marker\":{\"color\":\"#19d3f3\",\"symbol\":\"circle\",\"size\":10},\"mode\":\"markers\",\"name\":\"Count_weighted\",\"orientation\":\"v\",\"showlegend\":true,\"x\":[\"Count_weighted\"],\"xaxis\":\"x\",\"y\":[0.606255559066822],\"yaxis\":\"y\",\"type\":\"scatter\"},{\"hovertemplate\":\"color=Hash_macro<br>x=%{x}<br>y=%{y}<extra></extra>\",\"legendgroup\":\"Hash_macro\",\"marker\":{\"color\":\"#FF6692\",\"symbol\":\"circle\",\"size\":10},\"mode\":\"markers\",\"name\":\"Hash_macro\",\"orientation\":\"v\",\"showlegend\":true,\"x\":[\"Hash_macro\"],\"xaxis\":\"x\",\"y\":[0.543407522880677],\"yaxis\":\"y\",\"type\":\"scatter\"},{\"hovertemplate\":\"color=Hash_micro<br>x=%{x}<br>y=%{y}<extra></extra>\",\"legendgroup\":\"Hash_micro\",\"marker\":{\"color\":\"#B6E880\",\"symbol\":\"circle\",\"size\":10},\"mode\":\"markers\",\"name\":\"Hash_micro\",\"orientation\":\"v\",\"showlegend\":true,\"x\":[\"Hash_micro\"],\"xaxis\":\"x\",\"y\":[0.6089333038869258],\"yaxis\":\"y\",\"type\":\"scatter\"},{\"hovertemplate\":\"color=Hash_weighted<br>x=%{x}<br>y=%{y}<extra></extra>\",\"legendgroup\":\"Hash_weighted\",\"marker\":{\"color\":\"#FF97FF\",\"symbol\":\"circle\",\"size\":10},\"mode\":\"markers\",\"name\":\"Hash_weighted\",\"orientation\":\"v\",\"showlegend\":true,\"x\":[\"Hash_weighted\"],\"xaxis\":\"x\",\"y\":[0.6049416746008937],\"yaxis\":\"y\",\"type\":\"scatter\"}],                        {\"template\":{\"data\":{\"bar\":[{\"error_x\":{\"color\":\"#2a3f5f\"},\"error_y\":{\"color\":\"#2a3f5f\"},\"marker\":{\"line\":{\"color\":\"#E5ECF6\",\"width\":0.5},\"pattern\":{\"fillmode\":\"overlay\",\"size\":10,\"solidity\":0.2}},\"type\":\"bar\"}],\"barpolar\":[{\"marker\":{\"line\":{\"color\":\"#E5ECF6\",\"width\":0.5},\"pattern\":{\"fillmode\":\"overlay\",\"size\":10,\"solidity\":0.2}},\"type\":\"barpolar\"}],\"carpet\":[{\"aaxis\":{\"endlinecolor\":\"#2a3f5f\",\"gridcolor\":\"white\",\"linecolor\":\"white\",\"minorgridcolor\":\"white\",\"startlinecolor\":\"#2a3f5f\"},\"baxis\":{\"endlinecolor\":\"#2a3f5f\",\"gridcolor\":\"white\",\"linecolor\":\"white\",\"minorgridcolor\":\"white\",\"startlinecolor\":\"#2a3f5f\"},\"type\":\"carpet\"}],\"choropleth\":[{\"colorbar\":{\"outlinewidth\":0,\"ticks\":\"\"},\"type\":\"choropleth\"}],\"contour\":[{\"colorbar\":{\"outlinewidth\":0,\"ticks\":\"\"},\"colorscale\":[[0.0,\"#0d0887\"],[0.1111111111111111,\"#46039f\"],[0.2222222222222222,\"#7201a8\"],[0.3333333333333333,\"#9c179e\"],[0.4444444444444444,\"#bd3786\"],[0.5555555555555556,\"#d8576b\"],[0.6666666666666666,\"#ed7953\"],[0.7777777777777778,\"#fb9f3a\"],[0.8888888888888888,\"#fdca26\"],[1.0,\"#f0f921\"]],\"type\":\"contour\"}],\"contourcarpet\":[{\"colorbar\":{\"outlinewidth\":0,\"ticks\":\"\"},\"type\":\"contourcarpet\"}],\"heatmap\":[{\"colorbar\":{\"outlinewidth\":0,\"ticks\":\"\"},\"colorscale\":[[0.0,\"#0d0887\"],[0.1111111111111111,\"#46039f\"],[0.2222222222222222,\"#7201a8\"],[0.3333333333333333,\"#9c179e\"],[0.4444444444444444,\"#bd3786\"],[0.5555555555555556,\"#d8576b\"],[0.6666666666666666,\"#ed7953\"],[0.7777777777777778,\"#fb9f3a\"],[0.8888888888888888,\"#fdca26\"],[1.0,\"#f0f921\"]],\"type\":\"heatmap\"}],\"heatmapgl\":[{\"colorbar\":{\"outlinewidth\":0,\"ticks\":\"\"},\"colorscale\":[[0.0,\"#0d0887\"],[0.1111111111111111,\"#46039f\"],[0.2222222222222222,\"#7201a8\"],[0.3333333333333333,\"#9c179e\"],[0.4444444444444444,\"#bd3786\"],[0.5555555555555556,\"#d8576b\"],[0.6666666666666666,\"#ed7953\"],[0.7777777777777778,\"#fb9f3a\"],[0.8888888888888888,\"#fdca26\"],[1.0,\"#f0f921\"]],\"type\":\"heatmapgl\"}],\"histogram\":[{\"marker\":{\"pattern\":{\"fillmode\":\"overlay\",\"size\":10,\"solidity\":0.2}},\"type\":\"histogram\"}],\"histogram2d\":[{\"colorbar\":{\"outlinewidth\":0,\"ticks\":\"\"},\"colorscale\":[[0.0,\"#0d0887\"],[0.1111111111111111,\"#46039f\"],[0.2222222222222222,\"#7201a8\"],[0.3333333333333333,\"#9c179e\"],[0.4444444444444444,\"#bd3786\"],[0.5555555555555556,\"#d8576b\"],[0.6666666666666666,\"#ed7953\"],[0.7777777777777778,\"#fb9f3a\"],[0.8888888888888888,\"#fdca26\"],[1.0,\"#f0f921\"]],\"type\":\"histogram2d\"}],\"histogram2dcontour\":[{\"colorbar\":{\"outlinewidth\":0,\"ticks\":\"\"},\"colorscale\":[[0.0,\"#0d0887\"],[0.1111111111111111,\"#46039f\"],[0.2222222222222222,\"#7201a8\"],[0.3333333333333333,\"#9c179e\"],[0.4444444444444444,\"#bd3786\"],[0.5555555555555556,\"#d8576b\"],[0.6666666666666666,\"#ed7953\"],[0.7777777777777778,\"#fb9f3a\"],[0.8888888888888888,\"#fdca26\"],[1.0,\"#f0f921\"]],\"type\":\"histogram2dcontour\"}],\"mesh3d\":[{\"colorbar\":{\"outlinewidth\":0,\"ticks\":\"\"},\"type\":\"mesh3d\"}],\"parcoords\":[{\"line\":{\"colorbar\":{\"outlinewidth\":0,\"ticks\":\"\"}},\"type\":\"parcoords\"}],\"pie\":[{\"automargin\":true,\"type\":\"pie\"}],\"scatter\":[{\"marker\":{\"colorbar\":{\"outlinewidth\":0,\"ticks\":\"\"}},\"type\":\"scatter\"}],\"scatter3d\":[{\"line\":{\"colorbar\":{\"outlinewidth\":0,\"ticks\":\"\"}},\"marker\":{\"colorbar\":{\"outlinewidth\":0,\"ticks\":\"\"}},\"type\":\"scatter3d\"}],\"scattercarpet\":[{\"marker\":{\"colorbar\":{\"outlinewidth\":0,\"ticks\":\"\"}},\"type\":\"scattercarpet\"}],\"scattergeo\":[{\"marker\":{\"colorbar\":{\"outlinewidth\":0,\"ticks\":\"\"}},\"type\":\"scattergeo\"}],\"scattergl\":[{\"marker\":{\"colorbar\":{\"outlinewidth\":0,\"ticks\":\"\"}},\"type\":\"scattergl\"}],\"scattermapbox\":[{\"marker\":{\"colorbar\":{\"outlinewidth\":0,\"ticks\":\"\"}},\"type\":\"scattermapbox\"}],\"scatterpolar\":[{\"marker\":{\"colorbar\":{\"outlinewidth\":0,\"ticks\":\"\"}},\"type\":\"scatterpolar\"}],\"scatterpolargl\":[{\"marker\":{\"colorbar\":{\"outlinewidth\":0,\"ticks\":\"\"}},\"type\":\"scatterpolargl\"}],\"scatterternary\":[{\"marker\":{\"colorbar\":{\"outlinewidth\":0,\"ticks\":\"\"}},\"type\":\"scatterternary\"}],\"surface\":[{\"colorbar\":{\"outlinewidth\":0,\"ticks\":\"\"},\"colorscale\":[[0.0,\"#0d0887\"],[0.1111111111111111,\"#46039f\"],[0.2222222222222222,\"#7201a8\"],[0.3333333333333333,\"#9c179e\"],[0.4444444444444444,\"#bd3786\"],[0.5555555555555556,\"#d8576b\"],[0.6666666666666666,\"#ed7953\"],[0.7777777777777778,\"#fb9f3a\"],[0.8888888888888888,\"#fdca26\"],[1.0,\"#f0f921\"]],\"type\":\"surface\"}],\"table\":[{\"cells\":{\"fill\":{\"color\":\"#EBF0F8\"},\"line\":{\"color\":\"white\"}},\"header\":{\"fill\":{\"color\":\"#C8D4E3\"},\"line\":{\"color\":\"white\"}},\"type\":\"table\"}]},\"layout\":{\"annotationdefaults\":{\"arrowcolor\":\"#2a3f5f\",\"arrowhead\":0,\"arrowwidth\":1},\"autotypenumbers\":\"strict\",\"coloraxis\":{\"colorbar\":{\"outlinewidth\":0,\"ticks\":\"\"}},\"colorscale\":{\"diverging\":[[0,\"#8e0152\"],[0.1,\"#c51b7d\"],[0.2,\"#de77ae\"],[0.3,\"#f1b6da\"],[0.4,\"#fde0ef\"],[0.5,\"#f7f7f7\"],[0.6,\"#e6f5d0\"],[0.7,\"#b8e186\"],[0.8,\"#7fbc41\"],[0.9,\"#4d9221\"],[1,\"#276419\"]],\"sequential\":[[0.0,\"#0d0887\"],[0.1111111111111111,\"#46039f\"],[0.2222222222222222,\"#7201a8\"],[0.3333333333333333,\"#9c179e\"],[0.4444444444444444,\"#bd3786\"],[0.5555555555555556,\"#d8576b\"],[0.6666666666666666,\"#ed7953\"],[0.7777777777777778,\"#fb9f3a\"],[0.8888888888888888,\"#fdca26\"],[1.0,\"#f0f921\"]],\"sequentialminus\":[[0.0,\"#0d0887\"],[0.1111111111111111,\"#46039f\"],[0.2222222222222222,\"#7201a8\"],[0.3333333333333333,\"#9c179e\"],[0.4444444444444444,\"#bd3786\"],[0.5555555555555556,\"#d8576b\"],[0.6666666666666666,\"#ed7953\"],[0.7777777777777778,\"#fb9f3a\"],[0.8888888888888888,\"#fdca26\"],[1.0,\"#f0f921\"]]},\"colorway\":[\"#636efa\",\"#EF553B\",\"#00cc96\",\"#ab63fa\",\"#FFA15A\",\"#19d3f3\",\"#FF6692\",\"#B6E880\",\"#FF97FF\",\"#FECB52\"],\"font\":{\"color\":\"#2a3f5f\"},\"geo\":{\"bgcolor\":\"white\",\"lakecolor\":\"white\",\"landcolor\":\"#E5ECF6\",\"showlakes\":true,\"showland\":true,\"subunitcolor\":\"white\"},\"hoverlabel\":{\"align\":\"left\"},\"hovermode\":\"closest\",\"mapbox\":{\"style\":\"light\"},\"paper_bgcolor\":\"white\",\"plot_bgcolor\":\"#E5ECF6\",\"polar\":{\"angularaxis\":{\"gridcolor\":\"white\",\"linecolor\":\"white\",\"ticks\":\"\"},\"bgcolor\":\"#E5ECF6\",\"radialaxis\":{\"gridcolor\":\"white\",\"linecolor\":\"white\",\"ticks\":\"\"}},\"scene\":{\"xaxis\":{\"backgroundcolor\":\"#E5ECF6\",\"gridcolor\":\"white\",\"gridwidth\":2,\"linecolor\":\"white\",\"showbackground\":true,\"ticks\":\"\",\"zerolinecolor\":\"white\"},\"yaxis\":{\"backgroundcolor\":\"#E5ECF6\",\"gridcolor\":\"white\",\"gridwidth\":2,\"linecolor\":\"white\",\"showbackground\":true,\"ticks\":\"\",\"zerolinecolor\":\"white\"},\"zaxis\":{\"backgroundcolor\":\"#E5ECF6\",\"gridcolor\":\"white\",\"gridwidth\":2,\"linecolor\":\"white\",\"showbackground\":true,\"ticks\":\"\",\"zerolinecolor\":\"white\"}},\"shapedefaults\":{\"line\":{\"color\":\"#2a3f5f\"}},\"ternary\":{\"aaxis\":{\"gridcolor\":\"white\",\"linecolor\":\"white\",\"ticks\":\"\"},\"baxis\":{\"gridcolor\":\"white\",\"linecolor\":\"white\",\"ticks\":\"\"},\"bgcolor\":\"#E5ECF6\",\"caxis\":{\"gridcolor\":\"white\",\"linecolor\":\"white\",\"ticks\":\"\"}},\"title\":{\"x\":0.05},\"xaxis\":{\"automargin\":true,\"gridcolor\":\"white\",\"linecolor\":\"white\",\"ticks\":\"\",\"title\":{\"standoff\":15},\"zerolinecolor\":\"white\",\"zerolinewidth\":2},\"yaxis\":{\"automargin\":true,\"gridcolor\":\"white\",\"linecolor\":\"white\",\"ticks\":\"\",\"title\":{\"standoff\":15},\"zerolinecolor\":\"white\",\"zerolinewidth\":2}}},\"xaxis\":{\"anchor\":\"y\",\"domain\":[0.0,1.0],\"title\":{\"text\":\"Gradient Boosting F1 Score Average\"}},\"yaxis\":{\"anchor\":\"x\",\"domain\":[0.0,1.0],\"title\":{\"text\":\"Score\"}},\"legend\":{\"title\":{\"text\":\"F1 Score Averages\"},\"tracegroupgap\":0},\"margin\":{\"t\":60},\"title\":{\"text\":\"F1 Scores\"}},                        {\"responsive\": true}                    ).then(function(){\n",
              "                            \n",
              "var gd = document.getElementById('a2db36d5-c457-430c-9194-9b1205d26319');\n",
              "var x = new MutationObserver(function (mutations, observer) {{\n",
              "        var display = window.getComputedStyle(gd).display;\n",
              "        if (!display || display === 'none') {{\n",
              "            console.log([gd, 'removed!']);\n",
              "            Plotly.purge(gd);\n",
              "            observer.disconnect();\n",
              "        }}\n",
              "}});\n",
              "\n",
              "// Listen for the removal of the full notebook cells\n",
              "var notebookContainer = gd.closest('#notebook-container');\n",
              "if (notebookContainer) {{\n",
              "    x.observe(notebookContainer, {childList: true});\n",
              "}}\n",
              "\n",
              "// Listen for the clearing of the current output cell\n",
              "var outputEl = gd.closest('.output');\n",
              "if (outputEl) {{\n",
              "    x.observe(outputEl, {childList: true});\n",
              "}}\n",
              "\n",
              "                        })                };                            </script>        </div>\n",
              "</body>\n",
              "</html>"
            ]
          },
          "metadata": {}
        }
      ]
    },
    {
      "cell_type": "markdown",
      "source": [
        "# TFIDF Vectorizing Paired With Gradient Boosting Classifer"
      ],
      "metadata": {
        "id": "-snk5WUQFZAA"
      }
    },
    {
      "cell_type": "code",
      "source": [
        "list(lbl.inverse_transform(tfidf_model.predict(tfidf_vectorizer.transform([\"Texas sues Biden administration to stop mask mandates on planes – as it happened\"])))) #Poltical headline"
      ],
      "metadata": {
        "colab": {
          "base_uri": "https://localhost:8080/"
        },
        "id": "um2Ki488_lIE",
        "outputId": "6939faf9-7326-479c-a28c-723ef3df0992"
      },
      "execution_count": null,
      "outputs": [
        {
          "output_type": "execute_result",
          "data": {
            "text/plain": [
              "['ENTERTAINMENT']"
            ]
          },
          "metadata": {},
          "execution_count": 123
        }
      ]
    },
    {
      "cell_type": "code",
      "source": [
        "list(lbl.inverse_transform(tfidf_model.predict(tfidf_vectorizer.transform([\"Google moves to make Android apps more private\"])))) #Tech headline"
      ],
      "metadata": {
        "colab": {
          "base_uri": "https://localhost:8080/"
        },
        "id": "MNY1DmRCDQN1",
        "outputId": "43e45c42-5a9e-42d8-d355-4900e48d09fe"
      },
      "execution_count": null,
      "outputs": [
        {
          "output_type": "execute_result",
          "data": {
            "text/plain": [
              "['TECH']"
            ]
          },
          "metadata": {},
          "execution_count": 124
        }
      ]
    },
    {
      "cell_type": "code",
      "source": [
        "list(lbl.inverse_transform(tfidf_model.predict(tfidf_vectorizer.transform([\"Googles plan to limit data tracking on its Chrome browser has been extended to cover apps on its Android-based smartphones.\"])))) #Tech short description"
      ],
      "metadata": {
        "colab": {
          "base_uri": "https://localhost:8080/"
        },
        "id": "f8JvBYZxDTCp",
        "outputId": "01936104-8259-4aed-d52a-8c0be10bcf55"
      },
      "execution_count": null,
      "outputs": [
        {
          "output_type": "execute_result",
          "data": {
            "text/plain": [
              "['ENTERTAINMENT']"
            ]
          },
          "metadata": {},
          "execution_count": 125
        }
      ]
    },
    {
      "cell_type": "code",
      "source": [
        "list(lbl.inverse_transform(tfidf_model.predict(tfidf_vectorizer.transform([\"Austria and Germany have both announced plans to relax Covid-19 measures, weeks after pushing for compulsory vaccinations to curb infections.\"])))) #World News"
      ],
      "metadata": {
        "colab": {
          "base_uri": "https://localhost:8080/"
        },
        "id": "H0F2YpN9DgPT",
        "outputId": "44cd0ff5-9daf-4419-dfdf-3d0c944c58ea"
      },
      "execution_count": null,
      "outputs": [
        {
          "output_type": "execute_result",
          "data": {
            "text/plain": [
              "['ENTERTAINMENT']"
            ]
          },
          "metadata": {},
          "execution_count": 126
        }
      ]
    },
    {
      "cell_type": "code",
      "source": [
        "list(lbl.inverse_transform(tfidf_model.predict(tfidf_vectorizer.transform(['EUROPE Soldier abused for being gay told to provide intimate pictures to prove his sexuality'])))) #Queer News"
      ],
      "metadata": {
        "colab": {
          "base_uri": "https://localhost:8080/"
        },
        "id": "qb-8v6K5FeQD",
        "outputId": "8ebf94d5-4de9-48a3-de7f-8b2d7091c510"
      },
      "execution_count": null,
      "outputs": [
        {
          "output_type": "execute_result",
          "data": {
            "text/plain": [
              "['QUEER VOICES']"
            ]
          },
          "metadata": {},
          "execution_count": 127
        }
      ]
    },
    {
      "cell_type": "markdown",
      "source": [
        "Here our model predicts a wrong category, lets try providing the description in the following line"
      ],
      "metadata": {
        "id": "RvwLSiN6HEF6"
      }
    },
    {
      "cell_type": "code",
      "source": [
        "list(lbl.inverse_transform(tfidf_model.predict(tfidf_vectorizer.transform(['Five healthy ways to discipline children'])))) #Parenting News"
      ],
      "metadata": {
        "colab": {
          "base_uri": "https://localhost:8080/"
        },
        "id": "9X1_gXrZG2uQ",
        "outputId": "629405be-35c6-4008-8743-5579f8480f57"
      },
      "execution_count": null,
      "outputs": [
        {
          "output_type": "execute_result",
          "data": {
            "text/plain": [
              "['PARENTS']"
            ]
          },
          "metadata": {},
          "execution_count": 128
        }
      ]
    },
    {
      "cell_type": "markdown",
      "source": [
        "Still a wrong prediction, lets try combining both the headline and descripton"
      ],
      "metadata": {
        "id": "h0rfF0hCHQ3o"
      }
    },
    {
      "cell_type": "code",
      "source": [
        "list(lbl.inverse_transform(tfidf_model.predict(tfidf_vectorizer.transform(['A positive disciplining strategy can help develop a positive relationship and set expectations based on the behavioral outcomes, says an expert.']))))"
      ],
      "metadata": {
        "colab": {
          "base_uri": "https://localhost:8080/"
        },
        "id": "Bn7B9VgOHJ-v",
        "outputId": "fc6dae82-664c-4a6e-fef0-55412393de91"
      },
      "execution_count": null,
      "outputs": [
        {
          "output_type": "execute_result",
          "data": {
            "text/plain": [
              "['WELLNESS']"
            ]
          },
          "metadata": {},
          "execution_count": 129
        }
      ]
    },
    {
      "cell_type": "markdown",
      "source": [
        "Still wrong, here we can see our model is not 100% accurate."
      ],
      "metadata": {
        "id": "hibxnylBHiJU"
      }
    },
    {
      "cell_type": "code",
      "source": [
        "list(lbl.inverse_transform(tfidf_model.predict(tfidf_vectorizer.transform(['Five healthy ways to discipline children A positive disciplining strategy can help develop a positive relationship and set expectations based on the behavioral outcomes, says an expert.']))))"
      ],
      "metadata": {
        "colab": {
          "base_uri": "https://localhost:8080/"
        },
        "id": "URYgjOx-HdH7",
        "outputId": "5eca6f96-2337-4c84-dcf2-3eb3044013d8"
      },
      "execution_count": null,
      "outputs": [
        {
          "output_type": "execute_result",
          "data": {
            "text/plain": [
              "['WELLNESS']"
            ]
          },
          "metadata": {},
          "execution_count": 130
        }
      ]
    },
    {
      "cell_type": "markdown",
      "source": [
        "# Count Vectorizing Paired With Gradient Boosting Classifer"
      ],
      "metadata": {
        "id": "mA4jIh2dypJ3"
      }
    },
    {
      "cell_type": "code",
      "source": [
        "list(lbl.inverse_transform(count_model.predict(countVectorizer.transform([\"Texas sues Biden administration to stop mask mandates on planes – as it happened\"])))) #Poltical headline"
      ],
      "metadata": {
        "colab": {
          "base_uri": "https://localhost:8080/"
        },
        "outputId": "ecf49053-2abb-4556-cd9e-8c3ecdf42e00",
        "id": "wNJkjTTLypJ3"
      },
      "execution_count": null,
      "outputs": [
        {
          "output_type": "execute_result",
          "data": {
            "text/plain": [
              "['ENTERTAINMENT']"
            ]
          },
          "metadata": {},
          "execution_count": 131
        }
      ]
    },
    {
      "cell_type": "code",
      "source": [
        "list(lbl.inverse_transform(count_model.predict(countVectorizer.transform([\"Google moves to make Android apps more private\"])))) #Tech headline"
      ],
      "metadata": {
        "colab": {
          "base_uri": "https://localhost:8080/"
        },
        "outputId": "26ffc4fc-777f-4bf3-8e34-8384671934c0",
        "id": "N5MBVGJWypJ3"
      },
      "execution_count": null,
      "outputs": [
        {
          "output_type": "execute_result",
          "data": {
            "text/plain": [
              "['TECH']"
            ]
          },
          "metadata": {},
          "execution_count": 132
        }
      ]
    },
    {
      "cell_type": "code",
      "source": [
        "list(lbl.inverse_transform(count_model.predict(countVectorizer.transform([\"Googles plan to limit data tracking on its Chrome browser has been extended to cover apps on its Android-based smartphones.\"])))) #Tech short description"
      ],
      "metadata": {
        "colab": {
          "base_uri": "https://localhost:8080/"
        },
        "outputId": "169754d0-dbd5-439c-b148-91a761ce3eda",
        "id": "wNgImMSaypJ3"
      },
      "execution_count": null,
      "outputs": [
        {
          "output_type": "execute_result",
          "data": {
            "text/plain": [
              "['ENTERTAINMENT']"
            ]
          },
          "metadata": {},
          "execution_count": 133
        }
      ]
    },
    {
      "cell_type": "code",
      "source": [
        "list(lbl.inverse_transform(count_model.predict(countVectorizer.transform([\"Austria and Germany have both announced plans to relax Covid-19 measures, weeks after pushing for compulsory vaccinations to curb infections.\"])))) #World News"
      ],
      "metadata": {
        "colab": {
          "base_uri": "https://localhost:8080/"
        },
        "outputId": "fbe8e998-d7a5-463c-8c15-284c1c68aec9",
        "id": "9rdoM_zbypJ4"
      },
      "execution_count": null,
      "outputs": [
        {
          "output_type": "execute_result",
          "data": {
            "text/plain": [
              "['ENTERTAINMENT']"
            ]
          },
          "metadata": {},
          "execution_count": 134
        }
      ]
    },
    {
      "cell_type": "code",
      "source": [
        "list(lbl.inverse_transform(count_model.predict(countVectorizer.transform(['EUROPE Soldier abused for being gay told to provide intimate pictures to prove his sexuality'])))) #Queer News"
      ],
      "metadata": {
        "colab": {
          "base_uri": "https://localhost:8080/"
        },
        "outputId": "20b837c1-7697-48f6-a96c-ffa6aa1c438b",
        "id": "kHQq66LaypJ4"
      },
      "execution_count": null,
      "outputs": [
        {
          "output_type": "execute_result",
          "data": {
            "text/plain": [
              "['QUEER VOICES']"
            ]
          },
          "metadata": {},
          "execution_count": 135
        }
      ]
    },
    {
      "cell_type": "markdown",
      "source": [
        "Here our model predicts a wrong category, lets try providing the description in the following line"
      ],
      "metadata": {
        "id": "tcJ-CfB-ypJ4"
      }
    },
    {
      "cell_type": "code",
      "source": [
        "list(lbl.inverse_transform(count_model.predict(countVectorizer.transform(['Five healthy ways to discipline children'])))) #Parenting News"
      ],
      "metadata": {
        "colab": {
          "base_uri": "https://localhost:8080/"
        },
        "outputId": "421ac9ae-940d-45b3-f85b-3fefcbfed75f",
        "id": "Gvzo1trGypJ4"
      },
      "execution_count": null,
      "outputs": [
        {
          "output_type": "execute_result",
          "data": {
            "text/plain": [
              "['PARENTS']"
            ]
          },
          "metadata": {},
          "execution_count": 136
        }
      ]
    },
    {
      "cell_type": "markdown",
      "source": [
        "Still a wrong prediction, lets try combining both the headline and descripton"
      ],
      "metadata": {
        "id": "Ds2V3RuiypJ4"
      }
    },
    {
      "cell_type": "code",
      "source": [
        "list(lbl.inverse_transform(count_model.predict(countVectorizer.transform(['A positive disciplining strategy can help develop a positive relationship and set expectations based on the behavioral outcomes, says an expert.']))))"
      ],
      "metadata": {
        "colab": {
          "base_uri": "https://localhost:8080/"
        },
        "outputId": "5a5cce91-8cdc-44a2-8880-7e3794088d70",
        "id": "R2mRqt_mypJ4"
      },
      "execution_count": null,
      "outputs": [
        {
          "output_type": "execute_result",
          "data": {
            "text/plain": [
              "['WELLNESS']"
            ]
          },
          "metadata": {},
          "execution_count": 137
        }
      ]
    },
    {
      "cell_type": "markdown",
      "source": [
        "Still wrong, here we can see our model is not 100% accurate."
      ],
      "metadata": {
        "id": "JyOrPV8xypJ4"
      }
    },
    {
      "cell_type": "code",
      "source": [
        "list(lbl.inverse_transform(count_model.predict(countVectorizer.transform(['Five healthy ways to discipline children A positive disciplining strategy can help develop a positive relationship and set expectations based on the behavioral outcomes, says an expert.']))))"
      ],
      "metadata": {
        "colab": {
          "base_uri": "https://localhost:8080/"
        },
        "outputId": "ffe2417e-5cd3-424f-a61b-b95de903de30",
        "id": "drKiXbPPypJ5"
      },
      "execution_count": null,
      "outputs": [
        {
          "output_type": "execute_result",
          "data": {
            "text/plain": [
              "['WELLNESS']"
            ]
          },
          "metadata": {},
          "execution_count": 138
        }
      ]
    },
    {
      "cell_type": "markdown",
      "source": [
        "# Hash Vectorizing Paired With Gradient Boosting Classifer"
      ],
      "metadata": {
        "id": "vrpOCf-ay5Qo"
      }
    },
    {
      "cell_type": "code",
      "source": [
        "list(lbl.inverse_transform(hash_model.predict(hash_vectorizer.transform([\"Texas sues Biden administration to stop mask mandates on planes – as it happened\"])))) #Poltical headline"
      ],
      "metadata": {
        "colab": {
          "base_uri": "https://localhost:8080/"
        },
        "outputId": "614f7376-8d8f-431e-b73c-ecd2a5c7441a",
        "id": "qSzXffYmy5Qp"
      },
      "execution_count": null,
      "outputs": [
        {
          "output_type": "execute_result",
          "data": {
            "text/plain": [
              "['ENTERTAINMENT']"
            ]
          },
          "metadata": {},
          "execution_count": 139
        }
      ]
    },
    {
      "cell_type": "code",
      "source": [
        "list(lbl.inverse_transform(hash_model.predict(hash_vectorizer.transform([\"Google moves to make Android apps more private\"])))) #Tech headline"
      ],
      "metadata": {
        "colab": {
          "base_uri": "https://localhost:8080/"
        },
        "outputId": "bf01de4e-ca46-47cb-9d29-0dfeb30c5a47",
        "id": "2Ki8XnF1y5Qp"
      },
      "execution_count": null,
      "outputs": [
        {
          "output_type": "execute_result",
          "data": {
            "text/plain": [
              "['TECH']"
            ]
          },
          "metadata": {},
          "execution_count": 140
        }
      ]
    },
    {
      "cell_type": "code",
      "source": [
        "list(lbl.inverse_transform(hash_model.predict(hash_vectorizer.transform([\"Googles plan to limit data tracking on its Chrome browser has been extended to cover apps on its Android-based smartphones.\"])))) #Tech short description"
      ],
      "metadata": {
        "colab": {
          "base_uri": "https://localhost:8080/"
        },
        "outputId": "295ae8ce-261f-4bbf-8a05-fbc8eae78519",
        "id": "-tMY-a1sy5Qp"
      },
      "execution_count": null,
      "outputs": [
        {
          "output_type": "execute_result",
          "data": {
            "text/plain": [
              "['TECH']"
            ]
          },
          "metadata": {},
          "execution_count": 141
        }
      ]
    },
    {
      "cell_type": "code",
      "source": [
        "list(lbl.inverse_transform(hash_model.predict(hash_vectorizer.transform([\"Austria and Germany have both announced plans to relax Covid-19 measures, weeks after pushing for compulsory vaccinations to curb infections.\"])))) #World News"
      ],
      "metadata": {
        "colab": {
          "base_uri": "https://localhost:8080/"
        },
        "outputId": "a367c2cf-2263-4699-9806-f29b1334374d",
        "id": "fponqfaky5Qp"
      },
      "execution_count": null,
      "outputs": [
        {
          "output_type": "execute_result",
          "data": {
            "text/plain": [
              "['ENTERTAINMENT']"
            ]
          },
          "metadata": {},
          "execution_count": 142
        }
      ]
    },
    {
      "cell_type": "code",
      "source": [
        "list(lbl.inverse_transform(hash_model.predict(hash_vectorizer.transform(['EUROPE Soldier abused for being gay told to provide intimate pictures to prove his sexuality'])))) #Queer News"
      ],
      "metadata": {
        "colab": {
          "base_uri": "https://localhost:8080/"
        },
        "outputId": "dc8e0fb3-e979-4992-bbc3-edb4294bd277",
        "id": "-GCIzcO6y5Qp"
      },
      "execution_count": null,
      "outputs": [
        {
          "output_type": "execute_result",
          "data": {
            "text/plain": [
              "['QUEER VOICES']"
            ]
          },
          "metadata": {},
          "execution_count": 143
        }
      ]
    },
    {
      "cell_type": "markdown",
      "source": [
        "Here our model predicts a wrong category, lets try providing the description in the following line"
      ],
      "metadata": {
        "id": "X3iYEMBzy5Qp"
      }
    },
    {
      "cell_type": "code",
      "source": [
        "list(lbl.inverse_transform(hash_model.predict(hash_vectorizer.transform(['Five healthy ways to discipline children'])))) #Parenting News"
      ],
      "metadata": {
        "colab": {
          "base_uri": "https://localhost:8080/"
        },
        "outputId": "6a2f8509-c04e-43f6-d430-e0c083f4da1f",
        "id": "3SEIj9VHy5Qp"
      },
      "execution_count": null,
      "outputs": [
        {
          "output_type": "execute_result",
          "data": {
            "text/plain": [
              "['PARENTS']"
            ]
          },
          "metadata": {},
          "execution_count": 144
        }
      ]
    },
    {
      "cell_type": "markdown",
      "source": [
        "Still a wrong prediction, lets try combining both the headline and descripton"
      ],
      "metadata": {
        "id": "E4p97U8uy5Qp"
      }
    },
    {
      "cell_type": "code",
      "source": [
        "list(lbl.inverse_transform(hash_model.predict(hash_vectorizer.transform(['A positive disciplining strategy can help develop a positive relationship and set expectations based on the behavioral outcomes, says an expert.']))))"
      ],
      "metadata": {
        "colab": {
          "base_uri": "https://localhost:8080/"
        },
        "outputId": "babbbb14-3327-47d1-ab2d-e4dd72283c5f",
        "id": "JHqiLhOLy5Qq"
      },
      "execution_count": null,
      "outputs": [
        {
          "output_type": "execute_result",
          "data": {
            "text/plain": [
              "['WELLNESS']"
            ]
          },
          "metadata": {},
          "execution_count": 145
        }
      ]
    },
    {
      "cell_type": "markdown",
      "source": [
        "Still wrong, here we can see our model is not 100% accurate."
      ],
      "metadata": {
        "id": "DTGe9B5xy5Qq"
      }
    },
    {
      "cell_type": "code",
      "source": [
        "list(lbl.inverse_transform(hash_model.predict(hash_vectorizer.transform(['Five healthy ways to discipline children A positive disciplining strategy can help develop a positive relationship and set expectations based on the behavioral outcomes, says an expert.']))))"
      ],
      "metadata": {
        "colab": {
          "base_uri": "https://localhost:8080/"
        },
        "outputId": "f8306ca5-5a00-467d-a871-c93c9b6fff4a",
        "id": "I0QHV55jy5Qq"
      },
      "execution_count": null,
      "outputs": [
        {
          "output_type": "execute_result",
          "data": {
            "text/plain": [
              "['WELLNESS']"
            ]
          },
          "metadata": {},
          "execution_count": 146
        }
      ]
    },
    {
      "cell_type": "markdown",
      "source": [
        "# Naive Bayes\n"
      ],
      "metadata": {
        "id": "PHExkI_0YYuv"
      }
    },
    {
      "cell_type": "code",
      "source": [
        "from sklearn.naive_bayes import MultinomialNB"
      ],
      "metadata": {
        "id": "IHjSVa7GoEmW"
      },
      "execution_count": null,
      "outputs": []
    },
    {
      "cell_type": "code",
      "source": [
        "def NaiveModelHyperParams(input, vector, vectorizerName,round, **params):\n",
        "    model = MultinomialNB(**params) #**params for tuning the MultinomialNB model\n",
        "    model.fit(input, train_targets.values.ravel()) #Fitting the model \n",
        "    print(\"Training set score: {:.5f}\".format(model.score(input, train_targets.values.ravel()))) #Predictions for training set\n",
        "    valvector = vector.transform(val_df.combined) #Transforming the validation data for predictions\n",
        "    print(\"Validation set score: {:.5f}\\n\".format(model.score(valvector, val_targets.values.ravel()))) #Predictions for validation set\n",
        "    Naive_history.append({\"train_score\":model.score(input, train_targets.values.ravel()), \"val_score\":model.score(valvector, val_targets.values.ravel()), \"vectorizer\":vectorizerName, \"round\":round})\n",
        "    return model"
      ],
      "metadata": {
        "id": "FDnkdWaYxvbU"
      },
      "execution_count": null,
      "outputs": []
    },
    {
      "cell_type": "code",
      "source": [
        "from sklearn.preprocessing import MaxAbsScaler\n",
        "def NaiveTuning():\n",
        "  range = increment(4000)\n",
        "  counter = 1;\n",
        "  hash_features = [10, 15, 20]\n",
        "  for i in range:\n",
        "    clean, tfidf_vectorizer = TFIDF_vectorizer(lowercase=True, max_df=0.80, max_features= i, ngram_range=(1,3), stop_words = stop) #Setting the parameters for TFIDF vectorizing\n",
        "    print(\"\\nRound {}:\\nMax_features = {}\\nVectorizer = TFIDF\".format(counter, i))  #Displaying the round/epoch and the current parameters\n",
        "    tfidf_model = NaiveModelHyperParams(input = clean, vector = tfidf_vectorizer, vectorizerName=\"tfidf\", round=counter)  #Setting the MultinomailNB model parameters\n",
        "    \n",
        "    clean, countVectorizer = count_vectorizer(lowercase=True, max_df=0.80, max_features= i, ngram_range=(1,3), stop_words = stop) #Setting the parameters for Count vectorizing\n",
        "    print(\"\\nRound {}:\\nMax_features = {}\\nVectorizer = Count Vectorizing\".format(counter, i))  #Displaying the round/epoch and the current parameters\n",
        "    count_model = NaiveModelHyperParams(input = clean, vector = countVectorizer, vectorizerName=\"countvectorizer\", round=counter)  #Setting the MultinomailNB model parameters\n",
        "    \n",
        "    clean, hash_vectorizer = hashing_vectorizer(lowercase=True, stop_words = stop,ngram_range=(1,3),n_features = 2**hash_features[counter - 1], binary=True) #Setting the parameters for Hash vectorizing\n",
        "    print(\"\\nRound {}:\\nMax_features = {}\\nVectorizer = Hash Vectorizing\".format(counter, 2**hash_features[counter - 1])) #Displaying the round/epoch and the current parameters\n",
        "    scaler = MaxAbsScaler()\n",
        "    X_train = scaler.fit_transform(clean)\n",
        "   # X_test = scaler.transform(X_test)\n",
        "    hash_model = NaiveModelHyperParams(input = X_train, vector = hash_vectorizer,vectorizerName = \"hashingvectorizer\", round=counter) #Setting the MultinomialNB parameters\n",
        "\n",
        "    counter += 1;\n",
        "  return tfidf_model, count_model, hash_model, tfidf_vectorizer, countVectorizer, hash_vectorizer"
      ],
      "metadata": {
        "id": "yp3hhgJ8x5KH"
      },
      "execution_count": null,
      "outputs": []
    },
    {
      "cell_type": "markdown",
      "source": [
        "**Max_features in the TFIDF vectorizer seems to play a big part in the models predictions. Previous testing showed that tuning the RandomForestClassifier showed little to no difference in the accuracy of the model**"
      ],
      "metadata": {
        "id": "qkRl6hDjJDn3"
      }
    },
    {
      "cell_type": "code",
      "source": [
        "%%time\n",
        "Naive_history = []\n",
        "tfidf_model, count_model, hash_model, tfidf_vectorizer, countVectorizer, hash_vectorizer = NaiveTuning()"
      ],
      "metadata": {
        "colab": {
          "base_uri": "https://localhost:8080/"
        },
        "id": "3IVRA4_PyVZP",
        "outputId": "9d6f037a-e907-4f97-aa0d-ea1999b7c0de"
      },
      "execution_count": null,
      "outputs": [
        {
          "output_type": "stream",
          "name": "stdout",
          "text": [
            "\n",
            "Round 1:\n",
            "Max_features = 4000\n",
            "Vectorizer = TFIDF\n",
            "Training set score: 0.65570\n",
            "Validation set score: 0.63288\n",
            "\n",
            "\n",
            "Round 1:\n",
            "Max_features = 4000\n",
            "Vectorizer = Count Vectorizing\n",
            "Training set score: 0.66492\n",
            "Validation set score: 0.63623\n",
            "\n",
            "\n",
            "Round 1:\n",
            "Max_features = 1024\n",
            "Vectorizer = Hash Vectorizing\n",
            "Training set score: 0.38109\n",
            "Validation set score: 0.29583\n",
            "\n",
            "\n",
            "Round 2:\n",
            "Max_features = 8000\n",
            "Vectorizer = TFIDF\n",
            "Training set score: 0.67969\n",
            "Validation set score: 0.64968\n",
            "\n",
            "\n",
            "Round 2:\n",
            "Max_features = 8000\n",
            "Vectorizer = Count Vectorizing\n",
            "Training set score: 0.69781\n",
            "Validation set score: 0.65737\n",
            "\n",
            "\n",
            "Round 2:\n",
            "Max_features = 32768\n",
            "Vectorizer = Hash Vectorizing\n",
            "Training set score: 0.81283\n",
            "Validation set score: 0.52945\n",
            "\n",
            "\n",
            "Round 3:\n",
            "Max_features = 16000\n",
            "Vectorizer = TFIDF\n",
            "Training set score: 0.69257\n",
            "Validation set score: 0.65327\n",
            "\n",
            "\n",
            "Round 3:\n",
            "Max_features = 16000\n",
            "Vectorizer = Count Vectorizing\n",
            "Training set score: 0.73219\n",
            "Validation set score: 0.67561\n",
            "\n",
            "\n",
            "Round 3:\n",
            "Max_features = 1048576\n",
            "Vectorizer = Hash Vectorizing\n",
            "Training set score: 0.96225\n",
            "Validation set score: 0.53419\n",
            "\n",
            "CPU times: total: 4min 35s\n",
            "Wall time: 4min 37s\n"
          ]
        }
      ]
    },
    {
      "cell_type": "code",
      "source": [
        "Naive_history"
      ],
      "metadata": {
        "colab": {
          "base_uri": "https://localhost:8080/"
        },
        "id": "gpPv0uyhiQUh",
        "outputId": "c47670e1-5623-40b8-ab55-ddf2f17e28e3"
      },
      "execution_count": null,
      "outputs": [
        {
          "output_type": "execute_result",
          "data": {
            "text/plain": [
              "[{'train_score': 0.6557027922385235,\n",
              "  'val_score': 0.6328769140164899,\n",
              "  'vectorizer': 'tfidf',\n",
              "  'round': 1},\n",
              " {'train_score': 0.6649156018299416,\n",
              "  'val_score': 0.6362264428739693,\n",
              "  'vectorizer': 'countvectorizer',\n",
              "  'round': 1},\n",
              " {'train_score': 0.38109323237103643,\n",
              "  'val_score': 0.29582597173144876,\n",
              "  'vectorizer': 'hashingvectorizer',\n",
              "  'round': 1},\n",
              " {'train_score': 0.6796892254298785,\n",
              "  'val_score': 0.6496797703180212,\n",
              "  'vectorizer': 'tfidf',\n",
              "  'round': 2},\n",
              " {'train_score': 0.6978072251143713,\n",
              "  'val_score': 0.657372644287397,\n",
              "  'vectorizer': 'countvectorizer',\n",
              "  'round': 2},\n",
              " {'train_score': 0.8128253667770942,\n",
              "  'val_score': 0.5294464075382803,\n",
              "  'vectorizer': 'hashingvectorizer',\n",
              "  'round': 2},\n",
              " {'train_score': 0.6925698059630857,\n",
              "  'val_score': 0.6532685512367491,\n",
              "  'vectorizer': 'tfidf',\n",
              "  'round': 3},\n",
              " {'train_score': 0.7321896198138508,\n",
              "  'val_score': 0.6756110129564193,\n",
              "  'vectorizer': 'countvectorizer',\n",
              "  'round': 3},\n",
              " {'train_score': 0.9622495661776306,\n",
              "  'val_score': 0.534194640753828,\n",
              "  'vectorizer': 'hashingvectorizer',\n",
              "  'round': 3}]"
            ]
          },
          "metadata": {},
          "execution_count": 218
        }
      ]
    },
    {
      "cell_type": "code",
      "source": [
        "train_score_tfidf = []\n",
        "val_score_tfidf = []\n",
        "round_tfidf =[]\n",
        "train_score_count = []\n",
        "val_score_count = []\n",
        "round_count =[]\n",
        "train_score_hashing = []\n",
        "val_score_hashing = []\n",
        "round_hashing =[]\n",
        "vectorizer_model = []\n",
        "\n",
        "\n",
        "\n",
        "for x in Naive_history:\n",
        "  if(x[\"vectorizer\"]==\"tfidf\"):\n",
        "    train_score_tfidf.append(x[\"train_score\"])\n",
        "    val_score_tfidf.append(x[\"val_score\"])\n",
        "    round_tfidf.append(x[\"round\"])\n",
        "\n",
        "  if(x[\"vectorizer\"]==\"countvectorizer\"):\n",
        "    train_score_count.append(x[\"train_score\"])\n",
        "    val_score_count.append(x[\"val_score\"])\n",
        "    round_count.append(x[\"round\"])\n",
        "    \n",
        "  if(x[\"vectorizer\"]==\"hashingvectorizer\"):\n",
        "    train_score_hashing.append(x[\"train_score\"])\n",
        "    val_score_hashing.append(x[\"val_score\"])\n",
        "    round_hashing.append(x[\"round\"])\n",
        "    \n",
        "  vectorizer_model.append(x[\"vectorizer\"])\n",
        "\n",
        "  \n",
        "plt.figure(figsize=(36,12))\n",
        "fig = go.Figure()\n",
        "\n",
        "#TFIDF Results\n",
        "fig.add_trace(go.Scatter(\n",
        "    x=round_tfidf,\n",
        "    y=train_score_tfidf,\n",
        "    name= \"TFIDF Training Accuracy\"\n",
        "))\n",
        "\n",
        "\n",
        "fig.add_trace(go.Scatter(\n",
        "    x=round_tfidf,\n",
        "    y=val_score_tfidf,\n",
        "    name=\"TFIDF Validation Accuracy\"\n",
        "))\n",
        "\n",
        "#Count Vectorizer Results\n",
        "\n",
        "fig.add_trace(go.Scatter(\n",
        "    x=round_count,\n",
        "    y=train_score_count,\n",
        "    name= \"Count Vectorizer Train Accuracy\"\n",
        "))\n",
        "\n",
        "\n",
        "fig.add_trace(go.Scatter(\n",
        "    x=round_count,\n",
        "    y=val_score_count,\n",
        "    name=\"Count Vectorizer Validation Accuracy\"\n",
        "))\n",
        "\n",
        "#Hashing Vectorizer Results\n",
        "\n",
        "fig.add_trace(go.Scatter(\n",
        "    x=round_hashing,\n",
        "    y=train_score_hashing,\n",
        "    name= \"Hash Vectorizer Train Accuracy\"\n",
        "))\n",
        "\n",
        "\n",
        "fig.add_trace(go.Scatter(\n",
        "    x=round_hashing,\n",
        "    y=val_score_hashing,\n",
        "    name=\"Hash Vectorizer Validation Accuracy\"\n",
        "))\n",
        "\n",
        "fig.update_layout(\n",
        "    title=\"MultinomialNB Model Accuracy\",\n",
        "    xaxis_title=\"Round\",\n",
        "    yaxis_title=\"Accuracy (%)\",\n",
        "    legend_title=\"Vectorzing Technique Accuracies\",\n",
        ")\n",
        "\n",
        "fig.show(renderer=\"colab\");"
      ],
      "metadata": {
        "colab": {
          "base_uri": "https://localhost:8080/",
          "height": 560
        },
        "id": "iwQNNX7V84Ho",
        "outputId": "88aa9612-3c1d-47ec-b02c-08d0993a6e22"
      },
      "execution_count": null,
      "outputs": [
        {
          "output_type": "display_data",
          "data": {
            "text/html": [
              "<html>\n",
              "<head><meta charset=\"utf-8\" /></head>\n",
              "<body>\n",
              "    <div>            <script src=\"https://cdnjs.cloudflare.com/ajax/libs/mathjax/2.7.5/MathJax.js?config=TeX-AMS-MML_SVG\"></script><script type=\"text/javascript\">if (window.MathJax) {MathJax.Hub.Config({SVG: {font: \"STIX-Web\"}});}</script>                <script type=\"text/javascript\">window.PlotlyConfig = {MathJaxConfig: 'local'};</script>\n",
              "        <script src=\"https://cdn.plot.ly/plotly-2.9.0.min.js\"></script>                <div id=\"991cdb5c-68b7-44de-9c6b-52fce2d1c2e1\" class=\"plotly-graph-div\" style=\"height:525px; width:100%;\"></div>            <script type=\"text/javascript\">                                    window.PLOTLYENV=window.PLOTLYENV || {};                                    if (document.getElementById(\"991cdb5c-68b7-44de-9c6b-52fce2d1c2e1\")) {                    Plotly.newPlot(                        \"991cdb5c-68b7-44de-9c6b-52fce2d1c2e1\",                        [{\"name\":\"TFIDF Training Accuracy\",\"x\":[1,2,3],\"y\":[0.6557027922385235,0.6796892254298785,0.6925698059630857],\"type\":\"scatter\"},{\"name\":\"TFIDF Validation Accuracy\",\"x\":[1,2,3],\"y\":[0.6328769140164899,0.6496797703180212,0.6532685512367491],\"type\":\"scatter\"},{\"name\":\"Count Vectorizer Train Accuracy\",\"x\":[1,2,3],\"y\":[0.6649156018299416,0.6978072251143713,0.7321896198138508],\"type\":\"scatter\"},{\"name\":\"Count Vectorizer Validation Accuracy\",\"x\":[1,2,3],\"y\":[0.6362264428739693,0.657372644287397,0.6756110129564193],\"type\":\"scatter\"},{\"name\":\"Hash Vectorizer Train Accuracy\",\"x\":[1,2,3],\"y\":[0.38109323237103643,0.8128253667770942,0.9622495661776306],\"type\":\"scatter\"},{\"name\":\"Hash Vectorizer Validation Accuracy\",\"x\":[1,2,3],\"y\":[0.29582597173144876,0.5294464075382803,0.534194640753828],\"type\":\"scatter\"}],                        {\"template\":{\"data\":{\"bar\":[{\"error_x\":{\"color\":\"#2a3f5f\"},\"error_y\":{\"color\":\"#2a3f5f\"},\"marker\":{\"line\":{\"color\":\"#E5ECF6\",\"width\":0.5},\"pattern\":{\"fillmode\":\"overlay\",\"size\":10,\"solidity\":0.2}},\"type\":\"bar\"}],\"barpolar\":[{\"marker\":{\"line\":{\"color\":\"#E5ECF6\",\"width\":0.5},\"pattern\":{\"fillmode\":\"overlay\",\"size\":10,\"solidity\":0.2}},\"type\":\"barpolar\"}],\"carpet\":[{\"aaxis\":{\"endlinecolor\":\"#2a3f5f\",\"gridcolor\":\"white\",\"linecolor\":\"white\",\"minorgridcolor\":\"white\",\"startlinecolor\":\"#2a3f5f\"},\"baxis\":{\"endlinecolor\":\"#2a3f5f\",\"gridcolor\":\"white\",\"linecolor\":\"white\",\"minorgridcolor\":\"white\",\"startlinecolor\":\"#2a3f5f\"},\"type\":\"carpet\"}],\"choropleth\":[{\"colorbar\":{\"outlinewidth\":0,\"ticks\":\"\"},\"type\":\"choropleth\"}],\"contour\":[{\"colorbar\":{\"outlinewidth\":0,\"ticks\":\"\"},\"colorscale\":[[0.0,\"#0d0887\"],[0.1111111111111111,\"#46039f\"],[0.2222222222222222,\"#7201a8\"],[0.3333333333333333,\"#9c179e\"],[0.4444444444444444,\"#bd3786\"],[0.5555555555555556,\"#d8576b\"],[0.6666666666666666,\"#ed7953\"],[0.7777777777777778,\"#fb9f3a\"],[0.8888888888888888,\"#fdca26\"],[1.0,\"#f0f921\"]],\"type\":\"contour\"}],\"contourcarpet\":[{\"colorbar\":{\"outlinewidth\":0,\"ticks\":\"\"},\"type\":\"contourcarpet\"}],\"heatmap\":[{\"colorbar\":{\"outlinewidth\":0,\"ticks\":\"\"},\"colorscale\":[[0.0,\"#0d0887\"],[0.1111111111111111,\"#46039f\"],[0.2222222222222222,\"#7201a8\"],[0.3333333333333333,\"#9c179e\"],[0.4444444444444444,\"#bd3786\"],[0.5555555555555556,\"#d8576b\"],[0.6666666666666666,\"#ed7953\"],[0.7777777777777778,\"#fb9f3a\"],[0.8888888888888888,\"#fdca26\"],[1.0,\"#f0f921\"]],\"type\":\"heatmap\"}],\"heatmapgl\":[{\"colorbar\":{\"outlinewidth\":0,\"ticks\":\"\"},\"colorscale\":[[0.0,\"#0d0887\"],[0.1111111111111111,\"#46039f\"],[0.2222222222222222,\"#7201a8\"],[0.3333333333333333,\"#9c179e\"],[0.4444444444444444,\"#bd3786\"],[0.5555555555555556,\"#d8576b\"],[0.6666666666666666,\"#ed7953\"],[0.7777777777777778,\"#fb9f3a\"],[0.8888888888888888,\"#fdca26\"],[1.0,\"#f0f921\"]],\"type\":\"heatmapgl\"}],\"histogram\":[{\"marker\":{\"pattern\":{\"fillmode\":\"overlay\",\"size\":10,\"solidity\":0.2}},\"type\":\"histogram\"}],\"histogram2d\":[{\"colorbar\":{\"outlinewidth\":0,\"ticks\":\"\"},\"colorscale\":[[0.0,\"#0d0887\"],[0.1111111111111111,\"#46039f\"],[0.2222222222222222,\"#7201a8\"],[0.3333333333333333,\"#9c179e\"],[0.4444444444444444,\"#bd3786\"],[0.5555555555555556,\"#d8576b\"],[0.6666666666666666,\"#ed7953\"],[0.7777777777777778,\"#fb9f3a\"],[0.8888888888888888,\"#fdca26\"],[1.0,\"#f0f921\"]],\"type\":\"histogram2d\"}],\"histogram2dcontour\":[{\"colorbar\":{\"outlinewidth\":0,\"ticks\":\"\"},\"colorscale\":[[0.0,\"#0d0887\"],[0.1111111111111111,\"#46039f\"],[0.2222222222222222,\"#7201a8\"],[0.3333333333333333,\"#9c179e\"],[0.4444444444444444,\"#bd3786\"],[0.5555555555555556,\"#d8576b\"],[0.6666666666666666,\"#ed7953\"],[0.7777777777777778,\"#fb9f3a\"],[0.8888888888888888,\"#fdca26\"],[1.0,\"#f0f921\"]],\"type\":\"histogram2dcontour\"}],\"mesh3d\":[{\"colorbar\":{\"outlinewidth\":0,\"ticks\":\"\"},\"type\":\"mesh3d\"}],\"parcoords\":[{\"line\":{\"colorbar\":{\"outlinewidth\":0,\"ticks\":\"\"}},\"type\":\"parcoords\"}],\"pie\":[{\"automargin\":true,\"type\":\"pie\"}],\"scatter\":[{\"marker\":{\"colorbar\":{\"outlinewidth\":0,\"ticks\":\"\"}},\"type\":\"scatter\"}],\"scatter3d\":[{\"line\":{\"colorbar\":{\"outlinewidth\":0,\"ticks\":\"\"}},\"marker\":{\"colorbar\":{\"outlinewidth\":0,\"ticks\":\"\"}},\"type\":\"scatter3d\"}],\"scattercarpet\":[{\"marker\":{\"colorbar\":{\"outlinewidth\":0,\"ticks\":\"\"}},\"type\":\"scattercarpet\"}],\"scattergeo\":[{\"marker\":{\"colorbar\":{\"outlinewidth\":0,\"ticks\":\"\"}},\"type\":\"scattergeo\"}],\"scattergl\":[{\"marker\":{\"colorbar\":{\"outlinewidth\":0,\"ticks\":\"\"}},\"type\":\"scattergl\"}],\"scattermapbox\":[{\"marker\":{\"colorbar\":{\"outlinewidth\":0,\"ticks\":\"\"}},\"type\":\"scattermapbox\"}],\"scatterpolar\":[{\"marker\":{\"colorbar\":{\"outlinewidth\":0,\"ticks\":\"\"}},\"type\":\"scatterpolar\"}],\"scatterpolargl\":[{\"marker\":{\"colorbar\":{\"outlinewidth\":0,\"ticks\":\"\"}},\"type\":\"scatterpolargl\"}],\"scatterternary\":[{\"marker\":{\"colorbar\":{\"outlinewidth\":0,\"ticks\":\"\"}},\"type\":\"scatterternary\"}],\"surface\":[{\"colorbar\":{\"outlinewidth\":0,\"ticks\":\"\"},\"colorscale\":[[0.0,\"#0d0887\"],[0.1111111111111111,\"#46039f\"],[0.2222222222222222,\"#7201a8\"],[0.3333333333333333,\"#9c179e\"],[0.4444444444444444,\"#bd3786\"],[0.5555555555555556,\"#d8576b\"],[0.6666666666666666,\"#ed7953\"],[0.7777777777777778,\"#fb9f3a\"],[0.8888888888888888,\"#fdca26\"],[1.0,\"#f0f921\"]],\"type\":\"surface\"}],\"table\":[{\"cells\":{\"fill\":{\"color\":\"#EBF0F8\"},\"line\":{\"color\":\"white\"}},\"header\":{\"fill\":{\"color\":\"#C8D4E3\"},\"line\":{\"color\":\"white\"}},\"type\":\"table\"}]},\"layout\":{\"annotationdefaults\":{\"arrowcolor\":\"#2a3f5f\",\"arrowhead\":0,\"arrowwidth\":1},\"autotypenumbers\":\"strict\",\"coloraxis\":{\"colorbar\":{\"outlinewidth\":0,\"ticks\":\"\"}},\"colorscale\":{\"diverging\":[[0,\"#8e0152\"],[0.1,\"#c51b7d\"],[0.2,\"#de77ae\"],[0.3,\"#f1b6da\"],[0.4,\"#fde0ef\"],[0.5,\"#f7f7f7\"],[0.6,\"#e6f5d0\"],[0.7,\"#b8e186\"],[0.8,\"#7fbc41\"],[0.9,\"#4d9221\"],[1,\"#276419\"]],\"sequential\":[[0.0,\"#0d0887\"],[0.1111111111111111,\"#46039f\"],[0.2222222222222222,\"#7201a8\"],[0.3333333333333333,\"#9c179e\"],[0.4444444444444444,\"#bd3786\"],[0.5555555555555556,\"#d8576b\"],[0.6666666666666666,\"#ed7953\"],[0.7777777777777778,\"#fb9f3a\"],[0.8888888888888888,\"#fdca26\"],[1.0,\"#f0f921\"]],\"sequentialminus\":[[0.0,\"#0d0887\"],[0.1111111111111111,\"#46039f\"],[0.2222222222222222,\"#7201a8\"],[0.3333333333333333,\"#9c179e\"],[0.4444444444444444,\"#bd3786\"],[0.5555555555555556,\"#d8576b\"],[0.6666666666666666,\"#ed7953\"],[0.7777777777777778,\"#fb9f3a\"],[0.8888888888888888,\"#fdca26\"],[1.0,\"#f0f921\"]]},\"colorway\":[\"#636efa\",\"#EF553B\",\"#00cc96\",\"#ab63fa\",\"#FFA15A\",\"#19d3f3\",\"#FF6692\",\"#B6E880\",\"#FF97FF\",\"#FECB52\"],\"font\":{\"color\":\"#2a3f5f\"},\"geo\":{\"bgcolor\":\"white\",\"lakecolor\":\"white\",\"landcolor\":\"#E5ECF6\",\"showlakes\":true,\"showland\":true,\"subunitcolor\":\"white\"},\"hoverlabel\":{\"align\":\"left\"},\"hovermode\":\"closest\",\"mapbox\":{\"style\":\"light\"},\"paper_bgcolor\":\"white\",\"plot_bgcolor\":\"#E5ECF6\",\"polar\":{\"angularaxis\":{\"gridcolor\":\"white\",\"linecolor\":\"white\",\"ticks\":\"\"},\"bgcolor\":\"#E5ECF6\",\"radialaxis\":{\"gridcolor\":\"white\",\"linecolor\":\"white\",\"ticks\":\"\"}},\"scene\":{\"xaxis\":{\"backgroundcolor\":\"#E5ECF6\",\"gridcolor\":\"white\",\"gridwidth\":2,\"linecolor\":\"white\",\"showbackground\":true,\"ticks\":\"\",\"zerolinecolor\":\"white\"},\"yaxis\":{\"backgroundcolor\":\"#E5ECF6\",\"gridcolor\":\"white\",\"gridwidth\":2,\"linecolor\":\"white\",\"showbackground\":true,\"ticks\":\"\",\"zerolinecolor\":\"white\"},\"zaxis\":{\"backgroundcolor\":\"#E5ECF6\",\"gridcolor\":\"white\",\"gridwidth\":2,\"linecolor\":\"white\",\"showbackground\":true,\"ticks\":\"\",\"zerolinecolor\":\"white\"}},\"shapedefaults\":{\"line\":{\"color\":\"#2a3f5f\"}},\"ternary\":{\"aaxis\":{\"gridcolor\":\"white\",\"linecolor\":\"white\",\"ticks\":\"\"},\"baxis\":{\"gridcolor\":\"white\",\"linecolor\":\"white\",\"ticks\":\"\"},\"bgcolor\":\"#E5ECF6\",\"caxis\":{\"gridcolor\":\"white\",\"linecolor\":\"white\",\"ticks\":\"\"}},\"title\":{\"x\":0.05},\"xaxis\":{\"automargin\":true,\"gridcolor\":\"white\",\"linecolor\":\"white\",\"ticks\":\"\",\"title\":{\"standoff\":15},\"zerolinecolor\":\"white\",\"zerolinewidth\":2},\"yaxis\":{\"automargin\":true,\"gridcolor\":\"white\",\"linecolor\":\"white\",\"ticks\":\"\",\"title\":{\"standoff\":15},\"zerolinecolor\":\"white\",\"zerolinewidth\":2}}},\"title\":{\"text\":\"MultinomialNB Model Accuracy\"},\"xaxis\":{\"title\":{\"text\":\"Round\"}},\"yaxis\":{\"title\":{\"text\":\"Accuracy (%)\"}},\"legend\":{\"title\":{\"text\":\"Vectorzing Technique Accuracies\"}}},                        {\"responsive\": true}                    ).then(function(){\n",
              "                            \n",
              "var gd = document.getElementById('991cdb5c-68b7-44de-9c6b-52fce2d1c2e1');\n",
              "var x = new MutationObserver(function (mutations, observer) {{\n",
              "        var display = window.getComputedStyle(gd).display;\n",
              "        if (!display || display === 'none') {{\n",
              "            console.log([gd, 'removed!']);\n",
              "            Plotly.purge(gd);\n",
              "            observer.disconnect();\n",
              "        }}\n",
              "}});\n",
              "\n",
              "// Listen for the removal of the full notebook cells\n",
              "var notebookContainer = gd.closest('#notebook-container');\n",
              "if (notebookContainer) {{\n",
              "    x.observe(notebookContainer, {childList: true});\n",
              "}}\n",
              "\n",
              "// Listen for the clearing of the current output cell\n",
              "var outputEl = gd.closest('.output');\n",
              "if (outputEl) {{\n",
              "    x.observe(outputEl, {childList: true});\n",
              "}}\n",
              "\n",
              "                        })                };                            </script>        </div>\n",
              "</body>\n",
              "</html>"
            ]
          },
          "metadata": {}
        },
        {
          "output_type": "display_data",
          "data": {
            "text/plain": [
              "<Figure size 2592x864 with 0 Axes>"
            ]
          },
          "metadata": {}
        }
      ]
    },
    {
      "cell_type": "code",
      "source": [
        "%%time\n",
        "from sklearn.metrics import f1_score, confusion_matrix\n",
        "\n",
        "tfidf_valvector = tfidf_vectorizer.transform(val_df.combined)\n",
        "tfidf_preds = tfidf_model.predict(tfidf_valvector)\n",
        "tfidf_f1_macro = f1_score(val_targets, tfidf_preds, average='macro')\n",
        "tfidf_f1_micro = f1_score(val_targets, tfidf_preds, average='micro')\n",
        "tfidf_f1_weighted = f1_score(val_targets, tfidf_preds, average='weighted')\n",
        "tfidf_confusion = confusion_matrix(val_targets, tfidf_preds)\n",
        "\n",
        "count_valvector = countVectorizer.transform(val_df.combined)\n",
        "count_preds = count_model.predict(count_valvector)\n",
        "count_f1_macro = f1_score(val_targets, count_preds, average='macro')\n",
        "count_f1_micro = f1_score(val_targets, count_preds, average='micro')\n",
        "count_f1_weighted = f1_score(val_targets, count_preds, average='weighted')\n",
        "count_confusion = confusion_matrix(val_targets, count_preds)\n",
        "\n",
        "\n",
        "hash_valvector = hash_vectorizer.transform(val_df.combined)\n",
        "hash_preds = hash_model.predict(hash_valvector)\n",
        "hash_f1_macro = f1_score(val_targets, hash_preds, average='macro')\n",
        "hash_f1_micro = f1_score(val_targets, hash_preds, average='micro')\n",
        "hash_f1_weighted = f1_score(val_targets, hash_preds, average='weighted')\n",
        "hash_confusion = confusion_matrix(val_targets, hash_preds)\n",
        "\n",
        "\n",
        "f1_scores = {\"Tfidf_macro\":tfidf_f1_macro,\n",
        "             \"Tfidf_micro\":tfidf_f1_micro,\n",
        "             \"Tfidf_weighted\":tfidf_f1_weighted,\n",
        "             \"Count_macro\":count_f1_macro,\n",
        "             \"Count_micro\":count_f1_micro,\n",
        "             \"Count_weighted\":count_f1_weighted,\n",
        "             \"Hash_macro\":hash_f1_macro,\n",
        "             \"Hash_micro\":hash_f1_micro,\n",
        "             \"Hash_weighted\":hash_f1_weighted}"
      ],
      "metadata": {
        "colab": {
          "base_uri": "https://localhost:8080/"
        },
        "outputId": "3ff0dc66-3ccd-4a70-94d1-fe71897a958f",
        "id": "_RrmXSYVUjAQ"
      },
      "execution_count": null,
      "outputs": [
        {
          "output_type": "stream",
          "name": "stdout",
          "text": [
            "CPU times: total: 12 s\n",
            "Wall time: 12.1 s\n"
          ]
        }
      ]
    },
    {
      "cell_type": "code",
      "source": [
        "fig = px.imshow(hash_confusion, text_auto=True)\n",
        "fig.update_layout(title = \"Hash Vectorizer MultinomialNB Confusion Matrix\")\n",
        "fig.show(renderer = \"colab\")"
      ],
      "metadata": {
        "colab": {
          "base_uri": "https://localhost:8080/",
          "height": 542
        },
        "id": "dOKctO-vX07z",
        "outputId": "c10b92ce-2313-4b98-f4f6-59b701f6d0c7"
      },
      "execution_count": null,
      "outputs": [
        {
          "output_type": "display_data",
          "data": {
            "text/html": [
              "<html>\n",
              "<head><meta charset=\"utf-8\" /></head>\n",
              "<body>\n",
              "    <div>            <script src=\"https://cdnjs.cloudflare.com/ajax/libs/mathjax/2.7.5/MathJax.js?config=TeX-AMS-MML_SVG\"></script><script type=\"text/javascript\">if (window.MathJax) {MathJax.Hub.Config({SVG: {font: \"STIX-Web\"}});}</script>                <script type=\"text/javascript\">window.PlotlyConfig = {MathJaxConfig: 'local'};</script>\n",
              "        <script src=\"https://cdn.plot.ly/plotly-2.9.0.min.js\"></script>                <div id=\"634b7fc2-4b66-4755-9bce-0d3de34a604c\" class=\"plotly-graph-div\" style=\"height:525px; width:100%;\"></div>            <script type=\"text/javascript\">                                    window.PLOTLYENV=window.PLOTLYENV || {};                                    if (document.getElementById(\"634b7fc2-4b66-4755-9bce-0d3de34a604c\")) {                    Plotly.newPlot(                        \"634b7fc2-4b66-4755-9bce-0d3de34a604c\",                        [{\"coloraxis\":\"coloraxis\",\"name\":\"0\",\"texttemplate\":\"%{z}\",\"z\":[[25,0,0,419,0,0,1,423,0,0,7,446,0,0,0,0,200,1],[0,90,0,145,0,1,1,310,0,0,12,882,0,0,0,0,576,0],[0,1,0,47,0,0,1,42,0,0,6,292,0,0,0,0,148,0],[0,0,0,5799,0,2,1,544,0,0,15,771,0,1,0,0,213,1],[0,0,0,111,59,0,1,230,0,0,3,482,0,0,0,0,162,0],[0,0,0,281,0,537,0,1060,0,0,6,83,0,0,0,0,471,0],[0,0,0,717,0,1,121,306,0,0,35,1082,2,0,0,0,687,1],[0,0,0,449,0,9,0,6434,0,0,18,233,0,1,0,0,496,0],[0,0,0,589,0,0,12,163,29,0,7,725,0,1,0,0,84,0],[0,0,0,93,0,0,0,21,0,0,1,528,0,0,0,0,37,0],[0,0,0,651,0,3,1,572,0,0,909,257,0,0,0,0,1270,0],[0,2,0,194,0,0,2,77,0,0,4,8429,0,0,0,0,148,1],[0,0,0,492,0,0,4,182,0,0,20,638,77,2,0,0,232,2],[0,1,0,385,0,1,1,665,0,0,69,144,0,316,0,0,524,0],[0,0,0,104,0,0,0,149,0,0,2,116,0,0,1,0,206,0],[0,3,0,152,0,0,0,116,0,0,7,264,0,0,0,26,99,0],[0,0,0,166,0,13,0,377,0,0,24,357,0,1,0,0,5981,0],[0,0,0,151,0,0,5,137,0,0,1,1525,0,0,0,0,94,193]],\"type\":\"heatmap\",\"xaxis\":\"x\",\"yaxis\":\"y\",\"hovertemplate\":\"x: %{x}<br>y: %{y}<br>color: %{z}<extra></extra>\"}],                        {\"template\":{\"data\":{\"bar\":[{\"error_x\":{\"color\":\"#2a3f5f\"},\"error_y\":{\"color\":\"#2a3f5f\"},\"marker\":{\"line\":{\"color\":\"#E5ECF6\",\"width\":0.5},\"pattern\":{\"fillmode\":\"overlay\",\"size\":10,\"solidity\":0.2}},\"type\":\"bar\"}],\"barpolar\":[{\"marker\":{\"line\":{\"color\":\"#E5ECF6\",\"width\":0.5},\"pattern\":{\"fillmode\":\"overlay\",\"size\":10,\"solidity\":0.2}},\"type\":\"barpolar\"}],\"carpet\":[{\"aaxis\":{\"endlinecolor\":\"#2a3f5f\",\"gridcolor\":\"white\",\"linecolor\":\"white\",\"minorgridcolor\":\"white\",\"startlinecolor\":\"#2a3f5f\"},\"baxis\":{\"endlinecolor\":\"#2a3f5f\",\"gridcolor\":\"white\",\"linecolor\":\"white\",\"minorgridcolor\":\"white\",\"startlinecolor\":\"#2a3f5f\"},\"type\":\"carpet\"}],\"choropleth\":[{\"colorbar\":{\"outlinewidth\":0,\"ticks\":\"\"},\"type\":\"choropleth\"}],\"contour\":[{\"colorbar\":{\"outlinewidth\":0,\"ticks\":\"\"},\"colorscale\":[[0.0,\"#0d0887\"],[0.1111111111111111,\"#46039f\"],[0.2222222222222222,\"#7201a8\"],[0.3333333333333333,\"#9c179e\"],[0.4444444444444444,\"#bd3786\"],[0.5555555555555556,\"#d8576b\"],[0.6666666666666666,\"#ed7953\"],[0.7777777777777778,\"#fb9f3a\"],[0.8888888888888888,\"#fdca26\"],[1.0,\"#f0f921\"]],\"type\":\"contour\"}],\"contourcarpet\":[{\"colorbar\":{\"outlinewidth\":0,\"ticks\":\"\"},\"type\":\"contourcarpet\"}],\"heatmap\":[{\"colorbar\":{\"outlinewidth\":0,\"ticks\":\"\"},\"colorscale\":[[0.0,\"#0d0887\"],[0.1111111111111111,\"#46039f\"],[0.2222222222222222,\"#7201a8\"],[0.3333333333333333,\"#9c179e\"],[0.4444444444444444,\"#bd3786\"],[0.5555555555555556,\"#d8576b\"],[0.6666666666666666,\"#ed7953\"],[0.7777777777777778,\"#fb9f3a\"],[0.8888888888888888,\"#fdca26\"],[1.0,\"#f0f921\"]],\"type\":\"heatmap\"}],\"heatmapgl\":[{\"colorbar\":{\"outlinewidth\":0,\"ticks\":\"\"},\"colorscale\":[[0.0,\"#0d0887\"],[0.1111111111111111,\"#46039f\"],[0.2222222222222222,\"#7201a8\"],[0.3333333333333333,\"#9c179e\"],[0.4444444444444444,\"#bd3786\"],[0.5555555555555556,\"#d8576b\"],[0.6666666666666666,\"#ed7953\"],[0.7777777777777778,\"#fb9f3a\"],[0.8888888888888888,\"#fdca26\"],[1.0,\"#f0f921\"]],\"type\":\"heatmapgl\"}],\"histogram\":[{\"marker\":{\"pattern\":{\"fillmode\":\"overlay\",\"size\":10,\"solidity\":0.2}},\"type\":\"histogram\"}],\"histogram2d\":[{\"colorbar\":{\"outlinewidth\":0,\"ticks\":\"\"},\"colorscale\":[[0.0,\"#0d0887\"],[0.1111111111111111,\"#46039f\"],[0.2222222222222222,\"#7201a8\"],[0.3333333333333333,\"#9c179e\"],[0.4444444444444444,\"#bd3786\"],[0.5555555555555556,\"#d8576b\"],[0.6666666666666666,\"#ed7953\"],[0.7777777777777778,\"#fb9f3a\"],[0.8888888888888888,\"#fdca26\"],[1.0,\"#f0f921\"]],\"type\":\"histogram2d\"}],\"histogram2dcontour\":[{\"colorbar\":{\"outlinewidth\":0,\"ticks\":\"\"},\"colorscale\":[[0.0,\"#0d0887\"],[0.1111111111111111,\"#46039f\"],[0.2222222222222222,\"#7201a8\"],[0.3333333333333333,\"#9c179e\"],[0.4444444444444444,\"#bd3786\"],[0.5555555555555556,\"#d8576b\"],[0.6666666666666666,\"#ed7953\"],[0.7777777777777778,\"#fb9f3a\"],[0.8888888888888888,\"#fdca26\"],[1.0,\"#f0f921\"]],\"type\":\"histogram2dcontour\"}],\"mesh3d\":[{\"colorbar\":{\"outlinewidth\":0,\"ticks\":\"\"},\"type\":\"mesh3d\"}],\"parcoords\":[{\"line\":{\"colorbar\":{\"outlinewidth\":0,\"ticks\":\"\"}},\"type\":\"parcoords\"}],\"pie\":[{\"automargin\":true,\"type\":\"pie\"}],\"scatter\":[{\"marker\":{\"colorbar\":{\"outlinewidth\":0,\"ticks\":\"\"}},\"type\":\"scatter\"}],\"scatter3d\":[{\"line\":{\"colorbar\":{\"outlinewidth\":0,\"ticks\":\"\"}},\"marker\":{\"colorbar\":{\"outlinewidth\":0,\"ticks\":\"\"}},\"type\":\"scatter3d\"}],\"scattercarpet\":[{\"marker\":{\"colorbar\":{\"outlinewidth\":0,\"ticks\":\"\"}},\"type\":\"scattercarpet\"}],\"scattergeo\":[{\"marker\":{\"colorbar\":{\"outlinewidth\":0,\"ticks\":\"\"}},\"type\":\"scattergeo\"}],\"scattergl\":[{\"marker\":{\"colorbar\":{\"outlinewidth\":0,\"ticks\":\"\"}},\"type\":\"scattergl\"}],\"scattermapbox\":[{\"marker\":{\"colorbar\":{\"outlinewidth\":0,\"ticks\":\"\"}},\"type\":\"scattermapbox\"}],\"scatterpolar\":[{\"marker\":{\"colorbar\":{\"outlinewidth\":0,\"ticks\":\"\"}},\"type\":\"scatterpolar\"}],\"scatterpolargl\":[{\"marker\":{\"colorbar\":{\"outlinewidth\":0,\"ticks\":\"\"}},\"type\":\"scatterpolargl\"}],\"scatterternary\":[{\"marker\":{\"colorbar\":{\"outlinewidth\":0,\"ticks\":\"\"}},\"type\":\"scatterternary\"}],\"surface\":[{\"colorbar\":{\"outlinewidth\":0,\"ticks\":\"\"},\"colorscale\":[[0.0,\"#0d0887\"],[0.1111111111111111,\"#46039f\"],[0.2222222222222222,\"#7201a8\"],[0.3333333333333333,\"#9c179e\"],[0.4444444444444444,\"#bd3786\"],[0.5555555555555556,\"#d8576b\"],[0.6666666666666666,\"#ed7953\"],[0.7777777777777778,\"#fb9f3a\"],[0.8888888888888888,\"#fdca26\"],[1.0,\"#f0f921\"]],\"type\":\"surface\"}],\"table\":[{\"cells\":{\"fill\":{\"color\":\"#EBF0F8\"},\"line\":{\"color\":\"white\"}},\"header\":{\"fill\":{\"color\":\"#C8D4E3\"},\"line\":{\"color\":\"white\"}},\"type\":\"table\"}]},\"layout\":{\"annotationdefaults\":{\"arrowcolor\":\"#2a3f5f\",\"arrowhead\":0,\"arrowwidth\":1},\"autotypenumbers\":\"strict\",\"coloraxis\":{\"colorbar\":{\"outlinewidth\":0,\"ticks\":\"\"}},\"colorscale\":{\"diverging\":[[0,\"#8e0152\"],[0.1,\"#c51b7d\"],[0.2,\"#de77ae\"],[0.3,\"#f1b6da\"],[0.4,\"#fde0ef\"],[0.5,\"#f7f7f7\"],[0.6,\"#e6f5d0\"],[0.7,\"#b8e186\"],[0.8,\"#7fbc41\"],[0.9,\"#4d9221\"],[1,\"#276419\"]],\"sequential\":[[0.0,\"#0d0887\"],[0.1111111111111111,\"#46039f\"],[0.2222222222222222,\"#7201a8\"],[0.3333333333333333,\"#9c179e\"],[0.4444444444444444,\"#bd3786\"],[0.5555555555555556,\"#d8576b\"],[0.6666666666666666,\"#ed7953\"],[0.7777777777777778,\"#fb9f3a\"],[0.8888888888888888,\"#fdca26\"],[1.0,\"#f0f921\"]],\"sequentialminus\":[[0.0,\"#0d0887\"],[0.1111111111111111,\"#46039f\"],[0.2222222222222222,\"#7201a8\"],[0.3333333333333333,\"#9c179e\"],[0.4444444444444444,\"#bd3786\"],[0.5555555555555556,\"#d8576b\"],[0.6666666666666666,\"#ed7953\"],[0.7777777777777778,\"#fb9f3a\"],[0.8888888888888888,\"#fdca26\"],[1.0,\"#f0f921\"]]},\"colorway\":[\"#636efa\",\"#EF553B\",\"#00cc96\",\"#ab63fa\",\"#FFA15A\",\"#19d3f3\",\"#FF6692\",\"#B6E880\",\"#FF97FF\",\"#FECB52\"],\"font\":{\"color\":\"#2a3f5f\"},\"geo\":{\"bgcolor\":\"white\",\"lakecolor\":\"white\",\"landcolor\":\"#E5ECF6\",\"showlakes\":true,\"showland\":true,\"subunitcolor\":\"white\"},\"hoverlabel\":{\"align\":\"left\"},\"hovermode\":\"closest\",\"mapbox\":{\"style\":\"light\"},\"paper_bgcolor\":\"white\",\"plot_bgcolor\":\"#E5ECF6\",\"polar\":{\"angularaxis\":{\"gridcolor\":\"white\",\"linecolor\":\"white\",\"ticks\":\"\"},\"bgcolor\":\"#E5ECF6\",\"radialaxis\":{\"gridcolor\":\"white\",\"linecolor\":\"white\",\"ticks\":\"\"}},\"scene\":{\"xaxis\":{\"backgroundcolor\":\"#E5ECF6\",\"gridcolor\":\"white\",\"gridwidth\":2,\"linecolor\":\"white\",\"showbackground\":true,\"ticks\":\"\",\"zerolinecolor\":\"white\"},\"yaxis\":{\"backgroundcolor\":\"#E5ECF6\",\"gridcolor\":\"white\",\"gridwidth\":2,\"linecolor\":\"white\",\"showbackground\":true,\"ticks\":\"\",\"zerolinecolor\":\"white\"},\"zaxis\":{\"backgroundcolor\":\"#E5ECF6\",\"gridcolor\":\"white\",\"gridwidth\":2,\"linecolor\":\"white\",\"showbackground\":true,\"ticks\":\"\",\"zerolinecolor\":\"white\"}},\"shapedefaults\":{\"line\":{\"color\":\"#2a3f5f\"}},\"ternary\":{\"aaxis\":{\"gridcolor\":\"white\",\"linecolor\":\"white\",\"ticks\":\"\"},\"baxis\":{\"gridcolor\":\"white\",\"linecolor\":\"white\",\"ticks\":\"\"},\"bgcolor\":\"#E5ECF6\",\"caxis\":{\"gridcolor\":\"white\",\"linecolor\":\"white\",\"ticks\":\"\"}},\"title\":{\"x\":0.05},\"xaxis\":{\"automargin\":true,\"gridcolor\":\"white\",\"linecolor\":\"white\",\"ticks\":\"\",\"title\":{\"standoff\":15},\"zerolinecolor\":\"white\",\"zerolinewidth\":2},\"yaxis\":{\"automargin\":true,\"gridcolor\":\"white\",\"linecolor\":\"white\",\"ticks\":\"\",\"title\":{\"standoff\":15},\"zerolinecolor\":\"white\",\"zerolinewidth\":2}}},\"xaxis\":{\"anchor\":\"y\",\"domain\":[0.0,1.0],\"scaleanchor\":\"y\",\"constrain\":\"domain\"},\"yaxis\":{\"anchor\":\"x\",\"domain\":[0.0,1.0],\"autorange\":\"reversed\",\"constrain\":\"domain\"},\"coloraxis\":{\"colorscale\":[[0.0,\"#0d0887\"],[0.1111111111111111,\"#46039f\"],[0.2222222222222222,\"#7201a8\"],[0.3333333333333333,\"#9c179e\"],[0.4444444444444444,\"#bd3786\"],[0.5555555555555556,\"#d8576b\"],[0.6666666666666666,\"#ed7953\"],[0.7777777777777778,\"#fb9f3a\"],[0.8888888888888888,\"#fdca26\"],[1.0,\"#f0f921\"]]},\"margin\":{\"t\":60},\"title\":{\"text\":\"Hash Vectorizer MultinomialNB Confusion Matrix\"}},                        {\"responsive\": true}                    ).then(function(){\n",
              "                            \n",
              "var gd = document.getElementById('634b7fc2-4b66-4755-9bce-0d3de34a604c');\n",
              "var x = new MutationObserver(function (mutations, observer) {{\n",
              "        var display = window.getComputedStyle(gd).display;\n",
              "        if (!display || display === 'none') {{\n",
              "            console.log([gd, 'removed!']);\n",
              "            Plotly.purge(gd);\n",
              "            observer.disconnect();\n",
              "        }}\n",
              "}});\n",
              "\n",
              "// Listen for the removal of the full notebook cells\n",
              "var notebookContainer = gd.closest('#notebook-container');\n",
              "if (notebookContainer) {{\n",
              "    x.observe(notebookContainer, {childList: true});\n",
              "}}\n",
              "\n",
              "// Listen for the clearing of the current output cell\n",
              "var outputEl = gd.closest('.output');\n",
              "if (outputEl) {{\n",
              "    x.observe(outputEl, {childList: true});\n",
              "}}\n",
              "\n",
              "                        })                };                            </script>        </div>\n",
              "</body>\n",
              "</html>"
            ]
          },
          "metadata": {}
        }
      ]
    },
    {
      "cell_type": "code",
      "source": [
        "fig = px.imshow(count_confusion, text_auto=True)\n",
        "fig.update_layout(title = \"Count Vectorizer MultinomialNB Confusion Matrix\")\n",
        "fig.show(renderer = \"colab\")"
      ],
      "metadata": {
        "colab": {
          "base_uri": "https://localhost:8080/",
          "height": 542
        },
        "id": "jcCAQy7zX0rL",
        "outputId": "c0cea9f6-7189-4534-f5d9-7a8f97dd7d3d"
      },
      "execution_count": null,
      "outputs": [
        {
          "output_type": "display_data",
          "data": {
            "text/html": [
              "<html>\n",
              "<head><meta charset=\"utf-8\" /></head>\n",
              "<body>\n",
              "    <div>            <script src=\"https://cdnjs.cloudflare.com/ajax/libs/mathjax/2.7.5/MathJax.js?config=TeX-AMS-MML_SVG\"></script><script type=\"text/javascript\">if (window.MathJax) {MathJax.Hub.Config({SVG: {font: \"STIX-Web\"}});}</script>                <script type=\"text/javascript\">window.PlotlyConfig = {MathJaxConfig: 'local'};</script>\n",
              "        <script src=\"https://cdn.plot.ly/plotly-2.9.0.min.js\"></script>                <div id=\"284742e4-a893-458f-8587-9d31c98c0cf4\" class=\"plotly-graph-div\" style=\"height:525px; width:100%;\"></div>            <script type=\"text/javascript\">                                    window.PLOTLYENV=window.PLOTLYENV || {};                                    if (document.getElementById(\"284742e4-a893-458f-8587-9d31c98c0cf4\")) {                    Plotly.newPlot(                        \"284742e4-a893-458f-8587-9d31c98c0cf4\",                        [{\"coloraxis\":\"coloraxis\",\"name\":\"0\",\"texttemplate\":\"%{z}\",\"z\":[[787,14,22,131,18,16,69,95,47,16,51,67,45,4,11,7,71,51],[24,1207,31,38,51,39,70,54,18,24,53,89,10,24,3,55,186,41],[14,31,292,7,5,1,40,6,11,6,50,28,7,2,1,1,25,10],[194,64,42,4834,86,118,343,276,247,103,229,294,115,80,39,58,138,87],[9,39,3,20,671,25,42,27,4,5,18,51,3,4,39,7,40,41],[18,18,4,74,21,1991,16,112,3,0,36,11,6,8,3,6,106,5],[90,144,59,170,102,40,1223,81,104,25,243,140,53,44,13,19,303,99],[151,170,28,330,129,321,119,5302,50,19,290,52,27,120,35,32,349,116],[51,32,39,175,6,14,131,44,811,20,55,129,27,14,4,6,28,24],[14,17,7,38,4,2,21,8,23,365,3,119,4,0,3,13,19,20],[24,43,56,156,13,54,119,74,24,2,2599,23,33,73,5,20,339,6],[99,260,117,187,187,22,339,22,205,255,49,6355,113,4,12,40,121,470],[50,7,7,145,3,2,62,23,33,12,73,59,1071,25,0,4,50,23],[5,19,7,81,2,17,27,83,7,7,132,5,18,1574,3,7,109,3],[10,8,4,23,72,9,19,13,2,0,12,1,4,4,296,5,90,6],[8,81,9,31,12,7,26,11,3,9,32,20,4,4,3,369,18,20],[76,142,23,59,63,202,166,129,27,17,323,75,35,69,54,35,5373,51],[63,33,11,20,70,4,95,23,16,11,11,98,13,1,9,14,24,1590]],\"type\":\"heatmap\",\"xaxis\":\"x\",\"yaxis\":\"y\",\"hovertemplate\":\"x: %{x}<br>y: %{y}<br>color: %{z}<extra></extra>\"}],                        {\"template\":{\"data\":{\"bar\":[{\"error_x\":{\"color\":\"#2a3f5f\"},\"error_y\":{\"color\":\"#2a3f5f\"},\"marker\":{\"line\":{\"color\":\"#E5ECF6\",\"width\":0.5},\"pattern\":{\"fillmode\":\"overlay\",\"size\":10,\"solidity\":0.2}},\"type\":\"bar\"}],\"barpolar\":[{\"marker\":{\"line\":{\"color\":\"#E5ECF6\",\"width\":0.5},\"pattern\":{\"fillmode\":\"overlay\",\"size\":10,\"solidity\":0.2}},\"type\":\"barpolar\"}],\"carpet\":[{\"aaxis\":{\"endlinecolor\":\"#2a3f5f\",\"gridcolor\":\"white\",\"linecolor\":\"white\",\"minorgridcolor\":\"white\",\"startlinecolor\":\"#2a3f5f\"},\"baxis\":{\"endlinecolor\":\"#2a3f5f\",\"gridcolor\":\"white\",\"linecolor\":\"white\",\"minorgridcolor\":\"white\",\"startlinecolor\":\"#2a3f5f\"},\"type\":\"carpet\"}],\"choropleth\":[{\"colorbar\":{\"outlinewidth\":0,\"ticks\":\"\"},\"type\":\"choropleth\"}],\"contour\":[{\"colorbar\":{\"outlinewidth\":0,\"ticks\":\"\"},\"colorscale\":[[0.0,\"#0d0887\"],[0.1111111111111111,\"#46039f\"],[0.2222222222222222,\"#7201a8\"],[0.3333333333333333,\"#9c179e\"],[0.4444444444444444,\"#bd3786\"],[0.5555555555555556,\"#d8576b\"],[0.6666666666666666,\"#ed7953\"],[0.7777777777777778,\"#fb9f3a\"],[0.8888888888888888,\"#fdca26\"],[1.0,\"#f0f921\"]],\"type\":\"contour\"}],\"contourcarpet\":[{\"colorbar\":{\"outlinewidth\":0,\"ticks\":\"\"},\"type\":\"contourcarpet\"}],\"heatmap\":[{\"colorbar\":{\"outlinewidth\":0,\"ticks\":\"\"},\"colorscale\":[[0.0,\"#0d0887\"],[0.1111111111111111,\"#46039f\"],[0.2222222222222222,\"#7201a8\"],[0.3333333333333333,\"#9c179e\"],[0.4444444444444444,\"#bd3786\"],[0.5555555555555556,\"#d8576b\"],[0.6666666666666666,\"#ed7953\"],[0.7777777777777778,\"#fb9f3a\"],[0.8888888888888888,\"#fdca26\"],[1.0,\"#f0f921\"]],\"type\":\"heatmap\"}],\"heatmapgl\":[{\"colorbar\":{\"outlinewidth\":0,\"ticks\":\"\"},\"colorscale\":[[0.0,\"#0d0887\"],[0.1111111111111111,\"#46039f\"],[0.2222222222222222,\"#7201a8\"],[0.3333333333333333,\"#9c179e\"],[0.4444444444444444,\"#bd3786\"],[0.5555555555555556,\"#d8576b\"],[0.6666666666666666,\"#ed7953\"],[0.7777777777777778,\"#fb9f3a\"],[0.8888888888888888,\"#fdca26\"],[1.0,\"#f0f921\"]],\"type\":\"heatmapgl\"}],\"histogram\":[{\"marker\":{\"pattern\":{\"fillmode\":\"overlay\",\"size\":10,\"solidity\":0.2}},\"type\":\"histogram\"}],\"histogram2d\":[{\"colorbar\":{\"outlinewidth\":0,\"ticks\":\"\"},\"colorscale\":[[0.0,\"#0d0887\"],[0.1111111111111111,\"#46039f\"],[0.2222222222222222,\"#7201a8\"],[0.3333333333333333,\"#9c179e\"],[0.4444444444444444,\"#bd3786\"],[0.5555555555555556,\"#d8576b\"],[0.6666666666666666,\"#ed7953\"],[0.7777777777777778,\"#fb9f3a\"],[0.8888888888888888,\"#fdca26\"],[1.0,\"#f0f921\"]],\"type\":\"histogram2d\"}],\"histogram2dcontour\":[{\"colorbar\":{\"outlinewidth\":0,\"ticks\":\"\"},\"colorscale\":[[0.0,\"#0d0887\"],[0.1111111111111111,\"#46039f\"],[0.2222222222222222,\"#7201a8\"],[0.3333333333333333,\"#9c179e\"],[0.4444444444444444,\"#bd3786\"],[0.5555555555555556,\"#d8576b\"],[0.6666666666666666,\"#ed7953\"],[0.7777777777777778,\"#fb9f3a\"],[0.8888888888888888,\"#fdca26\"],[1.0,\"#f0f921\"]],\"type\":\"histogram2dcontour\"}],\"mesh3d\":[{\"colorbar\":{\"outlinewidth\":0,\"ticks\":\"\"},\"type\":\"mesh3d\"}],\"parcoords\":[{\"line\":{\"colorbar\":{\"outlinewidth\":0,\"ticks\":\"\"}},\"type\":\"parcoords\"}],\"pie\":[{\"automargin\":true,\"type\":\"pie\"}],\"scatter\":[{\"marker\":{\"colorbar\":{\"outlinewidth\":0,\"ticks\":\"\"}},\"type\":\"scatter\"}],\"scatter3d\":[{\"line\":{\"colorbar\":{\"outlinewidth\":0,\"ticks\":\"\"}},\"marker\":{\"colorbar\":{\"outlinewidth\":0,\"ticks\":\"\"}},\"type\":\"scatter3d\"}],\"scattercarpet\":[{\"marker\":{\"colorbar\":{\"outlinewidth\":0,\"ticks\":\"\"}},\"type\":\"scattercarpet\"}],\"scattergeo\":[{\"marker\":{\"colorbar\":{\"outlinewidth\":0,\"ticks\":\"\"}},\"type\":\"scattergeo\"}],\"scattergl\":[{\"marker\":{\"colorbar\":{\"outlinewidth\":0,\"ticks\":\"\"}},\"type\":\"scattergl\"}],\"scattermapbox\":[{\"marker\":{\"colorbar\":{\"outlinewidth\":0,\"ticks\":\"\"}},\"type\":\"scattermapbox\"}],\"scatterpolar\":[{\"marker\":{\"colorbar\":{\"outlinewidth\":0,\"ticks\":\"\"}},\"type\":\"scatterpolar\"}],\"scatterpolargl\":[{\"marker\":{\"colorbar\":{\"outlinewidth\":0,\"ticks\":\"\"}},\"type\":\"scatterpolargl\"}],\"scatterternary\":[{\"marker\":{\"colorbar\":{\"outlinewidth\":0,\"ticks\":\"\"}},\"type\":\"scatterternary\"}],\"surface\":[{\"colorbar\":{\"outlinewidth\":0,\"ticks\":\"\"},\"colorscale\":[[0.0,\"#0d0887\"],[0.1111111111111111,\"#46039f\"],[0.2222222222222222,\"#7201a8\"],[0.3333333333333333,\"#9c179e\"],[0.4444444444444444,\"#bd3786\"],[0.5555555555555556,\"#d8576b\"],[0.6666666666666666,\"#ed7953\"],[0.7777777777777778,\"#fb9f3a\"],[0.8888888888888888,\"#fdca26\"],[1.0,\"#f0f921\"]],\"type\":\"surface\"}],\"table\":[{\"cells\":{\"fill\":{\"color\":\"#EBF0F8\"},\"line\":{\"color\":\"white\"}},\"header\":{\"fill\":{\"color\":\"#C8D4E3\"},\"line\":{\"color\":\"white\"}},\"type\":\"table\"}]},\"layout\":{\"annotationdefaults\":{\"arrowcolor\":\"#2a3f5f\",\"arrowhead\":0,\"arrowwidth\":1},\"autotypenumbers\":\"strict\",\"coloraxis\":{\"colorbar\":{\"outlinewidth\":0,\"ticks\":\"\"}},\"colorscale\":{\"diverging\":[[0,\"#8e0152\"],[0.1,\"#c51b7d\"],[0.2,\"#de77ae\"],[0.3,\"#f1b6da\"],[0.4,\"#fde0ef\"],[0.5,\"#f7f7f7\"],[0.6,\"#e6f5d0\"],[0.7,\"#b8e186\"],[0.8,\"#7fbc41\"],[0.9,\"#4d9221\"],[1,\"#276419\"]],\"sequential\":[[0.0,\"#0d0887\"],[0.1111111111111111,\"#46039f\"],[0.2222222222222222,\"#7201a8\"],[0.3333333333333333,\"#9c179e\"],[0.4444444444444444,\"#bd3786\"],[0.5555555555555556,\"#d8576b\"],[0.6666666666666666,\"#ed7953\"],[0.7777777777777778,\"#fb9f3a\"],[0.8888888888888888,\"#fdca26\"],[1.0,\"#f0f921\"]],\"sequentialminus\":[[0.0,\"#0d0887\"],[0.1111111111111111,\"#46039f\"],[0.2222222222222222,\"#7201a8\"],[0.3333333333333333,\"#9c179e\"],[0.4444444444444444,\"#bd3786\"],[0.5555555555555556,\"#d8576b\"],[0.6666666666666666,\"#ed7953\"],[0.7777777777777778,\"#fb9f3a\"],[0.8888888888888888,\"#fdca26\"],[1.0,\"#f0f921\"]]},\"colorway\":[\"#636efa\",\"#EF553B\",\"#00cc96\",\"#ab63fa\",\"#FFA15A\",\"#19d3f3\",\"#FF6692\",\"#B6E880\",\"#FF97FF\",\"#FECB52\"],\"font\":{\"color\":\"#2a3f5f\"},\"geo\":{\"bgcolor\":\"white\",\"lakecolor\":\"white\",\"landcolor\":\"#E5ECF6\",\"showlakes\":true,\"showland\":true,\"subunitcolor\":\"white\"},\"hoverlabel\":{\"align\":\"left\"},\"hovermode\":\"closest\",\"mapbox\":{\"style\":\"light\"},\"paper_bgcolor\":\"white\",\"plot_bgcolor\":\"#E5ECF6\",\"polar\":{\"angularaxis\":{\"gridcolor\":\"white\",\"linecolor\":\"white\",\"ticks\":\"\"},\"bgcolor\":\"#E5ECF6\",\"radialaxis\":{\"gridcolor\":\"white\",\"linecolor\":\"white\",\"ticks\":\"\"}},\"scene\":{\"xaxis\":{\"backgroundcolor\":\"#E5ECF6\",\"gridcolor\":\"white\",\"gridwidth\":2,\"linecolor\":\"white\",\"showbackground\":true,\"ticks\":\"\",\"zerolinecolor\":\"white\"},\"yaxis\":{\"backgroundcolor\":\"#E5ECF6\",\"gridcolor\":\"white\",\"gridwidth\":2,\"linecolor\":\"white\",\"showbackground\":true,\"ticks\":\"\",\"zerolinecolor\":\"white\"},\"zaxis\":{\"backgroundcolor\":\"#E5ECF6\",\"gridcolor\":\"white\",\"gridwidth\":2,\"linecolor\":\"white\",\"showbackground\":true,\"ticks\":\"\",\"zerolinecolor\":\"white\"}},\"shapedefaults\":{\"line\":{\"color\":\"#2a3f5f\"}},\"ternary\":{\"aaxis\":{\"gridcolor\":\"white\",\"linecolor\":\"white\",\"ticks\":\"\"},\"baxis\":{\"gridcolor\":\"white\",\"linecolor\":\"white\",\"ticks\":\"\"},\"bgcolor\":\"#E5ECF6\",\"caxis\":{\"gridcolor\":\"white\",\"linecolor\":\"white\",\"ticks\":\"\"}},\"title\":{\"x\":0.05},\"xaxis\":{\"automargin\":true,\"gridcolor\":\"white\",\"linecolor\":\"white\",\"ticks\":\"\",\"title\":{\"standoff\":15},\"zerolinecolor\":\"white\",\"zerolinewidth\":2},\"yaxis\":{\"automargin\":true,\"gridcolor\":\"white\",\"linecolor\":\"white\",\"ticks\":\"\",\"title\":{\"standoff\":15},\"zerolinecolor\":\"white\",\"zerolinewidth\":2}}},\"xaxis\":{\"anchor\":\"y\",\"domain\":[0.0,1.0],\"scaleanchor\":\"y\",\"constrain\":\"domain\"},\"yaxis\":{\"anchor\":\"x\",\"domain\":[0.0,1.0],\"autorange\":\"reversed\",\"constrain\":\"domain\"},\"coloraxis\":{\"colorscale\":[[0.0,\"#0d0887\"],[0.1111111111111111,\"#46039f\"],[0.2222222222222222,\"#7201a8\"],[0.3333333333333333,\"#9c179e\"],[0.4444444444444444,\"#bd3786\"],[0.5555555555555556,\"#d8576b\"],[0.6666666666666666,\"#ed7953\"],[0.7777777777777778,\"#fb9f3a\"],[0.8888888888888888,\"#fdca26\"],[1.0,\"#f0f921\"]]},\"margin\":{\"t\":60},\"title\":{\"text\":\"Count Vectorizer MultinomialNB Confusion Matrix\"}},                        {\"responsive\": true}                    ).then(function(){\n",
              "                            \n",
              "var gd = document.getElementById('284742e4-a893-458f-8587-9d31c98c0cf4');\n",
              "var x = new MutationObserver(function (mutations, observer) {{\n",
              "        var display = window.getComputedStyle(gd).display;\n",
              "        if (!display || display === 'none') {{\n",
              "            console.log([gd, 'removed!']);\n",
              "            Plotly.purge(gd);\n",
              "            observer.disconnect();\n",
              "        }}\n",
              "}});\n",
              "\n",
              "// Listen for the removal of the full notebook cells\n",
              "var notebookContainer = gd.closest('#notebook-container');\n",
              "if (notebookContainer) {{\n",
              "    x.observe(notebookContainer, {childList: true});\n",
              "}}\n",
              "\n",
              "// Listen for the clearing of the current output cell\n",
              "var outputEl = gd.closest('.output');\n",
              "if (outputEl) {{\n",
              "    x.observe(outputEl, {childList: true});\n",
              "}}\n",
              "\n",
              "                        })                };                            </script>        </div>\n",
              "</body>\n",
              "</html>"
            ]
          },
          "metadata": {}
        }
      ]
    },
    {
      "cell_type": "code",
      "source": [
        "fig = px.imshow(tfidf_confusion, text_auto=True)\n",
        "fig.update_layout(title = \"TFIDF Vectorizer MultinomialNB Confusion Matrix\")\n",
        "fig.show(renderer = \"colab\")"
      ],
      "metadata": {
        "colab": {
          "base_uri": "https://localhost:8080/",
          "height": 542
        },
        "id": "NXmUxtcXX0SZ",
        "outputId": "89abbbd4-822c-4988-d12a-d66707eeddd5"
      },
      "execution_count": null,
      "outputs": [
        {
          "output_type": "display_data",
          "data": {
            "text/html": [
              "<html>\n",
              "<head><meta charset=\"utf-8\" /></head>\n",
              "<body>\n",
              "    <div>            <script src=\"https://cdnjs.cloudflare.com/ajax/libs/mathjax/2.7.5/MathJax.js?config=TeX-AMS-MML_SVG\"></script><script type=\"text/javascript\">if (window.MathJax) {MathJax.Hub.Config({SVG: {font: \"STIX-Web\"}});}</script>                <script type=\"text/javascript\">window.PlotlyConfig = {MathJaxConfig: 'local'};</script>\n",
              "        <script src=\"https://cdn.plot.ly/plotly-2.9.0.min.js\"></script>                <div id=\"1195ea44-b951-487e-ad73-8a6d63ba9884\" class=\"plotly-graph-div\" style=\"height:525px; width:100%;\"></div>            <script type=\"text/javascript\">                                    window.PLOTLYENV=window.PLOTLYENV || {};                                    if (document.getElementById(\"1195ea44-b951-487e-ad73-8a6d63ba9884\")) {                    Plotly.newPlot(                        \"1195ea44-b951-487e-ad73-8a6d63ba9884\",                        [{\"coloraxis\":\"coloraxis\",\"name\":\"0\",\"texttemplate\":\"%{z}\",\"z\":[[271,3,0,318,2,5,56,319,11,0,44,236,15,1,0,0,206,35],[2,815,1,92,10,21,48,172,1,1,50,309,2,10,0,3,459,21],[0,30,14,40,1,0,37,18,2,0,82,187,0,1,0,0,122,3],[12,19,1,5691,5,47,152,481,31,5,119,482,21,14,1,0,240,26],[1,17,0,74,289,10,39,153,1,0,15,240,0,1,3,0,174,31],[2,6,0,124,2,1641,5,358,0,0,25,33,0,0,0,4,236,2],[7,46,3,393,10,18,847,197,19,0,206,460,12,20,0,1,645,68],[8,32,1,434,3,110,18,6200,3,0,139,113,7,32,0,0,507,33],[11,11,2,474,0,9,120,105,302,0,60,392,9,10,0,0,96,9],[2,18,0,113,2,1,11,23,7,78,4,366,0,0,0,1,40,14],[0,12,0,287,0,26,44,223,3,0,2259,59,5,23,0,1,718,3],[7,57,3,232,28,4,121,94,26,13,40,7804,31,2,1,4,213,177],[9,2,0,321,2,3,54,71,4,3,82,226,679,19,0,0,159,15],[1,7,0,178,1,10,10,244,2,0,148,33,4,1175,0,0,291,2],[2,5,0,90,24,6,16,108,0,0,9,36,1,0,55,0,216,10],[1,102,0,102,1,6,23,83,1,0,33,126,0,0,0,106,71,12],[2,33,0,120,4,95,47,239,3,1,147,168,4,13,1,0,6019,23],[16,15,0,67,17,1,75,81,3,1,19,469,4,1,0,1,85,1251]],\"type\":\"heatmap\",\"xaxis\":\"x\",\"yaxis\":\"y\",\"hovertemplate\":\"x: %{x}<br>y: %{y}<br>color: %{z}<extra></extra>\"}],                        {\"template\":{\"data\":{\"bar\":[{\"error_x\":{\"color\":\"#2a3f5f\"},\"error_y\":{\"color\":\"#2a3f5f\"},\"marker\":{\"line\":{\"color\":\"#E5ECF6\",\"width\":0.5},\"pattern\":{\"fillmode\":\"overlay\",\"size\":10,\"solidity\":0.2}},\"type\":\"bar\"}],\"barpolar\":[{\"marker\":{\"line\":{\"color\":\"#E5ECF6\",\"width\":0.5},\"pattern\":{\"fillmode\":\"overlay\",\"size\":10,\"solidity\":0.2}},\"type\":\"barpolar\"}],\"carpet\":[{\"aaxis\":{\"endlinecolor\":\"#2a3f5f\",\"gridcolor\":\"white\",\"linecolor\":\"white\",\"minorgridcolor\":\"white\",\"startlinecolor\":\"#2a3f5f\"},\"baxis\":{\"endlinecolor\":\"#2a3f5f\",\"gridcolor\":\"white\",\"linecolor\":\"white\",\"minorgridcolor\":\"white\",\"startlinecolor\":\"#2a3f5f\"},\"type\":\"carpet\"}],\"choropleth\":[{\"colorbar\":{\"outlinewidth\":0,\"ticks\":\"\"},\"type\":\"choropleth\"}],\"contour\":[{\"colorbar\":{\"outlinewidth\":0,\"ticks\":\"\"},\"colorscale\":[[0.0,\"#0d0887\"],[0.1111111111111111,\"#46039f\"],[0.2222222222222222,\"#7201a8\"],[0.3333333333333333,\"#9c179e\"],[0.4444444444444444,\"#bd3786\"],[0.5555555555555556,\"#d8576b\"],[0.6666666666666666,\"#ed7953\"],[0.7777777777777778,\"#fb9f3a\"],[0.8888888888888888,\"#fdca26\"],[1.0,\"#f0f921\"]],\"type\":\"contour\"}],\"contourcarpet\":[{\"colorbar\":{\"outlinewidth\":0,\"ticks\":\"\"},\"type\":\"contourcarpet\"}],\"heatmap\":[{\"colorbar\":{\"outlinewidth\":0,\"ticks\":\"\"},\"colorscale\":[[0.0,\"#0d0887\"],[0.1111111111111111,\"#46039f\"],[0.2222222222222222,\"#7201a8\"],[0.3333333333333333,\"#9c179e\"],[0.4444444444444444,\"#bd3786\"],[0.5555555555555556,\"#d8576b\"],[0.6666666666666666,\"#ed7953\"],[0.7777777777777778,\"#fb9f3a\"],[0.8888888888888888,\"#fdca26\"],[1.0,\"#f0f921\"]],\"type\":\"heatmap\"}],\"heatmapgl\":[{\"colorbar\":{\"outlinewidth\":0,\"ticks\":\"\"},\"colorscale\":[[0.0,\"#0d0887\"],[0.1111111111111111,\"#46039f\"],[0.2222222222222222,\"#7201a8\"],[0.3333333333333333,\"#9c179e\"],[0.4444444444444444,\"#bd3786\"],[0.5555555555555556,\"#d8576b\"],[0.6666666666666666,\"#ed7953\"],[0.7777777777777778,\"#fb9f3a\"],[0.8888888888888888,\"#fdca26\"],[1.0,\"#f0f921\"]],\"type\":\"heatmapgl\"}],\"histogram\":[{\"marker\":{\"pattern\":{\"fillmode\":\"overlay\",\"size\":10,\"solidity\":0.2}},\"type\":\"histogram\"}],\"histogram2d\":[{\"colorbar\":{\"outlinewidth\":0,\"ticks\":\"\"},\"colorscale\":[[0.0,\"#0d0887\"],[0.1111111111111111,\"#46039f\"],[0.2222222222222222,\"#7201a8\"],[0.3333333333333333,\"#9c179e\"],[0.4444444444444444,\"#bd3786\"],[0.5555555555555556,\"#d8576b\"],[0.6666666666666666,\"#ed7953\"],[0.7777777777777778,\"#fb9f3a\"],[0.8888888888888888,\"#fdca26\"],[1.0,\"#f0f921\"]],\"type\":\"histogram2d\"}],\"histogram2dcontour\":[{\"colorbar\":{\"outlinewidth\":0,\"ticks\":\"\"},\"colorscale\":[[0.0,\"#0d0887\"],[0.1111111111111111,\"#46039f\"],[0.2222222222222222,\"#7201a8\"],[0.3333333333333333,\"#9c179e\"],[0.4444444444444444,\"#bd3786\"],[0.5555555555555556,\"#d8576b\"],[0.6666666666666666,\"#ed7953\"],[0.7777777777777778,\"#fb9f3a\"],[0.8888888888888888,\"#fdca26\"],[1.0,\"#f0f921\"]],\"type\":\"histogram2dcontour\"}],\"mesh3d\":[{\"colorbar\":{\"outlinewidth\":0,\"ticks\":\"\"},\"type\":\"mesh3d\"}],\"parcoords\":[{\"line\":{\"colorbar\":{\"outlinewidth\":0,\"ticks\":\"\"}},\"type\":\"parcoords\"}],\"pie\":[{\"automargin\":true,\"type\":\"pie\"}],\"scatter\":[{\"marker\":{\"colorbar\":{\"outlinewidth\":0,\"ticks\":\"\"}},\"type\":\"scatter\"}],\"scatter3d\":[{\"line\":{\"colorbar\":{\"outlinewidth\":0,\"ticks\":\"\"}},\"marker\":{\"colorbar\":{\"outlinewidth\":0,\"ticks\":\"\"}},\"type\":\"scatter3d\"}],\"scattercarpet\":[{\"marker\":{\"colorbar\":{\"outlinewidth\":0,\"ticks\":\"\"}},\"type\":\"scattercarpet\"}],\"scattergeo\":[{\"marker\":{\"colorbar\":{\"outlinewidth\":0,\"ticks\":\"\"}},\"type\":\"scattergeo\"}],\"scattergl\":[{\"marker\":{\"colorbar\":{\"outlinewidth\":0,\"ticks\":\"\"}},\"type\":\"scattergl\"}],\"scattermapbox\":[{\"marker\":{\"colorbar\":{\"outlinewidth\":0,\"ticks\":\"\"}},\"type\":\"scattermapbox\"}],\"scatterpolar\":[{\"marker\":{\"colorbar\":{\"outlinewidth\":0,\"ticks\":\"\"}},\"type\":\"scatterpolar\"}],\"scatterpolargl\":[{\"marker\":{\"colorbar\":{\"outlinewidth\":0,\"ticks\":\"\"}},\"type\":\"scatterpolargl\"}],\"scatterternary\":[{\"marker\":{\"colorbar\":{\"outlinewidth\":0,\"ticks\":\"\"}},\"type\":\"scatterternary\"}],\"surface\":[{\"colorbar\":{\"outlinewidth\":0,\"ticks\":\"\"},\"colorscale\":[[0.0,\"#0d0887\"],[0.1111111111111111,\"#46039f\"],[0.2222222222222222,\"#7201a8\"],[0.3333333333333333,\"#9c179e\"],[0.4444444444444444,\"#bd3786\"],[0.5555555555555556,\"#d8576b\"],[0.6666666666666666,\"#ed7953\"],[0.7777777777777778,\"#fb9f3a\"],[0.8888888888888888,\"#fdca26\"],[1.0,\"#f0f921\"]],\"type\":\"surface\"}],\"table\":[{\"cells\":{\"fill\":{\"color\":\"#EBF0F8\"},\"line\":{\"color\":\"white\"}},\"header\":{\"fill\":{\"color\":\"#C8D4E3\"},\"line\":{\"color\":\"white\"}},\"type\":\"table\"}]},\"layout\":{\"annotationdefaults\":{\"arrowcolor\":\"#2a3f5f\",\"arrowhead\":0,\"arrowwidth\":1},\"autotypenumbers\":\"strict\",\"coloraxis\":{\"colorbar\":{\"outlinewidth\":0,\"ticks\":\"\"}},\"colorscale\":{\"diverging\":[[0,\"#8e0152\"],[0.1,\"#c51b7d\"],[0.2,\"#de77ae\"],[0.3,\"#f1b6da\"],[0.4,\"#fde0ef\"],[0.5,\"#f7f7f7\"],[0.6,\"#e6f5d0\"],[0.7,\"#b8e186\"],[0.8,\"#7fbc41\"],[0.9,\"#4d9221\"],[1,\"#276419\"]],\"sequential\":[[0.0,\"#0d0887\"],[0.1111111111111111,\"#46039f\"],[0.2222222222222222,\"#7201a8\"],[0.3333333333333333,\"#9c179e\"],[0.4444444444444444,\"#bd3786\"],[0.5555555555555556,\"#d8576b\"],[0.6666666666666666,\"#ed7953\"],[0.7777777777777778,\"#fb9f3a\"],[0.8888888888888888,\"#fdca26\"],[1.0,\"#f0f921\"]],\"sequentialminus\":[[0.0,\"#0d0887\"],[0.1111111111111111,\"#46039f\"],[0.2222222222222222,\"#7201a8\"],[0.3333333333333333,\"#9c179e\"],[0.4444444444444444,\"#bd3786\"],[0.5555555555555556,\"#d8576b\"],[0.6666666666666666,\"#ed7953\"],[0.7777777777777778,\"#fb9f3a\"],[0.8888888888888888,\"#fdca26\"],[1.0,\"#f0f921\"]]},\"colorway\":[\"#636efa\",\"#EF553B\",\"#00cc96\",\"#ab63fa\",\"#FFA15A\",\"#19d3f3\",\"#FF6692\",\"#B6E880\",\"#FF97FF\",\"#FECB52\"],\"font\":{\"color\":\"#2a3f5f\"},\"geo\":{\"bgcolor\":\"white\",\"lakecolor\":\"white\",\"landcolor\":\"#E5ECF6\",\"showlakes\":true,\"showland\":true,\"subunitcolor\":\"white\"},\"hoverlabel\":{\"align\":\"left\"},\"hovermode\":\"closest\",\"mapbox\":{\"style\":\"light\"},\"paper_bgcolor\":\"white\",\"plot_bgcolor\":\"#E5ECF6\",\"polar\":{\"angularaxis\":{\"gridcolor\":\"white\",\"linecolor\":\"white\",\"ticks\":\"\"},\"bgcolor\":\"#E5ECF6\",\"radialaxis\":{\"gridcolor\":\"white\",\"linecolor\":\"white\",\"ticks\":\"\"}},\"scene\":{\"xaxis\":{\"backgroundcolor\":\"#E5ECF6\",\"gridcolor\":\"white\",\"gridwidth\":2,\"linecolor\":\"white\",\"showbackground\":true,\"ticks\":\"\",\"zerolinecolor\":\"white\"},\"yaxis\":{\"backgroundcolor\":\"#E5ECF6\",\"gridcolor\":\"white\",\"gridwidth\":2,\"linecolor\":\"white\",\"showbackground\":true,\"ticks\":\"\",\"zerolinecolor\":\"white\"},\"zaxis\":{\"backgroundcolor\":\"#E5ECF6\",\"gridcolor\":\"white\",\"gridwidth\":2,\"linecolor\":\"white\",\"showbackground\":true,\"ticks\":\"\",\"zerolinecolor\":\"white\"}},\"shapedefaults\":{\"line\":{\"color\":\"#2a3f5f\"}},\"ternary\":{\"aaxis\":{\"gridcolor\":\"white\",\"linecolor\":\"white\",\"ticks\":\"\"},\"baxis\":{\"gridcolor\":\"white\",\"linecolor\":\"white\",\"ticks\":\"\"},\"bgcolor\":\"#E5ECF6\",\"caxis\":{\"gridcolor\":\"white\",\"linecolor\":\"white\",\"ticks\":\"\"}},\"title\":{\"x\":0.05},\"xaxis\":{\"automargin\":true,\"gridcolor\":\"white\",\"linecolor\":\"white\",\"ticks\":\"\",\"title\":{\"standoff\":15},\"zerolinecolor\":\"white\",\"zerolinewidth\":2},\"yaxis\":{\"automargin\":true,\"gridcolor\":\"white\",\"linecolor\":\"white\",\"ticks\":\"\",\"title\":{\"standoff\":15},\"zerolinecolor\":\"white\",\"zerolinewidth\":2}}},\"xaxis\":{\"anchor\":\"y\",\"domain\":[0.0,1.0],\"scaleanchor\":\"y\",\"constrain\":\"domain\"},\"yaxis\":{\"anchor\":\"x\",\"domain\":[0.0,1.0],\"autorange\":\"reversed\",\"constrain\":\"domain\"},\"coloraxis\":{\"colorscale\":[[0.0,\"#0d0887\"],[0.1111111111111111,\"#46039f\"],[0.2222222222222222,\"#7201a8\"],[0.3333333333333333,\"#9c179e\"],[0.4444444444444444,\"#bd3786\"],[0.5555555555555556,\"#d8576b\"],[0.6666666666666666,\"#ed7953\"],[0.7777777777777778,\"#fb9f3a\"],[0.8888888888888888,\"#fdca26\"],[1.0,\"#f0f921\"]]},\"margin\":{\"t\":60},\"title\":{\"text\":\"TFIDF Vectorizer MultinomialNB Confusion Matrix\"}},                        {\"responsive\": true}                    ).then(function(){\n",
              "                            \n",
              "var gd = document.getElementById('1195ea44-b951-487e-ad73-8a6d63ba9884');\n",
              "var x = new MutationObserver(function (mutations, observer) {{\n",
              "        var display = window.getComputedStyle(gd).display;\n",
              "        if (!display || display === 'none') {{\n",
              "            console.log([gd, 'removed!']);\n",
              "            Plotly.purge(gd);\n",
              "            observer.disconnect();\n",
              "        }}\n",
              "}});\n",
              "\n",
              "// Listen for the removal of the full notebook cells\n",
              "var notebookContainer = gd.closest('#notebook-container');\n",
              "if (notebookContainer) {{\n",
              "    x.observe(notebookContainer, {childList: true});\n",
              "}}\n",
              "\n",
              "// Listen for the clearing of the current output cell\n",
              "var outputEl = gd.closest('.output');\n",
              "if (outputEl) {{\n",
              "    x.observe(outputEl, {childList: true});\n",
              "}}\n",
              "\n",
              "                        })                };                            </script>        </div>\n",
              "</body>\n",
              "</html>"
            ]
          },
          "metadata": {}
        }
      ]
    },
    {
      "cell_type": "code",
      "source": [
        "fig = px.scatter(x=(list(f1_scores.keys())), y=list(f1_scores.values()), color=list(f1_scores.keys()))\n",
        "fig.update_layout(xaxis_title = \"MultinomialNB F1 Score Average\", yaxis_title = \"Score\", title = \"F1 Scores\", legend_title=\"F1 Score Averages\")\n",
        "fig.update_traces(marker_size=10)\n",
        "fig.show(renderer = \"colab\")"
      ],
      "metadata": {
        "colab": {
          "base_uri": "https://localhost:8080/",
          "height": 542
        },
        "outputId": "433b2a43-d27d-4d52-a1c4-c963358e9e48",
        "id": "kYUk_rUJUjAR"
      },
      "execution_count": null,
      "outputs": [
        {
          "output_type": "display_data",
          "data": {
            "text/html": [
              "<html>\n",
              "<head><meta charset=\"utf-8\" /></head>\n",
              "<body>\n",
              "    <div>            <script src=\"https://cdnjs.cloudflare.com/ajax/libs/mathjax/2.7.5/MathJax.js?config=TeX-AMS-MML_SVG\"></script><script type=\"text/javascript\">if (window.MathJax) {MathJax.Hub.Config({SVG: {font: \"STIX-Web\"}});}</script>                <script type=\"text/javascript\">window.PlotlyConfig = {MathJaxConfig: 'local'};</script>\n",
              "        <script src=\"https://cdn.plot.ly/plotly-2.9.0.min.js\"></script>                <div id=\"466df0f8-efc1-4803-9d41-97d885d3f9ac\" class=\"plotly-graph-div\" style=\"height:525px; width:100%;\"></div>            <script type=\"text/javascript\">                                    window.PLOTLYENV=window.PLOTLYENV || {};                                    if (document.getElementById(\"466df0f8-efc1-4803-9d41-97d885d3f9ac\")) {                    Plotly.newPlot(                        \"466df0f8-efc1-4803-9d41-97d885d3f9ac\",                        [{\"hovertemplate\":\"color=Tfidf_macro<br>x=%{x}<br>y=%{y}<extra></extra>\",\"legendgroup\":\"Tfidf_macro\",\"marker\":{\"color\":\"#636efa\",\"symbol\":\"circle\",\"size\":10},\"mode\":\"markers\",\"name\":\"Tfidf_macro\",\"orientation\":\"v\",\"showlegend\":true,\"x\":[\"Tfidf_macro\"],\"xaxis\":\"x\",\"y\":[0.4821988854506453],\"yaxis\":\"y\",\"type\":\"scatter\"},{\"hovertemplate\":\"color=Tfidf_micro<br>x=%{x}<br>y=%{y}<extra></extra>\",\"legendgroup\":\"Tfidf_micro\",\"marker\":{\"color\":\"#EF553B\",\"symbol\":\"circle\",\"size\":10},\"mode\":\"markers\",\"name\":\"Tfidf_micro\",\"orientation\":\"v\",\"showlegend\":true,\"x\":[\"Tfidf_micro\"],\"xaxis\":\"x\",\"y\":[0.6532685512367491],\"yaxis\":\"y\",\"type\":\"scatter\"},{\"hovertemplate\":\"color=Tfidf_weighted<br>x=%{x}<br>y=%{y}<extra></extra>\",\"legendgroup\":\"Tfidf_weighted\",\"marker\":{\"color\":\"#00cc96\",\"symbol\":\"circle\",\"size\":10},\"mode\":\"markers\",\"name\":\"Tfidf_weighted\",\"orientation\":\"v\",\"showlegend\":true,\"x\":[\"Tfidf_weighted\"],\"xaxis\":\"x\",\"y\":[0.6240153563844799],\"yaxis\":\"y\",\"type\":\"scatter\"},{\"hovertemplate\":\"color=Count_macro<br>x=%{x}<br>y=%{y}<extra></extra>\",\"legendgroup\":\"Count_macro\",\"marker\":{\"color\":\"#ab63fa\",\"symbol\":\"circle\",\"size\":10},\"mode\":\"markers\",\"name\":\"Count_macro\",\"orientation\":\"v\",\"showlegend\":true,\"x\":[\"Count_macro\"],\"xaxis\":\"x\",\"y\":[0.6076532926458215],\"yaxis\":\"y\",\"type\":\"scatter\"},{\"hovertemplate\":\"color=Count_micro<br>x=%{x}<br>y=%{y}<extra></extra>\",\"legendgroup\":\"Count_micro\",\"marker\":{\"color\":\"#FFA15A\",\"symbol\":\"circle\",\"size\":10},\"mode\":\"markers\",\"name\":\"Count_micro\",\"orientation\":\"v\",\"showlegend\":true,\"x\":[\"Count_micro\"],\"xaxis\":\"x\",\"y\":[0.6756110129564193],\"yaxis\":\"y\",\"type\":\"scatter\"},{\"hovertemplate\":\"color=Count_weighted<br>x=%{x}<br>y=%{y}<extra></extra>\",\"legendgroup\":\"Count_weighted\",\"marker\":{\"color\":\"#19d3f3\",\"symbol\":\"circle\",\"size\":10},\"mode\":\"markers\",\"name\":\"Count_weighted\",\"orientation\":\"v\",\"showlegend\":true,\"x\":[\"Count_weighted\"],\"xaxis\":\"x\",\"y\":[0.6794890530656943],\"yaxis\":\"y\",\"type\":\"scatter\"},{\"hovertemplate\":\"color=Hash_macro<br>x=%{x}<br>y=%{y}<extra></extra>\",\"legendgroup\":\"Hash_macro\",\"marker\":{\"color\":\"#FF6692\",\"symbol\":\"circle\",\"size\":10},\"mode\":\"markers\",\"name\":\"Hash_macro\",\"orientation\":\"v\",\"showlegend\":true,\"x\":[\"Hash_macro\"],\"xaxis\":\"x\",\"y\":[0.23636370923198108],\"yaxis\":\"y\",\"type\":\"scatter\"},{\"hovertemplate\":\"color=Hash_micro<br>x=%{x}<br>y=%{y}<extra></extra>\",\"legendgroup\":\"Hash_micro\",\"marker\":{\"color\":\"#B6E880\",\"symbol\":\"circle\",\"size\":10},\"mode\":\"markers\",\"name\":\"Hash_micro\",\"orientation\":\"v\",\"showlegend\":true,\"x\":[\"Hash_micro\"],\"xaxis\":\"x\",\"y\":[0.534194640753828],\"yaxis\":\"y\",\"type\":\"scatter\"},{\"hovertemplate\":\"color=Hash_weighted<br>x=%{x}<br>y=%{y}<extra></extra>\",\"legendgroup\":\"Hash_weighted\",\"marker\":{\"color\":\"#FF97FF\",\"symbol\":\"circle\",\"size\":10},\"mode\":\"markers\",\"name\":\"Hash_weighted\",\"orientation\":\"v\",\"showlegend\":true,\"x\":[\"Hash_weighted\"],\"xaxis\":\"x\",\"y\":[0.4393044736305714],\"yaxis\":\"y\",\"type\":\"scatter\"}],                        {\"template\":{\"data\":{\"bar\":[{\"error_x\":{\"color\":\"#2a3f5f\"},\"error_y\":{\"color\":\"#2a3f5f\"},\"marker\":{\"line\":{\"color\":\"#E5ECF6\",\"width\":0.5},\"pattern\":{\"fillmode\":\"overlay\",\"size\":10,\"solidity\":0.2}},\"type\":\"bar\"}],\"barpolar\":[{\"marker\":{\"line\":{\"color\":\"#E5ECF6\",\"width\":0.5},\"pattern\":{\"fillmode\":\"overlay\",\"size\":10,\"solidity\":0.2}},\"type\":\"barpolar\"}],\"carpet\":[{\"aaxis\":{\"endlinecolor\":\"#2a3f5f\",\"gridcolor\":\"white\",\"linecolor\":\"white\",\"minorgridcolor\":\"white\",\"startlinecolor\":\"#2a3f5f\"},\"baxis\":{\"endlinecolor\":\"#2a3f5f\",\"gridcolor\":\"white\",\"linecolor\":\"white\",\"minorgridcolor\":\"white\",\"startlinecolor\":\"#2a3f5f\"},\"type\":\"carpet\"}],\"choropleth\":[{\"colorbar\":{\"outlinewidth\":0,\"ticks\":\"\"},\"type\":\"choropleth\"}],\"contour\":[{\"colorbar\":{\"outlinewidth\":0,\"ticks\":\"\"},\"colorscale\":[[0.0,\"#0d0887\"],[0.1111111111111111,\"#46039f\"],[0.2222222222222222,\"#7201a8\"],[0.3333333333333333,\"#9c179e\"],[0.4444444444444444,\"#bd3786\"],[0.5555555555555556,\"#d8576b\"],[0.6666666666666666,\"#ed7953\"],[0.7777777777777778,\"#fb9f3a\"],[0.8888888888888888,\"#fdca26\"],[1.0,\"#f0f921\"]],\"type\":\"contour\"}],\"contourcarpet\":[{\"colorbar\":{\"outlinewidth\":0,\"ticks\":\"\"},\"type\":\"contourcarpet\"}],\"heatmap\":[{\"colorbar\":{\"outlinewidth\":0,\"ticks\":\"\"},\"colorscale\":[[0.0,\"#0d0887\"],[0.1111111111111111,\"#46039f\"],[0.2222222222222222,\"#7201a8\"],[0.3333333333333333,\"#9c179e\"],[0.4444444444444444,\"#bd3786\"],[0.5555555555555556,\"#d8576b\"],[0.6666666666666666,\"#ed7953\"],[0.7777777777777778,\"#fb9f3a\"],[0.8888888888888888,\"#fdca26\"],[1.0,\"#f0f921\"]],\"type\":\"heatmap\"}],\"heatmapgl\":[{\"colorbar\":{\"outlinewidth\":0,\"ticks\":\"\"},\"colorscale\":[[0.0,\"#0d0887\"],[0.1111111111111111,\"#46039f\"],[0.2222222222222222,\"#7201a8\"],[0.3333333333333333,\"#9c179e\"],[0.4444444444444444,\"#bd3786\"],[0.5555555555555556,\"#d8576b\"],[0.6666666666666666,\"#ed7953\"],[0.7777777777777778,\"#fb9f3a\"],[0.8888888888888888,\"#fdca26\"],[1.0,\"#f0f921\"]],\"type\":\"heatmapgl\"}],\"histogram\":[{\"marker\":{\"pattern\":{\"fillmode\":\"overlay\",\"size\":10,\"solidity\":0.2}},\"type\":\"histogram\"}],\"histogram2d\":[{\"colorbar\":{\"outlinewidth\":0,\"ticks\":\"\"},\"colorscale\":[[0.0,\"#0d0887\"],[0.1111111111111111,\"#46039f\"],[0.2222222222222222,\"#7201a8\"],[0.3333333333333333,\"#9c179e\"],[0.4444444444444444,\"#bd3786\"],[0.5555555555555556,\"#d8576b\"],[0.6666666666666666,\"#ed7953\"],[0.7777777777777778,\"#fb9f3a\"],[0.8888888888888888,\"#fdca26\"],[1.0,\"#f0f921\"]],\"type\":\"histogram2d\"}],\"histogram2dcontour\":[{\"colorbar\":{\"outlinewidth\":0,\"ticks\":\"\"},\"colorscale\":[[0.0,\"#0d0887\"],[0.1111111111111111,\"#46039f\"],[0.2222222222222222,\"#7201a8\"],[0.3333333333333333,\"#9c179e\"],[0.4444444444444444,\"#bd3786\"],[0.5555555555555556,\"#d8576b\"],[0.6666666666666666,\"#ed7953\"],[0.7777777777777778,\"#fb9f3a\"],[0.8888888888888888,\"#fdca26\"],[1.0,\"#f0f921\"]],\"type\":\"histogram2dcontour\"}],\"mesh3d\":[{\"colorbar\":{\"outlinewidth\":0,\"ticks\":\"\"},\"type\":\"mesh3d\"}],\"parcoords\":[{\"line\":{\"colorbar\":{\"outlinewidth\":0,\"ticks\":\"\"}},\"type\":\"parcoords\"}],\"pie\":[{\"automargin\":true,\"type\":\"pie\"}],\"scatter\":[{\"marker\":{\"colorbar\":{\"outlinewidth\":0,\"ticks\":\"\"}},\"type\":\"scatter\"}],\"scatter3d\":[{\"line\":{\"colorbar\":{\"outlinewidth\":0,\"ticks\":\"\"}},\"marker\":{\"colorbar\":{\"outlinewidth\":0,\"ticks\":\"\"}},\"type\":\"scatter3d\"}],\"scattercarpet\":[{\"marker\":{\"colorbar\":{\"outlinewidth\":0,\"ticks\":\"\"}},\"type\":\"scattercarpet\"}],\"scattergeo\":[{\"marker\":{\"colorbar\":{\"outlinewidth\":0,\"ticks\":\"\"}},\"type\":\"scattergeo\"}],\"scattergl\":[{\"marker\":{\"colorbar\":{\"outlinewidth\":0,\"ticks\":\"\"}},\"type\":\"scattergl\"}],\"scattermapbox\":[{\"marker\":{\"colorbar\":{\"outlinewidth\":0,\"ticks\":\"\"}},\"type\":\"scattermapbox\"}],\"scatterpolar\":[{\"marker\":{\"colorbar\":{\"outlinewidth\":0,\"ticks\":\"\"}},\"type\":\"scatterpolar\"}],\"scatterpolargl\":[{\"marker\":{\"colorbar\":{\"outlinewidth\":0,\"ticks\":\"\"}},\"type\":\"scatterpolargl\"}],\"scatterternary\":[{\"marker\":{\"colorbar\":{\"outlinewidth\":0,\"ticks\":\"\"}},\"type\":\"scatterternary\"}],\"surface\":[{\"colorbar\":{\"outlinewidth\":0,\"ticks\":\"\"},\"colorscale\":[[0.0,\"#0d0887\"],[0.1111111111111111,\"#46039f\"],[0.2222222222222222,\"#7201a8\"],[0.3333333333333333,\"#9c179e\"],[0.4444444444444444,\"#bd3786\"],[0.5555555555555556,\"#d8576b\"],[0.6666666666666666,\"#ed7953\"],[0.7777777777777778,\"#fb9f3a\"],[0.8888888888888888,\"#fdca26\"],[1.0,\"#f0f921\"]],\"type\":\"surface\"}],\"table\":[{\"cells\":{\"fill\":{\"color\":\"#EBF0F8\"},\"line\":{\"color\":\"white\"}},\"header\":{\"fill\":{\"color\":\"#C8D4E3\"},\"line\":{\"color\":\"white\"}},\"type\":\"table\"}]},\"layout\":{\"annotationdefaults\":{\"arrowcolor\":\"#2a3f5f\",\"arrowhead\":0,\"arrowwidth\":1},\"autotypenumbers\":\"strict\",\"coloraxis\":{\"colorbar\":{\"outlinewidth\":0,\"ticks\":\"\"}},\"colorscale\":{\"diverging\":[[0,\"#8e0152\"],[0.1,\"#c51b7d\"],[0.2,\"#de77ae\"],[0.3,\"#f1b6da\"],[0.4,\"#fde0ef\"],[0.5,\"#f7f7f7\"],[0.6,\"#e6f5d0\"],[0.7,\"#b8e186\"],[0.8,\"#7fbc41\"],[0.9,\"#4d9221\"],[1,\"#276419\"]],\"sequential\":[[0.0,\"#0d0887\"],[0.1111111111111111,\"#46039f\"],[0.2222222222222222,\"#7201a8\"],[0.3333333333333333,\"#9c179e\"],[0.4444444444444444,\"#bd3786\"],[0.5555555555555556,\"#d8576b\"],[0.6666666666666666,\"#ed7953\"],[0.7777777777777778,\"#fb9f3a\"],[0.8888888888888888,\"#fdca26\"],[1.0,\"#f0f921\"]],\"sequentialminus\":[[0.0,\"#0d0887\"],[0.1111111111111111,\"#46039f\"],[0.2222222222222222,\"#7201a8\"],[0.3333333333333333,\"#9c179e\"],[0.4444444444444444,\"#bd3786\"],[0.5555555555555556,\"#d8576b\"],[0.6666666666666666,\"#ed7953\"],[0.7777777777777778,\"#fb9f3a\"],[0.8888888888888888,\"#fdca26\"],[1.0,\"#f0f921\"]]},\"colorway\":[\"#636efa\",\"#EF553B\",\"#00cc96\",\"#ab63fa\",\"#FFA15A\",\"#19d3f3\",\"#FF6692\",\"#B6E880\",\"#FF97FF\",\"#FECB52\"],\"font\":{\"color\":\"#2a3f5f\"},\"geo\":{\"bgcolor\":\"white\",\"lakecolor\":\"white\",\"landcolor\":\"#E5ECF6\",\"showlakes\":true,\"showland\":true,\"subunitcolor\":\"white\"},\"hoverlabel\":{\"align\":\"left\"},\"hovermode\":\"closest\",\"mapbox\":{\"style\":\"light\"},\"paper_bgcolor\":\"white\",\"plot_bgcolor\":\"#E5ECF6\",\"polar\":{\"angularaxis\":{\"gridcolor\":\"white\",\"linecolor\":\"white\",\"ticks\":\"\"},\"bgcolor\":\"#E5ECF6\",\"radialaxis\":{\"gridcolor\":\"white\",\"linecolor\":\"white\",\"ticks\":\"\"}},\"scene\":{\"xaxis\":{\"backgroundcolor\":\"#E5ECF6\",\"gridcolor\":\"white\",\"gridwidth\":2,\"linecolor\":\"white\",\"showbackground\":true,\"ticks\":\"\",\"zerolinecolor\":\"white\"},\"yaxis\":{\"backgroundcolor\":\"#E5ECF6\",\"gridcolor\":\"white\",\"gridwidth\":2,\"linecolor\":\"white\",\"showbackground\":true,\"ticks\":\"\",\"zerolinecolor\":\"white\"},\"zaxis\":{\"backgroundcolor\":\"#E5ECF6\",\"gridcolor\":\"white\",\"gridwidth\":2,\"linecolor\":\"white\",\"showbackground\":true,\"ticks\":\"\",\"zerolinecolor\":\"white\"}},\"shapedefaults\":{\"line\":{\"color\":\"#2a3f5f\"}},\"ternary\":{\"aaxis\":{\"gridcolor\":\"white\",\"linecolor\":\"white\",\"ticks\":\"\"},\"baxis\":{\"gridcolor\":\"white\",\"linecolor\":\"white\",\"ticks\":\"\"},\"bgcolor\":\"#E5ECF6\",\"caxis\":{\"gridcolor\":\"white\",\"linecolor\":\"white\",\"ticks\":\"\"}},\"title\":{\"x\":0.05},\"xaxis\":{\"automargin\":true,\"gridcolor\":\"white\",\"linecolor\":\"white\",\"ticks\":\"\",\"title\":{\"standoff\":15},\"zerolinecolor\":\"white\",\"zerolinewidth\":2},\"yaxis\":{\"automargin\":true,\"gridcolor\":\"white\",\"linecolor\":\"white\",\"ticks\":\"\",\"title\":{\"standoff\":15},\"zerolinecolor\":\"white\",\"zerolinewidth\":2}}},\"xaxis\":{\"anchor\":\"y\",\"domain\":[0.0,1.0],\"title\":{\"text\":\"MultinomialNB F1 Score Average\"}},\"yaxis\":{\"anchor\":\"x\",\"domain\":[0.0,1.0],\"title\":{\"text\":\"Score\"}},\"legend\":{\"title\":{\"text\":\"F1 Score Averages\"},\"tracegroupgap\":0},\"margin\":{\"t\":60},\"title\":{\"text\":\"F1 Scores\"}},                        {\"responsive\": true}                    ).then(function(){\n",
              "                            \n",
              "var gd = document.getElementById('466df0f8-efc1-4803-9d41-97d885d3f9ac');\n",
              "var x = new MutationObserver(function (mutations, observer) {{\n",
              "        var display = window.getComputedStyle(gd).display;\n",
              "        if (!display || display === 'none') {{\n",
              "            console.log([gd, 'removed!']);\n",
              "            Plotly.purge(gd);\n",
              "            observer.disconnect();\n",
              "        }}\n",
              "}});\n",
              "\n",
              "// Listen for the removal of the full notebook cells\n",
              "var notebookContainer = gd.closest('#notebook-container');\n",
              "if (notebookContainer) {{\n",
              "    x.observe(notebookContainer, {childList: true});\n",
              "}}\n",
              "\n",
              "// Listen for the clearing of the current output cell\n",
              "var outputEl = gd.closest('.output');\n",
              "if (outputEl) {{\n",
              "    x.observe(outputEl, {childList: true});\n",
              "}}\n",
              "\n",
              "                        })                };                            </script>        </div>\n",
              "</body>\n",
              "</html>"
            ]
          },
          "metadata": {}
        }
      ]
    },
    {
      "cell_type": "markdown",
      "source": [
        "# TFIDF Vectorizer Paired With MultinomialNB Sample Predictions"
      ],
      "metadata": {
        "id": "wA_JygJLhtBP"
      }
    },
    {
      "cell_type": "code",
      "source": [
        "tfidf_model.predict(tfidf_vectorizer.transform([\"Texas sues Biden administration to stop mask mandates on planes – as it happened\"])) #Poltical headline"
      ],
      "metadata": {
        "colab": {
          "base_uri": "https://localhost:8080/"
        },
        "outputId": "8ddcb16d-866b-4657-d224-4bd2c58a98dd",
        "id": "aAIq2WsThtBQ"
      },
      "execution_count": null,
      "outputs": [
        {
          "output_type": "execute_result",
          "data": {
            "text/plain": [
              "array(['POLITICS'], dtype='<U19')"
            ]
          },
          "metadata": {},
          "execution_count": 226
        }
      ]
    },
    {
      "cell_type": "code",
      "source": [
        "tfidf_model.predict(tfidf_vectorizer.transform([\"Google moves to make Android apps more private\"])) #Tech headline"
      ],
      "metadata": {
        "colab": {
          "base_uri": "https://localhost:8080/"
        },
        "outputId": "b1228087-9cf4-4567-d6bc-afb18874e7b7",
        "id": "7t1EWh-AhtBQ"
      },
      "execution_count": null,
      "outputs": [
        {
          "output_type": "execute_result",
          "data": {
            "text/plain": [
              "array(['TECH'], dtype='<U19')"
            ]
          },
          "metadata": {},
          "execution_count": 227
        }
      ]
    },
    {
      "cell_type": "code",
      "source": [
        "tfidf_model.predict(tfidf_vectorizer.transform([\"Googles plan to limit data tracking on its Chrome browser has been extended to cover apps on its Android-based smartphones.\"])) #Tech short description"
      ],
      "metadata": {
        "colab": {
          "base_uri": "https://localhost:8080/"
        },
        "outputId": "1001482a-84c7-4f97-d08d-a943dda0576e",
        "id": "oLkSJRVzhtBQ"
      },
      "execution_count": null,
      "outputs": [
        {
          "output_type": "execute_result",
          "data": {
            "text/plain": [
              "array(['TECH'], dtype='<U19')"
            ]
          },
          "metadata": {},
          "execution_count": 228
        }
      ]
    },
    {
      "cell_type": "code",
      "source": [
        "tfidf_model.predict(tfidf_vectorizer.transform([\"Austria and Germany have both announced plans to relax Covid-19 measures, weeks after pushing for compulsory vaccinations to curb infections.\"])) #General/Covid News"
      ],
      "metadata": {
        "colab": {
          "base_uri": "https://localhost:8080/"
        },
        "id": "eLyauJmYhtBQ",
        "outputId": "a4df7cb4-f439-4f09-bd23-3e14f42e7abf"
      },
      "execution_count": null,
      "outputs": [
        {
          "output_type": "execute_result",
          "data": {
            "text/plain": [
              "array(['WORLD NEWS'], dtype='<U19')"
            ]
          },
          "metadata": {},
          "execution_count": 229
        }
      ]
    },
    {
      "cell_type": "code",
      "source": [
        "tfidf_model.predict(tfidf_vectorizer.transform(['EUROPE Soldier abused for being gay told to provide intimate pictures to prove his sexuality'])) #Queer News"
      ],
      "metadata": {
        "colab": {
          "base_uri": "https://localhost:8080/"
        },
        "outputId": "b5426884-7ce7-4ffd-8a66-7405608fffa6",
        "id": "EJnGV0tDhtBQ"
      },
      "execution_count": null,
      "outputs": [
        {
          "output_type": "execute_result",
          "data": {
            "text/plain": [
              "array(['QUEER VOICES'], dtype='<U19')"
            ]
          },
          "metadata": {},
          "execution_count": 230
        }
      ]
    },
    {
      "cell_type": "code",
      "source": [
        "tfidf_model.predict(tfidf_vectorizer.transform(['Five healthy ways to discipline children'])) #Parenting News"
      ],
      "metadata": {
        "colab": {
          "base_uri": "https://localhost:8080/"
        },
        "outputId": "f82a5400-abeb-41d9-fde9-6fde64ed5b06",
        "id": "ZV8c-52PhtBQ"
      },
      "execution_count": null,
      "outputs": [
        {
          "output_type": "execute_result",
          "data": {
            "text/plain": [
              "array(['WELLNESS'], dtype='<U19')"
            ]
          },
          "metadata": {},
          "execution_count": 231
        }
      ]
    },
    {
      "cell_type": "markdown",
      "source": [
        "With the short description of the previous headline the model predicts this as a Wellness category"
      ],
      "metadata": {
        "id": "6ezeEUSthtBR"
      }
    },
    {
      "cell_type": "code",
      "source": [
        "tfidf_model.predict(tfidf_vectorizer.transform(['A positive disciplining strategy can help develop a positive relationship and set expectations based on the behavioral outcomes, says an expert.']))"
      ],
      "metadata": {
        "colab": {
          "base_uri": "https://localhost:8080/"
        },
        "outputId": "db729273-b9e9-462c-fb61-0f293cede222",
        "id": "lpB_Pt6GhtBR"
      },
      "execution_count": null,
      "outputs": [
        {
          "output_type": "execute_result",
          "data": {
            "text/plain": [
              "array(['WELLNESS'], dtype='<U19')"
            ]
          },
          "metadata": {},
          "execution_count": 232
        }
      ]
    },
    {
      "cell_type": "markdown",
      "source": [
        "And with both headline and short description the model predicts this as a Wellness category"
      ],
      "metadata": {
        "id": "J9r06bcyhtBR"
      }
    },
    {
      "cell_type": "code",
      "source": [
        "tfidf_model.predict(tfidf_vectorizer.transform(['Five healthy ways to discipline children A positive disciplining strategy can help develop a positive relationship and set expectations based on the behavioral outcomes, says an expert.']))"
      ],
      "metadata": {
        "colab": {
          "base_uri": "https://localhost:8080/"
        },
        "outputId": "b254ce00-6fbd-49e9-a8ac-a5570766af2e",
        "id": "Vlm8WMxBhtBR"
      },
      "execution_count": null,
      "outputs": [
        {
          "output_type": "execute_result",
          "data": {
            "text/plain": [
              "array(['WELLNESS'], dtype='<U19')"
            ]
          },
          "metadata": {},
          "execution_count": 233
        }
      ]
    },
    {
      "cell_type": "markdown",
      "source": [
        "# Count Vectorizer Paired With MultinomialNB Sample Predictions"
      ],
      "metadata": {
        "id": "Jpm19BSNhwfF"
      }
    },
    {
      "cell_type": "code",
      "source": [
        "count_model.predict(countVectorizer.transform([\"Texas sues Biden administration to stop mask mandates on planes – as it happened\"])) #Poltical headline"
      ],
      "metadata": {
        "colab": {
          "base_uri": "https://localhost:8080/"
        },
        "outputId": "3922e94b-150c-4489-977f-271cc0b4422d",
        "id": "n5FrvPwghwfF"
      },
      "execution_count": null,
      "outputs": [
        {
          "output_type": "execute_result",
          "data": {
            "text/plain": [
              "array(['POLITICS'], dtype='<U19')"
            ]
          },
          "metadata": {},
          "execution_count": 234
        }
      ]
    },
    {
      "cell_type": "code",
      "source": [
        "count_model.predict(countVectorizer.transform([\"Google moves to make Android apps more private\"])) #Tech headline"
      ],
      "metadata": {
        "colab": {
          "base_uri": "https://localhost:8080/"
        },
        "outputId": "3b4ef229-af79-4f47-c86e-baf7c2cbb37a",
        "id": "-sgc0F6LhwfF"
      },
      "execution_count": null,
      "outputs": [
        {
          "output_type": "execute_result",
          "data": {
            "text/plain": [
              "array(['TECH'], dtype='<U19')"
            ]
          },
          "metadata": {},
          "execution_count": 235
        }
      ]
    },
    {
      "cell_type": "code",
      "source": [
        "count_model.predict(countVectorizer.transform([\"Googles plan to limit data tracking on its Chrome browser has been extended to cover apps on its Android-based smartphones.\"])) #Tech short description"
      ],
      "metadata": {
        "colab": {
          "base_uri": "https://localhost:8080/"
        },
        "outputId": "dd5b6b24-184f-4ee5-b2c2-3e7e3ff3e32b",
        "id": "g3g7lowfhwfG"
      },
      "execution_count": null,
      "outputs": [
        {
          "output_type": "execute_result",
          "data": {
            "text/plain": [
              "array(['TECH'], dtype='<U19')"
            ]
          },
          "metadata": {},
          "execution_count": 236
        }
      ]
    },
    {
      "cell_type": "code",
      "source": [
        "count_model.predict(countVectorizer.transform([\"Austria and Germany have both announced plans to relax Covid-19 measures, weeks after pushing for compulsory vaccinations to curb infections.\"])) #General/Covid News"
      ],
      "metadata": {
        "colab": {
          "base_uri": "https://localhost:8080/"
        },
        "outputId": "ed9ccfce-7814-43f2-eaee-6e5a5ff89562",
        "id": "zG1HqaK4hwfG"
      },
      "execution_count": null,
      "outputs": [
        {
          "output_type": "execute_result",
          "data": {
            "text/plain": [
              "array(['WORLD NEWS'], dtype='<U19')"
            ]
          },
          "metadata": {},
          "execution_count": 237
        }
      ]
    },
    {
      "cell_type": "code",
      "source": [
        "count_model.predict(countVectorizer.transform(['EUROPE Soldier abused for being gay told to provide intimate pictures to prove his sexuality'])) #Queer News"
      ],
      "metadata": {
        "colab": {
          "base_uri": "https://localhost:8080/"
        },
        "outputId": "b62508a1-4668-4065-dc44-2703fc52425e",
        "id": "YtvMsukChwfG"
      },
      "execution_count": null,
      "outputs": [
        {
          "output_type": "execute_result",
          "data": {
            "text/plain": [
              "array(['QUEER VOICES'], dtype='<U19')"
            ]
          },
          "metadata": {},
          "execution_count": 238
        }
      ]
    },
    {
      "cell_type": "code",
      "source": [
        "count_model.predict(countVectorizer.transform(['Five healthy ways to discipline children'])) #Parenting News"
      ],
      "metadata": {
        "colab": {
          "base_uri": "https://localhost:8080/"
        },
        "outputId": "c177f70d-c187-4c8b-cfde-f8e2c8f85821",
        "id": "Qdd1MbllhwfG"
      },
      "execution_count": null,
      "outputs": [
        {
          "output_type": "execute_result",
          "data": {
            "text/plain": [
              "array(['PARENTS'], dtype='<U19')"
            ]
          },
          "metadata": {},
          "execution_count": 239
        }
      ]
    },
    {
      "cell_type": "markdown",
      "source": [
        "With the short description of the previous headline the model predicts this as a Wellness category"
      ],
      "metadata": {
        "id": "pZ7MaUSKhwfG"
      }
    },
    {
      "cell_type": "code",
      "source": [
        "count_model.predict(countVectorizer.transform(['A positive disciplining strategy can help develop a positive relationship and set expectations based on the behavioral outcomes, says an expert.']))"
      ],
      "metadata": {
        "colab": {
          "base_uri": "https://localhost:8080/"
        },
        "outputId": "3445afae-9f23-4a27-f26c-9920d90ebf89",
        "id": "0SBEDasqhwfG"
      },
      "execution_count": null,
      "outputs": [
        {
          "output_type": "execute_result",
          "data": {
            "text/plain": [
              "array(['WELLNESS'], dtype='<U19')"
            ]
          },
          "metadata": {},
          "execution_count": 240
        }
      ]
    },
    {
      "cell_type": "markdown",
      "source": [
        "And with both headline and short description the model predicts this as a Wellness category"
      ],
      "metadata": {
        "id": "jKT1aw2AhwfG"
      }
    },
    {
      "cell_type": "code",
      "source": [
        "count_model.predict(countVectorizer.transform(['Five healthy ways to discipline children A positive disciplining strategy can help develop a positive relationship and set expectations based on the behavioral outcomes, says an expert.']))"
      ],
      "metadata": {
        "colab": {
          "base_uri": "https://localhost:8080/"
        },
        "outputId": "7c53337c-6e8f-4882-9a19-905fcaee4c4a",
        "id": "kOZFkLxuhwfH"
      },
      "execution_count": null,
      "outputs": [
        {
          "output_type": "execute_result",
          "data": {
            "text/plain": [
              "array(['WELLNESS'], dtype='<U19')"
            ]
          },
          "metadata": {},
          "execution_count": 241
        }
      ]
    },
    {
      "cell_type": "markdown",
      "source": [
        "# Hash Vectorizer Paired With MultinomialNB Sample Predictions"
      ],
      "metadata": {
        "id": "iC64n-yihyKn"
      }
    },
    {
      "cell_type": "code",
      "source": [
        "hash_model.predict(hash_vectorizer.transform([\"Texas sues Biden administration to stop mask mandates on planes – as it happened\"])) #Poltical headline"
      ],
      "metadata": {
        "colab": {
          "base_uri": "https://localhost:8080/"
        },
        "outputId": "1cf9e061-7c6c-4d5e-f23e-3a23da33df59",
        "id": "T00uGbANhyKn"
      },
      "execution_count": null,
      "outputs": [
        {
          "output_type": "execute_result",
          "data": {
            "text/plain": [
              "array(['POLITICS'], dtype='<U19')"
            ]
          },
          "metadata": {},
          "execution_count": 242
        }
      ]
    },
    {
      "cell_type": "code",
      "source": [
        "hash_model.predict(hash_vectorizer.transform([\"Google moves to make Android apps more private\"])) #Tech headline"
      ],
      "metadata": {
        "colab": {
          "base_uri": "https://localhost:8080/"
        },
        "outputId": "43df7f61-d9a0-467a-d35b-c32c7c7de453",
        "id": "DtGIMiJBhyKo"
      },
      "execution_count": null,
      "outputs": [
        {
          "output_type": "execute_result",
          "data": {
            "text/plain": [
              "array(['WELLNESS'], dtype='<U19')"
            ]
          },
          "metadata": {},
          "execution_count": 243
        }
      ]
    },
    {
      "cell_type": "code",
      "source": [
        "hash_model.predict(hash_vectorizer.transform([\"Googles plan to limit data tracking on its Chrome browser has been extended to cover apps on its Android-based smartphones.\"])) #Tech short description"
      ],
      "metadata": {
        "colab": {
          "base_uri": "https://localhost:8080/"
        },
        "outputId": "3fac085d-c503-4d8e-90d1-796ded2dcb8f",
        "id": "N9G_ax7shyKo"
      },
      "execution_count": null,
      "outputs": [
        {
          "output_type": "execute_result",
          "data": {
            "text/plain": [
              "array(['WELLNESS'], dtype='<U19')"
            ]
          },
          "metadata": {},
          "execution_count": 244
        }
      ]
    },
    {
      "cell_type": "code",
      "source": [
        "hash_model.predict(hash_vectorizer.transform([\"Austria and Germany have both announced plans to relax Covid-19 measures, weeks after pushing for compulsory vaccinations to curb infections.\"])) #General/Covid News"
      ],
      "metadata": {
        "colab": {
          "base_uri": "https://localhost:8080/"
        },
        "outputId": "02e64f3a-d851-450c-fff8-e79db73045e5",
        "id": "lRMAS4GjhyKo"
      },
      "execution_count": null,
      "outputs": [
        {
          "output_type": "execute_result",
          "data": {
            "text/plain": [
              "array(['POLITICS'], dtype='<U19')"
            ]
          },
          "metadata": {},
          "execution_count": 245
        }
      ]
    },
    {
      "cell_type": "code",
      "source": [
        "hash_model.predict(hash_vectorizer.transform(['EUROPE Soldier abused for being gay told to provide intimate pictures to prove his sexuality'])) #Queer News"
      ],
      "metadata": {
        "colab": {
          "base_uri": "https://localhost:8080/"
        },
        "outputId": "56b35e42-f681-4322-baa7-5f9abf8bc1af",
        "id": "3PobI4eJhyKo"
      },
      "execution_count": null,
      "outputs": [
        {
          "output_type": "execute_result",
          "data": {
            "text/plain": [
              "array(['LIFESTYLE'], dtype='<U19')"
            ]
          },
          "metadata": {},
          "execution_count": 246
        }
      ]
    },
    {
      "cell_type": "code",
      "source": [
        "hash_model.predict(hash_vectorizer.transform(['Five healthy ways to discipline children'])) #Parenting News"
      ],
      "metadata": {
        "colab": {
          "base_uri": "https://localhost:8080/"
        },
        "outputId": "7d2260b5-02cb-47de-d387-a045d5e6822a",
        "id": "vPkkbHiJhyKo"
      },
      "execution_count": null,
      "outputs": [
        {
          "output_type": "execute_result",
          "data": {
            "text/plain": [
              "array(['WELLNESS'], dtype='<U19')"
            ]
          },
          "metadata": {},
          "execution_count": 247
        }
      ]
    },
    {
      "cell_type": "markdown",
      "source": [
        "With the short description of the previous headline the model predicts this as a Wellness category"
      ],
      "metadata": {
        "id": "zrxtgI4JhyKo"
      }
    },
    {
      "cell_type": "code",
      "source": [
        "hash_model.predict(hash_vectorizer.transform(['A positive disciplining strategy can help develop a positive relationship and set expectations based on the behavioral outcomes, says an expert.']))"
      ],
      "metadata": {
        "colab": {
          "base_uri": "https://localhost:8080/"
        },
        "outputId": "67dc1edb-8f82-47f9-8931-e169170cfc57",
        "id": "7zQGmyeEhyKo"
      },
      "execution_count": null,
      "outputs": [
        {
          "output_type": "execute_result",
          "data": {
            "text/plain": [
              "array(['WELLNESS'], dtype='<U19')"
            ]
          },
          "metadata": {},
          "execution_count": 248
        }
      ]
    },
    {
      "cell_type": "markdown",
      "source": [
        "And with both headline and short description the model predicts this as a Wellness category"
      ],
      "metadata": {
        "id": "7v3EpZx1hyKo"
      }
    },
    {
      "cell_type": "code",
      "source": [
        "hash_model.predict(hash_vectorizer.transform(['Five healthy ways to discipline children A positive disciplining strategy can help develop a positive relationship and set expectations based on the behavioral outcomes, says an expert.']))"
      ],
      "metadata": {
        "colab": {
          "base_uri": "https://localhost:8080/"
        },
        "outputId": "e922dd5f-d08a-4a48-8964-8b83e04dcc1a",
        "id": "1Q8KISQhhyKp"
      },
      "execution_count": null,
      "outputs": [
        {
          "output_type": "execute_result",
          "data": {
            "text/plain": [
              "array(['WELLNESS'], dtype='<U19')"
            ]
          },
          "metadata": {},
          "execution_count": 249
        }
      ]
    },
    {
      "cell_type": "markdown",
      "source": [
        "# SGD Classifier"
      ],
      "metadata": {
        "id": "4TSdMIS1GbWI"
      }
    },
    {
      "cell_type": "code",
      "source": [
        "from sklearn.linear_model import SGDClassifier"
      ],
      "metadata": {
        "id": "jSvTzWuMGbWI"
      },
      "execution_count": null,
      "outputs": []
    },
    {
      "cell_type": "code",
      "source": [
        "def SGDModelHyperParams(input, vector, vectorizerName,round, **params):\n",
        "    model = SGDClassifier(**params) #**params for tuning the SGD Classifier model\n",
        "    model.fit(input, train_targets.values.ravel()) #Fitting the model \n",
        "    print(\"Training set score: {:.5f}\".format(model.score(input, train_targets.values.ravel()))) #Predictions for training set\n",
        "    valvector = vector.transform(val_df.combined) #Transforming the validation data for predictions\n",
        "    print(\"Validation set score: {:.5f}\\n\".format(model.score(valvector, val_targets.values.ravel()))) #Predictions for validation set\n",
        "    SGD_history.append({\"train_score\":model.score(input, train_targets.values.ravel()), \"val_score\":model.score(valvector, val_targets.values.ravel()), \"vectorizer\":vectorizerName, \"round\":round})\n",
        "    return model"
      ],
      "metadata": {
        "id": "qgrsGUc6GbWJ"
      },
      "execution_count": null,
      "outputs": []
    },
    {
      "cell_type": "code",
      "source": [
        "def SGDTuning():\n",
        "  range = increment(4000)\n",
        "  counter = 1;\n",
        "  hash_features = [10, 15, 20]\n",
        "  for i in range:\n",
        "    clean, tfidf_vectorizer = TFIDF_vectorizer(lowercase=True, max_df=0.80, max_features= i, ngram_range=(1,3), stop_words = stop) #Setting the parameters for TFIDF vectorizing\n",
        "    print(\"\\nRound {}:\\nMax_features = {}\\nVectorizer = TFIDF\".format(counter, i))  #Displaying the round/epoch and the current parameters\n",
        "    tfidf_model = SGDModelHyperParams(input = clean, vector = tfidf_vectorizer ,n_jobs = -1, random_state=42, alpha = 0.0000095, vectorizerName = \"tfidf\", round=counter)  #Setting the SGD model parameters\n",
        "\n",
        "    clean, countVectorizer = count_vectorizer(lowercase=True, max_df=0.80, max_features= i, ngram_range=(1,3), stop_words = stop) #Setting the parameters for count vectorizing\n",
        "    print(\"\\nRound {}:\\nMax_features = {}\\nVectorizer = Count Vectorizer\".format(counter, i))  #Displaying the round/epoch and the current parameters\n",
        "    count_model = SGDModelHyperParams(input = clean, vector = countVectorizer ,n_jobs = -1, random_state=42, alpha = 0.0000095, vectorizerName=\"countvectorizer\", round=counter)  #Setting the SGD model parameters\n",
        "\n",
        "    clean, hash_vectorizer = hashing_vectorizer(lowercase=True, stop_words = stop,ngram_range=(1,3),n_features = 2**hash_features[(counter-1)]) #Setting the parameters for Hash vectorizing\n",
        "    print(\"\\nRound {}:\\nMax_features = {}\\nVectorizer = Hashing Vectorizer\".format(counter, hash_features[(counter-1)]))  #Displaying the round/epoch and the current parameters\n",
        "    hash_model = SGDModelHyperParams(input = clean, vector = hash_vectorizer ,n_jobs = -1, random_state=42, alpha = 0.0000095, vectorizerName = \"hashingvectorizer\", round=counter)  #Setting the SGD model parameters\n",
        "\n",
        "    counter += 1\n",
        "  return tfidf_model, count_model, hash_model, tfidf_vectorizer, countVectorizer, hash_vectorizer"
      ],
      "metadata": {
        "id": "mpRt-LJMGbWJ"
      },
      "execution_count": null,
      "outputs": []
    },
    {
      "cell_type": "code",
      "source": [
        "%%time\n",
        "SGD_history = []\n",
        "tfidf_model, count_model, hash_model, tfidf_vectorizer, countVectorizer, hash_vectorizer = SGDTuning()"
      ],
      "metadata": {
        "colab": {
          "base_uri": "https://localhost:8080/"
        },
        "outputId": "34a34cee-1fe4-4cd9-d6dd-105f482e9ea2",
        "id": "xy8q8jzRGbWJ"
      },
      "execution_count": null,
      "outputs": [
        {
          "output_type": "stream",
          "name": "stdout",
          "text": [
            "\n",
            "Round 1:\n",
            "Max_features = 4000\n",
            "Vectorizer = TFIDF\n",
            "Training set score: 0.72563\n",
            "Validation set score: 0.67456\n",
            "\n",
            "\n",
            "Round 1:\n",
            "Max_features = 4000\n",
            "Vectorizer = Count Vectorizer\n",
            "Training set score: 0.74235\n",
            "Validation set score: 0.65115\n",
            "\n",
            "\n",
            "Round 1:\n",
            "Max_features = 10\n",
            "Vectorizer = Hashing Vectorizer\n",
            "Training set score: 0.40174\n",
            "Validation set score: 0.38321\n",
            "\n",
            "\n",
            "Round 2:\n",
            "Max_features = 8000\n",
            "Vectorizer = TFIDF\n",
            "Training set score: 0.77509\n",
            "Validation set score: 0.69753\n",
            "\n",
            "\n",
            "Round 2:\n",
            "Max_features = 8000\n",
            "Vectorizer = Count Vectorizer\n",
            "Training set score: 0.81613\n",
            "Validation set score: 0.66321\n",
            "\n",
            "\n",
            "Round 2:\n",
            "Max_features = 15\n",
            "Vectorizer = Hashing Vectorizer\n",
            "Training set score: 0.86284\n",
            "Validation set score: 0.67116\n",
            "\n",
            "\n",
            "Round 3:\n",
            "Max_features = 16000\n",
            "Vectorizer = TFIDF\n",
            "Training set score: 0.81813\n",
            "Validation set score: 0.71358\n",
            "\n",
            "\n",
            "Round 3:\n",
            "Max_features = 16000\n",
            "Vectorizer = Count Vectorizer\n",
            "Training set score: 0.89019\n",
            "Validation set score: 0.66519\n",
            "\n",
            "\n",
            "Round 3:\n",
            "Max_features = 20\n",
            "Vectorizer = Hashing Vectorizer\n",
            "Training set score: 0.94706\n",
            "Validation set score: 0.72247\n",
            "\n",
            "CPU times: total: 6min 43s\n",
            "Wall time: 4min 53s\n"
          ]
        }
      ]
    },
    {
      "cell_type": "code",
      "source": [
        "train_score_tfidf = []\n",
        "val_score_tfidf = []\n",
        "round_tfidf =[]\n",
        "train_score_count = []\n",
        "val_score_count = []\n",
        "round_count =[]\n",
        "train_score_hashing = []\n",
        "val_score_hashing = []\n",
        "round_hashing =[]\n",
        "vectorizer_model = []\n",
        "\n",
        "\n",
        "\n",
        "for x in SGD_history:\n",
        "  if(x[\"vectorizer\"]==\"tfidf\"):\n",
        "    train_score_tfidf.append(x[\"train_score\"])\n",
        "    val_score_tfidf.append(x[\"val_score\"])\n",
        "    round_tfidf.append(x[\"round\"])\n",
        "\n",
        "  if(x[\"vectorizer\"]==\"countvectorizer\"):\n",
        "    train_score_count.append(x[\"train_score\"])\n",
        "    val_score_count.append(x[\"val_score\"])\n",
        "    round_count.append(x[\"round\"])\n",
        "    \n",
        "  if(x[\"vectorizer\"]==\"hashingvectorizer\"):\n",
        "    train_score_hashing.append(x[\"train_score\"])\n",
        "    val_score_hashing.append(x[\"val_score\"])\n",
        "    round_hashing.append(x[\"round\"])\n",
        "    \n",
        "  vectorizer.append(x[\"vectorizer\"])\n",
        "\n",
        "  \n",
        "fig = go.Figure()\n",
        "\n",
        "#TFIDF Results\n",
        "fig.add_trace(go.Scatter(\n",
        "    x=round_tfidf,\n",
        "    y=train_score_tfidf,\n",
        "    name= \"TFIDF Training Accuracy\"\n",
        "))\n",
        "\n",
        "\n",
        "fig.add_trace(go.Scatter(\n",
        "    x=round_tfidf,\n",
        "    y=val_score_tfidf,\n",
        "    name=\"TFIDF Validation Accuracy\"\n",
        "))\n",
        "\n",
        "#Count Vectorizer Results\n",
        "\n",
        "fig.add_trace(go.Scatter(\n",
        "    x=round_count,\n",
        "    y=train_score_count,\n",
        "    name= \"Count Vectorizer Train Accuracy\"\n",
        "))\n",
        "\n",
        "\n",
        "fig.add_trace(go.Scatter(\n",
        "    x=round_count,\n",
        "    y=val_score_count,\n",
        "    name=\"Count Vectorizer Validation Accuracy\"\n",
        "))\n",
        "\n",
        "#Hashing Vectorizer Results\n",
        "\n",
        "fig.add_trace(go.Scatter(\n",
        "    x=round_hashing,\n",
        "    y=train_score_hashing,\n",
        "    name= \"Hash Vectorizer Train Accuracy\"\n",
        "))\n",
        "\n",
        "\n",
        "fig.add_trace(go.Scatter(\n",
        "    x=round_hashing,\n",
        "    y=val_score_hashing,\n",
        "    name=\"Hash Vectorizer Validation Accuracy\"\n",
        "))\n",
        "\n",
        "fig.update_layout(\n",
        "    title=\"SGD Model Accuracy\",\n",
        "    xaxis_title=\"Round\",\n",
        "    yaxis_title=\"Accuracy (%)\",\n",
        "    legend_title=\"Vectorzing Technique Accuracies\",\n",
        ")\n",
        "\n",
        "fig.show(renderer=\"colab\");"
      ],
      "metadata": {
        "colab": {
          "base_uri": "https://localhost:8080/",
          "height": 542
        },
        "id": "oBfe18im05E9",
        "outputId": "9e368571-e903-4f7b-f7e2-cc2a10173928"
      },
      "execution_count": null,
      "outputs": [
        {
          "output_type": "display_data",
          "data": {
            "text/html": [
              "<html>\n",
              "<head><meta charset=\"utf-8\" /></head>\n",
              "<body>\n",
              "    <div>            <script src=\"https://cdnjs.cloudflare.com/ajax/libs/mathjax/2.7.5/MathJax.js?config=TeX-AMS-MML_SVG\"></script><script type=\"text/javascript\">if (window.MathJax) {MathJax.Hub.Config({SVG: {font: \"STIX-Web\"}});}</script>                <script type=\"text/javascript\">window.PlotlyConfig = {MathJaxConfig: 'local'};</script>\n",
              "        <script src=\"https://cdn.plot.ly/plotly-2.9.0.min.js\"></script>                <div id=\"59f7f949-5126-4cdb-b88c-9508ce24c444\" class=\"plotly-graph-div\" style=\"height:525px; width:100%;\"></div>            <script type=\"text/javascript\">                                    window.PLOTLYENV=window.PLOTLYENV || {};                                    if (document.getElementById(\"59f7f949-5126-4cdb-b88c-9508ce24c444\")) {                    Plotly.newPlot(                        \"59f7f949-5126-4cdb-b88c-9508ce24c444\",                        [{\"name\":\"TFIDF Training Accuracy\",\"x\":[1,2,3],\"y\":[0.725634958195299,0.7750907083136142,0.8181258873639375],\"type\":\"scatter\"},{\"name\":\"TFIDF Validation Accuracy\",\"x\":[1,2,3],\"y\":[0.6745619846878681,0.6975301825677267,0.7135784746760895],\"type\":\"scatter\"},{\"name\":\"Count Vectorizer Train Accuracy\",\"x\":[1,2,3],\"y\":[0.7423489509386338,0.8161303044644266,0.8901877267707841],\"type\":\"scatter\"},{\"name\":\"Count Vectorizer Validation Accuracy\",\"x\":[1,2,3],\"y\":[0.6511520906949352,0.6632067137809188,0.6651943462897526],\"type\":\"scatter\"},{\"name\":\"Hash Vectorizer Train Accuracy\",\"x\":[1,2,3],\"y\":[0.4017352894778356,0.8628411421359836,0.9470578955671242],\"type\":\"scatter\"},{\"name\":\"Hash Vectorizer Validation Accuracy\",\"x\":[1,2,3],\"y\":[0.38320818610129564,0.6711572438162544,0.7224676089517079],\"type\":\"scatter\"}],                        {\"template\":{\"data\":{\"bar\":[{\"error_x\":{\"color\":\"#2a3f5f\"},\"error_y\":{\"color\":\"#2a3f5f\"},\"marker\":{\"line\":{\"color\":\"#E5ECF6\",\"width\":0.5},\"pattern\":{\"fillmode\":\"overlay\",\"size\":10,\"solidity\":0.2}},\"type\":\"bar\"}],\"barpolar\":[{\"marker\":{\"line\":{\"color\":\"#E5ECF6\",\"width\":0.5},\"pattern\":{\"fillmode\":\"overlay\",\"size\":10,\"solidity\":0.2}},\"type\":\"barpolar\"}],\"carpet\":[{\"aaxis\":{\"endlinecolor\":\"#2a3f5f\",\"gridcolor\":\"white\",\"linecolor\":\"white\",\"minorgridcolor\":\"white\",\"startlinecolor\":\"#2a3f5f\"},\"baxis\":{\"endlinecolor\":\"#2a3f5f\",\"gridcolor\":\"white\",\"linecolor\":\"white\",\"minorgridcolor\":\"white\",\"startlinecolor\":\"#2a3f5f\"},\"type\":\"carpet\"}],\"choropleth\":[{\"colorbar\":{\"outlinewidth\":0,\"ticks\":\"\"},\"type\":\"choropleth\"}],\"contour\":[{\"colorbar\":{\"outlinewidth\":0,\"ticks\":\"\"},\"colorscale\":[[0.0,\"#0d0887\"],[0.1111111111111111,\"#46039f\"],[0.2222222222222222,\"#7201a8\"],[0.3333333333333333,\"#9c179e\"],[0.4444444444444444,\"#bd3786\"],[0.5555555555555556,\"#d8576b\"],[0.6666666666666666,\"#ed7953\"],[0.7777777777777778,\"#fb9f3a\"],[0.8888888888888888,\"#fdca26\"],[1.0,\"#f0f921\"]],\"type\":\"contour\"}],\"contourcarpet\":[{\"colorbar\":{\"outlinewidth\":0,\"ticks\":\"\"},\"type\":\"contourcarpet\"}],\"heatmap\":[{\"colorbar\":{\"outlinewidth\":0,\"ticks\":\"\"},\"colorscale\":[[0.0,\"#0d0887\"],[0.1111111111111111,\"#46039f\"],[0.2222222222222222,\"#7201a8\"],[0.3333333333333333,\"#9c179e\"],[0.4444444444444444,\"#bd3786\"],[0.5555555555555556,\"#d8576b\"],[0.6666666666666666,\"#ed7953\"],[0.7777777777777778,\"#fb9f3a\"],[0.8888888888888888,\"#fdca26\"],[1.0,\"#f0f921\"]],\"type\":\"heatmap\"}],\"heatmapgl\":[{\"colorbar\":{\"outlinewidth\":0,\"ticks\":\"\"},\"colorscale\":[[0.0,\"#0d0887\"],[0.1111111111111111,\"#46039f\"],[0.2222222222222222,\"#7201a8\"],[0.3333333333333333,\"#9c179e\"],[0.4444444444444444,\"#bd3786\"],[0.5555555555555556,\"#d8576b\"],[0.6666666666666666,\"#ed7953\"],[0.7777777777777778,\"#fb9f3a\"],[0.8888888888888888,\"#fdca26\"],[1.0,\"#f0f921\"]],\"type\":\"heatmapgl\"}],\"histogram\":[{\"marker\":{\"pattern\":{\"fillmode\":\"overlay\",\"size\":10,\"solidity\":0.2}},\"type\":\"histogram\"}],\"histogram2d\":[{\"colorbar\":{\"outlinewidth\":0,\"ticks\":\"\"},\"colorscale\":[[0.0,\"#0d0887\"],[0.1111111111111111,\"#46039f\"],[0.2222222222222222,\"#7201a8\"],[0.3333333333333333,\"#9c179e\"],[0.4444444444444444,\"#bd3786\"],[0.5555555555555556,\"#d8576b\"],[0.6666666666666666,\"#ed7953\"],[0.7777777777777778,\"#fb9f3a\"],[0.8888888888888888,\"#fdca26\"],[1.0,\"#f0f921\"]],\"type\":\"histogram2d\"}],\"histogram2dcontour\":[{\"colorbar\":{\"outlinewidth\":0,\"ticks\":\"\"},\"colorscale\":[[0.0,\"#0d0887\"],[0.1111111111111111,\"#46039f\"],[0.2222222222222222,\"#7201a8\"],[0.3333333333333333,\"#9c179e\"],[0.4444444444444444,\"#bd3786\"],[0.5555555555555556,\"#d8576b\"],[0.6666666666666666,\"#ed7953\"],[0.7777777777777778,\"#fb9f3a\"],[0.8888888888888888,\"#fdca26\"],[1.0,\"#f0f921\"]],\"type\":\"histogram2dcontour\"}],\"mesh3d\":[{\"colorbar\":{\"outlinewidth\":0,\"ticks\":\"\"},\"type\":\"mesh3d\"}],\"parcoords\":[{\"line\":{\"colorbar\":{\"outlinewidth\":0,\"ticks\":\"\"}},\"type\":\"parcoords\"}],\"pie\":[{\"automargin\":true,\"type\":\"pie\"}],\"scatter\":[{\"marker\":{\"colorbar\":{\"outlinewidth\":0,\"ticks\":\"\"}},\"type\":\"scatter\"}],\"scatter3d\":[{\"line\":{\"colorbar\":{\"outlinewidth\":0,\"ticks\":\"\"}},\"marker\":{\"colorbar\":{\"outlinewidth\":0,\"ticks\":\"\"}},\"type\":\"scatter3d\"}],\"scattercarpet\":[{\"marker\":{\"colorbar\":{\"outlinewidth\":0,\"ticks\":\"\"}},\"type\":\"scattercarpet\"}],\"scattergeo\":[{\"marker\":{\"colorbar\":{\"outlinewidth\":0,\"ticks\":\"\"}},\"type\":\"scattergeo\"}],\"scattergl\":[{\"marker\":{\"colorbar\":{\"outlinewidth\":0,\"ticks\":\"\"}},\"type\":\"scattergl\"}],\"scattermapbox\":[{\"marker\":{\"colorbar\":{\"outlinewidth\":0,\"ticks\":\"\"}},\"type\":\"scattermapbox\"}],\"scatterpolar\":[{\"marker\":{\"colorbar\":{\"outlinewidth\":0,\"ticks\":\"\"}},\"type\":\"scatterpolar\"}],\"scatterpolargl\":[{\"marker\":{\"colorbar\":{\"outlinewidth\":0,\"ticks\":\"\"}},\"type\":\"scatterpolargl\"}],\"scatterternary\":[{\"marker\":{\"colorbar\":{\"outlinewidth\":0,\"ticks\":\"\"}},\"type\":\"scatterternary\"}],\"surface\":[{\"colorbar\":{\"outlinewidth\":0,\"ticks\":\"\"},\"colorscale\":[[0.0,\"#0d0887\"],[0.1111111111111111,\"#46039f\"],[0.2222222222222222,\"#7201a8\"],[0.3333333333333333,\"#9c179e\"],[0.4444444444444444,\"#bd3786\"],[0.5555555555555556,\"#d8576b\"],[0.6666666666666666,\"#ed7953\"],[0.7777777777777778,\"#fb9f3a\"],[0.8888888888888888,\"#fdca26\"],[1.0,\"#f0f921\"]],\"type\":\"surface\"}],\"table\":[{\"cells\":{\"fill\":{\"color\":\"#EBF0F8\"},\"line\":{\"color\":\"white\"}},\"header\":{\"fill\":{\"color\":\"#C8D4E3\"},\"line\":{\"color\":\"white\"}},\"type\":\"table\"}]},\"layout\":{\"annotationdefaults\":{\"arrowcolor\":\"#2a3f5f\",\"arrowhead\":0,\"arrowwidth\":1},\"autotypenumbers\":\"strict\",\"coloraxis\":{\"colorbar\":{\"outlinewidth\":0,\"ticks\":\"\"}},\"colorscale\":{\"diverging\":[[0,\"#8e0152\"],[0.1,\"#c51b7d\"],[0.2,\"#de77ae\"],[0.3,\"#f1b6da\"],[0.4,\"#fde0ef\"],[0.5,\"#f7f7f7\"],[0.6,\"#e6f5d0\"],[0.7,\"#b8e186\"],[0.8,\"#7fbc41\"],[0.9,\"#4d9221\"],[1,\"#276419\"]],\"sequential\":[[0.0,\"#0d0887\"],[0.1111111111111111,\"#46039f\"],[0.2222222222222222,\"#7201a8\"],[0.3333333333333333,\"#9c179e\"],[0.4444444444444444,\"#bd3786\"],[0.5555555555555556,\"#d8576b\"],[0.6666666666666666,\"#ed7953\"],[0.7777777777777778,\"#fb9f3a\"],[0.8888888888888888,\"#fdca26\"],[1.0,\"#f0f921\"]],\"sequentialminus\":[[0.0,\"#0d0887\"],[0.1111111111111111,\"#46039f\"],[0.2222222222222222,\"#7201a8\"],[0.3333333333333333,\"#9c179e\"],[0.4444444444444444,\"#bd3786\"],[0.5555555555555556,\"#d8576b\"],[0.6666666666666666,\"#ed7953\"],[0.7777777777777778,\"#fb9f3a\"],[0.8888888888888888,\"#fdca26\"],[1.0,\"#f0f921\"]]},\"colorway\":[\"#636efa\",\"#EF553B\",\"#00cc96\",\"#ab63fa\",\"#FFA15A\",\"#19d3f3\",\"#FF6692\",\"#B6E880\",\"#FF97FF\",\"#FECB52\"],\"font\":{\"color\":\"#2a3f5f\"},\"geo\":{\"bgcolor\":\"white\",\"lakecolor\":\"white\",\"landcolor\":\"#E5ECF6\",\"showlakes\":true,\"showland\":true,\"subunitcolor\":\"white\"},\"hoverlabel\":{\"align\":\"left\"},\"hovermode\":\"closest\",\"mapbox\":{\"style\":\"light\"},\"paper_bgcolor\":\"white\",\"plot_bgcolor\":\"#E5ECF6\",\"polar\":{\"angularaxis\":{\"gridcolor\":\"white\",\"linecolor\":\"white\",\"ticks\":\"\"},\"bgcolor\":\"#E5ECF6\",\"radialaxis\":{\"gridcolor\":\"white\",\"linecolor\":\"white\",\"ticks\":\"\"}},\"scene\":{\"xaxis\":{\"backgroundcolor\":\"#E5ECF6\",\"gridcolor\":\"white\",\"gridwidth\":2,\"linecolor\":\"white\",\"showbackground\":true,\"ticks\":\"\",\"zerolinecolor\":\"white\"},\"yaxis\":{\"backgroundcolor\":\"#E5ECF6\",\"gridcolor\":\"white\",\"gridwidth\":2,\"linecolor\":\"white\",\"showbackground\":true,\"ticks\":\"\",\"zerolinecolor\":\"white\"},\"zaxis\":{\"backgroundcolor\":\"#E5ECF6\",\"gridcolor\":\"white\",\"gridwidth\":2,\"linecolor\":\"white\",\"showbackground\":true,\"ticks\":\"\",\"zerolinecolor\":\"white\"}},\"shapedefaults\":{\"line\":{\"color\":\"#2a3f5f\"}},\"ternary\":{\"aaxis\":{\"gridcolor\":\"white\",\"linecolor\":\"white\",\"ticks\":\"\"},\"baxis\":{\"gridcolor\":\"white\",\"linecolor\":\"white\",\"ticks\":\"\"},\"bgcolor\":\"#E5ECF6\",\"caxis\":{\"gridcolor\":\"white\",\"linecolor\":\"white\",\"ticks\":\"\"}},\"title\":{\"x\":0.05},\"xaxis\":{\"automargin\":true,\"gridcolor\":\"white\",\"linecolor\":\"white\",\"ticks\":\"\",\"title\":{\"standoff\":15},\"zerolinecolor\":\"white\",\"zerolinewidth\":2},\"yaxis\":{\"automargin\":true,\"gridcolor\":\"white\",\"linecolor\":\"white\",\"ticks\":\"\",\"title\":{\"standoff\":15},\"zerolinecolor\":\"white\",\"zerolinewidth\":2}}},\"title\":{\"text\":\"SGD Model Accuracy\"},\"xaxis\":{\"title\":{\"text\":\"Round\"}},\"yaxis\":{\"title\":{\"text\":\"Accuracy (%)\"}},\"legend\":{\"title\":{\"text\":\"Vectorzing Technique Accuracies\"}}},                        {\"responsive\": true}                    ).then(function(){\n",
              "                            \n",
              "var gd = document.getElementById('59f7f949-5126-4cdb-b88c-9508ce24c444');\n",
              "var x = new MutationObserver(function (mutations, observer) {{\n",
              "        var display = window.getComputedStyle(gd).display;\n",
              "        if (!display || display === 'none') {{\n",
              "            console.log([gd, 'removed!']);\n",
              "            Plotly.purge(gd);\n",
              "            observer.disconnect();\n",
              "        }}\n",
              "}});\n",
              "\n",
              "// Listen for the removal of the full notebook cells\n",
              "var notebookContainer = gd.closest('#notebook-container');\n",
              "if (notebookContainer) {{\n",
              "    x.observe(notebookContainer, {childList: true});\n",
              "}}\n",
              "\n",
              "// Listen for the clearing of the current output cell\n",
              "var outputEl = gd.closest('.output');\n",
              "if (outputEl) {{\n",
              "    x.observe(outputEl, {childList: true});\n",
              "}}\n",
              "\n",
              "                        })                };                            </script>        </div>\n",
              "</body>\n",
              "</html>"
            ]
          },
          "metadata": {}
        }
      ]
    },
    {
      "cell_type": "code",
      "source": [
        "%%time\n",
        "from sklearn.metrics import f1_score, confusion_matrix\n",
        "\n",
        "tfidf_valvector = tfidf_vectorizer.transform(val_df.combined)\n",
        "tfidf_preds = tfidf_model.predict(tfidf_valvector)\n",
        "tfidf_f1_macro = f1_score(val_targets, tfidf_preds, average='macro')\n",
        "tfidf_f1_micro = f1_score(val_targets, tfidf_preds, average='micro')\n",
        "tfidf_f1_weighted = f1_score(val_targets, tfidf_preds, average='weighted')\n",
        "tfidf_confusion = confusion_matrix(val_targets, tfidf_preds)\n",
        "\n",
        "count_valvector = countVectorizer.transform(val_df.combined)\n",
        "count_preds = count_model.predict(count_valvector)\n",
        "count_f1_macro = f1_score(val_targets, count_preds, average='macro')\n",
        "count_f1_micro = f1_score(val_targets, count_preds, average='micro')\n",
        "count_f1_weighted = f1_score(val_targets, count_preds, average='weighted')\n",
        "count_confusion = confusion_matrix(val_targets, count_preds)\n",
        "\n",
        "\n",
        "hash_valvector = hash_vectorizer.transform(val_df.combined)\n",
        "hash_preds = hash_model.predict(hash_valvector)\n",
        "hash_f1_macro = f1_score(val_targets, hash_preds, average='macro')\n",
        "hash_f1_micro = f1_score(val_targets, hash_preds, average='micro')\n",
        "hash_f1_weighted = f1_score(val_targets, hash_preds, average='weighted')\n",
        "hash_confusion = confusion_matrix(val_targets, hash_preds)\n",
        "\n",
        "\n",
        "f1_scores = {\"Tfidf_macro\":tfidf_f1_macro,\n",
        "             \"Tfidf_micro\":tfidf_f1_micro,\n",
        "             \"Tfidf_weighted\":tfidf_f1_weighted,\n",
        "             \"Count_macro\":count_f1_macro,\n",
        "             \"Count_micro\":count_f1_micro,\n",
        "             \"Count_weighted\":count_f1_weighted,\n",
        "             \"Hash_macro\":hash_f1_macro,\n",
        "             \"Hash_micro\":hash_f1_micro,\n",
        "             \"Hash_weighted\":hash_f1_weighted}"
      ],
      "metadata": {
        "colab": {
          "base_uri": "https://localhost:8080/"
        },
        "id": "wnOTPyz0RRIB",
        "outputId": "bbdd9d66-fc85-494d-b60d-514b24ec9e8c"
      },
      "execution_count": null,
      "outputs": [
        {
          "output_type": "stream",
          "name": "stdout",
          "text": [
            "CPU times: total: 11.8 s\n",
            "Wall time: 11.8 s\n"
          ]
        }
      ]
    },
    {
      "cell_type": "code",
      "source": [
        "fig = px.imshow(hash_confusion, text_auto=True)\n",
        "fig.update_layout(title = \"Hash Vectorizer SGD Confusion Matrix\")\n",
        "fig.show(renderer = \"colab\")"
      ],
      "metadata": {
        "colab": {
          "base_uri": "https://localhost:8080/",
          "height": 542
        },
        "id": "9Ce9zxkTXbDW",
        "outputId": "3a697837-aa5a-4969-a412-6503128b4411"
      },
      "execution_count": null,
      "outputs": [
        {
          "output_type": "display_data",
          "data": {
            "text/html": [
              "<html>\n",
              "<head><meta charset=\"utf-8\" /></head>\n",
              "<body>\n",
              "    <div>            <script src=\"https://cdnjs.cloudflare.com/ajax/libs/mathjax/2.7.5/MathJax.js?config=TeX-AMS-MML_SVG\"></script><script type=\"text/javascript\">if (window.MathJax) {MathJax.Hub.Config({SVG: {font: \"STIX-Web\"}});}</script>                <script type=\"text/javascript\">window.PlotlyConfig = {MathJaxConfig: 'local'};</script>\n",
              "        <script src=\"https://cdn.plot.ly/plotly-2.9.0.min.js\"></script>                <div id=\"9ad7d8d1-f3dc-4c61-ac9a-b0e4efebe72d\" class=\"plotly-graph-div\" style=\"height:525px; width:100%;\"></div>            <script type=\"text/javascript\">                                    window.PLOTLYENV=window.PLOTLYENV || {};                                    if (document.getElementById(\"9ad7d8d1-f3dc-4c61-ac9a-b0e4efebe72d\")) {                    Plotly.newPlot(                        \"9ad7d8d1-f3dc-4c61-ac9a-b0e4efebe72d\",                        [{\"coloraxis\":\"coloraxis\",\"name\":\"0\",\"texttemplate\":\"%{z}\",\"z\":[[621,8,7,231,6,11,34,191,21,6,47,153,33,9,4,1,100,39],[12,1092,8,83,19,37,34,146,8,5,52,207,8,12,1,37,216,40],[6,32,194,35,2,1,30,22,6,1,44,104,6,1,1,1,40,11],[55,41,7,5673,18,74,129,331,80,19,162,419,44,52,12,17,171,43],[5,27,2,63,470,11,26,121,8,3,24,142,1,2,20,2,74,47],[8,13,0,115,2,1901,4,182,2,0,34,19,1,4,2,6,139,6],[51,107,27,361,28,42,899,196,44,6,223,367,28,50,6,15,392,110],[37,54,5,326,15,151,26,6343,5,2,155,80,23,68,7,10,300,33],[26,19,14,304,2,16,87,70,670,6,56,246,16,18,1,3,35,21],[6,10,2,68,4,2,9,24,10,252,9,243,4,1,1,3,18,14],[15,20,16,151,2,37,30,141,8,1,2807,42,16,32,1,1,337,6],[27,81,27,172,48,13,121,89,69,53,63,7627,71,15,7,15,135,224],[14,2,3,151,3,2,27,39,8,9,53,74,1162,33,0,0,64,5],[4,6,0,60,0,7,9,104,2,0,98,11,9,1676,1,3,116,0],[9,4,4,51,32,7,9,46,2,0,14,16,4,2,247,2,124,5],[1,74,2,72,4,7,17,50,4,1,29,60,3,3,1,282,37,20],[23,54,2,117,8,93,43,233,10,3,224,132,17,30,8,17,5881,24],[39,25,4,65,32,5,34,78,6,4,22,259,8,10,6,6,44,1459]],\"type\":\"heatmap\",\"xaxis\":\"x\",\"yaxis\":\"y\",\"hovertemplate\":\"x: %{x}<br>y: %{y}<br>color: %{z}<extra></extra>\"}],                        {\"template\":{\"data\":{\"bar\":[{\"error_x\":{\"color\":\"#2a3f5f\"},\"error_y\":{\"color\":\"#2a3f5f\"},\"marker\":{\"line\":{\"color\":\"#E5ECF6\",\"width\":0.5},\"pattern\":{\"fillmode\":\"overlay\",\"size\":10,\"solidity\":0.2}},\"type\":\"bar\"}],\"barpolar\":[{\"marker\":{\"line\":{\"color\":\"#E5ECF6\",\"width\":0.5},\"pattern\":{\"fillmode\":\"overlay\",\"size\":10,\"solidity\":0.2}},\"type\":\"barpolar\"}],\"carpet\":[{\"aaxis\":{\"endlinecolor\":\"#2a3f5f\",\"gridcolor\":\"white\",\"linecolor\":\"white\",\"minorgridcolor\":\"white\",\"startlinecolor\":\"#2a3f5f\"},\"baxis\":{\"endlinecolor\":\"#2a3f5f\",\"gridcolor\":\"white\",\"linecolor\":\"white\",\"minorgridcolor\":\"white\",\"startlinecolor\":\"#2a3f5f\"},\"type\":\"carpet\"}],\"choropleth\":[{\"colorbar\":{\"outlinewidth\":0,\"ticks\":\"\"},\"type\":\"choropleth\"}],\"contour\":[{\"colorbar\":{\"outlinewidth\":0,\"ticks\":\"\"},\"colorscale\":[[0.0,\"#0d0887\"],[0.1111111111111111,\"#46039f\"],[0.2222222222222222,\"#7201a8\"],[0.3333333333333333,\"#9c179e\"],[0.4444444444444444,\"#bd3786\"],[0.5555555555555556,\"#d8576b\"],[0.6666666666666666,\"#ed7953\"],[0.7777777777777778,\"#fb9f3a\"],[0.8888888888888888,\"#fdca26\"],[1.0,\"#f0f921\"]],\"type\":\"contour\"}],\"contourcarpet\":[{\"colorbar\":{\"outlinewidth\":0,\"ticks\":\"\"},\"type\":\"contourcarpet\"}],\"heatmap\":[{\"colorbar\":{\"outlinewidth\":0,\"ticks\":\"\"},\"colorscale\":[[0.0,\"#0d0887\"],[0.1111111111111111,\"#46039f\"],[0.2222222222222222,\"#7201a8\"],[0.3333333333333333,\"#9c179e\"],[0.4444444444444444,\"#bd3786\"],[0.5555555555555556,\"#d8576b\"],[0.6666666666666666,\"#ed7953\"],[0.7777777777777778,\"#fb9f3a\"],[0.8888888888888888,\"#fdca26\"],[1.0,\"#f0f921\"]],\"type\":\"heatmap\"}],\"heatmapgl\":[{\"colorbar\":{\"outlinewidth\":0,\"ticks\":\"\"},\"colorscale\":[[0.0,\"#0d0887\"],[0.1111111111111111,\"#46039f\"],[0.2222222222222222,\"#7201a8\"],[0.3333333333333333,\"#9c179e\"],[0.4444444444444444,\"#bd3786\"],[0.5555555555555556,\"#d8576b\"],[0.6666666666666666,\"#ed7953\"],[0.7777777777777778,\"#fb9f3a\"],[0.8888888888888888,\"#fdca26\"],[1.0,\"#f0f921\"]],\"type\":\"heatmapgl\"}],\"histogram\":[{\"marker\":{\"pattern\":{\"fillmode\":\"overlay\",\"size\":10,\"solidity\":0.2}},\"type\":\"histogram\"}],\"histogram2d\":[{\"colorbar\":{\"outlinewidth\":0,\"ticks\":\"\"},\"colorscale\":[[0.0,\"#0d0887\"],[0.1111111111111111,\"#46039f\"],[0.2222222222222222,\"#7201a8\"],[0.3333333333333333,\"#9c179e\"],[0.4444444444444444,\"#bd3786\"],[0.5555555555555556,\"#d8576b\"],[0.6666666666666666,\"#ed7953\"],[0.7777777777777778,\"#fb9f3a\"],[0.8888888888888888,\"#fdca26\"],[1.0,\"#f0f921\"]],\"type\":\"histogram2d\"}],\"histogram2dcontour\":[{\"colorbar\":{\"outlinewidth\":0,\"ticks\":\"\"},\"colorscale\":[[0.0,\"#0d0887\"],[0.1111111111111111,\"#46039f\"],[0.2222222222222222,\"#7201a8\"],[0.3333333333333333,\"#9c179e\"],[0.4444444444444444,\"#bd3786\"],[0.5555555555555556,\"#d8576b\"],[0.6666666666666666,\"#ed7953\"],[0.7777777777777778,\"#fb9f3a\"],[0.8888888888888888,\"#fdca26\"],[1.0,\"#f0f921\"]],\"type\":\"histogram2dcontour\"}],\"mesh3d\":[{\"colorbar\":{\"outlinewidth\":0,\"ticks\":\"\"},\"type\":\"mesh3d\"}],\"parcoords\":[{\"line\":{\"colorbar\":{\"outlinewidth\":0,\"ticks\":\"\"}},\"type\":\"parcoords\"}],\"pie\":[{\"automargin\":true,\"type\":\"pie\"}],\"scatter\":[{\"marker\":{\"colorbar\":{\"outlinewidth\":0,\"ticks\":\"\"}},\"type\":\"scatter\"}],\"scatter3d\":[{\"line\":{\"colorbar\":{\"outlinewidth\":0,\"ticks\":\"\"}},\"marker\":{\"colorbar\":{\"outlinewidth\":0,\"ticks\":\"\"}},\"type\":\"scatter3d\"}],\"scattercarpet\":[{\"marker\":{\"colorbar\":{\"outlinewidth\":0,\"ticks\":\"\"}},\"type\":\"scattercarpet\"}],\"scattergeo\":[{\"marker\":{\"colorbar\":{\"outlinewidth\":0,\"ticks\":\"\"}},\"type\":\"scattergeo\"}],\"scattergl\":[{\"marker\":{\"colorbar\":{\"outlinewidth\":0,\"ticks\":\"\"}},\"type\":\"scattergl\"}],\"scattermapbox\":[{\"marker\":{\"colorbar\":{\"outlinewidth\":0,\"ticks\":\"\"}},\"type\":\"scattermapbox\"}],\"scatterpolar\":[{\"marker\":{\"colorbar\":{\"outlinewidth\":0,\"ticks\":\"\"}},\"type\":\"scatterpolar\"}],\"scatterpolargl\":[{\"marker\":{\"colorbar\":{\"outlinewidth\":0,\"ticks\":\"\"}},\"type\":\"scatterpolargl\"}],\"scatterternary\":[{\"marker\":{\"colorbar\":{\"outlinewidth\":0,\"ticks\":\"\"}},\"type\":\"scatterternary\"}],\"surface\":[{\"colorbar\":{\"outlinewidth\":0,\"ticks\":\"\"},\"colorscale\":[[0.0,\"#0d0887\"],[0.1111111111111111,\"#46039f\"],[0.2222222222222222,\"#7201a8\"],[0.3333333333333333,\"#9c179e\"],[0.4444444444444444,\"#bd3786\"],[0.5555555555555556,\"#d8576b\"],[0.6666666666666666,\"#ed7953\"],[0.7777777777777778,\"#fb9f3a\"],[0.8888888888888888,\"#fdca26\"],[1.0,\"#f0f921\"]],\"type\":\"surface\"}],\"table\":[{\"cells\":{\"fill\":{\"color\":\"#EBF0F8\"},\"line\":{\"color\":\"white\"}},\"header\":{\"fill\":{\"color\":\"#C8D4E3\"},\"line\":{\"color\":\"white\"}},\"type\":\"table\"}]},\"layout\":{\"annotationdefaults\":{\"arrowcolor\":\"#2a3f5f\",\"arrowhead\":0,\"arrowwidth\":1},\"autotypenumbers\":\"strict\",\"coloraxis\":{\"colorbar\":{\"outlinewidth\":0,\"ticks\":\"\"}},\"colorscale\":{\"diverging\":[[0,\"#8e0152\"],[0.1,\"#c51b7d\"],[0.2,\"#de77ae\"],[0.3,\"#f1b6da\"],[0.4,\"#fde0ef\"],[0.5,\"#f7f7f7\"],[0.6,\"#e6f5d0\"],[0.7,\"#b8e186\"],[0.8,\"#7fbc41\"],[0.9,\"#4d9221\"],[1,\"#276419\"]],\"sequential\":[[0.0,\"#0d0887\"],[0.1111111111111111,\"#46039f\"],[0.2222222222222222,\"#7201a8\"],[0.3333333333333333,\"#9c179e\"],[0.4444444444444444,\"#bd3786\"],[0.5555555555555556,\"#d8576b\"],[0.6666666666666666,\"#ed7953\"],[0.7777777777777778,\"#fb9f3a\"],[0.8888888888888888,\"#fdca26\"],[1.0,\"#f0f921\"]],\"sequentialminus\":[[0.0,\"#0d0887\"],[0.1111111111111111,\"#46039f\"],[0.2222222222222222,\"#7201a8\"],[0.3333333333333333,\"#9c179e\"],[0.4444444444444444,\"#bd3786\"],[0.5555555555555556,\"#d8576b\"],[0.6666666666666666,\"#ed7953\"],[0.7777777777777778,\"#fb9f3a\"],[0.8888888888888888,\"#fdca26\"],[1.0,\"#f0f921\"]]},\"colorway\":[\"#636efa\",\"#EF553B\",\"#00cc96\",\"#ab63fa\",\"#FFA15A\",\"#19d3f3\",\"#FF6692\",\"#B6E880\",\"#FF97FF\",\"#FECB52\"],\"font\":{\"color\":\"#2a3f5f\"},\"geo\":{\"bgcolor\":\"white\",\"lakecolor\":\"white\",\"landcolor\":\"#E5ECF6\",\"showlakes\":true,\"showland\":true,\"subunitcolor\":\"white\"},\"hoverlabel\":{\"align\":\"left\"},\"hovermode\":\"closest\",\"mapbox\":{\"style\":\"light\"},\"paper_bgcolor\":\"white\",\"plot_bgcolor\":\"#E5ECF6\",\"polar\":{\"angularaxis\":{\"gridcolor\":\"white\",\"linecolor\":\"white\",\"ticks\":\"\"},\"bgcolor\":\"#E5ECF6\",\"radialaxis\":{\"gridcolor\":\"white\",\"linecolor\":\"white\",\"ticks\":\"\"}},\"scene\":{\"xaxis\":{\"backgroundcolor\":\"#E5ECF6\",\"gridcolor\":\"white\",\"gridwidth\":2,\"linecolor\":\"white\",\"showbackground\":true,\"ticks\":\"\",\"zerolinecolor\":\"white\"},\"yaxis\":{\"backgroundcolor\":\"#E5ECF6\",\"gridcolor\":\"white\",\"gridwidth\":2,\"linecolor\":\"white\",\"showbackground\":true,\"ticks\":\"\",\"zerolinecolor\":\"white\"},\"zaxis\":{\"backgroundcolor\":\"#E5ECF6\",\"gridcolor\":\"white\",\"gridwidth\":2,\"linecolor\":\"white\",\"showbackground\":true,\"ticks\":\"\",\"zerolinecolor\":\"white\"}},\"shapedefaults\":{\"line\":{\"color\":\"#2a3f5f\"}},\"ternary\":{\"aaxis\":{\"gridcolor\":\"white\",\"linecolor\":\"white\",\"ticks\":\"\"},\"baxis\":{\"gridcolor\":\"white\",\"linecolor\":\"white\",\"ticks\":\"\"},\"bgcolor\":\"#E5ECF6\",\"caxis\":{\"gridcolor\":\"white\",\"linecolor\":\"white\",\"ticks\":\"\"}},\"title\":{\"x\":0.05},\"xaxis\":{\"automargin\":true,\"gridcolor\":\"white\",\"linecolor\":\"white\",\"ticks\":\"\",\"title\":{\"standoff\":15},\"zerolinecolor\":\"white\",\"zerolinewidth\":2},\"yaxis\":{\"automargin\":true,\"gridcolor\":\"white\",\"linecolor\":\"white\",\"ticks\":\"\",\"title\":{\"standoff\":15},\"zerolinecolor\":\"white\",\"zerolinewidth\":2}}},\"xaxis\":{\"anchor\":\"y\",\"domain\":[0.0,1.0],\"scaleanchor\":\"y\",\"constrain\":\"domain\"},\"yaxis\":{\"anchor\":\"x\",\"domain\":[0.0,1.0],\"autorange\":\"reversed\",\"constrain\":\"domain\"},\"coloraxis\":{\"colorscale\":[[0.0,\"#0d0887\"],[0.1111111111111111,\"#46039f\"],[0.2222222222222222,\"#7201a8\"],[0.3333333333333333,\"#9c179e\"],[0.4444444444444444,\"#bd3786\"],[0.5555555555555556,\"#d8576b\"],[0.6666666666666666,\"#ed7953\"],[0.7777777777777778,\"#fb9f3a\"],[0.8888888888888888,\"#fdca26\"],[1.0,\"#f0f921\"]]},\"margin\":{\"t\":60},\"title\":{\"text\":\"Hash Vectorizer SGD Confusion Matrix\"}},                        {\"responsive\": true}                    ).then(function(){\n",
              "                            \n",
              "var gd = document.getElementById('9ad7d8d1-f3dc-4c61-ac9a-b0e4efebe72d');\n",
              "var x = new MutationObserver(function (mutations, observer) {{\n",
              "        var display = window.getComputedStyle(gd).display;\n",
              "        if (!display || display === 'none') {{\n",
              "            console.log([gd, 'removed!']);\n",
              "            Plotly.purge(gd);\n",
              "            observer.disconnect();\n",
              "        }}\n",
              "}});\n",
              "\n",
              "// Listen for the removal of the full notebook cells\n",
              "var notebookContainer = gd.closest('#notebook-container');\n",
              "if (notebookContainer) {{\n",
              "    x.observe(notebookContainer, {childList: true});\n",
              "}}\n",
              "\n",
              "// Listen for the clearing of the current output cell\n",
              "var outputEl = gd.closest('.output');\n",
              "if (outputEl) {{\n",
              "    x.observe(outputEl, {childList: true});\n",
              "}}\n",
              "\n",
              "                        })                };                            </script>        </div>\n",
              "</body>\n",
              "</html>"
            ]
          },
          "metadata": {}
        }
      ]
    },
    {
      "cell_type": "code",
      "source": [
        "fig = px.imshow(count_confusion, text_auto=True)\n",
        "fig.update_layout(title = \"Count Vectorizer SGD Confusion Matrix\")\n",
        "fig.show(renderer = \"colab\")"
      ],
      "metadata": {
        "colab": {
          "base_uri": "https://localhost:8080/",
          "height": 542
        },
        "id": "Ek4GvUDGXVG1",
        "outputId": "3c78d8d2-bb03-4825-aeef-8de0b178b2fd"
      },
      "execution_count": null,
      "outputs": [
        {
          "output_type": "display_data",
          "data": {
            "text/html": [
              "<html>\n",
              "<head><meta charset=\"utf-8\" /></head>\n",
              "<body>\n",
              "    <div>            <script src=\"https://cdnjs.cloudflare.com/ajax/libs/mathjax/2.7.5/MathJax.js?config=TeX-AMS-MML_SVG\"></script><script type=\"text/javascript\">if (window.MathJax) {MathJax.Hub.Config({SVG: {font: \"STIX-Web\"}});}</script>                <script type=\"text/javascript\">window.PlotlyConfig = {MathJaxConfig: 'local'};</script>\n",
              "        <script src=\"https://cdn.plot.ly/plotly-2.9.0.min.js\"></script>                <div id=\"10b17e44-f122-4c9c-af7f-6339fcf81d7b\" class=\"plotly-graph-div\" style=\"height:525px; width:100%;\"></div>            <script type=\"text/javascript\">                                    window.PLOTLYENV=window.PLOTLYENV || {};                                    if (document.getElementById(\"10b17e44-f122-4c9c-af7f-6339fcf81d7b\")) {                    Plotly.newPlot(                        \"10b17e44-f122-4c9c-af7f-6339fcf81d7b\",                        [{\"coloraxis\":\"coloraxis\",\"name\":\"0\",\"texttemplate\":\"%{z}\",\"z\":[[635,20,7,196,9,25,69,137,40,10,30,133,46,4,7,7,82,65],[27,971,22,105,28,52,108,136,20,13,51,206,11,14,0,43,176,34],[14,34,197,41,6,8,49,21,10,3,26,79,6,0,2,1,28,12],[133,80,16,5216,30,107,245,358,149,42,140,409,87,44,16,25,185,65],[19,35,3,76,473,19,55,82,5,6,17,122,7,6,22,3,57,41],[13,15,2,142,11,1825,12,177,10,0,25,26,1,10,4,5,153,7],[78,103,39,329,43,61,1074,162,80,16,134,371,55,29,9,16,246,107],[91,91,17,399,38,221,117,5856,37,13,126,116,39,82,23,16,299,59],[46,40,20,262,6,23,123,75,627,8,38,227,27,10,4,5,45,24],[9,14,3,80,5,7,25,18,12,255,4,188,8,0,0,8,22,22],[37,36,24,234,13,54,169,183,39,4,2313,69,39,44,10,15,364,16],[75,160,40,310,84,39,214,87,121,111,43,7006,95,12,15,29,156,260],[32,10,4,153,5,11,48,52,15,11,38,91,1080,28,3,1,54,13],[9,11,1,95,2,15,45,125,10,1,78,31,15,1549,1,7,103,8],[12,5,3,63,30,16,34,38,3,1,8,35,4,4,212,5,94,11],[6,68,3,84,2,18,40,38,6,0,19,55,3,5,2,265,35,18],[68,108,13,208,26,122,174,260,27,9,224,194,45,52,39,34,5272,44],[54,34,8,83,38,19,91,70,19,13,16,264,12,6,6,12,43,1318]],\"type\":\"heatmap\",\"xaxis\":\"x\",\"yaxis\":\"y\",\"hovertemplate\":\"x: %{x}<br>y: %{y}<br>color: %{z}<extra></extra>\"}],                        {\"template\":{\"data\":{\"bar\":[{\"error_x\":{\"color\":\"#2a3f5f\"},\"error_y\":{\"color\":\"#2a3f5f\"},\"marker\":{\"line\":{\"color\":\"#E5ECF6\",\"width\":0.5},\"pattern\":{\"fillmode\":\"overlay\",\"size\":10,\"solidity\":0.2}},\"type\":\"bar\"}],\"barpolar\":[{\"marker\":{\"line\":{\"color\":\"#E5ECF6\",\"width\":0.5},\"pattern\":{\"fillmode\":\"overlay\",\"size\":10,\"solidity\":0.2}},\"type\":\"barpolar\"}],\"carpet\":[{\"aaxis\":{\"endlinecolor\":\"#2a3f5f\",\"gridcolor\":\"white\",\"linecolor\":\"white\",\"minorgridcolor\":\"white\",\"startlinecolor\":\"#2a3f5f\"},\"baxis\":{\"endlinecolor\":\"#2a3f5f\",\"gridcolor\":\"white\",\"linecolor\":\"white\",\"minorgridcolor\":\"white\",\"startlinecolor\":\"#2a3f5f\"},\"type\":\"carpet\"}],\"choropleth\":[{\"colorbar\":{\"outlinewidth\":0,\"ticks\":\"\"},\"type\":\"choropleth\"}],\"contour\":[{\"colorbar\":{\"outlinewidth\":0,\"ticks\":\"\"},\"colorscale\":[[0.0,\"#0d0887\"],[0.1111111111111111,\"#46039f\"],[0.2222222222222222,\"#7201a8\"],[0.3333333333333333,\"#9c179e\"],[0.4444444444444444,\"#bd3786\"],[0.5555555555555556,\"#d8576b\"],[0.6666666666666666,\"#ed7953\"],[0.7777777777777778,\"#fb9f3a\"],[0.8888888888888888,\"#fdca26\"],[1.0,\"#f0f921\"]],\"type\":\"contour\"}],\"contourcarpet\":[{\"colorbar\":{\"outlinewidth\":0,\"ticks\":\"\"},\"type\":\"contourcarpet\"}],\"heatmap\":[{\"colorbar\":{\"outlinewidth\":0,\"ticks\":\"\"},\"colorscale\":[[0.0,\"#0d0887\"],[0.1111111111111111,\"#46039f\"],[0.2222222222222222,\"#7201a8\"],[0.3333333333333333,\"#9c179e\"],[0.4444444444444444,\"#bd3786\"],[0.5555555555555556,\"#d8576b\"],[0.6666666666666666,\"#ed7953\"],[0.7777777777777778,\"#fb9f3a\"],[0.8888888888888888,\"#fdca26\"],[1.0,\"#f0f921\"]],\"type\":\"heatmap\"}],\"heatmapgl\":[{\"colorbar\":{\"outlinewidth\":0,\"ticks\":\"\"},\"colorscale\":[[0.0,\"#0d0887\"],[0.1111111111111111,\"#46039f\"],[0.2222222222222222,\"#7201a8\"],[0.3333333333333333,\"#9c179e\"],[0.4444444444444444,\"#bd3786\"],[0.5555555555555556,\"#d8576b\"],[0.6666666666666666,\"#ed7953\"],[0.7777777777777778,\"#fb9f3a\"],[0.8888888888888888,\"#fdca26\"],[1.0,\"#f0f921\"]],\"type\":\"heatmapgl\"}],\"histogram\":[{\"marker\":{\"pattern\":{\"fillmode\":\"overlay\",\"size\":10,\"solidity\":0.2}},\"type\":\"histogram\"}],\"histogram2d\":[{\"colorbar\":{\"outlinewidth\":0,\"ticks\":\"\"},\"colorscale\":[[0.0,\"#0d0887\"],[0.1111111111111111,\"#46039f\"],[0.2222222222222222,\"#7201a8\"],[0.3333333333333333,\"#9c179e\"],[0.4444444444444444,\"#bd3786\"],[0.5555555555555556,\"#d8576b\"],[0.6666666666666666,\"#ed7953\"],[0.7777777777777778,\"#fb9f3a\"],[0.8888888888888888,\"#fdca26\"],[1.0,\"#f0f921\"]],\"type\":\"histogram2d\"}],\"histogram2dcontour\":[{\"colorbar\":{\"outlinewidth\":0,\"ticks\":\"\"},\"colorscale\":[[0.0,\"#0d0887\"],[0.1111111111111111,\"#46039f\"],[0.2222222222222222,\"#7201a8\"],[0.3333333333333333,\"#9c179e\"],[0.4444444444444444,\"#bd3786\"],[0.5555555555555556,\"#d8576b\"],[0.6666666666666666,\"#ed7953\"],[0.7777777777777778,\"#fb9f3a\"],[0.8888888888888888,\"#fdca26\"],[1.0,\"#f0f921\"]],\"type\":\"histogram2dcontour\"}],\"mesh3d\":[{\"colorbar\":{\"outlinewidth\":0,\"ticks\":\"\"},\"type\":\"mesh3d\"}],\"parcoords\":[{\"line\":{\"colorbar\":{\"outlinewidth\":0,\"ticks\":\"\"}},\"type\":\"parcoords\"}],\"pie\":[{\"automargin\":true,\"type\":\"pie\"}],\"scatter\":[{\"marker\":{\"colorbar\":{\"outlinewidth\":0,\"ticks\":\"\"}},\"type\":\"scatter\"}],\"scatter3d\":[{\"line\":{\"colorbar\":{\"outlinewidth\":0,\"ticks\":\"\"}},\"marker\":{\"colorbar\":{\"outlinewidth\":0,\"ticks\":\"\"}},\"type\":\"scatter3d\"}],\"scattercarpet\":[{\"marker\":{\"colorbar\":{\"outlinewidth\":0,\"ticks\":\"\"}},\"type\":\"scattercarpet\"}],\"scattergeo\":[{\"marker\":{\"colorbar\":{\"outlinewidth\":0,\"ticks\":\"\"}},\"type\":\"scattergeo\"}],\"scattergl\":[{\"marker\":{\"colorbar\":{\"outlinewidth\":0,\"ticks\":\"\"}},\"type\":\"scattergl\"}],\"scattermapbox\":[{\"marker\":{\"colorbar\":{\"outlinewidth\":0,\"ticks\":\"\"}},\"type\":\"scattermapbox\"}],\"scatterpolar\":[{\"marker\":{\"colorbar\":{\"outlinewidth\":0,\"ticks\":\"\"}},\"type\":\"scatterpolar\"}],\"scatterpolargl\":[{\"marker\":{\"colorbar\":{\"outlinewidth\":0,\"ticks\":\"\"}},\"type\":\"scatterpolargl\"}],\"scatterternary\":[{\"marker\":{\"colorbar\":{\"outlinewidth\":0,\"ticks\":\"\"}},\"type\":\"scatterternary\"}],\"surface\":[{\"colorbar\":{\"outlinewidth\":0,\"ticks\":\"\"},\"colorscale\":[[0.0,\"#0d0887\"],[0.1111111111111111,\"#46039f\"],[0.2222222222222222,\"#7201a8\"],[0.3333333333333333,\"#9c179e\"],[0.4444444444444444,\"#bd3786\"],[0.5555555555555556,\"#d8576b\"],[0.6666666666666666,\"#ed7953\"],[0.7777777777777778,\"#fb9f3a\"],[0.8888888888888888,\"#fdca26\"],[1.0,\"#f0f921\"]],\"type\":\"surface\"}],\"table\":[{\"cells\":{\"fill\":{\"color\":\"#EBF0F8\"},\"line\":{\"color\":\"white\"}},\"header\":{\"fill\":{\"color\":\"#C8D4E3\"},\"line\":{\"color\":\"white\"}},\"type\":\"table\"}]},\"layout\":{\"annotationdefaults\":{\"arrowcolor\":\"#2a3f5f\",\"arrowhead\":0,\"arrowwidth\":1},\"autotypenumbers\":\"strict\",\"coloraxis\":{\"colorbar\":{\"outlinewidth\":0,\"ticks\":\"\"}},\"colorscale\":{\"diverging\":[[0,\"#8e0152\"],[0.1,\"#c51b7d\"],[0.2,\"#de77ae\"],[0.3,\"#f1b6da\"],[0.4,\"#fde0ef\"],[0.5,\"#f7f7f7\"],[0.6,\"#e6f5d0\"],[0.7,\"#b8e186\"],[0.8,\"#7fbc41\"],[0.9,\"#4d9221\"],[1,\"#276419\"]],\"sequential\":[[0.0,\"#0d0887\"],[0.1111111111111111,\"#46039f\"],[0.2222222222222222,\"#7201a8\"],[0.3333333333333333,\"#9c179e\"],[0.4444444444444444,\"#bd3786\"],[0.5555555555555556,\"#d8576b\"],[0.6666666666666666,\"#ed7953\"],[0.7777777777777778,\"#fb9f3a\"],[0.8888888888888888,\"#fdca26\"],[1.0,\"#f0f921\"]],\"sequentialminus\":[[0.0,\"#0d0887\"],[0.1111111111111111,\"#46039f\"],[0.2222222222222222,\"#7201a8\"],[0.3333333333333333,\"#9c179e\"],[0.4444444444444444,\"#bd3786\"],[0.5555555555555556,\"#d8576b\"],[0.6666666666666666,\"#ed7953\"],[0.7777777777777778,\"#fb9f3a\"],[0.8888888888888888,\"#fdca26\"],[1.0,\"#f0f921\"]]},\"colorway\":[\"#636efa\",\"#EF553B\",\"#00cc96\",\"#ab63fa\",\"#FFA15A\",\"#19d3f3\",\"#FF6692\",\"#B6E880\",\"#FF97FF\",\"#FECB52\"],\"font\":{\"color\":\"#2a3f5f\"},\"geo\":{\"bgcolor\":\"white\",\"lakecolor\":\"white\",\"landcolor\":\"#E5ECF6\",\"showlakes\":true,\"showland\":true,\"subunitcolor\":\"white\"},\"hoverlabel\":{\"align\":\"left\"},\"hovermode\":\"closest\",\"mapbox\":{\"style\":\"light\"},\"paper_bgcolor\":\"white\",\"plot_bgcolor\":\"#E5ECF6\",\"polar\":{\"angularaxis\":{\"gridcolor\":\"white\",\"linecolor\":\"white\",\"ticks\":\"\"},\"bgcolor\":\"#E5ECF6\",\"radialaxis\":{\"gridcolor\":\"white\",\"linecolor\":\"white\",\"ticks\":\"\"}},\"scene\":{\"xaxis\":{\"backgroundcolor\":\"#E5ECF6\",\"gridcolor\":\"white\",\"gridwidth\":2,\"linecolor\":\"white\",\"showbackground\":true,\"ticks\":\"\",\"zerolinecolor\":\"white\"},\"yaxis\":{\"backgroundcolor\":\"#E5ECF6\",\"gridcolor\":\"white\",\"gridwidth\":2,\"linecolor\":\"white\",\"showbackground\":true,\"ticks\":\"\",\"zerolinecolor\":\"white\"},\"zaxis\":{\"backgroundcolor\":\"#E5ECF6\",\"gridcolor\":\"white\",\"gridwidth\":2,\"linecolor\":\"white\",\"showbackground\":true,\"ticks\":\"\",\"zerolinecolor\":\"white\"}},\"shapedefaults\":{\"line\":{\"color\":\"#2a3f5f\"}},\"ternary\":{\"aaxis\":{\"gridcolor\":\"white\",\"linecolor\":\"white\",\"ticks\":\"\"},\"baxis\":{\"gridcolor\":\"white\",\"linecolor\":\"white\",\"ticks\":\"\"},\"bgcolor\":\"#E5ECF6\",\"caxis\":{\"gridcolor\":\"white\",\"linecolor\":\"white\",\"ticks\":\"\"}},\"title\":{\"x\":0.05},\"xaxis\":{\"automargin\":true,\"gridcolor\":\"white\",\"linecolor\":\"white\",\"ticks\":\"\",\"title\":{\"standoff\":15},\"zerolinecolor\":\"white\",\"zerolinewidth\":2},\"yaxis\":{\"automargin\":true,\"gridcolor\":\"white\",\"linecolor\":\"white\",\"ticks\":\"\",\"title\":{\"standoff\":15},\"zerolinecolor\":\"white\",\"zerolinewidth\":2}}},\"xaxis\":{\"anchor\":\"y\",\"domain\":[0.0,1.0],\"scaleanchor\":\"y\",\"constrain\":\"domain\"},\"yaxis\":{\"anchor\":\"x\",\"domain\":[0.0,1.0],\"autorange\":\"reversed\",\"constrain\":\"domain\"},\"coloraxis\":{\"colorscale\":[[0.0,\"#0d0887\"],[0.1111111111111111,\"#46039f\"],[0.2222222222222222,\"#7201a8\"],[0.3333333333333333,\"#9c179e\"],[0.4444444444444444,\"#bd3786\"],[0.5555555555555556,\"#d8576b\"],[0.6666666666666666,\"#ed7953\"],[0.7777777777777778,\"#fb9f3a\"],[0.8888888888888888,\"#fdca26\"],[1.0,\"#f0f921\"]]},\"margin\":{\"t\":60},\"title\":{\"text\":\"Count Vectorizer SGD Confusion Matrix\"}},                        {\"responsive\": true}                    ).then(function(){\n",
              "                            \n",
              "var gd = document.getElementById('10b17e44-f122-4c9c-af7f-6339fcf81d7b');\n",
              "var x = new MutationObserver(function (mutations, observer) {{\n",
              "        var display = window.getComputedStyle(gd).display;\n",
              "        if (!display || display === 'none') {{\n",
              "            console.log([gd, 'removed!']);\n",
              "            Plotly.purge(gd);\n",
              "            observer.disconnect();\n",
              "        }}\n",
              "}});\n",
              "\n",
              "// Listen for the removal of the full notebook cells\n",
              "var notebookContainer = gd.closest('#notebook-container');\n",
              "if (notebookContainer) {{\n",
              "    x.observe(notebookContainer, {childList: true});\n",
              "}}\n",
              "\n",
              "// Listen for the clearing of the current output cell\n",
              "var outputEl = gd.closest('.output');\n",
              "if (outputEl) {{\n",
              "    x.observe(outputEl, {childList: true});\n",
              "}}\n",
              "\n",
              "                        })                };                            </script>        </div>\n",
              "</body>\n",
              "</html>"
            ]
          },
          "metadata": {}
        }
      ]
    },
    {
      "cell_type": "code",
      "source": [
        "fig = px.imshow(tfidf_confusion, text_auto=True)\n",
        "fig.update_layout(title = \"TFIDF Vectorizer SGD Confusion Matrix\")\n",
        "fig.show(renderer = \"colab\")"
      ],
      "metadata": {
        "colab": {
          "base_uri": "https://localhost:8080/",
          "height": 542
        },
        "id": "d6sEWTzZWAgc",
        "outputId": "b87887fc-a589-47b0-85dc-a4c4d6336c63"
      },
      "execution_count": null,
      "outputs": [
        {
          "output_type": "display_data",
          "data": {
            "text/html": [
              "<html>\n",
              "<head><meta charset=\"utf-8\" /></head>\n",
              "<body>\n",
              "    <div>            <script src=\"https://cdnjs.cloudflare.com/ajax/libs/mathjax/2.7.5/MathJax.js?config=TeX-AMS-MML_SVG\"></script><script type=\"text/javascript\">if (window.MathJax) {MathJax.Hub.Config({SVG: {font: \"STIX-Web\"}});}</script>                <script type=\"text/javascript\">window.PlotlyConfig = {MathJaxConfig: 'local'};</script>\n",
              "        <script src=\"https://cdn.plot.ly/plotly-2.9.0.min.js\"></script>                <div id=\"25f2fbd4-142e-4fed-b0ad-ce76df770135\" class=\"plotly-graph-div\" style=\"height:525px; width:100%;\"></div>            <script type=\"text/javascript\">                                    window.PLOTLYENV=window.PLOTLYENV || {};                                    if (document.getElementById(\"25f2fbd4-142e-4fed-b0ad-ce76df770135\")) {                    Plotly.newPlot(                        \"25f2fbd4-142e-4fed-b0ad-ce76df770135\",                        [{\"coloraxis\":\"coloraxis\",\"name\":\"0\",\"texttemplate\":\"%{z}\",\"z\":[[655,12,8,206,9,17,44,157,27,12,42,135,40,13,7,1,93,44],[15,1106,19,68,26,37,56,121,13,13,52,195,20,20,2,33,191,30],[9,32,224,26,4,4,33,15,6,2,43,81,6,1,1,3,35,12],[78,37,17,5517,26,88,162,315,109,32,176,403,67,59,19,20,175,47],[9,29,4,56,502,17,37,91,6,5,22,128,4,2,31,4,60,41],[6,11,2,118,10,1885,7,166,8,1,31,22,1,8,5,5,143,9],[57,102,44,327,45,49,999,157,60,13,201,338,39,53,10,15,342,101],[54,68,10,344,35,177,56,6158,21,5,153,81,30,83,12,14,299,40],[34,20,18,299,3,13,105,66,680,7,51,215,16,20,4,4,33,22],[3,14,5,60,3,5,14,9,14,292,7,209,3,2,0,5,16,19],[12,20,31,181,3,45,65,134,16,3,2701,43,26,38,6,5,332,2],[44,120,38,197,74,14,127,70,92,83,56,7453,85,17,12,19,134,222],[18,2,4,134,2,4,26,32,11,8,42,70,1199,28,0,2,59,8],[6,7,1,67,0,8,11,87,2,0,94,13,13,1683,1,5,108,0],[7,7,4,45,42,11,12,36,1,1,11,21,3,2,243,5,120,7],[3,78,5,60,6,7,20,35,9,6,29,51,3,4,4,298,31,18],[21,60,8,132,19,95,72,240,10,6,224,138,31,42,15,26,5751,29],[48,25,7,62,41,6,52,73,17,10,19,240,14,8,7,8,42,1427]],\"type\":\"heatmap\",\"xaxis\":\"x\",\"yaxis\":\"y\",\"hovertemplate\":\"x: %{x}<br>y: %{y}<br>color: %{z}<extra></extra>\"}],                        {\"template\":{\"data\":{\"bar\":[{\"error_x\":{\"color\":\"#2a3f5f\"},\"error_y\":{\"color\":\"#2a3f5f\"},\"marker\":{\"line\":{\"color\":\"#E5ECF6\",\"width\":0.5},\"pattern\":{\"fillmode\":\"overlay\",\"size\":10,\"solidity\":0.2}},\"type\":\"bar\"}],\"barpolar\":[{\"marker\":{\"line\":{\"color\":\"#E5ECF6\",\"width\":0.5},\"pattern\":{\"fillmode\":\"overlay\",\"size\":10,\"solidity\":0.2}},\"type\":\"barpolar\"}],\"carpet\":[{\"aaxis\":{\"endlinecolor\":\"#2a3f5f\",\"gridcolor\":\"white\",\"linecolor\":\"white\",\"minorgridcolor\":\"white\",\"startlinecolor\":\"#2a3f5f\"},\"baxis\":{\"endlinecolor\":\"#2a3f5f\",\"gridcolor\":\"white\",\"linecolor\":\"white\",\"minorgridcolor\":\"white\",\"startlinecolor\":\"#2a3f5f\"},\"type\":\"carpet\"}],\"choropleth\":[{\"colorbar\":{\"outlinewidth\":0,\"ticks\":\"\"},\"type\":\"choropleth\"}],\"contour\":[{\"colorbar\":{\"outlinewidth\":0,\"ticks\":\"\"},\"colorscale\":[[0.0,\"#0d0887\"],[0.1111111111111111,\"#46039f\"],[0.2222222222222222,\"#7201a8\"],[0.3333333333333333,\"#9c179e\"],[0.4444444444444444,\"#bd3786\"],[0.5555555555555556,\"#d8576b\"],[0.6666666666666666,\"#ed7953\"],[0.7777777777777778,\"#fb9f3a\"],[0.8888888888888888,\"#fdca26\"],[1.0,\"#f0f921\"]],\"type\":\"contour\"}],\"contourcarpet\":[{\"colorbar\":{\"outlinewidth\":0,\"ticks\":\"\"},\"type\":\"contourcarpet\"}],\"heatmap\":[{\"colorbar\":{\"outlinewidth\":0,\"ticks\":\"\"},\"colorscale\":[[0.0,\"#0d0887\"],[0.1111111111111111,\"#46039f\"],[0.2222222222222222,\"#7201a8\"],[0.3333333333333333,\"#9c179e\"],[0.4444444444444444,\"#bd3786\"],[0.5555555555555556,\"#d8576b\"],[0.6666666666666666,\"#ed7953\"],[0.7777777777777778,\"#fb9f3a\"],[0.8888888888888888,\"#fdca26\"],[1.0,\"#f0f921\"]],\"type\":\"heatmap\"}],\"heatmapgl\":[{\"colorbar\":{\"outlinewidth\":0,\"ticks\":\"\"},\"colorscale\":[[0.0,\"#0d0887\"],[0.1111111111111111,\"#46039f\"],[0.2222222222222222,\"#7201a8\"],[0.3333333333333333,\"#9c179e\"],[0.4444444444444444,\"#bd3786\"],[0.5555555555555556,\"#d8576b\"],[0.6666666666666666,\"#ed7953\"],[0.7777777777777778,\"#fb9f3a\"],[0.8888888888888888,\"#fdca26\"],[1.0,\"#f0f921\"]],\"type\":\"heatmapgl\"}],\"histogram\":[{\"marker\":{\"pattern\":{\"fillmode\":\"overlay\",\"size\":10,\"solidity\":0.2}},\"type\":\"histogram\"}],\"histogram2d\":[{\"colorbar\":{\"outlinewidth\":0,\"ticks\":\"\"},\"colorscale\":[[0.0,\"#0d0887\"],[0.1111111111111111,\"#46039f\"],[0.2222222222222222,\"#7201a8\"],[0.3333333333333333,\"#9c179e\"],[0.4444444444444444,\"#bd3786\"],[0.5555555555555556,\"#d8576b\"],[0.6666666666666666,\"#ed7953\"],[0.7777777777777778,\"#fb9f3a\"],[0.8888888888888888,\"#fdca26\"],[1.0,\"#f0f921\"]],\"type\":\"histogram2d\"}],\"histogram2dcontour\":[{\"colorbar\":{\"outlinewidth\":0,\"ticks\":\"\"},\"colorscale\":[[0.0,\"#0d0887\"],[0.1111111111111111,\"#46039f\"],[0.2222222222222222,\"#7201a8\"],[0.3333333333333333,\"#9c179e\"],[0.4444444444444444,\"#bd3786\"],[0.5555555555555556,\"#d8576b\"],[0.6666666666666666,\"#ed7953\"],[0.7777777777777778,\"#fb9f3a\"],[0.8888888888888888,\"#fdca26\"],[1.0,\"#f0f921\"]],\"type\":\"histogram2dcontour\"}],\"mesh3d\":[{\"colorbar\":{\"outlinewidth\":0,\"ticks\":\"\"},\"type\":\"mesh3d\"}],\"parcoords\":[{\"line\":{\"colorbar\":{\"outlinewidth\":0,\"ticks\":\"\"}},\"type\":\"parcoords\"}],\"pie\":[{\"automargin\":true,\"type\":\"pie\"}],\"scatter\":[{\"marker\":{\"colorbar\":{\"outlinewidth\":0,\"ticks\":\"\"}},\"type\":\"scatter\"}],\"scatter3d\":[{\"line\":{\"colorbar\":{\"outlinewidth\":0,\"ticks\":\"\"}},\"marker\":{\"colorbar\":{\"outlinewidth\":0,\"ticks\":\"\"}},\"type\":\"scatter3d\"}],\"scattercarpet\":[{\"marker\":{\"colorbar\":{\"outlinewidth\":0,\"ticks\":\"\"}},\"type\":\"scattercarpet\"}],\"scattergeo\":[{\"marker\":{\"colorbar\":{\"outlinewidth\":0,\"ticks\":\"\"}},\"type\":\"scattergeo\"}],\"scattergl\":[{\"marker\":{\"colorbar\":{\"outlinewidth\":0,\"ticks\":\"\"}},\"type\":\"scattergl\"}],\"scattermapbox\":[{\"marker\":{\"colorbar\":{\"outlinewidth\":0,\"ticks\":\"\"}},\"type\":\"scattermapbox\"}],\"scatterpolar\":[{\"marker\":{\"colorbar\":{\"outlinewidth\":0,\"ticks\":\"\"}},\"type\":\"scatterpolar\"}],\"scatterpolargl\":[{\"marker\":{\"colorbar\":{\"outlinewidth\":0,\"ticks\":\"\"}},\"type\":\"scatterpolargl\"}],\"scatterternary\":[{\"marker\":{\"colorbar\":{\"outlinewidth\":0,\"ticks\":\"\"}},\"type\":\"scatterternary\"}],\"surface\":[{\"colorbar\":{\"outlinewidth\":0,\"ticks\":\"\"},\"colorscale\":[[0.0,\"#0d0887\"],[0.1111111111111111,\"#46039f\"],[0.2222222222222222,\"#7201a8\"],[0.3333333333333333,\"#9c179e\"],[0.4444444444444444,\"#bd3786\"],[0.5555555555555556,\"#d8576b\"],[0.6666666666666666,\"#ed7953\"],[0.7777777777777778,\"#fb9f3a\"],[0.8888888888888888,\"#fdca26\"],[1.0,\"#f0f921\"]],\"type\":\"surface\"}],\"table\":[{\"cells\":{\"fill\":{\"color\":\"#EBF0F8\"},\"line\":{\"color\":\"white\"}},\"header\":{\"fill\":{\"color\":\"#C8D4E3\"},\"line\":{\"color\":\"white\"}},\"type\":\"table\"}]},\"layout\":{\"annotationdefaults\":{\"arrowcolor\":\"#2a3f5f\",\"arrowhead\":0,\"arrowwidth\":1},\"autotypenumbers\":\"strict\",\"coloraxis\":{\"colorbar\":{\"outlinewidth\":0,\"ticks\":\"\"}},\"colorscale\":{\"diverging\":[[0,\"#8e0152\"],[0.1,\"#c51b7d\"],[0.2,\"#de77ae\"],[0.3,\"#f1b6da\"],[0.4,\"#fde0ef\"],[0.5,\"#f7f7f7\"],[0.6,\"#e6f5d0\"],[0.7,\"#b8e186\"],[0.8,\"#7fbc41\"],[0.9,\"#4d9221\"],[1,\"#276419\"]],\"sequential\":[[0.0,\"#0d0887\"],[0.1111111111111111,\"#46039f\"],[0.2222222222222222,\"#7201a8\"],[0.3333333333333333,\"#9c179e\"],[0.4444444444444444,\"#bd3786\"],[0.5555555555555556,\"#d8576b\"],[0.6666666666666666,\"#ed7953\"],[0.7777777777777778,\"#fb9f3a\"],[0.8888888888888888,\"#fdca26\"],[1.0,\"#f0f921\"]],\"sequentialminus\":[[0.0,\"#0d0887\"],[0.1111111111111111,\"#46039f\"],[0.2222222222222222,\"#7201a8\"],[0.3333333333333333,\"#9c179e\"],[0.4444444444444444,\"#bd3786\"],[0.5555555555555556,\"#d8576b\"],[0.6666666666666666,\"#ed7953\"],[0.7777777777777778,\"#fb9f3a\"],[0.8888888888888888,\"#fdca26\"],[1.0,\"#f0f921\"]]},\"colorway\":[\"#636efa\",\"#EF553B\",\"#00cc96\",\"#ab63fa\",\"#FFA15A\",\"#19d3f3\",\"#FF6692\",\"#B6E880\",\"#FF97FF\",\"#FECB52\"],\"font\":{\"color\":\"#2a3f5f\"},\"geo\":{\"bgcolor\":\"white\",\"lakecolor\":\"white\",\"landcolor\":\"#E5ECF6\",\"showlakes\":true,\"showland\":true,\"subunitcolor\":\"white\"},\"hoverlabel\":{\"align\":\"left\"},\"hovermode\":\"closest\",\"mapbox\":{\"style\":\"light\"},\"paper_bgcolor\":\"white\",\"plot_bgcolor\":\"#E5ECF6\",\"polar\":{\"angularaxis\":{\"gridcolor\":\"white\",\"linecolor\":\"white\",\"ticks\":\"\"},\"bgcolor\":\"#E5ECF6\",\"radialaxis\":{\"gridcolor\":\"white\",\"linecolor\":\"white\",\"ticks\":\"\"}},\"scene\":{\"xaxis\":{\"backgroundcolor\":\"#E5ECF6\",\"gridcolor\":\"white\",\"gridwidth\":2,\"linecolor\":\"white\",\"showbackground\":true,\"ticks\":\"\",\"zerolinecolor\":\"white\"},\"yaxis\":{\"backgroundcolor\":\"#E5ECF6\",\"gridcolor\":\"white\",\"gridwidth\":2,\"linecolor\":\"white\",\"showbackground\":true,\"ticks\":\"\",\"zerolinecolor\":\"white\"},\"zaxis\":{\"backgroundcolor\":\"#E5ECF6\",\"gridcolor\":\"white\",\"gridwidth\":2,\"linecolor\":\"white\",\"showbackground\":true,\"ticks\":\"\",\"zerolinecolor\":\"white\"}},\"shapedefaults\":{\"line\":{\"color\":\"#2a3f5f\"}},\"ternary\":{\"aaxis\":{\"gridcolor\":\"white\",\"linecolor\":\"white\",\"ticks\":\"\"},\"baxis\":{\"gridcolor\":\"white\",\"linecolor\":\"white\",\"ticks\":\"\"},\"bgcolor\":\"#E5ECF6\",\"caxis\":{\"gridcolor\":\"white\",\"linecolor\":\"white\",\"ticks\":\"\"}},\"title\":{\"x\":0.05},\"xaxis\":{\"automargin\":true,\"gridcolor\":\"white\",\"linecolor\":\"white\",\"ticks\":\"\",\"title\":{\"standoff\":15},\"zerolinecolor\":\"white\",\"zerolinewidth\":2},\"yaxis\":{\"automargin\":true,\"gridcolor\":\"white\",\"linecolor\":\"white\",\"ticks\":\"\",\"title\":{\"standoff\":15},\"zerolinecolor\":\"white\",\"zerolinewidth\":2}}},\"xaxis\":{\"anchor\":\"y\",\"domain\":[0.0,1.0],\"scaleanchor\":\"y\",\"constrain\":\"domain\"},\"yaxis\":{\"anchor\":\"x\",\"domain\":[0.0,1.0],\"autorange\":\"reversed\",\"constrain\":\"domain\"},\"coloraxis\":{\"colorscale\":[[0.0,\"#0d0887\"],[0.1111111111111111,\"#46039f\"],[0.2222222222222222,\"#7201a8\"],[0.3333333333333333,\"#9c179e\"],[0.4444444444444444,\"#bd3786\"],[0.5555555555555556,\"#d8576b\"],[0.6666666666666666,\"#ed7953\"],[0.7777777777777778,\"#fb9f3a\"],[0.8888888888888888,\"#fdca26\"],[1.0,\"#f0f921\"]]},\"margin\":{\"t\":60},\"title\":{\"text\":\"TFIDF Vectorizer SGD Confusion Matrix\"}},                        {\"responsive\": true}                    ).then(function(){\n",
              "                            \n",
              "var gd = document.getElementById('25f2fbd4-142e-4fed-b0ad-ce76df770135');\n",
              "var x = new MutationObserver(function (mutations, observer) {{\n",
              "        var display = window.getComputedStyle(gd).display;\n",
              "        if (!display || display === 'none') {{\n",
              "            console.log([gd, 'removed!']);\n",
              "            Plotly.purge(gd);\n",
              "            observer.disconnect();\n",
              "        }}\n",
              "}});\n",
              "\n",
              "// Listen for the removal of the full notebook cells\n",
              "var notebookContainer = gd.closest('#notebook-container');\n",
              "if (notebookContainer) {{\n",
              "    x.observe(notebookContainer, {childList: true});\n",
              "}}\n",
              "\n",
              "// Listen for the clearing of the current output cell\n",
              "var outputEl = gd.closest('.output');\n",
              "if (outputEl) {{\n",
              "    x.observe(outputEl, {childList: true});\n",
              "}}\n",
              "\n",
              "                        })                };                            </script>        </div>\n",
              "</body>\n",
              "</html>"
            ]
          },
          "metadata": {}
        }
      ]
    },
    {
      "cell_type": "code",
      "source": [
        "fig = px.scatter(x=(list(f1_scores.keys())), y=list(f1_scores.values()), color=list(f1_scores.keys()))\n",
        "fig.update_traces(marker_size=10)\n",
        "fig.update_layout(xaxis_title = \"F1 Score Average\", yaxis_title = \"Score\", title = \"SGD F1 Scores\", legend_title=\"F1 Score Averages\")\n",
        "fig.show(renderer = \"colab\")"
      ],
      "metadata": {
        "colab": {
          "base_uri": "https://localhost:8080/",
          "height": 542
        },
        "id": "7jegJQC5TAKA",
        "outputId": "1ae5c952-3d6c-4a6e-c3b0-19b13de7bba9"
      },
      "execution_count": null,
      "outputs": [
        {
          "output_type": "display_data",
          "data": {
            "text/html": [
              "<html>\n",
              "<head><meta charset=\"utf-8\" /></head>\n",
              "<body>\n",
              "    <div>            <script src=\"https://cdnjs.cloudflare.com/ajax/libs/mathjax/2.7.5/MathJax.js?config=TeX-AMS-MML_SVG\"></script><script type=\"text/javascript\">if (window.MathJax) {MathJax.Hub.Config({SVG: {font: \"STIX-Web\"}});}</script>                <script type=\"text/javascript\">window.PlotlyConfig = {MathJaxConfig: 'local'};</script>\n",
              "        <script src=\"https://cdn.plot.ly/plotly-2.9.0.min.js\"></script>                <div id=\"c15a424f-c0bf-4da5-8da2-57796cdf8841\" class=\"plotly-graph-div\" style=\"height:525px; width:100%;\"></div>            <script type=\"text/javascript\">                                    window.PLOTLYENV=window.PLOTLYENV || {};                                    if (document.getElementById(\"c15a424f-c0bf-4da5-8da2-57796cdf8841\")) {                    Plotly.newPlot(                        \"c15a424f-c0bf-4da5-8da2-57796cdf8841\",                        [{\"hovertemplate\":\"color=Tfidf_macro<br>x=%{x}<br>y=%{y}<extra></extra>\",\"legendgroup\":\"Tfidf_macro\",\"marker\":{\"color\":\"#636efa\",\"symbol\":\"circle\",\"size\":10},\"mode\":\"markers\",\"name\":\"Tfidf_macro\",\"orientation\":\"v\",\"showlegend\":true,\"x\":[\"Tfidf_macro\"],\"xaxis\":\"x\",\"y\":[0.6275897425047405],\"yaxis\":\"y\",\"type\":\"scatter\"},{\"hovertemplate\":\"color=Tfidf_micro<br>x=%{x}<br>y=%{y}<extra></extra>\",\"legendgroup\":\"Tfidf_micro\",\"marker\":{\"color\":\"#EF553B\",\"symbol\":\"circle\",\"size\":10},\"mode\":\"markers\",\"name\":\"Tfidf_micro\",\"orientation\":\"v\",\"showlegend\":true,\"x\":[\"Tfidf_micro\"],\"xaxis\":\"x\",\"y\":[0.7135784746760895],\"yaxis\":\"y\",\"type\":\"scatter\"},{\"hovertemplate\":\"color=Tfidf_weighted<br>x=%{x}<br>y=%{y}<extra></extra>\",\"legendgroup\":\"Tfidf_weighted\",\"marker\":{\"color\":\"#00cc96\",\"symbol\":\"circle\",\"size\":10},\"mode\":\"markers\",\"name\":\"Tfidf_weighted\",\"orientation\":\"v\",\"showlegend\":true,\"x\":[\"Tfidf_weighted\"],\"xaxis\":\"x\",\"y\":[0.7052785399009004],\"yaxis\":\"y\",\"type\":\"scatter\"},{\"hovertemplate\":\"color=Count_macro<br>x=%{x}<br>y=%{y}<extra></extra>\",\"legendgroup\":\"Count_macro\",\"marker\":{\"color\":\"#ab63fa\",\"symbol\":\"circle\",\"size\":10},\"mode\":\"markers\",\"name\":\"Count_macro\",\"orientation\":\"v\",\"showlegend\":true,\"x\":[\"Count_macro\"],\"xaxis\":\"x\",\"y\":[0.5763493886362887],\"yaxis\":\"y\",\"type\":\"scatter\"},{\"hovertemplate\":\"color=Count_micro<br>x=%{x}<br>y=%{y}<extra></extra>\",\"legendgroup\":\"Count_micro\",\"marker\":{\"color\":\"#FFA15A\",\"symbol\":\"circle\",\"size\":10},\"mode\":\"markers\",\"name\":\"Count_micro\",\"orientation\":\"v\",\"showlegend\":true,\"x\":[\"Count_micro\"],\"xaxis\":\"x\",\"y\":[0.6651943462897526],\"yaxis\":\"y\",\"type\":\"scatter\"},{\"hovertemplate\":\"color=Count_weighted<br>x=%{x}<br>y=%{y}<extra></extra>\",\"legendgroup\":\"Count_weighted\",\"marker\":{\"color\":\"#19d3f3\",\"symbol\":\"circle\",\"size\":10},\"mode\":\"markers\",\"name\":\"Count_weighted\",\"orientation\":\"v\",\"showlegend\":true,\"x\":[\"Count_weighted\"],\"xaxis\":\"x\",\"y\":[0.660308287977016],\"yaxis\":\"y\",\"type\":\"scatter\"},{\"hovertemplate\":\"color=Hash_macro<br>x=%{x}<br>y=%{y}<extra></extra>\",\"legendgroup\":\"Hash_macro\",\"marker\":{\"color\":\"#FF6692\",\"symbol\":\"circle\",\"size\":10},\"mode\":\"markers\",\"name\":\"Hash_macro\",\"orientation\":\"v\",\"showlegend\":true,\"x\":[\"Hash_macro\"],\"xaxis\":\"x\",\"y\":[0.6337544348643571],\"yaxis\":\"y\",\"type\":\"scatter\"},{\"hovertemplate\":\"color=Hash_micro<br>x=%{x}<br>y=%{y}<extra></extra>\",\"legendgroup\":\"Hash_micro\",\"marker\":{\"color\":\"#B6E880\",\"symbol\":\"circle\",\"size\":10},\"mode\":\"markers\",\"name\":\"Hash_micro\",\"orientation\":\"v\",\"showlegend\":true,\"x\":[\"Hash_micro\"],\"xaxis\":\"x\",\"y\":[0.7224676089517079],\"yaxis\":\"y\",\"type\":\"scatter\"},{\"hovertemplate\":\"color=Hash_weighted<br>x=%{x}<br>y=%{y}<extra></extra>\",\"legendgroup\":\"Hash_weighted\",\"marker\":{\"color\":\"#FF97FF\",\"symbol\":\"circle\",\"size\":10},\"mode\":\"markers\",\"name\":\"Hash_weighted\",\"orientation\":\"v\",\"showlegend\":true,\"x\":[\"Hash_weighted\"],\"xaxis\":\"x\",\"y\":[0.7108339503209307],\"yaxis\":\"y\",\"type\":\"scatter\"}],                        {\"template\":{\"data\":{\"bar\":[{\"error_x\":{\"color\":\"#2a3f5f\"},\"error_y\":{\"color\":\"#2a3f5f\"},\"marker\":{\"line\":{\"color\":\"#E5ECF6\",\"width\":0.5},\"pattern\":{\"fillmode\":\"overlay\",\"size\":10,\"solidity\":0.2}},\"type\":\"bar\"}],\"barpolar\":[{\"marker\":{\"line\":{\"color\":\"#E5ECF6\",\"width\":0.5},\"pattern\":{\"fillmode\":\"overlay\",\"size\":10,\"solidity\":0.2}},\"type\":\"barpolar\"}],\"carpet\":[{\"aaxis\":{\"endlinecolor\":\"#2a3f5f\",\"gridcolor\":\"white\",\"linecolor\":\"white\",\"minorgridcolor\":\"white\",\"startlinecolor\":\"#2a3f5f\"},\"baxis\":{\"endlinecolor\":\"#2a3f5f\",\"gridcolor\":\"white\",\"linecolor\":\"white\",\"minorgridcolor\":\"white\",\"startlinecolor\":\"#2a3f5f\"},\"type\":\"carpet\"}],\"choropleth\":[{\"colorbar\":{\"outlinewidth\":0,\"ticks\":\"\"},\"type\":\"choropleth\"}],\"contour\":[{\"colorbar\":{\"outlinewidth\":0,\"ticks\":\"\"},\"colorscale\":[[0.0,\"#0d0887\"],[0.1111111111111111,\"#46039f\"],[0.2222222222222222,\"#7201a8\"],[0.3333333333333333,\"#9c179e\"],[0.4444444444444444,\"#bd3786\"],[0.5555555555555556,\"#d8576b\"],[0.6666666666666666,\"#ed7953\"],[0.7777777777777778,\"#fb9f3a\"],[0.8888888888888888,\"#fdca26\"],[1.0,\"#f0f921\"]],\"type\":\"contour\"}],\"contourcarpet\":[{\"colorbar\":{\"outlinewidth\":0,\"ticks\":\"\"},\"type\":\"contourcarpet\"}],\"heatmap\":[{\"colorbar\":{\"outlinewidth\":0,\"ticks\":\"\"},\"colorscale\":[[0.0,\"#0d0887\"],[0.1111111111111111,\"#46039f\"],[0.2222222222222222,\"#7201a8\"],[0.3333333333333333,\"#9c179e\"],[0.4444444444444444,\"#bd3786\"],[0.5555555555555556,\"#d8576b\"],[0.6666666666666666,\"#ed7953\"],[0.7777777777777778,\"#fb9f3a\"],[0.8888888888888888,\"#fdca26\"],[1.0,\"#f0f921\"]],\"type\":\"heatmap\"}],\"heatmapgl\":[{\"colorbar\":{\"outlinewidth\":0,\"ticks\":\"\"},\"colorscale\":[[0.0,\"#0d0887\"],[0.1111111111111111,\"#46039f\"],[0.2222222222222222,\"#7201a8\"],[0.3333333333333333,\"#9c179e\"],[0.4444444444444444,\"#bd3786\"],[0.5555555555555556,\"#d8576b\"],[0.6666666666666666,\"#ed7953\"],[0.7777777777777778,\"#fb9f3a\"],[0.8888888888888888,\"#fdca26\"],[1.0,\"#f0f921\"]],\"type\":\"heatmapgl\"}],\"histogram\":[{\"marker\":{\"pattern\":{\"fillmode\":\"overlay\",\"size\":10,\"solidity\":0.2}},\"type\":\"histogram\"}],\"histogram2d\":[{\"colorbar\":{\"outlinewidth\":0,\"ticks\":\"\"},\"colorscale\":[[0.0,\"#0d0887\"],[0.1111111111111111,\"#46039f\"],[0.2222222222222222,\"#7201a8\"],[0.3333333333333333,\"#9c179e\"],[0.4444444444444444,\"#bd3786\"],[0.5555555555555556,\"#d8576b\"],[0.6666666666666666,\"#ed7953\"],[0.7777777777777778,\"#fb9f3a\"],[0.8888888888888888,\"#fdca26\"],[1.0,\"#f0f921\"]],\"type\":\"histogram2d\"}],\"histogram2dcontour\":[{\"colorbar\":{\"outlinewidth\":0,\"ticks\":\"\"},\"colorscale\":[[0.0,\"#0d0887\"],[0.1111111111111111,\"#46039f\"],[0.2222222222222222,\"#7201a8\"],[0.3333333333333333,\"#9c179e\"],[0.4444444444444444,\"#bd3786\"],[0.5555555555555556,\"#d8576b\"],[0.6666666666666666,\"#ed7953\"],[0.7777777777777778,\"#fb9f3a\"],[0.8888888888888888,\"#fdca26\"],[1.0,\"#f0f921\"]],\"type\":\"histogram2dcontour\"}],\"mesh3d\":[{\"colorbar\":{\"outlinewidth\":0,\"ticks\":\"\"},\"type\":\"mesh3d\"}],\"parcoords\":[{\"line\":{\"colorbar\":{\"outlinewidth\":0,\"ticks\":\"\"}},\"type\":\"parcoords\"}],\"pie\":[{\"automargin\":true,\"type\":\"pie\"}],\"scatter\":[{\"marker\":{\"colorbar\":{\"outlinewidth\":0,\"ticks\":\"\"}},\"type\":\"scatter\"}],\"scatter3d\":[{\"line\":{\"colorbar\":{\"outlinewidth\":0,\"ticks\":\"\"}},\"marker\":{\"colorbar\":{\"outlinewidth\":0,\"ticks\":\"\"}},\"type\":\"scatter3d\"}],\"scattercarpet\":[{\"marker\":{\"colorbar\":{\"outlinewidth\":0,\"ticks\":\"\"}},\"type\":\"scattercarpet\"}],\"scattergeo\":[{\"marker\":{\"colorbar\":{\"outlinewidth\":0,\"ticks\":\"\"}},\"type\":\"scattergeo\"}],\"scattergl\":[{\"marker\":{\"colorbar\":{\"outlinewidth\":0,\"ticks\":\"\"}},\"type\":\"scattergl\"}],\"scattermapbox\":[{\"marker\":{\"colorbar\":{\"outlinewidth\":0,\"ticks\":\"\"}},\"type\":\"scattermapbox\"}],\"scatterpolar\":[{\"marker\":{\"colorbar\":{\"outlinewidth\":0,\"ticks\":\"\"}},\"type\":\"scatterpolar\"}],\"scatterpolargl\":[{\"marker\":{\"colorbar\":{\"outlinewidth\":0,\"ticks\":\"\"}},\"type\":\"scatterpolargl\"}],\"scatterternary\":[{\"marker\":{\"colorbar\":{\"outlinewidth\":0,\"ticks\":\"\"}},\"type\":\"scatterternary\"}],\"surface\":[{\"colorbar\":{\"outlinewidth\":0,\"ticks\":\"\"},\"colorscale\":[[0.0,\"#0d0887\"],[0.1111111111111111,\"#46039f\"],[0.2222222222222222,\"#7201a8\"],[0.3333333333333333,\"#9c179e\"],[0.4444444444444444,\"#bd3786\"],[0.5555555555555556,\"#d8576b\"],[0.6666666666666666,\"#ed7953\"],[0.7777777777777778,\"#fb9f3a\"],[0.8888888888888888,\"#fdca26\"],[1.0,\"#f0f921\"]],\"type\":\"surface\"}],\"table\":[{\"cells\":{\"fill\":{\"color\":\"#EBF0F8\"},\"line\":{\"color\":\"white\"}},\"header\":{\"fill\":{\"color\":\"#C8D4E3\"},\"line\":{\"color\":\"white\"}},\"type\":\"table\"}]},\"layout\":{\"annotationdefaults\":{\"arrowcolor\":\"#2a3f5f\",\"arrowhead\":0,\"arrowwidth\":1},\"autotypenumbers\":\"strict\",\"coloraxis\":{\"colorbar\":{\"outlinewidth\":0,\"ticks\":\"\"}},\"colorscale\":{\"diverging\":[[0,\"#8e0152\"],[0.1,\"#c51b7d\"],[0.2,\"#de77ae\"],[0.3,\"#f1b6da\"],[0.4,\"#fde0ef\"],[0.5,\"#f7f7f7\"],[0.6,\"#e6f5d0\"],[0.7,\"#b8e186\"],[0.8,\"#7fbc41\"],[0.9,\"#4d9221\"],[1,\"#276419\"]],\"sequential\":[[0.0,\"#0d0887\"],[0.1111111111111111,\"#46039f\"],[0.2222222222222222,\"#7201a8\"],[0.3333333333333333,\"#9c179e\"],[0.4444444444444444,\"#bd3786\"],[0.5555555555555556,\"#d8576b\"],[0.6666666666666666,\"#ed7953\"],[0.7777777777777778,\"#fb9f3a\"],[0.8888888888888888,\"#fdca26\"],[1.0,\"#f0f921\"]],\"sequentialminus\":[[0.0,\"#0d0887\"],[0.1111111111111111,\"#46039f\"],[0.2222222222222222,\"#7201a8\"],[0.3333333333333333,\"#9c179e\"],[0.4444444444444444,\"#bd3786\"],[0.5555555555555556,\"#d8576b\"],[0.6666666666666666,\"#ed7953\"],[0.7777777777777778,\"#fb9f3a\"],[0.8888888888888888,\"#fdca26\"],[1.0,\"#f0f921\"]]},\"colorway\":[\"#636efa\",\"#EF553B\",\"#00cc96\",\"#ab63fa\",\"#FFA15A\",\"#19d3f3\",\"#FF6692\",\"#B6E880\",\"#FF97FF\",\"#FECB52\"],\"font\":{\"color\":\"#2a3f5f\"},\"geo\":{\"bgcolor\":\"white\",\"lakecolor\":\"white\",\"landcolor\":\"#E5ECF6\",\"showlakes\":true,\"showland\":true,\"subunitcolor\":\"white\"},\"hoverlabel\":{\"align\":\"left\"},\"hovermode\":\"closest\",\"mapbox\":{\"style\":\"light\"},\"paper_bgcolor\":\"white\",\"plot_bgcolor\":\"#E5ECF6\",\"polar\":{\"angularaxis\":{\"gridcolor\":\"white\",\"linecolor\":\"white\",\"ticks\":\"\"},\"bgcolor\":\"#E5ECF6\",\"radialaxis\":{\"gridcolor\":\"white\",\"linecolor\":\"white\",\"ticks\":\"\"}},\"scene\":{\"xaxis\":{\"backgroundcolor\":\"#E5ECF6\",\"gridcolor\":\"white\",\"gridwidth\":2,\"linecolor\":\"white\",\"showbackground\":true,\"ticks\":\"\",\"zerolinecolor\":\"white\"},\"yaxis\":{\"backgroundcolor\":\"#E5ECF6\",\"gridcolor\":\"white\",\"gridwidth\":2,\"linecolor\":\"white\",\"showbackground\":true,\"ticks\":\"\",\"zerolinecolor\":\"white\"},\"zaxis\":{\"backgroundcolor\":\"#E5ECF6\",\"gridcolor\":\"white\",\"gridwidth\":2,\"linecolor\":\"white\",\"showbackground\":true,\"ticks\":\"\",\"zerolinecolor\":\"white\"}},\"shapedefaults\":{\"line\":{\"color\":\"#2a3f5f\"}},\"ternary\":{\"aaxis\":{\"gridcolor\":\"white\",\"linecolor\":\"white\",\"ticks\":\"\"},\"baxis\":{\"gridcolor\":\"white\",\"linecolor\":\"white\",\"ticks\":\"\"},\"bgcolor\":\"#E5ECF6\",\"caxis\":{\"gridcolor\":\"white\",\"linecolor\":\"white\",\"ticks\":\"\"}},\"title\":{\"x\":0.05},\"xaxis\":{\"automargin\":true,\"gridcolor\":\"white\",\"linecolor\":\"white\",\"ticks\":\"\",\"title\":{\"standoff\":15},\"zerolinecolor\":\"white\",\"zerolinewidth\":2},\"yaxis\":{\"automargin\":true,\"gridcolor\":\"white\",\"linecolor\":\"white\",\"ticks\":\"\",\"title\":{\"standoff\":15},\"zerolinecolor\":\"white\",\"zerolinewidth\":2}}},\"xaxis\":{\"anchor\":\"y\",\"domain\":[0.0,1.0],\"title\":{\"text\":\"F1 Score Average\"}},\"yaxis\":{\"anchor\":\"x\",\"domain\":[0.0,1.0],\"title\":{\"text\":\"Score\"}},\"legend\":{\"title\":{\"text\":\"F1 Score Averages\"},\"tracegroupgap\":0},\"margin\":{\"t\":60},\"title\":{\"text\":\"SGD F1 Scores\"}},                        {\"responsive\": true}                    ).then(function(){\n",
              "                            \n",
              "var gd = document.getElementById('c15a424f-c0bf-4da5-8da2-57796cdf8841');\n",
              "var x = new MutationObserver(function (mutations, observer) {{\n",
              "        var display = window.getComputedStyle(gd).display;\n",
              "        if (!display || display === 'none') {{\n",
              "            console.log([gd, 'removed!']);\n",
              "            Plotly.purge(gd);\n",
              "            observer.disconnect();\n",
              "        }}\n",
              "}});\n",
              "\n",
              "// Listen for the removal of the full notebook cells\n",
              "var notebookContainer = gd.closest('#notebook-container');\n",
              "if (notebookContainer) {{\n",
              "    x.observe(notebookContainer, {childList: true});\n",
              "}}\n",
              "\n",
              "// Listen for the clearing of the current output cell\n",
              "var outputEl = gd.closest('.output');\n",
              "if (outputEl) {{\n",
              "    x.observe(outputEl, {childList: true});\n",
              "}}\n",
              "\n",
              "                        })                };                            </script>        </div>\n",
              "</body>\n",
              "</html>"
            ]
          },
          "metadata": {}
        }
      ]
    },
    {
      "cell_type": "markdown",
      "source": [
        "# TFIDF Vectorizer Paired With SGDClassifier Sample Predictions"
      ],
      "metadata": {
        "id": "HD9LbQv0c9uj"
      }
    },
    {
      "cell_type": "code",
      "source": [
        "tfidf_model.predict(tfidf_vectorizer.transform([\"Texas sues Biden administration to stop mask mandates on planes – as it happened\"])) #Poltical headline"
      ],
      "metadata": {
        "colab": {
          "base_uri": "https://localhost:8080/"
        },
        "outputId": "ce1f5a06-8be5-4574-8501-076b6aa37ad2",
        "id": "raVEiEw3Gqc8"
      },
      "execution_count": null,
      "outputs": [
        {
          "output_type": "execute_result",
          "data": {
            "text/plain": [
              "array(['POLITICS'], dtype='<U19')"
            ]
          },
          "metadata": {},
          "execution_count": 262
        }
      ]
    },
    {
      "cell_type": "code",
      "source": [
        "tfidf_model.predict(tfidf_vectorizer.transform([\"Google moves to make Android apps more private\"])) #Tech headline"
      ],
      "metadata": {
        "colab": {
          "base_uri": "https://localhost:8080/"
        },
        "outputId": "4e49e919-e561-4b88-827f-94aef152d5dc",
        "id": "wYlUhZq0Gqc9"
      },
      "execution_count": null,
      "outputs": [
        {
          "output_type": "execute_result",
          "data": {
            "text/plain": [
              "array(['TECH'], dtype='<U19')"
            ]
          },
          "metadata": {},
          "execution_count": 263
        }
      ]
    },
    {
      "cell_type": "code",
      "source": [
        "tfidf_model.predict(tfidf_vectorizer.transform([\"Googles plan to limit data tracking on its Chrome browser has been extended to cover apps on its Android-based smartphones.\"])) #Tech short description"
      ],
      "metadata": {
        "colab": {
          "base_uri": "https://localhost:8080/"
        },
        "outputId": "95f0ba0d-5bb5-40fa-af3f-3b9b2ca41078",
        "id": "tVlBVz7RGqc9"
      },
      "execution_count": null,
      "outputs": [
        {
          "output_type": "execute_result",
          "data": {
            "text/plain": [
              "array(['TECH'], dtype='<U19')"
            ]
          },
          "metadata": {},
          "execution_count": 264
        }
      ]
    },
    {
      "cell_type": "code",
      "source": [
        "tfidf_model.predict(tfidf_vectorizer.transform([\"Austria and Germany have both announced plans to relax Covid-19 measures, weeks after pushing for compulsory vaccinations to curb infections.\"])) #General/Covid News"
      ],
      "metadata": {
        "id": "KvHiVW8SGqc9",
        "colab": {
          "base_uri": "https://localhost:8080/"
        },
        "outputId": "78fe856c-5d7f-4661-ec85-f529fe366715"
      },
      "execution_count": null,
      "outputs": [
        {
          "output_type": "execute_result",
          "data": {
            "text/plain": [
              "array(['WELLNESS'], dtype='<U19')"
            ]
          },
          "metadata": {},
          "execution_count": 265
        }
      ]
    },
    {
      "cell_type": "code",
      "source": [
        "tfidf_model.predict(tfidf_vectorizer.transform(['EUROPE Soldier abused for being gay told to provide intimate pictures to prove his sexuality'])) #Queer News"
      ],
      "metadata": {
        "colab": {
          "base_uri": "https://localhost:8080/"
        },
        "outputId": "27339dd8-690d-4ff6-99f3-e912531b0c0f",
        "id": "PCe_nLR8Gqc9"
      },
      "execution_count": null,
      "outputs": [
        {
          "output_type": "execute_result",
          "data": {
            "text/plain": [
              "array(['QUEER VOICES'], dtype='<U19')"
            ]
          },
          "metadata": {},
          "execution_count": 266
        }
      ]
    },
    {
      "cell_type": "code",
      "source": [
        "tfidf_model.predict(tfidf_vectorizer.transform(['Five healthy ways to discipline children'])) #Parenting News"
      ],
      "metadata": {
        "colab": {
          "base_uri": "https://localhost:8080/"
        },
        "outputId": "64acad71-42fc-44be-e023-1aec47819e2e",
        "id": "1Wps04FkGqc9"
      },
      "execution_count": null,
      "outputs": [
        {
          "output_type": "execute_result",
          "data": {
            "text/plain": [
              "array(['PARENTS'], dtype='<U19')"
            ]
          },
          "metadata": {},
          "execution_count": 267
        }
      ]
    },
    {
      "cell_type": "markdown",
      "source": [
        "With the short description of the previous headline the model predicts this as a Wellness category"
      ],
      "metadata": {
        "id": "WzbPbfi-Gqc9"
      }
    },
    {
      "cell_type": "code",
      "source": [
        "tfidf_model.predict(tfidf_vectorizer.transform(['A positive disciplining strategy can help develop a positive relationship and set expectations based on the behavioral outcomes, says an expert.']))"
      ],
      "metadata": {
        "colab": {
          "base_uri": "https://localhost:8080/"
        },
        "outputId": "7decd154-ee15-4e32-97c5-5aa4f5cc5502",
        "id": "a7DXqoJ2Gqc9"
      },
      "execution_count": null,
      "outputs": [
        {
          "output_type": "execute_result",
          "data": {
            "text/plain": [
              "array(['WELLNESS'], dtype='<U19')"
            ]
          },
          "metadata": {},
          "execution_count": 268
        }
      ]
    },
    {
      "cell_type": "markdown",
      "source": [
        "And with both headline and short description the model predicts this as a Wellness category"
      ],
      "metadata": {
        "id": "KAD3nD_AGqc9"
      }
    },
    {
      "cell_type": "code",
      "source": [
        "tfidf_model.predict(tfidf_vectorizer.transform(['Five healthy ways to discipline children A positive disciplining strategy can help develop a positive relationship and set expectations based on the behavioral outcomes, says an expert.']))"
      ],
      "metadata": {
        "colab": {
          "base_uri": "https://localhost:8080/"
        },
        "outputId": "f9607954-237d-4a9d-a1de-74ce74f8e425",
        "id": "vNoPeAt9Gqc9"
      },
      "execution_count": null,
      "outputs": [
        {
          "output_type": "execute_result",
          "data": {
            "text/plain": [
              "array(['WELLNESS'], dtype='<U19')"
            ]
          },
          "metadata": {},
          "execution_count": 269
        }
      ]
    },
    {
      "cell_type": "markdown",
      "source": [
        "# Count Vectorizer Paired With SGDClassifier Sample Predictions"
      ],
      "metadata": {
        "id": "cK4tLef1dSu_"
      }
    },
    {
      "cell_type": "code",
      "source": [
        "count_model.predict(countVectorizer.transform([\"Texas sues Biden administration to stop mask mandates on planes – as it happened\"])) #Poltical headline"
      ],
      "metadata": {
        "colab": {
          "base_uri": "https://localhost:8080/"
        },
        "outputId": "83ac7661-15e7-43a4-cee4-cd064f305d79",
        "id": "8H__vfIcdSu_"
      },
      "execution_count": null,
      "outputs": [
        {
          "output_type": "execute_result",
          "data": {
            "text/plain": [
              "array(['POLITICS'], dtype='<U19')"
            ]
          },
          "metadata": {},
          "execution_count": 270
        }
      ]
    },
    {
      "cell_type": "code",
      "source": [
        "count_model.predict(countVectorizer.transform([\"Google moves to make Android apps more private\"])) #Tech headline"
      ],
      "metadata": {
        "colab": {
          "base_uri": "https://localhost:8080/"
        },
        "outputId": "f008dc73-24cf-4f5c-ec52-2d91e14ae51a",
        "id": "1bBRcOKIdSu_"
      },
      "execution_count": null,
      "outputs": [
        {
          "output_type": "execute_result",
          "data": {
            "text/plain": [
              "array(['FOOD & DRINK'], dtype='<U19')"
            ]
          },
          "metadata": {},
          "execution_count": 271
        }
      ]
    },
    {
      "cell_type": "code",
      "source": [
        "count_model.predict(countVectorizer.transform([\"Googles plan to limit data tracking on its Chrome browser has been extended to cover apps on its Android-based smartphones.\"])) #Tech short description"
      ],
      "metadata": {
        "colab": {
          "base_uri": "https://localhost:8080/"
        },
        "outputId": "fea02b8c-5c0a-49e9-940d-fbf8e7754216",
        "id": "nr4mNM-ddSu_"
      },
      "execution_count": null,
      "outputs": [
        {
          "output_type": "execute_result",
          "data": {
            "text/plain": [
              "array(['TECH'], dtype='<U19')"
            ]
          },
          "metadata": {},
          "execution_count": 272
        }
      ]
    },
    {
      "cell_type": "code",
      "source": [
        "count_model.predict(countVectorizer.transform([\"Austria and Germany have both announced plans to relax Covid-19 measures, weeks after pushing for compulsory vaccinations to curb infections.\"])) #General/Covid News"
      ],
      "metadata": {
        "colab": {
          "base_uri": "https://localhost:8080/"
        },
        "id": "iQEhRAAzdSvA",
        "outputId": "6b5fb23d-6037-483c-b6e0-c79b7848e551"
      },
      "execution_count": null,
      "outputs": [
        {
          "output_type": "execute_result",
          "data": {
            "text/plain": [
              "array(['LIFESTYLE'], dtype='<U19')"
            ]
          },
          "metadata": {},
          "execution_count": 273
        }
      ]
    },
    {
      "cell_type": "code",
      "source": [
        "count_model.predict(countVectorizer.transform(['EUROPE Soldier abused for being gay told to provide intimate pictures to prove his sexuality'])) #Queer News"
      ],
      "metadata": {
        "colab": {
          "base_uri": "https://localhost:8080/"
        },
        "outputId": "387975cb-d2f1-48fe-977d-0f65e13f28bc",
        "id": "Vc-vNyLPdSvA"
      },
      "execution_count": null,
      "outputs": [
        {
          "output_type": "execute_result",
          "data": {
            "text/plain": [
              "array(['QUEER VOICES'], dtype='<U19')"
            ]
          },
          "metadata": {},
          "execution_count": 274
        }
      ]
    },
    {
      "cell_type": "code",
      "source": [
        "count_model.predict(countVectorizer.transform(['Five healthy ways to discipline children'])) #Parenting News"
      ],
      "metadata": {
        "colab": {
          "base_uri": "https://localhost:8080/"
        },
        "outputId": "9b49653f-7005-46cc-e620-2cd0357ac164",
        "id": "cbPdGa1BdSvA"
      },
      "execution_count": null,
      "outputs": [
        {
          "output_type": "execute_result",
          "data": {
            "text/plain": [
              "array(['POLITICS'], dtype='<U19')"
            ]
          },
          "metadata": {},
          "execution_count": 275
        }
      ]
    },
    {
      "cell_type": "markdown",
      "source": [
        "With the short description of the previous headline the model predicts this as a Wellness category"
      ],
      "metadata": {
        "id": "j6xp_UJ4dSvA"
      }
    },
    {
      "cell_type": "code",
      "source": [
        "count_model.predict(countVectorizer.transform(['A positive disciplining strategy can help develop a positive relationship and set expectations based on the behavioral outcomes, says an expert.']))"
      ],
      "metadata": {
        "colab": {
          "base_uri": "https://localhost:8080/"
        },
        "outputId": "7fa12867-c815-4cec-f20b-7a80b442859c",
        "id": "2KwETxYSdSvA"
      },
      "execution_count": null,
      "outputs": [
        {
          "output_type": "execute_result",
          "data": {
            "text/plain": [
              "array(['WELLNESS'], dtype='<U19')"
            ]
          },
          "metadata": {},
          "execution_count": 276
        }
      ]
    },
    {
      "cell_type": "markdown",
      "source": [
        "And with both headline and short description the model predicts this as a Wellness category"
      ],
      "metadata": {
        "id": "Q7HqJ9fldSvA"
      }
    },
    {
      "cell_type": "code",
      "source": [
        "count_model.predict(countVectorizer.transform(['Five healthy ways to discipline children A positive disciplining strategy can help develop a positive relationship and set expectations based on the behavioral outcomes, says an expert.']))"
      ],
      "metadata": {
        "colab": {
          "base_uri": "https://localhost:8080/"
        },
        "outputId": "0d6534b5-e95b-4b8a-d018-631f160778c0",
        "id": "DsJHEDF3dSvA"
      },
      "execution_count": null,
      "outputs": [
        {
          "output_type": "execute_result",
          "data": {
            "text/plain": [
              "array(['WELLNESS'], dtype='<U19')"
            ]
          },
          "metadata": {},
          "execution_count": 277
        }
      ]
    },
    {
      "cell_type": "markdown",
      "source": [
        "# Hash Vectorizer Paired With SGDClassifier Sample Predictions"
      ],
      "metadata": {
        "id": "2EoIlI5dgJAN"
      }
    },
    {
      "cell_type": "code",
      "source": [
        "hash_model.predict(hash_vectorizer.transform([\"Texas sues Biden administration to stop mask mandates on planes – as it happened\"])) #Poltical headline"
      ],
      "metadata": {
        "colab": {
          "base_uri": "https://localhost:8080/"
        },
        "outputId": "1ca19265-0aba-43a9-be6b-b205c5a66828",
        "id": "jMGNW14ugJAN"
      },
      "execution_count": null,
      "outputs": [
        {
          "output_type": "execute_result",
          "data": {
            "text/plain": [
              "array(['POLITICS'], dtype='<U19')"
            ]
          },
          "metadata": {},
          "execution_count": 278
        }
      ]
    },
    {
      "cell_type": "code",
      "source": [
        "hash_model.predict(hash_vectorizer.transform([\"Google moves to make Android apps more private\"])) #Tech headline"
      ],
      "metadata": {
        "colab": {
          "base_uri": "https://localhost:8080/"
        },
        "outputId": "f6e54550-ea9b-4c27-9690-f8f1d076adc9",
        "id": "Tc6WjLWfgJAO"
      },
      "execution_count": null,
      "outputs": [
        {
          "output_type": "execute_result",
          "data": {
            "text/plain": [
              "array(['TECH'], dtype='<U19')"
            ]
          },
          "metadata": {},
          "execution_count": 279
        }
      ]
    },
    {
      "cell_type": "code",
      "source": [
        "hash_model.predict(hash_vectorizer.transform([\"Googles plan to limit data tracking on its Chrome browser has been extended to cover apps on its Android-based smartphones.\"])) #Tech short description"
      ],
      "metadata": {
        "colab": {
          "base_uri": "https://localhost:8080/"
        },
        "outputId": "69136e16-1686-4840-b445-f2e6de2b9bd5",
        "id": "3vbHBOE6gJAO"
      },
      "execution_count": null,
      "outputs": [
        {
          "output_type": "execute_result",
          "data": {
            "text/plain": [
              "array(['TECH'], dtype='<U19')"
            ]
          },
          "metadata": {},
          "execution_count": 280
        }
      ]
    },
    {
      "cell_type": "code",
      "source": [
        "hash_model.predict(hash_vectorizer.transform([\"Austria and Germany have both announced plans to relax Covid-19 measures, weeks after pushing for compulsory vaccinations to curb infections.\"])) #General/Covid News"
      ],
      "metadata": {
        "colab": {
          "base_uri": "https://localhost:8080/"
        },
        "outputId": "c4618c42-2f20-4bf5-cf0d-2d175e4d3882",
        "id": "OJaEppy9gJAO"
      },
      "execution_count": null,
      "outputs": [
        {
          "output_type": "execute_result",
          "data": {
            "text/plain": [
              "array(['WORLD NEWS'], dtype='<U19')"
            ]
          },
          "metadata": {},
          "execution_count": 281
        }
      ]
    },
    {
      "cell_type": "code",
      "source": [
        "hash_model.predict(hash_vectorizer.transform(['EUROPE Soldier abused for being gay told to provide intimate pictures to prove his sexuality'])) #Queer News"
      ],
      "metadata": {
        "colab": {
          "base_uri": "https://localhost:8080/"
        },
        "outputId": "51e5c3f0-0aff-472b-83d0-5c8deaf8d707",
        "id": "8O-JoMUFgJAO"
      },
      "execution_count": null,
      "outputs": [
        {
          "output_type": "execute_result",
          "data": {
            "text/plain": [
              "array(['QUEER VOICES'], dtype='<U19')"
            ]
          },
          "metadata": {},
          "execution_count": 282
        }
      ]
    },
    {
      "cell_type": "code",
      "source": [
        "hash_model.predict(hash_vectorizer.transform(['Five healthy ways to discipline children'])) #Parenting News"
      ],
      "metadata": {
        "colab": {
          "base_uri": "https://localhost:8080/"
        },
        "outputId": "529cede3-b93a-4533-8fc9-3de72062ca37",
        "id": "p5z4rqsigJAO"
      },
      "execution_count": null,
      "outputs": [
        {
          "output_type": "execute_result",
          "data": {
            "text/plain": [
              "array(['PARENTS'], dtype='<U19')"
            ]
          },
          "metadata": {},
          "execution_count": 283
        }
      ]
    },
    {
      "cell_type": "markdown",
      "source": [
        "With the short description of the previous headline the model predicts this as a Wellness category"
      ],
      "metadata": {
        "id": "DouJf7DBgJAO"
      }
    },
    {
      "cell_type": "code",
      "source": [
        "hash_model.predict(hash_vectorizer.transform(['A positive disciplining strategy can help develop a positive relationship and set expectations based on the behavioral outcomes, says an expert.']))"
      ],
      "metadata": {
        "colab": {
          "base_uri": "https://localhost:8080/"
        },
        "outputId": "28b2af03-0fa4-41e0-c7d4-2d04d9511b98",
        "id": "UlvMFHzhgJAO"
      },
      "execution_count": null,
      "outputs": [
        {
          "output_type": "execute_result",
          "data": {
            "text/plain": [
              "array(['WELLNESS'], dtype='<U19')"
            ]
          },
          "metadata": {},
          "execution_count": 284
        }
      ]
    },
    {
      "cell_type": "markdown",
      "source": [
        "And with both headline and short description the model predicts this as a Wellness category"
      ],
      "metadata": {
        "id": "75I2tOe5gJAP"
      }
    },
    {
      "cell_type": "code",
      "source": [
        "hash_model.predict(hash_vectorizer.transform(['Five healthy ways to discipline children A positive disciplining strategy can help develop a positive relationship and set expectations based on the behavioral outcomes, says an expert.']))"
      ],
      "metadata": {
        "colab": {
          "base_uri": "https://localhost:8080/"
        },
        "outputId": "d6ba17d0-50c2-4b12-8bac-e5aca533f078",
        "id": "tm1GVc9ngJAP"
      },
      "execution_count": null,
      "outputs": [
        {
          "output_type": "execute_result",
          "data": {
            "text/plain": [
              "array(['WELLNESS'], dtype='<U19')"
            ]
          },
          "metadata": {},
          "execution_count": 285
        }
      ]
    },
    {
      "cell_type": "markdown",
      "source": [
        "# **Conclusion**\n",
        "While the models are not 100% accurate, we can see that they perform better than a random descesion model. When given vague headlines the model still manages to predict a category which is close to the correct category. When given a clearer headline or short description the model performs execptionally well. With some more tuning and testing of different models I am sure the predictions could be better. Another thing to keep in mind is that some news categories are subjective, what one person may say is entertainment another could say lifestyle.\n",
        "\n",
        "#References: \n",
        "https://scikit-learn.org/stable/modules/generated/sklearn.feature_extraction.text.TfidfVectorizer.html\n",
        "\n",
        "https://scikit-learn.org/stable/modules/classes.html?highlight=naive%20bayes#module-sklearn.naive_bayes\n",
        "\n",
        "https://scikit-learn.org/stable/modules/generated/sklearn.ensemble.RandomForestClassifier.html?highlight=randomforest#sklearn.ensemble.RandomForestClassifier\n",
        "\n",
        "https://plotly.com/python/\n",
        "\n",
        "https://www.youtube.com/watch?v=i74DVqMsRWY\n",
        "\n",
        "https://numpy.org/doc/stable/reference/index.html\n",
        "\n"
      ],
      "metadata": {
        "id": "tgIS4ngyIoiW"
      }
    }
  ]
}