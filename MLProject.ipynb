{
  "nbformat": 4,
  "nbformat_minor": 0,
  "metadata": {
    "colab": {
      "name": "MLProject.ipynb",
      "provenance": [],
      "collapsed_sections": [],
      "mount_file_id": "1VHPL41d-OBs939nuenhDhww8cExMxpDK",
      "authorship_tag": "ABX9TyME3pjCqzngjhMj3XZlffQI",
      "include_colab_link": true
    },
    "kernelspec": {
      "name": "python3",
      "display_name": "Python 3"
    },
    "language_info": {
      "name": "python"
    }
  },
  "cells": [
    {
      "cell_type": "markdown",
      "metadata": {
        "id": "view-in-github",
        "colab_type": "text"
      },
      "source": [
        "<a href=\"https://colab.research.google.com/github/ethandsz/MLProject/blob/main/MLProject.ipynb\" target=\"_parent\"><img src=\"https://colab.research.google.com/assets/colab-badge.svg\" alt=\"Open In Colab\"/></a>"
      ]
    },
    {
      "cell_type": "markdown",
      "source": [
        "# **![EthanDSZ linkedin banner-01.png](data:image/png;base64,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)News Headline Category Prediction**\n"
      ],
      "metadata": {
        "id": "Fz9uXwEZDG-6"
      }
    },
    {
      "cell_type": "code",
      "execution_count": null,
      "metadata": {
        "id": "uewNILOrwLBO"
      },
      "outputs": [],
      "source": [
        "import pandas as pd\n",
        "import numpy as np\n",
        "from sklearn.model_selection import train_test_split\n",
        "import seaborn as sns\n",
        "import matplotlib.pyplot as plt\n",
        "import os\n",
        "import plotly.express as px\n",
        "import plotly.graph_objects as go\n",
        "%matplotlib inline"
      ]
    },
    {
      "cell_type": "markdown",
      "source": [
        "# Importing data, exploratory analysis, and setting target column(s) for training"
      ],
      "metadata": {
        "id": "uXNcuQCF5OlJ"
      }
    },
    {
      "cell_type": "code",
      "source": [
        "#raw = pd.read_excel('drive/MyDrive/Headline/Headlines.xlsx') \n",
        "raw = pd.read_excel('Downloads/Headlines.xlsx')"
      ],
      "metadata": {
        "id": "LkHFxf60wRlV"
      },
      "execution_count": null,
      "outputs": []
    },
    {
      "cell_type": "code",
      "source": [
        "raw"
      ],
      "metadata": {
        "colab": {
          "base_uri": "https://localhost:8080/",
          "height": 357
        },
        "id": "5aaoCivZwIfH",
        "outputId": "7946bb1c-f926-498a-f3cb-17c1678e43aa"
      },
      "execution_count": null,
      "outputs": [
        {
          "output_type": "execute_result",
          "data": {
            "text/plain": [
              "        Unnamed: 0       category  \\\n",
              "0                0          CRIME   \n",
              "1                1  ENTERTAINMENT   \n",
              "...            ...            ...   \n",
              "200851      200851         SPORTS   \n",
              "200852      200852         SPORTS   \n",
              "\n",
              "                                                                           headline  \\\n",
              "0                  There Were 2 Mass Shootings In Texas Last Week, But Only 1 On TV   \n",
              "1       Will Smith Joins Diplo And Nicky Jam For The 2018 World Cup's Official Song   \n",
              "...                                                                             ...   \n",
              "200851                        Aldon Smith Arrested: 49ers Linebacker Busted For DUI   \n",
              "200852                     Dwight Howard Rips Teammates After Magic Loss To Hornets   \n",
              "\n",
              "                authors  \\\n",
              "0       Melissa Jeltsen   \n",
              "1         Andy McDonald   \n",
              "...                 ...   \n",
              "200851              NaN   \n",
              "200852              NaN   \n",
              "\n",
              "                                                                                                                                              link  \\\n",
              "0                                              https://www.huffingtonpost.com/entry/texas-amanda-painter-mass-shooting_us_5b081ab4e4b0802d69caad89   \n",
              "1       https://www.huffingtonpost.com/entry/will-smith-joins-diplo-and-nicky-jam-for-the-official-2018-world-cup-song_us_5b09726fe4b0fdb2aa541201   \n",
              "...                                                                                                                                            ...   \n",
              "200851                                             https://www.huffingtonpost.com/entry/aldon-smith-arrested-dui-49ers_us_5bb69b25e4b097869fd1b33c   \n",
              "200852                                 https://www.huffingtonpost.com/entry/dwight-howard-rips-teammates-magic-hornets_us_5bb69b24e4b097869fd1b331   \n",
              "\n",
              "                                                                                                                 short_description  \\\n",
              "0                                                     She left her husband. He killed their children. Just another day in America.   \n",
              "1                                                                                                         Of course it has a song.   \n",
              "...                                                                                                                            ...   \n",
              "200851    CORRECTION: An earlier version of this story incorrectly stated the location of KTVU and the 2011 league leader in sacks   \n",
              "200852  The five-time all-star center tore into his teammates Friday night after Orlando committed 23 turnovers en route to losing   \n",
              "\n",
              "             date  \n",
              "0      2018-05-26  \n",
              "1      2018-05-26  \n",
              "...           ...  \n",
              "200851 2012-01-28  \n",
              "200852 2012-01-28  \n",
              "\n",
              "[200853 rows x 7 columns]"
            ],
            "text/html": [
              "<div>\n",
              "<style scoped>\n",
              "    .dataframe tbody tr th:only-of-type {\n",
              "        vertical-align: middle;\n",
              "    }\n",
              "\n",
              "    .dataframe tbody tr th {\n",
              "        vertical-align: top;\n",
              "    }\n",
              "\n",
              "    .dataframe thead th {\n",
              "        text-align: right;\n",
              "    }\n",
              "</style>\n",
              "<table border=\"1\" class=\"dataframe\">\n",
              "  <thead>\n",
              "    <tr style=\"text-align: right;\">\n",
              "      <th></th>\n",
              "      <th>Unnamed: 0</th>\n",
              "      <th>category</th>\n",
              "      <th>headline</th>\n",
              "      <th>authors</th>\n",
              "      <th>link</th>\n",
              "      <th>short_description</th>\n",
              "      <th>date</th>\n",
              "    </tr>\n",
              "  </thead>\n",
              "  <tbody>\n",
              "    <tr>\n",
              "      <th>0</th>\n",
              "      <td>0</td>\n",
              "      <td>CRIME</td>\n",
              "      <td>There Were 2 Mass Shootings In Texas Last Week, But Only 1 On TV</td>\n",
              "      <td>Melissa Jeltsen</td>\n",
              "      <td>https://www.huffingtonpost.com/entry/texas-amanda-painter-mass-shooting_us_5b081ab4e4b0802d69caad89</td>\n",
              "      <td>She left her husband. He killed their children. Just another day in America.</td>\n",
              "      <td>2018-05-26</td>\n",
              "    </tr>\n",
              "    <tr>\n",
              "      <th>1</th>\n",
              "      <td>1</td>\n",
              "      <td>ENTERTAINMENT</td>\n",
              "      <td>Will Smith Joins Diplo And Nicky Jam For The 2018 World Cup's Official Song</td>\n",
              "      <td>Andy McDonald</td>\n",
              "      <td>https://www.huffingtonpost.com/entry/will-smith-joins-diplo-and-nicky-jam-for-the-official-2018-world-cup-song_us_5b09726fe4b0fdb2aa541201</td>\n",
              "      <td>Of course it has a song.</td>\n",
              "      <td>2018-05-26</td>\n",
              "    </tr>\n",
              "    <tr>\n",
              "      <th>...</th>\n",
              "      <td>...</td>\n",
              "      <td>...</td>\n",
              "      <td>...</td>\n",
              "      <td>...</td>\n",
              "      <td>...</td>\n",
              "      <td>...</td>\n",
              "      <td>...</td>\n",
              "    </tr>\n",
              "    <tr>\n",
              "      <th>200851</th>\n",
              "      <td>200851</td>\n",
              "      <td>SPORTS</td>\n",
              "      <td>Aldon Smith Arrested: 49ers Linebacker Busted For DUI</td>\n",
              "      <td>NaN</td>\n",
              "      <td>https://www.huffingtonpost.com/entry/aldon-smith-arrested-dui-49ers_us_5bb69b25e4b097869fd1b33c</td>\n",
              "      <td>CORRECTION: An earlier version of this story incorrectly stated the location of KTVU and the 2011 league leader in sacks</td>\n",
              "      <td>2012-01-28</td>\n",
              "    </tr>\n",
              "    <tr>\n",
              "      <th>200852</th>\n",
              "      <td>200852</td>\n",
              "      <td>SPORTS</td>\n",
              "      <td>Dwight Howard Rips Teammates After Magic Loss To Hornets</td>\n",
              "      <td>NaN</td>\n",
              "      <td>https://www.huffingtonpost.com/entry/dwight-howard-rips-teammates-magic-hornets_us_5bb69b24e4b097869fd1b331</td>\n",
              "      <td>The five-time all-star center tore into his teammates Friday night after Orlando committed 23 turnovers en route to losing</td>\n",
              "      <td>2012-01-28</td>\n",
              "    </tr>\n",
              "  </tbody>\n",
              "</table>\n",
              "<p>200853 rows × 7 columns</p>\n",
              "</div>"
            ]
          },
          "metadata": {},
          "execution_count": 480
        }
      ]
    },
    {
      "cell_type": "markdown",
      "source": [
        "Dropping \"Unnamed: 0\" as it has no useful data"
      ],
      "metadata": {
        "id": "gyc4M1yD7mq6"
      }
    },
    {
      "cell_type": "code",
      "source": [
        "raw.drop(columns=\"Unnamed: 0\", inplace= True) "
      ],
      "metadata": {
        "id": "X5EMSxxZ2PGC"
      },
      "execution_count": null,
      "outputs": []
    },
    {
      "cell_type": "markdown",
      "source": [
        "Checking the number of categories and their names"
      ],
      "metadata": {
        "id": "MI_CjFnZ7vnY"
      }
    },
    {
      "cell_type": "code",
      "source": [
        "len(list(raw.category.unique()))"
      ],
      "metadata": {
        "id": "G_kc_rxhyQbM",
        "colab": {
          "base_uri": "https://localhost:8080/"
        },
        "outputId": "e9816b10-3504-4f9b-a573-d8ebf2b39036"
      },
      "execution_count": null,
      "outputs": [
        {
          "output_type": "execute_result",
          "data": {
            "text/plain": [
              "41"
            ]
          },
          "metadata": {},
          "execution_count": 482
        }
      ]
    },
    {
      "cell_type": "code",
      "source": [
        "raw.category.unique()"
      ],
      "metadata": {
        "colab": {
          "base_uri": "https://localhost:8080/"
        },
        "id": "jnRystIMrFgK",
        "outputId": "b9a183c4-146e-4f6b-93d6-6946999d1039"
      },
      "execution_count": null,
      "outputs": [
        {
          "output_type": "execute_result",
          "data": {
            "text/plain": [
              "array(['CRIME', 'ENTERTAINMENT', 'WORLD NEWS', 'IMPACT', 'POLITICS',\n",
              "       'WEIRD NEWS', 'BLACK VOICES', 'WOMEN', 'COMEDY', 'QUEER VOICES',\n",
              "       'SPORTS', 'BUSINESS', 'TRAVEL', 'MEDIA', 'TECH', 'RELIGION',\n",
              "       'SCIENCE', 'LATINO VOICES', 'EDUCATION', 'COLLEGE', 'PARENTS',\n",
              "       'ARTS & CULTURE', 'STYLE', 'GREEN', 'TASTE', 'HEALTHY LIVING',\n",
              "       'THE WORLDPOST', 'GOOD NEWS', 'WORLDPOST', 'FIFTY', 'ARTS',\n",
              "       'WELLNESS', 'PARENTING', 'HOME & LIVING', 'STYLE & BEAUTY',\n",
              "       'DIVORCE', 'WEDDINGS', 'FOOD & DRINK', 'MONEY', 'ENVIRONMENT',\n",
              "       'CULTURE & ARTS'], dtype=object)"
            ]
          },
          "metadata": {},
          "execution_count": 483
        }
      ]
    },
    {
      "cell_type": "code",
      "source": [
        "raw.describe()"
      ],
      "metadata": {
        "colab": {
          "base_uri": "https://localhost:8080/",
          "height": 328
        },
        "id": "_jQMYp7UdVPh",
        "outputId": "700b01a1-188c-4129-b4dd-56f219847eb0"
      },
      "execution_count": null,
      "outputs": [
        {
          "output_type": "stream",
          "name": "stderr",
          "text": [
            "C:\\Users\\Ethan\\AppData\\Local\\Temp\\ipykernel_18604\\79165625.py:1: FutureWarning:\n",
            "\n",
            "Treating datetime data as categorical rather than numeric in `.describe` is deprecated and will be removed in a future version of pandas. Specify `datetime_is_numeric=True` to silence this warning and adopt the future behavior now.\n",
            "\n"
          ]
        },
        {
          "output_type": "execute_result",
          "data": {
            "text/plain": [
              "       category headline authors    link short_description  \\\n",
              "count    200853   200847  164233  200853            181121   \n",
              "unique       41   199343   27992  200812            178332   \n",
              "...         ...      ...     ...     ...               ...   \n",
              "first       NaN      NaN     NaN     NaN               NaN   \n",
              "last        NaN      NaN     NaN     NaN               NaN   \n",
              "\n",
              "                       date  \n",
              "count                200853  \n",
              "unique                 2309  \n",
              "...                     ...  \n",
              "first   2012-01-28 00:00:00  \n",
              "last    2018-05-26 00:00:00  \n",
              "\n",
              "[6 rows x 6 columns]"
            ],
            "text/html": [
              "<div>\n",
              "<style scoped>\n",
              "    .dataframe tbody tr th:only-of-type {\n",
              "        vertical-align: middle;\n",
              "    }\n",
              "\n",
              "    .dataframe tbody tr th {\n",
              "        vertical-align: top;\n",
              "    }\n",
              "\n",
              "    .dataframe thead th {\n",
              "        text-align: right;\n",
              "    }\n",
              "</style>\n",
              "<table border=\"1\" class=\"dataframe\">\n",
              "  <thead>\n",
              "    <tr style=\"text-align: right;\">\n",
              "      <th></th>\n",
              "      <th>category</th>\n",
              "      <th>headline</th>\n",
              "      <th>authors</th>\n",
              "      <th>link</th>\n",
              "      <th>short_description</th>\n",
              "      <th>date</th>\n",
              "    </tr>\n",
              "  </thead>\n",
              "  <tbody>\n",
              "    <tr>\n",
              "      <th>count</th>\n",
              "      <td>200853</td>\n",
              "      <td>200847</td>\n",
              "      <td>164233</td>\n",
              "      <td>200853</td>\n",
              "      <td>181121</td>\n",
              "      <td>200853</td>\n",
              "    </tr>\n",
              "    <tr>\n",
              "      <th>unique</th>\n",
              "      <td>41</td>\n",
              "      <td>199343</td>\n",
              "      <td>27992</td>\n",
              "      <td>200812</td>\n",
              "      <td>178332</td>\n",
              "      <td>2309</td>\n",
              "    </tr>\n",
              "    <tr>\n",
              "      <th>...</th>\n",
              "      <td>...</td>\n",
              "      <td>...</td>\n",
              "      <td>...</td>\n",
              "      <td>...</td>\n",
              "      <td>...</td>\n",
              "      <td>...</td>\n",
              "    </tr>\n",
              "    <tr>\n",
              "      <th>first</th>\n",
              "      <td>NaN</td>\n",
              "      <td>NaN</td>\n",
              "      <td>NaN</td>\n",
              "      <td>NaN</td>\n",
              "      <td>NaN</td>\n",
              "      <td>2012-01-28 00:00:00</td>\n",
              "    </tr>\n",
              "    <tr>\n",
              "      <th>last</th>\n",
              "      <td>NaN</td>\n",
              "      <td>NaN</td>\n",
              "      <td>NaN</td>\n",
              "      <td>NaN</td>\n",
              "      <td>NaN</td>\n",
              "      <td>2018-05-26 00:00:00</td>\n",
              "    </tr>\n",
              "  </tbody>\n",
              "</table>\n",
              "<p>6 rows × 6 columns</p>\n",
              "</div>"
            ]
          },
          "metadata": {},
          "execution_count": 484
        }
      ]
    },
    {
      "cell_type": "code",
      "source": [
        "raw.authors.unique().size"
      ],
      "metadata": {
        "colab": {
          "base_uri": "https://localhost:8080/"
        },
        "id": "w2tgjWIQ39d0",
        "outputId": "0c1dba14-5536-4626-859d-e19c0d96eb1f"
      },
      "execution_count": null,
      "outputs": [
        {
          "output_type": "execute_result",
          "data": {
            "text/plain": [
              "27993"
            ]
          },
          "metadata": {},
          "execution_count": 485
        }
      ]
    },
    {
      "cell_type": "code",
      "source": [
        "raw.authors.isna().sum()"
      ],
      "metadata": {
        "colab": {
          "base_uri": "https://localhost:8080/"
        },
        "id": "BGc70QTVdsGh",
        "outputId": "17eeaf85-abb7-4014-c846-acef9b4935b4"
      },
      "execution_count": null,
      "outputs": [
        {
          "output_type": "execute_result",
          "data": {
            "text/plain": [
              "36620"
            ]
          },
          "metadata": {},
          "execution_count": 486
        }
      ]
    },
    {
      "cell_type": "markdown",
      "source": [
        "Dropping null/NaN values in the specified columns"
      ],
      "metadata": {
        "id": "vwraOeqR741f"
      }
    },
    {
      "cell_type": "code",
      "source": [
        "raw.dropna(subset = ['short_description', 'headline'], inplace = True) #Dropping all rows which contain Null/NaN values in the specified columns"
      ],
      "metadata": {
        "id": "dzhdqVmDirVm"
      },
      "execution_count": null,
      "outputs": []
    },
    {
      "cell_type": "markdown",
      "source": [
        "Plot of the top 25 reported categories"
      ],
      "metadata": {
        "id": "DIWUH_oM7_AX"
      }
    },
    {
      "cell_type": "code",
      "source": [
        "plt.figure(figsize=(60,24));\n",
        "\n",
        "fig = px.bar(x = raw.category.value_counts().index[:25], y = raw.category.value_counts()[:25], labels = {\n",
        "    \"x\": \"Categories\", #Setting x label to categories\n",
        "    \"y\": \"Count\"}, #Setting y label to count\n",
        "    title = \"Top 25 categories\"); #Setting the title\n",
        "fig.show(renderer=\"colab\");"
      ],
      "metadata": {
        "colab": {
          "base_uri": "https://localhost:8080/",
          "height": 560
        },
        "id": "69aVtfJVtAdd",
        "outputId": "5d53cc7e-accb-4a3a-b04d-35b6f3209120"
      },
      "execution_count": null,
      "outputs": [
        {
          "output_type": "display_data",
          "data": {
            "text/html": [
              "<html>\n",
              "<head><meta charset=\"utf-8\" /></head>\n",
              "<body>\n",
              "    <div>            <script src=\"https://cdnjs.cloudflare.com/ajax/libs/mathjax/2.7.5/MathJax.js?config=TeX-AMS-MML_SVG\"></script><script type=\"text/javascript\">if (window.MathJax) {MathJax.Hub.Config({SVG: {font: \"STIX-Web\"}});}</script>                <script type=\"text/javascript\">window.PlotlyConfig = {MathJaxConfig: 'local'};</script>\n",
              "        <script src=\"https://cdn.plot.ly/plotly-2.9.0.min.js\"></script>                <div id=\"e4f8e73b-ff45-4227-b45d-66a209fbcc2c\" class=\"plotly-graph-div\" style=\"height:525px; width:100%;\"></div>            <script type=\"text/javascript\">                                    window.PLOTLYENV=window.PLOTLYENV || {};                                    if (document.getElementById(\"e4f8e73b-ff45-4227-b45d-66a209fbcc2c\")) {                    Plotly.newPlot(                        \"e4f8e73b-ff45-4227-b45d-66a209fbcc2c\",                        [{\"alignmentgroup\":\"True\",\"hovertemplate\":\"Categories=%{x}<br>Count=%{y}<extra></extra>\",\"legendgroup\":\"\",\"marker\":{\"color\":\"#636efa\",\"pattern\":{\"shape\":\"\"}},\"name\":\"\",\"offsetgroup\":\"\",\"orientation\":\"v\",\"showlegend\":false,\"textposition\":\"auto\",\"x\":[\"POLITICS\",\"WELLNESS\",\"ENTERTAINMENT\",\"STYLE & BEAUTY\",\"TRAVEL\",\"PARENTING\",\"FOOD & DRINK\",\"QUEER VOICES\",\"HEALTHY LIVING\",\"BUSINESS\",\"COMEDY\",\"SPORTS\",\"HOME & LIVING\",\"BLACK VOICES\",\"THE WORLDPOST\",\"WEDDINGS\",\"PARENTS\",\"DIVORCE\",\"WOMEN\",\"IMPACT\",\"CRIME\",\"MEDIA\",\"WEIRD NEWS\",\"WORLD NEWS\",\"TECH\"],\"xaxis\":\"x\",\"y\":[29578,17820,13470,9636,9402,8675,6217,5570,5265,5077,4417,4221,4190,4121,3664,3650,3556,3424,3102,3061,2675,2275,2209,2175,2080],\"yaxis\":\"y\",\"type\":\"bar\"}],                        {\"template\":{\"data\":{\"bar\":[{\"error_x\":{\"color\":\"#2a3f5f\"},\"error_y\":{\"color\":\"#2a3f5f\"},\"marker\":{\"line\":{\"color\":\"#E5ECF6\",\"width\":0.5},\"pattern\":{\"fillmode\":\"overlay\",\"size\":10,\"solidity\":0.2}},\"type\":\"bar\"}],\"barpolar\":[{\"marker\":{\"line\":{\"color\":\"#E5ECF6\",\"width\":0.5},\"pattern\":{\"fillmode\":\"overlay\",\"size\":10,\"solidity\":0.2}},\"type\":\"barpolar\"}],\"carpet\":[{\"aaxis\":{\"endlinecolor\":\"#2a3f5f\",\"gridcolor\":\"white\",\"linecolor\":\"white\",\"minorgridcolor\":\"white\",\"startlinecolor\":\"#2a3f5f\"},\"baxis\":{\"endlinecolor\":\"#2a3f5f\",\"gridcolor\":\"white\",\"linecolor\":\"white\",\"minorgridcolor\":\"white\",\"startlinecolor\":\"#2a3f5f\"},\"type\":\"carpet\"}],\"choropleth\":[{\"colorbar\":{\"outlinewidth\":0,\"ticks\":\"\"},\"type\":\"choropleth\"}],\"contour\":[{\"colorbar\":{\"outlinewidth\":0,\"ticks\":\"\"},\"colorscale\":[[0.0,\"#0d0887\"],[0.1111111111111111,\"#46039f\"],[0.2222222222222222,\"#7201a8\"],[0.3333333333333333,\"#9c179e\"],[0.4444444444444444,\"#bd3786\"],[0.5555555555555556,\"#d8576b\"],[0.6666666666666666,\"#ed7953\"],[0.7777777777777778,\"#fb9f3a\"],[0.8888888888888888,\"#fdca26\"],[1.0,\"#f0f921\"]],\"type\":\"contour\"}],\"contourcarpet\":[{\"colorbar\":{\"outlinewidth\":0,\"ticks\":\"\"},\"type\":\"contourcarpet\"}],\"heatmap\":[{\"colorbar\":{\"outlinewidth\":0,\"ticks\":\"\"},\"colorscale\":[[0.0,\"#0d0887\"],[0.1111111111111111,\"#46039f\"],[0.2222222222222222,\"#7201a8\"],[0.3333333333333333,\"#9c179e\"],[0.4444444444444444,\"#bd3786\"],[0.5555555555555556,\"#d8576b\"],[0.6666666666666666,\"#ed7953\"],[0.7777777777777778,\"#fb9f3a\"],[0.8888888888888888,\"#fdca26\"],[1.0,\"#f0f921\"]],\"type\":\"heatmap\"}],\"heatmapgl\":[{\"colorbar\":{\"outlinewidth\":0,\"ticks\":\"\"},\"colorscale\":[[0.0,\"#0d0887\"],[0.1111111111111111,\"#46039f\"],[0.2222222222222222,\"#7201a8\"],[0.3333333333333333,\"#9c179e\"],[0.4444444444444444,\"#bd3786\"],[0.5555555555555556,\"#d8576b\"],[0.6666666666666666,\"#ed7953\"],[0.7777777777777778,\"#fb9f3a\"],[0.8888888888888888,\"#fdca26\"],[1.0,\"#f0f921\"]],\"type\":\"heatmapgl\"}],\"histogram\":[{\"marker\":{\"pattern\":{\"fillmode\":\"overlay\",\"size\":10,\"solidity\":0.2}},\"type\":\"histogram\"}],\"histogram2d\":[{\"colorbar\":{\"outlinewidth\":0,\"ticks\":\"\"},\"colorscale\":[[0.0,\"#0d0887\"],[0.1111111111111111,\"#46039f\"],[0.2222222222222222,\"#7201a8\"],[0.3333333333333333,\"#9c179e\"],[0.4444444444444444,\"#bd3786\"],[0.5555555555555556,\"#d8576b\"],[0.6666666666666666,\"#ed7953\"],[0.7777777777777778,\"#fb9f3a\"],[0.8888888888888888,\"#fdca26\"],[1.0,\"#f0f921\"]],\"type\":\"histogram2d\"}],\"histogram2dcontour\":[{\"colorbar\":{\"outlinewidth\":0,\"ticks\":\"\"},\"colorscale\":[[0.0,\"#0d0887\"],[0.1111111111111111,\"#46039f\"],[0.2222222222222222,\"#7201a8\"],[0.3333333333333333,\"#9c179e\"],[0.4444444444444444,\"#bd3786\"],[0.5555555555555556,\"#d8576b\"],[0.6666666666666666,\"#ed7953\"],[0.7777777777777778,\"#fb9f3a\"],[0.8888888888888888,\"#fdca26\"],[1.0,\"#f0f921\"]],\"type\":\"histogram2dcontour\"}],\"mesh3d\":[{\"colorbar\":{\"outlinewidth\":0,\"ticks\":\"\"},\"type\":\"mesh3d\"}],\"parcoords\":[{\"line\":{\"colorbar\":{\"outlinewidth\":0,\"ticks\":\"\"}},\"type\":\"parcoords\"}],\"pie\":[{\"automargin\":true,\"type\":\"pie\"}],\"scatter\":[{\"marker\":{\"colorbar\":{\"outlinewidth\":0,\"ticks\":\"\"}},\"type\":\"scatter\"}],\"scatter3d\":[{\"line\":{\"colorbar\":{\"outlinewidth\":0,\"ticks\":\"\"}},\"marker\":{\"colorbar\":{\"outlinewidth\":0,\"ticks\":\"\"}},\"type\":\"scatter3d\"}],\"scattercarpet\":[{\"marker\":{\"colorbar\":{\"outlinewidth\":0,\"ticks\":\"\"}},\"type\":\"scattercarpet\"}],\"scattergeo\":[{\"marker\":{\"colorbar\":{\"outlinewidth\":0,\"ticks\":\"\"}},\"type\":\"scattergeo\"}],\"scattergl\":[{\"marker\":{\"colorbar\":{\"outlinewidth\":0,\"ticks\":\"\"}},\"type\":\"scattergl\"}],\"scattermapbox\":[{\"marker\":{\"colorbar\":{\"outlinewidth\":0,\"ticks\":\"\"}},\"type\":\"scattermapbox\"}],\"scatterpolar\":[{\"marker\":{\"colorbar\":{\"outlinewidth\":0,\"ticks\":\"\"}},\"type\":\"scatterpolar\"}],\"scatterpolargl\":[{\"marker\":{\"colorbar\":{\"outlinewidth\":0,\"ticks\":\"\"}},\"type\":\"scatterpolargl\"}],\"scatterternary\":[{\"marker\":{\"colorbar\":{\"outlinewidth\":0,\"ticks\":\"\"}},\"type\":\"scatterternary\"}],\"surface\":[{\"colorbar\":{\"outlinewidth\":0,\"ticks\":\"\"},\"colorscale\":[[0.0,\"#0d0887\"],[0.1111111111111111,\"#46039f\"],[0.2222222222222222,\"#7201a8\"],[0.3333333333333333,\"#9c179e\"],[0.4444444444444444,\"#bd3786\"],[0.5555555555555556,\"#d8576b\"],[0.6666666666666666,\"#ed7953\"],[0.7777777777777778,\"#fb9f3a\"],[0.8888888888888888,\"#fdca26\"],[1.0,\"#f0f921\"]],\"type\":\"surface\"}],\"table\":[{\"cells\":{\"fill\":{\"color\":\"#EBF0F8\"},\"line\":{\"color\":\"white\"}},\"header\":{\"fill\":{\"color\":\"#C8D4E3\"},\"line\":{\"color\":\"white\"}},\"type\":\"table\"}]},\"layout\":{\"annotationdefaults\":{\"arrowcolor\":\"#2a3f5f\",\"arrowhead\":0,\"arrowwidth\":1},\"autotypenumbers\":\"strict\",\"coloraxis\":{\"colorbar\":{\"outlinewidth\":0,\"ticks\":\"\"}},\"colorscale\":{\"diverging\":[[0,\"#8e0152\"],[0.1,\"#c51b7d\"],[0.2,\"#de77ae\"],[0.3,\"#f1b6da\"],[0.4,\"#fde0ef\"],[0.5,\"#f7f7f7\"],[0.6,\"#e6f5d0\"],[0.7,\"#b8e186\"],[0.8,\"#7fbc41\"],[0.9,\"#4d9221\"],[1,\"#276419\"]],\"sequential\":[[0.0,\"#0d0887\"],[0.1111111111111111,\"#46039f\"],[0.2222222222222222,\"#7201a8\"],[0.3333333333333333,\"#9c179e\"],[0.4444444444444444,\"#bd3786\"],[0.5555555555555556,\"#d8576b\"],[0.6666666666666666,\"#ed7953\"],[0.7777777777777778,\"#fb9f3a\"],[0.8888888888888888,\"#fdca26\"],[1.0,\"#f0f921\"]],\"sequentialminus\":[[0.0,\"#0d0887\"],[0.1111111111111111,\"#46039f\"],[0.2222222222222222,\"#7201a8\"],[0.3333333333333333,\"#9c179e\"],[0.4444444444444444,\"#bd3786\"],[0.5555555555555556,\"#d8576b\"],[0.6666666666666666,\"#ed7953\"],[0.7777777777777778,\"#fb9f3a\"],[0.8888888888888888,\"#fdca26\"],[1.0,\"#f0f921\"]]},\"colorway\":[\"#636efa\",\"#EF553B\",\"#00cc96\",\"#ab63fa\",\"#FFA15A\",\"#19d3f3\",\"#FF6692\",\"#B6E880\",\"#FF97FF\",\"#FECB52\"],\"font\":{\"color\":\"#2a3f5f\"},\"geo\":{\"bgcolor\":\"white\",\"lakecolor\":\"white\",\"landcolor\":\"#E5ECF6\",\"showlakes\":true,\"showland\":true,\"subunitcolor\":\"white\"},\"hoverlabel\":{\"align\":\"left\"},\"hovermode\":\"closest\",\"mapbox\":{\"style\":\"light\"},\"paper_bgcolor\":\"white\",\"plot_bgcolor\":\"#E5ECF6\",\"polar\":{\"angularaxis\":{\"gridcolor\":\"white\",\"linecolor\":\"white\",\"ticks\":\"\"},\"bgcolor\":\"#E5ECF6\",\"radialaxis\":{\"gridcolor\":\"white\",\"linecolor\":\"white\",\"ticks\":\"\"}},\"scene\":{\"xaxis\":{\"backgroundcolor\":\"#E5ECF6\",\"gridcolor\":\"white\",\"gridwidth\":2,\"linecolor\":\"white\",\"showbackground\":true,\"ticks\":\"\",\"zerolinecolor\":\"white\"},\"yaxis\":{\"backgroundcolor\":\"#E5ECF6\",\"gridcolor\":\"white\",\"gridwidth\":2,\"linecolor\":\"white\",\"showbackground\":true,\"ticks\":\"\",\"zerolinecolor\":\"white\"},\"zaxis\":{\"backgroundcolor\":\"#E5ECF6\",\"gridcolor\":\"white\",\"gridwidth\":2,\"linecolor\":\"white\",\"showbackground\":true,\"ticks\":\"\",\"zerolinecolor\":\"white\"}},\"shapedefaults\":{\"line\":{\"color\":\"#2a3f5f\"}},\"ternary\":{\"aaxis\":{\"gridcolor\":\"white\",\"linecolor\":\"white\",\"ticks\":\"\"},\"baxis\":{\"gridcolor\":\"white\",\"linecolor\":\"white\",\"ticks\":\"\"},\"bgcolor\":\"#E5ECF6\",\"caxis\":{\"gridcolor\":\"white\",\"linecolor\":\"white\",\"ticks\":\"\"}},\"title\":{\"x\":0.05},\"xaxis\":{\"automargin\":true,\"gridcolor\":\"white\",\"linecolor\":\"white\",\"ticks\":\"\",\"title\":{\"standoff\":15},\"zerolinecolor\":\"white\",\"zerolinewidth\":2},\"yaxis\":{\"automargin\":true,\"gridcolor\":\"white\",\"linecolor\":\"white\",\"ticks\":\"\",\"title\":{\"standoff\":15},\"zerolinecolor\":\"white\",\"zerolinewidth\":2}}},\"xaxis\":{\"anchor\":\"y\",\"domain\":[0.0,1.0],\"title\":{\"text\":\"Categories\"}},\"yaxis\":{\"anchor\":\"x\",\"domain\":[0.0,1.0],\"title\":{\"text\":\"Count\"}},\"legend\":{\"tracegroupgap\":0},\"title\":{\"text\":\"Top 25 categories\"},\"barmode\":\"relative\"},                        {\"responsive\": true}                    ).then(function(){\n",
              "                            \n",
              "var gd = document.getElementById('e4f8e73b-ff45-4227-b45d-66a209fbcc2c');\n",
              "var x = new MutationObserver(function (mutations, observer) {{\n",
              "        var display = window.getComputedStyle(gd).display;\n",
              "        if (!display || display === 'none') {{\n",
              "            console.log([gd, 'removed!']);\n",
              "            Plotly.purge(gd);\n",
              "            observer.disconnect();\n",
              "        }}\n",
              "}});\n",
              "\n",
              "// Listen for the removal of the full notebook cells\n",
              "var notebookContainer = gd.closest('#notebook-container');\n",
              "if (notebookContainer) {{\n",
              "    x.observe(notebookContainer, {childList: true});\n",
              "}}\n",
              "\n",
              "// Listen for the clearing of the current output cell\n",
              "var outputEl = gd.closest('.output');\n",
              "if (outputEl) {{\n",
              "    x.observe(outputEl, {childList: true});\n",
              "}}\n",
              "\n",
              "                        })                };                            </script>        </div>\n",
              "</body>\n",
              "</html>"
            ]
          },
          "metadata": {}
        },
        {
          "output_type": "display_data",
          "data": {
            "text/plain": [
              "<Figure size 4320x1728 with 0 Axes>"
            ]
          },
          "metadata": {}
        }
      ]
    },
    {
      "cell_type": "code",
      "source": [
        "raw['date'] = pd.to_datetime(raw['date'])"
      ],
      "metadata": {
        "id": "we7ygk0ffG_c"
      },
      "execution_count": null,
      "outputs": []
    },
    {
      "cell_type": "code",
      "source": [
        "raw['year'] = raw['date'].dt.year"
      ],
      "metadata": {
        "id": "UIMLq2ocyfkc"
      },
      "execution_count": null,
      "outputs": []
    },
    {
      "cell_type": "code",
      "source": [
        "plt.figure(figsize=(32,24));\n",
        "\n",
        "fig = px.bar(x = raw.year.value_counts().index, y = raw.year.value_counts(), labels = {\n",
        "    \"x\": \"Year\", #Setting x label to categories\n",
        "    \"y\": \"Count\"}, #Setting y label to count\n",
        "    title = \"*Year of publication*\"); #Setting the title\n",
        "fig.show(renderer=\"colab\");"
      ],
      "metadata": {
        "colab": {
          "base_uri": "https://localhost:8080/",
          "height": 560
        },
        "id": "eUGdMI9IzFqY",
        "outputId": "7924d858-a230-4acd-e3ea-f07629aa8f05"
      },
      "execution_count": null,
      "outputs": [
        {
          "output_type": "display_data",
          "data": {
            "text/html": [
              "<html>\n",
              "<head><meta charset=\"utf-8\" /></head>\n",
              "<body>\n",
              "    <div>            <script src=\"https://cdnjs.cloudflare.com/ajax/libs/mathjax/2.7.5/MathJax.js?config=TeX-AMS-MML_SVG\"></script><script type=\"text/javascript\">if (window.MathJax) {MathJax.Hub.Config({SVG: {font: \"STIX-Web\"}});}</script>                <script type=\"text/javascript\">window.PlotlyConfig = {MathJaxConfig: 'local'};</script>\n",
              "        <script src=\"https://cdn.plot.ly/plotly-2.9.0.min.js\"></script>                <div id=\"2ab5c61e-baf5-4ba4-8e80-29cc1b0ba8eb\" class=\"plotly-graph-div\" style=\"height:525px; width:100%;\"></div>            <script type=\"text/javascript\">                                    window.PLOTLYENV=window.PLOTLYENV || {};                                    if (document.getElementById(\"2ab5c61e-baf5-4ba4-8e80-29cc1b0ba8eb\")) {                    Plotly.newPlot(                        \"2ab5c61e-baf5-4ba4-8e80-29cc1b0ba8eb\",                        [{\"alignmentgroup\":\"True\",\"hovertemplate\":\"Year=%{x}<br>Count=%{y}<extra></extra>\",\"legendgroup\":\"\",\"marker\":{\"color\":\"#636efa\",\"pattern\":{\"shape\":\"\"}},\"name\":\"\",\"offsetgroup\":\"\",\"orientation\":\"v\",\"showlegend\":false,\"textposition\":\"auto\",\"x\":[2013,2012,2016,2017,2015,2014,2018],\"xaxis\":\"x\",\"y\":[34536,31277,31200,29753,24799,20972,8583],\"yaxis\":\"y\",\"type\":\"bar\"}],                        {\"template\":{\"data\":{\"bar\":[{\"error_x\":{\"color\":\"#2a3f5f\"},\"error_y\":{\"color\":\"#2a3f5f\"},\"marker\":{\"line\":{\"color\":\"#E5ECF6\",\"width\":0.5},\"pattern\":{\"fillmode\":\"overlay\",\"size\":10,\"solidity\":0.2}},\"type\":\"bar\"}],\"barpolar\":[{\"marker\":{\"line\":{\"color\":\"#E5ECF6\",\"width\":0.5},\"pattern\":{\"fillmode\":\"overlay\",\"size\":10,\"solidity\":0.2}},\"type\":\"barpolar\"}],\"carpet\":[{\"aaxis\":{\"endlinecolor\":\"#2a3f5f\",\"gridcolor\":\"white\",\"linecolor\":\"white\",\"minorgridcolor\":\"white\",\"startlinecolor\":\"#2a3f5f\"},\"baxis\":{\"endlinecolor\":\"#2a3f5f\",\"gridcolor\":\"white\",\"linecolor\":\"white\",\"minorgridcolor\":\"white\",\"startlinecolor\":\"#2a3f5f\"},\"type\":\"carpet\"}],\"choropleth\":[{\"colorbar\":{\"outlinewidth\":0,\"ticks\":\"\"},\"type\":\"choropleth\"}],\"contour\":[{\"colorbar\":{\"outlinewidth\":0,\"ticks\":\"\"},\"colorscale\":[[0.0,\"#0d0887\"],[0.1111111111111111,\"#46039f\"],[0.2222222222222222,\"#7201a8\"],[0.3333333333333333,\"#9c179e\"],[0.4444444444444444,\"#bd3786\"],[0.5555555555555556,\"#d8576b\"],[0.6666666666666666,\"#ed7953\"],[0.7777777777777778,\"#fb9f3a\"],[0.8888888888888888,\"#fdca26\"],[1.0,\"#f0f921\"]],\"type\":\"contour\"}],\"contourcarpet\":[{\"colorbar\":{\"outlinewidth\":0,\"ticks\":\"\"},\"type\":\"contourcarpet\"}],\"heatmap\":[{\"colorbar\":{\"outlinewidth\":0,\"ticks\":\"\"},\"colorscale\":[[0.0,\"#0d0887\"],[0.1111111111111111,\"#46039f\"],[0.2222222222222222,\"#7201a8\"],[0.3333333333333333,\"#9c179e\"],[0.4444444444444444,\"#bd3786\"],[0.5555555555555556,\"#d8576b\"],[0.6666666666666666,\"#ed7953\"],[0.7777777777777778,\"#fb9f3a\"],[0.8888888888888888,\"#fdca26\"],[1.0,\"#f0f921\"]],\"type\":\"heatmap\"}],\"heatmapgl\":[{\"colorbar\":{\"outlinewidth\":0,\"ticks\":\"\"},\"colorscale\":[[0.0,\"#0d0887\"],[0.1111111111111111,\"#46039f\"],[0.2222222222222222,\"#7201a8\"],[0.3333333333333333,\"#9c179e\"],[0.4444444444444444,\"#bd3786\"],[0.5555555555555556,\"#d8576b\"],[0.6666666666666666,\"#ed7953\"],[0.7777777777777778,\"#fb9f3a\"],[0.8888888888888888,\"#fdca26\"],[1.0,\"#f0f921\"]],\"type\":\"heatmapgl\"}],\"histogram\":[{\"marker\":{\"pattern\":{\"fillmode\":\"overlay\",\"size\":10,\"solidity\":0.2}},\"type\":\"histogram\"}],\"histogram2d\":[{\"colorbar\":{\"outlinewidth\":0,\"ticks\":\"\"},\"colorscale\":[[0.0,\"#0d0887\"],[0.1111111111111111,\"#46039f\"],[0.2222222222222222,\"#7201a8\"],[0.3333333333333333,\"#9c179e\"],[0.4444444444444444,\"#bd3786\"],[0.5555555555555556,\"#d8576b\"],[0.6666666666666666,\"#ed7953\"],[0.7777777777777778,\"#fb9f3a\"],[0.8888888888888888,\"#fdca26\"],[1.0,\"#f0f921\"]],\"type\":\"histogram2d\"}],\"histogram2dcontour\":[{\"colorbar\":{\"outlinewidth\":0,\"ticks\":\"\"},\"colorscale\":[[0.0,\"#0d0887\"],[0.1111111111111111,\"#46039f\"],[0.2222222222222222,\"#7201a8\"],[0.3333333333333333,\"#9c179e\"],[0.4444444444444444,\"#bd3786\"],[0.5555555555555556,\"#d8576b\"],[0.6666666666666666,\"#ed7953\"],[0.7777777777777778,\"#fb9f3a\"],[0.8888888888888888,\"#fdca26\"],[1.0,\"#f0f921\"]],\"type\":\"histogram2dcontour\"}],\"mesh3d\":[{\"colorbar\":{\"outlinewidth\":0,\"ticks\":\"\"},\"type\":\"mesh3d\"}],\"parcoords\":[{\"line\":{\"colorbar\":{\"outlinewidth\":0,\"ticks\":\"\"}},\"type\":\"parcoords\"}],\"pie\":[{\"automargin\":true,\"type\":\"pie\"}],\"scatter\":[{\"marker\":{\"colorbar\":{\"outlinewidth\":0,\"ticks\":\"\"}},\"type\":\"scatter\"}],\"scatter3d\":[{\"line\":{\"colorbar\":{\"outlinewidth\":0,\"ticks\":\"\"}},\"marker\":{\"colorbar\":{\"outlinewidth\":0,\"ticks\":\"\"}},\"type\":\"scatter3d\"}],\"scattercarpet\":[{\"marker\":{\"colorbar\":{\"outlinewidth\":0,\"ticks\":\"\"}},\"type\":\"scattercarpet\"}],\"scattergeo\":[{\"marker\":{\"colorbar\":{\"outlinewidth\":0,\"ticks\":\"\"}},\"type\":\"scattergeo\"}],\"scattergl\":[{\"marker\":{\"colorbar\":{\"outlinewidth\":0,\"ticks\":\"\"}},\"type\":\"scattergl\"}],\"scattermapbox\":[{\"marker\":{\"colorbar\":{\"outlinewidth\":0,\"ticks\":\"\"}},\"type\":\"scattermapbox\"}],\"scatterpolar\":[{\"marker\":{\"colorbar\":{\"outlinewidth\":0,\"ticks\":\"\"}},\"type\":\"scatterpolar\"}],\"scatterpolargl\":[{\"marker\":{\"colorbar\":{\"outlinewidth\":0,\"ticks\":\"\"}},\"type\":\"scatterpolargl\"}],\"scatterternary\":[{\"marker\":{\"colorbar\":{\"outlinewidth\":0,\"ticks\":\"\"}},\"type\":\"scatterternary\"}],\"surface\":[{\"colorbar\":{\"outlinewidth\":0,\"ticks\":\"\"},\"colorscale\":[[0.0,\"#0d0887\"],[0.1111111111111111,\"#46039f\"],[0.2222222222222222,\"#7201a8\"],[0.3333333333333333,\"#9c179e\"],[0.4444444444444444,\"#bd3786\"],[0.5555555555555556,\"#d8576b\"],[0.6666666666666666,\"#ed7953\"],[0.7777777777777778,\"#fb9f3a\"],[0.8888888888888888,\"#fdca26\"],[1.0,\"#f0f921\"]],\"type\":\"surface\"}],\"table\":[{\"cells\":{\"fill\":{\"color\":\"#EBF0F8\"},\"line\":{\"color\":\"white\"}},\"header\":{\"fill\":{\"color\":\"#C8D4E3\"},\"line\":{\"color\":\"white\"}},\"type\":\"table\"}]},\"layout\":{\"annotationdefaults\":{\"arrowcolor\":\"#2a3f5f\",\"arrowhead\":0,\"arrowwidth\":1},\"autotypenumbers\":\"strict\",\"coloraxis\":{\"colorbar\":{\"outlinewidth\":0,\"ticks\":\"\"}},\"colorscale\":{\"diverging\":[[0,\"#8e0152\"],[0.1,\"#c51b7d\"],[0.2,\"#de77ae\"],[0.3,\"#f1b6da\"],[0.4,\"#fde0ef\"],[0.5,\"#f7f7f7\"],[0.6,\"#e6f5d0\"],[0.7,\"#b8e186\"],[0.8,\"#7fbc41\"],[0.9,\"#4d9221\"],[1,\"#276419\"]],\"sequential\":[[0.0,\"#0d0887\"],[0.1111111111111111,\"#46039f\"],[0.2222222222222222,\"#7201a8\"],[0.3333333333333333,\"#9c179e\"],[0.4444444444444444,\"#bd3786\"],[0.5555555555555556,\"#d8576b\"],[0.6666666666666666,\"#ed7953\"],[0.7777777777777778,\"#fb9f3a\"],[0.8888888888888888,\"#fdca26\"],[1.0,\"#f0f921\"]],\"sequentialminus\":[[0.0,\"#0d0887\"],[0.1111111111111111,\"#46039f\"],[0.2222222222222222,\"#7201a8\"],[0.3333333333333333,\"#9c179e\"],[0.4444444444444444,\"#bd3786\"],[0.5555555555555556,\"#d8576b\"],[0.6666666666666666,\"#ed7953\"],[0.7777777777777778,\"#fb9f3a\"],[0.8888888888888888,\"#fdca26\"],[1.0,\"#f0f921\"]]},\"colorway\":[\"#636efa\",\"#EF553B\",\"#00cc96\",\"#ab63fa\",\"#FFA15A\",\"#19d3f3\",\"#FF6692\",\"#B6E880\",\"#FF97FF\",\"#FECB52\"],\"font\":{\"color\":\"#2a3f5f\"},\"geo\":{\"bgcolor\":\"white\",\"lakecolor\":\"white\",\"landcolor\":\"#E5ECF6\",\"showlakes\":true,\"showland\":true,\"subunitcolor\":\"white\"},\"hoverlabel\":{\"align\":\"left\"},\"hovermode\":\"closest\",\"mapbox\":{\"style\":\"light\"},\"paper_bgcolor\":\"white\",\"plot_bgcolor\":\"#E5ECF6\",\"polar\":{\"angularaxis\":{\"gridcolor\":\"white\",\"linecolor\":\"white\",\"ticks\":\"\"},\"bgcolor\":\"#E5ECF6\",\"radialaxis\":{\"gridcolor\":\"white\",\"linecolor\":\"white\",\"ticks\":\"\"}},\"scene\":{\"xaxis\":{\"backgroundcolor\":\"#E5ECF6\",\"gridcolor\":\"white\",\"gridwidth\":2,\"linecolor\":\"white\",\"showbackground\":true,\"ticks\":\"\",\"zerolinecolor\":\"white\"},\"yaxis\":{\"backgroundcolor\":\"#E5ECF6\",\"gridcolor\":\"white\",\"gridwidth\":2,\"linecolor\":\"white\",\"showbackground\":true,\"ticks\":\"\",\"zerolinecolor\":\"white\"},\"zaxis\":{\"backgroundcolor\":\"#E5ECF6\",\"gridcolor\":\"white\",\"gridwidth\":2,\"linecolor\":\"white\",\"showbackground\":true,\"ticks\":\"\",\"zerolinecolor\":\"white\"}},\"shapedefaults\":{\"line\":{\"color\":\"#2a3f5f\"}},\"ternary\":{\"aaxis\":{\"gridcolor\":\"white\",\"linecolor\":\"white\",\"ticks\":\"\"},\"baxis\":{\"gridcolor\":\"white\",\"linecolor\":\"white\",\"ticks\":\"\"},\"bgcolor\":\"#E5ECF6\",\"caxis\":{\"gridcolor\":\"white\",\"linecolor\":\"white\",\"ticks\":\"\"}},\"title\":{\"x\":0.05},\"xaxis\":{\"automargin\":true,\"gridcolor\":\"white\",\"linecolor\":\"white\",\"ticks\":\"\",\"title\":{\"standoff\":15},\"zerolinecolor\":\"white\",\"zerolinewidth\":2},\"yaxis\":{\"automargin\":true,\"gridcolor\":\"white\",\"linecolor\":\"white\",\"ticks\":\"\",\"title\":{\"standoff\":15},\"zerolinecolor\":\"white\",\"zerolinewidth\":2}}},\"xaxis\":{\"anchor\":\"y\",\"domain\":[0.0,1.0],\"title\":{\"text\":\"Year\"}},\"yaxis\":{\"anchor\":\"x\",\"domain\":[0.0,1.0],\"title\":{\"text\":\"Count\"}},\"legend\":{\"tracegroupgap\":0},\"title\":{\"text\":\"*Year of publication*\"},\"barmode\":\"relative\"},                        {\"responsive\": true}                    ).then(function(){\n",
              "                            \n",
              "var gd = document.getElementById('2ab5c61e-baf5-4ba4-8e80-29cc1b0ba8eb');\n",
              "var x = new MutationObserver(function (mutations, observer) {{\n",
              "        var display = window.getComputedStyle(gd).display;\n",
              "        if (!display || display === 'none') {{\n",
              "            console.log([gd, 'removed!']);\n",
              "            Plotly.purge(gd);\n",
              "            observer.disconnect();\n",
              "        }}\n",
              "}});\n",
              "\n",
              "// Listen for the removal of the full notebook cells\n",
              "var notebookContainer = gd.closest('#notebook-container');\n",
              "if (notebookContainer) {{\n",
              "    x.observe(notebookContainer, {childList: true});\n",
              "}}\n",
              "\n",
              "// Listen for the clearing of the current output cell\n",
              "var outputEl = gd.closest('.output');\n",
              "if (outputEl) {{\n",
              "    x.observe(outputEl, {childList: true});\n",
              "}}\n",
              "\n",
              "                        })                };                            </script>        </div>\n",
              "</body>\n",
              "</html>"
            ]
          },
          "metadata": {}
        },
        {
          "output_type": "display_data",
          "data": {
            "text/plain": [
              "<Figure size 2304x1728 with 0 Axes>"
            ]
          },
          "metadata": {}
        }
      ]
    },
    {
      "cell_type": "markdown",
      "source": [
        "# Combining Similar Categories"
      ],
      "metadata": {
        "id": "mAKIXnAp1OfN"
      }
    },
    {
      "cell_type": "code",
      "source": [
        "raw.category.unique()"
      ],
      "metadata": {
        "colab": {
          "base_uri": "https://localhost:8080/"
        },
        "id": "y35HVAoG1NSx",
        "outputId": "0ce2cd63-c0f7-402c-9c74-1840452f7143"
      },
      "execution_count": null,
      "outputs": [
        {
          "output_type": "execute_result",
          "data": {
            "text/plain": [
              "array(['CRIME', 'ENTERTAINMENT', 'WORLD NEWS', 'IMPACT', 'POLITICS',\n",
              "       'WEIRD NEWS', 'BLACK VOICES', 'WOMEN', 'COMEDY', 'QUEER VOICES',\n",
              "       'SPORTS', 'BUSINESS', 'TRAVEL', 'MEDIA', 'TECH', 'RELIGION',\n",
              "       'SCIENCE', 'LATINO VOICES', 'EDUCATION', 'COLLEGE', 'PARENTS',\n",
              "       'ARTS & CULTURE', 'STYLE', 'GREEN', 'TASTE', 'HEALTHY LIVING',\n",
              "       'THE WORLDPOST', 'GOOD NEWS', 'WORLDPOST', 'FIFTY', 'ARTS',\n",
              "       'WELLNESS', 'PARENTING', 'HOME & LIVING', 'STYLE & BEAUTY',\n",
              "       'DIVORCE', 'WEDDINGS', 'FOOD & DRINK', 'MONEY', 'ENVIRONMENT',\n",
              "       'CULTURE & ARTS'], dtype=object)"
            ]
          },
          "metadata": {},
          "execution_count": 492
        }
      ]
    },
    {
      "cell_type": "code",
      "source": [
        "pd.set_option('display.max_rows', 5)\n",
        "pd.set_option('display.max_columns', None)\n",
        "pd.set_option('display.width', None)\n",
        "pd.set_option('display.max_colwidth', None)"
      ],
      "metadata": {
        "id": "3yAX4la_27Sq"
      },
      "execution_count": null,
      "outputs": []
    },
    {
      "cell_type": "code",
      "source": [
        "raw.loc[raw['category'] == 'FIFTY'].sample(5)"
      ],
      "metadata": {
        "colab": {
          "base_uri": "https://localhost:8080/",
          "height": 380
        },
        "id": "msj5vczD-Hh3",
        "outputId": "7b994500-b94f-449a-c5c8-9dd64581ba1a"
      },
      "execution_count": null,
      "outputs": [
        {
          "output_type": "execute_result",
          "data": {
            "text/plain": [
              "       category  \\\n",
              "121745    FIFTY   \n",
              "106433    FIFTY   \n",
              "96451     FIFTY   \n",
              "109995    FIFTY   \n",
              "108378    FIFTY   \n",
              "\n",
              "                                                                   headline  \\\n",
              "121745                                                       Living to 100?   \n",
              "106433              How Your Body Image Affects Your Daughter's Self-Esteem   \n",
              "96451                             Who's The Sexiest Man Over 60? You Decide   \n",
              "109995                            What We Can Learn From Taiwan About Aging   \n",
              "108378  Childless by Choice - Gas Station Condoms and Rumors of Infertility   \n",
              "\n",
              "                                                                                              authors  \\\n",
              "121745                                  Jane Giddan and Ellen Cole, ContributorThose 70Candles women!   \n",
              "106433       Dr. Margaret Rutherford, ContributorClinical Psychologist, Mental Health/Midlife Blogger   \n",
              "96451                                  Margaret Manning, ContributorAuthor, Founder of Sixtyandme.com   \n",
              "109995      Robyn Stone, ContributorSenior Vice President of Research at LeadingAge, Former Assist...   \n",
              "108378  Kevin B. Morrow, ContributorRealtor, Blogger, Baby Boomer - Convinced the movie \"Dazed and...   \n",
              "\n",
              "                                                                                 link  \\\n",
              "121745              https://www.huffingtonpost.com/entry/living-to-100_b_5384496.html   \n",
              "106433                 https://www.huffingtonpost.com/entry/body-image_b_6120000.html   \n",
              "96451         https://www.huffingtonpost.com/entry/sexiest-man-over-60_b_6800454.html   \n",
              "109995            https://www.huffingtonpost.com/entry/aging-in-taiwan_b_5890828.html   \n",
              "108378  https://www.huffingtonpost.com/entry/childless-by-choice-gas-s_b_6050172.html   \n",
              "\n",
              "                                                                                                                                                                                                                                                                                      short_description  \\\n",
              "121745                                                                                                                                                                           It turns out that living to 100 is a real possibility for many of us in our 70s and for half of kids now in preschool.   \n",
              "106433                                                                   The legacy that remains is having to monitor my thinking. Occasionally my choices. Automatic calorie counts registering in my head. Picking toppings off of pizza. 'I don't like crust', I explain. (That's a bunch of hooey).   \n",
              "96451   One of the biggest misconceptions about aging is that we no longer care about beauty, sex or romantic companionship. What rubbish! Baby boomers today are challenging stereotypes and living life with verve and passion. We want to look great, even if we don't care what other people think.   \n",
              "109995                            Imagine how exciting it would be to design a whole new system of care for older adults -- entirely from scratch. You'd be working with a clean slate, unencumbered by the temptation to retain old ways of operating, simply because 'we've always done it this way.'   \n",
              "108378                                                                                             Children can't be let out in the yard to play until you get up at 1:30 p.m. on Sunday because you were out late the night before. Dogs can. Cats don't even need to be let out, you can ignore them.   \n",
              "\n",
              "             date  year  \n",
              "121745 2014-05-27  2014  \n",
              "106433 2014-11-17  2014  \n",
              "96451  2015-03-12  2015  \n",
              "109995 2014-10-07  2014  \n",
              "108378 2014-10-26  2014  "
            ],
            "text/html": [
              "<div>\n",
              "<style scoped>\n",
              "    .dataframe tbody tr th:only-of-type {\n",
              "        vertical-align: middle;\n",
              "    }\n",
              "\n",
              "    .dataframe tbody tr th {\n",
              "        vertical-align: top;\n",
              "    }\n",
              "\n",
              "    .dataframe thead th {\n",
              "        text-align: right;\n",
              "    }\n",
              "</style>\n",
              "<table border=\"1\" class=\"dataframe\">\n",
              "  <thead>\n",
              "    <tr style=\"text-align: right;\">\n",
              "      <th></th>\n",
              "      <th>category</th>\n",
              "      <th>headline</th>\n",
              "      <th>authors</th>\n",
              "      <th>link</th>\n",
              "      <th>short_description</th>\n",
              "      <th>date</th>\n",
              "      <th>year</th>\n",
              "    </tr>\n",
              "  </thead>\n",
              "  <tbody>\n",
              "    <tr>\n",
              "      <th>121745</th>\n",
              "      <td>FIFTY</td>\n",
              "      <td>Living to 100?</td>\n",
              "      <td>Jane Giddan and Ellen Cole, ContributorThose 70Candles women!</td>\n",
              "      <td>https://www.huffingtonpost.com/entry/living-to-100_b_5384496.html</td>\n",
              "      <td>It turns out that living to 100 is a real possibility for many of us in our 70s and for half of kids now in preschool.</td>\n",
              "      <td>2014-05-27</td>\n",
              "      <td>2014</td>\n",
              "    </tr>\n",
              "    <tr>\n",
              "      <th>106433</th>\n",
              "      <td>FIFTY</td>\n",
              "      <td>How Your Body Image Affects Your Daughter's Self-Esteem</td>\n",
              "      <td>Dr. Margaret Rutherford, ContributorClinical Psychologist, Mental Health/Midlife Blogger</td>\n",
              "      <td>https://www.huffingtonpost.com/entry/body-image_b_6120000.html</td>\n",
              "      <td>The legacy that remains is having to monitor my thinking. Occasionally my choices. Automatic calorie counts registering in my head. Picking toppings off of pizza. 'I don't like crust', I explain. (That's a bunch of hooey).</td>\n",
              "      <td>2014-11-17</td>\n",
              "      <td>2014</td>\n",
              "    </tr>\n",
              "    <tr>\n",
              "      <th>96451</th>\n",
              "      <td>FIFTY</td>\n",
              "      <td>Who's The Sexiest Man Over 60? You Decide</td>\n",
              "      <td>Margaret Manning, ContributorAuthor, Founder of Sixtyandme.com</td>\n",
              "      <td>https://www.huffingtonpost.com/entry/sexiest-man-over-60_b_6800454.html</td>\n",
              "      <td>One of the biggest misconceptions about aging is that we no longer care about beauty, sex or romantic companionship. What rubbish! Baby boomers today are challenging stereotypes and living life with verve and passion. We want to look great, even if we don't care what other people think.</td>\n",
              "      <td>2015-03-12</td>\n",
              "      <td>2015</td>\n",
              "    </tr>\n",
              "    <tr>\n",
              "      <th>109995</th>\n",
              "      <td>FIFTY</td>\n",
              "      <td>What We Can Learn From Taiwan About Aging</td>\n",
              "      <td>Robyn Stone, ContributorSenior Vice President of Research at LeadingAge, Former Assist...</td>\n",
              "      <td>https://www.huffingtonpost.com/entry/aging-in-taiwan_b_5890828.html</td>\n",
              "      <td>Imagine how exciting it would be to design a whole new system of care for older adults -- entirely from scratch. You'd be working with a clean slate, unencumbered by the temptation to retain old ways of operating, simply because 'we've always done it this way.'</td>\n",
              "      <td>2014-10-07</td>\n",
              "      <td>2014</td>\n",
              "    </tr>\n",
              "    <tr>\n",
              "      <th>108378</th>\n",
              "      <td>FIFTY</td>\n",
              "      <td>Childless by Choice - Gas Station Condoms and Rumors of Infertility</td>\n",
              "      <td>Kevin B. Morrow, ContributorRealtor, Blogger, Baby Boomer - Convinced the movie \"Dazed and...</td>\n",
              "      <td>https://www.huffingtonpost.com/entry/childless-by-choice-gas-s_b_6050172.html</td>\n",
              "      <td>Children can't be let out in the yard to play until you get up at 1:30 p.m. on Sunday because you were out late the night before. Dogs can. Cats don't even need to be let out, you can ignore them.</td>\n",
              "      <td>2014-10-26</td>\n",
              "      <td>2014</td>\n",
              "    </tr>\n",
              "  </tbody>\n",
              "</table>\n",
              "</div>"
            ]
          },
          "metadata": {},
          "execution_count": 494
        }
      ]
    },
    {
      "cell_type": "code",
      "source": [
        "raw.loc[raw['category'] == 'GREEN'].sample(5)"
      ],
      "metadata": {
        "colab": {
          "base_uri": "https://localhost:8080/",
          "height": 397
        },
        "id": "R_6s8NCy9DPL",
        "outputId": "5fcb27a0-751f-4f41-de04-995eece640e9"
      },
      "execution_count": null,
      "outputs": [
        {
          "output_type": "execute_result",
          "data": {
            "text/plain": [
              "       category  \\\n",
              "68677     GREEN   \n",
              "71706     GREEN   \n",
              "20680     GREEN   \n",
              "117222    GREEN   \n",
              "109742    GREEN   \n",
              "\n",
              "                                                                                         headline  \\\n",
              "68677                                           SeaWorld Dolphin's Death Reveals More Dark Truths   \n",
              "71706                                 A Miracle Happens After This Bird Adopts A Store-Bought Egg   \n",
              "20680   Moby, Russell Simmons And Others Speak Out On An Issue That Needs Our Immediate Attention   \n",
              "117222                          Federal Scientists Ordered to Drop Proposal to Protect Wolverines   \n",
              "109742                                        When Animals Disappear, So Do Our Social Structures   \n",
              "\n",
              "                                                                                             authors  \\\n",
              "68677                                                                                            NaN   \n",
              "71706                                                                                            NaN   \n",
              "20680                                            Marianne Schnall, ContributorWriter and interviewer   \n",
              "117222  Noah Greenwald, ContributorEndangered species program director, Center for Biological Div...   \n",
              "109742                                                         Avital Andrews, ContributorJournalist   \n",
              "\n",
              "                                                                                                                          link  \\\n",
              "68677                 https://www.huffingtonpost.comhttps://www.thedodo.com/betsy-seaworld-commersons-dolphins-1565648331.html   \n",
              "71706                   https://www.huffingtonpost.comhttps://www.thedodo.com/bird-adopts-egg-from-supermarket-1513715172.html   \n",
              "20680   https://www.huffingtonpost.com/entry/moby-russell-simmons-and-others-speak-out-on-an-issue_us_59739805e4b0545a5c31008a   \n",
              "117222                                   https://www.huffingtonpost.com/entry/wolverine-protection-leaked-memos_b_5593028.html   \n",
              "109742                                           https://www.huffingtonpost.com/entry/when-animals-disappear-so_b_5962404.html   \n",
              "\n",
              "                                                                                                                                                                                                               short_description  \\\n",
              "68677                                                                                             Another dolphin has died at SeaWorld â€” and her death shines light on the sad plight of one of SeaWorld's least-known animals   \n",
              "71706                                                                                                   Given their ubiquity as an ingredient in cooking, it's remarkably easy to forget that store-bought eggs weren't actually   \n",
              "20680                                                                                                                                                              \"Going vegan was the most important lifestyle change I made.\"   \n",
              "117222  Just as we did with bald eagles, peregrine falcons, sea turtles and grizzlies, we have a legal and moral duty to protect wolverines, remarkable survivors able to sniff out carrion buried beneath several feet of snow.   \n",
              "109742                                                                 Research out of UC Berkeley and UC Santa Barbara is providing evidence that a decline in animals actually means that our social structures are crumbling.   \n",
              "\n",
              "             date  year  \n",
              "68677  2016-01-22  2016  \n",
              "71706  2015-12-18  2015  \n",
              "20680  2017-07-24  2017  \n",
              "117222 2014-07-17  2014  \n",
              "109742 2014-10-10  2014  "
            ],
            "text/html": [
              "<div>\n",
              "<style scoped>\n",
              "    .dataframe tbody tr th:only-of-type {\n",
              "        vertical-align: middle;\n",
              "    }\n",
              "\n",
              "    .dataframe tbody tr th {\n",
              "        vertical-align: top;\n",
              "    }\n",
              "\n",
              "    .dataframe thead th {\n",
              "        text-align: right;\n",
              "    }\n",
              "</style>\n",
              "<table border=\"1\" class=\"dataframe\">\n",
              "  <thead>\n",
              "    <tr style=\"text-align: right;\">\n",
              "      <th></th>\n",
              "      <th>category</th>\n",
              "      <th>headline</th>\n",
              "      <th>authors</th>\n",
              "      <th>link</th>\n",
              "      <th>short_description</th>\n",
              "      <th>date</th>\n",
              "      <th>year</th>\n",
              "    </tr>\n",
              "  </thead>\n",
              "  <tbody>\n",
              "    <tr>\n",
              "      <th>68677</th>\n",
              "      <td>GREEN</td>\n",
              "      <td>SeaWorld Dolphin's Death Reveals More Dark Truths</td>\n",
              "      <td>NaN</td>\n",
              "      <td>https://www.huffingtonpost.comhttps://www.thedodo.com/betsy-seaworld-commersons-dolphins-1565648331.html</td>\n",
              "      <td>Another dolphin has died at SeaWorld â€” and her death shines light on the sad plight of one of SeaWorld's least-known animals</td>\n",
              "      <td>2016-01-22</td>\n",
              "      <td>2016</td>\n",
              "    </tr>\n",
              "    <tr>\n",
              "      <th>71706</th>\n",
              "      <td>GREEN</td>\n",
              "      <td>A Miracle Happens After This Bird Adopts A Store-Bought Egg</td>\n",
              "      <td>NaN</td>\n",
              "      <td>https://www.huffingtonpost.comhttps://www.thedodo.com/bird-adopts-egg-from-supermarket-1513715172.html</td>\n",
              "      <td>Given their ubiquity as an ingredient in cooking, it's remarkably easy to forget that store-bought eggs weren't actually</td>\n",
              "      <td>2015-12-18</td>\n",
              "      <td>2015</td>\n",
              "    </tr>\n",
              "    <tr>\n",
              "      <th>20680</th>\n",
              "      <td>GREEN</td>\n",
              "      <td>Moby, Russell Simmons And Others Speak Out On An Issue That Needs Our Immediate Attention</td>\n",
              "      <td>Marianne Schnall, ContributorWriter and interviewer</td>\n",
              "      <td>https://www.huffingtonpost.com/entry/moby-russell-simmons-and-others-speak-out-on-an-issue_us_59739805e4b0545a5c31008a</td>\n",
              "      <td>\"Going vegan was the most important lifestyle change I made.\"</td>\n",
              "      <td>2017-07-24</td>\n",
              "      <td>2017</td>\n",
              "    </tr>\n",
              "    <tr>\n",
              "      <th>117222</th>\n",
              "      <td>GREEN</td>\n",
              "      <td>Federal Scientists Ordered to Drop Proposal to Protect Wolverines</td>\n",
              "      <td>Noah Greenwald, ContributorEndangered species program director, Center for Biological Div...</td>\n",
              "      <td>https://www.huffingtonpost.com/entry/wolverine-protection-leaked-memos_b_5593028.html</td>\n",
              "      <td>Just as we did with bald eagles, peregrine falcons, sea turtles and grizzlies, we have a legal and moral duty to protect wolverines, remarkable survivors able to sniff out carrion buried beneath several feet of snow.</td>\n",
              "      <td>2014-07-17</td>\n",
              "      <td>2014</td>\n",
              "    </tr>\n",
              "    <tr>\n",
              "      <th>109742</th>\n",
              "      <td>GREEN</td>\n",
              "      <td>When Animals Disappear, So Do Our Social Structures</td>\n",
              "      <td>Avital Andrews, ContributorJournalist</td>\n",
              "      <td>https://www.huffingtonpost.com/entry/when-animals-disappear-so_b_5962404.html</td>\n",
              "      <td>Research out of UC Berkeley and UC Santa Barbara is providing evidence that a decline in animals actually means that our social structures are crumbling.</td>\n",
              "      <td>2014-10-10</td>\n",
              "      <td>2014</td>\n",
              "    </tr>\n",
              "  </tbody>\n",
              "</table>\n",
              "</div>"
            ]
          },
          "metadata": {},
          "execution_count": 495
        }
      ]
    },
    {
      "cell_type": "code",
      "source": [
        "raw.loc[raw['category'] == 'QUEER VOICES'].sample(5)"
      ],
      "metadata": {
        "colab": {
          "base_uri": "https://localhost:8080/",
          "height": 415
        },
        "id": "WN-4H7Te87Ni",
        "outputId": "d01e2ff8-f73d-4c5d-f699-fbd836924f8d"
      },
      "execution_count": null,
      "outputs": [
        {
          "output_type": "execute_result",
          "data": {
            "text/plain": [
              "            category  \\\n",
              "129991  QUEER VOICES   \n",
              "42994   QUEER VOICES   \n",
              "185826  QUEER VOICES   \n",
              "104872  QUEER VOICES   \n",
              "57257   QUEER VOICES   \n",
              "\n",
              "                                                                                     headline  \\\n",
              "129991  Kate Logan's 'An Act of Love' Tells Story Of United Methodist Minister Frank Schaefer   \n",
              "42994            Dear Queer America: Here Is What We Must Do Now That Trump Will Be President   \n",
              "185826      Google Announces Worldwide 'Legalize Love' Campaign Plan In Support Of Gay Rights   \n",
              "104872                                                   My Children Don't Know I'm a Lesbian   \n",
              "57257                     Here's Your Chance To See This Gay Comedian Live Before He Blows Up   \n",
              "\n",
              "                                                                              authors  \\\n",
              "129991                                                          James Michael Nichols   \n",
              "42994                                                                  Noah Michelson   \n",
              "185826                                                                            NaN   \n",
              "104872  Georgia Kolias, ContributorWriter, Huffington Post Blogger, Cultural Observer   \n",
              "57257                                                           James Michael Nichols   \n",
              "\n",
              "                                                                                                               link  \\\n",
              "129991                   https://www.huffingtonpost.com/entry/an-act-of-love-kate-logan_us_5bafc388e4b0ad76926180a0   \n",
              "42994         https://www.huffingtonpost.com/entry/queer-america-donald-trump-president_us_58230451e4b0d9ce6fc015e6   \n",
              "185826  https://www.huffingtonpost.com/entry/google-announces-support-same-sex-marriage_us_5bafa60de4b0ad76925f7b19   \n",
              "104872                                https://www.huffingtonpost.com/entry/my-children-dont-know-im-_b_6263216.html   \n",
              "57257                 https://www.huffingtonpost.com/entry/john-early-gay-comedian-live_us_574f0aa7e4b0ed593f12e76a   \n",
              "\n",
              "                                                                                                                                                                                                                                                                                 short_description  \\\n",
              "129991                                                                                                                                                             Check out the video above or head here to visit the film's Kickstarter for more information. Frank Schaefer, a former Methodist   \n",
              "42994                                                                                                                                                                                                                  Let us never stop fighting, even when the end of the world finally arrives.   \n",
              "185826                                                                                                                                                                    And on Valentine's Day of this year, the company ran a gay-marriage themed Google Doodle. Google launched a new campaign   \n",
              "104872  I'm not the type of person who likes to keep secrets. I grew up in a house where secrets floated in the air at all times, and I never liked to keep track of who knew what. But when I realized at the age of sixteen that I was a lesbian, I suddenly had my own secret to keep track of.   \n",
              "57257                                                                                                                                                                                                                                 \"Iâ€™ve described myself and my act as the Robyn of comedy.\"   \n",
              "\n",
              "             date  year  \n",
              "129991 2014-02-22  2014  \n",
              "42994  2016-11-09  2016  \n",
              "185826 2012-07-08  2012  \n",
              "104872 2014-12-05  2014  \n",
              "57257  2016-06-01  2016  "
            ],
            "text/html": [
              "<div>\n",
              "<style scoped>\n",
              "    .dataframe tbody tr th:only-of-type {\n",
              "        vertical-align: middle;\n",
              "    }\n",
              "\n",
              "    .dataframe tbody tr th {\n",
              "        vertical-align: top;\n",
              "    }\n",
              "\n",
              "    .dataframe thead th {\n",
              "        text-align: right;\n",
              "    }\n",
              "</style>\n",
              "<table border=\"1\" class=\"dataframe\">\n",
              "  <thead>\n",
              "    <tr style=\"text-align: right;\">\n",
              "      <th></th>\n",
              "      <th>category</th>\n",
              "      <th>headline</th>\n",
              "      <th>authors</th>\n",
              "      <th>link</th>\n",
              "      <th>short_description</th>\n",
              "      <th>date</th>\n",
              "      <th>year</th>\n",
              "    </tr>\n",
              "  </thead>\n",
              "  <tbody>\n",
              "    <tr>\n",
              "      <th>129991</th>\n",
              "      <td>QUEER VOICES</td>\n",
              "      <td>Kate Logan's 'An Act of Love' Tells Story Of United Methodist Minister Frank Schaefer</td>\n",
              "      <td>James Michael Nichols</td>\n",
              "      <td>https://www.huffingtonpost.com/entry/an-act-of-love-kate-logan_us_5bafc388e4b0ad76926180a0</td>\n",
              "      <td>Check out the video above or head here to visit the film's Kickstarter for more information. Frank Schaefer, a former Methodist</td>\n",
              "      <td>2014-02-22</td>\n",
              "      <td>2014</td>\n",
              "    </tr>\n",
              "    <tr>\n",
              "      <th>42994</th>\n",
              "      <td>QUEER VOICES</td>\n",
              "      <td>Dear Queer America: Here Is What We Must Do Now That Trump Will Be President</td>\n",
              "      <td>Noah Michelson</td>\n",
              "      <td>https://www.huffingtonpost.com/entry/queer-america-donald-trump-president_us_58230451e4b0d9ce6fc015e6</td>\n",
              "      <td>Let us never stop fighting, even when the end of the world finally arrives.</td>\n",
              "      <td>2016-11-09</td>\n",
              "      <td>2016</td>\n",
              "    </tr>\n",
              "    <tr>\n",
              "      <th>185826</th>\n",
              "      <td>QUEER VOICES</td>\n",
              "      <td>Google Announces Worldwide 'Legalize Love' Campaign Plan In Support Of Gay Rights</td>\n",
              "      <td>NaN</td>\n",
              "      <td>https://www.huffingtonpost.com/entry/google-announces-support-same-sex-marriage_us_5bafa60de4b0ad76925f7b19</td>\n",
              "      <td>And on Valentine's Day of this year, the company ran a gay-marriage themed Google Doodle. Google launched a new campaign</td>\n",
              "      <td>2012-07-08</td>\n",
              "      <td>2012</td>\n",
              "    </tr>\n",
              "    <tr>\n",
              "      <th>104872</th>\n",
              "      <td>QUEER VOICES</td>\n",
              "      <td>My Children Don't Know I'm a Lesbian</td>\n",
              "      <td>Georgia Kolias, ContributorWriter, Huffington Post Blogger, Cultural Observer</td>\n",
              "      <td>https://www.huffingtonpost.com/entry/my-children-dont-know-im-_b_6263216.html</td>\n",
              "      <td>I'm not the type of person who likes to keep secrets. I grew up in a house where secrets floated in the air at all times, and I never liked to keep track of who knew what. But when I realized at the age of sixteen that I was a lesbian, I suddenly had my own secret to keep track of.</td>\n",
              "      <td>2014-12-05</td>\n",
              "      <td>2014</td>\n",
              "    </tr>\n",
              "    <tr>\n",
              "      <th>57257</th>\n",
              "      <td>QUEER VOICES</td>\n",
              "      <td>Here's Your Chance To See This Gay Comedian Live Before He Blows Up</td>\n",
              "      <td>James Michael Nichols</td>\n",
              "      <td>https://www.huffingtonpost.com/entry/john-early-gay-comedian-live_us_574f0aa7e4b0ed593f12e76a</td>\n",
              "      <td>\"Iâ€™ve described myself and my act as the Robyn of comedy.\"</td>\n",
              "      <td>2016-06-01</td>\n",
              "      <td>2016</td>\n",
              "    </tr>\n",
              "  </tbody>\n",
              "</table>\n",
              "</div>"
            ]
          },
          "metadata": {},
          "execution_count": 496
        }
      ]
    },
    {
      "cell_type": "code",
      "source": [
        "raw.loc[raw['category'] == 'IMPACT'].sample(5)"
      ],
      "metadata": {
        "colab": {
          "base_uri": "https://localhost:8080/",
          "height": 449
        },
        "id": "UuGC_9np486i",
        "outputId": "40ac07ad-34cc-49dd-987a-bcb11239ecdb"
      },
      "execution_count": null,
      "outputs": [
        {
          "output_type": "execute_result",
          "data": {
            "text/plain": [
              "       category  \\\n",
              "57004    IMPACT   \n",
              "116822   IMPACT   \n",
              "54002    IMPACT   \n",
              "152475   IMPACT   \n",
              "159070   IMPACT   \n",
              "\n",
              "                                                                                        headline  \\\n",
              "57004                               Finding Our Humanity in the Refugee Crisis: A Call to Action   \n",
              "116822  Not All Migrant Kids Are Equal: Central Americans Get Court Dates, Mexicans Get the Boot   \n",
              "54002                             This Project Is Committed To Reducing Food Waste In SÃ£o Paulo   \n",
              "152475   Madeleine Albright At Aspen Ideas Festival Talks Being A Woman In A Man's World (VIDEO)   \n",
              "159070                                                            Empathy in the Wake of Tragedy   \n",
              "\n",
              "                                                                                           authors  \\\n",
              "57004   Suzie Abdou , ContributorSpecialist on democracy, governance & gender in MENA. World tr...   \n",
              "116822                          Erin Siegal McIntyre, ContributorInvestigative Journalist & Author   \n",
              "54002                                                            Ana Beatriz Rosa, HuffPost Brazil   \n",
              "152475                                                                                         NaN   \n",
              "159070               Toni Nagy, Contributor\\nwriter, podcaster, tonibologna.com, overshareshow.com   \n",
              "\n",
              "                                                                                                            link  \\\n",
              "57004                             https://www.huffingtonpost.com/entry/finding-our-humanity-in-t_b_10291928.html   \n",
              "116822                                             https://www.huffingtonpost.com/entry/post_8038_b_5589780.html   \n",
              "54002              https://www.huffingtonpost.com/entry/food-waste-project-sao-paulo_us_577fc161e4b01edea78d8990   \n",
              "152475  https://www.huffingtonpost.com/entry/madeleine-albright-aspen-ideas-festival_us_5bb1adfde4b01857b709f15b   \n",
              "159070                https://www.huffingtonpost.com/entry/empathy-in-the-wake-of-tr_us_5bb1a9c0e4b01857b7098bc6   \n",
              "\n",
              "                                                                                                                                                                                                                                                          short_description  \\\n",
              "57004        This critical issue is not one of race, nationality, religion or politics but of humanity. It is a call to step out of our comfort zones, to look past our first world problems and to use our first world privilege to serve our fellow brothers and sisters.   \n",
              "116822     There's a big difference between how Mexican and Central American kids are treated once they cross the border. Mexican children and teens are deported almost immediately, in what's called expedited repatriation. The Central Americans aren't-- that is, yet.   \n",
              "54002                                                                                                                            The \"Invisible Food\" initiative plans to set up a truck that serves food cooked with ingredients that would have otherwise been discarded.   \n",
              "152475                                                                                                                                             \"The most famous thing I ever said was 'There's a special place in hell for women who don't help each other.'\" Madeleine   \n",
              "159070  There is much to learn from this horrific occurrence beyond the details that have yet to be revealed. Although it is human to seek vengeance against those who have caused pain, if this mindset is maintained our geo-political atmosphere will forever be at war.   \n",
              "\n",
              "             date  year  \n",
              "57004  2016-06-04  2016  \n",
              "116822 2014-07-22  2014  \n",
              "54002  2016-07-08  2016  \n",
              "152475 2013-06-29  2013  \n",
              "159070 2013-04-20  2013  "
            ],
            "text/html": [
              "<div>\n",
              "<style scoped>\n",
              "    .dataframe tbody tr th:only-of-type {\n",
              "        vertical-align: middle;\n",
              "    }\n",
              "\n",
              "    .dataframe tbody tr th {\n",
              "        vertical-align: top;\n",
              "    }\n",
              "\n",
              "    .dataframe thead th {\n",
              "        text-align: right;\n",
              "    }\n",
              "</style>\n",
              "<table border=\"1\" class=\"dataframe\">\n",
              "  <thead>\n",
              "    <tr style=\"text-align: right;\">\n",
              "      <th></th>\n",
              "      <th>category</th>\n",
              "      <th>headline</th>\n",
              "      <th>authors</th>\n",
              "      <th>link</th>\n",
              "      <th>short_description</th>\n",
              "      <th>date</th>\n",
              "      <th>year</th>\n",
              "    </tr>\n",
              "  </thead>\n",
              "  <tbody>\n",
              "    <tr>\n",
              "      <th>57004</th>\n",
              "      <td>IMPACT</td>\n",
              "      <td>Finding Our Humanity in the Refugee Crisis: A Call to Action</td>\n",
              "      <td>Suzie Abdou , ContributorSpecialist on democracy, governance &amp; gender in MENA. World tr...</td>\n",
              "      <td>https://www.huffingtonpost.com/entry/finding-our-humanity-in-t_b_10291928.html</td>\n",
              "      <td>This critical issue is not one of race, nationality, religion or politics but of humanity. It is a call to step out of our comfort zones, to look past our first world problems and to use our first world privilege to serve our fellow brothers and sisters.</td>\n",
              "      <td>2016-06-04</td>\n",
              "      <td>2016</td>\n",
              "    </tr>\n",
              "    <tr>\n",
              "      <th>116822</th>\n",
              "      <td>IMPACT</td>\n",
              "      <td>Not All Migrant Kids Are Equal: Central Americans Get Court Dates, Mexicans Get the Boot</td>\n",
              "      <td>Erin Siegal McIntyre, ContributorInvestigative Journalist &amp; Author</td>\n",
              "      <td>https://www.huffingtonpost.com/entry/post_8038_b_5589780.html</td>\n",
              "      <td>There's a big difference between how Mexican and Central American kids are treated once they cross the border. Mexican children and teens are deported almost immediately, in what's called expedited repatriation. The Central Americans aren't-- that is, yet.</td>\n",
              "      <td>2014-07-22</td>\n",
              "      <td>2014</td>\n",
              "    </tr>\n",
              "    <tr>\n",
              "      <th>54002</th>\n",
              "      <td>IMPACT</td>\n",
              "      <td>This Project Is Committed To Reducing Food Waste In SÃ£o Paulo</td>\n",
              "      <td>Ana Beatriz Rosa, HuffPost Brazil</td>\n",
              "      <td>https://www.huffingtonpost.com/entry/food-waste-project-sao-paulo_us_577fc161e4b01edea78d8990</td>\n",
              "      <td>The \"Invisible Food\" initiative plans to set up a truck that serves food cooked with ingredients that would have otherwise been discarded.</td>\n",
              "      <td>2016-07-08</td>\n",
              "      <td>2016</td>\n",
              "    </tr>\n",
              "    <tr>\n",
              "      <th>152475</th>\n",
              "      <td>IMPACT</td>\n",
              "      <td>Madeleine Albright At Aspen Ideas Festival Talks Being A Woman In A Man's World (VIDEO)</td>\n",
              "      <td>NaN</td>\n",
              "      <td>https://www.huffingtonpost.com/entry/madeleine-albright-aspen-ideas-festival_us_5bb1adfde4b01857b709f15b</td>\n",
              "      <td>\"The most famous thing I ever said was 'There's a special place in hell for women who don't help each other.'\" Madeleine</td>\n",
              "      <td>2013-06-29</td>\n",
              "      <td>2013</td>\n",
              "    </tr>\n",
              "    <tr>\n",
              "      <th>159070</th>\n",
              "      <td>IMPACT</td>\n",
              "      <td>Empathy in the Wake of Tragedy</td>\n",
              "      <td>Toni Nagy, Contributor\\nwriter, podcaster, tonibologna.com, overshareshow.com</td>\n",
              "      <td>https://www.huffingtonpost.com/entry/empathy-in-the-wake-of-tr_us_5bb1a9c0e4b01857b7098bc6</td>\n",
              "      <td>There is much to learn from this horrific occurrence beyond the details that have yet to be revealed. Although it is human to seek vengeance against those who have caused pain, if this mindset is maintained our geo-political atmosphere will forever be at war.</td>\n",
              "      <td>2013-04-20</td>\n",
              "      <td>2013</td>\n",
              "    </tr>\n",
              "  </tbody>\n",
              "</table>\n",
              "</div>"
            ]
          },
          "metadata": {},
          "execution_count": 497
        }
      ]
    },
    {
      "cell_type": "code",
      "source": [
        "raw.loc[raw['category'] == 'WELLNESS'].sample(5)"
      ],
      "metadata": {
        "colab": {
          "base_uri": "https://localhost:8080/",
          "height": 449
        },
        "id": "Me5zVo0H5roy",
        "outputId": "eaaf2f72-87cf-44b5-90e5-221201a760e8"
      },
      "execution_count": null,
      "outputs": [
        {
          "output_type": "execute_result",
          "data": {
            "text/plain": [
              "        category  \\\n",
              "142306  WELLNESS   \n",
              "163447  WELLNESS   \n",
              "175080  WELLNESS   \n",
              "177771  WELLNESS   \n",
              "160177  WELLNESS   \n",
              "\n",
              "                                                                       headline  \\\n",
              "142306                                                       Drop the 'Shoulds'   \n",
              "163447  British Health Care Lags Behind Other Countries, Despite Free Treatment   \n",
              "175080                                         The Trick to Managing the Treats   \n",
              "177771                                              National Day Without Stigma   \n",
              "160177                                                               Going Home   \n",
              "\n",
              "                                                                                                   authors  \\\n",
              "142306                       Rick Hanson, Ph.D., Contributor\\nPsychologist; Author, 'Hardwiring Happiness'   \n",
              "163447                                                                                    Reuters, Reuters   \n",
              "175080  Michelle May, M.D., Contributor\\nAuthor, 'Eat What You Love, Love What You Eat' book series; Fo...   \n",
              "177771                              Alison Malmon, Contributor\\nExecutive Director & Founder, Active Minds   \n",
              "160177               Mark Nepo, Contributor\\nAuthor, New York Times bestseller â€˜The Book of Awakeningâ€™   \n",
              "\n",
              "                                                                                                link  \\\n",
              "142306         https://www.huffingtonpost.com/entry/mindfulness-practice_us_5b9d9896e4b03a1dcc89f707   \n",
              "163447     https://www.huffingtonpost.com/entry/british-health-care-lags_us_5b9ce384e4b03a1dcc82b862   \n",
              "175080               https://www.huffingtonpost.com/entry/mindful-eating_us_5b9c6fbfe4b03a1dcc7ea1e9   \n",
              "177771  https://www.huffingtonpost.com/entry/national-day-without-stigma_us_5b9c5b99e4b03a1dcc7e0d0d   \n",
              "160177                       https://www.huffingtonpost.com/entry/poetry_us_5b9d05f7e4b03a1dcc83d28d   \n",
              "\n",
              "                                                                                                                                                                                                       short_description  \\\n",
              "142306  At bottom, \"shoulds\" are not about events. They're about what you want to experience (especially emotions and sensations) if your demands on reality are met, or what you fear you'll experience if they're not.   \n",
              "163447                                                                                          Researchers who compared Britain's health performance since 1990 with 14 European Union countries plus Australia, Canada   \n",
              "175080       Halloween candy showed up in August (as though we needed to get a jump on our holiday shopping!) and will still be on sale in November. So what is the trick to eating what you love when it is everywhere?   \n",
              "177771                                                    This Oct. 9, in honor of Mental Health Awareness Week, Active Minds chapters across the country will gather on their campuses for National Day Without Stigma.   \n",
              "160177                                 For all the dreams we dream and things we work toward, we sometimes stumble into a moment when what waits inside our dream somehow comes true. This poem speaks to such a moment.   \n",
              "\n",
              "             date  year  \n",
              "142306 2013-10-15  2013  \n",
              "163447 2013-03-05  2013  \n",
              "175080 2012-10-31  2012  \n",
              "177771 2012-10-03  2012  \n",
              "160177 2013-04-09  2013  "
            ],
            "text/html": [
              "<div>\n",
              "<style scoped>\n",
              "    .dataframe tbody tr th:only-of-type {\n",
              "        vertical-align: middle;\n",
              "    }\n",
              "\n",
              "    .dataframe tbody tr th {\n",
              "        vertical-align: top;\n",
              "    }\n",
              "\n",
              "    .dataframe thead th {\n",
              "        text-align: right;\n",
              "    }\n",
              "</style>\n",
              "<table border=\"1\" class=\"dataframe\">\n",
              "  <thead>\n",
              "    <tr style=\"text-align: right;\">\n",
              "      <th></th>\n",
              "      <th>category</th>\n",
              "      <th>headline</th>\n",
              "      <th>authors</th>\n",
              "      <th>link</th>\n",
              "      <th>short_description</th>\n",
              "      <th>date</th>\n",
              "      <th>year</th>\n",
              "    </tr>\n",
              "  </thead>\n",
              "  <tbody>\n",
              "    <tr>\n",
              "      <th>142306</th>\n",
              "      <td>WELLNESS</td>\n",
              "      <td>Drop the 'Shoulds'</td>\n",
              "      <td>Rick Hanson, Ph.D., Contributor\\nPsychologist; Author, 'Hardwiring Happiness'</td>\n",
              "      <td>https://www.huffingtonpost.com/entry/mindfulness-practice_us_5b9d9896e4b03a1dcc89f707</td>\n",
              "      <td>At bottom, \"shoulds\" are not about events. They're about what you want to experience (especially emotions and sensations) if your demands on reality are met, or what you fear you'll experience if they're not.</td>\n",
              "      <td>2013-10-15</td>\n",
              "      <td>2013</td>\n",
              "    </tr>\n",
              "    <tr>\n",
              "      <th>163447</th>\n",
              "      <td>WELLNESS</td>\n",
              "      <td>British Health Care Lags Behind Other Countries, Despite Free Treatment</td>\n",
              "      <td>Reuters, Reuters</td>\n",
              "      <td>https://www.huffingtonpost.com/entry/british-health-care-lags_us_5b9ce384e4b03a1dcc82b862</td>\n",
              "      <td>Researchers who compared Britain's health performance since 1990 with 14 European Union countries plus Australia, Canada</td>\n",
              "      <td>2013-03-05</td>\n",
              "      <td>2013</td>\n",
              "    </tr>\n",
              "    <tr>\n",
              "      <th>175080</th>\n",
              "      <td>WELLNESS</td>\n",
              "      <td>The Trick to Managing the Treats</td>\n",
              "      <td>Michelle May, M.D., Contributor\\nAuthor, 'Eat What You Love, Love What You Eat' book series; Fo...</td>\n",
              "      <td>https://www.huffingtonpost.com/entry/mindful-eating_us_5b9c6fbfe4b03a1dcc7ea1e9</td>\n",
              "      <td>Halloween candy showed up in August (as though we needed to get a jump on our holiday shopping!) and will still be on sale in November. So what is the trick to eating what you love when it is everywhere?</td>\n",
              "      <td>2012-10-31</td>\n",
              "      <td>2012</td>\n",
              "    </tr>\n",
              "    <tr>\n",
              "      <th>177771</th>\n",
              "      <td>WELLNESS</td>\n",
              "      <td>National Day Without Stigma</td>\n",
              "      <td>Alison Malmon, Contributor\\nExecutive Director &amp; Founder, Active Minds</td>\n",
              "      <td>https://www.huffingtonpost.com/entry/national-day-without-stigma_us_5b9c5b99e4b03a1dcc7e0d0d</td>\n",
              "      <td>This Oct. 9, in honor of Mental Health Awareness Week, Active Minds chapters across the country will gather on their campuses for National Day Without Stigma.</td>\n",
              "      <td>2012-10-03</td>\n",
              "      <td>2012</td>\n",
              "    </tr>\n",
              "    <tr>\n",
              "      <th>160177</th>\n",
              "      <td>WELLNESS</td>\n",
              "      <td>Going Home</td>\n",
              "      <td>Mark Nepo, Contributor\\nAuthor, New York Times bestseller â€˜The Book of Awakeningâ€™</td>\n",
              "      <td>https://www.huffingtonpost.com/entry/poetry_us_5b9d05f7e4b03a1dcc83d28d</td>\n",
              "      <td>For all the dreams we dream and things we work toward, we sometimes stumble into a moment when what waits inside our dream somehow comes true. This poem speaks to such a moment.</td>\n",
              "      <td>2013-04-09</td>\n",
              "      <td>2013</td>\n",
              "    </tr>\n",
              "  </tbody>\n",
              "</table>\n",
              "</div>"
            ]
          },
          "metadata": {},
          "execution_count": 498
        }
      ]
    },
    {
      "cell_type": "code",
      "source": [
        "raw.loc[raw['category'] == 'FOOD & DRINK'].sample(5)"
      ],
      "metadata": {
        "colab": {
          "base_uri": "https://localhost:8080/",
          "height": 310
        },
        "id": "vPJY5M7y6mLi",
        "outputId": "f544276a-0153-40ae-e5ff-8be60d35c263"
      },
      "execution_count": null,
      "outputs": [
        {
          "output_type": "execute_result",
          "data": {
            "text/plain": [
              "            category                                       headline  \\\n",
              "156532  FOOD & DRINK          11 Year Old Kid Chef Revamps Meatloaf   \n",
              "171692  FOOD & DRINK      Chocolate Gifts For The Holidays (PHOTOS)   \n",
              "150631  FOOD & DRINK                       Cannoli Recipes (PHOTOS)   \n",
              "155118  FOOD & DRINK  Fat Magnet: Taking All The Flavor Out Of Food   \n",
              "161599  FOOD & DRINK   Spring Onion Recipes To Celebrate The Season   \n",
              "\n",
              "                                                                                                          authors  \\\n",
              "156532  HooplaHa - Only Good News, Contributor\\nHooplaHa is a media company focused on only good news. Our mis...   \n",
              "171692                                                                                                        NaN   \n",
              "150631                                                                                                        NaN   \n",
              "155118                                                                                                        NaN   \n",
              "161599                                                                                                        NaN   \n",
              "\n",
              "                                                                                                    link  \\\n",
              "156532        https://www.huffingtonpost.com/entry/11-year-old-kid-chef-reva_us_5b9d2c0be4b03a1dcc852326   \n",
              "171692  https://www.huffingtonpost.com/entry/christmas-candy-chocolate-gifts_us_5b9c96f4e4b03a1dcc801774   \n",
              "150631  https://www.huffingtonpost.com/entry/cannoli-recipes-italian-filling_us_5b9d5b68e4b03a1dcc870897   \n",
              "155118         https://www.huffingtonpost.com/entry/fat-magnet-healthy-meals_us_5b9d3527e4b03a1dcc858a09   \n",
              "161599              https://www.huffingtonpost.com/entry/spring-onion-recipe_us_5b9cf663e4b03a1dcc834f48   \n",
              "\n",
              "                                                                                                                  short_description  \\\n",
              "156532  Sauce: -Mix one cup meat broth with 3 tablespoons of ketchup It's an old Italian favorite with a kid-friendly twist. That's   \n",
              "171692                                          Think honeycomb candy, peanut butter cup marshmallows and chocolate covered nougat.   \n",
              "150631                                                                                  Besides the ricotta and mascarpone filling.   \n",
              "155118                                                                 It's the quickest way to suck all the flavor from your food.   \n",
              "161599                                                                    It's nice to see you again, guys. Winter was really cold.   \n",
              "\n",
              "             date  year  \n",
              "156532 2013-05-16  2013  \n",
              "171692 2012-12-07  2012  \n",
              "150631 2013-07-18  2013  \n",
              "155118 2013-05-31  2013  \n",
              "161599 2013-03-25  2013  "
            ],
            "text/html": [
              "<div>\n",
              "<style scoped>\n",
              "    .dataframe tbody tr th:only-of-type {\n",
              "        vertical-align: middle;\n",
              "    }\n",
              "\n",
              "    .dataframe tbody tr th {\n",
              "        vertical-align: top;\n",
              "    }\n",
              "\n",
              "    .dataframe thead th {\n",
              "        text-align: right;\n",
              "    }\n",
              "</style>\n",
              "<table border=\"1\" class=\"dataframe\">\n",
              "  <thead>\n",
              "    <tr style=\"text-align: right;\">\n",
              "      <th></th>\n",
              "      <th>category</th>\n",
              "      <th>headline</th>\n",
              "      <th>authors</th>\n",
              "      <th>link</th>\n",
              "      <th>short_description</th>\n",
              "      <th>date</th>\n",
              "      <th>year</th>\n",
              "    </tr>\n",
              "  </thead>\n",
              "  <tbody>\n",
              "    <tr>\n",
              "      <th>156532</th>\n",
              "      <td>FOOD &amp; DRINK</td>\n",
              "      <td>11 Year Old Kid Chef Revamps Meatloaf</td>\n",
              "      <td>HooplaHa - Only Good News, Contributor\\nHooplaHa is a media company focused on only good news. Our mis...</td>\n",
              "      <td>https://www.huffingtonpost.com/entry/11-year-old-kid-chef-reva_us_5b9d2c0be4b03a1dcc852326</td>\n",
              "      <td>Sauce: -Mix one cup meat broth with 3 tablespoons of ketchup It's an old Italian favorite with a kid-friendly twist. That's</td>\n",
              "      <td>2013-05-16</td>\n",
              "      <td>2013</td>\n",
              "    </tr>\n",
              "    <tr>\n",
              "      <th>171692</th>\n",
              "      <td>FOOD &amp; DRINK</td>\n",
              "      <td>Chocolate Gifts For The Holidays (PHOTOS)</td>\n",
              "      <td>NaN</td>\n",
              "      <td>https://www.huffingtonpost.com/entry/christmas-candy-chocolate-gifts_us_5b9c96f4e4b03a1dcc801774</td>\n",
              "      <td>Think honeycomb candy, peanut butter cup marshmallows and chocolate covered nougat.</td>\n",
              "      <td>2012-12-07</td>\n",
              "      <td>2012</td>\n",
              "    </tr>\n",
              "    <tr>\n",
              "      <th>150631</th>\n",
              "      <td>FOOD &amp; DRINK</td>\n",
              "      <td>Cannoli Recipes (PHOTOS)</td>\n",
              "      <td>NaN</td>\n",
              "      <td>https://www.huffingtonpost.com/entry/cannoli-recipes-italian-filling_us_5b9d5b68e4b03a1dcc870897</td>\n",
              "      <td>Besides the ricotta and mascarpone filling.</td>\n",
              "      <td>2013-07-18</td>\n",
              "      <td>2013</td>\n",
              "    </tr>\n",
              "    <tr>\n",
              "      <th>155118</th>\n",
              "      <td>FOOD &amp; DRINK</td>\n",
              "      <td>Fat Magnet: Taking All The Flavor Out Of Food</td>\n",
              "      <td>NaN</td>\n",
              "      <td>https://www.huffingtonpost.com/entry/fat-magnet-healthy-meals_us_5b9d3527e4b03a1dcc858a09</td>\n",
              "      <td>It's the quickest way to suck all the flavor from your food.</td>\n",
              "      <td>2013-05-31</td>\n",
              "      <td>2013</td>\n",
              "    </tr>\n",
              "    <tr>\n",
              "      <th>161599</th>\n",
              "      <td>FOOD &amp; DRINK</td>\n",
              "      <td>Spring Onion Recipes To Celebrate The Season</td>\n",
              "      <td>NaN</td>\n",
              "      <td>https://www.huffingtonpost.com/entry/spring-onion-recipe_us_5b9cf663e4b03a1dcc834f48</td>\n",
              "      <td>It's nice to see you again, guys. Winter was really cold.</td>\n",
              "      <td>2013-03-25</td>\n",
              "      <td>2013</td>\n",
              "    </tr>\n",
              "  </tbody>\n",
              "</table>\n",
              "</div>"
            ]
          },
          "metadata": {},
          "execution_count": 499
        }
      ]
    },
    {
      "cell_type": "code",
      "source": [
        "raw.loc[raw['category'] == 'BUSINESS'].sample(5)"
      ],
      "metadata": {
        "colab": {
          "base_uri": "https://localhost:8080/",
          "height": 380
        },
        "id": "tOhNAokQTmiW",
        "outputId": "b072842b-4844-4407-9b94-239b69b4db67"
      },
      "execution_count": null,
      "outputs": [
        {
          "output_type": "execute_result",
          "data": {
            "text/plain": [
              "        category                                              headline  \\\n",
              "114787  BUSINESS                                 Success Isn't for You   \n",
              "180671  BUSINESS               Key to Success: Embrace Being Different   \n",
              "22186   BUSINESS        The Destructive Power Trips Of Amazonâ€™s Boss   \n",
              "86747   BUSINESS  The Founding Fathers Were (Mostly) All Entrepreneurs   \n",
              "106756  BUSINESS  Is Spotify Fair to Musicians? A Chat With Mark Kelly   \n",
              "\n",
              "                                                                              authors  \\\n",
              "114787                                                      Chris Deaver, Contributor   \n",
              "180671  Don McNay, Contributor\\nBest selling lottery and structured settlement expert   \n",
              "22186                    Ralph Nader, ContributorConsumer advocate, lawyer and author   \n",
              "86747                            Bill Murphy Jr., Contributorcontact.billmurphyjr.com   \n",
              "106756                              Phil Simon, ContributorSpeaker, author, professor   \n",
              "\n",
              "                                                                                                                link  \\\n",
              "114787                                      https://www.huffingtonpost.com/entry/success-isnt-for-you_b_5674660.html   \n",
              "180671              https://www.huffingtonpost.com/entry/success-embrace-being-different_us_5bb2d1dee4b0480ca65cb1b1   \n",
              "22186   https://www.huffingtonpost.com/entry/the-destructive-power-trips-of-amazons-boss_us_595e7fd2e4b08f5c97d06803   \n",
              "86747                                  https://www.huffingtonpost.com/entry/the-founding-fathers-were_b_7699806.html   \n",
              "106756                                 https://www.huffingtonpost.com/entry/is-spotify-fair-to-musici_b_6159866.html   \n",
              "\n",
              "                                                                                                                                                                                                                                                                                      short_description  \\\n",
              "114787                                                                                                                                 Having come to a place in my career now that could be considered success, I've realized that success isn't for me. Now, before you write me off, let me explain.   \n",
              "180671  It's an interesting American paradox. People with my personality start big companies. Steve Jobs and Bill Gates are examples. Once the big companies get started, they never hire that same type of rebellious personality to work there. The few times I tried conforming, I failed miserably.   \n",
              "22186                                                                                                                                                                      For his smallish stature, Amazon Boss Jeff Bezos has a booming, uproarious laugh. Unleashed during workdays, its sonic burst   \n",
              "86747                                                                           There are some inspiring tales of self-made men within their midst. So as we celebrate the 239th anniversary of the adoption of the Declaration of Independence on July 4, here's a breakdown of some of their stories.   \n",
              "106756                                                                                           The fundamental question is one of fairness. Are artists being rightfully compensated for their contributions? And what about future artists? Will sufficient incentives exist for them to make music?   \n",
              "\n",
              "             date  year  \n",
              "114787 2014-08-14  2014  \n",
              "180671 2012-09-02  2012  \n",
              "22186  2017-07-06  2017  \n",
              "86747  2015-07-02  2015  \n",
              "106756 2014-11-14  2014  "
            ],
            "text/html": [
              "<div>\n",
              "<style scoped>\n",
              "    .dataframe tbody tr th:only-of-type {\n",
              "        vertical-align: middle;\n",
              "    }\n",
              "\n",
              "    .dataframe tbody tr th {\n",
              "        vertical-align: top;\n",
              "    }\n",
              "\n",
              "    .dataframe thead th {\n",
              "        text-align: right;\n",
              "    }\n",
              "</style>\n",
              "<table border=\"1\" class=\"dataframe\">\n",
              "  <thead>\n",
              "    <tr style=\"text-align: right;\">\n",
              "      <th></th>\n",
              "      <th>category</th>\n",
              "      <th>headline</th>\n",
              "      <th>authors</th>\n",
              "      <th>link</th>\n",
              "      <th>short_description</th>\n",
              "      <th>date</th>\n",
              "      <th>year</th>\n",
              "    </tr>\n",
              "  </thead>\n",
              "  <tbody>\n",
              "    <tr>\n",
              "      <th>114787</th>\n",
              "      <td>BUSINESS</td>\n",
              "      <td>Success Isn't for You</td>\n",
              "      <td>Chris Deaver, Contributor</td>\n",
              "      <td>https://www.huffingtonpost.com/entry/success-isnt-for-you_b_5674660.html</td>\n",
              "      <td>Having come to a place in my career now that could be considered success, I've realized that success isn't for me. Now, before you write me off, let me explain.</td>\n",
              "      <td>2014-08-14</td>\n",
              "      <td>2014</td>\n",
              "    </tr>\n",
              "    <tr>\n",
              "      <th>180671</th>\n",
              "      <td>BUSINESS</td>\n",
              "      <td>Key to Success: Embrace Being Different</td>\n",
              "      <td>Don McNay, Contributor\\nBest selling lottery and structured settlement expert</td>\n",
              "      <td>https://www.huffingtonpost.com/entry/success-embrace-being-different_us_5bb2d1dee4b0480ca65cb1b1</td>\n",
              "      <td>It's an interesting American paradox. People with my personality start big companies. Steve Jobs and Bill Gates are examples. Once the big companies get started, they never hire that same type of rebellious personality to work there. The few times I tried conforming, I failed miserably.</td>\n",
              "      <td>2012-09-02</td>\n",
              "      <td>2012</td>\n",
              "    </tr>\n",
              "    <tr>\n",
              "      <th>22186</th>\n",
              "      <td>BUSINESS</td>\n",
              "      <td>The Destructive Power Trips Of Amazonâ€™s Boss</td>\n",
              "      <td>Ralph Nader, ContributorConsumer advocate, lawyer and author</td>\n",
              "      <td>https://www.huffingtonpost.com/entry/the-destructive-power-trips-of-amazons-boss_us_595e7fd2e4b08f5c97d06803</td>\n",
              "      <td>For his smallish stature, Amazon Boss Jeff Bezos has a booming, uproarious laugh. Unleashed during workdays, its sonic burst</td>\n",
              "      <td>2017-07-06</td>\n",
              "      <td>2017</td>\n",
              "    </tr>\n",
              "    <tr>\n",
              "      <th>86747</th>\n",
              "      <td>BUSINESS</td>\n",
              "      <td>The Founding Fathers Were (Mostly) All Entrepreneurs</td>\n",
              "      <td>Bill Murphy Jr., Contributorcontact.billmurphyjr.com</td>\n",
              "      <td>https://www.huffingtonpost.com/entry/the-founding-fathers-were_b_7699806.html</td>\n",
              "      <td>There are some inspiring tales of self-made men within their midst. So as we celebrate the 239th anniversary of the adoption of the Declaration of Independence on July 4, here's a breakdown of some of their stories.</td>\n",
              "      <td>2015-07-02</td>\n",
              "      <td>2015</td>\n",
              "    </tr>\n",
              "    <tr>\n",
              "      <th>106756</th>\n",
              "      <td>BUSINESS</td>\n",
              "      <td>Is Spotify Fair to Musicians? A Chat With Mark Kelly</td>\n",
              "      <td>Phil Simon, ContributorSpeaker, author, professor</td>\n",
              "      <td>https://www.huffingtonpost.com/entry/is-spotify-fair-to-musici_b_6159866.html</td>\n",
              "      <td>The fundamental question is one of fairness. Are artists being rightfully compensated for their contributions? And what about future artists? Will sufficient incentives exist for them to make music?</td>\n",
              "      <td>2014-11-14</td>\n",
              "      <td>2014</td>\n",
              "    </tr>\n",
              "  </tbody>\n",
              "</table>\n",
              "</div>"
            ]
          },
          "metadata": {},
          "execution_count": 500
        }
      ]
    },
    {
      "cell_type": "code",
      "source": [
        "raw.loc[raw['category'] == 'MONEY'].sample(5)"
      ],
      "metadata": {
        "colab": {
          "base_uri": "https://localhost:8080/",
          "height": 415
        },
        "id": "U_7XYyiN7Tu1",
        "outputId": "4f76479e-6b95-4a8c-d6ef-d7ea1d8f383b"
      },
      "execution_count": null,
      "outputs": [
        {
          "output_type": "execute_result",
          "data": {
            "text/plain": [
              "       category  \\\n",
              "185645    MONEY   \n",
              "134680    MONEY   \n",
              "129036    MONEY   \n",
              "125241    MONEY   \n",
              "176194    MONEY   \n",
              "\n",
              "                                                                                         headline  \\\n",
              "185645                   Unemployment Benefits Mistakes Mean Americans Owe Government $14 Billion   \n",
              "134680                                            A Skewed Realty Reality, In Northern California   \n",
              "129036                                   Financial Animals: 8 Pets Who Can Teach Us Money Lessons   \n",
              "125241                                            5 Smart Ways to Spend (or Save) Your Tax Refund   \n",
              "176194  Housing, Transportation Costs Consume Majority Of Middle-Income Earners' Paychecks: Study   \n",
              "\n",
              "                                                                                   authors  \\\n",
              "185645                                                                     Bonnie Kavoussi   \n",
              "134680  Harvey Gotliffe, Ph.D., Contributor\\nEditor and publisher, The Ho-Ho-Kus Cogitator   \n",
              "129036                      LearnVest, Contributor\\nLearnVest is a program for your money.   \n",
              "125241                                                 Lisa Greene-Lewis, Contributor\\nCPA   \n",
              "176194                                                                       Catherine New   \n",
              "\n",
              "                                                                                                                                                      link  \\\n",
              "185645                                                      https://www.huffingtonpost.com/entry/unemployment-benefits-mistake_us_5b9bf928e4b03a1dcc7b7a5e   \n",
              "134680                                                    https://www.huffingtonpost.com/entry/northern-california-real-estate_us_5b9dbe3fe4b03a1dcc8c5235   \n",
              "129036                                                           https://www.huffingtonpost.com/entry/financial-animals-8-pets_us_5b9de7f7e4b03a1dcc8e8041   \n",
              "125241                                                      https://www.huffingtonpost.com/entry/5-smart-ways-to-spend-or-save_us_5b9dfc0fe4b03a1dcc8fea10   \n",
              "176194  https://www.huffingtonpost.com/entry/housing-transportation-costs-grew-faster-than-income-for-urban-middle-class-study_us_5b9c6d8fe4b03a1dcc7e8f1d   \n",
              "\n",
              "                                                                                                                                                                                                                                    short_description  \\\n",
              "185645                                                                                                                      Colorado, for one, accidentally overpaid $128 million in jobless benefits last year and now is asking those recipients to   \n",
              "134680                                                                                       According to Forbes magazine, the highest median home price in the nation is $6,665,231 in Zip Code 94027 in Atherton, just north of the Silicon Valley.   \n",
              "129036                                                                                                Despite their freedom from financial concerns, pets can actually teach us some useful lessons about what to do--and what not to do--with money.   \n",
              "125241  The first income tax day in U.S. history was on March 1, 1914. Four years later, Congress passed the \"Revenue Act,\" which moved tax day forward by two weeks to March 15, where it remained in effect until 1955. Why the change to April 15?   \n",
              "176194                                                                                                                       While Mitt Romney and President Barack Obama debate who's is going to help the middle class more, the two candidates are   \n",
              "\n",
              "             date  year  \n",
              "185645 2012-07-10  2012  \n",
              "134680 2014-01-03  2014  \n",
              "129036 2014-03-04  2014  \n",
              "125241 2014-04-15  2014  \n",
              "176194 2012-10-19  2012  "
            ],
            "text/html": [
              "<div>\n",
              "<style scoped>\n",
              "    .dataframe tbody tr th:only-of-type {\n",
              "        vertical-align: middle;\n",
              "    }\n",
              "\n",
              "    .dataframe tbody tr th {\n",
              "        vertical-align: top;\n",
              "    }\n",
              "\n",
              "    .dataframe thead th {\n",
              "        text-align: right;\n",
              "    }\n",
              "</style>\n",
              "<table border=\"1\" class=\"dataframe\">\n",
              "  <thead>\n",
              "    <tr style=\"text-align: right;\">\n",
              "      <th></th>\n",
              "      <th>category</th>\n",
              "      <th>headline</th>\n",
              "      <th>authors</th>\n",
              "      <th>link</th>\n",
              "      <th>short_description</th>\n",
              "      <th>date</th>\n",
              "      <th>year</th>\n",
              "    </tr>\n",
              "  </thead>\n",
              "  <tbody>\n",
              "    <tr>\n",
              "      <th>185645</th>\n",
              "      <td>MONEY</td>\n",
              "      <td>Unemployment Benefits Mistakes Mean Americans Owe Government $14 Billion</td>\n",
              "      <td>Bonnie Kavoussi</td>\n",
              "      <td>https://www.huffingtonpost.com/entry/unemployment-benefits-mistake_us_5b9bf928e4b03a1dcc7b7a5e</td>\n",
              "      <td>Colorado, for one, accidentally overpaid $128 million in jobless benefits last year and now is asking those recipients to</td>\n",
              "      <td>2012-07-10</td>\n",
              "      <td>2012</td>\n",
              "    </tr>\n",
              "    <tr>\n",
              "      <th>134680</th>\n",
              "      <td>MONEY</td>\n",
              "      <td>A Skewed Realty Reality, In Northern California</td>\n",
              "      <td>Harvey Gotliffe, Ph.D., Contributor\\nEditor and publisher, The Ho-Ho-Kus Cogitator</td>\n",
              "      <td>https://www.huffingtonpost.com/entry/northern-california-real-estate_us_5b9dbe3fe4b03a1dcc8c5235</td>\n",
              "      <td>According to Forbes magazine, the highest median home price in the nation is $6,665,231 in Zip Code 94027 in Atherton, just north of the Silicon Valley.</td>\n",
              "      <td>2014-01-03</td>\n",
              "      <td>2014</td>\n",
              "    </tr>\n",
              "    <tr>\n",
              "      <th>129036</th>\n",
              "      <td>MONEY</td>\n",
              "      <td>Financial Animals: 8 Pets Who Can Teach Us Money Lessons</td>\n",
              "      <td>LearnVest, Contributor\\nLearnVest is a program for your money.</td>\n",
              "      <td>https://www.huffingtonpost.com/entry/financial-animals-8-pets_us_5b9de7f7e4b03a1dcc8e8041</td>\n",
              "      <td>Despite their freedom from financial concerns, pets can actually teach us some useful lessons about what to do--and what not to do--with money.</td>\n",
              "      <td>2014-03-04</td>\n",
              "      <td>2014</td>\n",
              "    </tr>\n",
              "    <tr>\n",
              "      <th>125241</th>\n",
              "      <td>MONEY</td>\n",
              "      <td>5 Smart Ways to Spend (or Save) Your Tax Refund</td>\n",
              "      <td>Lisa Greene-Lewis, Contributor\\nCPA</td>\n",
              "      <td>https://www.huffingtonpost.com/entry/5-smart-ways-to-spend-or-save_us_5b9dfc0fe4b03a1dcc8fea10</td>\n",
              "      <td>The first income tax day in U.S. history was on March 1, 1914. Four years later, Congress passed the \"Revenue Act,\" which moved tax day forward by two weeks to March 15, where it remained in effect until 1955. Why the change to April 15?</td>\n",
              "      <td>2014-04-15</td>\n",
              "      <td>2014</td>\n",
              "    </tr>\n",
              "    <tr>\n",
              "      <th>176194</th>\n",
              "      <td>MONEY</td>\n",
              "      <td>Housing, Transportation Costs Consume Majority Of Middle-Income Earners' Paychecks: Study</td>\n",
              "      <td>Catherine New</td>\n",
              "      <td>https://www.huffingtonpost.com/entry/housing-transportation-costs-grew-faster-than-income-for-urban-middle-class-study_us_5b9c6d8fe4b03a1dcc7e8f1d</td>\n",
              "      <td>While Mitt Romney and President Barack Obama debate who's is going to help the middle class more, the two candidates are</td>\n",
              "      <td>2012-10-19</td>\n",
              "      <td>2012</td>\n",
              "    </tr>\n",
              "  </tbody>\n",
              "</table>\n",
              "</div>"
            ]
          },
          "metadata": {},
          "execution_count": 501
        }
      ]
    },
    {
      "cell_type": "code",
      "source": [
        "raw.loc[raw['category'] == 'PARENTS'].sample(5)"
      ],
      "metadata": {
        "colab": {
          "base_uri": "https://localhost:8080/",
          "height": 432
        },
        "id": "fmeoHSp3_Iln",
        "outputId": "1d710378-c9e9-4780-994c-77e2f45b3f2d"
      },
      "execution_count": null,
      "outputs": [
        {
          "output_type": "execute_result",
          "data": {
            "text/plain": [
              "       category  \\\n",
              "113092  PARENTS   \n",
              "114747  PARENTS   \n",
              "86080   PARENTS   \n",
              "24702   PARENTS   \n",
              "12291   PARENTS   \n",
              "\n",
              "                                                                          headline  \\\n",
              "113092  5 Differences Between The First Day of Senior Kindergarten and Junior High   \n",
              "114747                           Gentlemen, Welcome To The Work-Life Balance Convo   \n",
              "86080           Empowering Series Gives Princesses Lives Beyond Happily Ever After   \n",
              "24702          Mom's Emotional Note Captures The Guilt Of Parenting A Middle Child   \n",
              "12291             MC Hammer â€“ \"U Canâ€™t Touch This\" Parody | Donâ€™t Touch This   \n",
              "\n",
              "                                                                                            authors  \\\n",
              "113092  Katia Bishops, ContributorBlogger at iamthemilk.wordpress.com - a Wordpress recommended ...   \n",
              "114747   Karin Agness, ContributorSenior Fellow, IWF, and Founder and President, Network of enli...   \n",
              "86080                                                                                Taylor Pittman   \n",
              "24702                                                                              Caroline Bologna   \n",
              "12291                                                      Deva Dalporto , ContributorMyLifeSuckers   \n",
              "\n",
              "                                                                                                                                       link  \\\n",
              "113092       https://www.huffingtonpost.com/entry/5-differences-between-the-first-day-of-senior-kindergarten-and-junior-high_b_5750010.html   \n",
              "114747                                                        https://www.huffingtonpost.com/entry/gentlemen-welcome-to-the-_b_5673251.html   \n",
              "86080                                       https://www.huffingtonpost.com/entry/princesses-with-a-twist-series_us_559e954ce4b01c2162a5fef3   \n",
              "24702   https://www.huffingtonpost.com/entry/moms-emotional-note-captures-the-guilt-of-parenting-a-middle-child_us_5935c74de4b013c4816a50d8   \n",
              "12291                        https://www.huffingtonpost.com/entry/mc-hammer-u-cant-touch-this-parody-dont-touch_us_5a0346fde4b0204d0c171383   \n",
              "\n",
              "                                                                                                                                                                                                                    short_description  \\\n",
              "113092                                                                                                                \"Are you excited about the first day of school?\" asked no child ever. This is a question reserved for grownups.   \n",
              "114747  Too often, these discussions are one-sided. Maybe women are more comfortable talking about such personal challenges, but it seems that many of these conversations leave out that men face challenges in this regard as well.   \n",
              "86080                                                                                                       The usual fairy tale goes: Prince Charming sweeps a princess off her feet, they ride into the sunset and that's where the   \n",
              "24702                                                                                                                                                                                                                    \"I see you.\"   \n",
              "12291                                                                                                  Iâ€™ve been a HUGE MC Hammer fan since I was a kid and Iâ€™m so excited to get to parody his classic song U Canâ€™t Touch This   \n",
              "\n",
              "             date  year  \n",
              "113092 2014-09-02  2014  \n",
              "114747 2014-08-14  2014  \n",
              "86080  2015-07-09  2015  \n",
              "24702  2017-06-06  2017  \n",
              "12291  2017-11-08  2017  "
            ],
            "text/html": [
              "<div>\n",
              "<style scoped>\n",
              "    .dataframe tbody tr th:only-of-type {\n",
              "        vertical-align: middle;\n",
              "    }\n",
              "\n",
              "    .dataframe tbody tr th {\n",
              "        vertical-align: top;\n",
              "    }\n",
              "\n",
              "    .dataframe thead th {\n",
              "        text-align: right;\n",
              "    }\n",
              "</style>\n",
              "<table border=\"1\" class=\"dataframe\">\n",
              "  <thead>\n",
              "    <tr style=\"text-align: right;\">\n",
              "      <th></th>\n",
              "      <th>category</th>\n",
              "      <th>headline</th>\n",
              "      <th>authors</th>\n",
              "      <th>link</th>\n",
              "      <th>short_description</th>\n",
              "      <th>date</th>\n",
              "      <th>year</th>\n",
              "    </tr>\n",
              "  </thead>\n",
              "  <tbody>\n",
              "    <tr>\n",
              "      <th>113092</th>\n",
              "      <td>PARENTS</td>\n",
              "      <td>5 Differences Between The First Day of Senior Kindergarten and Junior High</td>\n",
              "      <td>Katia Bishops, ContributorBlogger at iamthemilk.wordpress.com - a Wordpress recommended ...</td>\n",
              "      <td>https://www.huffingtonpost.com/entry/5-differences-between-the-first-day-of-senior-kindergarten-and-junior-high_b_5750010.html</td>\n",
              "      <td>\"Are you excited about the first day of school?\" asked no child ever. This is a question reserved for grownups.</td>\n",
              "      <td>2014-09-02</td>\n",
              "      <td>2014</td>\n",
              "    </tr>\n",
              "    <tr>\n",
              "      <th>114747</th>\n",
              "      <td>PARENTS</td>\n",
              "      <td>Gentlemen, Welcome To The Work-Life Balance Convo</td>\n",
              "      <td>Karin Agness, ContributorSenior Fellow, IWF, and Founder and President, Network of enli...</td>\n",
              "      <td>https://www.huffingtonpost.com/entry/gentlemen-welcome-to-the-_b_5673251.html</td>\n",
              "      <td>Too often, these discussions are one-sided. Maybe women are more comfortable talking about such personal challenges, but it seems that many of these conversations leave out that men face challenges in this regard as well.</td>\n",
              "      <td>2014-08-14</td>\n",
              "      <td>2014</td>\n",
              "    </tr>\n",
              "    <tr>\n",
              "      <th>86080</th>\n",
              "      <td>PARENTS</td>\n",
              "      <td>Empowering Series Gives Princesses Lives Beyond Happily Ever After</td>\n",
              "      <td>Taylor Pittman</td>\n",
              "      <td>https://www.huffingtonpost.com/entry/princesses-with-a-twist-series_us_559e954ce4b01c2162a5fef3</td>\n",
              "      <td>The usual fairy tale goes: Prince Charming sweeps a princess off her feet, they ride into the sunset and that's where the</td>\n",
              "      <td>2015-07-09</td>\n",
              "      <td>2015</td>\n",
              "    </tr>\n",
              "    <tr>\n",
              "      <th>24702</th>\n",
              "      <td>PARENTS</td>\n",
              "      <td>Mom's Emotional Note Captures The Guilt Of Parenting A Middle Child</td>\n",
              "      <td>Caroline Bologna</td>\n",
              "      <td>https://www.huffingtonpost.com/entry/moms-emotional-note-captures-the-guilt-of-parenting-a-middle-child_us_5935c74de4b013c4816a50d8</td>\n",
              "      <td>\"I see you.\"</td>\n",
              "      <td>2017-06-06</td>\n",
              "      <td>2017</td>\n",
              "    </tr>\n",
              "    <tr>\n",
              "      <th>12291</th>\n",
              "      <td>PARENTS</td>\n",
              "      <td>MC Hammer â€“ \"U Canâ€™t Touch This\" Parody | Donâ€™t Touch This</td>\n",
              "      <td>Deva Dalporto , ContributorMyLifeSuckers</td>\n",
              "      <td>https://www.huffingtonpost.com/entry/mc-hammer-u-cant-touch-this-parody-dont-touch_us_5a0346fde4b0204d0c171383</td>\n",
              "      <td>Iâ€™ve been a HUGE MC Hammer fan since I was a kid and Iâ€™m so excited to get to parody his classic song U Canâ€™t Touch This</td>\n",
              "      <td>2017-11-08</td>\n",
              "      <td>2017</td>\n",
              "    </tr>\n",
              "  </tbody>\n",
              "</table>\n",
              "</div>"
            ]
          },
          "metadata": {},
          "execution_count": 502
        }
      ]
    },
    {
      "cell_type": "code",
      "source": [
        "raw.loc[raw['category'] == 'PARENTING'].sample(5)"
      ],
      "metadata": {
        "colab": {
          "base_uri": "https://localhost:8080/",
          "height": 415
        },
        "id": "y_R87JnW_VQq",
        "outputId": "cfe06a90-4f40-48a2-d3a2-5e04eaeec270"
      },
      "execution_count": null,
      "outputs": [
        {
          "output_type": "execute_result",
          "data": {
            "text/plain": [
              "         category  \\\n",
              "179579  PARENTING   \n",
              "186901  PARENTING   \n",
              "164693  PARENTING   \n",
              "144121  PARENTING   \n",
              "141343  PARENTING   \n",
              "\n",
              "                                                                             headline  \\\n",
              "179579  Preschool Gems: Portland Teacher Leslie McCollom On Her Twitter Feed And Book   \n",
              "186901                                                       Special Needs Crossroads   \n",
              "164693            What Were They Thinking?! Weird & Just Plain Inappropriate Kid Toys   \n",
              "144121                                         Tips For Quick and Easy Family Dinners   \n",
              "141343        Motherhood in the Workplace: I Was Asked to Tone-Down the 'Mommy Thing'   \n",
              "\n",
              "                                                                                             authors  \\\n",
              "179579                                                                                           NaN   \n",
              "186901                                              Leda Natkin Nelis, Contributor\\nFreelance writer   \n",
              "164693    Babble.com, Contributor\\nReal parents sharing real moments that help you think, help yo...   \n",
              "144121  Anjali Varma, Contributor\\nThe Modern Mompreneur | l Owner, Kidville Bethesda I YouTube H...   \n",
              "141343   Nicole Dash, Contributor\\nWriter, blogger and entrepreneur who unapologetically puts fam...   \n",
              "\n",
              "                                                                                                           link  \\\n",
              "179579                          https://www.huffingtonpost.com/entry/preschool-gems_us_5b9c28e9e4b03a1dcc7cb8e5   \n",
              "186901                           https://www.huffingtonpost.com/entry/special-needs_us_5b9be8e4e4b03a1dcc7b0f4d   \n",
              "164693            https://www.huffingtonpost.com/entry/weird-and-inappropriate-toys_us_5b9cd73de4b03a1dcc82528c   \n",
              "144121  https://www.huffingtonpost.com/entry/tips-for-quick-and-easy-family-dinners_us_5b9d8b92e4b03a1dcc895ab4   \n",
              "141343             https://www.huffingtonpost.com/entry/motherhood-in-the-workplace_us_5b9d9c97e4b03a1dcc8a3757   \n",
              "\n",
              "                                                                                                                                                                                                                                                               short_description  \\\n",
              "179579                                                                                                                                               If her school seems like particularly fertile ground for crazy kid talk, it may have something to do with Portland. Toddler   \n",
              "186901                                                                                             No one holds your hand when you are a special needs parent. No one leads you through the tangled web of diagnoses, treatment plans, nutritional input and educational advice.   \n",
              "164693                                                                                                                                                                                            Here are five kids' toys that will have you asking, \"What were they thinking?\"   \n",
              "144121  All busy moms have faced this all-too-familiar scenario: it's 6:00, the kids are starving, you're exhausted and you have no idea what you're serving for dinner tonight! Couple that with an empty pantry or fridge and a picky eater and it is a \"recipe\" for disaster.   \n",
              "141343                       My children are everything to me and being a mother is a huge part of my identity. It has been for almost 15 years. That is except for the one year I was asked by my former boss, who also happened to be a woman, to tone down the \"mommy thing.\"   \n",
              "\n",
              "             date  year  \n",
              "179579 2012-09-13  2012  \n",
              "186901 2012-06-26  2012  \n",
              "164693 2013-02-20  2013  \n",
              "144121 2013-09-25  2013  \n",
              "141343 2013-10-24  2013  "
            ],
            "text/html": [
              "<div>\n",
              "<style scoped>\n",
              "    .dataframe tbody tr th:only-of-type {\n",
              "        vertical-align: middle;\n",
              "    }\n",
              "\n",
              "    .dataframe tbody tr th {\n",
              "        vertical-align: top;\n",
              "    }\n",
              "\n",
              "    .dataframe thead th {\n",
              "        text-align: right;\n",
              "    }\n",
              "</style>\n",
              "<table border=\"1\" class=\"dataframe\">\n",
              "  <thead>\n",
              "    <tr style=\"text-align: right;\">\n",
              "      <th></th>\n",
              "      <th>category</th>\n",
              "      <th>headline</th>\n",
              "      <th>authors</th>\n",
              "      <th>link</th>\n",
              "      <th>short_description</th>\n",
              "      <th>date</th>\n",
              "      <th>year</th>\n",
              "    </tr>\n",
              "  </thead>\n",
              "  <tbody>\n",
              "    <tr>\n",
              "      <th>179579</th>\n",
              "      <td>PARENTING</td>\n",
              "      <td>Preschool Gems: Portland Teacher Leslie McCollom On Her Twitter Feed And Book</td>\n",
              "      <td>NaN</td>\n",
              "      <td>https://www.huffingtonpost.com/entry/preschool-gems_us_5b9c28e9e4b03a1dcc7cb8e5</td>\n",
              "      <td>If her school seems like particularly fertile ground for crazy kid talk, it may have something to do with Portland. Toddler</td>\n",
              "      <td>2012-09-13</td>\n",
              "      <td>2012</td>\n",
              "    </tr>\n",
              "    <tr>\n",
              "      <th>186901</th>\n",
              "      <td>PARENTING</td>\n",
              "      <td>Special Needs Crossroads</td>\n",
              "      <td>Leda Natkin Nelis, Contributor\\nFreelance writer</td>\n",
              "      <td>https://www.huffingtonpost.com/entry/special-needs_us_5b9be8e4e4b03a1dcc7b0f4d</td>\n",
              "      <td>No one holds your hand when you are a special needs parent. No one leads you through the tangled web of diagnoses, treatment plans, nutritional input and educational advice.</td>\n",
              "      <td>2012-06-26</td>\n",
              "      <td>2012</td>\n",
              "    </tr>\n",
              "    <tr>\n",
              "      <th>164693</th>\n",
              "      <td>PARENTING</td>\n",
              "      <td>What Were They Thinking?! Weird &amp; Just Plain Inappropriate Kid Toys</td>\n",
              "      <td>Babble.com, Contributor\\nReal parents sharing real moments that help you think, help yo...</td>\n",
              "      <td>https://www.huffingtonpost.com/entry/weird-and-inappropriate-toys_us_5b9cd73de4b03a1dcc82528c</td>\n",
              "      <td>Here are five kids' toys that will have you asking, \"What were they thinking?\"</td>\n",
              "      <td>2013-02-20</td>\n",
              "      <td>2013</td>\n",
              "    </tr>\n",
              "    <tr>\n",
              "      <th>144121</th>\n",
              "      <td>PARENTING</td>\n",
              "      <td>Tips For Quick and Easy Family Dinners</td>\n",
              "      <td>Anjali Varma, Contributor\\nThe Modern Mompreneur | l Owner, Kidville Bethesda I YouTube H...</td>\n",
              "      <td>https://www.huffingtonpost.com/entry/tips-for-quick-and-easy-family-dinners_us_5b9d8b92e4b03a1dcc895ab4</td>\n",
              "      <td>All busy moms have faced this all-too-familiar scenario: it's 6:00, the kids are starving, you're exhausted and you have no idea what you're serving for dinner tonight! Couple that with an empty pantry or fridge and a picky eater and it is a \"recipe\" for disaster.</td>\n",
              "      <td>2013-09-25</td>\n",
              "      <td>2013</td>\n",
              "    </tr>\n",
              "    <tr>\n",
              "      <th>141343</th>\n",
              "      <td>PARENTING</td>\n",
              "      <td>Motherhood in the Workplace: I Was Asked to Tone-Down the 'Mommy Thing'</td>\n",
              "      <td>Nicole Dash, Contributor\\nWriter, blogger and entrepreneur who unapologetically puts fam...</td>\n",
              "      <td>https://www.huffingtonpost.com/entry/motherhood-in-the-workplace_us_5b9d9c97e4b03a1dcc8a3757</td>\n",
              "      <td>My children are everything to me and being a mother is a huge part of my identity. It has been for almost 15 years. That is except for the one year I was asked by my former boss, who also happened to be a woman, to tone down the \"mommy thing.\"</td>\n",
              "      <td>2013-10-24</td>\n",
              "      <td>2013</td>\n",
              "    </tr>\n",
              "  </tbody>\n",
              "</table>\n",
              "</div>"
            ]
          },
          "metadata": {},
          "execution_count": 503
        }
      ]
    },
    {
      "cell_type": "code",
      "source": [
        "raw.loc[raw['category'] == 'TASTE'].sample(5)"
      ],
      "metadata": {
        "colab": {
          "base_uri": "https://localhost:8080/",
          "height": 345
        },
        "id": "6tlypDtz_lu0",
        "outputId": "79f4490e-c317-46f4-ca19-96a2f3804b59"
      },
      "execution_count": null,
      "outputs": [
        {
          "output_type": "execute_result",
          "data": {
            "text/plain": [
              "       category  \\\n",
              "73176     TASTE   \n",
              "71298     TASTE   \n",
              "110945    TASTE   \n",
              "26009     TASTE   \n",
              "116872    TASTE   \n",
              "\n",
              "                                                                headline  \\\n",
              "73176           Star Wars Ice Cream Is A Delicious Trip To The Dark Side   \n",
              "71298                              5 Super Easy Christmas Cookie Recipes   \n",
              "110945                     A Chat With Javier Lo Forte of Pulenta Estate   \n",
              "26009   From Bulgaria to East Asia, the making of Japan's yogurt culture   \n",
              "116872                 Why Guy Savoy Should Be Your Favorite 3-Star Chef   \n",
              "\n",
              "                                                                                                      authors  \\\n",
              "73176                                                                                           Suzy Strutner   \n",
              "71298                                                                                             Minou Clark   \n",
              "110945                                           Daniel Altman, ContributorOwner, Argovino; Economist; Author   \n",
              "26009   The Conversation Global, ContributorThe Conversation is a collaboration between editors and academ...   \n",
              "116872                                  Gitanjali Roche, ContributorFood writer and editor of Gourmandize.com   \n",
              "\n",
              "                                                                                                                           link  \\\n",
              "73176                          https://www.huffingtonpost.com/entry/star-wars-ice-cream-ample-hills_us_565ef83fe4b079b2818c9ba1   \n",
              "71298                            https://www.huffingtonpost.com/entry/easy-christmas-cookie-recipes_us_56786f90e4b0b958f6579809   \n",
              "110945                                            https://www.huffingtonpost.com/entry/a-chat-with-javier-lo-for_b_5890446.html   \n",
              "26009   https://www.huffingtonpost.com/entry/from-bulgaria-to-east-asia-the-making-of-japans-yogurt_us_59235128e4b07617ae4cbebb   \n",
              "116872                                            https://www.huffingtonpost.com/entry/why-guy-savoy-should-be-y_b_5537899.html   \n",
              "\n",
              "                                                                                                                         short_description  \\\n",
              "73176                                                                                                      Prepare for ice cream \"clones.\"   \n",
              "71298                                                                                              Santa won't be able to resist. ðŸªðŸŽ„   \n",
              "110945                                                               Have you ever heard of a winery whose guiding principle was humility?   \n",
              "26009                                                                 One of Japanâ€™s biggest food trends right now is Bulgarian yoghurt.   \n",
              "116872  For Guy Savoy, it's all about feeding people -- the intensely intimate, powerful act of preparing something that will be consumed.   \n",
              "\n",
              "             date  year  \n",
              "73176  2015-12-02  2015  \n",
              "71298  2015-12-23  2015  \n",
              "110945 2014-09-26  2014  \n",
              "26009  2017-05-22  2017  \n",
              "116872 2014-07-21  2014  "
            ],
            "text/html": [
              "<div>\n",
              "<style scoped>\n",
              "    .dataframe tbody tr th:only-of-type {\n",
              "        vertical-align: middle;\n",
              "    }\n",
              "\n",
              "    .dataframe tbody tr th {\n",
              "        vertical-align: top;\n",
              "    }\n",
              "\n",
              "    .dataframe thead th {\n",
              "        text-align: right;\n",
              "    }\n",
              "</style>\n",
              "<table border=\"1\" class=\"dataframe\">\n",
              "  <thead>\n",
              "    <tr style=\"text-align: right;\">\n",
              "      <th></th>\n",
              "      <th>category</th>\n",
              "      <th>headline</th>\n",
              "      <th>authors</th>\n",
              "      <th>link</th>\n",
              "      <th>short_description</th>\n",
              "      <th>date</th>\n",
              "      <th>year</th>\n",
              "    </tr>\n",
              "  </thead>\n",
              "  <tbody>\n",
              "    <tr>\n",
              "      <th>73176</th>\n",
              "      <td>TASTE</td>\n",
              "      <td>Star Wars Ice Cream Is A Delicious Trip To The Dark Side</td>\n",
              "      <td>Suzy Strutner</td>\n",
              "      <td>https://www.huffingtonpost.com/entry/star-wars-ice-cream-ample-hills_us_565ef83fe4b079b2818c9ba1</td>\n",
              "      <td>Prepare for ice cream \"clones.\"</td>\n",
              "      <td>2015-12-02</td>\n",
              "      <td>2015</td>\n",
              "    </tr>\n",
              "    <tr>\n",
              "      <th>71298</th>\n",
              "      <td>TASTE</td>\n",
              "      <td>5 Super Easy Christmas Cookie Recipes</td>\n",
              "      <td>Minou Clark</td>\n",
              "      <td>https://www.huffingtonpost.com/entry/easy-christmas-cookie-recipes_us_56786f90e4b0b958f6579809</td>\n",
              "      <td>Santa won't be able to resist. ðŸªðŸŽ„</td>\n",
              "      <td>2015-12-23</td>\n",
              "      <td>2015</td>\n",
              "    </tr>\n",
              "    <tr>\n",
              "      <th>110945</th>\n",
              "      <td>TASTE</td>\n",
              "      <td>A Chat With Javier Lo Forte of Pulenta Estate</td>\n",
              "      <td>Daniel Altman, ContributorOwner, Argovino; Economist; Author</td>\n",
              "      <td>https://www.huffingtonpost.com/entry/a-chat-with-javier-lo-for_b_5890446.html</td>\n",
              "      <td>Have you ever heard of a winery whose guiding principle was humility?</td>\n",
              "      <td>2014-09-26</td>\n",
              "      <td>2014</td>\n",
              "    </tr>\n",
              "    <tr>\n",
              "      <th>26009</th>\n",
              "      <td>TASTE</td>\n",
              "      <td>From Bulgaria to East Asia, the making of Japan's yogurt culture</td>\n",
              "      <td>The Conversation Global, ContributorThe Conversation is a collaboration between editors and academ...</td>\n",
              "      <td>https://www.huffingtonpost.com/entry/from-bulgaria-to-east-asia-the-making-of-japans-yogurt_us_59235128e4b07617ae4cbebb</td>\n",
              "      <td>One of Japanâ€™s biggest food trends right now is Bulgarian yoghurt.</td>\n",
              "      <td>2017-05-22</td>\n",
              "      <td>2017</td>\n",
              "    </tr>\n",
              "    <tr>\n",
              "      <th>116872</th>\n",
              "      <td>TASTE</td>\n",
              "      <td>Why Guy Savoy Should Be Your Favorite 3-Star Chef</td>\n",
              "      <td>Gitanjali Roche, ContributorFood writer and editor of Gourmandize.com</td>\n",
              "      <td>https://www.huffingtonpost.com/entry/why-guy-savoy-should-be-y_b_5537899.html</td>\n",
              "      <td>For Guy Savoy, it's all about feeding people -- the intensely intimate, powerful act of preparing something that will be consumed.</td>\n",
              "      <td>2014-07-21</td>\n",
              "      <td>2014</td>\n",
              "    </tr>\n",
              "  </tbody>\n",
              "</table>\n",
              "</div>"
            ]
          },
          "metadata": {},
          "execution_count": 504
        }
      ]
    },
    {
      "cell_type": "code",
      "source": [
        "raw.loc[raw['category'] == 'MEDIA'].sample(5)"
      ],
      "metadata": {
        "colab": {
          "base_uri": "https://localhost:8080/",
          "height": 293
        },
        "id": "uoGLbZz-_xoC",
        "outputId": "60ab2f70-36f3-4936-870a-6ab0229685a3"
      },
      "execution_count": null,
      "outputs": [
        {
          "output_type": "execute_result",
          "data": {
            "text/plain": [
              "      category  \\\n",
              "41333    MEDIA   \n",
              "78353    MEDIA   \n",
              "9140     MEDIA   \n",
              "28058    MEDIA   \n",
              "82381    MEDIA   \n",
              "\n",
              "                                                                           headline  \\\n",
              "41333  Media Helps Boost Donald Trump's False Claim That 'Millions' Voted Illegally   \n",
              "78353      RedState Names Leon Wolf Managing Editor As Erick Erickson Prepares Exit   \n",
              "9140               Bill O'Reilly's Latest Conspiracy Theory Is His Weirdest One Yet   \n",
              "28058          Fox News Breaks With AP And Top TV Networks For Election Day Polling   \n",
              "82381             Politico Denies Unionizing Effort Was Behind Reporter's Departure   \n",
              "\n",
              "                 authors  \\\n",
              "41333  Michael Calderone   \n",
              "78353  Michael Calderone   \n",
              "9140            Ed Mazza   \n",
              "28058  Michael Calderone   \n",
              "82381  Michael Calderone   \n",
              "\n",
              "                                                                                                                  link  \\\n",
              "41333  https://www.huffingtonpost.com/entry/donald-trump-false-claim-millions-popular-vote_us_583b5ed0e4b09b605600e42a   \n",
              "78353               https://www.huffingtonpost.com/entry/redstate-leon-wolf-erick-erickson_us_5612acdce4b0dd85030cb569   \n",
              "9140          https://www.huffingtonpost.com/entry/bill-oreilly-clothing-conspiracy-theory_us_5a39c875e4b06d1621b05251   \n",
              "28058                    https://www.huffingtonpost.com/entry/fox-news-exit-polls-election_us_590265f7e4b05c39767d4190   \n",
              "82381                    https://www.huffingtonpost.com/entry/politico-unionizing-mike-elk_us_55d632ffe4b0ab468da06558   \n",
              "\n",
              "                                                                                                                   short_description  \\\n",
              "41333                       Newsrooms are still coming to grips with a soon-to-be-president able to distract and distort on Twitter.   \n",
              "78353                                                       The influential conservative writer will focus more on his radio career.   \n",
              "9140                                             The former Fox News host's fashion-related \"tip of the day\" didn't go over so well.   \n",
              "28058  The network quits an exit poll consortium amid concerns about the process that led to expectations Hillary Clinton would win.   \n",
              "82381                                                                 The company says remaining staff members are free to organize.   \n",
              "\n",
              "            date  year  \n",
              "41333 2016-11-28  2016  \n",
              "78353 2015-10-05  2015  \n",
              "9140  2017-12-20  2017  \n",
              "28058 2017-04-28  2017  \n",
              "82381 2015-08-20  2015  "
            ],
            "text/html": [
              "<div>\n",
              "<style scoped>\n",
              "    .dataframe tbody tr th:only-of-type {\n",
              "        vertical-align: middle;\n",
              "    }\n",
              "\n",
              "    .dataframe tbody tr th {\n",
              "        vertical-align: top;\n",
              "    }\n",
              "\n",
              "    .dataframe thead th {\n",
              "        text-align: right;\n",
              "    }\n",
              "</style>\n",
              "<table border=\"1\" class=\"dataframe\">\n",
              "  <thead>\n",
              "    <tr style=\"text-align: right;\">\n",
              "      <th></th>\n",
              "      <th>category</th>\n",
              "      <th>headline</th>\n",
              "      <th>authors</th>\n",
              "      <th>link</th>\n",
              "      <th>short_description</th>\n",
              "      <th>date</th>\n",
              "      <th>year</th>\n",
              "    </tr>\n",
              "  </thead>\n",
              "  <tbody>\n",
              "    <tr>\n",
              "      <th>41333</th>\n",
              "      <td>MEDIA</td>\n",
              "      <td>Media Helps Boost Donald Trump's False Claim That 'Millions' Voted Illegally</td>\n",
              "      <td>Michael Calderone</td>\n",
              "      <td>https://www.huffingtonpost.com/entry/donald-trump-false-claim-millions-popular-vote_us_583b5ed0e4b09b605600e42a</td>\n",
              "      <td>Newsrooms are still coming to grips with a soon-to-be-president able to distract and distort on Twitter.</td>\n",
              "      <td>2016-11-28</td>\n",
              "      <td>2016</td>\n",
              "    </tr>\n",
              "    <tr>\n",
              "      <th>78353</th>\n",
              "      <td>MEDIA</td>\n",
              "      <td>RedState Names Leon Wolf Managing Editor As Erick Erickson Prepares Exit</td>\n",
              "      <td>Michael Calderone</td>\n",
              "      <td>https://www.huffingtonpost.com/entry/redstate-leon-wolf-erick-erickson_us_5612acdce4b0dd85030cb569</td>\n",
              "      <td>The influential conservative writer will focus more on his radio career.</td>\n",
              "      <td>2015-10-05</td>\n",
              "      <td>2015</td>\n",
              "    </tr>\n",
              "    <tr>\n",
              "      <th>9140</th>\n",
              "      <td>MEDIA</td>\n",
              "      <td>Bill O'Reilly's Latest Conspiracy Theory Is His Weirdest One Yet</td>\n",
              "      <td>Ed Mazza</td>\n",
              "      <td>https://www.huffingtonpost.com/entry/bill-oreilly-clothing-conspiracy-theory_us_5a39c875e4b06d1621b05251</td>\n",
              "      <td>The former Fox News host's fashion-related \"tip of the day\" didn't go over so well.</td>\n",
              "      <td>2017-12-20</td>\n",
              "      <td>2017</td>\n",
              "    </tr>\n",
              "    <tr>\n",
              "      <th>28058</th>\n",
              "      <td>MEDIA</td>\n",
              "      <td>Fox News Breaks With AP And Top TV Networks For Election Day Polling</td>\n",
              "      <td>Michael Calderone</td>\n",
              "      <td>https://www.huffingtonpost.com/entry/fox-news-exit-polls-election_us_590265f7e4b05c39767d4190</td>\n",
              "      <td>The network quits an exit poll consortium amid concerns about the process that led to expectations Hillary Clinton would win.</td>\n",
              "      <td>2017-04-28</td>\n",
              "      <td>2017</td>\n",
              "    </tr>\n",
              "    <tr>\n",
              "      <th>82381</th>\n",
              "      <td>MEDIA</td>\n",
              "      <td>Politico Denies Unionizing Effort Was Behind Reporter's Departure</td>\n",
              "      <td>Michael Calderone</td>\n",
              "      <td>https://www.huffingtonpost.com/entry/politico-unionizing-mike-elk_us_55d632ffe4b0ab468da06558</td>\n",
              "      <td>The company says remaining staff members are free to organize.</td>\n",
              "      <td>2015-08-20</td>\n",
              "      <td>2015</td>\n",
              "    </tr>\n",
              "  </tbody>\n",
              "</table>\n",
              "</div>"
            ]
          },
          "metadata": {},
          "execution_count": 505
        }
      ]
    },
    {
      "cell_type": "code",
      "source": [
        "raw.loc[raw['category'] == 'WORLDPOST'].sample(5)"
      ],
      "metadata": {
        "colab": {
          "base_uri": "https://localhost:8080/",
          "height": 553
        },
        "id": "FCwr1TgWA4Xr",
        "outputId": "406f0759-eb72-4030-deef-4e1b97453c74"
      },
      "execution_count": null,
      "outputs": [
        {
          "output_type": "execute_result",
          "data": {
            "text/plain": [
              "         category  \\\n",
              "114694  WORLDPOST   \n",
              "114577  WORLDPOST   \n",
              "118360  WORLDPOST   \n",
              "99686   WORLDPOST   \n",
              "113269  WORLDPOST   \n",
              "\n",
              "                                                                                         headline  \\\n",
              "114694                                             Weekend Roundup: Not Doing Stupid Sh*t in Iraq   \n",
              "114577  A Dear Jon (Voight) Letter About Gaza and the History of the Israeli-Palestinian Conflict   \n",
              "118360                                                                It's Time Kyiv Got It Right   \n",
              "99686                                                       Israel: Beyond a Black and White View   \n",
              "113269                            Margarita Murillo: Another Victim of Neoliberalism in Honduras?   \n",
              "\n",
              "                                                                                       authors  \\\n",
              "114694                               Nathan Gardels, ContributorEditor-in-chief, The WorldPost   \n",
              "114577   Mark Levine, ContributorAuthor; Professor, Middle Eastern History, UC Irvine & Cen...   \n",
              "118360  Brian Dooley, ContributorDirector, Human Rights First's Human Rights Defenders Program   \n",
              "99686                                       Diego Quezada, ContributorStudent, Duke University   \n",
              "113269                                      Marco CÃ¡ceres, ContributorEditor, Honduras Weekly   \n",
              "\n",
              "                                                                                 link  \\\n",
              "114694         https://www.huffingtonpost.com/entry/weekend-roundup-29_b_5683395.html   \n",
              "114577  https://www.huffingtonpost.com/entry/a-dear-jon-voight-letter-_b_5676282.html   \n",
              "118360  https://www.huffingtonpost.com/entry/its-time-kyiv-got-it-righ_b_5560433.html   \n",
              "99686   https://www.huffingtonpost.com/entry/israel-beyond-a-black-and_b_6607034.html   \n",
              "113269  https://www.huffingtonpost.com/entry/margarita-murillo-another_b_5744476.html   \n",
              "\n",
              "                                                                                                                                                                                                                                                                                                                                                                                                                                                                                                                                                                                                                                                                                                                                                                                                                                                                             short_description  \\\n",
              "114694  Keeping to his credo of \"don't do stupid sh*t,\" President Barack Obama sent in fighter planes to prevent ISIS from its genocidal assault on fleeing Yazidi refugees in northern Iraq, while also making it clear that the U.S. can just do so much. Only \"inclusive\" and \"non-maximalist\" governments in the Middle East, not deeper American intervention, he said in interviews this week, can ever stabilize the region. Peter Galbraith hailed this move against genocide as \"The Obama Doctrine.\" Adel Guindy, an Egyptian Copt leader, called on the UN to live up to its pledge of \"never again\" to protect religious and ethnic minorities persecuted by those practicing ISIS' brand of Sunni fundamentalism. And WorldPost Middle East Correspondent Sophia Jones recounted the harrowing stories of Yazidi families that found their way to the Turkish border. (continued)   \n",
              "114577                                                                                                                                                                                                                                                                                                                                                                                                                                                                                                                                                                                                 Your passion for defending Israel is clearly as great as your passion for acting. However, behind your passion is a view of Israel's history and current actions that are utterly at odds with the actual history and present-day realities in the country. They are simply dead-wrong.   \n",
              "118360                                                                                                                                                                                                                                                                                                                                                                                                                                                                                                                                                                                                                      Working with local LGBT activists from Mozaika in Latvia, I was lucky enough to be part of the early Riga Pride marches there from 2006, and in the first pride march in Lithuanian capital Vilnius in 2010. Those Baltic Pride events have proved a huge success.   \n",
              "99686                                                                                                                                                                                                                                                                                                                                                                                                                                                                                                                                                                                                                                                                          We will all become closer to achieving peace - as Israelis, Palestinians or concerned members of the international community - if we refrain from intransigence and instead take all perspectives into account.   \n",
              "113269                                                                                                                                                                                                                                                                                                                                                                                                                                                                                                                                                                                                                                   Land disputes between peasants and large landowners in Honduras go back decades. Agrarian reform has been perhaps the most contentious issue for any Honduran government to deal with since the 1950s and 1960s, and certainly the biggest challenge.   \n",
              "\n",
              "             date  year  \n",
              "114694 2014-08-15  2014  \n",
              "114577 2014-08-16  2014  \n",
              "118360 2014-07-05  2014  \n",
              "99686  2015-02-03  2015  \n",
              "113269 2014-08-31  2014  "
            ],
            "text/html": [
              "<div>\n",
              "<style scoped>\n",
              "    .dataframe tbody tr th:only-of-type {\n",
              "        vertical-align: middle;\n",
              "    }\n",
              "\n",
              "    .dataframe tbody tr th {\n",
              "        vertical-align: top;\n",
              "    }\n",
              "\n",
              "    .dataframe thead th {\n",
              "        text-align: right;\n",
              "    }\n",
              "</style>\n",
              "<table border=\"1\" class=\"dataframe\">\n",
              "  <thead>\n",
              "    <tr style=\"text-align: right;\">\n",
              "      <th></th>\n",
              "      <th>category</th>\n",
              "      <th>headline</th>\n",
              "      <th>authors</th>\n",
              "      <th>link</th>\n",
              "      <th>short_description</th>\n",
              "      <th>date</th>\n",
              "      <th>year</th>\n",
              "    </tr>\n",
              "  </thead>\n",
              "  <tbody>\n",
              "    <tr>\n",
              "      <th>114694</th>\n",
              "      <td>WORLDPOST</td>\n",
              "      <td>Weekend Roundup: Not Doing Stupid Sh*t in Iraq</td>\n",
              "      <td>Nathan Gardels, ContributorEditor-in-chief, The WorldPost</td>\n",
              "      <td>https://www.huffingtonpost.com/entry/weekend-roundup-29_b_5683395.html</td>\n",
              "      <td>Keeping to his credo of \"don't do stupid sh*t,\" President Barack Obama sent in fighter planes to prevent ISIS from its genocidal assault on fleeing Yazidi refugees in northern Iraq, while also making it clear that the U.S. can just do so much. Only \"inclusive\" and \"non-maximalist\" governments in the Middle East, not deeper American intervention, he said in interviews this week, can ever stabilize the region. Peter Galbraith hailed this move against genocide as \"The Obama Doctrine.\" Adel Guindy, an Egyptian Copt leader, called on the UN to live up to its pledge of \"never again\" to protect religious and ethnic minorities persecuted by those practicing ISIS' brand of Sunni fundamentalism. And WorldPost Middle East Correspondent Sophia Jones recounted the harrowing stories of Yazidi families that found their way to the Turkish border. (continued)</td>\n",
              "      <td>2014-08-15</td>\n",
              "      <td>2014</td>\n",
              "    </tr>\n",
              "    <tr>\n",
              "      <th>114577</th>\n",
              "      <td>WORLDPOST</td>\n",
              "      <td>A Dear Jon (Voight) Letter About Gaza and the History of the Israeli-Palestinian Conflict</td>\n",
              "      <td>Mark Levine, ContributorAuthor; Professor, Middle Eastern History, UC Irvine &amp; Cen...</td>\n",
              "      <td>https://www.huffingtonpost.com/entry/a-dear-jon-voight-letter-_b_5676282.html</td>\n",
              "      <td>Your passion for defending Israel is clearly as great as your passion for acting. However, behind your passion is a view of Israel's history and current actions that are utterly at odds with the actual history and present-day realities in the country. They are simply dead-wrong.</td>\n",
              "      <td>2014-08-16</td>\n",
              "      <td>2014</td>\n",
              "    </tr>\n",
              "    <tr>\n",
              "      <th>118360</th>\n",
              "      <td>WORLDPOST</td>\n",
              "      <td>It's Time Kyiv Got It Right</td>\n",
              "      <td>Brian Dooley, ContributorDirector, Human Rights First's Human Rights Defenders Program</td>\n",
              "      <td>https://www.huffingtonpost.com/entry/its-time-kyiv-got-it-righ_b_5560433.html</td>\n",
              "      <td>Working with local LGBT activists from Mozaika in Latvia, I was lucky enough to be part of the early Riga Pride marches there from 2006, and in the first pride march in Lithuanian capital Vilnius in 2010. Those Baltic Pride events have proved a huge success.</td>\n",
              "      <td>2014-07-05</td>\n",
              "      <td>2014</td>\n",
              "    </tr>\n",
              "    <tr>\n",
              "      <th>99686</th>\n",
              "      <td>WORLDPOST</td>\n",
              "      <td>Israel: Beyond a Black and White View</td>\n",
              "      <td>Diego Quezada, ContributorStudent, Duke University</td>\n",
              "      <td>https://www.huffingtonpost.com/entry/israel-beyond-a-black-and_b_6607034.html</td>\n",
              "      <td>We will all become closer to achieving peace - as Israelis, Palestinians or concerned members of the international community - if we refrain from intransigence and instead take all perspectives into account.</td>\n",
              "      <td>2015-02-03</td>\n",
              "      <td>2015</td>\n",
              "    </tr>\n",
              "    <tr>\n",
              "      <th>113269</th>\n",
              "      <td>WORLDPOST</td>\n",
              "      <td>Margarita Murillo: Another Victim of Neoliberalism in Honduras?</td>\n",
              "      <td>Marco CÃ¡ceres, ContributorEditor, Honduras Weekly</td>\n",
              "      <td>https://www.huffingtonpost.com/entry/margarita-murillo-another_b_5744476.html</td>\n",
              "      <td>Land disputes between peasants and large landowners in Honduras go back decades. Agrarian reform has been perhaps the most contentious issue for any Honduran government to deal with since the 1950s and 1960s, and certainly the biggest challenge.</td>\n",
              "      <td>2014-08-31</td>\n",
              "      <td>2014</td>\n",
              "    </tr>\n",
              "  </tbody>\n",
              "</table>\n",
              "</div>"
            ]
          },
          "metadata": {},
          "execution_count": 506
        }
      ]
    },
    {
      "cell_type": "code",
      "source": [
        "raw.loc[raw['category'] == 'THE WORLDPOST'].sample(5)"
      ],
      "metadata": {
        "colab": {
          "base_uri": "https://localhost:8080/",
          "height": 310
        },
        "id": "CMKCeMtFBKhf",
        "outputId": "6497103b-c257-4355-80be-5da7d5a549eb"
      },
      "execution_count": null,
      "outputs": [
        {
          "output_type": "execute_result",
          "data": {
            "text/plain": [
              "            category  \\\n",
              "38648  THE WORLDPOST   \n",
              "55037  THE WORLDPOST   \n",
              "32041  THE WORLDPOST   \n",
              "57422  THE WORLDPOST   \n",
              "73571  THE WORLDPOST   \n",
              "\n",
              "                                                                               headline  \\\n",
              "38648                  Argentina Reopens Case Accusing Ex-President Of Bombing Cover Up   \n",
              "55037                        Britons Turn To Poetry To Express Their Feelings On Brexit   \n",
              "32041  'Cries From Syria' On HBO Follows Assadâ€™s War Against His Countryâ€™s Children   \n",
              "57422              Crocodile Snatches Woman Taking Late-Night Swim In Australia: Report   \n",
              "73571       Top Politician Says Russia Has 'Right To Military Response' To Felled Plane   \n",
              "\n",
              "                                                                    authors  \\\n",
              "38648                                                                   NaN   \n",
              "55037                                                             Lee Moran   \n",
              "32041  Regina Weinreich, ContributorAuthor, 'Kerouac's Spontaneous Poetics'   \n",
              "57422                                                   Byron Kaye, Reuters   \n",
              "73571                                                                   NaN   \n",
              "\n",
              "                                                                                                                           link  \\\n",
              "38648                                    https://www.huffingtonpost.com/entry/nisman-case-argentina_us_58658617e4b0eb586488d179   \n",
              "55037              https://www.huffingtonpost.com/entry/brexit-britons-poetry-writeapoemaboutbrexit_us_576f87dae4b0dbb1bbbad011   \n",
              "32041  https://www.huffingtonpost.com/entry/cries-from-syria-on-hbo-assads-war-against-his-countrys_us_58c69bcbe4b0c3276fb7871c   \n",
              "57422                               https://www.huffingtonpost.com/entry/crocodile-attack-australia_us_574c06e9e4b055bb11727d9f   \n",
              "73571                    https://www.huffingtonpost.com/entry/russia-turkey-military-response-plane_us_56585657e4b08e945feb3022   \n",
              "\n",
              "                                                                  short_description  \\\n",
              "38648  The prosecutor who first brought the allegation died mysteriously last year.   \n",
              "55037        Many lament the United Kingdom's decision to leave the European Union.   \n",
              "32041               The regime claims it is protecting the country from terrorists.   \n",
              "57422                                     \"This is a tragedy but it was avoidable.\"   \n",
              "73571  \"This is intentional murder of our soldiers and this deed must be punished.\"   \n",
              "\n",
              "            date  year  \n",
              "38648 2016-12-29  2016  \n",
              "55037 2016-06-26  2016  \n",
              "32041 2017-03-13  2017  \n",
              "57422 2016-05-30  2016  \n",
              "73571 2015-11-27  2015  "
            ],
            "text/html": [
              "<div>\n",
              "<style scoped>\n",
              "    .dataframe tbody tr th:only-of-type {\n",
              "        vertical-align: middle;\n",
              "    }\n",
              "\n",
              "    .dataframe tbody tr th {\n",
              "        vertical-align: top;\n",
              "    }\n",
              "\n",
              "    .dataframe thead th {\n",
              "        text-align: right;\n",
              "    }\n",
              "</style>\n",
              "<table border=\"1\" class=\"dataframe\">\n",
              "  <thead>\n",
              "    <tr style=\"text-align: right;\">\n",
              "      <th></th>\n",
              "      <th>category</th>\n",
              "      <th>headline</th>\n",
              "      <th>authors</th>\n",
              "      <th>link</th>\n",
              "      <th>short_description</th>\n",
              "      <th>date</th>\n",
              "      <th>year</th>\n",
              "    </tr>\n",
              "  </thead>\n",
              "  <tbody>\n",
              "    <tr>\n",
              "      <th>38648</th>\n",
              "      <td>THE WORLDPOST</td>\n",
              "      <td>Argentina Reopens Case Accusing Ex-President Of Bombing Cover Up</td>\n",
              "      <td>NaN</td>\n",
              "      <td>https://www.huffingtonpost.com/entry/nisman-case-argentina_us_58658617e4b0eb586488d179</td>\n",
              "      <td>The prosecutor who first brought the allegation died mysteriously last year.</td>\n",
              "      <td>2016-12-29</td>\n",
              "      <td>2016</td>\n",
              "    </tr>\n",
              "    <tr>\n",
              "      <th>55037</th>\n",
              "      <td>THE WORLDPOST</td>\n",
              "      <td>Britons Turn To Poetry To Express Their Feelings On Brexit</td>\n",
              "      <td>Lee Moran</td>\n",
              "      <td>https://www.huffingtonpost.com/entry/brexit-britons-poetry-writeapoemaboutbrexit_us_576f87dae4b0dbb1bbbad011</td>\n",
              "      <td>Many lament the United Kingdom's decision to leave the European Union.</td>\n",
              "      <td>2016-06-26</td>\n",
              "      <td>2016</td>\n",
              "    </tr>\n",
              "    <tr>\n",
              "      <th>32041</th>\n",
              "      <td>THE WORLDPOST</td>\n",
              "      <td>'Cries From Syria' On HBO Follows Assadâ€™s War Against His Countryâ€™s Children</td>\n",
              "      <td>Regina Weinreich, ContributorAuthor, 'Kerouac's Spontaneous Poetics'</td>\n",
              "      <td>https://www.huffingtonpost.com/entry/cries-from-syria-on-hbo-assads-war-against-his-countrys_us_58c69bcbe4b0c3276fb7871c</td>\n",
              "      <td>The regime claims it is protecting the country from terrorists.</td>\n",
              "      <td>2017-03-13</td>\n",
              "      <td>2017</td>\n",
              "    </tr>\n",
              "    <tr>\n",
              "      <th>57422</th>\n",
              "      <td>THE WORLDPOST</td>\n",
              "      <td>Crocodile Snatches Woman Taking Late-Night Swim In Australia: Report</td>\n",
              "      <td>Byron Kaye, Reuters</td>\n",
              "      <td>https://www.huffingtonpost.com/entry/crocodile-attack-australia_us_574c06e9e4b055bb11727d9f</td>\n",
              "      <td>\"This is a tragedy but it was avoidable.\"</td>\n",
              "      <td>2016-05-30</td>\n",
              "      <td>2016</td>\n",
              "    </tr>\n",
              "    <tr>\n",
              "      <th>73571</th>\n",
              "      <td>THE WORLDPOST</td>\n",
              "      <td>Top Politician Says Russia Has 'Right To Military Response' To Felled Plane</td>\n",
              "      <td>NaN</td>\n",
              "      <td>https://www.huffingtonpost.com/entry/russia-turkey-military-response-plane_us_56585657e4b08e945feb3022</td>\n",
              "      <td>\"This is intentional murder of our soldiers and this deed must be punished.\"</td>\n",
              "      <td>2015-11-27</td>\n",
              "      <td>2015</td>\n",
              "    </tr>\n",
              "  </tbody>\n",
              "</table>\n",
              "</div>"
            ]
          },
          "metadata": {},
          "execution_count": 507
        }
      ]
    },
    {
      "cell_type": "code",
      "source": [
        "raw.loc[raw['category'] == 'GOOD NEWS'].sample(5)"
      ],
      "metadata": {
        "colab": {
          "base_uri": "https://localhost:8080/",
          "height": 380
        },
        "id": "9r9xkC-qBaL_",
        "outputId": "75b72fa5-3960-4fa0-8127-b712fbf4fdfc"
      },
      "execution_count": null,
      "outputs": [
        {
          "output_type": "execute_result",
          "data": {
            "text/plain": [
              "         category  \\\n",
              "118896  GOOD NEWS   \n",
              "37912   GOOD NEWS   \n",
              "56476   GOOD NEWS   \n",
              "53998   GOOD NEWS   \n",
              "62777   GOOD NEWS   \n",
              "\n",
              "                                                                    headline  \\\n",
              "118896                                            Who Invented the Universe?   \n",
              "37912          Community Teams Up To Save Cat Found Hanging From Garage Door   \n",
              "56476   'Baby Got Books' Display Will Make You Want To Tackle Daunting Reads   \n",
              "53998          Burrito Boyz Serves Hot Meals To Homeless People In San Diego   \n",
              "62777                   Hamster Spends His Final Days On The Best Adventures   \n",
              "\n",
              "                                  authors  \\\n",
              "118896  Peg Melnik, ContributorJournalist   \n",
              "37912                       Hilary Hanson   \n",
              "56476                        Kimberly Yam   \n",
              "53998                        Kimberly Yam   \n",
              "62777                                 NaN   \n",
              "\n",
              "                                                                                                                                                link  \\\n",
              "118896                                                                 https://www.huffingtonpost.com/entry/who-invented-the-universe_b_5540694.html   \n",
              "37912                                               https://www.huffingtonpost.com/entry/cat-rescued-trapped-garage-door_us_5871392ee4b043ad97e3aebd   \n",
              "56476   https://www.huffingtonpost.com/entry/librarys-baby-got-books-display-will-make-you-want-to-tackle-daunting-reads_us_575acd75e4b0ced23ca7c9b2   \n",
              "53998         https://www.huffingtonpost.com/entry/burrito-boyz-make-food-for-homeless-to-bring-hope-dignity-and-respect_us_577e99c5e4b01edea78cf63d   \n",
              "62777                                                                                            https://www.huffingtonpost.comhttp://pubx.co/qjWRf7   \n",
              "\n",
              "                                                                                                                                                                                                 short_description  \\\n",
              "118896  I'm grateful for this conversation because it seems as though science and spirituality have been long-time opponents in the ring. To have a scientist's take on the mystery of the universe is refreshing.   \n",
              "37912                                                                                                                         Bella the cat is either very lucky or very unlucky, depending on how you look at it.   \n",
              "56476                                                                                                                                                                                  War and Peace where you at?   \n",
              "53998                                                                                                                                                  They've provided more than 132,000 meals to people in need.   \n",
              "62777                                                                                 When a pet gets sick and doesn't have much time left, many incredible families will create bucket lists to make the animal's   \n",
              "\n",
              "             date  year  \n",
              "118896 2014-06-29  2014  \n",
              "37912  2017-01-07  2017  \n",
              "56476  2016-06-10  2016  \n",
              "53998  2016-07-08  2016  \n",
              "62777  2016-03-29  2016  "
            ],
            "text/html": [
              "<div>\n",
              "<style scoped>\n",
              "    .dataframe tbody tr th:only-of-type {\n",
              "        vertical-align: middle;\n",
              "    }\n",
              "\n",
              "    .dataframe tbody tr th {\n",
              "        vertical-align: top;\n",
              "    }\n",
              "\n",
              "    .dataframe thead th {\n",
              "        text-align: right;\n",
              "    }\n",
              "</style>\n",
              "<table border=\"1\" class=\"dataframe\">\n",
              "  <thead>\n",
              "    <tr style=\"text-align: right;\">\n",
              "      <th></th>\n",
              "      <th>category</th>\n",
              "      <th>headline</th>\n",
              "      <th>authors</th>\n",
              "      <th>link</th>\n",
              "      <th>short_description</th>\n",
              "      <th>date</th>\n",
              "      <th>year</th>\n",
              "    </tr>\n",
              "  </thead>\n",
              "  <tbody>\n",
              "    <tr>\n",
              "      <th>118896</th>\n",
              "      <td>GOOD NEWS</td>\n",
              "      <td>Who Invented the Universe?</td>\n",
              "      <td>Peg Melnik, ContributorJournalist</td>\n",
              "      <td>https://www.huffingtonpost.com/entry/who-invented-the-universe_b_5540694.html</td>\n",
              "      <td>I'm grateful for this conversation because it seems as though science and spirituality have been long-time opponents in the ring. To have a scientist's take on the mystery of the universe is refreshing.</td>\n",
              "      <td>2014-06-29</td>\n",
              "      <td>2014</td>\n",
              "    </tr>\n",
              "    <tr>\n",
              "      <th>37912</th>\n",
              "      <td>GOOD NEWS</td>\n",
              "      <td>Community Teams Up To Save Cat Found Hanging From Garage Door</td>\n",
              "      <td>Hilary Hanson</td>\n",
              "      <td>https://www.huffingtonpost.com/entry/cat-rescued-trapped-garage-door_us_5871392ee4b043ad97e3aebd</td>\n",
              "      <td>Bella the cat is either very lucky or very unlucky, depending on how you look at it.</td>\n",
              "      <td>2017-01-07</td>\n",
              "      <td>2017</td>\n",
              "    </tr>\n",
              "    <tr>\n",
              "      <th>56476</th>\n",
              "      <td>GOOD NEWS</td>\n",
              "      <td>'Baby Got Books' Display Will Make You Want To Tackle Daunting Reads</td>\n",
              "      <td>Kimberly Yam</td>\n",
              "      <td>https://www.huffingtonpost.com/entry/librarys-baby-got-books-display-will-make-you-want-to-tackle-daunting-reads_us_575acd75e4b0ced23ca7c9b2</td>\n",
              "      <td>War and Peace where you at?</td>\n",
              "      <td>2016-06-10</td>\n",
              "      <td>2016</td>\n",
              "    </tr>\n",
              "    <tr>\n",
              "      <th>53998</th>\n",
              "      <td>GOOD NEWS</td>\n",
              "      <td>Burrito Boyz Serves Hot Meals To Homeless People In San Diego</td>\n",
              "      <td>Kimberly Yam</td>\n",
              "      <td>https://www.huffingtonpost.com/entry/burrito-boyz-make-food-for-homeless-to-bring-hope-dignity-and-respect_us_577e99c5e4b01edea78cf63d</td>\n",
              "      <td>They've provided more than 132,000 meals to people in need.</td>\n",
              "      <td>2016-07-08</td>\n",
              "      <td>2016</td>\n",
              "    </tr>\n",
              "    <tr>\n",
              "      <th>62777</th>\n",
              "      <td>GOOD NEWS</td>\n",
              "      <td>Hamster Spends His Final Days On The Best Adventures</td>\n",
              "      <td>NaN</td>\n",
              "      <td>https://www.huffingtonpost.comhttp://pubx.co/qjWRf7</td>\n",
              "      <td>When a pet gets sick and doesn't have much time left, many incredible families will create bucket lists to make the animal's</td>\n",
              "      <td>2016-03-29</td>\n",
              "      <td>2016</td>\n",
              "    </tr>\n",
              "  </tbody>\n",
              "</table>\n",
              "</div>"
            ]
          },
          "metadata": {},
          "execution_count": 508
        }
      ]
    },
    {
      "cell_type": "code",
      "source": [
        "raw.loc[raw['category'] == 'WEDDINGS'].sample(5)"
      ],
      "metadata": {
        "colab": {
          "base_uri": "https://localhost:8080/",
          "height": 397
        },
        "id": "GVB4tNYVCUS5",
        "outputId": "36db9cae-f0ee-4484-da71-ccf9160174a6"
      },
      "execution_count": null,
      "outputs": [
        {
          "output_type": "execute_result",
          "data": {
            "text/plain": [
              "        category  \\\n",
              "187942  WEDDINGS   \n",
              "147437  WEDDINGS   \n",
              "170767  WEDDINGS   \n",
              "162642  WEDDINGS   \n",
              "183560  WEDDINGS   \n",
              "\n",
              "                                                             headline  \\\n",
              "187942                   Matthew McConaughey Wedding Photo: The Dress   \n",
              "147437  Marriage Conversations You Need To Have Before Tying The Knot   \n",
              "170767    Wedding Dresses: The Weirdest Holiday-Themed Gowns (PHOTOS)   \n",
              "162642                               Wedding Registry Trends For 2013   \n",
              "183560                   What Arranged Marriages Taught Me About Love   \n",
              "\n",
              "                                                                                      authors  \\\n",
              "187942                                                                                    NaN   \n",
              "147437                                                                                    NaN   \n",
              "170767                                                                                    NaN   \n",
              "162642  Hana Abaza, Contributor\\nWriting about tech, marketing, startups and other fun stuff.   \n",
              "183560                                                                                    NaN   \n",
              "\n",
              "                                                                                                                                  link  \\\n",
              "187942  https://www.huffingtonpost.comhttp://stylenews.peoplestylewatch.com/2012/06/14/matthew-mcconaughey-wedding-camila-alves-dress/   \n",
              "147437                                         https://www.huffingtonpost.com/entry/marriage-conversations_us_5b9d7409e4b03a1dcc882dc9   \n",
              "170767                                                https://www.huffingtonpost.com/entry/wedding-dresses_us_5b9c9ab4e4b03a1dcc803aac   \n",
              "162642                                        https://www.huffingtonpost.com/entry/wedding-registry-trends_us_5b9cd352e4b03a1dcc822c10   \n",
              "183560     https://www.huffingtonpost.comhttp://www.ncregister.com/blog/jennifer-fulwiler/what-arranged-marriages-taught-me-about-love   \n",
              "\n",
              "                                                                                                                   short_description  \\\n",
              "187942      When it came to finding the perfect wedding gown, Camila Alves McConaughey knew exactly where to turn. Chanel? Nah. Vera   \n",
              "147437      Couples that communicate openly and effectively tend to have stronger, more successful marriages. And some conversations   \n",
              "170767  With the possibility of snow, a gorgeous, icy color palette and holiday cheer, it's true -- winter weddings can be wonderful   \n",
              "162642       Couples are older and most are living together before marriage, eliminating the need for many of the traditional gifts.   \n",
              "183560    I remember the first time I found out that one of my friends had an arranged marriage. I was at a work function and struck   \n",
              "\n",
              "             date  year  \n",
              "187942 2012-06-15  2012  \n",
              "147437 2013-08-21  2013  \n",
              "170767 2012-12-17  2012  \n",
              "162642 2013-03-13  2013  \n",
              "183560 2012-08-01  2012  "
            ],
            "text/html": [
              "<div>\n",
              "<style scoped>\n",
              "    .dataframe tbody tr th:only-of-type {\n",
              "        vertical-align: middle;\n",
              "    }\n",
              "\n",
              "    .dataframe tbody tr th {\n",
              "        vertical-align: top;\n",
              "    }\n",
              "\n",
              "    .dataframe thead th {\n",
              "        text-align: right;\n",
              "    }\n",
              "</style>\n",
              "<table border=\"1\" class=\"dataframe\">\n",
              "  <thead>\n",
              "    <tr style=\"text-align: right;\">\n",
              "      <th></th>\n",
              "      <th>category</th>\n",
              "      <th>headline</th>\n",
              "      <th>authors</th>\n",
              "      <th>link</th>\n",
              "      <th>short_description</th>\n",
              "      <th>date</th>\n",
              "      <th>year</th>\n",
              "    </tr>\n",
              "  </thead>\n",
              "  <tbody>\n",
              "    <tr>\n",
              "      <th>187942</th>\n",
              "      <td>WEDDINGS</td>\n",
              "      <td>Matthew McConaughey Wedding Photo: The Dress</td>\n",
              "      <td>NaN</td>\n",
              "      <td>https://www.huffingtonpost.comhttp://stylenews.peoplestylewatch.com/2012/06/14/matthew-mcconaughey-wedding-camila-alves-dress/</td>\n",
              "      <td>When it came to finding the perfect wedding gown, Camila Alves McConaughey knew exactly where to turn. Chanel? Nah. Vera</td>\n",
              "      <td>2012-06-15</td>\n",
              "      <td>2012</td>\n",
              "    </tr>\n",
              "    <tr>\n",
              "      <th>147437</th>\n",
              "      <td>WEDDINGS</td>\n",
              "      <td>Marriage Conversations You Need To Have Before Tying The Knot</td>\n",
              "      <td>NaN</td>\n",
              "      <td>https://www.huffingtonpost.com/entry/marriage-conversations_us_5b9d7409e4b03a1dcc882dc9</td>\n",
              "      <td>Couples that communicate openly and effectively tend to have stronger, more successful marriages. And some conversations</td>\n",
              "      <td>2013-08-21</td>\n",
              "      <td>2013</td>\n",
              "    </tr>\n",
              "    <tr>\n",
              "      <th>170767</th>\n",
              "      <td>WEDDINGS</td>\n",
              "      <td>Wedding Dresses: The Weirdest Holiday-Themed Gowns (PHOTOS)</td>\n",
              "      <td>NaN</td>\n",
              "      <td>https://www.huffingtonpost.com/entry/wedding-dresses_us_5b9c9ab4e4b03a1dcc803aac</td>\n",
              "      <td>With the possibility of snow, a gorgeous, icy color palette and holiday cheer, it's true -- winter weddings can be wonderful</td>\n",
              "      <td>2012-12-17</td>\n",
              "      <td>2012</td>\n",
              "    </tr>\n",
              "    <tr>\n",
              "      <th>162642</th>\n",
              "      <td>WEDDINGS</td>\n",
              "      <td>Wedding Registry Trends For 2013</td>\n",
              "      <td>Hana Abaza, Contributor\\nWriting about tech, marketing, startups and other fun stuff.</td>\n",
              "      <td>https://www.huffingtonpost.com/entry/wedding-registry-trends_us_5b9cd352e4b03a1dcc822c10</td>\n",
              "      <td>Couples are older and most are living together before marriage, eliminating the need for many of the traditional gifts.</td>\n",
              "      <td>2013-03-13</td>\n",
              "      <td>2013</td>\n",
              "    </tr>\n",
              "    <tr>\n",
              "      <th>183560</th>\n",
              "      <td>WEDDINGS</td>\n",
              "      <td>What Arranged Marriages Taught Me About Love</td>\n",
              "      <td>NaN</td>\n",
              "      <td>https://www.huffingtonpost.comhttp://www.ncregister.com/blog/jennifer-fulwiler/what-arranged-marriages-taught-me-about-love</td>\n",
              "      <td>I remember the first time I found out that one of my friends had an arranged marriage. I was at a work function and struck</td>\n",
              "      <td>2012-08-01</td>\n",
              "      <td>2012</td>\n",
              "    </tr>\n",
              "  </tbody>\n",
              "</table>\n",
              "</div>"
            ]
          },
          "metadata": {},
          "execution_count": 509
        }
      ]
    },
    {
      "cell_type": "code",
      "source": [
        "raw.loc[raw['category'] == 'WOMEN'].sample(5)"
      ],
      "metadata": {
        "colab": {
          "base_uri": "https://localhost:8080/",
          "height": 327
        },
        "id": "5-kxoHT4CyBu",
        "outputId": "68a781ae-0faf-42a5-e190-d128df6ecea8"
      },
      "execution_count": null,
      "outputs": [
        {
          "output_type": "execute_result",
          "data": {
            "text/plain": [
              "      category  \\\n",
              "91241    WOMEN   \n",
              "70034    WOMEN   \n",
              "13815    WOMEN   \n",
              "83691    WOMEN   \n",
              "16968    WOMEN   \n",
              "\n",
              "                                                                                   headline  \\\n",
              "91241                    The Boy Next Door: Hollywood's Issue With Female Authority Figures   \n",
              "70034                                      The Little Pink Pill That Started A Feminist War   \n",
              "13815  Here's How To Reply To All Those Irritating, Ignorant Responses To Your #MeToo Posts   \n",
              "83691                                        Watch This Comedian Skewer Anti-Abortion Logic   \n",
              "16968                                           The 20 Funniest Tweets From Women This Week   \n",
              "\n",
              "                                                                        authors  \\\n",
              "91241            Samita Sarkar, ContributorWriter/Editor at BlossomsEditing.com   \n",
              "70034                                                                       NaN   \n",
              "13815  Melinda Parrish, ContributorPlus Size Model and Body Positivity Advocate   \n",
              "83691                                                           Alanna Vagianos   \n",
              "16968                                                           Alanna Vagianos   \n",
              "\n",
              "                                                                                                                          link  \\\n",
              "91241     https://www.huffingtonpost.com/entry/the-boy-next-door-hollywoods-issue-with-female-authority-figures_b_7246402.html   \n",
              "70034  https://www.huffingtonpost.comhttp://www.psmag.com/health-and-behavior/the-little-pink-pill-that-sparked-a-feminist-war   \n",
              "13815     https://www.huffingtonpost.com/entry/heres-how-to-reply-to-all-those-irritating-ignorant_us_59e69a10e4b0153c4c3ec3b4   \n",
              "83691          https://www.huffingtonpost.com/entry/watch-this-comedian-skewer-anti-abortion-logic_us_55c366d8e4b0f1cbf1e3d322   \n",
              "16968             https://www.huffingtonpost.com/entry/the-20-funniest-tweets-from-women-this-week_us_59ae9fefe4b0dfaafcf281b8   \n",
              "\n",
              "                                                                                                                                                          short_description  \\\n",
              "91241  The movie has sent a pretty clear message to viewers that men are by nature sexual and aggressive, and women should relent, know their place and not \"try too hard.\"   \n",
              "70034                                          Last October, the first medication designed to treat low sexual desire in women hit the market. Depending on who you believe   \n",
              "13815                                            Yup, me too. I didnâ€™t just decide to participate in the #metoo movement because I want to speak my own truth (although I   \n",
              "83691                                                                                                                                       Cameron Esposito for president.   \n",
              "16968                                                                                                                                                        ðŸ˜‚ ðŸ˜‚ ðŸ˜‚   \n",
              "\n",
              "            date  year  \n",
              "91241 2015-05-12  2015  \n",
              "70034 2016-01-07  2016  \n",
              "13815 2017-10-18  2017  \n",
              "83691 2015-08-06  2015  \n",
              "16968 2017-09-08  2017  "
            ],
            "text/html": [
              "<div>\n",
              "<style scoped>\n",
              "    .dataframe tbody tr th:only-of-type {\n",
              "        vertical-align: middle;\n",
              "    }\n",
              "\n",
              "    .dataframe tbody tr th {\n",
              "        vertical-align: top;\n",
              "    }\n",
              "\n",
              "    .dataframe thead th {\n",
              "        text-align: right;\n",
              "    }\n",
              "</style>\n",
              "<table border=\"1\" class=\"dataframe\">\n",
              "  <thead>\n",
              "    <tr style=\"text-align: right;\">\n",
              "      <th></th>\n",
              "      <th>category</th>\n",
              "      <th>headline</th>\n",
              "      <th>authors</th>\n",
              "      <th>link</th>\n",
              "      <th>short_description</th>\n",
              "      <th>date</th>\n",
              "      <th>year</th>\n",
              "    </tr>\n",
              "  </thead>\n",
              "  <tbody>\n",
              "    <tr>\n",
              "      <th>91241</th>\n",
              "      <td>WOMEN</td>\n",
              "      <td>The Boy Next Door: Hollywood's Issue With Female Authority Figures</td>\n",
              "      <td>Samita Sarkar, ContributorWriter/Editor at BlossomsEditing.com</td>\n",
              "      <td>https://www.huffingtonpost.com/entry/the-boy-next-door-hollywoods-issue-with-female-authority-figures_b_7246402.html</td>\n",
              "      <td>The movie has sent a pretty clear message to viewers that men are by nature sexual and aggressive, and women should relent, know their place and not \"try too hard.\"</td>\n",
              "      <td>2015-05-12</td>\n",
              "      <td>2015</td>\n",
              "    </tr>\n",
              "    <tr>\n",
              "      <th>70034</th>\n",
              "      <td>WOMEN</td>\n",
              "      <td>The Little Pink Pill That Started A Feminist War</td>\n",
              "      <td>NaN</td>\n",
              "      <td>https://www.huffingtonpost.comhttp://www.psmag.com/health-and-behavior/the-little-pink-pill-that-sparked-a-feminist-war</td>\n",
              "      <td>Last October, the first medication designed to treat low sexual desire in women hit the market. Depending on who you believe</td>\n",
              "      <td>2016-01-07</td>\n",
              "      <td>2016</td>\n",
              "    </tr>\n",
              "    <tr>\n",
              "      <th>13815</th>\n",
              "      <td>WOMEN</td>\n",
              "      <td>Here's How To Reply To All Those Irritating, Ignorant Responses To Your #MeToo Posts</td>\n",
              "      <td>Melinda Parrish, ContributorPlus Size Model and Body Positivity Advocate</td>\n",
              "      <td>https://www.huffingtonpost.com/entry/heres-how-to-reply-to-all-those-irritating-ignorant_us_59e69a10e4b0153c4c3ec3b4</td>\n",
              "      <td>Yup, me too. I didnâ€™t just decide to participate in the #metoo movement because I want to speak my own truth (although I</td>\n",
              "      <td>2017-10-18</td>\n",
              "      <td>2017</td>\n",
              "    </tr>\n",
              "    <tr>\n",
              "      <th>83691</th>\n",
              "      <td>WOMEN</td>\n",
              "      <td>Watch This Comedian Skewer Anti-Abortion Logic</td>\n",
              "      <td>Alanna Vagianos</td>\n",
              "      <td>https://www.huffingtonpost.com/entry/watch-this-comedian-skewer-anti-abortion-logic_us_55c366d8e4b0f1cbf1e3d322</td>\n",
              "      <td>Cameron Esposito for president.</td>\n",
              "      <td>2015-08-06</td>\n",
              "      <td>2015</td>\n",
              "    </tr>\n",
              "    <tr>\n",
              "      <th>16968</th>\n",
              "      <td>WOMEN</td>\n",
              "      <td>The 20 Funniest Tweets From Women This Week</td>\n",
              "      <td>Alanna Vagianos</td>\n",
              "      <td>https://www.huffingtonpost.com/entry/the-20-funniest-tweets-from-women-this-week_us_59ae9fefe4b0dfaafcf281b8</td>\n",
              "      <td>ðŸ˜‚ ðŸ˜‚ ðŸ˜‚</td>\n",
              "      <td>2017-09-08</td>\n",
              "      <td>2017</td>\n",
              "    </tr>\n",
              "  </tbody>\n",
              "</table>\n",
              "</div>"
            ]
          },
          "metadata": {},
          "execution_count": 510
        }
      ]
    },
    {
      "cell_type": "code",
      "source": [
        "raw.loc[raw['category'] == 'HOME & LIVING'].sample(5)"
      ],
      "metadata": {
        "colab": {
          "base_uri": "https://localhost:8080/",
          "height": 380
        },
        "id": "FgPsQOEyDdbg",
        "outputId": "253099c8-886c-4f12-c57e-53fd1acebd31"
      },
      "execution_count": null,
      "outputs": [
        {
          "output_type": "execute_result",
          "data": {
            "text/plain": [
              "             category  \\\n",
              "128910  HOME & LIVING   \n",
              "162364  HOME & LIVING   \n",
              "163933  HOME & LIVING   \n",
              "149917  HOME & LIVING   \n",
              "199093  HOME & LIVING   \n",
              "\n",
              "                                                                          headline  \\\n",
              "128910                                         How to Buy Vintage Furniture Online   \n",
              "162364          Pretty Porch Ideas That Have Us Daydreaming Of Relaxation (PHOTOS)   \n",
              "163933              Nate Berkus, Jeremiah Brent Reportedly Planning To Have A Baby   \n",
              "149917  7 Things That May Not Be Allowed On Your Front Lawn, Surprisingly (PHOTOS)   \n",
              "199093      Trending LED: Switch Out Your Incandescent and CFLs to LED Light Bulbs   \n",
              "\n",
              "                                                                                                authors  \\\n",
              "128910                                      Alessandra Wood, PhD, Contributor\\nDirector of Style, Modsy   \n",
              "162364                                                                                 Michelle Manetti   \n",
              "163933                                                                                 Michelle Manetti   \n",
              "149917                                                                                      Shana Ecker   \n",
              "199093  Marcia Prentice, Contributor\\nInterior Designer and former blogger, Style Illuminated by LAM...   \n",
              "\n",
              "                                                                                                    link  \\\n",
              "128910        https://www.huffingtonpost.com/entry/how-to-buy-vintage-furnit_us_5b9dea6ee4b03a1dcc8ea3d3   \n",
              "162364               https://www.huffingtonpost.com/entry/pretty-porch-ideas_us_5b9cefcce4b03a1dcc831798   \n",
              "163933  https://www.huffingtonpost.com/entry/nate-berkus-jeremiah-brent-baby_us_5b9cdf20e4b03a1dcc8297bb   \n",
              "149917        https://www.huffingtonpost.com/entry/not-allowed-on-front-lawn_us_5b9d625ee4b03a1dcc8757a0   \n",
              "199093                  https://www.huffingtonpost.com/entry/led-light-bulbs_us_5b9b5699e4b03a1dcc76bd2b   \n",
              "\n",
              "                                                                                                                                                                                       short_description  \\\n",
              "128910  I've got a hit list of things to consider and questions to ask before buying vintage furniture online, so you can be sure to rule out a lot of issues before you take the big purchasing plunge.   \n",
              "162364                                                                       We're anxiously looking forward to the upcoming change of weather, when we'll be more inclined to relax and unwind outdoors   \n",
              "163933                                                                        ** Now, for the most exciting news you'll hear all day: Nate Berkus and his partner Jeremiah Brent are reportedly planning   \n",
              "149917                                                                        ** 6. Paint Colors: some HOAs are so strict, they dicatate all of your home's colors, down to the trim. One Virginia Beach   \n",
              "199093                    To find out what all the LED hype was about, I headed down the hall to our light bulb buyer's office to round up a handful of LED bulbs and get a quick LED light bulb lesson.   \n",
              "\n",
              "             date  year  \n",
              "128910 2014-03-06  2014  \n",
              "162364 2013-03-16  2013  \n",
              "163933 2013-02-28  2013  \n",
              "149917 2013-07-26  2013  \n",
              "199093 2012-02-16  2012  "
            ],
            "text/html": [
              "<div>\n",
              "<style scoped>\n",
              "    .dataframe tbody tr th:only-of-type {\n",
              "        vertical-align: middle;\n",
              "    }\n",
              "\n",
              "    .dataframe tbody tr th {\n",
              "        vertical-align: top;\n",
              "    }\n",
              "\n",
              "    .dataframe thead th {\n",
              "        text-align: right;\n",
              "    }\n",
              "</style>\n",
              "<table border=\"1\" class=\"dataframe\">\n",
              "  <thead>\n",
              "    <tr style=\"text-align: right;\">\n",
              "      <th></th>\n",
              "      <th>category</th>\n",
              "      <th>headline</th>\n",
              "      <th>authors</th>\n",
              "      <th>link</th>\n",
              "      <th>short_description</th>\n",
              "      <th>date</th>\n",
              "      <th>year</th>\n",
              "    </tr>\n",
              "  </thead>\n",
              "  <tbody>\n",
              "    <tr>\n",
              "      <th>128910</th>\n",
              "      <td>HOME &amp; LIVING</td>\n",
              "      <td>How to Buy Vintage Furniture Online</td>\n",
              "      <td>Alessandra Wood, PhD, Contributor\\nDirector of Style, Modsy</td>\n",
              "      <td>https://www.huffingtonpost.com/entry/how-to-buy-vintage-furnit_us_5b9dea6ee4b03a1dcc8ea3d3</td>\n",
              "      <td>I've got a hit list of things to consider and questions to ask before buying vintage furniture online, so you can be sure to rule out a lot of issues before you take the big purchasing plunge.</td>\n",
              "      <td>2014-03-06</td>\n",
              "      <td>2014</td>\n",
              "    </tr>\n",
              "    <tr>\n",
              "      <th>162364</th>\n",
              "      <td>HOME &amp; LIVING</td>\n",
              "      <td>Pretty Porch Ideas That Have Us Daydreaming Of Relaxation (PHOTOS)</td>\n",
              "      <td>Michelle Manetti</td>\n",
              "      <td>https://www.huffingtonpost.com/entry/pretty-porch-ideas_us_5b9cefcce4b03a1dcc831798</td>\n",
              "      <td>We're anxiously looking forward to the upcoming change of weather, when we'll be more inclined to relax and unwind outdoors</td>\n",
              "      <td>2013-03-16</td>\n",
              "      <td>2013</td>\n",
              "    </tr>\n",
              "    <tr>\n",
              "      <th>163933</th>\n",
              "      <td>HOME &amp; LIVING</td>\n",
              "      <td>Nate Berkus, Jeremiah Brent Reportedly Planning To Have A Baby</td>\n",
              "      <td>Michelle Manetti</td>\n",
              "      <td>https://www.huffingtonpost.com/entry/nate-berkus-jeremiah-brent-baby_us_5b9cdf20e4b03a1dcc8297bb</td>\n",
              "      <td>** Now, for the most exciting news you'll hear all day: Nate Berkus and his partner Jeremiah Brent are reportedly planning</td>\n",
              "      <td>2013-02-28</td>\n",
              "      <td>2013</td>\n",
              "    </tr>\n",
              "    <tr>\n",
              "      <th>149917</th>\n",
              "      <td>HOME &amp; LIVING</td>\n",
              "      <td>7 Things That May Not Be Allowed On Your Front Lawn, Surprisingly (PHOTOS)</td>\n",
              "      <td>Shana Ecker</td>\n",
              "      <td>https://www.huffingtonpost.com/entry/not-allowed-on-front-lawn_us_5b9d625ee4b03a1dcc8757a0</td>\n",
              "      <td>** 6. Paint Colors: some HOAs are so strict, they dicatate all of your home's colors, down to the trim. One Virginia Beach</td>\n",
              "      <td>2013-07-26</td>\n",
              "      <td>2013</td>\n",
              "    </tr>\n",
              "    <tr>\n",
              "      <th>199093</th>\n",
              "      <td>HOME &amp; LIVING</td>\n",
              "      <td>Trending LED: Switch Out Your Incandescent and CFLs to LED Light Bulbs</td>\n",
              "      <td>Marcia Prentice, Contributor\\nInterior Designer and former blogger, Style Illuminated by LAM...</td>\n",
              "      <td>https://www.huffingtonpost.com/entry/led-light-bulbs_us_5b9b5699e4b03a1dcc76bd2b</td>\n",
              "      <td>To find out what all the LED hype was about, I headed down the hall to our light bulb buyer's office to round up a handful of LED bulbs and get a quick LED light bulb lesson.</td>\n",
              "      <td>2012-02-16</td>\n",
              "      <td>2012</td>\n",
              "    </tr>\n",
              "  </tbody>\n",
              "</table>\n",
              "</div>"
            ]
          },
          "metadata": {},
          "execution_count": 511
        }
      ]
    },
    {
      "cell_type": "code",
      "source": [
        "raw.loc[raw['category'] == 'TRAVEL'].sample(5)"
      ],
      "metadata": {
        "colab": {
          "base_uri": "https://localhost:8080/",
          "height": 415
        },
        "id": "N6cxJfwaDw79",
        "outputId": "81282f28-45a5-4f04-b82b-e6e9a74ed00b"
      },
      "execution_count": null,
      "outputs": [
        {
          "output_type": "execute_result",
          "data": {
            "text/plain": [
              "       category  \\\n",
              "167236   TRAVEL   \n",
              "136566   TRAVEL   \n",
              "186233   TRAVEL   \n",
              "196509   TRAVEL   \n",
              "193522   TRAVEL   \n",
              "\n",
              "                                                                                   headline  \\\n",
              "167236                                           The Faded Motels Of The Rust Belt (PHOTOS)   \n",
              "136566  International Data Plans Compared: How Does Your Phone Bill Stack Up? (INFOGRAPHIC)   \n",
              "186233     Disneyland Travel: 14 Official And Unofficial Streets Inside Disneyland (PHOTOS)   \n",
              "196509                                        The Destruction Of Phnom Penh's Lake District   \n",
              "193522                                           What To Do In Copenhagen: Danish Day Trips   \n",
              "\n",
              "                                                                                       authors  \\\n",
              "167236                                         Randy Fox, Contributor\\nWriter and photographer   \n",
              "136566                                                                                     NaN   \n",
              "186233                                                                                     NaN   \n",
              "196509  Matt Kepnes, Contributor\\nAward-winning budget travel site, Nomadic Matt's Travel Site   \n",
              "193522                                                                                     NaN   \n",
              "\n",
              "                                                                                                                                           link  \\\n",
              "167236                                                        https://www.huffingtonpost.com/entry/motels-rust-belt_us_5b9cbe30e4b03a1dcc816666   \n",
              "136566                                                https://www.huffingtonpost.com/entry/international-data-plans_us_5b9d98fde4b03a1dcc89fb7b   \n",
              "186233  https://www.huffingtonpost.com/entry/disneyland-travel-14-official-and-unofficial-streets-inside-disneyland_us_5b9bed25e4b03a1dcc7b2c2a   \n",
              "196509                                               https://www.huffingtonpost.com/entry/the-tragic-destruction-of_us_5b9b7266e4b03a1dcc779e1b   \n",
              "193522                           https://www.huffingtonpost.comhttp://www.bbc.com/travel/feature/20120412-day-trips-from-copenhagen?OCIDtwtvlhp   \n",
              "\n",
              "                                                                                                                                                                    short_description  \\\n",
              "167236  As you travel through the Rust Belt, you can still come across the remains of hotels and motels still touting marketing innovations such as \"Color TV\" or \"Air Conditioning.\"   \n",
              "136566                                                       Explore more infographics like this one on the web's largest information design community - Visually. However, that last   \n",
              "186233                                            Of course not. For more Disneyland fun, check out these five lost Disneyland rides and these awesome vintage Disneyland commercials   \n",
              "196509                                                                           All that remains of this once vibrant area is a bunch of torn down buildings, empty lots and shacks.   \n",
              "193522                                                   While there is no end to the number of activities in Copenhagen, the city's surrounds have equally abundant offerings - from   \n",
              "\n",
              "             date  year  \n",
              "167236 2013-01-24  2013  \n",
              "136566 2013-12-13  2013  \n",
              "186233 2012-07-03  2012  \n",
              "196509 2012-03-15  2012  \n",
              "193522 2012-04-16  2012  "
            ],
            "text/html": [
              "<div>\n",
              "<style scoped>\n",
              "    .dataframe tbody tr th:only-of-type {\n",
              "        vertical-align: middle;\n",
              "    }\n",
              "\n",
              "    .dataframe tbody tr th {\n",
              "        vertical-align: top;\n",
              "    }\n",
              "\n",
              "    .dataframe thead th {\n",
              "        text-align: right;\n",
              "    }\n",
              "</style>\n",
              "<table border=\"1\" class=\"dataframe\">\n",
              "  <thead>\n",
              "    <tr style=\"text-align: right;\">\n",
              "      <th></th>\n",
              "      <th>category</th>\n",
              "      <th>headline</th>\n",
              "      <th>authors</th>\n",
              "      <th>link</th>\n",
              "      <th>short_description</th>\n",
              "      <th>date</th>\n",
              "      <th>year</th>\n",
              "    </tr>\n",
              "  </thead>\n",
              "  <tbody>\n",
              "    <tr>\n",
              "      <th>167236</th>\n",
              "      <td>TRAVEL</td>\n",
              "      <td>The Faded Motels Of The Rust Belt (PHOTOS)</td>\n",
              "      <td>Randy Fox, Contributor\\nWriter and photographer</td>\n",
              "      <td>https://www.huffingtonpost.com/entry/motels-rust-belt_us_5b9cbe30e4b03a1dcc816666</td>\n",
              "      <td>As you travel through the Rust Belt, you can still come across the remains of hotels and motels still touting marketing innovations such as \"Color TV\" or \"Air Conditioning.\"</td>\n",
              "      <td>2013-01-24</td>\n",
              "      <td>2013</td>\n",
              "    </tr>\n",
              "    <tr>\n",
              "      <th>136566</th>\n",
              "      <td>TRAVEL</td>\n",
              "      <td>International Data Plans Compared: How Does Your Phone Bill Stack Up? (INFOGRAPHIC)</td>\n",
              "      <td>NaN</td>\n",
              "      <td>https://www.huffingtonpost.com/entry/international-data-plans_us_5b9d98fde4b03a1dcc89fb7b</td>\n",
              "      <td>Explore more infographics like this one on the web's largest information design community - Visually. However, that last</td>\n",
              "      <td>2013-12-13</td>\n",
              "      <td>2013</td>\n",
              "    </tr>\n",
              "    <tr>\n",
              "      <th>186233</th>\n",
              "      <td>TRAVEL</td>\n",
              "      <td>Disneyland Travel: 14 Official And Unofficial Streets Inside Disneyland (PHOTOS)</td>\n",
              "      <td>NaN</td>\n",
              "      <td>https://www.huffingtonpost.com/entry/disneyland-travel-14-official-and-unofficial-streets-inside-disneyland_us_5b9bed25e4b03a1dcc7b2c2a</td>\n",
              "      <td>Of course not. For more Disneyland fun, check out these five lost Disneyland rides and these awesome vintage Disneyland commercials</td>\n",
              "      <td>2012-07-03</td>\n",
              "      <td>2012</td>\n",
              "    </tr>\n",
              "    <tr>\n",
              "      <th>196509</th>\n",
              "      <td>TRAVEL</td>\n",
              "      <td>The Destruction Of Phnom Penh's Lake District</td>\n",
              "      <td>Matt Kepnes, Contributor\\nAward-winning budget travel site, Nomadic Matt's Travel Site</td>\n",
              "      <td>https://www.huffingtonpost.com/entry/the-tragic-destruction-of_us_5b9b7266e4b03a1dcc779e1b</td>\n",
              "      <td>All that remains of this once vibrant area is a bunch of torn down buildings, empty lots and shacks.</td>\n",
              "      <td>2012-03-15</td>\n",
              "      <td>2012</td>\n",
              "    </tr>\n",
              "    <tr>\n",
              "      <th>193522</th>\n",
              "      <td>TRAVEL</td>\n",
              "      <td>What To Do In Copenhagen: Danish Day Trips</td>\n",
              "      <td>NaN</td>\n",
              "      <td>https://www.huffingtonpost.comhttp://www.bbc.com/travel/feature/20120412-day-trips-from-copenhagen?OCIDtwtvlhp</td>\n",
              "      <td>While there is no end to the number of activities in Copenhagen, the city's surrounds have equally abundant offerings - from</td>\n",
              "      <td>2012-04-16</td>\n",
              "      <td>2012</td>\n",
              "    </tr>\n",
              "  </tbody>\n",
              "</table>\n",
              "</div>"
            ]
          },
          "metadata": {},
          "execution_count": 512
        }
      ]
    },
    {
      "cell_type": "code",
      "source": [
        "raw.loc[raw['category'] == 'STYLE & BEAUTY'].sample(5)"
      ],
      "metadata": {
        "colab": {
          "base_uri": "https://localhost:8080/",
          "height": 362
        },
        "id": "auFgHqFBD8xA",
        "outputId": "c5f5aa1d-6f49-47ca-8ccd-fe4959ad8e16"
      },
      "execution_count": null,
      "outputs": [
        {
          "output_type": "execute_result",
          "data": {
            "text/plain": [
              "              category  \\\n",
              "154962  STYLE & BEAUTY   \n",
              "171912  STYLE & BEAUTY   \n",
              "189952  STYLE & BEAUTY   \n",
              "190979  STYLE & BEAUTY   \n",
              "133062  STYLE & BEAUTY   \n",
              "\n",
              "                                                                                                           headline  \\\n",
              "154962                                                    Ashley Olsen's Polo Dress Is Really Confusing Us (PHOTOS)   \n",
              "171912                                              Dianna Agron's Tan Is So Dark We Barely Recognized Her (PHOTOS)   \n",
              "189952  Beauty Street Style: Christine Dayrit, Biology Student, Reveals Her Bright-But-Wearable Pink Lipstick Shade   \n",
              "190979                              Vogue June 2012 Cover Features Serena Williams, Ryan Lochte & Hope Solo (PHOTO)   \n",
              "133062                                                                       5 Of The Most Popular Plus Size Models   \n",
              "\n",
              "                                                          authors  \\\n",
              "154962                                                        NaN   \n",
              "171912                                             Ellie Krupnick   \n",
              "189952                                            Simone Kitchens   \n",
              "190979                                                        NaN   \n",
              "133062  Stephanie Penn, Contributor\\nEditor at DailyVenusDiva.com   \n",
              "\n",
              "                                                                                                          link  \\\n",
              "154962          https://www.huffingtonpost.com/entry/ashley-olsen-polo-dress-photo_us_5b9d3681e4b03a1dcc859c1e   \n",
              "171912           https://www.huffingtonpost.com/entry/dianna-agron-tan-dark-photos_us_5b9c9576e4b03a1dcc800ba4   \n",
              "189952          https://www.huffingtonpost.com/entry/beauty-street-style-real-girl_us_5b9bc10ee4b03a1dcc7a13fc   \n",
              "190979  https://www.huffingtonpost.com/entry/vogue-june-2012-cover-serena-williams_us_5b9bb54ae4b03a1dcc79c1ec   \n",
              "133062              https://www.huffingtonpost.com/entry/5-of-the-most-popular-plu_us_5b9dcccbe4b03a1dcc8d0bd6   \n",
              "\n",
              "                                                                                                                    short_description  \\\n",
              "154962     Ashley, the Olsen most closely associated with classic, understated style, seems to be changing her tune. We scratched our   \n",
              "171912                                                                                           What happened to you, Quinn Fabray ?   \n",
              "189952       In our series FaceTime, we find inspiring girls around New York City and get the secrets to their look. This week we met   \n",
              "190979  \"Men -- who needs 'em?\" has been Vogue's approach to cover stars for the past, oh, century. But for the mag's June 2012 issue   \n",
              "133062    TESS MUNSTER MODELING FOR DOMINO DOLLHOUSE In the plus size community, no one is more popular than plus size models so when   \n",
              "\n",
              "             date  year  \n",
              "154962 2013-06-02  2013  \n",
              "171912 2012-12-05  2012  \n",
              "189952 2012-05-24  2012  \n",
              "190979 2012-05-13  2012  \n",
              "133062 2014-01-21  2014  "
            ],
            "text/html": [
              "<div>\n",
              "<style scoped>\n",
              "    .dataframe tbody tr th:only-of-type {\n",
              "        vertical-align: middle;\n",
              "    }\n",
              "\n",
              "    .dataframe tbody tr th {\n",
              "        vertical-align: top;\n",
              "    }\n",
              "\n",
              "    .dataframe thead th {\n",
              "        text-align: right;\n",
              "    }\n",
              "</style>\n",
              "<table border=\"1\" class=\"dataframe\">\n",
              "  <thead>\n",
              "    <tr style=\"text-align: right;\">\n",
              "      <th></th>\n",
              "      <th>category</th>\n",
              "      <th>headline</th>\n",
              "      <th>authors</th>\n",
              "      <th>link</th>\n",
              "      <th>short_description</th>\n",
              "      <th>date</th>\n",
              "      <th>year</th>\n",
              "    </tr>\n",
              "  </thead>\n",
              "  <tbody>\n",
              "    <tr>\n",
              "      <th>154962</th>\n",
              "      <td>STYLE &amp; BEAUTY</td>\n",
              "      <td>Ashley Olsen's Polo Dress Is Really Confusing Us (PHOTOS)</td>\n",
              "      <td>NaN</td>\n",
              "      <td>https://www.huffingtonpost.com/entry/ashley-olsen-polo-dress-photo_us_5b9d3681e4b03a1dcc859c1e</td>\n",
              "      <td>Ashley, the Olsen most closely associated with classic, understated style, seems to be changing her tune. We scratched our</td>\n",
              "      <td>2013-06-02</td>\n",
              "      <td>2013</td>\n",
              "    </tr>\n",
              "    <tr>\n",
              "      <th>171912</th>\n",
              "      <td>STYLE &amp; BEAUTY</td>\n",
              "      <td>Dianna Agron's Tan Is So Dark We Barely Recognized Her (PHOTOS)</td>\n",
              "      <td>Ellie Krupnick</td>\n",
              "      <td>https://www.huffingtonpost.com/entry/dianna-agron-tan-dark-photos_us_5b9c9576e4b03a1dcc800ba4</td>\n",
              "      <td>What happened to you, Quinn Fabray ?</td>\n",
              "      <td>2012-12-05</td>\n",
              "      <td>2012</td>\n",
              "    </tr>\n",
              "    <tr>\n",
              "      <th>189952</th>\n",
              "      <td>STYLE &amp; BEAUTY</td>\n",
              "      <td>Beauty Street Style: Christine Dayrit, Biology Student, Reveals Her Bright-But-Wearable Pink Lipstick Shade</td>\n",
              "      <td>Simone Kitchens</td>\n",
              "      <td>https://www.huffingtonpost.com/entry/beauty-street-style-real-girl_us_5b9bc10ee4b03a1dcc7a13fc</td>\n",
              "      <td>In our series FaceTime, we find inspiring girls around New York City and get the secrets to their look. This week we met</td>\n",
              "      <td>2012-05-24</td>\n",
              "      <td>2012</td>\n",
              "    </tr>\n",
              "    <tr>\n",
              "      <th>190979</th>\n",
              "      <td>STYLE &amp; BEAUTY</td>\n",
              "      <td>Vogue June 2012 Cover Features Serena Williams, Ryan Lochte &amp; Hope Solo (PHOTO)</td>\n",
              "      <td>NaN</td>\n",
              "      <td>https://www.huffingtonpost.com/entry/vogue-june-2012-cover-serena-williams_us_5b9bb54ae4b03a1dcc79c1ec</td>\n",
              "      <td>\"Men -- who needs 'em?\" has been Vogue's approach to cover stars for the past, oh, century. But for the mag's June 2012 issue</td>\n",
              "      <td>2012-05-13</td>\n",
              "      <td>2012</td>\n",
              "    </tr>\n",
              "    <tr>\n",
              "      <th>133062</th>\n",
              "      <td>STYLE &amp; BEAUTY</td>\n",
              "      <td>5 Of The Most Popular Plus Size Models</td>\n",
              "      <td>Stephanie Penn, Contributor\\nEditor at DailyVenusDiva.com</td>\n",
              "      <td>https://www.huffingtonpost.com/entry/5-of-the-most-popular-plu_us_5b9dcccbe4b03a1dcc8d0bd6</td>\n",
              "      <td>TESS MUNSTER MODELING FOR DOMINO DOLLHOUSE In the plus size community, no one is more popular than plus size models so when</td>\n",
              "      <td>2014-01-21</td>\n",
              "      <td>2014</td>\n",
              "    </tr>\n",
              "  </tbody>\n",
              "</table>\n",
              "</div>"
            ]
          },
          "metadata": {},
          "execution_count": 513
        }
      ]
    },
    {
      "cell_type": "code",
      "source": [
        "raw.loc[raw['category'] == 'IMPACT'].sample(5)"
      ],
      "metadata": {
        "colab": {
          "base_uri": "https://localhost:8080/",
          "height": 380
        },
        "id": "VXI0lUuqazLS",
        "outputId": "d9e759ca-8b26-4460-8191-1210f1e22623"
      },
      "execution_count": null,
      "outputs": [
        {
          "output_type": "execute_result",
          "data": {
            "text/plain": [
              "       category  \\\n",
              "152444   IMPACT   \n",
              "60115    IMPACT   \n",
              "115596   IMPACT   \n",
              "110731   IMPACT   \n",
              "87730    IMPACT   \n",
              "\n",
              "                                                                   headline  \\\n",
              "152444                                    Afternoon Of Conversation (VIDEO)   \n",
              "60115      New App Uses Push Notifications To Reach Nonprofit Donors Faster   \n",
              "115596  Making a Difference in the World of Giving: The Summer-Athon Season   \n",
              "110731   Why The Fight For Maternal and Child Health Is A Race Against Time   \n",
              "87730                                                 A Tribute to a Father   \n",
              "\n",
              "                                                                                              authors  \\\n",
              "152444                                                       The Aspen Institute, The Aspen Institute   \n",
              "60115                                                                                    Kalya Koltes   \n",
              "115596  Lisa M. Dietlin, ContributorCEO, Lisa M. Dietlin and Associates, Inc., philanthropic advis...   \n",
              "110731       Sharon D'Agostino, ContributorVice President, Corporate Citizenship at Johnson & Johnson   \n",
              "87730                            Dr. Jane Aronson, ContributorPediatrician and CEO, Worldwide Orphans   \n",
              "\n",
              "                                                                                                     link  \\\n",
              "152444         https://www.huffingtonpost.com/entry/aspen-ideas-festival-2013_us_5bb1adfee4b01857b709f1c0   \n",
              "60115   https://www.huffingtonpost.com/entry/letsalldogood-nonprofit-donation_us_57224c49e4b01a5ebde4e0b4   \n",
              "115596                   https://www.huffingtonpost.com/entry/making-a-difference-the-w_37_b_5641863.html   \n",
              "110731                      https://www.huffingtonpost.com/entry/why-the-fight-for-materna_b_5889716.html   \n",
              "87730                           https://www.huffingtonpost.com/entry/a-tribute-to-a-father_b_7629910.html   \n",
              "\n",
              "                                                                                                                                                                                                                                                                                                             short_description  \\\n",
              "152444                                                                                                                                                                                               Tweets about \"#aspenideas\" TIME: 4:00pm-7:00pm EST For more information and a schedule of events for the 2013 Aspen Ideas   \n",
              "60115                                                                                                                                                                                                                                                                                           Charities are getting a boost.   \n",
              "115596                                                                                                                                                                  Some might say it is too late to participate but I would counter with that now is the perfect time for you to get involved and be Making A Difference!   \n",
              "110731                                                                                                                                                                                When we entered the delivery room of a small hospital in rural Malawi, our eyes went immediately to the two newborns lying side by side.   \n",
              "87730   I wish that I had listened to my father more. I wish I let things that hurt roll off my back more and trusted that being natural and myself was safe. He advised me to pursue so many goals for myself and I didn't listen because I did not believe in myself. He wanted me to trust myself and I fought him on this.   \n",
              "\n",
              "             date  year  \n",
              "152444 2013-06-29  2013  \n",
              "60115  2016-04-29  2016  \n",
              "115596 2014-08-04  2014  \n",
              "110731 2014-09-29  2014  \n",
              "87730  2015-06-21  2015  "
            ],
            "text/html": [
              "<div>\n",
              "<style scoped>\n",
              "    .dataframe tbody tr th:only-of-type {\n",
              "        vertical-align: middle;\n",
              "    }\n",
              "\n",
              "    .dataframe tbody tr th {\n",
              "        vertical-align: top;\n",
              "    }\n",
              "\n",
              "    .dataframe thead th {\n",
              "        text-align: right;\n",
              "    }\n",
              "</style>\n",
              "<table border=\"1\" class=\"dataframe\">\n",
              "  <thead>\n",
              "    <tr style=\"text-align: right;\">\n",
              "      <th></th>\n",
              "      <th>category</th>\n",
              "      <th>headline</th>\n",
              "      <th>authors</th>\n",
              "      <th>link</th>\n",
              "      <th>short_description</th>\n",
              "      <th>date</th>\n",
              "      <th>year</th>\n",
              "    </tr>\n",
              "  </thead>\n",
              "  <tbody>\n",
              "    <tr>\n",
              "      <th>152444</th>\n",
              "      <td>IMPACT</td>\n",
              "      <td>Afternoon Of Conversation (VIDEO)</td>\n",
              "      <td>The Aspen Institute, The Aspen Institute</td>\n",
              "      <td>https://www.huffingtonpost.com/entry/aspen-ideas-festival-2013_us_5bb1adfee4b01857b709f1c0</td>\n",
              "      <td>Tweets about \"#aspenideas\" TIME: 4:00pm-7:00pm EST For more information and a schedule of events for the 2013 Aspen Ideas</td>\n",
              "      <td>2013-06-29</td>\n",
              "      <td>2013</td>\n",
              "    </tr>\n",
              "    <tr>\n",
              "      <th>60115</th>\n",
              "      <td>IMPACT</td>\n",
              "      <td>New App Uses Push Notifications To Reach Nonprofit Donors Faster</td>\n",
              "      <td>Kalya Koltes</td>\n",
              "      <td>https://www.huffingtonpost.com/entry/letsalldogood-nonprofit-donation_us_57224c49e4b01a5ebde4e0b4</td>\n",
              "      <td>Charities are getting a boost.</td>\n",
              "      <td>2016-04-29</td>\n",
              "      <td>2016</td>\n",
              "    </tr>\n",
              "    <tr>\n",
              "      <th>115596</th>\n",
              "      <td>IMPACT</td>\n",
              "      <td>Making a Difference in the World of Giving: The Summer-Athon Season</td>\n",
              "      <td>Lisa M. Dietlin, ContributorCEO, Lisa M. Dietlin and Associates, Inc., philanthropic advis...</td>\n",
              "      <td>https://www.huffingtonpost.com/entry/making-a-difference-the-w_37_b_5641863.html</td>\n",
              "      <td>Some might say it is too late to participate but I would counter with that now is the perfect time for you to get involved and be Making A Difference!</td>\n",
              "      <td>2014-08-04</td>\n",
              "      <td>2014</td>\n",
              "    </tr>\n",
              "    <tr>\n",
              "      <th>110731</th>\n",
              "      <td>IMPACT</td>\n",
              "      <td>Why The Fight For Maternal and Child Health Is A Race Against Time</td>\n",
              "      <td>Sharon D'Agostino, ContributorVice President, Corporate Citizenship at Johnson &amp; Johnson</td>\n",
              "      <td>https://www.huffingtonpost.com/entry/why-the-fight-for-materna_b_5889716.html</td>\n",
              "      <td>When we entered the delivery room of a small hospital in rural Malawi, our eyes went immediately to the two newborns lying side by side.</td>\n",
              "      <td>2014-09-29</td>\n",
              "      <td>2014</td>\n",
              "    </tr>\n",
              "    <tr>\n",
              "      <th>87730</th>\n",
              "      <td>IMPACT</td>\n",
              "      <td>A Tribute to a Father</td>\n",
              "      <td>Dr. Jane Aronson, ContributorPediatrician and CEO, Worldwide Orphans</td>\n",
              "      <td>https://www.huffingtonpost.com/entry/a-tribute-to-a-father_b_7629910.html</td>\n",
              "      <td>I wish that I had listened to my father more. I wish I let things that hurt roll off my back more and trusted that being natural and myself was safe. He advised me to pursue so many goals for myself and I didn't listen because I did not believe in myself. He wanted me to trust myself and I fought him on this.</td>\n",
              "      <td>2015-06-21</td>\n",
              "      <td>2015</td>\n",
              "    </tr>\n",
              "  </tbody>\n",
              "</table>\n",
              "</div>"
            ]
          },
          "metadata": {},
          "execution_count": 514
        }
      ]
    },
    {
      "cell_type": "code",
      "source": [
        "raw.loc[raw['category'] == 'SCIENCE'].sample(5)"
      ],
      "metadata": {
        "colab": {
          "base_uri": "https://localhost:8080/",
          "height": 397
        },
        "id": "Pa8REbwUMrEc",
        "outputId": "11e9fa94-c130-4aff-e68a-227130cc6e15"
      },
      "execution_count": null,
      "outputs": [
        {
          "output_type": "execute_result",
          "data": {
            "text/plain": [
              "       category  \\\n",
              "111178  SCIENCE   \n",
              "130475  SCIENCE   \n",
              "151103  SCIENCE   \n",
              "85408   SCIENCE   \n",
              "139777  SCIENCE   \n",
              "\n",
              "                                                                                            headline  \\\n",
              "111178                                                   Vaccinations: An Epidemic of Misinformation   \n",
              "130475                                                                 Is The Universe A Simulation?   \n",
              "151103  Neanderthal Language & Speech Shared With Modern Humans A Million Years Ago, Researchers Say   \n",
              "85408                              New Photo Shows Pluto's 'Heart' Actually A Vast, Frozen Wasteland   \n",
              "139777               Ancient Cave Drawings Found In Brazil Depict Armadillos, Other Animals (PHOTOS)   \n",
              "\n",
              "                                                                                              authors  \\\n",
              "111178  Jeff Schweitzer, ContributorScientist and former White House Senior Policy Analyst; Ph.D. ...   \n",
              "130475                                                                                            NaN   \n",
              "151103                                                                                 Melissa Cronin   \n",
              "85408                                                                                   Ryan Grenoble   \n",
              "139777                                                                       LiveScience, LiveScience   \n",
              "\n",
              "                                                                                                                    link  \\\n",
              "111178                                      https://www.huffingtonpost.com/entry/vaccinations-an-epidemic_b_5877630.html   \n",
              "130475  https://www.huffingtonpost.comhttp://www.nytimes.com/2014/02/16/opinion/sunday/is-the-universe-a-simulation.html   \n",
              "151103        https://www.huffingtonpost.com/entry/neanderthal-language-speech-modern-humans_us_5baeb816e4b014374e2e6d2e   \n",
              "85408                            https://www.huffingtonpost.com/entry/pluto-heart-photo-data_us_55a94deae4b0d2ded39eebef   \n",
              "139777                             https://www.huffingtonpost.com/entry/cave-drawings-brazil_us_5baebc55e4b014374e2ea845   \n",
              "\n",
              "                                                                                                                          short_description  \\\n",
              "111178                                Ignorance, false claims to expertise and scientific illiteracy are threatening our children's health.   \n",
              "130475  IN Mikhail Bulgakovâ€™sÂ novel â€œThe Master and Margarita,â€ the protagonist, a writer, burns a manuscript in a moment of despair   \n",
              "151103            While many believe that modern language began around 50,000 years ago, the paper names a period about a million years ago   \n",
              "85408                                                                                   Warm and fuzzy from afar, cold and barren up close.   \n",
              "139777        White-lipped peccaries may not be glamorous-looking, but like their truffle-sniffing cousins, they sometimes turn up treasure   \n",
              "\n",
              "             date  year  \n",
              "111178 2014-09-24  2014  \n",
              "130475 2014-02-17  2014  \n",
              "151103 2013-07-13  2013  \n",
              "85408  2015-07-17  2015  \n",
              "139777 2013-11-10  2013  "
            ],
            "text/html": [
              "<div>\n",
              "<style scoped>\n",
              "    .dataframe tbody tr th:only-of-type {\n",
              "        vertical-align: middle;\n",
              "    }\n",
              "\n",
              "    .dataframe tbody tr th {\n",
              "        vertical-align: top;\n",
              "    }\n",
              "\n",
              "    .dataframe thead th {\n",
              "        text-align: right;\n",
              "    }\n",
              "</style>\n",
              "<table border=\"1\" class=\"dataframe\">\n",
              "  <thead>\n",
              "    <tr style=\"text-align: right;\">\n",
              "      <th></th>\n",
              "      <th>category</th>\n",
              "      <th>headline</th>\n",
              "      <th>authors</th>\n",
              "      <th>link</th>\n",
              "      <th>short_description</th>\n",
              "      <th>date</th>\n",
              "      <th>year</th>\n",
              "    </tr>\n",
              "  </thead>\n",
              "  <tbody>\n",
              "    <tr>\n",
              "      <th>111178</th>\n",
              "      <td>SCIENCE</td>\n",
              "      <td>Vaccinations: An Epidemic of Misinformation</td>\n",
              "      <td>Jeff Schweitzer, ContributorScientist and former White House Senior Policy Analyst; Ph.D. ...</td>\n",
              "      <td>https://www.huffingtonpost.com/entry/vaccinations-an-epidemic_b_5877630.html</td>\n",
              "      <td>Ignorance, false claims to expertise and scientific illiteracy are threatening our children's health.</td>\n",
              "      <td>2014-09-24</td>\n",
              "      <td>2014</td>\n",
              "    </tr>\n",
              "    <tr>\n",
              "      <th>130475</th>\n",
              "      <td>SCIENCE</td>\n",
              "      <td>Is The Universe A Simulation?</td>\n",
              "      <td>NaN</td>\n",
              "      <td>https://www.huffingtonpost.comhttp://www.nytimes.com/2014/02/16/opinion/sunday/is-the-universe-a-simulation.html</td>\n",
              "      <td>IN Mikhail Bulgakovâ€™sÂ novel â€œThe Master and Margarita,â€ the protagonist, a writer, burns a manuscript in a moment of despair</td>\n",
              "      <td>2014-02-17</td>\n",
              "      <td>2014</td>\n",
              "    </tr>\n",
              "    <tr>\n",
              "      <th>151103</th>\n",
              "      <td>SCIENCE</td>\n",
              "      <td>Neanderthal Language &amp; Speech Shared With Modern Humans A Million Years Ago, Researchers Say</td>\n",
              "      <td>Melissa Cronin</td>\n",
              "      <td>https://www.huffingtonpost.com/entry/neanderthal-language-speech-modern-humans_us_5baeb816e4b014374e2e6d2e</td>\n",
              "      <td>While many believe that modern language began around 50,000 years ago, the paper names a period about a million years ago</td>\n",
              "      <td>2013-07-13</td>\n",
              "      <td>2013</td>\n",
              "    </tr>\n",
              "    <tr>\n",
              "      <th>85408</th>\n",
              "      <td>SCIENCE</td>\n",
              "      <td>New Photo Shows Pluto's 'Heart' Actually A Vast, Frozen Wasteland</td>\n",
              "      <td>Ryan Grenoble</td>\n",
              "      <td>https://www.huffingtonpost.com/entry/pluto-heart-photo-data_us_55a94deae4b0d2ded39eebef</td>\n",
              "      <td>Warm and fuzzy from afar, cold and barren up close.</td>\n",
              "      <td>2015-07-17</td>\n",
              "      <td>2015</td>\n",
              "    </tr>\n",
              "    <tr>\n",
              "      <th>139777</th>\n",
              "      <td>SCIENCE</td>\n",
              "      <td>Ancient Cave Drawings Found In Brazil Depict Armadillos, Other Animals (PHOTOS)</td>\n",
              "      <td>LiveScience, LiveScience</td>\n",
              "      <td>https://www.huffingtonpost.com/entry/cave-drawings-brazil_us_5baebc55e4b014374e2ea845</td>\n",
              "      <td>White-lipped peccaries may not be glamorous-looking, but like their truffle-sniffing cousins, they sometimes turn up treasure</td>\n",
              "      <td>2013-11-10</td>\n",
              "      <td>2013</td>\n",
              "    </tr>\n",
              "  </tbody>\n",
              "</table>\n",
              "</div>"
            ]
          },
          "metadata": {},
          "execution_count": 515
        }
      ]
    },
    {
      "cell_type": "code",
      "source": [
        "raw.loc[raw['category'] == 'ARTS & CULTURE'].sample(5)"
      ],
      "metadata": {
        "colab": {
          "base_uri": "https://localhost:8080/",
          "height": 293
        },
        "id": "_cn8Ycn9XMf4",
        "outputId": "72f2558c-72d9-4ce4-e180-0b655c7ce454"
      },
      "execution_count": null,
      "outputs": [
        {
          "output_type": "execute_result",
          "data": {
            "text/plain": [
              "             category  \\\n",
              "28084  ARTS & CULTURE   \n",
              "45946  ARTS & CULTURE   \n",
              "62953  ARTS & CULTURE   \n",
              "9751   ARTS & CULTURE   \n",
              "25374  ARTS & CULTURE   \n",
              "\n",
              "                                                                           headline  \\\n",
              "28084  This Instagram Account Is Documenting Every Anti-Donald Trump Sticker In NYC   \n",
              "45946    Stunning 'Soundsuits' Address The Realities Of Racial Profiling In America   \n",
              "62953                  You Should Probably Follow The 'Mushroom Ninja' On Instagram   \n",
              "9751                Merriam-Webster Expertly Sums Up 2017 With Its Word Of The Year   \n",
              "25374      Minnesota Museum To Remove Gallows Exhibit After Native American Protest   \n",
              "\n",
              "                authors  \\\n",
              "28084         Lee Moran   \n",
              "45946  Katherine Brooks   \n",
              "62953   Priscilla Frank   \n",
              "9751          Lee Moran   \n",
              "25374    Mary Papenfuss   \n",
              "\n",
              "                                                                                                                            link  \\\n",
              "28084                   https://www.huffingtonpost.com/entry/instagram-resistrump-stickers-nyc-trump_us_5902f041e4b05c39767d7710   \n",
              "45946                                      https://www.huffingtonpost.com/entry/nick-cave-soundsuits_us_57f79dcae4b0e655eab37e67   \n",
              "62953  https://www.huffingtonpost.com/entry/please-follow-this-mushroom-ninja-on-instagram-right-now_us_56f94e0ee4b0143a9b48aa1f   \n",
              "9751                      https://www.huffingtonpost.com/entry/merriam-webster-word-of-the-year-2017_us_5a2fd37fe4b01598ac48045f   \n",
              "25374                        https://www.huffingtonpost.com/entry/walker-gallows-exhibit-dismantling_us_592b7914e4b0df57cbfc7432   \n",
              "\n",
              "                                                                                                    short_description  \\\n",
              "28084              \"Itâ€™s a way of dealing with and trying to make at least a little light out of a dark situation.\"   \n",
              "45946          â€œThe soundsuits hide gender, race, class and they force you to look at the work without judgment.â€   \n",
              "62953                                                                  The true \"champignon\" of mushroom photography.   \n",
              "9751                                      No, it's not \"dotard\" -- although Kim Jong Un's insult did make the top 10.   \n",
              "25374  The work, which depicts a structure where 38 Dakota Indians were killed, was criticized for being insensitive.   \n",
              "\n",
              "            date  year  \n",
              "28084 2017-04-28  2017  \n",
              "45946 2016-10-07  2016  \n",
              "62953 2016-03-28  2016  \n",
              "9751  2017-12-12  2017  \n",
              "25374 2017-05-29  2017  "
            ],
            "text/html": [
              "<div>\n",
              "<style scoped>\n",
              "    .dataframe tbody tr th:only-of-type {\n",
              "        vertical-align: middle;\n",
              "    }\n",
              "\n",
              "    .dataframe tbody tr th {\n",
              "        vertical-align: top;\n",
              "    }\n",
              "\n",
              "    .dataframe thead th {\n",
              "        text-align: right;\n",
              "    }\n",
              "</style>\n",
              "<table border=\"1\" class=\"dataframe\">\n",
              "  <thead>\n",
              "    <tr style=\"text-align: right;\">\n",
              "      <th></th>\n",
              "      <th>category</th>\n",
              "      <th>headline</th>\n",
              "      <th>authors</th>\n",
              "      <th>link</th>\n",
              "      <th>short_description</th>\n",
              "      <th>date</th>\n",
              "      <th>year</th>\n",
              "    </tr>\n",
              "  </thead>\n",
              "  <tbody>\n",
              "    <tr>\n",
              "      <th>28084</th>\n",
              "      <td>ARTS &amp; CULTURE</td>\n",
              "      <td>This Instagram Account Is Documenting Every Anti-Donald Trump Sticker In NYC</td>\n",
              "      <td>Lee Moran</td>\n",
              "      <td>https://www.huffingtonpost.com/entry/instagram-resistrump-stickers-nyc-trump_us_5902f041e4b05c39767d7710</td>\n",
              "      <td>\"Itâ€™s a way of dealing with and trying to make at least a little light out of a dark situation.\"</td>\n",
              "      <td>2017-04-28</td>\n",
              "      <td>2017</td>\n",
              "    </tr>\n",
              "    <tr>\n",
              "      <th>45946</th>\n",
              "      <td>ARTS &amp; CULTURE</td>\n",
              "      <td>Stunning 'Soundsuits' Address The Realities Of Racial Profiling In America</td>\n",
              "      <td>Katherine Brooks</td>\n",
              "      <td>https://www.huffingtonpost.com/entry/nick-cave-soundsuits_us_57f79dcae4b0e655eab37e67</td>\n",
              "      <td>â€œThe soundsuits hide gender, race, class and they force you to look at the work without judgment.â€</td>\n",
              "      <td>2016-10-07</td>\n",
              "      <td>2016</td>\n",
              "    </tr>\n",
              "    <tr>\n",
              "      <th>62953</th>\n",
              "      <td>ARTS &amp; CULTURE</td>\n",
              "      <td>You Should Probably Follow The 'Mushroom Ninja' On Instagram</td>\n",
              "      <td>Priscilla Frank</td>\n",
              "      <td>https://www.huffingtonpost.com/entry/please-follow-this-mushroom-ninja-on-instagram-right-now_us_56f94e0ee4b0143a9b48aa1f</td>\n",
              "      <td>The true \"champignon\" of mushroom photography.</td>\n",
              "      <td>2016-03-28</td>\n",
              "      <td>2016</td>\n",
              "    </tr>\n",
              "    <tr>\n",
              "      <th>9751</th>\n",
              "      <td>ARTS &amp; CULTURE</td>\n",
              "      <td>Merriam-Webster Expertly Sums Up 2017 With Its Word Of The Year</td>\n",
              "      <td>Lee Moran</td>\n",
              "      <td>https://www.huffingtonpost.com/entry/merriam-webster-word-of-the-year-2017_us_5a2fd37fe4b01598ac48045f</td>\n",
              "      <td>No, it's not \"dotard\" -- although Kim Jong Un's insult did make the top 10.</td>\n",
              "      <td>2017-12-12</td>\n",
              "      <td>2017</td>\n",
              "    </tr>\n",
              "    <tr>\n",
              "      <th>25374</th>\n",
              "      <td>ARTS &amp; CULTURE</td>\n",
              "      <td>Minnesota Museum To Remove Gallows Exhibit After Native American Protest</td>\n",
              "      <td>Mary Papenfuss</td>\n",
              "      <td>https://www.huffingtonpost.com/entry/walker-gallows-exhibit-dismantling_us_592b7914e4b0df57cbfc7432</td>\n",
              "      <td>The work, which depicts a structure where 38 Dakota Indians were killed, was criticized for being insensitive.</td>\n",
              "      <td>2017-05-29</td>\n",
              "      <td>2017</td>\n",
              "    </tr>\n",
              "  </tbody>\n",
              "</table>\n",
              "</div>"
            ]
          },
          "metadata": {},
          "execution_count": 516
        }
      ]
    },
    {
      "cell_type": "code",
      "source": [
        "raw.loc[raw['category'] == 'CRIME'].sample(5)"
      ],
      "metadata": {
        "colab": {
          "base_uri": "https://localhost:8080/",
          "height": 327
        },
        "id": "KN0yGlClYm-M",
        "outputId": "630afade-f5ed-4d6a-c5d3-dfd19df66ee5"
      },
      "execution_count": null,
      "outputs": [
        {
          "output_type": "execute_result",
          "data": {
            "text/plain": [
              "       category  \\\n",
              "164883    CRIME   \n",
              "73982     CRIME   \n",
              "60160     CRIME   \n",
              "83482     CRIME   \n",
              "82086     CRIME   \n",
              "\n",
              "                                                                                      headline  \\\n",
              "164883                          Brothers Blow Up House Celebrating Lottery Win In Kansas: Cops   \n",
              "73982                              This Fake Gun Made From Soap Was Part Of Prison Escape Plot   \n",
              "60160   FBI arrests brother of San Bernardino terrorist and 2 others on marriage fraud charges   \n",
              "83482                    Young, Unarmed Black Man Killed By Cop Didn't Want To 'Die Too Young'   \n",
              "82086                              Officer Shot In The Head While Trying To Help Motorist Dies   \n",
              "\n",
              "                  authors  \\\n",
              "164883                NaN   \n",
              "73982           Lee Moran   \n",
              "60160                 NaN   \n",
              "83482   Sebastian Murdock   \n",
              "82086                 NaN   \n",
              "\n",
              "                                                                                                                                       link  \\\n",
              "164883                               https://www.huffingtonpost.com/entry/brothers-blow-up-house-lottery-kansas_us_5ba2bee5e4b0c2784da5768a   \n",
              "73982                                               https://www.huffingtonpost.com/entry/fake-gun-prison-escape_us_5651b44be4b0879a5b0b59f2   \n",
              "60160      https://www.huffingtonpost.comhttp://www.latimes.com/local/lanow/la-me-ln-fbi-serves-san-bernardino-warrants-20160428-story.html   \n",
              "83482   https://www.huffingtonpost.com/entry/young-unarmed-black-man-killed-by-cops-didnt-want-to-die-too-young_us_55c6283ae4b0923c12bd0fa7   \n",
              "82086          https://www.huffingtonpost.com/entry/officer-shot-in-the-head-while-trying-to-help-motorist-dies_us_55db5f50e4b0a40aa3ab9f17   \n",
              "\n",
              "                                                                                                                 short_description  \\\n",
              "164883   From the Wichita Eagle: One of the brothers went to the kitchen to refuel the butane torches they planned to use to light   \n",
              "73982                                   Two prisoners face additional charges after the phony weapon was discovered inside a cell.   \n",
              "60160   Federal agents arrested three people, including the older brother of San Bernardino gunman Syed Rizwan Farook,Â on charges   \n",
              "83482                                                                                      \"I don't feel protected by the police.\"   \n",
              "82086                                                           \"Tragically these things happen far too often around the country.\"   \n",
              "\n",
              "             date  year  \n",
              "164883 2013-02-18  2013  \n",
              "73982  2015-11-22  2015  \n",
              "60160  2016-04-28  2016  \n",
              "83482  2015-08-08  2015  \n",
              "82086  2015-08-24  2015  "
            ],
            "text/html": [
              "<div>\n",
              "<style scoped>\n",
              "    .dataframe tbody tr th:only-of-type {\n",
              "        vertical-align: middle;\n",
              "    }\n",
              "\n",
              "    .dataframe tbody tr th {\n",
              "        vertical-align: top;\n",
              "    }\n",
              "\n",
              "    .dataframe thead th {\n",
              "        text-align: right;\n",
              "    }\n",
              "</style>\n",
              "<table border=\"1\" class=\"dataframe\">\n",
              "  <thead>\n",
              "    <tr style=\"text-align: right;\">\n",
              "      <th></th>\n",
              "      <th>category</th>\n",
              "      <th>headline</th>\n",
              "      <th>authors</th>\n",
              "      <th>link</th>\n",
              "      <th>short_description</th>\n",
              "      <th>date</th>\n",
              "      <th>year</th>\n",
              "    </tr>\n",
              "  </thead>\n",
              "  <tbody>\n",
              "    <tr>\n",
              "      <th>164883</th>\n",
              "      <td>CRIME</td>\n",
              "      <td>Brothers Blow Up House Celebrating Lottery Win In Kansas: Cops</td>\n",
              "      <td>NaN</td>\n",
              "      <td>https://www.huffingtonpost.com/entry/brothers-blow-up-house-lottery-kansas_us_5ba2bee5e4b0c2784da5768a</td>\n",
              "      <td>From the Wichita Eagle: One of the brothers went to the kitchen to refuel the butane torches they planned to use to light</td>\n",
              "      <td>2013-02-18</td>\n",
              "      <td>2013</td>\n",
              "    </tr>\n",
              "    <tr>\n",
              "      <th>73982</th>\n",
              "      <td>CRIME</td>\n",
              "      <td>This Fake Gun Made From Soap Was Part Of Prison Escape Plot</td>\n",
              "      <td>Lee Moran</td>\n",
              "      <td>https://www.huffingtonpost.com/entry/fake-gun-prison-escape_us_5651b44be4b0879a5b0b59f2</td>\n",
              "      <td>Two prisoners face additional charges after the phony weapon was discovered inside a cell.</td>\n",
              "      <td>2015-11-22</td>\n",
              "      <td>2015</td>\n",
              "    </tr>\n",
              "    <tr>\n",
              "      <th>60160</th>\n",
              "      <td>CRIME</td>\n",
              "      <td>FBI arrests brother of San Bernardino terrorist and 2 others on marriage fraud charges</td>\n",
              "      <td>NaN</td>\n",
              "      <td>https://www.huffingtonpost.comhttp://www.latimes.com/local/lanow/la-me-ln-fbi-serves-san-bernardino-warrants-20160428-story.html</td>\n",
              "      <td>Federal agents arrested three people, including the older brother of San Bernardino gunman Syed Rizwan Farook,Â on charges</td>\n",
              "      <td>2016-04-28</td>\n",
              "      <td>2016</td>\n",
              "    </tr>\n",
              "    <tr>\n",
              "      <th>83482</th>\n",
              "      <td>CRIME</td>\n",
              "      <td>Young, Unarmed Black Man Killed By Cop Didn't Want To 'Die Too Young'</td>\n",
              "      <td>Sebastian Murdock</td>\n",
              "      <td>https://www.huffingtonpost.com/entry/young-unarmed-black-man-killed-by-cops-didnt-want-to-die-too-young_us_55c6283ae4b0923c12bd0fa7</td>\n",
              "      <td>\"I don't feel protected by the police.\"</td>\n",
              "      <td>2015-08-08</td>\n",
              "      <td>2015</td>\n",
              "    </tr>\n",
              "    <tr>\n",
              "      <th>82086</th>\n",
              "      <td>CRIME</td>\n",
              "      <td>Officer Shot In The Head While Trying To Help Motorist Dies</td>\n",
              "      <td>NaN</td>\n",
              "      <td>https://www.huffingtonpost.com/entry/officer-shot-in-the-head-while-trying-to-help-motorist-dies_us_55db5f50e4b0a40aa3ab9f17</td>\n",
              "      <td>\"Tragically these things happen far too often around the country.\"</td>\n",
              "      <td>2015-08-24</td>\n",
              "      <td>2015</td>\n",
              "    </tr>\n",
              "  </tbody>\n",
              "</table>\n",
              "</div>"
            ]
          },
          "metadata": {},
          "execution_count": 517
        }
      ]
    },
    {
      "cell_type": "code",
      "source": [
        "raw.loc[raw['category'] == 'RELIGION'].sample(5)"
      ],
      "metadata": {
        "colab": {
          "base_uri": "https://localhost:8080/",
          "height": 362
        },
        "id": "jIBD95dUZWJl",
        "outputId": "b344aa27-85b0-4862-b185-56fde04186cf"
      },
      "execution_count": null,
      "outputs": [
        {
          "output_type": "execute_result",
          "data": {
            "text/plain": [
              "       category  \\\n",
              "81626  RELIGION   \n",
              "86356  RELIGION   \n",
              "22414  RELIGION   \n",
              "85926  RELIGION   \n",
              "46852  RELIGION   \n",
              "\n",
              "                                                                      headline  \\\n",
              "81626        'Nuns On The Bus' To Drive Through Seven States To Greet The Pope   \n",
              "86356           Pope Francis Sends Blessing To Young Athlete Fighting Leukemia   \n",
              "22414                               When Gospel Sermons Came On The Phonograph   \n",
              "85926  Pope Francis' Mass In Paraguay Is Like A Makeshift Argentine Homecoming   \n",
              "46852                              New York City Is Taking Aim At Islamophobia   \n",
              "\n",
              "                                                                                                 authors  \\\n",
              "81626                                                                David Gibson, Religion News Service   \n",
              "86356                                                                                   Antonia Blumberg   \n",
              "22414  The Conversation US, ContributorViews from experts in academia, providing fact-based analysis ...   \n",
              "85926                                              Peter Prengaman And Nicole Winfield, Associated Press   \n",
              "46852                                                                           Ellen Wulfhorst, Reuters   \n",
              "\n",
              "                                                                                                                                          link  \\\n",
              "81626         https://www.huffingtonpost.com/entry/nuns-on-the-bus-to-drive-through-seven-states-to-greet-the-pope_us_55ddf775e4b0a40aa3ad1aea   \n",
              "86356                                        https://www.huffingtonpost.com/entry/pope-francis-lichu-zeno-leukemia_us_559ad26de4b0759e2b50e3a8   \n",
              "22414                              https://www.huffingtonpost.com/entry/when-gospel-sermons-came-on-the-phonograph_us_5958fda5e4b0326c0a8d1176   \n",
              "85926  https://www.huffingtonpost.com/entry/pope-francis-mass-in-paraguay-is-like-a-makeshift-argentine-homecoming_us_55a135dde4b0a47ac15cabdc   \n",
              "46852                             https://www.huffingtonpost.com/entry/new-york-city-is-taking-aim-at-islamophobia_us_57eaab46e4b0c2407cd9ddc3   \n",
              "\n",
              "                                                                                                                   short_description  \\\n",
              "81626                                                                      They plan to park themselves where the pope can see them.   \n",
              "86356    Even in the midst of aÂ journey to Latin America, Pope Francis took a moment on Sunday to send a message of hope to a young   \n",
              "22414  By Jerry Zolten, Pennsylvania State University â€œKinky Hair is No Disgraceâ€ spoke to demoralization stemming from negative   \n",
              "85926                                                                     Youth groups chanted \"Pope Francis, Paraguay is with you!\"   \n",
              "46852                                        A new social media campaign is trying to fight discrimination against American Muslims.   \n",
              "\n",
              "            date  year  \n",
              "81626 2015-08-29  2015  \n",
              "86356 2015-07-06  2015  \n",
              "22414 2017-07-03  2017  \n",
              "85926 2015-07-11  2015  \n",
              "46852 2016-09-27  2016  "
            ],
            "text/html": [
              "<div>\n",
              "<style scoped>\n",
              "    .dataframe tbody tr th:only-of-type {\n",
              "        vertical-align: middle;\n",
              "    }\n",
              "\n",
              "    .dataframe tbody tr th {\n",
              "        vertical-align: top;\n",
              "    }\n",
              "\n",
              "    .dataframe thead th {\n",
              "        text-align: right;\n",
              "    }\n",
              "</style>\n",
              "<table border=\"1\" class=\"dataframe\">\n",
              "  <thead>\n",
              "    <tr style=\"text-align: right;\">\n",
              "      <th></th>\n",
              "      <th>category</th>\n",
              "      <th>headline</th>\n",
              "      <th>authors</th>\n",
              "      <th>link</th>\n",
              "      <th>short_description</th>\n",
              "      <th>date</th>\n",
              "      <th>year</th>\n",
              "    </tr>\n",
              "  </thead>\n",
              "  <tbody>\n",
              "    <tr>\n",
              "      <th>81626</th>\n",
              "      <td>RELIGION</td>\n",
              "      <td>'Nuns On The Bus' To Drive Through Seven States To Greet The Pope</td>\n",
              "      <td>David Gibson, Religion News Service</td>\n",
              "      <td>https://www.huffingtonpost.com/entry/nuns-on-the-bus-to-drive-through-seven-states-to-greet-the-pope_us_55ddf775e4b0a40aa3ad1aea</td>\n",
              "      <td>They plan to park themselves where the pope can see them.</td>\n",
              "      <td>2015-08-29</td>\n",
              "      <td>2015</td>\n",
              "    </tr>\n",
              "    <tr>\n",
              "      <th>86356</th>\n",
              "      <td>RELIGION</td>\n",
              "      <td>Pope Francis Sends Blessing To Young Athlete Fighting Leukemia</td>\n",
              "      <td>Antonia Blumberg</td>\n",
              "      <td>https://www.huffingtonpost.com/entry/pope-francis-lichu-zeno-leukemia_us_559ad26de4b0759e2b50e3a8</td>\n",
              "      <td>Even in the midst of aÂ journey to Latin America, Pope Francis took a moment on Sunday to send a message of hope to a young</td>\n",
              "      <td>2015-07-06</td>\n",
              "      <td>2015</td>\n",
              "    </tr>\n",
              "    <tr>\n",
              "      <th>22414</th>\n",
              "      <td>RELIGION</td>\n",
              "      <td>When Gospel Sermons Came On The Phonograph</td>\n",
              "      <td>The Conversation US, ContributorViews from experts in academia, providing fact-based analysis ...</td>\n",
              "      <td>https://www.huffingtonpost.com/entry/when-gospel-sermons-came-on-the-phonograph_us_5958fda5e4b0326c0a8d1176</td>\n",
              "      <td>By Jerry Zolten, Pennsylvania State University â€œKinky Hair is No Disgraceâ€ spoke to demoralization stemming from negative</td>\n",
              "      <td>2017-07-03</td>\n",
              "      <td>2017</td>\n",
              "    </tr>\n",
              "    <tr>\n",
              "      <th>85926</th>\n",
              "      <td>RELIGION</td>\n",
              "      <td>Pope Francis' Mass In Paraguay Is Like A Makeshift Argentine Homecoming</td>\n",
              "      <td>Peter Prengaman And Nicole Winfield, Associated Press</td>\n",
              "      <td>https://www.huffingtonpost.com/entry/pope-francis-mass-in-paraguay-is-like-a-makeshift-argentine-homecoming_us_55a135dde4b0a47ac15cabdc</td>\n",
              "      <td>Youth groups chanted \"Pope Francis, Paraguay is with you!\"</td>\n",
              "      <td>2015-07-11</td>\n",
              "      <td>2015</td>\n",
              "    </tr>\n",
              "    <tr>\n",
              "      <th>46852</th>\n",
              "      <td>RELIGION</td>\n",
              "      <td>New York City Is Taking Aim At Islamophobia</td>\n",
              "      <td>Ellen Wulfhorst, Reuters</td>\n",
              "      <td>https://www.huffingtonpost.com/entry/new-york-city-is-taking-aim-at-islamophobia_us_57eaab46e4b0c2407cd9ddc3</td>\n",
              "      <td>A new social media campaign is trying to fight discrimination against American Muslims.</td>\n",
              "      <td>2016-09-27</td>\n",
              "      <td>2016</td>\n",
              "    </tr>\n",
              "  </tbody>\n",
              "</table>\n",
              "</div>"
            ]
          },
          "metadata": {},
          "execution_count": 518
        }
      ]
    },
    {
      "cell_type": "code",
      "source": [
        "raw['category'] = raw['category'].replace(['GREEN'], 'ENVIRONMENT')"
      ],
      "metadata": {
        "id": "HCClgmZP9wAY"
      },
      "execution_count": null,
      "outputs": []
    },
    {
      "cell_type": "code",
      "source": [
        "raw['category'] = raw['category'].replace(['WEIRD NEWS'], 'ENTERTAINMENT')"
      ],
      "metadata": {
        "id": "B1iOEJPB9wAY"
      },
      "execution_count": null,
      "outputs": []
    },
    {
      "cell_type": "code",
      "source": [
        "raw['category'] = raw['category'].replace(['SPORTS'], 'ENTERTAINMENT')"
      ],
      "metadata": {
        "id": "WfRySJhTJcbt"
      },
      "execution_count": null,
      "outputs": []
    },
    {
      "cell_type": "code",
      "source": [
        "raw['category'] = raw['category'].replace(['COMEDY'], 'ENTERTAINMENT')"
      ],
      "metadata": {
        "id": "kk1qWsZG9wAY"
      },
      "execution_count": null,
      "outputs": []
    },
    {
      "cell_type": "code",
      "source": [
        "raw['category'] = raw['category'].replace(['STYLE'], 'STYLE & BEAUTY')"
      ],
      "metadata": {
        "id": "0i4c8JsJ9_va"
      },
      "execution_count": null,
      "outputs": []
    },
    {
      "cell_type": "code",
      "source": [
        "raw['category'] = raw['category'].replace(['ARTS'], 'ARTS & CULTURE')"
      ],
      "metadata": {
        "id": "4U3Qclrl-4W8"
      },
      "execution_count": null,
      "outputs": []
    },
    {
      "cell_type": "code",
      "source": [
        "raw['category'] = raw['category'].replace(['CULTURE & ARTS'], 'ARTS & CULTURE')"
      ],
      "metadata": {
        "id": "oi56SiO9-8NE"
      },
      "execution_count": null,
      "outputs": []
    },
    {
      "cell_type": "code",
      "source": [
        "raw['category'] = raw['category'].replace(['RELIGION'], 'ARTS & CULTURE')"
      ],
      "metadata": {
        "id": "JHcGoXnNceZU"
      },
      "execution_count": null,
      "outputs": []
    },
    {
      "cell_type": "code",
      "source": [
        "raw['category'] = raw['category'].replace(['HEALTHY LIVING'], 'WELLNESS')"
      ],
      "metadata": {
        "id": "jJfSbQqQ-mAa"
      },
      "execution_count": null,
      "outputs": []
    },
    {
      "cell_type": "code",
      "source": [
        "raw['category'] = raw['category'].replace(['PARENTING'], 'PARENTS')"
      ],
      "metadata": {
        "id": "Jzuj5Sby_c4A"
      },
      "execution_count": null,
      "outputs": []
    },
    {
      "cell_type": "code",
      "source": [
        "raw['category'] = raw['category'].replace(['TASTE'], 'FOOD & DRINK')"
      ],
      "metadata": {
        "id": "r5eKXd1s_pcs"
      },
      "execution_count": null,
      "outputs": []
    },
    {
      "cell_type": "code",
      "source": [
        "raw['category'] = raw['category'].replace(['COLLEGE'], 'EDUCATION')"
      ],
      "metadata": {
        "id": "F2kBxvA1ApjF"
      },
      "execution_count": null,
      "outputs": []
    },
    {
      "cell_type": "code",
      "source": [
        "raw['category'] = raw['category'].replace(['THE WORLDPOST'], 'WORLD NEWS')"
      ],
      "metadata": {
        "id": "DdUdHNxcAtpg"
      },
      "execution_count": null,
      "outputs": []
    },
    {
      "cell_type": "code",
      "source": [
        "raw['category'] = raw['category'].replace(['WORLDPOST'], 'WORLD NEWS')"
      ],
      "metadata": {
        "id": "hu2U1SmlBVTi"
      },
      "execution_count": null,
      "outputs": []
    },
    {
      "cell_type": "code",
      "source": [
        "raw['category'] = raw['category'].replace(['GOOD NEWS'], 'IMPACT')"
      ],
      "metadata": {
        "id": "Hc76cCCkBwsS"
      },
      "execution_count": null,
      "outputs": []
    },
    {
      "cell_type": "code",
      "source": [
        "raw['category'] = raw['category'].replace(['CRIME'], 'IMPACT')"
      ],
      "metadata": {
        "id": "oeoGdW-SaOQk"
      },
      "execution_count": null,
      "outputs": []
    },
    {
      "cell_type": "code",
      "source": [
        "raw['category'] = raw['category'].replace(['WEDDINGS'], 'RELATIONSHIP')"
      ],
      "metadata": {
        "id": "jPPx_UgCCkII"
      },
      "execution_count": null,
      "outputs": []
    },
    {
      "cell_type": "code",
      "source": [
        "raw['category'] = raw['category'].replace(['DIVORCE'], 'RELATIONSHIP')"
      ],
      "metadata": {
        "id": "PbHMFzLJCo2j"
      },
      "execution_count": null,
      "outputs": []
    },
    {
      "cell_type": "code",
      "source": [
        "raw['category'] = raw['category'].replace(['STYLE & BEAUTY'], 'LIFESTYLE')"
      ],
      "metadata": {
        "id": "XJSwXk-fEGV4"
      },
      "execution_count": null,
      "outputs": []
    },
    {
      "cell_type": "code",
      "source": [
        "raw['category'] = raw['category'].replace(['TRAVEL'], 'LIFESTYLE')"
      ],
      "metadata": {
        "id": "tiO8hYWREJfR"
      },
      "execution_count": null,
      "outputs": []
    },
    {
      "cell_type": "code",
      "source": [
        "raw['category'] = raw['category'].replace(['FIFTY'], 'LIFESTYLE')"
      ],
      "metadata": {
        "id": "VOzJKcxTFLoC"
      },
      "execution_count": null,
      "outputs": []
    },
    {
      "cell_type": "code",
      "source": [
        "raw['category'] = raw['category'].replace(['HOME & LIVING'], 'LIFESTYLE')"
      ],
      "metadata": {
        "id": "Nw_QqKOeELDz"
      },
      "execution_count": null,
      "outputs": []
    },
    {
      "cell_type": "code",
      "source": [
        "raw['category'] = raw['category'].replace(['WOMEN'], 'IMPACT')"
      ],
      "metadata": {
        "id": "ZsDcdPdiErqe"
      },
      "execution_count": null,
      "outputs": []
    },
    {
      "cell_type": "code",
      "source": [
        "raw['category'] = raw['category'].replace(['MONEY'], 'BUSINESS')"
      ],
      "metadata": {
        "id": "mEkV2dFQJZ93"
      },
      "execution_count": null,
      "outputs": []
    },
    {
      "cell_type": "code",
      "source": [
        "raw['category'] = raw['category'].replace(['BLACK VOICES'], 'MARGINALISED VOICES')"
      ],
      "metadata": {
        "id": "LKNPFVD8aVHY"
      },
      "execution_count": null,
      "outputs": []
    },
    {
      "cell_type": "code",
      "source": [
        "raw['category'] = raw['category'].replace(['LATINO VOICES'], 'MARGINALISED VOICES')"
      ],
      "metadata": {
        "id": "bbQx7gI0aaDx"
      },
      "execution_count": null,
      "outputs": []
    },
    {
      "cell_type": "code",
      "source": [
        "raw.category.unique()"
      ],
      "metadata": {
        "colab": {
          "base_uri": "https://localhost:8080/"
        },
        "id": "PXEedG7ID8E9",
        "outputId": "1414cf2e-e5d4-46e0-eedd-fa439331cae9"
      },
      "execution_count": null,
      "outputs": [
        {
          "output_type": "execute_result",
          "data": {
            "text/plain": [
              "array(['IMPACT', 'ENTERTAINMENT', 'WORLD NEWS', 'POLITICS',\n",
              "       'MARGINALISED VOICES', 'QUEER VOICES', 'BUSINESS', 'LIFESTYLE',\n",
              "       'MEDIA', 'TECH', 'ARTS & CULTURE', 'SCIENCE', 'EDUCATION',\n",
              "       'PARENTS', 'ENVIRONMENT', 'FOOD & DRINK', 'WELLNESS',\n",
              "       'RELATIONSHIP'], dtype=object)"
            ]
          },
          "metadata": {},
          "execution_count": 545
        }
      ]
    },
    {
      "cell_type": "code",
      "source": [
        "plt.figure(figsize=(60,24));\n",
        "\n",
        "fig = px.bar(x = raw.category.value_counts().index, y = raw.category.value_counts(), labels = {\n",
        "    \"x\": \"Categories\", #Setting x label to categories\n",
        "    \"y\": \"Count\"}, #Setting y label to count\n",
        "    title = \"Category counts\"); #Setting the title\n",
        "fig.show(renderer=\"colab\");"
      ],
      "metadata": {
        "colab": {
          "base_uri": "https://localhost:8080/",
          "height": 560
        },
        "id": "JX72wBtmEuqj",
        "outputId": "10c6a470-9173-4730-c111-e4b1e5131e99"
      },
      "execution_count": null,
      "outputs": [
        {
          "output_type": "display_data",
          "data": {
            "text/html": [
              "<html>\n",
              "<head><meta charset=\"utf-8\" /></head>\n",
              "<body>\n",
              "    <div>            <script src=\"https://cdnjs.cloudflare.com/ajax/libs/mathjax/2.7.5/MathJax.js?config=TeX-AMS-MML_SVG\"></script><script type=\"text/javascript\">if (window.MathJax) {MathJax.Hub.Config({SVG: {font: \"STIX-Web\"}});}</script>                <script type=\"text/javascript\">window.PlotlyConfig = {MathJaxConfig: 'local'};</script>\n",
              "        <script src=\"https://cdn.plot.ly/plotly-2.9.0.min.js\"></script>                <div id=\"15587855-d73c-4e30-93c5-1eb4300eee3f\" class=\"plotly-graph-div\" style=\"height:525px; width:100%;\"></div>            <script type=\"text/javascript\">                                    window.PLOTLYENV=window.PLOTLYENV || {};                                    if (document.getElementById(\"15587855-d73c-4e30-93c5-1eb4300eee3f\")) {                    Plotly.newPlot(                        \"15587855-d73c-4e30-93c5-1eb4300eee3f\",                        [{\"alignmentgroup\":\"True\",\"hovertemplate\":\"Categories=%{x}<br>Count=%{y}<extra></extra>\",\"legendgroup\":\"\",\"marker\":{\"color\":\"#636efa\",\"pattern\":{\"shape\":\"\"}},\"name\":\"\",\"offsetgroup\":\"\",\"orientation\":\"v\",\"showlegend\":false,\"textposition\":\"auto\",\"x\":[\"POLITICS\",\"LIFESTYLE\",\"ENTERTAINMENT\",\"WELLNESS\",\"PARENTS\",\"IMPACT\",\"FOOD & DRINK\",\"WORLD NEWS\",\"RELATIONSHIP\",\"BUSINESS\",\"QUEER VOICES\",\"MARGINALISED VOICES\",\"ARTS & CULTURE\",\"ENVIRONMENT\",\"MEDIA\",\"TECH\",\"EDUCATION\",\"SCIENCE\"],\"xaxis\":\"x\",\"y\":[29578,25837,24317,23085,12231,9877,8157,7081,7074,6783,5570,5142,5078,3367,2275,2080,1813,1775],\"yaxis\":\"y\",\"type\":\"bar\"}],                        {\"template\":{\"data\":{\"bar\":[{\"error_x\":{\"color\":\"#2a3f5f\"},\"error_y\":{\"color\":\"#2a3f5f\"},\"marker\":{\"line\":{\"color\":\"#E5ECF6\",\"width\":0.5},\"pattern\":{\"fillmode\":\"overlay\",\"size\":10,\"solidity\":0.2}},\"type\":\"bar\"}],\"barpolar\":[{\"marker\":{\"line\":{\"color\":\"#E5ECF6\",\"width\":0.5},\"pattern\":{\"fillmode\":\"overlay\",\"size\":10,\"solidity\":0.2}},\"type\":\"barpolar\"}],\"carpet\":[{\"aaxis\":{\"endlinecolor\":\"#2a3f5f\",\"gridcolor\":\"white\",\"linecolor\":\"white\",\"minorgridcolor\":\"white\",\"startlinecolor\":\"#2a3f5f\"},\"baxis\":{\"endlinecolor\":\"#2a3f5f\",\"gridcolor\":\"white\",\"linecolor\":\"white\",\"minorgridcolor\":\"white\",\"startlinecolor\":\"#2a3f5f\"},\"type\":\"carpet\"}],\"choropleth\":[{\"colorbar\":{\"outlinewidth\":0,\"ticks\":\"\"},\"type\":\"choropleth\"}],\"contour\":[{\"colorbar\":{\"outlinewidth\":0,\"ticks\":\"\"},\"colorscale\":[[0.0,\"#0d0887\"],[0.1111111111111111,\"#46039f\"],[0.2222222222222222,\"#7201a8\"],[0.3333333333333333,\"#9c179e\"],[0.4444444444444444,\"#bd3786\"],[0.5555555555555556,\"#d8576b\"],[0.6666666666666666,\"#ed7953\"],[0.7777777777777778,\"#fb9f3a\"],[0.8888888888888888,\"#fdca26\"],[1.0,\"#f0f921\"]],\"type\":\"contour\"}],\"contourcarpet\":[{\"colorbar\":{\"outlinewidth\":0,\"ticks\":\"\"},\"type\":\"contourcarpet\"}],\"heatmap\":[{\"colorbar\":{\"outlinewidth\":0,\"ticks\":\"\"},\"colorscale\":[[0.0,\"#0d0887\"],[0.1111111111111111,\"#46039f\"],[0.2222222222222222,\"#7201a8\"],[0.3333333333333333,\"#9c179e\"],[0.4444444444444444,\"#bd3786\"],[0.5555555555555556,\"#d8576b\"],[0.6666666666666666,\"#ed7953\"],[0.7777777777777778,\"#fb9f3a\"],[0.8888888888888888,\"#fdca26\"],[1.0,\"#f0f921\"]],\"type\":\"heatmap\"}],\"heatmapgl\":[{\"colorbar\":{\"outlinewidth\":0,\"ticks\":\"\"},\"colorscale\":[[0.0,\"#0d0887\"],[0.1111111111111111,\"#46039f\"],[0.2222222222222222,\"#7201a8\"],[0.3333333333333333,\"#9c179e\"],[0.4444444444444444,\"#bd3786\"],[0.5555555555555556,\"#d8576b\"],[0.6666666666666666,\"#ed7953\"],[0.7777777777777778,\"#fb9f3a\"],[0.8888888888888888,\"#fdca26\"],[1.0,\"#f0f921\"]],\"type\":\"heatmapgl\"}],\"histogram\":[{\"marker\":{\"pattern\":{\"fillmode\":\"overlay\",\"size\":10,\"solidity\":0.2}},\"type\":\"histogram\"}],\"histogram2d\":[{\"colorbar\":{\"outlinewidth\":0,\"ticks\":\"\"},\"colorscale\":[[0.0,\"#0d0887\"],[0.1111111111111111,\"#46039f\"],[0.2222222222222222,\"#7201a8\"],[0.3333333333333333,\"#9c179e\"],[0.4444444444444444,\"#bd3786\"],[0.5555555555555556,\"#d8576b\"],[0.6666666666666666,\"#ed7953\"],[0.7777777777777778,\"#fb9f3a\"],[0.8888888888888888,\"#fdca26\"],[1.0,\"#f0f921\"]],\"type\":\"histogram2d\"}],\"histogram2dcontour\":[{\"colorbar\":{\"outlinewidth\":0,\"ticks\":\"\"},\"colorscale\":[[0.0,\"#0d0887\"],[0.1111111111111111,\"#46039f\"],[0.2222222222222222,\"#7201a8\"],[0.3333333333333333,\"#9c179e\"],[0.4444444444444444,\"#bd3786\"],[0.5555555555555556,\"#d8576b\"],[0.6666666666666666,\"#ed7953\"],[0.7777777777777778,\"#fb9f3a\"],[0.8888888888888888,\"#fdca26\"],[1.0,\"#f0f921\"]],\"type\":\"histogram2dcontour\"}],\"mesh3d\":[{\"colorbar\":{\"outlinewidth\":0,\"ticks\":\"\"},\"type\":\"mesh3d\"}],\"parcoords\":[{\"line\":{\"colorbar\":{\"outlinewidth\":0,\"ticks\":\"\"}},\"type\":\"parcoords\"}],\"pie\":[{\"automargin\":true,\"type\":\"pie\"}],\"scatter\":[{\"marker\":{\"colorbar\":{\"outlinewidth\":0,\"ticks\":\"\"}},\"type\":\"scatter\"}],\"scatter3d\":[{\"line\":{\"colorbar\":{\"outlinewidth\":0,\"ticks\":\"\"}},\"marker\":{\"colorbar\":{\"outlinewidth\":0,\"ticks\":\"\"}},\"type\":\"scatter3d\"}],\"scattercarpet\":[{\"marker\":{\"colorbar\":{\"outlinewidth\":0,\"ticks\":\"\"}},\"type\":\"scattercarpet\"}],\"scattergeo\":[{\"marker\":{\"colorbar\":{\"outlinewidth\":0,\"ticks\":\"\"}},\"type\":\"scattergeo\"}],\"scattergl\":[{\"marker\":{\"colorbar\":{\"outlinewidth\":0,\"ticks\":\"\"}},\"type\":\"scattergl\"}],\"scattermapbox\":[{\"marker\":{\"colorbar\":{\"outlinewidth\":0,\"ticks\":\"\"}},\"type\":\"scattermapbox\"}],\"scatterpolar\":[{\"marker\":{\"colorbar\":{\"outlinewidth\":0,\"ticks\":\"\"}},\"type\":\"scatterpolar\"}],\"scatterpolargl\":[{\"marker\":{\"colorbar\":{\"outlinewidth\":0,\"ticks\":\"\"}},\"type\":\"scatterpolargl\"}],\"scatterternary\":[{\"marker\":{\"colorbar\":{\"outlinewidth\":0,\"ticks\":\"\"}},\"type\":\"scatterternary\"}],\"surface\":[{\"colorbar\":{\"outlinewidth\":0,\"ticks\":\"\"},\"colorscale\":[[0.0,\"#0d0887\"],[0.1111111111111111,\"#46039f\"],[0.2222222222222222,\"#7201a8\"],[0.3333333333333333,\"#9c179e\"],[0.4444444444444444,\"#bd3786\"],[0.5555555555555556,\"#d8576b\"],[0.6666666666666666,\"#ed7953\"],[0.7777777777777778,\"#fb9f3a\"],[0.8888888888888888,\"#fdca26\"],[1.0,\"#f0f921\"]],\"type\":\"surface\"}],\"table\":[{\"cells\":{\"fill\":{\"color\":\"#EBF0F8\"},\"line\":{\"color\":\"white\"}},\"header\":{\"fill\":{\"color\":\"#C8D4E3\"},\"line\":{\"color\":\"white\"}},\"type\":\"table\"}]},\"layout\":{\"annotationdefaults\":{\"arrowcolor\":\"#2a3f5f\",\"arrowhead\":0,\"arrowwidth\":1},\"autotypenumbers\":\"strict\",\"coloraxis\":{\"colorbar\":{\"outlinewidth\":0,\"ticks\":\"\"}},\"colorscale\":{\"diverging\":[[0,\"#8e0152\"],[0.1,\"#c51b7d\"],[0.2,\"#de77ae\"],[0.3,\"#f1b6da\"],[0.4,\"#fde0ef\"],[0.5,\"#f7f7f7\"],[0.6,\"#e6f5d0\"],[0.7,\"#b8e186\"],[0.8,\"#7fbc41\"],[0.9,\"#4d9221\"],[1,\"#276419\"]],\"sequential\":[[0.0,\"#0d0887\"],[0.1111111111111111,\"#46039f\"],[0.2222222222222222,\"#7201a8\"],[0.3333333333333333,\"#9c179e\"],[0.4444444444444444,\"#bd3786\"],[0.5555555555555556,\"#d8576b\"],[0.6666666666666666,\"#ed7953\"],[0.7777777777777778,\"#fb9f3a\"],[0.8888888888888888,\"#fdca26\"],[1.0,\"#f0f921\"]],\"sequentialminus\":[[0.0,\"#0d0887\"],[0.1111111111111111,\"#46039f\"],[0.2222222222222222,\"#7201a8\"],[0.3333333333333333,\"#9c179e\"],[0.4444444444444444,\"#bd3786\"],[0.5555555555555556,\"#d8576b\"],[0.6666666666666666,\"#ed7953\"],[0.7777777777777778,\"#fb9f3a\"],[0.8888888888888888,\"#fdca26\"],[1.0,\"#f0f921\"]]},\"colorway\":[\"#636efa\",\"#EF553B\",\"#00cc96\",\"#ab63fa\",\"#FFA15A\",\"#19d3f3\",\"#FF6692\",\"#B6E880\",\"#FF97FF\",\"#FECB52\"],\"font\":{\"color\":\"#2a3f5f\"},\"geo\":{\"bgcolor\":\"white\",\"lakecolor\":\"white\",\"landcolor\":\"#E5ECF6\",\"showlakes\":true,\"showland\":true,\"subunitcolor\":\"white\"},\"hoverlabel\":{\"align\":\"left\"},\"hovermode\":\"closest\",\"mapbox\":{\"style\":\"light\"},\"paper_bgcolor\":\"white\",\"plot_bgcolor\":\"#E5ECF6\",\"polar\":{\"angularaxis\":{\"gridcolor\":\"white\",\"linecolor\":\"white\",\"ticks\":\"\"},\"bgcolor\":\"#E5ECF6\",\"radialaxis\":{\"gridcolor\":\"white\",\"linecolor\":\"white\",\"ticks\":\"\"}},\"scene\":{\"xaxis\":{\"backgroundcolor\":\"#E5ECF6\",\"gridcolor\":\"white\",\"gridwidth\":2,\"linecolor\":\"white\",\"showbackground\":true,\"ticks\":\"\",\"zerolinecolor\":\"white\"},\"yaxis\":{\"backgroundcolor\":\"#E5ECF6\",\"gridcolor\":\"white\",\"gridwidth\":2,\"linecolor\":\"white\",\"showbackground\":true,\"ticks\":\"\",\"zerolinecolor\":\"white\"},\"zaxis\":{\"backgroundcolor\":\"#E5ECF6\",\"gridcolor\":\"white\",\"gridwidth\":2,\"linecolor\":\"white\",\"showbackground\":true,\"ticks\":\"\",\"zerolinecolor\":\"white\"}},\"shapedefaults\":{\"line\":{\"color\":\"#2a3f5f\"}},\"ternary\":{\"aaxis\":{\"gridcolor\":\"white\",\"linecolor\":\"white\",\"ticks\":\"\"},\"baxis\":{\"gridcolor\":\"white\",\"linecolor\":\"white\",\"ticks\":\"\"},\"bgcolor\":\"#E5ECF6\",\"caxis\":{\"gridcolor\":\"white\",\"linecolor\":\"white\",\"ticks\":\"\"}},\"title\":{\"x\":0.05},\"xaxis\":{\"automargin\":true,\"gridcolor\":\"white\",\"linecolor\":\"white\",\"ticks\":\"\",\"title\":{\"standoff\":15},\"zerolinecolor\":\"white\",\"zerolinewidth\":2},\"yaxis\":{\"automargin\":true,\"gridcolor\":\"white\",\"linecolor\":\"white\",\"ticks\":\"\",\"title\":{\"standoff\":15},\"zerolinecolor\":\"white\",\"zerolinewidth\":2}}},\"xaxis\":{\"anchor\":\"y\",\"domain\":[0.0,1.0],\"title\":{\"text\":\"Categories\"}},\"yaxis\":{\"anchor\":\"x\",\"domain\":[0.0,1.0],\"title\":{\"text\":\"Count\"}},\"legend\":{\"tracegroupgap\":0},\"title\":{\"text\":\"Category counts\"},\"barmode\":\"relative\"},                        {\"responsive\": true}                    ).then(function(){\n",
              "                            \n",
              "var gd = document.getElementById('15587855-d73c-4e30-93c5-1eb4300eee3f');\n",
              "var x = new MutationObserver(function (mutations, observer) {{\n",
              "        var display = window.getComputedStyle(gd).display;\n",
              "        if (!display || display === 'none') {{\n",
              "            console.log([gd, 'removed!']);\n",
              "            Plotly.purge(gd);\n",
              "            observer.disconnect();\n",
              "        }}\n",
              "}});\n",
              "\n",
              "// Listen for the removal of the full notebook cells\n",
              "var notebookContainer = gd.closest('#notebook-container');\n",
              "if (notebookContainer) {{\n",
              "    x.observe(notebookContainer, {childList: true});\n",
              "}}\n",
              "\n",
              "// Listen for the clearing of the current output cell\n",
              "var outputEl = gd.closest('.output');\n",
              "if (outputEl) {{\n",
              "    x.observe(outputEl, {childList: true});\n",
              "}}\n",
              "\n",
              "                        })                };                            </script>        </div>\n",
              "</body>\n",
              "</html>"
            ]
          },
          "metadata": {}
        },
        {
          "output_type": "display_data",
          "data": {
            "text/plain": [
              "<Figure size 4320x1728 with 0 Axes>"
            ]
          },
          "metadata": {}
        }
      ]
    },
    {
      "cell_type": "markdown",
      "source": [
        "Setting the target column and creating a dataframe from it"
      ],
      "metadata": {
        "id": "s9vTywyO8JLe"
      }
    },
    {
      "cell_type": "code",
      "source": [
        "targets = raw[['category']]"
      ],
      "metadata": {
        "id": "JSH7s45Gi-Rz"
      },
      "execution_count": null,
      "outputs": []
    },
    {
      "cell_type": "markdown",
      "source": [
        "# Splitting data into a training and validation set"
      ],
      "metadata": {
        "id": "E9zL1YTa46Vr"
      }
    },
    {
      "cell_type": "code",
      "source": [
        "from sklearn.model_selection import train_test_split"
      ],
      "metadata": {
        "id": "sYmNWM0IhTWx"
      },
      "execution_count": null,
      "outputs": []
    },
    {
      "cell_type": "markdown",
      "source": [
        "Splitting the data into 2, a training set with the inputs and its targets and a validation set with its targets. 30% Split"
      ],
      "metadata": {
        "id": "hXAD6JN4DpVm"
      }
    },
    {
      "cell_type": "code",
      "source": [
        "train_df, val_df, train_targets, val_targets = train_test_split(raw, targets, test_size=0.3, random_state=42)"
      ],
      "metadata": {
        "id": "UQacrFGMid61"
      },
      "execution_count": null,
      "outputs": []
    },
    {
      "cell_type": "markdown",
      "source": [
        "# Cleaning data/Preparation for TFIDF"
      ],
      "metadata": {
        "id": "owMuH5qh5AZx"
      }
    },
    {
      "cell_type": "code",
      "source": [
        "import string"
      ],
      "metadata": {
        "id": "y20hwMh_joDW"
      },
      "execution_count": null,
      "outputs": []
    },
    {
      "cell_type": "markdown",
      "source": [
        "Removing text-errors and punctuations in the specified columns."
      ],
      "metadata": {
        "id": "VxdKqpeE8QUC"
      }
    },
    {
      "cell_type": "code",
      "source": [
        "train_df['short_description'] = train_df['short_description'].str.encode('ascii', 'ignore').str.decode('ascii') #Removing ascii characthers in the data\n",
        "train_df['short_description'] = train_df['short_description'].str.lower() #Setting all the charcaters to lowercase\n",
        "train_df['short_description'] = train_df['short_description'].str.replace('[{}]'.format(string.punctuation), '') #Removing punctuations from the data\n",
        "\n",
        "train_df['headline'] = train_df['headline'].str.encode('ascii', 'ignore').str.decode('ascii') #Removing ascii characthers in the data\n",
        "train_df['headline'] = train_df['headline'].str.lower() #Setting all the charcaters to lowercase\n",
        "train_df['headline'] = train_df['headline'].str.replace('[{}]'.format(string.punctuation), '') #Removing punctuations from the data"
      ],
      "metadata": {
        "id": "eca-WXLw27MG",
        "colab": {
          "base_uri": "https://localhost:8080/"
        },
        "outputId": "543664e3-ef1c-48ff-939c-aeab8c7f31e4"
      },
      "execution_count": null,
      "outputs": [
        {
          "output_type": "stream",
          "name": "stderr",
          "text": [
            "C:\\Users\\Ethan\\AppData\\Local\\Temp\\ipykernel_18604\\42535777.py:3: FutureWarning:\n",
            "\n",
            "The default value of regex will change from True to False in a future version.\n",
            "\n",
            "C:\\Users\\Ethan\\AppData\\Local\\Temp\\ipykernel_18604\\42535777.py:7: FutureWarning:\n",
            "\n",
            "The default value of regex will change from True to False in a future version.\n",
            "\n"
          ]
        }
      ]
    },
    {
      "cell_type": "markdown",
      "source": [
        "Checking the data to ensure it is cleaned and prepared correctly before TFIDF vectorizing "
      ],
      "metadata": {
        "id": "UPWIjU8CD4PO"
      }
    },
    {
      "cell_type": "code",
      "source": [
        "train_df.sample(5)"
      ],
      "metadata": {
        "id": "aph0T4ikNFrx",
        "colab": {
          "base_uri": "https://localhost:8080/",
          "height": 380
        },
        "outputId": "2a463645-3541-4887-ae56-87d2ea6dea33"
      },
      "execution_count": null,
      "outputs": [
        {
          "output_type": "execute_result",
          "data": {
            "text/plain": [
              "             category  \\\n",
              "119937      LIFESTYLE   \n",
              "28609   ENTERTAINMENT   \n",
              "38157   ENTERTAINMENT   \n",
              "80063   ENTERTAINMENT   \n",
              "161145        PARENTS   \n",
              "\n",
              "                                                                                     headline  \\\n",
              "119937                                                            my father was billy the kid   \n",
              "28609                   cuba gooding jr pays tribute to late father with sweet instagram post   \n",
              "38157   james corden delivers heartfelt tribute to carpool karaoke inspiration george michael   \n",
              "80063                                   16 universally gross things no one really talks about   \n",
              "161145                                                  influencing teens and tweeners part 2   \n",
              "\n",
              "                                                                                                     authors  \\\n",
              "119937                                    Bill Stieger, ContributorWriter and jazz drummer from St. Paul, MN   \n",
              "28609                                                                                      Julia Brucculieri   \n",
              "38157                                                                                           Bill Bradley   \n",
              "80063                                                                       Andy McDonald and Kate Bratskeir   \n",
              "161145  Christine Carter PhD, Contributor\\nBest-selling Author of \"The Sweet Spot\" & \"Raising Happiness\" ...   \n",
              "\n",
              "                                                                                                                     link  \\\n",
              "119937                                      https://www.huffingtonpost.com/entry/my-father-was-billy-the-k_b_5497889.html   \n",
              "28609              https://www.huffingtonpost.com/entry/cuba-gooding-jr-tribute-dad-instagram_us_58fb5fe9e4b00fa7de14b72b   \n",
              "38157   https://www.huffingtonpost.com/entry/james-corden-heartfelt-tribute-to-george-michael_us_586cf60ae4b0d9a5945d331a   \n",
              "80063                    https://www.huffingtonpost.com/entry/gross-things-no-one-talks-about_us_55e9e717e4b03784e275d154   \n",
              "161145                    https://www.huffingtonpost.com/entry/influencing-teens-and-tweeners_us_5b9cf73de4b03a1dcc83564b   \n",
              "\n",
              "                                                                                                                                                                                  short_description  \\\n",
              "119937  ey called him billy the kid he was a fighter but never hit me once however when i did something wild which was often hed say dont start anything ive got at least one good fight left in me   \n",
              "28609                                                                                                                                      cuba gooding sr was found dead thursday at the age of 72   \n",
              "38157                                                                                                                               i feel like ive loved george michael as long as ive loved music   \n",
              "80063                                                                                                                                                                                   ew just  ew   \n",
              "161145                                                 have your teens tell you their vision for their success  how will they and you know that they have been successful or if the plan is working   \n",
              "\n",
              "             date  year  \n",
              "119937 2014-06-17  2014  \n",
              "28609  2017-04-22  2017  \n",
              "38157  2017-01-04  2017  \n",
              "80063  2015-09-16  2015  \n",
              "161145 2013-03-29  2013  "
            ],
            "text/html": [
              "<div>\n",
              "<style scoped>\n",
              "    .dataframe tbody tr th:only-of-type {\n",
              "        vertical-align: middle;\n",
              "    }\n",
              "\n",
              "    .dataframe tbody tr th {\n",
              "        vertical-align: top;\n",
              "    }\n",
              "\n",
              "    .dataframe thead th {\n",
              "        text-align: right;\n",
              "    }\n",
              "</style>\n",
              "<table border=\"1\" class=\"dataframe\">\n",
              "  <thead>\n",
              "    <tr style=\"text-align: right;\">\n",
              "      <th></th>\n",
              "      <th>category</th>\n",
              "      <th>headline</th>\n",
              "      <th>authors</th>\n",
              "      <th>link</th>\n",
              "      <th>short_description</th>\n",
              "      <th>date</th>\n",
              "      <th>year</th>\n",
              "    </tr>\n",
              "  </thead>\n",
              "  <tbody>\n",
              "    <tr>\n",
              "      <th>119937</th>\n",
              "      <td>LIFESTYLE</td>\n",
              "      <td>my father was billy the kid</td>\n",
              "      <td>Bill Stieger, ContributorWriter and jazz drummer from St. Paul, MN</td>\n",
              "      <td>https://www.huffingtonpost.com/entry/my-father-was-billy-the-k_b_5497889.html</td>\n",
              "      <td>ey called him billy the kid he was a fighter but never hit me once however when i did something wild which was often hed say dont start anything ive got at least one good fight left in me</td>\n",
              "      <td>2014-06-17</td>\n",
              "      <td>2014</td>\n",
              "    </tr>\n",
              "    <tr>\n",
              "      <th>28609</th>\n",
              "      <td>ENTERTAINMENT</td>\n",
              "      <td>cuba gooding jr pays tribute to late father with sweet instagram post</td>\n",
              "      <td>Julia Brucculieri</td>\n",
              "      <td>https://www.huffingtonpost.com/entry/cuba-gooding-jr-tribute-dad-instagram_us_58fb5fe9e4b00fa7de14b72b</td>\n",
              "      <td>cuba gooding sr was found dead thursday at the age of 72</td>\n",
              "      <td>2017-04-22</td>\n",
              "      <td>2017</td>\n",
              "    </tr>\n",
              "    <tr>\n",
              "      <th>38157</th>\n",
              "      <td>ENTERTAINMENT</td>\n",
              "      <td>james corden delivers heartfelt tribute to carpool karaoke inspiration george michael</td>\n",
              "      <td>Bill Bradley</td>\n",
              "      <td>https://www.huffingtonpost.com/entry/james-corden-heartfelt-tribute-to-george-michael_us_586cf60ae4b0d9a5945d331a</td>\n",
              "      <td>i feel like ive loved george michael as long as ive loved music</td>\n",
              "      <td>2017-01-04</td>\n",
              "      <td>2017</td>\n",
              "    </tr>\n",
              "    <tr>\n",
              "      <th>80063</th>\n",
              "      <td>ENTERTAINMENT</td>\n",
              "      <td>16 universally gross things no one really talks about</td>\n",
              "      <td>Andy McDonald and Kate Bratskeir</td>\n",
              "      <td>https://www.huffingtonpost.com/entry/gross-things-no-one-talks-about_us_55e9e717e4b03784e275d154</td>\n",
              "      <td>ew just  ew</td>\n",
              "      <td>2015-09-16</td>\n",
              "      <td>2015</td>\n",
              "    </tr>\n",
              "    <tr>\n",
              "      <th>161145</th>\n",
              "      <td>PARENTS</td>\n",
              "      <td>influencing teens and tweeners part 2</td>\n",
              "      <td>Christine Carter PhD, Contributor\\nBest-selling Author of \"The Sweet Spot\" &amp; \"Raising Happiness\" ...</td>\n",
              "      <td>https://www.huffingtonpost.com/entry/influencing-teens-and-tweeners_us_5b9cf73de4b03a1dcc83564b</td>\n",
              "      <td>have your teens tell you their vision for their success  how will they and you know that they have been successful or if the plan is working</td>\n",
              "      <td>2013-03-29</td>\n",
              "      <td>2013</td>\n",
              "    </tr>\n",
              "  </tbody>\n",
              "</table>\n",
              "</div>"
            ]
          },
          "metadata": {},
          "execution_count": 552
        }
      ]
    },
    {
      "cell_type": "markdown",
      "source": [
        "Importing list of stopwords"
      ],
      "metadata": {
        "id": "-sP9-uNc8hjk"
      }
    },
    {
      "cell_type": "code",
      "source": [
        "import nltk\n",
        "from nltk.corpus import stopwords\n",
        "nltk.download('stopwords')\n"
      ],
      "metadata": {
        "id": "TmjgtOjZfzQN",
        "colab": {
          "base_uri": "https://localhost:8080/"
        },
        "outputId": "d7afc730-f667-42d2-83b4-a84b3f537f08"
      },
      "execution_count": null,
      "outputs": [
        {
          "output_type": "stream",
          "name": "stderr",
          "text": [
            "[nltk_data] Downloading package stopwords to\n",
            "[nltk_data]     C:\\Users\\Ethan\\AppData\\Roaming\\nltk_data...\n",
            "[nltk_data]   Package stopwords is already up-to-date!\n"
          ]
        },
        {
          "output_type": "execute_result",
          "data": {
            "text/plain": [
              "True"
            ]
          },
          "metadata": {},
          "execution_count": 553
        }
      ]
    },
    {
      "cell_type": "markdown",
      "source": [
        "Setting english stopwords as our datasets information is in english"
      ],
      "metadata": {
        "id": "1NVaAymoEFTT"
      }
    },
    {
      "cell_type": "code",
      "source": [
        "stop = stopwords.words('english')"
      ],
      "metadata": {
        "id": "OJ2kDyRyjjrX"
      },
      "execution_count": null,
      "outputs": []
    },
    {
      "cell_type": "markdown",
      "source": [
        "# TFIDF Vectorizing"
      ],
      "metadata": {
        "id": "LGI-ocKmXKcU"
      }
    },
    {
      "cell_type": "markdown",
      "source": [
        "Importing TFIDF Vectorizer from the scikit learn library"
      ],
      "metadata": {
        "id": "E4ffuwnZ8tVp"
      }
    },
    {
      "cell_type": "code",
      "source": [
        "from sklearn.feature_extraction.text import TfidfVectorizer"
      ],
      "metadata": {
        "id": "2F7nnl2KhuX2"
      },
      "execution_count": null,
      "outputs": []
    },
    {
      "cell_type": "markdown",
      "source": [
        "Defining a function and setting parameters for the vectorizer"
      ],
      "metadata": {
        "id": "AGH1zzte8zq_"
      }
    },
    {
      "cell_type": "code",
      "source": [
        "def tfid(y, features):\n",
        "  vectorizer = TfidfVectorizer(lowercase=True, #Lowercasing all data\n",
        "                               stop_words = stop, #using stopwords data from the previous section\n",
        "                               max_df=0.80, #when building the vocabulary ignore terms that have a document frequency higher than 80%, \n",
        "                               max_features=features, \n",
        "                               ngram_range=(1,3))  \n",
        "  vectorizer.fit(y) #fitting the data to 'y'\n",
        "  cleaned_desc = vectorizer.transform(y) #transforming 'y'\n",
        "  print(cleaned_desc.shape)\n",
        "  dense = cleaned_desc.todense() #Returning a dense matrix of the transformed data\n",
        "  denselist = dense.tolist() #Converting the matrix to a list\n",
        "  feature_names = vectorizer.get_feature_names_out() #Getting the feature names of the data, AKA the words that hold value\n",
        "  return(denselist, feature_names); #Return the list and feature names of the model\n"
      ],
      "metadata": {
        "id": "t3NHGRzmzVqI"
      },
      "execution_count": null,
      "outputs": []
    },
    {
      "cell_type": "code",
      "source": [
        "train_df.dropna(subset=['headline'], inplace = True) #Dropping null values in headline category"
      ],
      "metadata": {
        "id": "ooqYtHsd4daH"
      },
      "execution_count": null,
      "outputs": []
    },
    {
      "cell_type": "code",
      "source": [
        "train_df.isna().sum()"
      ],
      "metadata": {
        "colab": {
          "base_uri": "https://localhost:8080/"
        },
        "id": "5cOHKhmm4nL-",
        "outputId": "1d94b9f8-f329-42ad-dc12-8287f79bc825"
      },
      "execution_count": null,
      "outputs": [
        {
          "output_type": "execute_result",
          "data": {
            "text/plain": [
              "category    0\n",
              "headline    0\n",
              "           ..\n",
              "date        0\n",
              "year        0\n",
              "Length: 7, dtype: int64"
            ]
          },
          "metadata": {},
          "execution_count": 558
        }
      ]
    },
    {
      "cell_type": "code",
      "source": [
        "val_df.isna().sum()"
      ],
      "metadata": {
        "colab": {
          "base_uri": "https://localhost:8080/"
        },
        "id": "5JTh4zVIjioo",
        "outputId": "a9ee102a-f72f-485c-e1ab-929c2dc818bc"
      },
      "execution_count": null,
      "outputs": [
        {
          "output_type": "execute_result",
          "data": {
            "text/plain": [
              "category    0\n",
              "headline    0\n",
              "           ..\n",
              "date        0\n",
              "year        0\n",
              "Length: 7, dtype: int64"
            ]
          },
          "metadata": {},
          "execution_count": 559
        }
      ]
    },
    {
      "cell_type": "markdown",
      "source": [
        "Creating a new column which combine headline and short descriptions columns "
      ],
      "metadata": {
        "id": "VszZXVvH9RcU"
      }
    },
    {
      "cell_type": "code",
      "source": [
        "train_df['combined'] = train_df['headline'] + \" \" + train_df['short_description'] + \" \" + train_df['link']"
      ],
      "metadata": {
        "id": "rvnRE7XbeYca"
      },
      "execution_count": null,
      "outputs": []
    },
    {
      "cell_type": "code",
      "source": [
        "val_df['combined'] = val_df['headline'] + \" \" + val_df['short_description'] + \" \" + val_df['link']"
      ],
      "metadata": {
        "id": "UixUFpWvjwft"
      },
      "execution_count": null,
      "outputs": []
    },
    {
      "cell_type": "markdown",
      "source": [
        "Calling the function created earlier for TFIDF"
      ],
      "metadata": {
        "id": "h9-1Sqj29bD9"
      }
    },
    {
      "cell_type": "code",
      "source": [
        "combined_vec, combined_features = tfid(train_df['combined'], 3000)"
      ],
      "metadata": {
        "colab": {
          "base_uri": "https://localhost:8080/"
        },
        "id": "WRLTIh_UfFFQ",
        "outputId": "b2165f5d-6dc0-4e18-aff5-df18b434f5a5"
      },
      "execution_count": null,
      "outputs": [
        {
          "output_type": "stream",
          "name": "stdout",
          "text": [
            "(126780, 3000)\n"
          ]
        }
      ]
    },
    {
      "cell_type": "code",
      "source": [
        "combined_features"
      ],
      "metadata": {
        "colab": {
          "base_uri": "https://localhost:8080/"
        },
        "id": "TzxcPoLr6isK",
        "outputId": "fca040df-2891-44b3-c3ac-a50b21f97e6f"
      },
      "execution_count": null,
      "outputs": [
        {
          "output_type": "execute_result",
          "data": {
            "text/plain": [
              "array(['01', '02', '03', ..., 'youtube', 'youve', 'zika'], dtype=object)"
            ]
          },
          "metadata": {},
          "execution_count": 563
        }
      ]
    },
    {
      "cell_type": "code",
      "source": [
        "train_targets.shape"
      ],
      "metadata": {
        "colab": {
          "base_uri": "https://localhost:8080/"
        },
        "id": "tOgNU3B1-E12",
        "outputId": "61754d6b-f874-48df-b491-b56c47efc3ed"
      },
      "execution_count": null,
      "outputs": [
        {
          "output_type": "execute_result",
          "data": {
            "text/plain": [
              "(126784, 1)"
            ]
          },
          "metadata": {},
          "execution_count": 564
        }
      ]
    },
    {
      "cell_type": "markdown",
      "source": [
        "Updating train_targets DF so when we train the model there is no mismatch in dimensions/values"
      ],
      "metadata": {
        "id": "boD5DUXJ9qP4"
      }
    },
    {
      "cell_type": "code",
      "source": [
        "train_targets = train_df[['category']]"
      ],
      "metadata": {
        "id": "O5PXE1UX9_wN"
      },
      "execution_count": null,
      "outputs": []
    },
    {
      "cell_type": "code",
      "source": [
        "train_df['category']"
      ],
      "metadata": {
        "colab": {
          "base_uri": "https://localhost:8080/"
        },
        "id": "KOd8ERWlkRQy",
        "outputId": "3d10f996-92fd-4381-a1bf-7064ff9c0e43"
      },
      "execution_count": null,
      "outputs": [
        {
          "output_type": "execute_result",
          "data": {
            "text/plain": [
              "104854         PARENTS\n",
              "185246        BUSINESS\n",
              "              ...     \n",
              "166515    FOOD & DRINK\n",
              "141577       LIFESTYLE\n",
              "Name: category, Length: 126780, dtype: object"
            ]
          },
          "metadata": {},
          "execution_count": 566
        }
      ]
    },
    {
      "cell_type": "code",
      "source": [
        "train_targets.shape"
      ],
      "metadata": {
        "colab": {
          "base_uri": "https://localhost:8080/"
        },
        "id": "r9hFxC5HkOM8",
        "outputId": "33cdb5c4-36ac-4a4b-c529-f1722cca236a"
      },
      "execution_count": null,
      "outputs": [
        {
          "output_type": "execute_result",
          "data": {
            "text/plain": [
              "(126780, 1)"
            ]
          },
          "metadata": {},
          "execution_count": 567
        }
      ]
    },
    {
      "cell_type": "code",
      "source": [
        "def hyperParams(**params):\n",
        "    vectorizer = TfidfVectorizer(**params) #**params for tuning the TFIDF model\n",
        "    vectorizer.fit(train_df['combined']) #Fitting model to the combined column in the training set\n",
        "    cleaned_desc = vectorizer.transform(train_df['combined']) #Transforming the training set\n",
        "    return cleaned_desc, vectorizer"
      ],
      "metadata": {
        "id": "7PUvMDEZERNN"
      },
      "execution_count": null,
      "outputs": []
    },
    {
      "cell_type": "code",
      "source": [
        "def increment(x): #Incremting function for different rounds/epochs when training/tuning\n",
        "  arr = []\n",
        "  for i in range(3):\n",
        "   arr.append(x + x)\n",
        "   x = x + x\n",
        "  return arr"
      ],
      "metadata": {
        "id": "6zQ2bW9-ESzi"
      },
      "execution_count": null,
      "outputs": []
    },
    {
      "cell_type": "markdown",
      "source": [
        "# RandomForest With Gradient Boost\n"
      ],
      "metadata": {
        "id": "InYh-WOsXFrW"
      }
    },
    {
      "cell_type": "markdown",
      "source": [
        "Trying the RandomForestClassifier as a model"
      ],
      "metadata": {
        "id": "69-7NLPa-ncW"
      }
    },
    {
      "cell_type": "code",
      "source": [
        "from xgboost import XGBClassifier\n",
        "from xgboost import plot_tree\n",
        "from sklearn import preprocessing"
      ],
      "metadata": {
        "id": "7j978U1NOOzD"
      },
      "execution_count": null,
      "outputs": []
    },
    {
      "cell_type": "markdown",
      "source": [
        "Defining functions for hyper parameter testing"
      ],
      "metadata": {
        "id": "Rhiv-umND9Js"
      }
    },
    {
      "cell_type": "code",
      "source": [
        "lbl = preprocessing.LabelEncoder()\n",
        "encoded_train_cats = lbl.fit_transform(train_targets.category.astype(str))\n",
        "encoded_val_cats = lbl.fit_transform(val_targets.category.astype(str))\n",
        "\n",
        "def RandomForestHyperParams(x, vector, **params):\n",
        "    model = XGBClassifier(**params) #**params for tuning the RandomForestClassifier model\n",
        "    model.fit(x, encoded_train_cats) #Fitting the model \n",
        "    print(\"Training set score: {:.5f}\".format(model.score(x, encoded_train_cats))) #Predictions for training set\n",
        "    valvector = vector.transform(val_df.combined) #Transforming the validation data for predictions\n",
        "    print(\"Validation set score: {:.5f}\\n\".format(model.score(valvector, encoded_val_cats))) #Predictions for validation set\n",
        "    Forest_history.append({\"train_score\":model.score(x, encoded_train_cats), \"val_score\":model.score(valvector, encoded_val_cats)})\n",
        "    return model"
      ],
      "metadata": {
        "id": "mAPdJQrjn_7D"
      },
      "execution_count": null,
      "outputs": []
    },
    {
      "cell_type": "code",
      "source": [
        "def ForestTuning(): \n",
        "  range = increment(4000)\n",
        "  counter = 1;\n",
        "  for i in range:\n",
        "    clean, vectorizer = hyperParams(lowercase=True, max_df=0.80, max_features= i, ngram_range=(1,3)) #Setting the parameters for TFIDF vectorizing\n",
        "    print(\"\\nRound {}: Max_features = {}\".format(counter, i)) #Displaying the round/epoch and the current parameters\n",
        "    model = RandomForestHyperParams(x = clean, vector = vectorizer, n_estimators= 20, max_depth = 6, n_jobs=-1, random_state=42) #Setting the RandomForestClassifier parameters\n",
        "    counter += 1; #Keeping track of the current round/epoch\n",
        "  return model, vectorizer"
      ],
      "metadata": {
        "id": "70BdBeY1Y5BY"
      },
      "execution_count": null,
      "outputs": []
    },
    {
      "cell_type": "code",
      "source": [
        "%%time\n",
        "Forest_history = []\n",
        "model, vectorizer = ForestTuning()"
      ],
      "metadata": {
        "colab": {
          "base_uri": "https://localhost:8080/"
        },
        "id": "_j8MLyz9mkdo",
        "outputId": "d9478cc7-7e6b-474f-8f50-ee68360736e5"
      },
      "execution_count": null,
      "outputs": [
        {
          "output_type": "stream",
          "name": "stdout",
          "text": [
            "\n",
            "Round 1: Max_features = 8000\n"
          ]
        },
        {
          "output_type": "stream",
          "name": "stderr",
          "text": [
            "C:\\Users\\Ethan\\AppData\\Local\\Programs\\Python\\Python39\\lib\\site-packages\\xgboost\\sklearn.py:1224: UserWarning:\n",
            "\n",
            "The use of label encoder in XGBClassifier is deprecated and will be removed in a future release. To remove this warning, do the following: 1) Pass option use_label_encoder=False when constructing XGBClassifier object; and 2) Encode your labels (y) as integers starting with 0, i.e. 0, 1, 2, ..., [num_class - 1].\n",
            "\n"
          ]
        },
        {
          "output_type": "stream",
          "name": "stdout",
          "text": [
            "[19:21:20] WARNING: C:/Users/Administrator/workspace/xgboost-win64_release_1.5.1/src/learner.cc:1115: Starting in XGBoost 1.3.0, the default evaluation metric used with the objective 'multi:softprob' was changed from 'merror' to 'mlogloss'. Explicitly set eval_metric if you'd like to restore the old behavior.\n",
            "Training set score: 0.64801\n",
            "Validation set score: 0.60385\n",
            "\n",
            "\n",
            "Round 2: Max_features = 16000\n"
          ]
        },
        {
          "output_type": "stream",
          "name": "stderr",
          "text": [
            "C:\\Users\\Ethan\\AppData\\Local\\Programs\\Python\\Python39\\lib\\site-packages\\xgboost\\sklearn.py:1224: UserWarning:\n",
            "\n",
            "The use of label encoder in XGBClassifier is deprecated and will be removed in a future release. To remove this warning, do the following: 1) Pass option use_label_encoder=False when constructing XGBClassifier object; and 2) Encode your labels (y) as integers starting with 0, i.e. 0, 1, 2, ..., [num_class - 1].\n",
            "\n"
          ]
        },
        {
          "output_type": "stream",
          "name": "stdout",
          "text": [
            "[19:23:35] WARNING: C:/Users/Administrator/workspace/xgboost-win64_release_1.5.1/src/learner.cc:1115: Starting in XGBoost 1.3.0, the default evaluation metric used with the objective 'multi:softprob' was changed from 'merror' to 'mlogloss'. Explicitly set eval_metric if you'd like to restore the old behavior.\n",
            "Training set score: 0.65014\n",
            "Validation set score: 0.60864\n",
            "\n",
            "\n",
            "Round 3: Max_features = 32000\n"
          ]
        },
        {
          "output_type": "stream",
          "name": "stderr",
          "text": [
            "C:\\Users\\Ethan\\AppData\\Local\\Programs\\Python\\Python39\\lib\\site-packages\\xgboost\\sklearn.py:1224: UserWarning:\n",
            "\n",
            "The use of label encoder in XGBClassifier is deprecated and will be removed in a future release. To remove this warning, do the following: 1) Pass option use_label_encoder=False when constructing XGBClassifier object; and 2) Encode your labels (y) as integers starting with 0, i.e. 0, 1, 2, ..., [num_class - 1].\n",
            "\n"
          ]
        },
        {
          "output_type": "stream",
          "name": "stdout",
          "text": [
            "[19:26:01] WARNING: C:/Users/Administrator/workspace/xgboost-win64_release_1.5.1/src/learner.cc:1115: Starting in XGBoost 1.3.0, the default evaluation metric used with the objective 'multi:softprob' was changed from 'merror' to 'mlogloss'. Explicitly set eval_metric if you'd like to restore the old behavior.\n",
            "Training set score: 0.65022\n",
            "Validation set score: 0.60930\n",
            "\n",
            "CPU times: total: 39min 30s\n",
            "Wall time: 7min 15s\n"
          ]
        }
      ]
    },
    {
      "cell_type": "markdown",
      "source": [
        "**Max_features in the TFIDF vectorizer seems to play a big part in the models predictions. Previous testing showed that tuning the RandomForestClassifier showed little to no difference in the accuracy of the model**"
      ],
      "metadata": {
        "id": "MvSRr6_vEHIL"
      }
    },
    {
      "cell_type": "markdown",
      "source": [
        "Sample Predictions"
      ],
      "metadata": {
        "id": "-snk5WUQFZAA"
      }
    },
    {
      "cell_type": "code",
      "source": [
        "list(lbl.inverse_transform(model.predict(vectorizer.transform([\"Texas sues Biden administration to stop mask mandates on planes – as it happened\"])))) #Poltical headline"
      ],
      "metadata": {
        "colab": {
          "base_uri": "https://localhost:8080/"
        },
        "id": "um2Ki488_lIE",
        "outputId": "af7bdeb1-a3b8-481b-f6be-b4fdd6e3e044"
      },
      "execution_count": null,
      "outputs": [
        {
          "output_type": "execute_result",
          "data": {
            "text/plain": [
              "['ENTERTAINMENT']"
            ]
          },
          "metadata": {},
          "execution_count": 580
        }
      ]
    },
    {
      "cell_type": "code",
      "source": [
        "list(lbl.inverse_transform(model.predict(vectorizer.transform([\"Google moves to make Android apps more private\"])))) #Tech headline"
      ],
      "metadata": {
        "colab": {
          "base_uri": "https://localhost:8080/"
        },
        "id": "MNY1DmRCDQN1",
        "outputId": "9519aa57-2f2f-4282-9a96-5e7fb2dca1dd"
      },
      "execution_count": null,
      "outputs": [
        {
          "output_type": "execute_result",
          "data": {
            "text/plain": [
              "['TECH']"
            ]
          },
          "metadata": {},
          "execution_count": 581
        }
      ]
    },
    {
      "cell_type": "code",
      "source": [
        "list(lbl.inverse_transform(model.predict(vectorizer.transform([\"Googles plan to limit data tracking on its Chrome browser has been extended to cover apps on its Android-based smartphones.\"])))) #Tech short description"
      ],
      "metadata": {
        "colab": {
          "base_uri": "https://localhost:8080/"
        },
        "id": "f8JvBYZxDTCp",
        "outputId": "6d754300-b378-4420-a047-3daaeaee265c"
      },
      "execution_count": null,
      "outputs": [
        {
          "output_type": "execute_result",
          "data": {
            "text/plain": [
              "['TECH']"
            ]
          },
          "metadata": {},
          "execution_count": 582
        }
      ]
    },
    {
      "cell_type": "code",
      "source": [
        "list(lbl.inverse_transform(model.predict(vectorizer.transform([\"Austria and Germany have both announced plans to relax Covid-19 measures, weeks after pushing for compulsory vaccinations to curb infections.\"])))) #General/Covid News"
      ],
      "metadata": {
        "colab": {
          "base_uri": "https://localhost:8080/"
        },
        "id": "H0F2YpN9DgPT",
        "outputId": "fcddea99-816b-4f43-c8fa-d30025238ce2"
      },
      "execution_count": null,
      "outputs": [
        {
          "output_type": "execute_result",
          "data": {
            "text/plain": [
              "['WORLD NEWS']"
            ]
          },
          "metadata": {},
          "execution_count": 583
        }
      ]
    },
    {
      "cell_type": "code",
      "source": [
        "list(lbl.inverse_transform(model.predict(vectorizer.transform(['EUROPE Soldier abused for being gay told to provide intimate pictures to prove his sexuality'])))) #Queer News"
      ],
      "metadata": {
        "colab": {
          "base_uri": "https://localhost:8080/"
        },
        "id": "qb-8v6K5FeQD",
        "outputId": "73e2ad21-62db-471a-b2b3-c69960a623bf"
      },
      "execution_count": null,
      "outputs": [
        {
          "output_type": "execute_result",
          "data": {
            "text/plain": [
              "['QUEER VOICES']"
            ]
          },
          "metadata": {},
          "execution_count": 584
        }
      ]
    },
    {
      "cell_type": "markdown",
      "source": [
        "Here our model predicts a wrong category, lets try providing the description in the following line"
      ],
      "metadata": {
        "id": "RvwLSiN6HEF6"
      }
    },
    {
      "cell_type": "code",
      "source": [
        "list(lbl.inverse_transform(model.predict(vectorizer.transform(['Five healthy ways to discipline children'])))) #Parenting News"
      ],
      "metadata": {
        "colab": {
          "base_uri": "https://localhost:8080/"
        },
        "id": "9X1_gXrZG2uQ",
        "outputId": "e530cd39-93ea-46e8-dfcb-f0b1bbf8618f"
      },
      "execution_count": null,
      "outputs": [
        {
          "output_type": "execute_result",
          "data": {
            "text/plain": [
              "['WELLNESS']"
            ]
          },
          "metadata": {},
          "execution_count": 585
        }
      ]
    },
    {
      "cell_type": "markdown",
      "source": [
        "Still a wrong prediction, lets try combining both the headline and descripton"
      ],
      "metadata": {
        "id": "h0rfF0hCHQ3o"
      }
    },
    {
      "cell_type": "code",
      "source": [
        "list(lbl.inverse_transform(model.predict(vectorizer.transform(['A positive disciplining strategy can help develop a positive relationship and set expectations based on the behavioral outcomes, says an expert.']))))"
      ],
      "metadata": {
        "colab": {
          "base_uri": "https://localhost:8080/"
        },
        "id": "Bn7B9VgOHJ-v",
        "outputId": "521cb75c-1258-4649-f83a-0de5e90b017a"
      },
      "execution_count": null,
      "outputs": [
        {
          "output_type": "execute_result",
          "data": {
            "text/plain": [
              "['ENTERTAINMENT']"
            ]
          },
          "metadata": {},
          "execution_count": 586
        }
      ]
    },
    {
      "cell_type": "markdown",
      "source": [
        "Still wrong, here we can see our model is not 100% accurate."
      ],
      "metadata": {
        "id": "hibxnylBHiJU"
      }
    },
    {
      "cell_type": "code",
      "source": [
        "list(lbl.inverse_transform(model.predict(vectorizer.transform(['Five healthy ways to discipline children A positive disciplining strategy can help develop a positive relationship and set expectations based on the behavioral outcomes, says an expert.']))))"
      ],
      "metadata": {
        "colab": {
          "base_uri": "https://localhost:8080/"
        },
        "id": "URYgjOx-HdH7",
        "outputId": "fef2f327-def9-4d78-ef31-468cf365cbe7"
      },
      "execution_count": null,
      "outputs": [
        {
          "output_type": "execute_result",
          "data": {
            "text/plain": [
              "['WELLNESS']"
            ]
          },
          "metadata": {},
          "execution_count": 587
        }
      ]
    },
    {
      "cell_type": "code",
      "source": [
        "sns.set_style(\"darkgrid\")\n",
        "\n",
        "plt.plot([x[\"val_score\"] for x in Forest_history], 'r-o')\n",
        "plt.plot([x[\"train_score\"] for x in Forest_history], 'b-o')\n",
        "\n",
        "plt.xticks([])\n",
        "\n",
        "plt.legend(['Validation Set Score', 'Training Set Score'])"
      ],
      "metadata": {
        "colab": {
          "base_uri": "https://localhost:8080/",
          "height": 266
        },
        "id": "NpgMlsro1oVQ",
        "outputId": "54e49697-a23f-4098-c146-d1d9e5fe50d0"
      },
      "execution_count": null,
      "outputs": [
        {
          "output_type": "execute_result",
          "data": {
            "text/plain": [
              "<matplotlib.legend.Legend at 0x20974943e50>"
            ]
          },
          "metadata": {},
          "execution_count": 588
        },
        {
          "output_type": "display_data",
          "data": {
            "text/plain": [
              "<Figure size 432x288 with 1 Axes>"
            ],
            "image/png": "[encoded data removed]"
          },
          "metadata": {}
        }
      ]
    },
    {
      "cell_type": "markdown",
      "source": [
        "# Naive Bayes\n"
      ],
      "metadata": {
        "id": "PHExkI_0YYuv"
      }
    },
    {
      "cell_type": "code",
      "source": [
        "from sklearn.naive_bayes import BernoulliNB, ComplementNB"
      ],
      "metadata": {
        "id": "IHjSVa7GoEmW"
      },
      "execution_count": null,
      "outputs": []
    },
    {
      "cell_type": "code",
      "source": [
        "def NaiveModelHyperParams(x, vector, **params):\n",
        "    model = BernoulliNB(**params) #**params for tuning the BernoulliNB model\n",
        "    model.fit(x, train_targets) #Fitting the model \n",
        "    print(\"Training set score: {:.5f}\".format(model.score(x, train_targets.values.ravel()))) #Predictions for training set\n",
        "    valvector = vector.transform(val_df.combined) #Transforming the validation data for predictions\n",
        "    print(\"Validation set score: {:.5f}\\n\".format(model.score(valvector, val_targets.values.ravel()))) #Predictions for validation set\n",
        "    Naive_history.append({\"train_score\":model.score(x, train_targets.values.ravel()), \"val_score\":model.score(valvector, val_targets.values.ravel())})\n",
        "    return model"
      ],
      "metadata": {
        "id": "FDnkdWaYxvbU"
      },
      "execution_count": null,
      "outputs": []
    },
    {
      "cell_type": "code",
      "source": [
        "def NaiveTuning():\n",
        "  range = increment(4000)\n",
        "  counter = 1;\n",
        "  for i in range:\n",
        "    clean, vectorizer = hyperParams(lowercase=True, max_df=0.80, max_features= i, ngram_range=(1,3)) #Setting the parameters for TFIDF vectorizing\n",
        "    print(\"\\nRound {}: Max_features = {}\".format(counter, i))  #Displaying the round/epoch and the current parameters\n",
        "    model = NaiveModelHyperParams(x = clean, vector = vectorizer)  #Setting the BernoulliNB model parameters\n",
        "    counter += 1;\n",
        "  return model, vectorizer"
      ],
      "metadata": {
        "id": "yp3hhgJ8x5KH"
      },
      "execution_count": null,
      "outputs": []
    },
    {
      "cell_type": "markdown",
      "source": [
        "**Max_features in the TFIDF vectorizer seems to play a big part in the models predictions. Previous testing showed that tuning the RandomForestClassifier showed little to no difference in the accuracy of the model**"
      ],
      "metadata": {
        "id": "qkRl6hDjJDn3"
      }
    },
    {
      "cell_type": "code",
      "source": [
        "%%time\n",
        "Naive_history = []\n",
        "model, vectorizer = NaiveTuning()"
      ],
      "metadata": {
        "colab": {
          "base_uri": "https://localhost:8080/"
        },
        "id": "3IVRA4_PyVZP",
        "outputId": "be24539d-6126-40f7-913c-ea77fe309ab4"
      },
      "execution_count": null,
      "outputs": [
        {
          "output_type": "stream",
          "name": "stdout",
          "text": [
            "\n",
            "Round 1: Max_features = 8000\n"
          ]
        },
        {
          "output_type": "stream",
          "name": "stderr",
          "text": [
            "C:\\Users\\Ethan\\AppData\\Local\\Programs\\Python\\Python39\\lib\\site-packages\\sklearn\\utils\\validation.py:993: DataConversionWarning:\n",
            "\n",
            "A column-vector y was passed when a 1d array was expected. Please change the shape of y to (n_samples, ), for example using ravel().\n",
            "\n"
          ]
        },
        {
          "output_type": "stream",
          "name": "stdout",
          "text": [
            "Training set score: 0.64479\n",
            "Validation set score: 0.60652\n",
            "\n",
            "\n",
            "Round 2: Max_features = 16000\n"
          ]
        },
        {
          "output_type": "stream",
          "name": "stderr",
          "text": [
            "C:\\Users\\Ethan\\AppData\\Local\\Programs\\Python\\Python39\\lib\\site-packages\\sklearn\\utils\\validation.py:993: DataConversionWarning:\n",
            "\n",
            "A column-vector y was passed when a 1d array was expected. Please change the shape of y to (n_samples, ), for example using ravel().\n",
            "\n"
          ]
        },
        {
          "output_type": "stream",
          "name": "stdout",
          "text": [
            "Training set score: 0.68288\n",
            "Validation set score: 0.62712\n",
            "\n",
            "\n",
            "Round 3: Max_features = 32000\n"
          ]
        },
        {
          "output_type": "stream",
          "name": "stderr",
          "text": [
            "C:\\Users\\Ethan\\AppData\\Local\\Programs\\Python\\Python39\\lib\\site-packages\\sklearn\\utils\\validation.py:993: DataConversionWarning:\n",
            "\n",
            "A column-vector y was passed when a 1d array was expected. Please change the shape of y to (n_samples, ), for example using ravel().\n",
            "\n"
          ]
        },
        {
          "output_type": "stream",
          "name": "stdout",
          "text": [
            "Training set score: 0.71903\n",
            "Validation set score: 0.64274\n",
            "\n",
            "CPU times: total: 2min 28s\n",
            "Wall time: 2min 32s\n"
          ]
        }
      ]
    },
    {
      "cell_type": "markdown",
      "source": [
        "Sample Predictions"
      ],
      "metadata": {
        "id": "_q1Y-i2wI1bx"
      }
    },
    {
      "cell_type": "code",
      "source": [
        "model"
      ],
      "metadata": {
        "colab": {
          "base_uri": "https://localhost:8080/"
        },
        "id": "jhVnmzPzMUP6",
        "outputId": "dfa90064-2047-4d67-ded2-9a966ffed1a6"
      },
      "execution_count": null,
      "outputs": [
        {
          "output_type": "execute_result",
          "data": {
            "text/plain": [
              "BernoulliNB()"
            ]
          },
          "metadata": {},
          "execution_count": 597
        }
      ]
    },
    {
      "cell_type": "code",
      "source": [
        "model.predict(vectorizer.transform([\"Texas sues Biden administration to stop mask mandates on planes – as it happened\"])), #Poltical headline"
      ],
      "metadata": {
        "colab": {
          "base_uri": "https://localhost:8080/"
        },
        "outputId": "2902746b-1763-46e9-e204-d2b62768dfa5",
        "id": "HT0UYka-I1bx"
      },
      "execution_count": null,
      "outputs": [
        {
          "output_type": "execute_result",
          "data": {
            "text/plain": [
              "(array(['POLITICS'], dtype='<U19'),)"
            ]
          },
          "metadata": {},
          "execution_count": 598
        }
      ]
    },
    {
      "cell_type": "code",
      "source": [
        "model.predict(vectorizer.transform([\"Google moves to make Android apps more private\"])) #Tech headline"
      ],
      "metadata": {
        "colab": {
          "base_uri": "https://localhost:8080/"
        },
        "outputId": "3020a63f-7f90-47e2-88ff-ba4e44a03c8c",
        "id": "2-T-e64TI1bx"
      },
      "execution_count": null,
      "outputs": [
        {
          "output_type": "execute_result",
          "data": {
            "text/plain": [
              "array(['ENTERTAINMENT'], dtype='<U19')"
            ]
          },
          "metadata": {},
          "execution_count": 599
        }
      ]
    },
    {
      "cell_type": "code",
      "source": [
        "model.predict(vectorizer.transform([\"Googles plan to limit data tracking on its Chrome browser has been extended to cover apps on its Android-based smartphones.\"])) #Tech short description"
      ],
      "metadata": {
        "colab": {
          "base_uri": "https://localhost:8080/"
        },
        "outputId": "416198bf-3f34-4525-c2d4-72b856a9c385",
        "id": "Jxv20nU_I1by"
      },
      "execution_count": null,
      "outputs": [
        {
          "output_type": "execute_result",
          "data": {
            "text/plain": [
              "array(['TECH'], dtype='<U19')"
            ]
          },
          "metadata": {},
          "execution_count": 600
        }
      ]
    },
    {
      "cell_type": "code",
      "source": [
        "model.predict(vectorizer.transform([\"Austria and Germany have both announced plans to relax Covid-19 measures, weeks after pushing for compulsory vaccinations to curb infections.\"])) #General/Covid News"
      ],
      "metadata": {
        "colab": {
          "base_uri": "https://localhost:8080/"
        },
        "outputId": "8fc30bc4-74e6-4fe2-8870-7b8b266a10ab",
        "id": "ElvQBebmI1by"
      },
      "execution_count": null,
      "outputs": [
        {
          "output_type": "execute_result",
          "data": {
            "text/plain": [
              "array(['WORLD NEWS'], dtype='<U19')"
            ]
          },
          "metadata": {},
          "execution_count": 601
        }
      ]
    },
    {
      "cell_type": "code",
      "source": [
        "model.predict(vectorizer.transform(['EUROPE Soldier abused for being gay told to provide intimate pictures to prove his sexuality'])) #Queer News"
      ],
      "metadata": {
        "colab": {
          "base_uri": "https://localhost:8080/"
        },
        "outputId": "79c47a84-2a9a-4f5f-d696-b8690eaae08c",
        "id": "w4hoRD28I1by"
      },
      "execution_count": null,
      "outputs": [
        {
          "output_type": "execute_result",
          "data": {
            "text/plain": [
              "array(['QUEER VOICES'], dtype='<U19')"
            ]
          },
          "metadata": {},
          "execution_count": 602
        }
      ]
    },
    {
      "cell_type": "markdown",
      "source": [
        "Here our model predicts a wrong category, lets try providing the description in the following line"
      ],
      "metadata": {
        "id": "JgP8idWKI1by"
      }
    },
    {
      "cell_type": "code",
      "source": [
        "model.predict(vectorizer.transform(['Five healthy ways to discipline children'])) #Parenting News"
      ],
      "metadata": {
        "colab": {
          "base_uri": "https://localhost:8080/"
        },
        "outputId": "92e8b955-8d23-4ccd-c15b-2cd3bbb24b08",
        "id": "yfBYVXdEI1by"
      },
      "execution_count": null,
      "outputs": [
        {
          "output_type": "execute_result",
          "data": {
            "text/plain": [
              "array(['FOOD & DRINK'], dtype='<U19')"
            ]
          },
          "metadata": {},
          "execution_count": 603
        }
      ]
    },
    {
      "cell_type": "markdown",
      "source": [
        "Still a wrong prediction, lets try combining both the headline and descripton"
      ],
      "metadata": {
        "id": "rdmWMPXUI1by"
      }
    },
    {
      "cell_type": "code",
      "source": [
        "model.predict(vectorizer.transform(['A positive disciplining strategy can help develop a positive relationship and set expectations based on the behavioral outcomes, says an expert.']))"
      ],
      "metadata": {
        "colab": {
          "base_uri": "https://localhost:8080/"
        },
        "outputId": "95138621-a615-4214-d3bd-31328cb82815",
        "id": "gL89uV4XI1by"
      },
      "execution_count": null,
      "outputs": [
        {
          "output_type": "execute_result",
          "data": {
            "text/plain": [
              "array(['WELLNESS'], dtype='<U19')"
            ]
          },
          "metadata": {},
          "execution_count": 604
        }
      ]
    },
    {
      "cell_type": "markdown",
      "source": [
        "Still wrong, here we can see our model is not 100% accurate."
      ],
      "metadata": {
        "id": "kGNB480hI1by"
      }
    },
    {
      "cell_type": "code",
      "source": [
        "model.predict(vectorizer.transform(['Five healthy ways to discipline children A positive disciplining strategy can help develop a positive relationship and set expectations based on the behavioral outcomes, says an expert.']))"
      ],
      "metadata": {
        "colab": {
          "base_uri": "https://localhost:8080/"
        },
        "outputId": "dca19f61-4636-4566-8933-6b1df5346fba",
        "id": "wH9NP1HnI1by"
      },
      "execution_count": null,
      "outputs": [
        {
          "output_type": "execute_result",
          "data": {
            "text/plain": [
              "array(['WELLNESS'], dtype='<U19')"
            ]
          },
          "metadata": {},
          "execution_count": 605
        }
      ]
    },
    {
      "cell_type": "code",
      "source": [
        "sns.set_style(\"darkgrid\")\n",
        "\n",
        "plt.plot([x[\"val_score\"] for x in Naive_history], 'r-o')\n",
        "plt.plot([x[\"train_score\"] for x in Naive_history], 'b-o')\n",
        "\n",
        "plt.xticks([])\n",
        "\n",
        "plt.legend(['Validation Set Score', 'Training Set Score'])"
      ],
      "metadata": {
        "colab": {
          "base_uri": "https://localhost:8080/",
          "height": 266
        },
        "id": "Zk65eF7P1cEg",
        "outputId": "482389e1-cf4a-41fe-af28-ab8240f6a7ab"
      },
      "execution_count": null,
      "outputs": [
        {
          "output_type": "execute_result",
          "data": {
            "text/plain": [
              "<matplotlib.legend.Legend at 0x209c7b9e2e0>"
            ]
          },
          "metadata": {},
          "execution_count": 606
        },
        {
          "output_type": "display_data",
          "data": {
            "text/plain": [
              "<Figure size 432x288 with 1 Axes>"
            ],
            "image/png": "[encoded data removed]"
          },
          "metadata": {}
        }
      ]
    },
    {
      "cell_type": "markdown",
      "source": [
        "# SGD Classifier"
      ],
      "metadata": {
        "id": "4TSdMIS1GbWI"
      }
    },
    {
      "cell_type": "code",
      "source": [
        "from sklearn.linear_model import SGDClassifier"
      ],
      "metadata": {
        "id": "jSvTzWuMGbWI"
      },
      "execution_count": null,
      "outputs": []
    },
    {
      "cell_type": "code",
      "source": [
        "def SGDModelHyperParams(x, vector, **params):\n",
        "    model = SGDClassifier(**params) #**params for tuning the BernoulliNB model\n",
        "    model.fit(x, train_targets) #Fitting the model \n",
        "    print(\"Training set score: {:.5f}\".format(model.score(x, train_targets.values.ravel()))) #Predictions for training set\n",
        "    valvector = vector.transform(val_df.combined) #Transforming the validation data for predictions\n",
        "    print(\"Validation set score: {:.5f}\\n\".format(model.score(valvector, val_targets.values.ravel()))) #Predictions for validation set\n",
        "    SGD_history.append({\"train_score\":model.score(x, train_targets.values.ravel()), \"val_score\":model.score(valvector, val_targets.values.ravel())})\n",
        "    return model"
      ],
      "metadata": {
        "id": "qgrsGUc6GbWJ"
      },
      "execution_count": null,
      "outputs": []
    },
    {
      "cell_type": "code",
      "source": [
        "def SGDTuning():\n",
        "  range = increment(4000)\n",
        "  counter = 1;\n",
        "  for i in range:\n",
        "    clean, vectorizer = hyperParams(lowercase=True, max_df=0.80, max_features= i, ngram_range=(1,3)) #Setting the parameters for TFIDF vectorizing\n",
        "    print(\"\\nRound {}: Max_features = {}\".format(counter, i))  #Displaying the round/epoch and the current parameters\n",
        "    model = SGDModelHyperParams(x = clean, vector = vectorizer ,n_jobs = -1, random_state=42, alpha = 0.0000095)  #Setting the SGD model parameters\n",
        "    counter += 1\n",
        "  return model, vectorizer"
      ],
      "metadata": {
        "id": "mpRt-LJMGbWJ"
      },
      "execution_count": null,
      "outputs": []
    },
    {
      "cell_type": "code",
      "source": [
        "%%time\n",
        "SGD_history = []\n",
        "model, vectorizer = SGDTuning()"
      ],
      "metadata": {
        "colab": {
          "base_uri": "https://localhost:8080/"
        },
        "outputId": "cc9ded59-ca6a-4f38-c9fb-e37d9e33eef8",
        "id": "xy8q8jzRGbWJ"
      },
      "execution_count": null,
      "outputs": [
        {
          "output_type": "stream",
          "name": "stdout",
          "text": [
            "\n",
            "Round 1: Max_features = 8000\n"
          ]
        },
        {
          "output_type": "stream",
          "name": "stderr",
          "text": [
            "C:\\Users\\Ethan\\AppData\\Local\\Programs\\Python\\Python39\\lib\\site-packages\\sklearn\\utils\\validation.py:993: DataConversionWarning:\n",
            "\n",
            "A column-vector y was passed when a 1d array was expected. Please change the shape of y to (n_samples, ), for example using ravel().\n",
            "\n"
          ]
        },
        {
          "output_type": "stream",
          "name": "stdout",
          "text": [
            "Training set score: 0.76930\n",
            "Validation set score: 0.69004\n",
            "\n",
            "\n",
            "Round 2: Max_features = 16000\n"
          ]
        },
        {
          "output_type": "stream",
          "name": "stderr",
          "text": [
            "C:\\Users\\Ethan\\AppData\\Local\\Programs\\Python\\Python39\\lib\\site-packages\\sklearn\\utils\\validation.py:993: DataConversionWarning:\n",
            "\n",
            "A column-vector y was passed when a 1d array was expected. Please change the shape of y to (n_samples, ), for example using ravel().\n",
            "\n"
          ]
        },
        {
          "output_type": "stream",
          "name": "stdout",
          "text": [
            "Training set score: 0.81675\n",
            "Validation set score: 0.70679\n",
            "\n",
            "\n",
            "Round 3: Max_features = 32000\n"
          ]
        },
        {
          "output_type": "stream",
          "name": "stderr",
          "text": [
            "C:\\Users\\Ethan\\AppData\\Local\\Programs\\Python\\Python39\\lib\\site-packages\\sklearn\\utils\\validation.py:993: DataConversionWarning:\n",
            "\n",
            "A column-vector y was passed when a 1d array was expected. Please change the shape of y to (n_samples, ), for example using ravel().\n",
            "\n"
          ]
        },
        {
          "output_type": "stream",
          "name": "stdout",
          "text": [
            "Training set score: 0.85986\n",
            "Validation set score: 0.71805\n",
            "\n",
            "CPU times: total: 2min 55s\n",
            "Wall time: 2min 38s\n"
          ]
        }
      ]
    },
    {
      "cell_type": "markdown",
      "source": [
        "Sample Predictions"
      ],
      "metadata": {
        "id": "qwCpRoXSGqc8"
      }
    },
    {
      "cell_type": "code",
      "source": [
        "sns.set_style(\"darkgrid\")\n",
        "\n",
        "plt.plot([x[\"val_score\"] for x in SGD_history], 'r-o')\n",
        "plt.plot([x[\"train_score\"] for x in SGD_history], 'b-o')\n",
        "\n",
        "plt.xticks([])\n",
        "\n",
        "plt.legend(['Validation Set Score', 'Training Set Score'])"
      ],
      "metadata": {
        "colab": {
          "base_uri": "https://localhost:8080/",
          "height": 266
        },
        "id": "L9FbuDPuu1GM",
        "outputId": "55020719-a1b5-4c81-8bdf-4c42db060d91"
      },
      "execution_count": null,
      "outputs": [
        {
          "output_type": "execute_result",
          "data": {
            "text/plain": [
              "<matplotlib.legend.Legend at 0x209105f9400>"
            ]
          },
          "metadata": {},
          "execution_count": 614
        },
        {
          "output_type": "display_data",
          "data": {
            "text/plain": [
              "<Figure size 432x288 with 1 Axes>"
            ],
            "image/png": "[encoded data removed]"
          },
          "metadata": {}
        }
      ]
    },
    {
      "cell_type": "code",
      "source": [
        "model.predict(vectorizer.transform([\"Texas sues Biden administration to stop mask mandates on planes – as it happened\"])) #Poltical headline"
      ],
      "metadata": {
        "colab": {
          "base_uri": "https://localhost:8080/"
        },
        "outputId": "507a6988-3cd4-4ceb-cfb0-744a35bc8f90",
        "id": "raVEiEw3Gqc8"
      },
      "execution_count": null,
      "outputs": [
        {
          "output_type": "execute_result",
          "data": {
            "text/plain": [
              "array(['POLITICS'], dtype='<U19')"
            ]
          },
          "metadata": {},
          "execution_count": 615
        }
      ]
    },
    {
      "cell_type": "code",
      "source": [
        "model.predict(vectorizer.transform([\"Google moves to make Android apps more private\"])) #Tech headline"
      ],
      "metadata": {
        "colab": {
          "base_uri": "https://localhost:8080/"
        },
        "outputId": "bf233e9c-5075-4517-fef7-233bda4da2f8",
        "id": "wYlUhZq0Gqc9"
      },
      "execution_count": null,
      "outputs": [
        {
          "output_type": "execute_result",
          "data": {
            "text/plain": [
              "array(['TECH'], dtype='<U19')"
            ]
          },
          "metadata": {},
          "execution_count": 616
        }
      ]
    },
    {
      "cell_type": "code",
      "source": [
        "model.predict(vectorizer.transform([\"Googles plan to limit data tracking on its Chrome browser has been extended to cover apps on its Android-based smartphones.\"])) #Tech short description"
      ],
      "metadata": {
        "colab": {
          "base_uri": "https://localhost:8080/"
        },
        "outputId": "b39779bc-bd42-4d7d-808e-1c9e339fe10e",
        "id": "tVlBVz7RGqc9"
      },
      "execution_count": null,
      "outputs": [
        {
          "output_type": "execute_result",
          "data": {
            "text/plain": [
              "array(['TECH'], dtype='<U19')"
            ]
          },
          "metadata": {},
          "execution_count": 617
        }
      ]
    },
    {
      "cell_type": "code",
      "source": [
        "model.predict(vectorizer.transform([\"Austria and Germany have both announced plans to relax Covid-19 measures, weeks after pushing for compulsory vaccinations to curb infections.\"])) #General/Covid News"
      ],
      "metadata": {
        "colab": {
          "base_uri": "https://localhost:8080/"
        },
        "outputId": "84b5d54c-23fd-4e5a-b2ed-13edd1a2a942",
        "id": "KvHiVW8SGqc9"
      },
      "execution_count": null,
      "outputs": [
        {
          "output_type": "execute_result",
          "data": {
            "text/plain": [
              "array(['WELLNESS'], dtype='<U19')"
            ]
          },
          "metadata": {},
          "execution_count": 618
        }
      ]
    },
    {
      "cell_type": "code",
      "source": [
        "model.predict(vectorizer.transform(['EUROPE Soldier abused for being gay told to provide intimate pictures to prove his sexuality'])) #Queer News"
      ],
      "metadata": {
        "colab": {
          "base_uri": "https://localhost:8080/"
        },
        "outputId": "2cfe76b1-ef02-4e6d-a427-13e951c9c493",
        "id": "PCe_nLR8Gqc9"
      },
      "execution_count": null,
      "outputs": [
        {
          "output_type": "execute_result",
          "data": {
            "text/plain": [
              "array(['QUEER VOICES'], dtype='<U19')"
            ]
          },
          "metadata": {},
          "execution_count": 619
        }
      ]
    },
    {
      "cell_type": "markdown",
      "source": [
        "Here our model predicts the category right compared to the previous models"
      ],
      "metadata": {
        "id": "ERlh8MjrGqc9"
      }
    },
    {
      "cell_type": "code",
      "source": [
        "model.predict(vectorizer.transform(['Five healthy ways to discipline children'])) #Parenting News"
      ],
      "metadata": {
        "colab": {
          "base_uri": "https://localhost:8080/"
        },
        "outputId": "10cf3f9a-c8a1-4064-f3a4-4af133a782f7",
        "id": "1Wps04FkGqc9"
      },
      "execution_count": null,
      "outputs": [
        {
          "output_type": "execute_result",
          "data": {
            "text/plain": [
              "array(['PARENTS'], dtype='<U19')"
            ]
          },
          "metadata": {},
          "execution_count": 620
        }
      ]
    },
    {
      "cell_type": "markdown",
      "source": [
        "With more information the model predicts this as a Healthy Living category"
      ],
      "metadata": {
        "id": "WzbPbfi-Gqc9"
      }
    },
    {
      "cell_type": "code",
      "source": [
        "model.predict(vectorizer.transform(['A positive disciplining strategy can help develop a positive relationship and set expectations based on the behavioral outcomes, says an expert.']))"
      ],
      "metadata": {
        "colab": {
          "base_uri": "https://localhost:8080/"
        },
        "outputId": "0858eee0-a953-4fe0-de3e-1c7d81a53c31",
        "id": "a7DXqoJ2Gqc9"
      },
      "execution_count": null,
      "outputs": [
        {
          "output_type": "execute_result",
          "data": {
            "text/plain": [
              "array(['WELLNESS'], dtype='<U19')"
            ]
          },
          "metadata": {},
          "execution_count": 621
        }
      ]
    },
    {
      "cell_type": "markdown",
      "source": [
        "And with both headline and short description the model predicts this as a Wellness category"
      ],
      "metadata": {
        "id": "KAD3nD_AGqc9"
      }
    },
    {
      "cell_type": "code",
      "source": [
        "model.predict(vectorizer.transform(['Five healthy ways to discipline children A positive disciplining strategy can help develop a positive relationship and set expectations based on the behavioral outcomes, says an expert.']))"
      ],
      "metadata": {
        "colab": {
          "base_uri": "https://localhost:8080/"
        },
        "outputId": "8b831f5e-24f9-4179-be94-77a1f885fd27",
        "id": "vNoPeAt9Gqc9"
      },
      "execution_count": null,
      "outputs": [
        {
          "output_type": "execute_result",
          "data": {
            "text/plain": [
              "array(['WELLNESS'], dtype='<U19')"
            ]
          },
          "metadata": {},
          "execution_count": 622
        }
      ]
    },
    {
      "cell_type": "markdown",
      "source": [
        "# **Conclusion**\n",
        "While the models are not 100% accurate, we can see that they better than a dumb model would. When given vague headlines the model still manages to predict a category which is close to the correct category. When given a clearer headline or short description the model performs execptionally well. With some more tuning and testing of different models I am sure the predictions could be better. \n",
        "\n",
        "#References: \n",
        "https://scikit-learn.org/stable/modules/generated/sklearn.feature_extraction.text.TfidfVectorizer.html\n",
        "\n",
        "https://scikit-learn.org/stable/modules/classes.html?highlight=naive%20bayes#module-sklearn.naive_bayes\n",
        "\n",
        "https://scikit-learn.org/stable/modules/generated/sklearn.ensemble.RandomForestClassifier.html?highlight=randomforest#sklearn.ensemble.RandomForestClassifier\n",
        "\n",
        "https://plotly.com/python/\n",
        "\n",
        "https://www.youtube.com/watch?v=i74DVqMsRWY\n",
        "\n",
        "https://numpy.org/doc/stable/reference/index.html\n",
        "\n"
      ],
      "metadata": {
        "id": "tgIS4ngyIoiW"
      }
    }
  ]
}