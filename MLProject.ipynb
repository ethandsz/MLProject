{
  "nbformat": 4,
  "nbformat_minor": 0,
  "metadata": {
    "colab": {
      "name": "MLProject.ipynb",
      "provenance": [],
      "collapsed_sections": [],
      "mount_file_id": "1VHPL41d-OBs939nuenhDhww8cExMxpDK",
      "authorship_tag": "ABX9TyMNyieTmvD9LwMAbs4jmF79",
      "include_colab_link": true
    },
    "kernelspec": {
      "name": "python3",
      "display_name": "Python 3"
    },
    "language_info": {
      "name": "python"
    }
  },
  "cells": [
    {
      "cell_type": "markdown",
      "metadata": {
        "id": "view-in-github",
        "colab_type": "text"
      },
      "source": [
        "<a href=\"https://colab.research.google.com/github/ethandsz/MLProject/blob/main/MLProject.ipynb\" target=\"_parent\"><img src=\"https://colab.research.google.com/assets/colab-badge.svg\" alt=\"Open In Colab\"/></a>"
      ]
    },
    {
      "cell_type": "markdown",
      "source": [
        "# **![EthanDSZ linkedin banner-01.png](data:image/png;base64,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)News Headline Category Prediction**\n"
      ],
      "metadata": {
        "id": "Fz9uXwEZDG-6"
      }
    },
    {
      "cell_type": "code",
      "execution_count": null,
      "metadata": {
        "id": "uewNILOrwLBO"
      },
      "outputs": [],
      "source": [
        "import pandas as pd\n",
        "import numpy as np\n",
        "from sklearn.model_selection import train_test_split\n",
        "import seaborn as sns\n",
        "import matplotlib.pyplot as plt\n",
        "import os\n",
        "import plotly.express as px\n",
        "import plotly.graph_objects as go\n",
        "%matplotlib inline"
      ]
    },
    {
      "cell_type": "markdown",
      "source": [
        "# Importing data, exploratory analysis, and setting target column(s) for training"
      ],
      "metadata": {
        "id": "uXNcuQCF5OlJ"
      }
    },
    {
      "cell_type": "code",
      "source": [
        "#raw = pd.read_excel('drive/MyDrive/Headline/Headlines.xlsx') \n",
        "raw = pd.read_excel('Downloads/Headlines.xlsx')"
      ],
      "metadata": {
        "id": "LkHFxf60wRlV"
      },
      "execution_count": null,
      "outputs": []
    },
    {
      "cell_type": "code",
      "source": [
        "raw"
      ],
      "metadata": {
        "colab": {
          "base_uri": "https://localhost:8080/",
          "height": 424
        },
        "id": "5aaoCivZwIfH",
        "outputId": "37f53289-4c48-47d2-ebcd-4b5fa8b56b52"
      },
      "execution_count": null,
      "outputs": [
        {
          "output_type": "execute_result",
          "data": {
            "text/plain": [
              "        Unnamed: 0       category  \\\n",
              "0                0          CRIME   \n",
              "1                1  ENTERTAINMENT   \n",
              "2                2  ENTERTAINMENT   \n",
              "3                3  ENTERTAINMENT   \n",
              "4                4  ENTERTAINMENT   \n",
              "...            ...            ...   \n",
              "200848      200848           TECH   \n",
              "200849      200849         SPORTS   \n",
              "200850      200850         SPORTS   \n",
              "200851      200851         SPORTS   \n",
              "200852      200852         SPORTS   \n",
              "\n",
              "                                                 headline           authors  \\\n",
              "0       There Were 2 Mass Shootings In Texas Last Week...   Melissa Jeltsen   \n",
              "1       Will Smith Joins Diplo And Nicky Jam For The 2...     Andy McDonald   \n",
              "2         Hugh Grant Marries For The First Time At Age 57        Ron Dicker   \n",
              "3       Jim Carrey Blasts 'Castrato' Adam Schiff And D...        Ron Dicker   \n",
              "4       Julianna Margulies Uses Donald Trump Poop Bags...        Ron Dicker   \n",
              "...                                                   ...               ...   \n",
              "200848  RIM CEO Thorsten Heins' 'Significant' Plans Fo...  Reuters, Reuters   \n",
              "200849  Maria Sharapova Stunned By Victoria Azarenka I...               NaN   \n",
              "200850  Giants Over Patriots, Jets Over Colts Among  M...               NaN   \n",
              "200851  Aldon Smith Arrested: 49ers Linebacker Busted ...               NaN   \n",
              "200852  Dwight Howard Rips Teammates After Magic Loss ...               NaN   \n",
              "\n",
              "                                                     link  \\\n",
              "0       https://www.huffingtonpost.com/entry/texas-ama...   \n",
              "1       https://www.huffingtonpost.com/entry/will-smit...   \n",
              "2       https://www.huffingtonpost.com/entry/hugh-gran...   \n",
              "3       https://www.huffingtonpost.com/entry/jim-carre...   \n",
              "4       https://www.huffingtonpost.com/entry/julianna-...   \n",
              "...                                                   ...   \n",
              "200848  https://www.huffingtonpost.com/entry/rim-ceo-t...   \n",
              "200849  https://www.huffingtonpost.com/entry/maria-sha...   \n",
              "200850  https://www.huffingtonpost.com/entry/super-bow...   \n",
              "200851  https://www.huffingtonpost.com/entry/aldon-smi...   \n",
              "200852  https://www.huffingtonpost.com/entry/dwight-ho...   \n",
              "\n",
              "                                        short_description       date  \n",
              "0       She left her husband. He killed their children... 2018-05-26  \n",
              "1                                Of course it has a song. 2018-05-26  \n",
              "2       The actor and his longtime girlfriend Anna Ebe... 2018-05-26  \n",
              "3       The actor gives Dems an ass-kicking for not fi... 2018-05-26  \n",
              "4       The \"Dietland\" actress said using the bags is ... 2018-05-26  \n",
              "...                                                   ...        ...  \n",
              "200848  Verizon Wireless and AT&T are already promotin... 2012-01-28  \n",
              "200849  Afterward, Azarenka, more effusive with the pr... 2012-01-28  \n",
              "200850  Leading up to Super Bowl XLVI, the most talked... 2012-01-28  \n",
              "200851  CORRECTION: An earlier version of this story i... 2012-01-28  \n",
              "200852  The five-time all-star center tore into his te... 2012-01-28  \n",
              "\n",
              "[200853 rows x 7 columns]"
            ],
            "text/html": [
              "<div>\n",
              "<style scoped>\n",
              "    .dataframe tbody tr th:only-of-type {\n",
              "        vertical-align: middle;\n",
              "    }\n",
              "\n",
              "    .dataframe tbody tr th {\n",
              "        vertical-align: top;\n",
              "    }\n",
              "\n",
              "    .dataframe thead th {\n",
              "        text-align: right;\n",
              "    }\n",
              "</style>\n",
              "<table border=\"1\" class=\"dataframe\">\n",
              "  <thead>\n",
              "    <tr style=\"text-align: right;\">\n",
              "      <th></th>\n",
              "      <th>Unnamed: 0</th>\n",
              "      <th>category</th>\n",
              "      <th>headline</th>\n",
              "      <th>authors</th>\n",
              "      <th>link</th>\n",
              "      <th>short_description</th>\n",
              "      <th>date</th>\n",
              "    </tr>\n",
              "  </thead>\n",
              "  <tbody>\n",
              "    <tr>\n",
              "      <th>0</th>\n",
              "      <td>0</td>\n",
              "      <td>CRIME</td>\n",
              "      <td>There Were 2 Mass Shootings In Texas Last Week...</td>\n",
              "      <td>Melissa Jeltsen</td>\n",
              "      <td>https://www.huffingtonpost.com/entry/texas-ama...</td>\n",
              "      <td>She left her husband. He killed their children...</td>\n",
              "      <td>2018-05-26</td>\n",
              "    </tr>\n",
              "    <tr>\n",
              "      <th>1</th>\n",
              "      <td>1</td>\n",
              "      <td>ENTERTAINMENT</td>\n",
              "      <td>Will Smith Joins Diplo And Nicky Jam For The 2...</td>\n",
              "      <td>Andy McDonald</td>\n",
              "      <td>https://www.huffingtonpost.com/entry/will-smit...</td>\n",
              "      <td>Of course it has a song.</td>\n",
              "      <td>2018-05-26</td>\n",
              "    </tr>\n",
              "    <tr>\n",
              "      <th>2</th>\n",
              "      <td>2</td>\n",
              "      <td>ENTERTAINMENT</td>\n",
              "      <td>Hugh Grant Marries For The First Time At Age 57</td>\n",
              "      <td>Ron Dicker</td>\n",
              "      <td>https://www.huffingtonpost.com/entry/hugh-gran...</td>\n",
              "      <td>The actor and his longtime girlfriend Anna Ebe...</td>\n",
              "      <td>2018-05-26</td>\n",
              "    </tr>\n",
              "    <tr>\n",
              "      <th>3</th>\n",
              "      <td>3</td>\n",
              "      <td>ENTERTAINMENT</td>\n",
              "      <td>Jim Carrey Blasts 'Castrato' Adam Schiff And D...</td>\n",
              "      <td>Ron Dicker</td>\n",
              "      <td>https://www.huffingtonpost.com/entry/jim-carre...</td>\n",
              "      <td>The actor gives Dems an ass-kicking for not fi...</td>\n",
              "      <td>2018-05-26</td>\n",
              "    </tr>\n",
              "    <tr>\n",
              "      <th>4</th>\n",
              "      <td>4</td>\n",
              "      <td>ENTERTAINMENT</td>\n",
              "      <td>Julianna Margulies Uses Donald Trump Poop Bags...</td>\n",
              "      <td>Ron Dicker</td>\n",
              "      <td>https://www.huffingtonpost.com/entry/julianna-...</td>\n",
              "      <td>The \"Dietland\" actress said using the bags is ...</td>\n",
              "      <td>2018-05-26</td>\n",
              "    </tr>\n",
              "    <tr>\n",
              "      <th>...</th>\n",
              "      <td>...</td>\n",
              "      <td>...</td>\n",
              "      <td>...</td>\n",
              "      <td>...</td>\n",
              "      <td>...</td>\n",
              "      <td>...</td>\n",
              "      <td>...</td>\n",
              "    </tr>\n",
              "    <tr>\n",
              "      <th>200848</th>\n",
              "      <td>200848</td>\n",
              "      <td>TECH</td>\n",
              "      <td>RIM CEO Thorsten Heins' 'Significant' Plans Fo...</td>\n",
              "      <td>Reuters, Reuters</td>\n",
              "      <td>https://www.huffingtonpost.com/entry/rim-ceo-t...</td>\n",
              "      <td>Verizon Wireless and AT&amp;T are already promotin...</td>\n",
              "      <td>2012-01-28</td>\n",
              "    </tr>\n",
              "    <tr>\n",
              "      <th>200849</th>\n",
              "      <td>200849</td>\n",
              "      <td>SPORTS</td>\n",
              "      <td>Maria Sharapova Stunned By Victoria Azarenka I...</td>\n",
              "      <td>NaN</td>\n",
              "      <td>https://www.huffingtonpost.com/entry/maria-sha...</td>\n",
              "      <td>Afterward, Azarenka, more effusive with the pr...</td>\n",
              "      <td>2012-01-28</td>\n",
              "    </tr>\n",
              "    <tr>\n",
              "      <th>200850</th>\n",
              "      <td>200850</td>\n",
              "      <td>SPORTS</td>\n",
              "      <td>Giants Over Patriots, Jets Over Colts Among  M...</td>\n",
              "      <td>NaN</td>\n",
              "      <td>https://www.huffingtonpost.com/entry/super-bow...</td>\n",
              "      <td>Leading up to Super Bowl XLVI, the most talked...</td>\n",
              "      <td>2012-01-28</td>\n",
              "    </tr>\n",
              "    <tr>\n",
              "      <th>200851</th>\n",
              "      <td>200851</td>\n",
              "      <td>SPORTS</td>\n",
              "      <td>Aldon Smith Arrested: 49ers Linebacker Busted ...</td>\n",
              "      <td>NaN</td>\n",
              "      <td>https://www.huffingtonpost.com/entry/aldon-smi...</td>\n",
              "      <td>CORRECTION: An earlier version of this story i...</td>\n",
              "      <td>2012-01-28</td>\n",
              "    </tr>\n",
              "    <tr>\n",
              "      <th>200852</th>\n",
              "      <td>200852</td>\n",
              "      <td>SPORTS</td>\n",
              "      <td>Dwight Howard Rips Teammates After Magic Loss ...</td>\n",
              "      <td>NaN</td>\n",
              "      <td>https://www.huffingtonpost.com/entry/dwight-ho...</td>\n",
              "      <td>The five-time all-star center tore into his te...</td>\n",
              "      <td>2012-01-28</td>\n",
              "    </tr>\n",
              "  </tbody>\n",
              "</table>\n",
              "<p>200853 rows × 7 columns</p>\n",
              "</div>"
            ]
          },
          "metadata": {},
          "execution_count": 3
        }
      ]
    },
    {
      "cell_type": "markdown",
      "source": [
        "Dropping \"Unnamed: 0\" as it has no useful data"
      ],
      "metadata": {
        "id": "gyc4M1yD7mq6"
      }
    },
    {
      "cell_type": "code",
      "source": [
        "raw.drop(columns=\"Unnamed: 0\", inplace= True) "
      ],
      "metadata": {
        "id": "X5EMSxxZ2PGC"
      },
      "execution_count": null,
      "outputs": []
    },
    {
      "cell_type": "markdown",
      "source": [
        "Checking the number of categories and their names"
      ],
      "metadata": {
        "id": "MI_CjFnZ7vnY"
      }
    },
    {
      "cell_type": "code",
      "source": [
        "len(list(raw.category.unique()))"
      ],
      "metadata": {
        "id": "G_kc_rxhyQbM",
        "colab": {
          "base_uri": "https://localhost:8080/"
        },
        "outputId": "1c44dec3-e3c2-4127-bc1a-daeaa37cc487"
      },
      "execution_count": null,
      "outputs": [
        {
          "output_type": "execute_result",
          "data": {
            "text/plain": [
              "41"
            ]
          },
          "metadata": {},
          "execution_count": 5
        }
      ]
    },
    {
      "cell_type": "code",
      "source": [
        "raw.category.unique()"
      ],
      "metadata": {
        "colab": {
          "base_uri": "https://localhost:8080/"
        },
        "id": "jnRystIMrFgK",
        "outputId": "ef75447b-7f60-4c96-e331-30be8abbba81"
      },
      "execution_count": null,
      "outputs": [
        {
          "output_type": "execute_result",
          "data": {
            "text/plain": [
              "array(['CRIME', 'ENTERTAINMENT', 'WORLD NEWS', 'IMPACT', 'POLITICS',\n",
              "       'WEIRD NEWS', 'BLACK VOICES', 'WOMEN', 'COMEDY', 'QUEER VOICES',\n",
              "       'SPORTS', 'BUSINESS', 'TRAVEL', 'MEDIA', 'TECH', 'RELIGION',\n",
              "       'SCIENCE', 'LATINO VOICES', 'EDUCATION', 'COLLEGE', 'PARENTS',\n",
              "       'ARTS & CULTURE', 'STYLE', 'GREEN', 'TASTE', 'HEALTHY LIVING',\n",
              "       'THE WORLDPOST', 'GOOD NEWS', 'WORLDPOST', 'FIFTY', 'ARTS',\n",
              "       'WELLNESS', 'PARENTING', 'HOME & LIVING', 'STYLE & BEAUTY',\n",
              "       'DIVORCE', 'WEDDINGS', 'FOOD & DRINK', 'MONEY', 'ENVIRONMENT',\n",
              "       'CULTURE & ARTS'], dtype=object)"
            ]
          },
          "metadata": {},
          "execution_count": 6
        }
      ]
    },
    {
      "cell_type": "code",
      "source": [
        "raw.describe()"
      ],
      "metadata": {
        "colab": {
          "base_uri": "https://localhost:8080/",
          "height": 294
        },
        "id": "_jQMYp7UdVPh",
        "outputId": "4f7de03a-1682-40d0-c845-49712a4509da"
      },
      "execution_count": null,
      "outputs": [
        {
          "output_type": "stream",
          "name": "stderr",
          "text": [
            "C:\\Users\\Ethan\\AppData\\Local\\Temp\\ipykernel_6668\\79165625.py:1: FutureWarning: Treating datetime data as categorical rather than numeric in `.describe` is deprecated and will be removed in a future version of pandas. Specify `datetime_is_numeric=True` to silence this warning and adopt the future behavior now.\n",
            "  raw.describe()\n"
          ]
        },
        {
          "output_type": "execute_result",
          "data": {
            "text/plain": [
              "        category        headline    authors  \\\n",
              "count     200853          200847     164233   \n",
              "unique        41          199343      27992   \n",
              "top     POLITICS  Sunday Roundup  Lee Moran   \n",
              "freq       32739              90       2423   \n",
              "first        NaN             NaN        NaN   \n",
              "last         NaN             NaN        NaN   \n",
              "\n",
              "                                                     link  \\\n",
              "count                                              200853   \n",
              "unique                                             200812   \n",
              "top     https://www.huffingtonpost.comhttp://stylelike...   \n",
              "freq                                                    2   \n",
              "first                                                 NaN   \n",
              "last                                                  NaN   \n",
              "\n",
              "                                        short_description                 date  \n",
              "count                                              181121               200853  \n",
              "unique                                             178332                 2309  \n",
              "top     Welcome to the HuffPost Rise Morning Newsbrief...  2013-04-24 00:00:00  \n",
              "freq                                                  192                  100  \n",
              "first                                                 NaN  2012-01-28 00:00:00  \n",
              "last                                                  NaN  2018-05-26 00:00:00  "
            ],
            "text/html": [
              "<div>\n",
              "<style scoped>\n",
              "    .dataframe tbody tr th:only-of-type {\n",
              "        vertical-align: middle;\n",
              "    }\n",
              "\n",
              "    .dataframe tbody tr th {\n",
              "        vertical-align: top;\n",
              "    }\n",
              "\n",
              "    .dataframe thead th {\n",
              "        text-align: right;\n",
              "    }\n",
              "</style>\n",
              "<table border=\"1\" class=\"dataframe\">\n",
              "  <thead>\n",
              "    <tr style=\"text-align: right;\">\n",
              "      <th></th>\n",
              "      <th>category</th>\n",
              "      <th>headline</th>\n",
              "      <th>authors</th>\n",
              "      <th>link</th>\n",
              "      <th>short_description</th>\n",
              "      <th>date</th>\n",
              "    </tr>\n",
              "  </thead>\n",
              "  <tbody>\n",
              "    <tr>\n",
              "      <th>count</th>\n",
              "      <td>200853</td>\n",
              "      <td>200847</td>\n",
              "      <td>164233</td>\n",
              "      <td>200853</td>\n",
              "      <td>181121</td>\n",
              "      <td>200853</td>\n",
              "    </tr>\n",
              "    <tr>\n",
              "      <th>unique</th>\n",
              "      <td>41</td>\n",
              "      <td>199343</td>\n",
              "      <td>27992</td>\n",
              "      <td>200812</td>\n",
              "      <td>178332</td>\n",
              "      <td>2309</td>\n",
              "    </tr>\n",
              "    <tr>\n",
              "      <th>top</th>\n",
              "      <td>POLITICS</td>\n",
              "      <td>Sunday Roundup</td>\n",
              "      <td>Lee Moran</td>\n",
              "      <td>https://www.huffingtonpost.comhttp://stylelike...</td>\n",
              "      <td>Welcome to the HuffPost Rise Morning Newsbrief...</td>\n",
              "      <td>2013-04-24 00:00:00</td>\n",
              "    </tr>\n",
              "    <tr>\n",
              "      <th>freq</th>\n",
              "      <td>32739</td>\n",
              "      <td>90</td>\n",
              "      <td>2423</td>\n",
              "      <td>2</td>\n",
              "      <td>192</td>\n",
              "      <td>100</td>\n",
              "    </tr>\n",
              "    <tr>\n",
              "      <th>first</th>\n",
              "      <td>NaN</td>\n",
              "      <td>NaN</td>\n",
              "      <td>NaN</td>\n",
              "      <td>NaN</td>\n",
              "      <td>NaN</td>\n",
              "      <td>2012-01-28 00:00:00</td>\n",
              "    </tr>\n",
              "    <tr>\n",
              "      <th>last</th>\n",
              "      <td>NaN</td>\n",
              "      <td>NaN</td>\n",
              "      <td>NaN</td>\n",
              "      <td>NaN</td>\n",
              "      <td>NaN</td>\n",
              "      <td>2018-05-26 00:00:00</td>\n",
              "    </tr>\n",
              "  </tbody>\n",
              "</table>\n",
              "</div>"
            ]
          },
          "metadata": {},
          "execution_count": 7
        }
      ]
    },
    {
      "cell_type": "code",
      "source": [
        "raw.authors.unique().size"
      ],
      "metadata": {
        "colab": {
          "base_uri": "https://localhost:8080/"
        },
        "id": "w2tgjWIQ39d0",
        "outputId": "1830b723-eaa4-432d-9112-6d7e3071d812"
      },
      "execution_count": null,
      "outputs": [
        {
          "output_type": "execute_result",
          "data": {
            "text/plain": [
              "27993"
            ]
          },
          "metadata": {},
          "execution_count": 8
        }
      ]
    },
    {
      "cell_type": "code",
      "source": [
        "raw.authors.isna().sum()"
      ],
      "metadata": {
        "colab": {
          "base_uri": "https://localhost:8080/"
        },
        "id": "BGc70QTVdsGh",
        "outputId": "475a5e3b-8ecd-49c1-a712-306d2807e740"
      },
      "execution_count": null,
      "outputs": [
        {
          "output_type": "execute_result",
          "data": {
            "text/plain": [
              "36620"
            ]
          },
          "metadata": {},
          "execution_count": 9
        }
      ]
    },
    {
      "cell_type": "markdown",
      "source": [
        "Dropping null/NaN values in the specified columns"
      ],
      "metadata": {
        "id": "vwraOeqR741f"
      }
    },
    {
      "cell_type": "code",
      "source": [
        "raw.dropna(subset = ['short_description', 'headline'], inplace = True) #Dropping all rows which contain Null/NaN values in the specified columns"
      ],
      "metadata": {
        "id": "dzhdqVmDirVm"
      },
      "execution_count": null,
      "outputs": []
    },
    {
      "cell_type": "markdown",
      "source": [
        "Plot of the top 25 reported categories"
      ],
      "metadata": {
        "id": "DIWUH_oM7_AX"
      }
    },
    {
      "cell_type": "code",
      "source": [
        "plt.figure(figsize=(60,24));\n",
        "\n",
        "fig = px.bar(x = raw.category.value_counts().index[:25], y = raw.category.value_counts()[:25], labels = {\n",
        "    \"x\": \"Categories\", #Setting x label to categories\n",
        "    \"y\": \"Count\"}, #Setting y label to count\n",
        "    title = \"Top 25 categories\"); #Setting the title\n",
        "fig.show(renderer=\"colab\");"
      ],
      "metadata": {
        "colab": {
          "base_uri": "https://localhost:8080/",
          "height": 560
        },
        "id": "69aVtfJVtAdd",
        "outputId": "6620b37b-d0fc-40a6-d1ed-86cddd9d5019"
      },
      "execution_count": null,
      "outputs": [
        {
          "output_type": "display_data",
          "data": {
            "text/html": [
              "<html>\n",
              "<head><meta charset=\"utf-8\" /></head>\n",
              "<body>\n",
              "    <div>            <script src=\"https://cdnjs.cloudflare.com/ajax/libs/mathjax/2.7.5/MathJax.js?config=TeX-AMS-MML_SVG\"></script><script type=\"text/javascript\">if (window.MathJax) {MathJax.Hub.Config({SVG: {font: \"STIX-Web\"}});}</script>                <script type=\"text/javascript\">window.PlotlyConfig = {MathJaxConfig: 'local'};</script>\n",
              "        <script src=\"https://cdn.plot.ly/plotly-2.9.0.min.js\"></script>                <div id=\"e8b471ce-763e-4ed1-8790-3b3c8dc39de7\" class=\"plotly-graph-div\" style=\"height:525px; width:100%;\"></div>            <script type=\"text/javascript\">                                    window.PLOTLYENV=window.PLOTLYENV || {};                                    if (document.getElementById(\"e8b471ce-763e-4ed1-8790-3b3c8dc39de7\")) {                    Plotly.newPlot(                        \"e8b471ce-763e-4ed1-8790-3b3c8dc39de7\",                        [{\"alignmentgroup\":\"True\",\"hovertemplate\":\"Categories=%{x}<br>Count=%{y}<extra></extra>\",\"legendgroup\":\"\",\"marker\":{\"color\":\"#636efa\",\"pattern\":{\"shape\":\"\"}},\"name\":\"\",\"offsetgroup\":\"\",\"orientation\":\"v\",\"showlegend\":false,\"textposition\":\"auto\",\"x\":[\"POLITICS\",\"WELLNESS\",\"ENTERTAINMENT\",\"STYLE & BEAUTY\",\"TRAVEL\",\"PARENTING\",\"FOOD & DRINK\",\"QUEER VOICES\",\"HEALTHY LIVING\",\"BUSINESS\",\"COMEDY\",\"SPORTS\",\"HOME & LIVING\",\"BLACK VOICES\",\"THE WORLDPOST\",\"WEDDINGS\",\"PARENTS\",\"DIVORCE\",\"WOMEN\",\"IMPACT\",\"CRIME\",\"MEDIA\",\"WEIRD NEWS\",\"WORLD NEWS\",\"TECH\"],\"xaxis\":\"x\",\"y\":[29578,17820,13470,9636,9402,8675,6217,5570,5265,5077,4417,4221,4190,4121,3664,3650,3556,3424,3102,3061,2675,2275,2209,2175,2080],\"yaxis\":\"y\",\"type\":\"bar\"}],                        {\"template\":{\"data\":{\"bar\":[{\"error_x\":{\"color\":\"#2a3f5f\"},\"error_y\":{\"color\":\"#2a3f5f\"},\"marker\":{\"line\":{\"color\":\"#E5ECF6\",\"width\":0.5},\"pattern\":{\"fillmode\":\"overlay\",\"size\":10,\"solidity\":0.2}},\"type\":\"bar\"}],\"barpolar\":[{\"marker\":{\"line\":{\"color\":\"#E5ECF6\",\"width\":0.5},\"pattern\":{\"fillmode\":\"overlay\",\"size\":10,\"solidity\":0.2}},\"type\":\"barpolar\"}],\"carpet\":[{\"aaxis\":{\"endlinecolor\":\"#2a3f5f\",\"gridcolor\":\"white\",\"linecolor\":\"white\",\"minorgridcolor\":\"white\",\"startlinecolor\":\"#2a3f5f\"},\"baxis\":{\"endlinecolor\":\"#2a3f5f\",\"gridcolor\":\"white\",\"linecolor\":\"white\",\"minorgridcolor\":\"white\",\"startlinecolor\":\"#2a3f5f\"},\"type\":\"carpet\"}],\"choropleth\":[{\"colorbar\":{\"outlinewidth\":0,\"ticks\":\"\"},\"type\":\"choropleth\"}],\"contour\":[{\"colorbar\":{\"outlinewidth\":0,\"ticks\":\"\"},\"colorscale\":[[0.0,\"#0d0887\"],[0.1111111111111111,\"#46039f\"],[0.2222222222222222,\"#7201a8\"],[0.3333333333333333,\"#9c179e\"],[0.4444444444444444,\"#bd3786\"],[0.5555555555555556,\"#d8576b\"],[0.6666666666666666,\"#ed7953\"],[0.7777777777777778,\"#fb9f3a\"],[0.8888888888888888,\"#fdca26\"],[1.0,\"#f0f921\"]],\"type\":\"contour\"}],\"contourcarpet\":[{\"colorbar\":{\"outlinewidth\":0,\"ticks\":\"\"},\"type\":\"contourcarpet\"}],\"heatmap\":[{\"colorbar\":{\"outlinewidth\":0,\"ticks\":\"\"},\"colorscale\":[[0.0,\"#0d0887\"],[0.1111111111111111,\"#46039f\"],[0.2222222222222222,\"#7201a8\"],[0.3333333333333333,\"#9c179e\"],[0.4444444444444444,\"#bd3786\"],[0.5555555555555556,\"#d8576b\"],[0.6666666666666666,\"#ed7953\"],[0.7777777777777778,\"#fb9f3a\"],[0.8888888888888888,\"#fdca26\"],[1.0,\"#f0f921\"]],\"type\":\"heatmap\"}],\"heatmapgl\":[{\"colorbar\":{\"outlinewidth\":0,\"ticks\":\"\"},\"colorscale\":[[0.0,\"#0d0887\"],[0.1111111111111111,\"#46039f\"],[0.2222222222222222,\"#7201a8\"],[0.3333333333333333,\"#9c179e\"],[0.4444444444444444,\"#bd3786\"],[0.5555555555555556,\"#d8576b\"],[0.6666666666666666,\"#ed7953\"],[0.7777777777777778,\"#fb9f3a\"],[0.8888888888888888,\"#fdca26\"],[1.0,\"#f0f921\"]],\"type\":\"heatmapgl\"}],\"histogram\":[{\"marker\":{\"pattern\":{\"fillmode\":\"overlay\",\"size\":10,\"solidity\":0.2}},\"type\":\"histogram\"}],\"histogram2d\":[{\"colorbar\":{\"outlinewidth\":0,\"ticks\":\"\"},\"colorscale\":[[0.0,\"#0d0887\"],[0.1111111111111111,\"#46039f\"],[0.2222222222222222,\"#7201a8\"],[0.3333333333333333,\"#9c179e\"],[0.4444444444444444,\"#bd3786\"],[0.5555555555555556,\"#d8576b\"],[0.6666666666666666,\"#ed7953\"],[0.7777777777777778,\"#fb9f3a\"],[0.8888888888888888,\"#fdca26\"],[1.0,\"#f0f921\"]],\"type\":\"histogram2d\"}],\"histogram2dcontour\":[{\"colorbar\":{\"outlinewidth\":0,\"ticks\":\"\"},\"colorscale\":[[0.0,\"#0d0887\"],[0.1111111111111111,\"#46039f\"],[0.2222222222222222,\"#7201a8\"],[0.3333333333333333,\"#9c179e\"],[0.4444444444444444,\"#bd3786\"],[0.5555555555555556,\"#d8576b\"],[0.6666666666666666,\"#ed7953\"],[0.7777777777777778,\"#fb9f3a\"],[0.8888888888888888,\"#fdca26\"],[1.0,\"#f0f921\"]],\"type\":\"histogram2dcontour\"}],\"mesh3d\":[{\"colorbar\":{\"outlinewidth\":0,\"ticks\":\"\"},\"type\":\"mesh3d\"}],\"parcoords\":[{\"line\":{\"colorbar\":{\"outlinewidth\":0,\"ticks\":\"\"}},\"type\":\"parcoords\"}],\"pie\":[{\"automargin\":true,\"type\":\"pie\"}],\"scatter\":[{\"marker\":{\"colorbar\":{\"outlinewidth\":0,\"ticks\":\"\"}},\"type\":\"scatter\"}],\"scatter3d\":[{\"line\":{\"colorbar\":{\"outlinewidth\":0,\"ticks\":\"\"}},\"marker\":{\"colorbar\":{\"outlinewidth\":0,\"ticks\":\"\"}},\"type\":\"scatter3d\"}],\"scattercarpet\":[{\"marker\":{\"colorbar\":{\"outlinewidth\":0,\"ticks\":\"\"}},\"type\":\"scattercarpet\"}],\"scattergeo\":[{\"marker\":{\"colorbar\":{\"outlinewidth\":0,\"ticks\":\"\"}},\"type\":\"scattergeo\"}],\"scattergl\":[{\"marker\":{\"colorbar\":{\"outlinewidth\":0,\"ticks\":\"\"}},\"type\":\"scattergl\"}],\"scattermapbox\":[{\"marker\":{\"colorbar\":{\"outlinewidth\":0,\"ticks\":\"\"}},\"type\":\"scattermapbox\"}],\"scatterpolar\":[{\"marker\":{\"colorbar\":{\"outlinewidth\":0,\"ticks\":\"\"}},\"type\":\"scatterpolar\"}],\"scatterpolargl\":[{\"marker\":{\"colorbar\":{\"outlinewidth\":0,\"ticks\":\"\"}},\"type\":\"scatterpolargl\"}],\"scatterternary\":[{\"marker\":{\"colorbar\":{\"outlinewidth\":0,\"ticks\":\"\"}},\"type\":\"scatterternary\"}],\"surface\":[{\"colorbar\":{\"outlinewidth\":0,\"ticks\":\"\"},\"colorscale\":[[0.0,\"#0d0887\"],[0.1111111111111111,\"#46039f\"],[0.2222222222222222,\"#7201a8\"],[0.3333333333333333,\"#9c179e\"],[0.4444444444444444,\"#bd3786\"],[0.5555555555555556,\"#d8576b\"],[0.6666666666666666,\"#ed7953\"],[0.7777777777777778,\"#fb9f3a\"],[0.8888888888888888,\"#fdca26\"],[1.0,\"#f0f921\"]],\"type\":\"surface\"}],\"table\":[{\"cells\":{\"fill\":{\"color\":\"#EBF0F8\"},\"line\":{\"color\":\"white\"}},\"header\":{\"fill\":{\"color\":\"#C8D4E3\"},\"line\":{\"color\":\"white\"}},\"type\":\"table\"}]},\"layout\":{\"annotationdefaults\":{\"arrowcolor\":\"#2a3f5f\",\"arrowhead\":0,\"arrowwidth\":1},\"autotypenumbers\":\"strict\",\"coloraxis\":{\"colorbar\":{\"outlinewidth\":0,\"ticks\":\"\"}},\"colorscale\":{\"diverging\":[[0,\"#8e0152\"],[0.1,\"#c51b7d\"],[0.2,\"#de77ae\"],[0.3,\"#f1b6da\"],[0.4,\"#fde0ef\"],[0.5,\"#f7f7f7\"],[0.6,\"#e6f5d0\"],[0.7,\"#b8e186\"],[0.8,\"#7fbc41\"],[0.9,\"#4d9221\"],[1,\"#276419\"]],\"sequential\":[[0.0,\"#0d0887\"],[0.1111111111111111,\"#46039f\"],[0.2222222222222222,\"#7201a8\"],[0.3333333333333333,\"#9c179e\"],[0.4444444444444444,\"#bd3786\"],[0.5555555555555556,\"#d8576b\"],[0.6666666666666666,\"#ed7953\"],[0.7777777777777778,\"#fb9f3a\"],[0.8888888888888888,\"#fdca26\"],[1.0,\"#f0f921\"]],\"sequentialminus\":[[0.0,\"#0d0887\"],[0.1111111111111111,\"#46039f\"],[0.2222222222222222,\"#7201a8\"],[0.3333333333333333,\"#9c179e\"],[0.4444444444444444,\"#bd3786\"],[0.5555555555555556,\"#d8576b\"],[0.6666666666666666,\"#ed7953\"],[0.7777777777777778,\"#fb9f3a\"],[0.8888888888888888,\"#fdca26\"],[1.0,\"#f0f921\"]]},\"colorway\":[\"#636efa\",\"#EF553B\",\"#00cc96\",\"#ab63fa\",\"#FFA15A\",\"#19d3f3\",\"#FF6692\",\"#B6E880\",\"#FF97FF\",\"#FECB52\"],\"font\":{\"color\":\"#2a3f5f\"},\"geo\":{\"bgcolor\":\"white\",\"lakecolor\":\"white\",\"landcolor\":\"#E5ECF6\",\"showlakes\":true,\"showland\":true,\"subunitcolor\":\"white\"},\"hoverlabel\":{\"align\":\"left\"},\"hovermode\":\"closest\",\"mapbox\":{\"style\":\"light\"},\"paper_bgcolor\":\"white\",\"plot_bgcolor\":\"#E5ECF6\",\"polar\":{\"angularaxis\":{\"gridcolor\":\"white\",\"linecolor\":\"white\",\"ticks\":\"\"},\"bgcolor\":\"#E5ECF6\",\"radialaxis\":{\"gridcolor\":\"white\",\"linecolor\":\"white\",\"ticks\":\"\"}},\"scene\":{\"xaxis\":{\"backgroundcolor\":\"#E5ECF6\",\"gridcolor\":\"white\",\"gridwidth\":2,\"linecolor\":\"white\",\"showbackground\":true,\"ticks\":\"\",\"zerolinecolor\":\"white\"},\"yaxis\":{\"backgroundcolor\":\"#E5ECF6\",\"gridcolor\":\"white\",\"gridwidth\":2,\"linecolor\":\"white\",\"showbackground\":true,\"ticks\":\"\",\"zerolinecolor\":\"white\"},\"zaxis\":{\"backgroundcolor\":\"#E5ECF6\",\"gridcolor\":\"white\",\"gridwidth\":2,\"linecolor\":\"white\",\"showbackground\":true,\"ticks\":\"\",\"zerolinecolor\":\"white\"}},\"shapedefaults\":{\"line\":{\"color\":\"#2a3f5f\"}},\"ternary\":{\"aaxis\":{\"gridcolor\":\"white\",\"linecolor\":\"white\",\"ticks\":\"\"},\"baxis\":{\"gridcolor\":\"white\",\"linecolor\":\"white\",\"ticks\":\"\"},\"bgcolor\":\"#E5ECF6\",\"caxis\":{\"gridcolor\":\"white\",\"linecolor\":\"white\",\"ticks\":\"\"}},\"title\":{\"x\":0.05},\"xaxis\":{\"automargin\":true,\"gridcolor\":\"white\",\"linecolor\":\"white\",\"ticks\":\"\",\"title\":{\"standoff\":15},\"zerolinecolor\":\"white\",\"zerolinewidth\":2},\"yaxis\":{\"automargin\":true,\"gridcolor\":\"white\",\"linecolor\":\"white\",\"ticks\":\"\",\"title\":{\"standoff\":15},\"zerolinecolor\":\"white\",\"zerolinewidth\":2}}},\"xaxis\":{\"anchor\":\"y\",\"domain\":[0.0,1.0],\"title\":{\"text\":\"Categories\"}},\"yaxis\":{\"anchor\":\"x\",\"domain\":[0.0,1.0],\"title\":{\"text\":\"Count\"}},\"legend\":{\"tracegroupgap\":0},\"title\":{\"text\":\"Top 25 categories\"},\"barmode\":\"relative\"},                        {\"responsive\": true}                    ).then(function(){\n",
              "                            \n",
              "var gd = document.getElementById('e8b471ce-763e-4ed1-8790-3b3c8dc39de7');\n",
              "var x = new MutationObserver(function (mutations, observer) {{\n",
              "        var display = window.getComputedStyle(gd).display;\n",
              "        if (!display || display === 'none') {{\n",
              "            console.log([gd, 'removed!']);\n",
              "            Plotly.purge(gd);\n",
              "            observer.disconnect();\n",
              "        }}\n",
              "}});\n",
              "\n",
              "// Listen for the removal of the full notebook cells\n",
              "var notebookContainer = gd.closest('#notebook-container');\n",
              "if (notebookContainer) {{\n",
              "    x.observe(notebookContainer, {childList: true});\n",
              "}}\n",
              "\n",
              "// Listen for the clearing of the current output cell\n",
              "var outputEl = gd.closest('.output');\n",
              "if (outputEl) {{\n",
              "    x.observe(outputEl, {childList: true});\n",
              "}}\n",
              "\n",
              "                        })                };                            </script>        </div>\n",
              "</body>\n",
              "</html>"
            ]
          },
          "metadata": {}
        },
        {
          "output_type": "display_data",
          "data": {
            "text/plain": [
              "<Figure size 4320x1728 with 0 Axes>"
            ]
          },
          "metadata": {}
        }
      ]
    },
    {
      "cell_type": "code",
      "source": [
        "raw['date'] = pd.to_datetime(raw['date'])"
      ],
      "metadata": {
        "id": "we7ygk0ffG_c"
      },
      "execution_count": null,
      "outputs": []
    },
    {
      "cell_type": "code",
      "source": [
        "raw['year'] = raw['date'].dt.year"
      ],
      "metadata": {
        "id": "UIMLq2ocyfkc"
      },
      "execution_count": null,
      "outputs": []
    },
    {
      "cell_type": "code",
      "source": [
        "plt.figure(figsize=(32,24));\n",
        "\n",
        "fig = px.bar(x = raw.year.value_counts().index, y = raw.year.value_counts(), labels = {\n",
        "    \"x\": \"Year\", #Setting x label to categories\n",
        "    \"y\": \"Count\"}, #Setting y label to count\n",
        "    title = \"*Year of publication*\"); #Setting the title\n",
        "fig.show(renderer=\"colab\");"
      ],
      "metadata": {
        "colab": {
          "base_uri": "https://localhost:8080/",
          "height": 560
        },
        "id": "eUGdMI9IzFqY",
        "outputId": "12778f48-17ad-4c22-8998-b175cd476a5c"
      },
      "execution_count": null,
      "outputs": [
        {
          "output_type": "display_data",
          "data": {
            "text/html": [
              "<html>\n",
              "<head><meta charset=\"utf-8\" /></head>\n",
              "<body>\n",
              "    <div>            <script src=\"https://cdnjs.cloudflare.com/ajax/libs/mathjax/2.7.5/MathJax.js?config=TeX-AMS-MML_SVG\"></script><script type=\"text/javascript\">if (window.MathJax) {MathJax.Hub.Config({SVG: {font: \"STIX-Web\"}});}</script>                <script type=\"text/javascript\">window.PlotlyConfig = {MathJaxConfig: 'local'};</script>\n",
              "        <script src=\"https://cdn.plot.ly/plotly-2.9.0.min.js\"></script>                <div id=\"bf723eb8-dcfc-44ab-b6f5-3bd940f18658\" class=\"plotly-graph-div\" style=\"height:525px; width:100%;\"></div>            <script type=\"text/javascript\">                                    window.PLOTLYENV=window.PLOTLYENV || {};                                    if (document.getElementById(\"bf723eb8-dcfc-44ab-b6f5-3bd940f18658\")) {                    Plotly.newPlot(                        \"bf723eb8-dcfc-44ab-b6f5-3bd940f18658\",                        [{\"alignmentgroup\":\"True\",\"hovertemplate\":\"Year=%{x}<br>Count=%{y}<extra></extra>\",\"legendgroup\":\"\",\"marker\":{\"color\":\"#636efa\",\"pattern\":{\"shape\":\"\"}},\"name\":\"\",\"offsetgroup\":\"\",\"orientation\":\"v\",\"showlegend\":false,\"textposition\":\"auto\",\"x\":[2013,2012,2016,2017,2015,2014,2018],\"xaxis\":\"x\",\"y\":[34536,31277,31200,29753,24799,20972,8583],\"yaxis\":\"y\",\"type\":\"bar\"}],                        {\"template\":{\"data\":{\"bar\":[{\"error_x\":{\"color\":\"#2a3f5f\"},\"error_y\":{\"color\":\"#2a3f5f\"},\"marker\":{\"line\":{\"color\":\"#E5ECF6\",\"width\":0.5},\"pattern\":{\"fillmode\":\"overlay\",\"size\":10,\"solidity\":0.2}},\"type\":\"bar\"}],\"barpolar\":[{\"marker\":{\"line\":{\"color\":\"#E5ECF6\",\"width\":0.5},\"pattern\":{\"fillmode\":\"overlay\",\"size\":10,\"solidity\":0.2}},\"type\":\"barpolar\"}],\"carpet\":[{\"aaxis\":{\"endlinecolor\":\"#2a3f5f\",\"gridcolor\":\"white\",\"linecolor\":\"white\",\"minorgridcolor\":\"white\",\"startlinecolor\":\"#2a3f5f\"},\"baxis\":{\"endlinecolor\":\"#2a3f5f\",\"gridcolor\":\"white\",\"linecolor\":\"white\",\"minorgridcolor\":\"white\",\"startlinecolor\":\"#2a3f5f\"},\"type\":\"carpet\"}],\"choropleth\":[{\"colorbar\":{\"outlinewidth\":0,\"ticks\":\"\"},\"type\":\"choropleth\"}],\"contour\":[{\"colorbar\":{\"outlinewidth\":0,\"ticks\":\"\"},\"colorscale\":[[0.0,\"#0d0887\"],[0.1111111111111111,\"#46039f\"],[0.2222222222222222,\"#7201a8\"],[0.3333333333333333,\"#9c179e\"],[0.4444444444444444,\"#bd3786\"],[0.5555555555555556,\"#d8576b\"],[0.6666666666666666,\"#ed7953\"],[0.7777777777777778,\"#fb9f3a\"],[0.8888888888888888,\"#fdca26\"],[1.0,\"#f0f921\"]],\"type\":\"contour\"}],\"contourcarpet\":[{\"colorbar\":{\"outlinewidth\":0,\"ticks\":\"\"},\"type\":\"contourcarpet\"}],\"heatmap\":[{\"colorbar\":{\"outlinewidth\":0,\"ticks\":\"\"},\"colorscale\":[[0.0,\"#0d0887\"],[0.1111111111111111,\"#46039f\"],[0.2222222222222222,\"#7201a8\"],[0.3333333333333333,\"#9c179e\"],[0.4444444444444444,\"#bd3786\"],[0.5555555555555556,\"#d8576b\"],[0.6666666666666666,\"#ed7953\"],[0.7777777777777778,\"#fb9f3a\"],[0.8888888888888888,\"#fdca26\"],[1.0,\"#f0f921\"]],\"type\":\"heatmap\"}],\"heatmapgl\":[{\"colorbar\":{\"outlinewidth\":0,\"ticks\":\"\"},\"colorscale\":[[0.0,\"#0d0887\"],[0.1111111111111111,\"#46039f\"],[0.2222222222222222,\"#7201a8\"],[0.3333333333333333,\"#9c179e\"],[0.4444444444444444,\"#bd3786\"],[0.5555555555555556,\"#d8576b\"],[0.6666666666666666,\"#ed7953\"],[0.7777777777777778,\"#fb9f3a\"],[0.8888888888888888,\"#fdca26\"],[1.0,\"#f0f921\"]],\"type\":\"heatmapgl\"}],\"histogram\":[{\"marker\":{\"pattern\":{\"fillmode\":\"overlay\",\"size\":10,\"solidity\":0.2}},\"type\":\"histogram\"}],\"histogram2d\":[{\"colorbar\":{\"outlinewidth\":0,\"ticks\":\"\"},\"colorscale\":[[0.0,\"#0d0887\"],[0.1111111111111111,\"#46039f\"],[0.2222222222222222,\"#7201a8\"],[0.3333333333333333,\"#9c179e\"],[0.4444444444444444,\"#bd3786\"],[0.5555555555555556,\"#d8576b\"],[0.6666666666666666,\"#ed7953\"],[0.7777777777777778,\"#fb9f3a\"],[0.8888888888888888,\"#fdca26\"],[1.0,\"#f0f921\"]],\"type\":\"histogram2d\"}],\"histogram2dcontour\":[{\"colorbar\":{\"outlinewidth\":0,\"ticks\":\"\"},\"colorscale\":[[0.0,\"#0d0887\"],[0.1111111111111111,\"#46039f\"],[0.2222222222222222,\"#7201a8\"],[0.3333333333333333,\"#9c179e\"],[0.4444444444444444,\"#bd3786\"],[0.5555555555555556,\"#d8576b\"],[0.6666666666666666,\"#ed7953\"],[0.7777777777777778,\"#fb9f3a\"],[0.8888888888888888,\"#fdca26\"],[1.0,\"#f0f921\"]],\"type\":\"histogram2dcontour\"}],\"mesh3d\":[{\"colorbar\":{\"outlinewidth\":0,\"ticks\":\"\"},\"type\":\"mesh3d\"}],\"parcoords\":[{\"line\":{\"colorbar\":{\"outlinewidth\":0,\"ticks\":\"\"}},\"type\":\"parcoords\"}],\"pie\":[{\"automargin\":true,\"type\":\"pie\"}],\"scatter\":[{\"marker\":{\"colorbar\":{\"outlinewidth\":0,\"ticks\":\"\"}},\"type\":\"scatter\"}],\"scatter3d\":[{\"line\":{\"colorbar\":{\"outlinewidth\":0,\"ticks\":\"\"}},\"marker\":{\"colorbar\":{\"outlinewidth\":0,\"ticks\":\"\"}},\"type\":\"scatter3d\"}],\"scattercarpet\":[{\"marker\":{\"colorbar\":{\"outlinewidth\":0,\"ticks\":\"\"}},\"type\":\"scattercarpet\"}],\"scattergeo\":[{\"marker\":{\"colorbar\":{\"outlinewidth\":0,\"ticks\":\"\"}},\"type\":\"scattergeo\"}],\"scattergl\":[{\"marker\":{\"colorbar\":{\"outlinewidth\":0,\"ticks\":\"\"}},\"type\":\"scattergl\"}],\"scattermapbox\":[{\"marker\":{\"colorbar\":{\"outlinewidth\":0,\"ticks\":\"\"}},\"type\":\"scattermapbox\"}],\"scatterpolar\":[{\"marker\":{\"colorbar\":{\"outlinewidth\":0,\"ticks\":\"\"}},\"type\":\"scatterpolar\"}],\"scatterpolargl\":[{\"marker\":{\"colorbar\":{\"outlinewidth\":0,\"ticks\":\"\"}},\"type\":\"scatterpolargl\"}],\"scatterternary\":[{\"marker\":{\"colorbar\":{\"outlinewidth\":0,\"ticks\":\"\"}},\"type\":\"scatterternary\"}],\"surface\":[{\"colorbar\":{\"outlinewidth\":0,\"ticks\":\"\"},\"colorscale\":[[0.0,\"#0d0887\"],[0.1111111111111111,\"#46039f\"],[0.2222222222222222,\"#7201a8\"],[0.3333333333333333,\"#9c179e\"],[0.4444444444444444,\"#bd3786\"],[0.5555555555555556,\"#d8576b\"],[0.6666666666666666,\"#ed7953\"],[0.7777777777777778,\"#fb9f3a\"],[0.8888888888888888,\"#fdca26\"],[1.0,\"#f0f921\"]],\"type\":\"surface\"}],\"table\":[{\"cells\":{\"fill\":{\"color\":\"#EBF0F8\"},\"line\":{\"color\":\"white\"}},\"header\":{\"fill\":{\"color\":\"#C8D4E3\"},\"line\":{\"color\":\"white\"}},\"type\":\"table\"}]},\"layout\":{\"annotationdefaults\":{\"arrowcolor\":\"#2a3f5f\",\"arrowhead\":0,\"arrowwidth\":1},\"autotypenumbers\":\"strict\",\"coloraxis\":{\"colorbar\":{\"outlinewidth\":0,\"ticks\":\"\"}},\"colorscale\":{\"diverging\":[[0,\"#8e0152\"],[0.1,\"#c51b7d\"],[0.2,\"#de77ae\"],[0.3,\"#f1b6da\"],[0.4,\"#fde0ef\"],[0.5,\"#f7f7f7\"],[0.6,\"#e6f5d0\"],[0.7,\"#b8e186\"],[0.8,\"#7fbc41\"],[0.9,\"#4d9221\"],[1,\"#276419\"]],\"sequential\":[[0.0,\"#0d0887\"],[0.1111111111111111,\"#46039f\"],[0.2222222222222222,\"#7201a8\"],[0.3333333333333333,\"#9c179e\"],[0.4444444444444444,\"#bd3786\"],[0.5555555555555556,\"#d8576b\"],[0.6666666666666666,\"#ed7953\"],[0.7777777777777778,\"#fb9f3a\"],[0.8888888888888888,\"#fdca26\"],[1.0,\"#f0f921\"]],\"sequentialminus\":[[0.0,\"#0d0887\"],[0.1111111111111111,\"#46039f\"],[0.2222222222222222,\"#7201a8\"],[0.3333333333333333,\"#9c179e\"],[0.4444444444444444,\"#bd3786\"],[0.5555555555555556,\"#d8576b\"],[0.6666666666666666,\"#ed7953\"],[0.7777777777777778,\"#fb9f3a\"],[0.8888888888888888,\"#fdca26\"],[1.0,\"#f0f921\"]]},\"colorway\":[\"#636efa\",\"#EF553B\",\"#00cc96\",\"#ab63fa\",\"#FFA15A\",\"#19d3f3\",\"#FF6692\",\"#B6E880\",\"#FF97FF\",\"#FECB52\"],\"font\":{\"color\":\"#2a3f5f\"},\"geo\":{\"bgcolor\":\"white\",\"lakecolor\":\"white\",\"landcolor\":\"#E5ECF6\",\"showlakes\":true,\"showland\":true,\"subunitcolor\":\"white\"},\"hoverlabel\":{\"align\":\"left\"},\"hovermode\":\"closest\",\"mapbox\":{\"style\":\"light\"},\"paper_bgcolor\":\"white\",\"plot_bgcolor\":\"#E5ECF6\",\"polar\":{\"angularaxis\":{\"gridcolor\":\"white\",\"linecolor\":\"white\",\"ticks\":\"\"},\"bgcolor\":\"#E5ECF6\",\"radialaxis\":{\"gridcolor\":\"white\",\"linecolor\":\"white\",\"ticks\":\"\"}},\"scene\":{\"xaxis\":{\"backgroundcolor\":\"#E5ECF6\",\"gridcolor\":\"white\",\"gridwidth\":2,\"linecolor\":\"white\",\"showbackground\":true,\"ticks\":\"\",\"zerolinecolor\":\"white\"},\"yaxis\":{\"backgroundcolor\":\"#E5ECF6\",\"gridcolor\":\"white\",\"gridwidth\":2,\"linecolor\":\"white\",\"showbackground\":true,\"ticks\":\"\",\"zerolinecolor\":\"white\"},\"zaxis\":{\"backgroundcolor\":\"#E5ECF6\",\"gridcolor\":\"white\",\"gridwidth\":2,\"linecolor\":\"white\",\"showbackground\":true,\"ticks\":\"\",\"zerolinecolor\":\"white\"}},\"shapedefaults\":{\"line\":{\"color\":\"#2a3f5f\"}},\"ternary\":{\"aaxis\":{\"gridcolor\":\"white\",\"linecolor\":\"white\",\"ticks\":\"\"},\"baxis\":{\"gridcolor\":\"white\",\"linecolor\":\"white\",\"ticks\":\"\"},\"bgcolor\":\"#E5ECF6\",\"caxis\":{\"gridcolor\":\"white\",\"linecolor\":\"white\",\"ticks\":\"\"}},\"title\":{\"x\":0.05},\"xaxis\":{\"automargin\":true,\"gridcolor\":\"white\",\"linecolor\":\"white\",\"ticks\":\"\",\"title\":{\"standoff\":15},\"zerolinecolor\":\"white\",\"zerolinewidth\":2},\"yaxis\":{\"automargin\":true,\"gridcolor\":\"white\",\"linecolor\":\"white\",\"ticks\":\"\",\"title\":{\"standoff\":15},\"zerolinecolor\":\"white\",\"zerolinewidth\":2}}},\"xaxis\":{\"anchor\":\"y\",\"domain\":[0.0,1.0],\"title\":{\"text\":\"Year\"}},\"yaxis\":{\"anchor\":\"x\",\"domain\":[0.0,1.0],\"title\":{\"text\":\"Count\"}},\"legend\":{\"tracegroupgap\":0},\"title\":{\"text\":\"*Year of publication*\"},\"barmode\":\"relative\"},                        {\"responsive\": true}                    ).then(function(){\n",
              "                            \n",
              "var gd = document.getElementById('bf723eb8-dcfc-44ab-b6f5-3bd940f18658');\n",
              "var x = new MutationObserver(function (mutations, observer) {{\n",
              "        var display = window.getComputedStyle(gd).display;\n",
              "        if (!display || display === 'none') {{\n",
              "            console.log([gd, 'removed!']);\n",
              "            Plotly.purge(gd);\n",
              "            observer.disconnect();\n",
              "        }}\n",
              "}});\n",
              "\n",
              "// Listen for the removal of the full notebook cells\n",
              "var notebookContainer = gd.closest('#notebook-container');\n",
              "if (notebookContainer) {{\n",
              "    x.observe(notebookContainer, {childList: true});\n",
              "}}\n",
              "\n",
              "// Listen for the clearing of the current output cell\n",
              "var outputEl = gd.closest('.output');\n",
              "if (outputEl) {{\n",
              "    x.observe(outputEl, {childList: true});\n",
              "}}\n",
              "\n",
              "                        })                };                            </script>        </div>\n",
              "</body>\n",
              "</html>"
            ]
          },
          "metadata": {}
        },
        {
          "output_type": "display_data",
          "data": {
            "text/plain": [
              "<Figure size 2304x1728 with 0 Axes>"
            ]
          },
          "metadata": {}
        }
      ]
    },
    {
      "cell_type": "markdown",
      "source": [
        "# Combining Similar Categories"
      ],
      "metadata": {
        "id": "mAKIXnAp1OfN"
      }
    },
    {
      "cell_type": "code",
      "source": [
        "raw.category.unique()"
      ],
      "metadata": {
        "colab": {
          "base_uri": "https://localhost:8080/"
        },
        "id": "y35HVAoG1NSx",
        "outputId": "5ee012c7-9692-4439-d81d-fbdce0bd8e3c"
      },
      "execution_count": null,
      "outputs": [
        {
          "output_type": "execute_result",
          "data": {
            "text/plain": [
              "array(['CRIME', 'ENTERTAINMENT', 'WORLD NEWS', 'IMPACT', 'POLITICS',\n",
              "       'WEIRD NEWS', 'BLACK VOICES', 'WOMEN', 'COMEDY', 'QUEER VOICES',\n",
              "       'SPORTS', 'BUSINESS', 'TRAVEL', 'MEDIA', 'TECH', 'RELIGION',\n",
              "       'SCIENCE', 'LATINO VOICES', 'EDUCATION', 'COLLEGE', 'PARENTS',\n",
              "       'ARTS & CULTURE', 'STYLE', 'GREEN', 'TASTE', 'HEALTHY LIVING',\n",
              "       'THE WORLDPOST', 'GOOD NEWS', 'WORLDPOST', 'FIFTY', 'ARTS',\n",
              "       'WELLNESS', 'PARENTING', 'HOME & LIVING', 'STYLE & BEAUTY',\n",
              "       'DIVORCE', 'WEDDINGS', 'FOOD & DRINK', 'MONEY', 'ENVIRONMENT',\n",
              "       'CULTURE & ARTS'], dtype=object)"
            ]
          },
          "metadata": {},
          "execution_count": 15
        }
      ]
    },
    {
      "cell_type": "code",
      "source": [
        "pd.set_option('display.max_rows', 5)\n",
        "pd.set_option('display.max_columns', None)\n",
        "pd.set_option('display.width', None)\n",
        "pd.set_option('display.max_colwidth', None)"
      ],
      "metadata": {
        "id": "3yAX4la_27Sq"
      },
      "execution_count": null,
      "outputs": []
    },
    {
      "cell_type": "code",
      "source": [
        "raw.loc[raw['category'] == 'FIFTY'].sample(5)"
      ],
      "metadata": {
        "colab": {
          "base_uri": "https://localhost:8080/",
          "height": 432
        },
        "id": "msj5vczD-Hh3",
        "outputId": "f4bfee3f-6462-4eba-81e2-ad47ca1b3a76"
      },
      "execution_count": null,
      "outputs": [
        {
          "output_type": "execute_result",
          "data": {
            "text/plain": [
              "      category  \\\n",
              "88010    FIFTY   \n",
              "93427    FIFTY   \n",
              "81009    FIFTY   \n",
              "81647    FIFTY   \n",
              "74035    FIFTY   \n",
              "\n",
              "                                                                 headline  \\\n",
              "88010                                            Notes From a Dive Bar XI   \n",
              "93427                                                 Menopause and Moods   \n",
              "81009                    9 Rules Of Instagram That Were Made To Be Broken   \n",
              "81647  The Hidden Perk Of Parenting That Has Nothing To Do With Your Kids   \n",
              "74035                                    What It's Really Like To Turn 83   \n",
              "\n",
              "                                                                                          authors  \\\n",
              "88010                                                  Alan Black, Contributorworks in a dive bar   \n",
              "93427  Sheryl Kraft, ContributorFreelance Writer, www.sherylkraft.com, www.mysocalledmidlife.n...   \n",
              "81009            Jill Robbins, ContributorAward winning writer, speaker, humorist, mom, wine snob   \n",
              "81647         Rachel Brehm, ContributorBlogging my way through life with twins (bloggymamma.com).   \n",
              "74035                                                              Stanley Ely, ContributorWriter   \n",
              "\n",
              "                                                                               link  \\\n",
              "88010  https://www.huffingtonpost.com/entry/notes-from-a-dive-bar-xi_b_7617146.html   \n",
              "93427       https://www.huffingtonpost.com/entry/menopause-and-moods_b_7082212.html   \n",
              "81009     https://www.huffingtonpost.com/entry/vogue-instagram-rules_b_8052200.html   \n",
              "81647     https://www.huffingtonpost.com/entry/parenting-friendships_b_8010016.html   \n",
              "74035                https://www.huffingtonpost.com/entry/turning-83_b_8570008.html   \n",
              "\n",
              "                                                                                                                                                                                                                                                                                                                           short_description  \\\n",
              "88010                                                                                                                                                            Here's a resume. Male, 25-years old, friendly and popular with customers, knowledgeable in the arts of mixology, enthusiastic, responsible, and an asset for your business.   \n",
              "93427                                                  Once I started getting regular hot flashes, I realized that anxiety frequently went along with them. I'd feel anxious about the hot flashes themselves: what would trigger them, would they embarrass me; how long would they last, would they wake me up in the middle of the night?   \n",
              "81009  My friend shared an article from Vogue online with me this week and I found it quite enlightening It wasn't about the latest crazy fashion trends but about a subject near and dear to my heart - social media.My heart sank a little bit when I read this article. I learned I have been breaking the rules of my beloved Instagram.   \n",
              "81647                 Since the birth of my twins, I have talked to more people, made more new friends, and generally experienced a more extroverted lifestyle than ever before. Never before babies would I have talked to strangers, initiated conversations with those I don't know, commiserated with literally anyone who would listen.   \n",
              "74035                                                   Exactly three years ago, my uncle Morris passed away in Dallas at age 103 plus a few months. He never expected to live that long -- does anyone? But he did, and was alert until his very final days.\\nThis happened just as I was giving myself an 80th birthday party in New York.   \n",
              "\n",
              "            date  year  \n",
              "88010 2015-06-18  2015  \n",
              "93427 2015-04-17  2015  \n",
              "81009 2015-09-05  2015  \n",
              "81647 2015-08-29  2015  \n",
              "74035 2015-11-22  2015  "
            ],
            "text/html": [
              "<div>\n",
              "<style scoped>\n",
              "    .dataframe tbody tr th:only-of-type {\n",
              "        vertical-align: middle;\n",
              "    }\n",
              "\n",
              "    .dataframe tbody tr th {\n",
              "        vertical-align: top;\n",
              "    }\n",
              "\n",
              "    .dataframe thead th {\n",
              "        text-align: right;\n",
              "    }\n",
              "</style>\n",
              "<table border=\"1\" class=\"dataframe\">\n",
              "  <thead>\n",
              "    <tr style=\"text-align: right;\">\n",
              "      <th></th>\n",
              "      <th>category</th>\n",
              "      <th>headline</th>\n",
              "      <th>authors</th>\n",
              "      <th>link</th>\n",
              "      <th>short_description</th>\n",
              "      <th>date</th>\n",
              "      <th>year</th>\n",
              "    </tr>\n",
              "  </thead>\n",
              "  <tbody>\n",
              "    <tr>\n",
              "      <th>88010</th>\n",
              "      <td>FIFTY</td>\n",
              "      <td>Notes From a Dive Bar XI</td>\n",
              "      <td>Alan Black, Contributorworks in a dive bar</td>\n",
              "      <td>https://www.huffingtonpost.com/entry/notes-from-a-dive-bar-xi_b_7617146.html</td>\n",
              "      <td>Here's a resume. Male, 25-years old, friendly and popular with customers, knowledgeable in the arts of mixology, enthusiastic, responsible, and an asset for your business.</td>\n",
              "      <td>2015-06-18</td>\n",
              "      <td>2015</td>\n",
              "    </tr>\n",
              "    <tr>\n",
              "      <th>93427</th>\n",
              "      <td>FIFTY</td>\n",
              "      <td>Menopause and Moods</td>\n",
              "      <td>Sheryl Kraft, ContributorFreelance Writer, www.sherylkraft.com, www.mysocalledmidlife.n...</td>\n",
              "      <td>https://www.huffingtonpost.com/entry/menopause-and-moods_b_7082212.html</td>\n",
              "      <td>Once I started getting regular hot flashes, I realized that anxiety frequently went along with them. I'd feel anxious about the hot flashes themselves: what would trigger them, would they embarrass me; how long would they last, would they wake me up in the middle of the night?</td>\n",
              "      <td>2015-04-17</td>\n",
              "      <td>2015</td>\n",
              "    </tr>\n",
              "    <tr>\n",
              "      <th>81009</th>\n",
              "      <td>FIFTY</td>\n",
              "      <td>9 Rules Of Instagram That Were Made To Be Broken</td>\n",
              "      <td>Jill Robbins, ContributorAward winning writer, speaker, humorist, mom, wine snob</td>\n",
              "      <td>https://www.huffingtonpost.com/entry/vogue-instagram-rules_b_8052200.html</td>\n",
              "      <td>My friend shared an article from Vogue online with me this week and I found it quite enlightening It wasn't about the latest crazy fashion trends but about a subject near and dear to my heart - social media.My heart sank a little bit when I read this article. I learned I have been breaking the rules of my beloved Instagram.</td>\n",
              "      <td>2015-09-05</td>\n",
              "      <td>2015</td>\n",
              "    </tr>\n",
              "    <tr>\n",
              "      <th>81647</th>\n",
              "      <td>FIFTY</td>\n",
              "      <td>The Hidden Perk Of Parenting That Has Nothing To Do With Your Kids</td>\n",
              "      <td>Rachel Brehm, ContributorBlogging my way through life with twins (bloggymamma.com).</td>\n",
              "      <td>https://www.huffingtonpost.com/entry/parenting-friendships_b_8010016.html</td>\n",
              "      <td>Since the birth of my twins, I have talked to more people, made more new friends, and generally experienced a more extroverted lifestyle than ever before. Never before babies would I have talked to strangers, initiated conversations with those I don't know, commiserated with literally anyone who would listen.</td>\n",
              "      <td>2015-08-29</td>\n",
              "      <td>2015</td>\n",
              "    </tr>\n",
              "    <tr>\n",
              "      <th>74035</th>\n",
              "      <td>FIFTY</td>\n",
              "      <td>What It's Really Like To Turn 83</td>\n",
              "      <td>Stanley Ely, ContributorWriter</td>\n",
              "      <td>https://www.huffingtonpost.com/entry/turning-83_b_8570008.html</td>\n",
              "      <td>Exactly three years ago, my uncle Morris passed away in Dallas at age 103 plus a few months. He never expected to live that long -- does anyone? But he did, and was alert until his very final days.\\nThis happened just as I was giving myself an 80th birthday party in New York.</td>\n",
              "      <td>2015-11-22</td>\n",
              "      <td>2015</td>\n",
              "    </tr>\n",
              "  </tbody>\n",
              "</table>\n",
              "</div>"
            ]
          },
          "metadata": {},
          "execution_count": 17
        }
      ]
    },
    {
      "cell_type": "code",
      "source": [
        "raw.loc[raw['category'] == 'GREEN'].sample(5)"
      ],
      "metadata": {
        "colab": {
          "base_uri": "https://localhost:8080/",
          "height": 397
        },
        "id": "R_6s8NCy9DPL",
        "outputId": "d7796472-89b6-47c6-ee4a-e92883c299f6"
      },
      "execution_count": null,
      "outputs": [
        {
          "output_type": "execute_result",
          "data": {
            "text/plain": [
              "      category  \\\n",
              "23669    GREEN   \n",
              "69877    GREEN   \n",
              "43465    GREEN   \n",
              "94089    GREEN   \n",
              "20535    GREEN   \n",
              "\n",
              "                                                                                                        headline  \\\n",
              "23669  One Of The Worldâ€™s Largest Icebergs Is About To Break Off Antarctica. Hereâ€™s What It Should Be Named.   \n",
              "69877                                                       New Index Attempts to Measure Excessive Resource Use   \n",
              "43465                                                  Historic Paris Climate Pact Takes Effect Today. Now What?   \n",
              "94089                 BNSF Challenges Lawsuit From Engineer Who Ran For His Life From Exploding Oil \"Bomb Train\"   \n",
              "20535                            Another Fox In The Henhouse: Coal Lobbyist Tapped For Top Spot In Trumpâ€™s EPA   \n",
              "\n",
              "                                                                                           authors  \\\n",
              "23669  Aaron Packard, ContributorGlobal Climate Impacts coordinator for 350.org. Working with a...   \n",
              "69877                                         Pro Journo, ContributorA global journalism incubator   \n",
              "43465                                                                By Valerie Volcovici, Reuters   \n",
              "94089                                           Steve Horn, ContributorResearch Fellow, DeSmogBlog   \n",
              "20535                  Mary Anne Hitt, ContributorDirector of the Sierra Club Beyond Coal Campaign   \n",
              "\n",
              "                                                                                                                               link  \\\n",
              "23669  https://www.huffingtonpost.com/entry/the-worlds-largest-iceberg-is-about-to-break-off-antarctica_us_594643e5e4b0940f84fe2f78   \n",
              "69877                                                 https://www.huffingtonpost.com/entry/new-index-attempts-to-mea_b_8945640.html   \n",
              "43465                                      https://www.huffingtonpost.com/entry/paris-climate-agreement_us_581c216ee4b0e80b02c91e13   \n",
              "94089                                                 https://www.huffingtonpost.com/entry/bnsf-challenges-lawsuit-f_b_7019960.html   \n",
              "20535         https://www.huffingtonpost.com/entry/another-fox-in-the-henhouse-coal-lobbyist-tapped-for_us_5978ec8ae4b09982b73761ab   \n",
              "\n",
              "                                                                                                                                                                                                                                                       short_description  \\\n",
              "23669                                                                                                                                       The first feeling is a chilling awe, as you watch the British Antarctic Surveyâ€™s aerial footage of the great crack that is   \n",
              "69877  There is a growing awareness among political decision-makers that we need to take action to accommodate the resource needs of a human population that is expected to exceed 9 billion by 2050. Yet that awareness still needs to translate into political action.   \n",
              "43465                                                                                                                                 â€œThis is a moment to celebrate. It is also a moment to look ahead with sober assessment and renewed will over the task ahead.â€   \n",
              "94089                                                                       Burlington Northern Santa Fe (BNSF) has responded defensively to the oil-by-rail lawsuit filed by former BNSF locomotive engineer Bryan Thompson, a case recently reported on by DeSmogBlog.   \n",
              "20535                                                                                                                                         In a move that will probably surprise no one, but should dismay everyone who breathes air and drinks water, recent reports   \n",
              "\n",
              "            date  year  \n",
              "23669 2017-06-18  2017  \n",
              "69877 2016-01-09  2016  \n",
              "43465 2016-11-04  2016  \n",
              "94089 2015-04-09  2015  \n",
              "20535 2017-07-26  2017  "
            ],
            "text/html": [
              "<div>\n",
              "<style scoped>\n",
              "    .dataframe tbody tr th:only-of-type {\n",
              "        vertical-align: middle;\n",
              "    }\n",
              "\n",
              "    .dataframe tbody tr th {\n",
              "        vertical-align: top;\n",
              "    }\n",
              "\n",
              "    .dataframe thead th {\n",
              "        text-align: right;\n",
              "    }\n",
              "</style>\n",
              "<table border=\"1\" class=\"dataframe\">\n",
              "  <thead>\n",
              "    <tr style=\"text-align: right;\">\n",
              "      <th></th>\n",
              "      <th>category</th>\n",
              "      <th>headline</th>\n",
              "      <th>authors</th>\n",
              "      <th>link</th>\n",
              "      <th>short_description</th>\n",
              "      <th>date</th>\n",
              "      <th>year</th>\n",
              "    </tr>\n",
              "  </thead>\n",
              "  <tbody>\n",
              "    <tr>\n",
              "      <th>23669</th>\n",
              "      <td>GREEN</td>\n",
              "      <td>One Of The Worldâ€™s Largest Icebergs Is About To Break Off Antarctica. Hereâ€™s What It Should Be Named.</td>\n",
              "      <td>Aaron Packard, ContributorGlobal Climate Impacts coordinator for 350.org. Working with a...</td>\n",
              "      <td>https://www.huffingtonpost.com/entry/the-worlds-largest-iceberg-is-about-to-break-off-antarctica_us_594643e5e4b0940f84fe2f78</td>\n",
              "      <td>The first feeling is a chilling awe, as you watch the British Antarctic Surveyâ€™s aerial footage of the great crack that is</td>\n",
              "      <td>2017-06-18</td>\n",
              "      <td>2017</td>\n",
              "    </tr>\n",
              "    <tr>\n",
              "      <th>69877</th>\n",
              "      <td>GREEN</td>\n",
              "      <td>New Index Attempts to Measure Excessive Resource Use</td>\n",
              "      <td>Pro Journo, ContributorA global journalism incubator</td>\n",
              "      <td>https://www.huffingtonpost.com/entry/new-index-attempts-to-mea_b_8945640.html</td>\n",
              "      <td>There is a growing awareness among political decision-makers that we need to take action to accommodate the resource needs of a human population that is expected to exceed 9 billion by 2050. Yet that awareness still needs to translate into political action.</td>\n",
              "      <td>2016-01-09</td>\n",
              "      <td>2016</td>\n",
              "    </tr>\n",
              "    <tr>\n",
              "      <th>43465</th>\n",
              "      <td>GREEN</td>\n",
              "      <td>Historic Paris Climate Pact Takes Effect Today. Now What?</td>\n",
              "      <td>By Valerie Volcovici, Reuters</td>\n",
              "      <td>https://www.huffingtonpost.com/entry/paris-climate-agreement_us_581c216ee4b0e80b02c91e13</td>\n",
              "      <td>â€œThis is a moment to celebrate. It is also a moment to look ahead with sober assessment and renewed will over the task ahead.â€</td>\n",
              "      <td>2016-11-04</td>\n",
              "      <td>2016</td>\n",
              "    </tr>\n",
              "    <tr>\n",
              "      <th>94089</th>\n",
              "      <td>GREEN</td>\n",
              "      <td>BNSF Challenges Lawsuit From Engineer Who Ran For His Life From Exploding Oil \"Bomb Train\"</td>\n",
              "      <td>Steve Horn, ContributorResearch Fellow, DeSmogBlog</td>\n",
              "      <td>https://www.huffingtonpost.com/entry/bnsf-challenges-lawsuit-f_b_7019960.html</td>\n",
              "      <td>Burlington Northern Santa Fe (BNSF) has responded defensively to the oil-by-rail lawsuit filed by former BNSF locomotive engineer Bryan Thompson, a case recently reported on by DeSmogBlog.</td>\n",
              "      <td>2015-04-09</td>\n",
              "      <td>2015</td>\n",
              "    </tr>\n",
              "    <tr>\n",
              "      <th>20535</th>\n",
              "      <td>GREEN</td>\n",
              "      <td>Another Fox In The Henhouse: Coal Lobbyist Tapped For Top Spot In Trumpâ€™s EPA</td>\n",
              "      <td>Mary Anne Hitt, ContributorDirector of the Sierra Club Beyond Coal Campaign</td>\n",
              "      <td>https://www.huffingtonpost.com/entry/another-fox-in-the-henhouse-coal-lobbyist-tapped-for_us_5978ec8ae4b09982b73761ab</td>\n",
              "      <td>In a move that will probably surprise no one, but should dismay everyone who breathes air and drinks water, recent reports</td>\n",
              "      <td>2017-07-26</td>\n",
              "      <td>2017</td>\n",
              "    </tr>\n",
              "  </tbody>\n",
              "</table>\n",
              "</div>"
            ]
          },
          "metadata": {},
          "execution_count": 18
        }
      ]
    },
    {
      "cell_type": "code",
      "source": [
        "raw.loc[raw['category'] == 'QUEER VOICES'].sample(5)"
      ],
      "metadata": {
        "colab": {
          "base_uri": "https://localhost:8080/",
          "height": 380
        },
        "id": "WN-4H7Te87Ni",
        "outputId": "fa7cff23-fca0-497e-a941-b88d6bed16f5"
      },
      "execution_count": null,
      "outputs": [
        {
          "output_type": "execute_result",
          "data": {
            "text/plain": [
              "           category  \\\n",
              "59012  QUEER VOICES   \n",
              "86235  QUEER VOICES   \n",
              "81533  QUEER VOICES   \n",
              "27302  QUEER VOICES   \n",
              "39015  QUEER VOICES   \n",
              "\n",
              "                                                                            headline  \\\n",
              "59012               Caitlyn Jenner's Rep Slams Rumors Of The Star 'De-Transitioning'   \n",
              "86235  Jonathan Groff On Being Gay In Hollywood, 'Looking' And Madonna's iPhone Diss   \n",
              "81533              Here's What Happened When Grindr Users Opened Up About Depression   \n",
              "27302                     Dear Donald Trump: The LGBT Community Is Not A Distraction   \n",
              "39015                                             A Special Gift From My Grandmother   \n",
              "\n",
              "                                                                                      authors  \\\n",
              "59012                                                                          Curtis M. Wong   \n",
              "86235                                                                          Curtis M. Wong   \n",
              "81533                                                                   James Michael Nichols   \n",
              "27302  Jennifer Morgan, ContributorJennifer Morgan is a writer and observer from Mississippi.   \n",
              "39015                        Eric T. Shoen-Ukre, ContributorFundraiser, Blogger, Photographer   \n",
              "\n",
              "                                                                                                                                    link  \\\n",
              "59012                                   https://www.huffingtonpost.com/entry/caitlyn-jenner-de-transitioning_us_5734a500e4b060aa78198279   \n",
              "86235                                      https://www.huffingtonpost.com/entry/jonathan-groff-gay-hollywood_us_559d57fde4b05b1d028f8511   \n",
              "81533  https://www.huffingtonpost.com/entry/heres-what-happened-when-grindr-users-opened-up-about-depression_us_55e0ab6fe4b0b7a96338e4a2   \n",
              "27302          https://www.huffingtonpost.com/entry/dear-donald-trumpthe-lgbt-community-is-not-a-distraction_us_590fab4be4b046ea176aeca8   \n",
              "39015                                https://www.huffingtonpost.com/entry/a-special-gift-from-my-grandmother_us_585f1259e4b014e7c72edcf1   \n",
              "\n",
              "                                                                                                                         short_description  \\\n",
              "59012                                                             A Kardashian biographer also claimed that Jenner was \"still into women.\"   \n",
              "86235  Joking that he knew he \"wouldn't be the male romantic lead in a Nicholas Sparks movie\" after coming out, Jonathan Groff nonetheless   \n",
              "81533                                                                                  And other LGBT wellness stories from the past week.   \n",
              "27302   Dear Donald Trump: On April 5th, 2016 Mississippiâ€™s Governor Phil Bryant signed into law the â€œPROTECTING FREEDOM OF CONSCIENCE   \n",
              "39015                                                          I don't have to leave David somewhere or make him hide when Grandma visits.   \n",
              "\n",
              "            date  year  \n",
              "59012 2016-05-12  2016  \n",
              "86235 2015-07-08  2015  \n",
              "81533 2015-08-30  2015  \n",
              "27302 2017-05-07  2017  \n",
              "39015 2016-12-25  2016  "
            ],
            "text/html": [
              "<div>\n",
              "<style scoped>\n",
              "    .dataframe tbody tr th:only-of-type {\n",
              "        vertical-align: middle;\n",
              "    }\n",
              "\n",
              "    .dataframe tbody tr th {\n",
              "        vertical-align: top;\n",
              "    }\n",
              "\n",
              "    .dataframe thead th {\n",
              "        text-align: right;\n",
              "    }\n",
              "</style>\n",
              "<table border=\"1\" class=\"dataframe\">\n",
              "  <thead>\n",
              "    <tr style=\"text-align: right;\">\n",
              "      <th></th>\n",
              "      <th>category</th>\n",
              "      <th>headline</th>\n",
              "      <th>authors</th>\n",
              "      <th>link</th>\n",
              "      <th>short_description</th>\n",
              "      <th>date</th>\n",
              "      <th>year</th>\n",
              "    </tr>\n",
              "  </thead>\n",
              "  <tbody>\n",
              "    <tr>\n",
              "      <th>59012</th>\n",
              "      <td>QUEER VOICES</td>\n",
              "      <td>Caitlyn Jenner's Rep Slams Rumors Of The Star 'De-Transitioning'</td>\n",
              "      <td>Curtis M. Wong</td>\n",
              "      <td>https://www.huffingtonpost.com/entry/caitlyn-jenner-de-transitioning_us_5734a500e4b060aa78198279</td>\n",
              "      <td>A Kardashian biographer also claimed that Jenner was \"still into women.\"</td>\n",
              "      <td>2016-05-12</td>\n",
              "      <td>2016</td>\n",
              "    </tr>\n",
              "    <tr>\n",
              "      <th>86235</th>\n",
              "      <td>QUEER VOICES</td>\n",
              "      <td>Jonathan Groff On Being Gay In Hollywood, 'Looking' And Madonna's iPhone Diss</td>\n",
              "      <td>Curtis M. Wong</td>\n",
              "      <td>https://www.huffingtonpost.com/entry/jonathan-groff-gay-hollywood_us_559d57fde4b05b1d028f8511</td>\n",
              "      <td>Joking that he knew he \"wouldn't be the male romantic lead in a Nicholas Sparks movie\" after coming out, Jonathan Groff nonetheless</td>\n",
              "      <td>2015-07-08</td>\n",
              "      <td>2015</td>\n",
              "    </tr>\n",
              "    <tr>\n",
              "      <th>81533</th>\n",
              "      <td>QUEER VOICES</td>\n",
              "      <td>Here's What Happened When Grindr Users Opened Up About Depression</td>\n",
              "      <td>James Michael Nichols</td>\n",
              "      <td>https://www.huffingtonpost.com/entry/heres-what-happened-when-grindr-users-opened-up-about-depression_us_55e0ab6fe4b0b7a96338e4a2</td>\n",
              "      <td>And other LGBT wellness stories from the past week.</td>\n",
              "      <td>2015-08-30</td>\n",
              "      <td>2015</td>\n",
              "    </tr>\n",
              "    <tr>\n",
              "      <th>27302</th>\n",
              "      <td>QUEER VOICES</td>\n",
              "      <td>Dear Donald Trump: The LGBT Community Is Not A Distraction</td>\n",
              "      <td>Jennifer Morgan, ContributorJennifer Morgan is a writer and observer from Mississippi.</td>\n",
              "      <td>https://www.huffingtonpost.com/entry/dear-donald-trumpthe-lgbt-community-is-not-a-distraction_us_590fab4be4b046ea176aeca8</td>\n",
              "      <td>Dear Donald Trump: On April 5th, 2016 Mississippiâ€™s Governor Phil Bryant signed into law the â€œPROTECTING FREEDOM OF CONSCIENCE</td>\n",
              "      <td>2017-05-07</td>\n",
              "      <td>2017</td>\n",
              "    </tr>\n",
              "    <tr>\n",
              "      <th>39015</th>\n",
              "      <td>QUEER VOICES</td>\n",
              "      <td>A Special Gift From My Grandmother</td>\n",
              "      <td>Eric T. Shoen-Ukre, ContributorFundraiser, Blogger, Photographer</td>\n",
              "      <td>https://www.huffingtonpost.com/entry/a-special-gift-from-my-grandmother_us_585f1259e4b014e7c72edcf1</td>\n",
              "      <td>I don't have to leave David somewhere or make him hide when Grandma visits.</td>\n",
              "      <td>2016-12-25</td>\n",
              "      <td>2016</td>\n",
              "    </tr>\n",
              "  </tbody>\n",
              "</table>\n",
              "</div>"
            ]
          },
          "metadata": {},
          "execution_count": 19
        }
      ]
    },
    {
      "cell_type": "code",
      "source": [
        "raw.loc[raw['category'] == 'IMPACT'].sample(5)"
      ],
      "metadata": {
        "colab": {
          "base_uri": "https://localhost:8080/",
          "height": 380
        },
        "id": "UuGC_9np486i",
        "outputId": "a7cedf0f-71f6-4ba4-962e-512a0890a54a"
      },
      "execution_count": null,
      "outputs": [
        {
          "output_type": "execute_result",
          "data": {
            "text/plain": [
              "       category                                               headline  \\\n",
              "22824    IMPACT          40 Strangers. 50 Questions. One Video. Magic.   \n",
              "129283   IMPACT                                  Why I Founded Zidisha   \n",
              "113784   IMPACT  How A Small Wireless Handset Transformed My Classroom   \n",
              "188498   IMPACT               Healthy Birth Critical to Child Survival   \n",
              "147734   IMPACT                    10 Donations You Haven't Considered   \n",
              "\n",
              "                                                                                                         authors  \\\n",
              "22824                                        Robert Greenwald, ContributorFounder and President, Brave New Films   \n",
              "129283                                                              Julia Kurnia, Contributor\\nDirector, Zidisha   \n",
              "113784                                Madara PelnÄ“na, ContributorTeacher, IespÄ“jamÄ Misija (Mission Possible)   \n",
              "188498  Craig E. Rubens, MD, PhD, Contributor\\nExecutive Director, Global Alliance to Prevent Prematurity and...   \n",
              "147734                             Dylan Nord, Contributor\\nPartner Relations, Social Media Manager, We-Care.com   \n",
              "\n",
              "                                                                                                              link  \\\n",
              "22824   https://www.huffingtonpost.com/entry/40-strangers-50-questions-one-video-magic_us_5953fd03e4b0c85b96c65ebc   \n",
              "129283                      https://www.huffingtonpost.com/entry/why-i-founded-zidisha_us_5bb1bdd4e4b01857b70b4202   \n",
              "113784                               https://www.huffingtonpost.com/entry/how-a-small-wireless-hand_b_5678627.html   \n",
              "188498                     https://www.huffingtonpost.com/entry/healthy-birth-critical_us_5bb194e5e4b01857b7085e2f   \n",
              "147734         https://www.huffingtonpost.com/entry/10-donations-you-havent-considered_us_5bb1b1f3e4b01857b70a2cda   \n",
              "\n",
              "                                                                                                                                                                                                                                              short_description  \\\n",
              "22824                                                                                                                                  Kumbaya is not really in our vocabulary at Brave New Films. We are believers, not conciliators, not dealmakers. There is   \n",
              "129283                                              An idealistic 24-year-old, I'd been hired out of graduate school to manage overseas grants on behalf of the US government. This was my second year on the job and I already had a reputation as a maverick.   \n",
              "113784                                                                                            There is a school of thought that opposes technology in the classroom. This is rooted in the belief that it hinders or completely replaces human interaction.   \n",
              "188498  Caring for newborns and young children is only half the battle. It is equally important that we study what happens during pregnancy, because safer and healthier pregnancies will put every child in a better position to live a long and healthy life.   \n",
              "147734                                                                                                                                The Economist estimated that there are over 14 trillion frequent flyer miles left unclaimed, which could be worth as much   \n",
              "\n",
              "             date  year  \n",
              "22824  2017-06-28  2017  \n",
              "129283 2014-03-02  2014  \n",
              "113784 2014-08-25  2014  \n",
              "188498 2012-06-09  2012  \n",
              "147734 2013-08-18  2013  "
            ],
            "text/html": [
              "<div>\n",
              "<style scoped>\n",
              "    .dataframe tbody tr th:only-of-type {\n",
              "        vertical-align: middle;\n",
              "    }\n",
              "\n",
              "    .dataframe tbody tr th {\n",
              "        vertical-align: top;\n",
              "    }\n",
              "\n",
              "    .dataframe thead th {\n",
              "        text-align: right;\n",
              "    }\n",
              "</style>\n",
              "<table border=\"1\" class=\"dataframe\">\n",
              "  <thead>\n",
              "    <tr style=\"text-align: right;\">\n",
              "      <th></th>\n",
              "      <th>category</th>\n",
              "      <th>headline</th>\n",
              "      <th>authors</th>\n",
              "      <th>link</th>\n",
              "      <th>short_description</th>\n",
              "      <th>date</th>\n",
              "      <th>year</th>\n",
              "    </tr>\n",
              "  </thead>\n",
              "  <tbody>\n",
              "    <tr>\n",
              "      <th>22824</th>\n",
              "      <td>IMPACT</td>\n",
              "      <td>40 Strangers. 50 Questions. One Video. Magic.</td>\n",
              "      <td>Robert Greenwald, ContributorFounder and President, Brave New Films</td>\n",
              "      <td>https://www.huffingtonpost.com/entry/40-strangers-50-questions-one-video-magic_us_5953fd03e4b0c85b96c65ebc</td>\n",
              "      <td>Kumbaya is not really in our vocabulary at Brave New Films. We are believers, not conciliators, not dealmakers. There is</td>\n",
              "      <td>2017-06-28</td>\n",
              "      <td>2017</td>\n",
              "    </tr>\n",
              "    <tr>\n",
              "      <th>129283</th>\n",
              "      <td>IMPACT</td>\n",
              "      <td>Why I Founded Zidisha</td>\n",
              "      <td>Julia Kurnia, Contributor\\nDirector, Zidisha</td>\n",
              "      <td>https://www.huffingtonpost.com/entry/why-i-founded-zidisha_us_5bb1bdd4e4b01857b70b4202</td>\n",
              "      <td>An idealistic 24-year-old, I'd been hired out of graduate school to manage overseas grants on behalf of the US government. This was my second year on the job and I already had a reputation as a maverick.</td>\n",
              "      <td>2014-03-02</td>\n",
              "      <td>2014</td>\n",
              "    </tr>\n",
              "    <tr>\n",
              "      <th>113784</th>\n",
              "      <td>IMPACT</td>\n",
              "      <td>How A Small Wireless Handset Transformed My Classroom</td>\n",
              "      <td>Madara PelnÄ“na, ContributorTeacher, IespÄ“jamÄ Misija (Mission Possible)</td>\n",
              "      <td>https://www.huffingtonpost.com/entry/how-a-small-wireless-hand_b_5678627.html</td>\n",
              "      <td>There is a school of thought that opposes technology in the classroom. This is rooted in the belief that it hinders or completely replaces human interaction.</td>\n",
              "      <td>2014-08-25</td>\n",
              "      <td>2014</td>\n",
              "    </tr>\n",
              "    <tr>\n",
              "      <th>188498</th>\n",
              "      <td>IMPACT</td>\n",
              "      <td>Healthy Birth Critical to Child Survival</td>\n",
              "      <td>Craig E. Rubens, MD, PhD, Contributor\\nExecutive Director, Global Alliance to Prevent Prematurity and...</td>\n",
              "      <td>https://www.huffingtonpost.com/entry/healthy-birth-critical_us_5bb194e5e4b01857b7085e2f</td>\n",
              "      <td>Caring for newborns and young children is only half the battle. It is equally important that we study what happens during pregnancy, because safer and healthier pregnancies will put every child in a better position to live a long and healthy life.</td>\n",
              "      <td>2012-06-09</td>\n",
              "      <td>2012</td>\n",
              "    </tr>\n",
              "    <tr>\n",
              "      <th>147734</th>\n",
              "      <td>IMPACT</td>\n",
              "      <td>10 Donations You Haven't Considered</td>\n",
              "      <td>Dylan Nord, Contributor\\nPartner Relations, Social Media Manager, We-Care.com</td>\n",
              "      <td>https://www.huffingtonpost.com/entry/10-donations-you-havent-considered_us_5bb1b1f3e4b01857b70a2cda</td>\n",
              "      <td>The Economist estimated that there are over 14 trillion frequent flyer miles left unclaimed, which could be worth as much</td>\n",
              "      <td>2013-08-18</td>\n",
              "      <td>2013</td>\n",
              "    </tr>\n",
              "  </tbody>\n",
              "</table>\n",
              "</div>"
            ]
          },
          "metadata": {},
          "execution_count": 20
        }
      ]
    },
    {
      "cell_type": "code",
      "source": [
        "raw.loc[raw['category'] == 'WELLNESS'].sample(5)"
      ],
      "metadata": {
        "colab": {
          "base_uri": "https://localhost:8080/",
          "height": 397
        },
        "id": "Me5zVo0H5roy",
        "outputId": "9c6c78df-c12d-42ea-f186-3cd153b6aa96"
      },
      "execution_count": null,
      "outputs": [
        {
          "output_type": "execute_result",
          "data": {
            "text/plain": [
              "        category                                                 headline  \\\n",
              "152799  WELLNESS  Forgotten Dimension of Diabetes Revealed in DAWN2 Study   \n",
              "193301  WELLNESS                         The Benefits of Outdoor Exercise   \n",
              "176670  WELLNESS                                       Laughing at Change   \n",
              "183779  WELLNESS                   How Firstborns and Secondborns Compare   \n",
              "169987  WELLNESS                               Exercise Anywhere, Anytime   \n",
              "\n",
              "                                                                                                             authors  \\\n",
              "152799                Riva Greenberg, Contributor\\nA leading expert on flourishing with diabetes and an internati...   \n",
              "193301                  Stacy Berman, Contributor\\nFit-preneur, creator of Stacy's Bootcamp and The Body Mind Pro...   \n",
              "176670                               Lorna Bright, Contributor\\nfounder of The Cosmic Coalition for Modern Evolution   \n",
              "183779  Heidi Grant Halvorson, Ph.D., Contributor\\nAuthor, \"No One Understands You and What To Do About It\" \"Nine...   \n",
              "169987                                                  Dr. Erica Miller, Contributor\\nClinical Psychologist, Author   \n",
              "\n",
              "                                                                                     link  \\\n",
              "152799  https://www.huffingtonpost.com/entry/diabetes-support_us_5b9d4787e4b03a1dcc8641d5   \n",
              "193301  https://www.huffingtonpost.com/entry/outdoor-exercise_us_5b9b9137e4b03a1dcc78b22d   \n",
              "176670   https://www.huffingtonpost.com/entry/laughter-health_us_5b9c6257e4b03a1dcc7e4217   \n",
              "183779       https://www.huffingtonpost.com/entry/birth-order_us_5b9c0f2be4b03a1dcc7c14f5   \n",
              "169987     https://www.huffingtonpost.com/entry/exercise-tips_us_5b9ca6bfe4b03a1dcc8091ef   \n",
              "\n",
              "                                                                                                                                                                                                                                                                                               short_description  \\\n",
              "152799                                                                                                         You can have access to better medicines and tools and yet do little because you haven't got the emotional strength, resilience and support to get up every day and manage this chronic condition.   \n",
              "193301                                                                                   Spring is a perfect time to escape from the gym so you never have to sit on a sweaty machine again.  Exercising outdoors is challenging, saves time, and studies are finding that it can actually make you feel better.   \n",
              "176670  This year made me realize that I've accumulated a whole arsenal of wonderfully powerful tools and techniques that can help me through difficult times if I choose to use them. Things like prayer and faith, meditation and yoga, music, vitamins, love, persistence, honesty, communication, and trust.   \n",
              "183779                                          People have long been fascinated with birth order and how it shapes our lives; and recent research indicates that first- and secondborns do indeed see the world differently in ways that impact their motivation and likelihood of career and personal success.   \n",
              "169987                                                                                                                                                        Muscles don't know if you're in a fancy gym or in your kitchen. These tips are designed for busy lives -- a minute here and a minute there add up.   \n",
              "\n",
              "             date  year  \n",
              "152799 2013-06-25  2013  \n",
              "193301 2012-04-18  2012  \n",
              "176670 2012-10-14  2012  \n",
              "183779 2012-07-30  2012  \n",
              "169987 2012-12-26  2012  "
            ],
            "text/html": [
              "<div>\n",
              "<style scoped>\n",
              "    .dataframe tbody tr th:only-of-type {\n",
              "        vertical-align: middle;\n",
              "    }\n",
              "\n",
              "    .dataframe tbody tr th {\n",
              "        vertical-align: top;\n",
              "    }\n",
              "\n",
              "    .dataframe thead th {\n",
              "        text-align: right;\n",
              "    }\n",
              "</style>\n",
              "<table border=\"1\" class=\"dataframe\">\n",
              "  <thead>\n",
              "    <tr style=\"text-align: right;\">\n",
              "      <th></th>\n",
              "      <th>category</th>\n",
              "      <th>headline</th>\n",
              "      <th>authors</th>\n",
              "      <th>link</th>\n",
              "      <th>short_description</th>\n",
              "      <th>date</th>\n",
              "      <th>year</th>\n",
              "    </tr>\n",
              "  </thead>\n",
              "  <tbody>\n",
              "    <tr>\n",
              "      <th>152799</th>\n",
              "      <td>WELLNESS</td>\n",
              "      <td>Forgotten Dimension of Diabetes Revealed in DAWN2 Study</td>\n",
              "      <td>Riva Greenberg, Contributor\\nA leading expert on flourishing with diabetes and an internati...</td>\n",
              "      <td>https://www.huffingtonpost.com/entry/diabetes-support_us_5b9d4787e4b03a1dcc8641d5</td>\n",
              "      <td>You can have access to better medicines and tools and yet do little because you haven't got the emotional strength, resilience and support to get up every day and manage this chronic condition.</td>\n",
              "      <td>2013-06-25</td>\n",
              "      <td>2013</td>\n",
              "    </tr>\n",
              "    <tr>\n",
              "      <th>193301</th>\n",
              "      <td>WELLNESS</td>\n",
              "      <td>The Benefits of Outdoor Exercise</td>\n",
              "      <td>Stacy Berman, Contributor\\nFit-preneur, creator of Stacy's Bootcamp and The Body Mind Pro...</td>\n",
              "      <td>https://www.huffingtonpost.com/entry/outdoor-exercise_us_5b9b9137e4b03a1dcc78b22d</td>\n",
              "      <td>Spring is a perfect time to escape from the gym so you never have to sit on a sweaty machine again.  Exercising outdoors is challenging, saves time, and studies are finding that it can actually make you feel better.</td>\n",
              "      <td>2012-04-18</td>\n",
              "      <td>2012</td>\n",
              "    </tr>\n",
              "    <tr>\n",
              "      <th>176670</th>\n",
              "      <td>WELLNESS</td>\n",
              "      <td>Laughing at Change</td>\n",
              "      <td>Lorna Bright, Contributor\\nfounder of The Cosmic Coalition for Modern Evolution</td>\n",
              "      <td>https://www.huffingtonpost.com/entry/laughter-health_us_5b9c6257e4b03a1dcc7e4217</td>\n",
              "      <td>This year made me realize that I've accumulated a whole arsenal of wonderfully powerful tools and techniques that can help me through difficult times if I choose to use them. Things like prayer and faith, meditation and yoga, music, vitamins, love, persistence, honesty, communication, and trust.</td>\n",
              "      <td>2012-10-14</td>\n",
              "      <td>2012</td>\n",
              "    </tr>\n",
              "    <tr>\n",
              "      <th>183779</th>\n",
              "      <td>WELLNESS</td>\n",
              "      <td>How Firstborns and Secondborns Compare</td>\n",
              "      <td>Heidi Grant Halvorson, Ph.D., Contributor\\nAuthor, \"No One Understands You and What To Do About It\" \"Nine...</td>\n",
              "      <td>https://www.huffingtonpost.com/entry/birth-order_us_5b9c0f2be4b03a1dcc7c14f5</td>\n",
              "      <td>People have long been fascinated with birth order and how it shapes our lives; and recent research indicates that first- and secondborns do indeed see the world differently in ways that impact their motivation and likelihood of career and personal success.</td>\n",
              "      <td>2012-07-30</td>\n",
              "      <td>2012</td>\n",
              "    </tr>\n",
              "    <tr>\n",
              "      <th>169987</th>\n",
              "      <td>WELLNESS</td>\n",
              "      <td>Exercise Anywhere, Anytime</td>\n",
              "      <td>Dr. Erica Miller, Contributor\\nClinical Psychologist, Author</td>\n",
              "      <td>https://www.huffingtonpost.com/entry/exercise-tips_us_5b9ca6bfe4b03a1dcc8091ef</td>\n",
              "      <td>Muscles don't know if you're in a fancy gym or in your kitchen. These tips are designed for busy lives -- a minute here and a minute there add up.</td>\n",
              "      <td>2012-12-26</td>\n",
              "      <td>2012</td>\n",
              "    </tr>\n",
              "  </tbody>\n",
              "</table>\n",
              "</div>"
            ]
          },
          "metadata": {},
          "execution_count": 21
        }
      ]
    },
    {
      "cell_type": "code",
      "source": [
        "raw.loc[raw['category'] == 'FOOD & DRINK'].sample(5)"
      ],
      "metadata": {
        "colab": {
          "base_uri": "https://localhost:8080/",
          "height": 380
        },
        "id": "vPJY5M7y6mLi",
        "outputId": "cfb54ae5-3b87-4d46-f0e1-dca8e0295df8"
      },
      "execution_count": null,
      "outputs": [
        {
          "output_type": "execute_result",
          "data": {
            "text/plain": [
              "            category  \\\n",
              "132904  FOOD & DRINK   \n",
              "132768  FOOD & DRINK   \n",
              "191365  FOOD & DRINK   \n",
              "128212  FOOD & DRINK   \n",
              "179938  FOOD & DRINK   \n",
              "\n",
              "                                                                         headline  \\\n",
              "132904                               Sense of Taste: Coconut Mousse Cake (Recipe)   \n",
              "132768                                     Annie Stein on Kai Lobach's Currywurst   \n",
              "191365          Crazy Soda Flavors Taste Test: Buffalo Wing, Bacon, PB&J And More   \n",
              "128212                           Trash Fish: Guess Who's Coming to Dinner (VIDEO)   \n",
              "179938  Creative Kids Foods: Recipes Your Kids Will Actually Want To Eat (PHOTOS)   \n",
              "\n",
              "                                                               authors  \\\n",
              "132904                            Ken Leung, Contributor\\nFood Blogger   \n",
              "132768                         Lisa Dinsmore, Contributor\\nContributor   \n",
              "191365                                                   Rachel Tepper   \n",
              "128212  Rebecca Gerendasy, Contributor\\nCo-founder, Cooking Up a Story   \n",
              "179938                                                             NaN   \n",
              "\n",
              "                                                                                                       link  \\\n",
              "132904  https://www.huffingtonpost.com/entry/sense-of-taste-coconut-mousse-cake_us_5b9dce5be4b03a1dcc8d2458   \n",
              "132768           https://www.huffingtonpost.com/entry/annie-stein-on-kai-lobach_us_5b9dd0eae4b03a1dcc8d3722   \n",
              "191365                   https://www.huffingtonpost.com/entry/buffalo-wing-soda_us_5b9bb1b8e4b03a1dcc79a432   \n",
              "128212           https://www.huffingtonpost.com/entry/trash-fish-guess-whos-com_us_5b9decbee4b03a1dcc8edd29   \n",
              "179938                           https://www.huffingtonpost.com/entry/kids-food_us_5b9c3fcde4b03a1dcc7d5a97   \n",
              "\n",
              "                                                                                                                                                                                                                short_description  \\\n",
              "132904  I believe in selective indulgence. After enjoying your healthy lunch or dinner, you can end with a lighter dessert: coconut mousse cake. It has an airy, ethereal texture, so it's not nearly as heavy as typical treats.   \n",
              "132768                  Between tending the plants, cutting back the roses, cruising the art marts online and on foot, and catering parties from Bel Air to Malibu, who has time to toot his own horn about those yummy sausages?   \n",
              "191365                                                                                                 With everyone making such a fuss over the buffalo wing soda produced by The Rocket Fizz Soda Pop & Candy Shops, we decided   \n",
              "128212                                                                                                                                  Fueled by heightened consumer demand, the larger, more popular fish are being overfished.   \n",
              "179938                                                                                               Parents of picky eaters, we've found a remedy to ease your child's finicky ways. It's not hypnotism or anything serious. The   \n",
              "\n",
              "             date  year  \n",
              "132904 2014-01-22  2014  \n",
              "132768 2014-01-24  2014  \n",
              "191365 2012-05-09  2012  \n",
              "128212 2014-03-13  2014  \n",
              "179938 2012-09-10  2012  "
            ],
            "text/html": [
              "<div>\n",
              "<style scoped>\n",
              "    .dataframe tbody tr th:only-of-type {\n",
              "        vertical-align: middle;\n",
              "    }\n",
              "\n",
              "    .dataframe tbody tr th {\n",
              "        vertical-align: top;\n",
              "    }\n",
              "\n",
              "    .dataframe thead th {\n",
              "        text-align: right;\n",
              "    }\n",
              "</style>\n",
              "<table border=\"1\" class=\"dataframe\">\n",
              "  <thead>\n",
              "    <tr style=\"text-align: right;\">\n",
              "      <th></th>\n",
              "      <th>category</th>\n",
              "      <th>headline</th>\n",
              "      <th>authors</th>\n",
              "      <th>link</th>\n",
              "      <th>short_description</th>\n",
              "      <th>date</th>\n",
              "      <th>year</th>\n",
              "    </tr>\n",
              "  </thead>\n",
              "  <tbody>\n",
              "    <tr>\n",
              "      <th>132904</th>\n",
              "      <td>FOOD &amp; DRINK</td>\n",
              "      <td>Sense of Taste: Coconut Mousse Cake (Recipe)</td>\n",
              "      <td>Ken Leung, Contributor\\nFood Blogger</td>\n",
              "      <td>https://www.huffingtonpost.com/entry/sense-of-taste-coconut-mousse-cake_us_5b9dce5be4b03a1dcc8d2458</td>\n",
              "      <td>I believe in selective indulgence. After enjoying your healthy lunch or dinner, you can end with a lighter dessert: coconut mousse cake. It has an airy, ethereal texture, so it's not nearly as heavy as typical treats.</td>\n",
              "      <td>2014-01-22</td>\n",
              "      <td>2014</td>\n",
              "    </tr>\n",
              "    <tr>\n",
              "      <th>132768</th>\n",
              "      <td>FOOD &amp; DRINK</td>\n",
              "      <td>Annie Stein on Kai Lobach's Currywurst</td>\n",
              "      <td>Lisa Dinsmore, Contributor\\nContributor</td>\n",
              "      <td>https://www.huffingtonpost.com/entry/annie-stein-on-kai-lobach_us_5b9dd0eae4b03a1dcc8d3722</td>\n",
              "      <td>Between tending the plants, cutting back the roses, cruising the art marts online and on foot, and catering parties from Bel Air to Malibu, who has time to toot his own horn about those yummy sausages?</td>\n",
              "      <td>2014-01-24</td>\n",
              "      <td>2014</td>\n",
              "    </tr>\n",
              "    <tr>\n",
              "      <th>191365</th>\n",
              "      <td>FOOD &amp; DRINK</td>\n",
              "      <td>Crazy Soda Flavors Taste Test: Buffalo Wing, Bacon, PB&amp;J And More</td>\n",
              "      <td>Rachel Tepper</td>\n",
              "      <td>https://www.huffingtonpost.com/entry/buffalo-wing-soda_us_5b9bb1b8e4b03a1dcc79a432</td>\n",
              "      <td>With everyone making such a fuss over the buffalo wing soda produced by The Rocket Fizz Soda Pop &amp; Candy Shops, we decided</td>\n",
              "      <td>2012-05-09</td>\n",
              "      <td>2012</td>\n",
              "    </tr>\n",
              "    <tr>\n",
              "      <th>128212</th>\n",
              "      <td>FOOD &amp; DRINK</td>\n",
              "      <td>Trash Fish: Guess Who's Coming to Dinner (VIDEO)</td>\n",
              "      <td>Rebecca Gerendasy, Contributor\\nCo-founder, Cooking Up a Story</td>\n",
              "      <td>https://www.huffingtonpost.com/entry/trash-fish-guess-whos-com_us_5b9decbee4b03a1dcc8edd29</td>\n",
              "      <td>Fueled by heightened consumer demand, the larger, more popular fish are being overfished.</td>\n",
              "      <td>2014-03-13</td>\n",
              "      <td>2014</td>\n",
              "    </tr>\n",
              "    <tr>\n",
              "      <th>179938</th>\n",
              "      <td>FOOD &amp; DRINK</td>\n",
              "      <td>Creative Kids Foods: Recipes Your Kids Will Actually Want To Eat (PHOTOS)</td>\n",
              "      <td>NaN</td>\n",
              "      <td>https://www.huffingtonpost.com/entry/kids-food_us_5b9c3fcde4b03a1dcc7d5a97</td>\n",
              "      <td>Parents of picky eaters, we've found a remedy to ease your child's finicky ways. It's not hypnotism or anything serious. The</td>\n",
              "      <td>2012-09-10</td>\n",
              "      <td>2012</td>\n",
              "    </tr>\n",
              "  </tbody>\n",
              "</table>\n",
              "</div>"
            ]
          },
          "metadata": {},
          "execution_count": 22
        }
      ]
    },
    {
      "cell_type": "code",
      "source": [
        "raw.loc[raw['category'] == 'BUSINESS'].sample(5)"
      ],
      "metadata": {
        "colab": {
          "base_uri": "https://localhost:8080/",
          "height": 484
        },
        "id": "tOhNAokQTmiW",
        "outputId": "9b888b06-0957-4034-e066-bd8b195ad4b1"
      },
      "execution_count": null,
      "outputs": [
        {
          "output_type": "execute_result",
          "data": {
            "text/plain": [
              "        category  \\\n",
              "88052   BUSINESS   \n",
              "125427  BUSINESS   \n",
              "167750  BUSINESS   \n",
              "199484  BUSINESS   \n",
              "114961  BUSINESS   \n",
              "\n",
              "                                                              headline  \\\n",
              "88052      What Game of Thrones Can Teach Us About Spa Retail Training   \n",
              "125427       How Wall Street's Life-Ruining Work Habits Hurt All Of Us   \n",
              "167750  The Re-emergence of Europe: Why Exiting the Euro Is a Bad Idea   \n",
              "199484          Occupy Movement Regroups, Preparing for Its Next Phase   \n",
              "114961       IMF May Be Right in Suggesting Countries Raise Fuel Taxes   \n",
              "\n",
              "                                                                                                 authors  \\\n",
              "88052   Linda Harding-Bond, ContributorCreator of Increasing Your Retail Selling: An Online Class for...   \n",
              "125427                                                                                    Jillian Berman   \n",
              "167750       Prof. Klaus Schwab, Contributor\\nFounder and Executive Chairman of the World Economic Forum   \n",
              "199484                                                                                               NaN   \n",
              "114961                              Jeffrey Rubin, ContributorFormer Chief Economist, CIBC World Markets   \n",
              "\n",
              "                                                                                                                                                    link  \\\n",
              "88052                                                                      https://www.huffingtonpost.com/entry/what-game-of-thrones-can-_b_7582558.html   \n",
              "125427                                                               https://www.huffingtonpost.com/entry/banker-hours-study_us_5bb30aa2e4b0480ca6627b0d   \n",
              "167750                                                        https://www.huffingtonpost.com/entry/the-reemergence-of-europe_us_5bb2e49de4b0480ca65e23c3   \n",
              "199484  https://www.huffingtonpost.comhttp://www.nytimes.com/2012/02/12/us/occupy-movement-regroups-laying-plans-for-the-next-phase.html?pagewanted=1&hp   \n",
              "114961                                                                     https://www.huffingtonpost.com/entry/imf-may-be-right-in-sugge_b_5672136.html   \n",
              "\n",
              "                                                                                                                                                                                                                                                                                                            short_description  \\\n",
              "88052                                                       Changing the way your therapists deliver customer service at your spa through training is no easy task. Game of Thrones shows us that the road to success may be rife with drama but in the end for your customers, brand and team, it will be worth the journey.   \n",
              "125427                                                                                                                                                                                             In her book, Schulte cites study after study showing that working extreme hours just for the sake of showing up is a habit   \n",
              "167750                                                                                    There is no legal framework for a member country to re-establish its own currency or for one member to expel another. Leaving would have far-reaching implications for a country's politics, finances, economy, society and future.   \n",
              "199484                                                                                                                                                                                             The ragtag Occupy Wall Street encampments that sprang up in scores of cities last fall, thrusting â€œWe are the 99 percent   \n",
              "114961  It's tough to find any drivers who relish digging into their wallets to fill up at the pump. According to the International Monetary Fund, though, not only should fuel taxes jump by more than 50 percent, the increase should have Canadians whistling a happy tune. Now, here's the real kicker: The IMF is right.   \n",
              "\n",
              "             date  year  \n",
              "88052  2015-06-17  2015  \n",
              "125427 2014-04-13  2014  \n",
              "167750 2013-01-19  2013  \n",
              "199484 2012-02-12  2012  \n",
              "114961 2014-08-12  2014  "
            ],
            "text/html": [
              "<div>\n",
              "<style scoped>\n",
              "    .dataframe tbody tr th:only-of-type {\n",
              "        vertical-align: middle;\n",
              "    }\n",
              "\n",
              "    .dataframe tbody tr th {\n",
              "        vertical-align: top;\n",
              "    }\n",
              "\n",
              "    .dataframe thead th {\n",
              "        text-align: right;\n",
              "    }\n",
              "</style>\n",
              "<table border=\"1\" class=\"dataframe\">\n",
              "  <thead>\n",
              "    <tr style=\"text-align: right;\">\n",
              "      <th></th>\n",
              "      <th>category</th>\n",
              "      <th>headline</th>\n",
              "      <th>authors</th>\n",
              "      <th>link</th>\n",
              "      <th>short_description</th>\n",
              "      <th>date</th>\n",
              "      <th>year</th>\n",
              "    </tr>\n",
              "  </thead>\n",
              "  <tbody>\n",
              "    <tr>\n",
              "      <th>88052</th>\n",
              "      <td>BUSINESS</td>\n",
              "      <td>What Game of Thrones Can Teach Us About Spa Retail Training</td>\n",
              "      <td>Linda Harding-Bond, ContributorCreator of Increasing Your Retail Selling: An Online Class for...</td>\n",
              "      <td>https://www.huffingtonpost.com/entry/what-game-of-thrones-can-_b_7582558.html</td>\n",
              "      <td>Changing the way your therapists deliver customer service at your spa through training is no easy task. Game of Thrones shows us that the road to success may be rife with drama but in the end for your customers, brand and team, it will be worth the journey.</td>\n",
              "      <td>2015-06-17</td>\n",
              "      <td>2015</td>\n",
              "    </tr>\n",
              "    <tr>\n",
              "      <th>125427</th>\n",
              "      <td>BUSINESS</td>\n",
              "      <td>How Wall Street's Life-Ruining Work Habits Hurt All Of Us</td>\n",
              "      <td>Jillian Berman</td>\n",
              "      <td>https://www.huffingtonpost.com/entry/banker-hours-study_us_5bb30aa2e4b0480ca6627b0d</td>\n",
              "      <td>In her book, Schulte cites study after study showing that working extreme hours just for the sake of showing up is a habit</td>\n",
              "      <td>2014-04-13</td>\n",
              "      <td>2014</td>\n",
              "    </tr>\n",
              "    <tr>\n",
              "      <th>167750</th>\n",
              "      <td>BUSINESS</td>\n",
              "      <td>The Re-emergence of Europe: Why Exiting the Euro Is a Bad Idea</td>\n",
              "      <td>Prof. Klaus Schwab, Contributor\\nFounder and Executive Chairman of the World Economic Forum</td>\n",
              "      <td>https://www.huffingtonpost.com/entry/the-reemergence-of-europe_us_5bb2e49de4b0480ca65e23c3</td>\n",
              "      <td>There is no legal framework for a member country to re-establish its own currency or for one member to expel another. Leaving would have far-reaching implications for a country's politics, finances, economy, society and future.</td>\n",
              "      <td>2013-01-19</td>\n",
              "      <td>2013</td>\n",
              "    </tr>\n",
              "    <tr>\n",
              "      <th>199484</th>\n",
              "      <td>BUSINESS</td>\n",
              "      <td>Occupy Movement Regroups, Preparing for Its Next Phase</td>\n",
              "      <td>NaN</td>\n",
              "      <td>https://www.huffingtonpost.comhttp://www.nytimes.com/2012/02/12/us/occupy-movement-regroups-laying-plans-for-the-next-phase.html?pagewanted=1&amp;hp</td>\n",
              "      <td>The ragtag Occupy Wall Street encampments that sprang up in scores of cities last fall, thrusting â€œWe are the 99 percent</td>\n",
              "      <td>2012-02-12</td>\n",
              "      <td>2012</td>\n",
              "    </tr>\n",
              "    <tr>\n",
              "      <th>114961</th>\n",
              "      <td>BUSINESS</td>\n",
              "      <td>IMF May Be Right in Suggesting Countries Raise Fuel Taxes</td>\n",
              "      <td>Jeffrey Rubin, ContributorFormer Chief Economist, CIBC World Markets</td>\n",
              "      <td>https://www.huffingtonpost.com/entry/imf-may-be-right-in-sugge_b_5672136.html</td>\n",
              "      <td>It's tough to find any drivers who relish digging into their wallets to fill up at the pump. According to the International Monetary Fund, though, not only should fuel taxes jump by more than 50 percent, the increase should have Canadians whistling a happy tune. Now, here's the real kicker: The IMF is right.</td>\n",
              "      <td>2014-08-12</td>\n",
              "      <td>2014</td>\n",
              "    </tr>\n",
              "  </tbody>\n",
              "</table>\n",
              "</div>"
            ]
          },
          "metadata": {},
          "execution_count": 23
        }
      ]
    },
    {
      "cell_type": "code",
      "source": [
        "raw.loc[raw['category'] == 'MONEY'].sample(5)"
      ],
      "metadata": {
        "colab": {
          "base_uri": "https://localhost:8080/",
          "height": 432
        },
        "id": "U_7XYyiN7Tu1",
        "outputId": "c7021392-92ef-476b-9e0b-04aa6bc97abb"
      },
      "execution_count": null,
      "outputs": [
        {
          "output_type": "execute_result",
          "data": {
            "text/plain": [
              "       category  \\\n",
              "134321    MONEY   \n",
              "180498    MONEY   \n",
              "191492    MONEY   \n",
              "187293    MONEY   \n",
              "180316    MONEY   \n",
              "\n",
              "                                                                     headline  \\\n",
              "134321                                                 Will 2014 Be the Year?   \n",
              "180498  Men Who Pay For Sex May Also Be Hoping To Find True Love, Study Finds   \n",
              "191492          Bad News for Most Debt Collectors and Good News for Consumers   \n",
              "187293                 George Washington's Constitution Sold For $9.8 Million   \n",
              "180316               Personal Shoppers: 10 Things They Don't Want You To Know   \n",
              "\n",
              "                                                                                               authors  \\\n",
              "134321                                            Richard Barrington, Contributor\\nCFA, MoneyRates.com   \n",
              "180498                                                                          Meredith Bennett-Smith   \n",
              "191492  Eric Yaverbaum, Contributor\\nBest selling author (http://www.amazon.com/-/e/B001H6WCK2) Eri...   \n",
              "187293                                                                                Reuters, Reuters   \n",
              "180316                                                                          SmartMoney, SmartMoney   \n",
              "\n",
              "                                                                                                                        link  \\\n",
              "134321                                https://www.huffingtonpost.com/entry/will-2014-be-the-year_us_5b9dc329e4b03a1dcc8c97f9   \n",
              "180498  https://www.huffingtonpost.com/entry/men-paying-for-sex-may-also-looking-true-love-study_us_5b9c3861e4b03a1dcc7d3382   \n",
              "191492                    https://www.huffingtonpost.com/entry/bad-news-for-most-debt-collectors_us_5b9bae0be4b03a1dcc798d37   \n",
              "187293                      https://www.huffingtonpost.com/entry/george-washingtons-constitution_us_5b9be6dee4b03a1dcc7b00d6   \n",
              "180316                          https://www.huffingtonpost.com/entry/personal-shoppers-10-things_us_5b9c3cebe4b03a1dcc7d4ab9   \n",
              "\n",
              "                                                                                                                                                                                                            short_description  \\\n",
              "134321  However unlikely some developments may be, when nothing has happened yet, it is always possible to have high hopes for the new year. Here are several key questions about what economic developments 2014 will bring.   \n",
              "180498                                                                                           Authored by George Washington University sociology professor Ronald Weitzer and Los Angeles sexologist Christine Milrod, the   \n",
              "191492           Even with new regulations, Massachusetts and the rest of the nation still have a long way to go before we see more common sense than common criminals in the ranks of debt collectors and their accomplices.   \n",
              "187293                                                                                         An autographed manuscript of Lincoln's 1864 election victory speech sold for $3.4 million in February 2009, which set a record   \n",
              "180316                                                                                               3. \"My only credential? A passion for fashion.\" With its legions of self-styled experts, YouTube has lowered the barrier   \n",
              "\n",
              "             date  year  \n",
              "134321 2014-01-07  2014  \n",
              "180498 2012-09-04  2012  \n",
              "191492 2012-05-08  2012  \n",
              "187293 2012-06-22  2012  \n",
              "180316 2012-09-06  2012  "
            ],
            "text/html": [
              "<div>\n",
              "<style scoped>\n",
              "    .dataframe tbody tr th:only-of-type {\n",
              "        vertical-align: middle;\n",
              "    }\n",
              "\n",
              "    .dataframe tbody tr th {\n",
              "        vertical-align: top;\n",
              "    }\n",
              "\n",
              "    .dataframe thead th {\n",
              "        text-align: right;\n",
              "    }\n",
              "</style>\n",
              "<table border=\"1\" class=\"dataframe\">\n",
              "  <thead>\n",
              "    <tr style=\"text-align: right;\">\n",
              "      <th></th>\n",
              "      <th>category</th>\n",
              "      <th>headline</th>\n",
              "      <th>authors</th>\n",
              "      <th>link</th>\n",
              "      <th>short_description</th>\n",
              "      <th>date</th>\n",
              "      <th>year</th>\n",
              "    </tr>\n",
              "  </thead>\n",
              "  <tbody>\n",
              "    <tr>\n",
              "      <th>134321</th>\n",
              "      <td>MONEY</td>\n",
              "      <td>Will 2014 Be the Year?</td>\n",
              "      <td>Richard Barrington, Contributor\\nCFA, MoneyRates.com</td>\n",
              "      <td>https://www.huffingtonpost.com/entry/will-2014-be-the-year_us_5b9dc329e4b03a1dcc8c97f9</td>\n",
              "      <td>However unlikely some developments may be, when nothing has happened yet, it is always possible to have high hopes for the new year. Here are several key questions about what economic developments 2014 will bring.</td>\n",
              "      <td>2014-01-07</td>\n",
              "      <td>2014</td>\n",
              "    </tr>\n",
              "    <tr>\n",
              "      <th>180498</th>\n",
              "      <td>MONEY</td>\n",
              "      <td>Men Who Pay For Sex May Also Be Hoping To Find True Love, Study Finds</td>\n",
              "      <td>Meredith Bennett-Smith</td>\n",
              "      <td>https://www.huffingtonpost.com/entry/men-paying-for-sex-may-also-looking-true-love-study_us_5b9c3861e4b03a1dcc7d3382</td>\n",
              "      <td>Authored by George Washington University sociology professor Ronald Weitzer and Los Angeles sexologist Christine Milrod, the</td>\n",
              "      <td>2012-09-04</td>\n",
              "      <td>2012</td>\n",
              "    </tr>\n",
              "    <tr>\n",
              "      <th>191492</th>\n",
              "      <td>MONEY</td>\n",
              "      <td>Bad News for Most Debt Collectors and Good News for Consumers</td>\n",
              "      <td>Eric Yaverbaum, Contributor\\nBest selling author (http://www.amazon.com/-/e/B001H6WCK2) Eri...</td>\n",
              "      <td>https://www.huffingtonpost.com/entry/bad-news-for-most-debt-collectors_us_5b9bae0be4b03a1dcc798d37</td>\n",
              "      <td>Even with new regulations, Massachusetts and the rest of the nation still have a long way to go before we see more common sense than common criminals in the ranks of debt collectors and their accomplices.</td>\n",
              "      <td>2012-05-08</td>\n",
              "      <td>2012</td>\n",
              "    </tr>\n",
              "    <tr>\n",
              "      <th>187293</th>\n",
              "      <td>MONEY</td>\n",
              "      <td>George Washington's Constitution Sold For $9.8 Million</td>\n",
              "      <td>Reuters, Reuters</td>\n",
              "      <td>https://www.huffingtonpost.com/entry/george-washingtons-constitution_us_5b9be6dee4b03a1dcc7b00d6</td>\n",
              "      <td>An autographed manuscript of Lincoln's 1864 election victory speech sold for $3.4 million in February 2009, which set a record</td>\n",
              "      <td>2012-06-22</td>\n",
              "      <td>2012</td>\n",
              "    </tr>\n",
              "    <tr>\n",
              "      <th>180316</th>\n",
              "      <td>MONEY</td>\n",
              "      <td>Personal Shoppers: 10 Things They Don't Want You To Know</td>\n",
              "      <td>SmartMoney, SmartMoney</td>\n",
              "      <td>https://www.huffingtonpost.com/entry/personal-shoppers-10-things_us_5b9c3cebe4b03a1dcc7d4ab9</td>\n",
              "      <td>3. \"My only credential? A passion for fashion.\" With its legions of self-styled experts, YouTube has lowered the barrier</td>\n",
              "      <td>2012-09-06</td>\n",
              "      <td>2012</td>\n",
              "    </tr>\n",
              "  </tbody>\n",
              "</table>\n",
              "</div>"
            ]
          },
          "metadata": {},
          "execution_count": 24
        }
      ]
    },
    {
      "cell_type": "code",
      "source": [
        "raw.loc[raw['category'] == 'PARENTS'].sample(5)"
      ],
      "metadata": {
        "colab": {
          "base_uri": "https://localhost:8080/",
          "height": 397
        },
        "id": "fmeoHSp3_Iln",
        "outputId": "1184822c-abf2-4b6a-f8bf-ecfad9102ad5"
      },
      "execution_count": null,
      "outputs": [
        {
          "output_type": "execute_result",
          "data": {
            "text/plain": [
              "       category  \\\n",
              "85031   PARENTS   \n",
              "61547   PARENTS   \n",
              "40263   PARENTS   \n",
              "124909  PARENTS   \n",
              "81787   PARENTS   \n",
              "\n",
              "                                                                      headline  \\\n",
              "85031           Dad Creates Epic Baby Nursery Of Every Mario Kart Fan's Dreams   \n",
              "61547    Parents Of Triplets Compete To See Who Can Change The Diapers Fastest   \n",
              "40263   Some â€œDoâ€™sâ€ and â€œDonâ€™tsâ€ of Dealing with a Divorced Friend   \n",
              "124909                  Your Daily Guide to an Awesome Spring Break Staycation   \n",
              "81787                               Nearly 1 In 5 Children And Teens Are Obese   \n",
              "\n",
              "                                                                                                    authors  \\\n",
              "85031                                                                                      Caroline Bologna   \n",
              "61547                                                                                      Caroline Bologna   \n",
              "40263   Holli Fawcett Clayton, ContributorFormer attorney, freelance writer, and creator of Courageous &...   \n",
              "124909                                                  Common Sense Media, ContributorCommonsensemedia.org   \n",
              "81787                                                                          Sara G. Miller, Live Science   \n",
              "\n",
              "                                                                                                                                          link  \\\n",
              "85031                                                      https://www.huffingtonpost.com/entry/mario-kart-nursery_us_55ae54ede4b07af29d565175   \n",
              "61547   https://www.huffingtonpost.com/entry/parents-of-triplets-compete-to-see-who-can-change-the-diapers-fastest_us_570e72c4e4b03d8b7b9f0f03   \n",
              "40263                           https://www.huffingtonpost.com/entry/some-dos-and-donts-of-dealing-with-a-divorced_us_584b79a7e4b0151082221b79   \n",
              "124909                              https://www.huffingtonpost.com/entry/your-daily-guide-to-an-awesome-spring-break-staycation_b_5093295.html   \n",
              "81787                              https://www.huffingtonpost.com/entry/nearly-1-in-5-children-and-teens-are-obese_us_55df182ee4b029b3f1b1b61b   \n",
              "\n",
              "                                                                                                                                                                                       short_description  \\\n",
              "85031                                                                             The finished product of Swain's hard work is a magical nursery that his 1-year-old son Grant loves -- and one that has   \n",
              "61547                                                                                                                                                            This Mom vs. Dad competition is fierce.   \n",
              "40263                                                                                                                               Divorce is not an infectious disease. Really, itâ€™s not contagious.   \n",
              "124909  Let's face it: Not everyone can go to Bermuda for spring break. But sometimes a \"staycation\" is just what the doctor ordered, because you can hang out with the kids and tackle spring cleaning.   \n",
              "81787                                                                     More than one-third of American adults are obese, and now, a new report shows thatÂ childrenÂ and teens aren't far behind. The   \n",
              "\n",
              "             date  year  \n",
              "85031  2015-07-22  2015  \n",
              "61547  2016-04-13  2016  \n",
              "40263  2016-12-10  2016  \n",
              "124909 2014-04-18  2014  \n",
              "81787  2015-08-27  2015  "
            ],
            "text/html": [
              "<div>\n",
              "<style scoped>\n",
              "    .dataframe tbody tr th:only-of-type {\n",
              "        vertical-align: middle;\n",
              "    }\n",
              "\n",
              "    .dataframe tbody tr th {\n",
              "        vertical-align: top;\n",
              "    }\n",
              "\n",
              "    .dataframe thead th {\n",
              "        text-align: right;\n",
              "    }\n",
              "</style>\n",
              "<table border=\"1\" class=\"dataframe\">\n",
              "  <thead>\n",
              "    <tr style=\"text-align: right;\">\n",
              "      <th></th>\n",
              "      <th>category</th>\n",
              "      <th>headline</th>\n",
              "      <th>authors</th>\n",
              "      <th>link</th>\n",
              "      <th>short_description</th>\n",
              "      <th>date</th>\n",
              "      <th>year</th>\n",
              "    </tr>\n",
              "  </thead>\n",
              "  <tbody>\n",
              "    <tr>\n",
              "      <th>85031</th>\n",
              "      <td>PARENTS</td>\n",
              "      <td>Dad Creates Epic Baby Nursery Of Every Mario Kart Fan's Dreams</td>\n",
              "      <td>Caroline Bologna</td>\n",
              "      <td>https://www.huffingtonpost.com/entry/mario-kart-nursery_us_55ae54ede4b07af29d565175</td>\n",
              "      <td>The finished product of Swain's hard work is a magical nursery that his 1-year-old son Grant loves -- and one that has</td>\n",
              "      <td>2015-07-22</td>\n",
              "      <td>2015</td>\n",
              "    </tr>\n",
              "    <tr>\n",
              "      <th>61547</th>\n",
              "      <td>PARENTS</td>\n",
              "      <td>Parents Of Triplets Compete To See Who Can Change The Diapers Fastest</td>\n",
              "      <td>Caroline Bologna</td>\n",
              "      <td>https://www.huffingtonpost.com/entry/parents-of-triplets-compete-to-see-who-can-change-the-diapers-fastest_us_570e72c4e4b03d8b7b9f0f03</td>\n",
              "      <td>This Mom vs. Dad competition is fierce.</td>\n",
              "      <td>2016-04-13</td>\n",
              "      <td>2016</td>\n",
              "    </tr>\n",
              "    <tr>\n",
              "      <th>40263</th>\n",
              "      <td>PARENTS</td>\n",
              "      <td>Some â€œDoâ€™sâ€ and â€œDonâ€™tsâ€ of Dealing with a Divorced Friend</td>\n",
              "      <td>Holli Fawcett Clayton, ContributorFormer attorney, freelance writer, and creator of Courageous &amp;...</td>\n",
              "      <td>https://www.huffingtonpost.com/entry/some-dos-and-donts-of-dealing-with-a-divorced_us_584b79a7e4b0151082221b79</td>\n",
              "      <td>Divorce is not an infectious disease. Really, itâ€™s not contagious.</td>\n",
              "      <td>2016-12-10</td>\n",
              "      <td>2016</td>\n",
              "    </tr>\n",
              "    <tr>\n",
              "      <th>124909</th>\n",
              "      <td>PARENTS</td>\n",
              "      <td>Your Daily Guide to an Awesome Spring Break Staycation</td>\n",
              "      <td>Common Sense Media, ContributorCommonsensemedia.org</td>\n",
              "      <td>https://www.huffingtonpost.com/entry/your-daily-guide-to-an-awesome-spring-break-staycation_b_5093295.html</td>\n",
              "      <td>Let's face it: Not everyone can go to Bermuda for spring break. But sometimes a \"staycation\" is just what the doctor ordered, because you can hang out with the kids and tackle spring cleaning.</td>\n",
              "      <td>2014-04-18</td>\n",
              "      <td>2014</td>\n",
              "    </tr>\n",
              "    <tr>\n",
              "      <th>81787</th>\n",
              "      <td>PARENTS</td>\n",
              "      <td>Nearly 1 In 5 Children And Teens Are Obese</td>\n",
              "      <td>Sara G. Miller, Live Science</td>\n",
              "      <td>https://www.huffingtonpost.com/entry/nearly-1-in-5-children-and-teens-are-obese_us_55df182ee4b029b3f1b1b61b</td>\n",
              "      <td>More than one-third of American adults are obese, and now, a new report shows thatÂ childrenÂ and teens aren't far behind. The</td>\n",
              "      <td>2015-08-27</td>\n",
              "      <td>2015</td>\n",
              "    </tr>\n",
              "  </tbody>\n",
              "</table>\n",
              "</div>"
            ]
          },
          "metadata": {},
          "execution_count": 25
        }
      ]
    },
    {
      "cell_type": "code",
      "source": [
        "raw.loc[raw['category'] == 'PARENTING'].sample(5)"
      ],
      "metadata": {
        "colab": {
          "base_uri": "https://localhost:8080/",
          "height": 415
        },
        "id": "y_R87JnW_VQq",
        "outputId": "99d20bc9-5a44-4bab-d879-763f27cdfc2e"
      },
      "execution_count": null,
      "outputs": [
        {
          "output_type": "execute_result",
          "data": {
            "text/plain": [
              "         category  \\\n",
              "158842  PARENTING   \n",
              "157675  PARENTING   \n",
              "166571  PARENTING   \n",
              "149902  PARENTING   \n",
              "136732  PARENTING   \n",
              "\n",
              "                                                                       headline  \\\n",
              "158842  Cambridge Strong: Tips for Students Returning After Bombs and Lockdowns   \n",
              "157675                                      Growing as a Mom Through Networking   \n",
              "166571                    School Time Is Money:  Are More Hours Worth the Cost?   \n",
              "149902    Voices and Choices: The Secrets to Summer Reading and Writing Success   \n",
              "136732                                                Smoochgate: A Lesson Lost   \n",
              "\n",
              "                                                                                        authors  \\\n",
              "158842  Nancy Rappaport, Contributor\\nAssociate professor of psychiatry, Harvard Medical School   \n",
              "157675    Robin Gorman Newman, Contributor\\nAuthor, Theatre Producer, Mom, Marketer, Bird Lover   \n",
              "166571                          Patte Barth, Contributor\\nDirector, Center for Public Education   \n",
              "149902                           Pam Allyn, Contributor\\nFounder & Executive Director, LitWorld   \n",
              "136732             Kimann Schultz, Contributor\\narts & free speech advocate, writer illustrator   \n",
              "\n",
              "                                                                                                                     link  \\\n",
              "158842                          https://www.huffingtonpost.com/entry/cambridge-is-golden-tips_us_5b9d10f7e4b03a1dcc843c5e   \n",
              "157675                          https://www.huffingtonpost.com/entry/growing-as-a-mom-through_us_5b9d2014e4b03a1dcc84ae63   \n",
              "166571                                https://www.huffingtonpost.com/entry/longer-school-days_us_5b9cc557e4b03a1dcc81b634   \n",
              "149902  https://www.huffingtonpost.com/entry/voices-and-choices-the-secrets-to-summer-reading_us_5b9d60b1e4b03a1dcc873bbd   \n",
              "136732                          https://www.huffingtonpost.com/entry/smoochgate-a-lesson-lost_us_5b9db714e4b03a1dcc8be575   \n",
              "\n",
              "                                                                                                                                                                                                                                                                    short_description  \\\n",
              "158842                                                                         Students in Massachusetts were on spring break last week, so when they resume their routine tomorrow, we need to assess the impact of the tragedy and create a plan that restores a sense of security.   \n",
              "157675                                                                                 I don't frequent networking functions... or at least not since I became a mom. Time doesn't always permit in the life of a work-at-home, multi-tasking mother of a child in elementary school.   \n",
              "166571                                                                                      Adding days and hours to the schedule is relatively easy, but it's definitely not cheap. If students gained a lot by being in school longer the extra costs may be worth it. But do they?   \n",
              "149902  Summer is an ideal time to empower children to master control of their reading lives. By supplementing the reading lists that are sent home with time for the child to match his passions to his reading, we give a child the sense that he is curating his own reading life.   \n",
              "136732                               I am raising a daughter who will soon be 10. And I am raising her to believe -- and this is supported by school policy -- that she has an unequivocal right to never be touched/accosted in any way, shape or form that she does want or permit.   \n",
              "\n",
              "             date  year  \n",
              "158842 2013-04-22  2013  \n",
              "157675 2013-05-04  2013  \n",
              "166571 2013-01-31  2013  \n",
              "149902 2013-07-26  2013  \n",
              "136732 2013-12-12  2013  "
            ],
            "text/html": [
              "<div>\n",
              "<style scoped>\n",
              "    .dataframe tbody tr th:only-of-type {\n",
              "        vertical-align: middle;\n",
              "    }\n",
              "\n",
              "    .dataframe tbody tr th {\n",
              "        vertical-align: top;\n",
              "    }\n",
              "\n",
              "    .dataframe thead th {\n",
              "        text-align: right;\n",
              "    }\n",
              "</style>\n",
              "<table border=\"1\" class=\"dataframe\">\n",
              "  <thead>\n",
              "    <tr style=\"text-align: right;\">\n",
              "      <th></th>\n",
              "      <th>category</th>\n",
              "      <th>headline</th>\n",
              "      <th>authors</th>\n",
              "      <th>link</th>\n",
              "      <th>short_description</th>\n",
              "      <th>date</th>\n",
              "      <th>year</th>\n",
              "    </tr>\n",
              "  </thead>\n",
              "  <tbody>\n",
              "    <tr>\n",
              "      <th>158842</th>\n",
              "      <td>PARENTING</td>\n",
              "      <td>Cambridge Strong: Tips for Students Returning After Bombs and Lockdowns</td>\n",
              "      <td>Nancy Rappaport, Contributor\\nAssociate professor of psychiatry, Harvard Medical School</td>\n",
              "      <td>https://www.huffingtonpost.com/entry/cambridge-is-golden-tips_us_5b9d10f7e4b03a1dcc843c5e</td>\n",
              "      <td>Students in Massachusetts were on spring break last week, so when they resume their routine tomorrow, we need to assess the impact of the tragedy and create a plan that restores a sense of security.</td>\n",
              "      <td>2013-04-22</td>\n",
              "      <td>2013</td>\n",
              "    </tr>\n",
              "    <tr>\n",
              "      <th>157675</th>\n",
              "      <td>PARENTING</td>\n",
              "      <td>Growing as a Mom Through Networking</td>\n",
              "      <td>Robin Gorman Newman, Contributor\\nAuthor, Theatre Producer, Mom, Marketer, Bird Lover</td>\n",
              "      <td>https://www.huffingtonpost.com/entry/growing-as-a-mom-through_us_5b9d2014e4b03a1dcc84ae63</td>\n",
              "      <td>I don't frequent networking functions... or at least not since I became a mom. Time doesn't always permit in the life of a work-at-home, multi-tasking mother of a child in elementary school.</td>\n",
              "      <td>2013-05-04</td>\n",
              "      <td>2013</td>\n",
              "    </tr>\n",
              "    <tr>\n",
              "      <th>166571</th>\n",
              "      <td>PARENTING</td>\n",
              "      <td>School Time Is Money:  Are More Hours Worth the Cost?</td>\n",
              "      <td>Patte Barth, Contributor\\nDirector, Center for Public Education</td>\n",
              "      <td>https://www.huffingtonpost.com/entry/longer-school-days_us_5b9cc557e4b03a1dcc81b634</td>\n",
              "      <td>Adding days and hours to the schedule is relatively easy, but it's definitely not cheap. If students gained a lot by being in school longer the extra costs may be worth it. But do they?</td>\n",
              "      <td>2013-01-31</td>\n",
              "      <td>2013</td>\n",
              "    </tr>\n",
              "    <tr>\n",
              "      <th>149902</th>\n",
              "      <td>PARENTING</td>\n",
              "      <td>Voices and Choices: The Secrets to Summer Reading and Writing Success</td>\n",
              "      <td>Pam Allyn, Contributor\\nFounder &amp; Executive Director, LitWorld</td>\n",
              "      <td>https://www.huffingtonpost.com/entry/voices-and-choices-the-secrets-to-summer-reading_us_5b9d60b1e4b03a1dcc873bbd</td>\n",
              "      <td>Summer is an ideal time to empower children to master control of their reading lives. By supplementing the reading lists that are sent home with time for the child to match his passions to his reading, we give a child the sense that he is curating his own reading life.</td>\n",
              "      <td>2013-07-26</td>\n",
              "      <td>2013</td>\n",
              "    </tr>\n",
              "    <tr>\n",
              "      <th>136732</th>\n",
              "      <td>PARENTING</td>\n",
              "      <td>Smoochgate: A Lesson Lost</td>\n",
              "      <td>Kimann Schultz, Contributor\\narts &amp; free speech advocate, writer illustrator</td>\n",
              "      <td>https://www.huffingtonpost.com/entry/smoochgate-a-lesson-lost_us_5b9db714e4b03a1dcc8be575</td>\n",
              "      <td>I am raising a daughter who will soon be 10. And I am raising her to believe -- and this is supported by school policy -- that she has an unequivocal right to never be touched/accosted in any way, shape or form that she does want or permit.</td>\n",
              "      <td>2013-12-12</td>\n",
              "      <td>2013</td>\n",
              "    </tr>\n",
              "  </tbody>\n",
              "</table>\n",
              "</div>"
            ]
          },
          "metadata": {},
          "execution_count": 26
        }
      ]
    },
    {
      "cell_type": "code",
      "source": [
        "raw.loc[raw['category'] == 'TASTE'].sample(5)"
      ],
      "metadata": {
        "colab": {
          "base_uri": "https://localhost:8080/",
          "height": 310
        },
        "id": "6tlypDtz_lu0",
        "outputId": "8656be08-1e85-445e-ec18-6ae303968f58"
      },
      "execution_count": null,
      "outputs": [
        {
          "output_type": "execute_result",
          "data": {
            "text/plain": [
              "      category  \\\n",
              "84779    TASTE   \n",
              "12971    TASTE   \n",
              "14544    TASTE   \n",
              "64845    TASTE   \n",
              "13367    TASTE   \n",
              "\n",
              "                                                                   headline  \\\n",
              "84779           This Dragon Is Carved Out Of A Watermelon, And It's INTENSE   \n",
              "12971               All The Places Where You Can Get Free Food On Halloween   \n",
              "14544  Anthony Bourdain Slams Critics Who Say Chefs Shouldn't Talk Politics   \n",
              "64845  Single Malt Scotch Prices Are Skyrocketing As Global Supply Runs Out   \n",
              "13367                            10 Kitchen Tools You Need For Thanksgiving   \n",
              "\n",
              "               authors  \\\n",
              "84779    Jamie Feldman   \n",
              "12971    Suzy Strutner   \n",
              "14544  Carly Ledbetter   \n",
              "64845       James Cave   \n",
              "13367    Brittany Nims   \n",
              "\n",
              "                                                                                                                                                          link  \\\n",
              "84779                                             https://www.huffingtonpost.com/entry/this-dragon-carved-out-of-watermelon-is-hot_us_55b2765de4b0224d88321a2d   \n",
              "12971                                                                  https://www.huffingtonpost.com/entry/free-food-on-halloween_us_59f75b8ee4b0c0c8e67b43c4   \n",
              "14544  https://www.huffingtonpost.com/entry/anthony-bourdain-has-harsh-words-for-critics-who-dont-want-to-hear-his-political-views_us_59db980fe4b0b34afa5b14ca   \n",
              "64845                                                                  https://www.huffingtonpost.com/entry/scotch-shortage-prices_us_56da0578e4b0ffe6f8e9886d   \n",
              "13367                                                          https://www.huffingtonpost.com/entry/kitchen-tools-for-thanksgiving_us_59f0ad79e4b0e064db7e3e15   \n",
              "\n",
              "                                                                                                                 short_description  \\\n",
              "84779  Well, this certainly puts your vodka-soaked watermelonÂ trick to shame. Valeriano Fatica, whose Facebook bioÂ describes him   \n",
              "12971                                                                                                                    Yum! ðŸ‘»   \n",
              "14544                                                                                                                 \"F**k that.\"   \n",
              "64845                                                                                              Here's what that means for you.   \n",
              "13367                                                                                     From bird to pie, we've got you covered.   \n",
              "\n",
              "            date  year  \n",
              "84779 2015-07-24  2015  \n",
              "12971 2017-10-30  2017  \n",
              "14544 2017-10-09  2017  \n",
              "64845 2016-03-05  2016  \n",
              "13367 2017-10-25  2017  "
            ],
            "text/html": [
              "<div>\n",
              "<style scoped>\n",
              "    .dataframe tbody tr th:only-of-type {\n",
              "        vertical-align: middle;\n",
              "    }\n",
              "\n",
              "    .dataframe tbody tr th {\n",
              "        vertical-align: top;\n",
              "    }\n",
              "\n",
              "    .dataframe thead th {\n",
              "        text-align: right;\n",
              "    }\n",
              "</style>\n",
              "<table border=\"1\" class=\"dataframe\">\n",
              "  <thead>\n",
              "    <tr style=\"text-align: right;\">\n",
              "      <th></th>\n",
              "      <th>category</th>\n",
              "      <th>headline</th>\n",
              "      <th>authors</th>\n",
              "      <th>link</th>\n",
              "      <th>short_description</th>\n",
              "      <th>date</th>\n",
              "      <th>year</th>\n",
              "    </tr>\n",
              "  </thead>\n",
              "  <tbody>\n",
              "    <tr>\n",
              "      <th>84779</th>\n",
              "      <td>TASTE</td>\n",
              "      <td>This Dragon Is Carved Out Of A Watermelon, And It's INTENSE</td>\n",
              "      <td>Jamie Feldman</td>\n",
              "      <td>https://www.huffingtonpost.com/entry/this-dragon-carved-out-of-watermelon-is-hot_us_55b2765de4b0224d88321a2d</td>\n",
              "      <td>Well, this certainly puts your vodka-soaked watermelonÂ trick to shame. Valeriano Fatica, whose Facebook bioÂ describes him</td>\n",
              "      <td>2015-07-24</td>\n",
              "      <td>2015</td>\n",
              "    </tr>\n",
              "    <tr>\n",
              "      <th>12971</th>\n",
              "      <td>TASTE</td>\n",
              "      <td>All The Places Where You Can Get Free Food On Halloween</td>\n",
              "      <td>Suzy Strutner</td>\n",
              "      <td>https://www.huffingtonpost.com/entry/free-food-on-halloween_us_59f75b8ee4b0c0c8e67b43c4</td>\n",
              "      <td>Yum! ðŸ‘»</td>\n",
              "      <td>2017-10-30</td>\n",
              "      <td>2017</td>\n",
              "    </tr>\n",
              "    <tr>\n",
              "      <th>14544</th>\n",
              "      <td>TASTE</td>\n",
              "      <td>Anthony Bourdain Slams Critics Who Say Chefs Shouldn't Talk Politics</td>\n",
              "      <td>Carly Ledbetter</td>\n",
              "      <td>https://www.huffingtonpost.com/entry/anthony-bourdain-has-harsh-words-for-critics-who-dont-want-to-hear-his-political-views_us_59db980fe4b0b34afa5b14ca</td>\n",
              "      <td>\"F**k that.\"</td>\n",
              "      <td>2017-10-09</td>\n",
              "      <td>2017</td>\n",
              "    </tr>\n",
              "    <tr>\n",
              "      <th>64845</th>\n",
              "      <td>TASTE</td>\n",
              "      <td>Single Malt Scotch Prices Are Skyrocketing As Global Supply Runs Out</td>\n",
              "      <td>James Cave</td>\n",
              "      <td>https://www.huffingtonpost.com/entry/scotch-shortage-prices_us_56da0578e4b0ffe6f8e9886d</td>\n",
              "      <td>Here's what that means for you.</td>\n",
              "      <td>2016-03-05</td>\n",
              "      <td>2016</td>\n",
              "    </tr>\n",
              "    <tr>\n",
              "      <th>13367</th>\n",
              "      <td>TASTE</td>\n",
              "      <td>10 Kitchen Tools You Need For Thanksgiving</td>\n",
              "      <td>Brittany Nims</td>\n",
              "      <td>https://www.huffingtonpost.com/entry/kitchen-tools-for-thanksgiving_us_59f0ad79e4b0e064db7e3e15</td>\n",
              "      <td>From bird to pie, we've got you covered.</td>\n",
              "      <td>2017-10-25</td>\n",
              "      <td>2017</td>\n",
              "    </tr>\n",
              "  </tbody>\n",
              "</table>\n",
              "</div>"
            ]
          },
          "metadata": {},
          "execution_count": 27
        }
      ]
    },
    {
      "cell_type": "code",
      "source": [
        "raw.loc[raw['category'] == 'MEDIA'].sample(5)"
      ],
      "metadata": {
        "colab": {
          "base_uri": "https://localhost:8080/",
          "height": 466
        },
        "id": "uoGLbZz-_xoC",
        "outputId": "b450575a-10a8-4705-c992-2102f9eebe67"
      },
      "execution_count": null,
      "outputs": [
        {
          "output_type": "execute_result",
          "data": {
            "text/plain": [
              "       category                                                headline  \\\n",
              "70816     MEDIA   Small Town Paper Has Opening For 'Reporter Who Reads'   \n",
              "47847     MEDIA           Sean Hannity Threatens To Sue CNN For Slander   \n",
              "55800     MEDIA      Silver Bells: Moving On From The Workplace I Loved   \n",
              "75602     MEDIA  95 Percent Of GOP Ad Dollars Comes From Outside Groups   \n",
              "103729    MEDIA   Looking Back at 9 Years of The Colbert Report (VIDEO)   \n",
              "\n",
              "                                                                     authors  \\\n",
              "70816                                                         Chris D'Angelo   \n",
              "47847                                                  Alana Horowitz Satlin   \n",
              "55800   Pete Wilgoren, ContributorEmmy winning journalist, blogger, & author   \n",
              "75602                                                                    NaN   \n",
              "103729                                       Arianna Huffington, Contributor   \n",
              "\n",
              "                                                                                                                                     link  \\\n",
              "70816                https://www.huffingtonpost.com/entry/small-town-paper-has-opening-for-reporter-who-reads_us_56819e15e4b014efe0d8f4c8   \n",
              "47847                                               https://www.huffingtonpost.com/entry/sean-hannity-sue-cnn_us_57dba6fae4b0071a6e066f32   \n",
              "55800                                                      https://www.huffingtonpost.com/entry/silver-bells-moving-on-fr_b_10533374.html   \n",
              "75602   https://www.huffingtonpost.comhttp://www.nbcnews.com/meet-the-press/super-pacs-outside-groups-dominate-gop-16-ad-spending-n457351   \n",
              "103729                                  https://www.huffingtonpost.com/entry/looking-back-at-9-years-of-the-colbert-report_b_6350384.html   \n",
              "\n",
              "                                                                                                                                                                                                                                                                                                                                           short_description  \\\n",
              "70816                                                                                                                                                                                                                                                                                                \"So many kids you hire these days don't read anything.\"   \n",
              "47847                                                                                                                                                                                                                                                                                                                        He doesn't have much of a case.   \n",
              "55800                                                       The final chapter in my career with the company arrived unceremoniously in four very average cardboard boxes.  The belongings were well cared for and meticulously cataloged on labels but I really didn't want to look.  After sixteen years with the company, I knew what the boxes contained.   \n",
              "75602                                                                                                                                                                                                                            A whopping 95 percent of the TV ad spending in the Republican presidential race has come from outside groups and Super PACs   \n",
              "103729  Today, as The Colbert Report airs its final episode, I'm looking back with gratitude on nine years of great television. I loved being on the show several times, discussing everything from my Greek accent to self-sabotage to the obnoxious roommate living in my head. Here are some of my favorite moments on The Colbert Report over the years.   \n",
              "\n",
              "             date  year  \n",
              "70816  2015-12-29  2015  \n",
              "47847  2016-09-16  2016  \n",
              "55800  2016-06-18  2016  \n",
              "75602  2015-11-04  2015  \n",
              "103729 2014-12-18  2014  "
            ],
            "text/html": [
              "<div>\n",
              "<style scoped>\n",
              "    .dataframe tbody tr th:only-of-type {\n",
              "        vertical-align: middle;\n",
              "    }\n",
              "\n",
              "    .dataframe tbody tr th {\n",
              "        vertical-align: top;\n",
              "    }\n",
              "\n",
              "    .dataframe thead th {\n",
              "        text-align: right;\n",
              "    }\n",
              "</style>\n",
              "<table border=\"1\" class=\"dataframe\">\n",
              "  <thead>\n",
              "    <tr style=\"text-align: right;\">\n",
              "      <th></th>\n",
              "      <th>category</th>\n",
              "      <th>headline</th>\n",
              "      <th>authors</th>\n",
              "      <th>link</th>\n",
              "      <th>short_description</th>\n",
              "      <th>date</th>\n",
              "      <th>year</th>\n",
              "    </tr>\n",
              "  </thead>\n",
              "  <tbody>\n",
              "    <tr>\n",
              "      <th>70816</th>\n",
              "      <td>MEDIA</td>\n",
              "      <td>Small Town Paper Has Opening For 'Reporter Who Reads'</td>\n",
              "      <td>Chris D'Angelo</td>\n",
              "      <td>https://www.huffingtonpost.com/entry/small-town-paper-has-opening-for-reporter-who-reads_us_56819e15e4b014efe0d8f4c8</td>\n",
              "      <td>\"So many kids you hire these days don't read anything.\"</td>\n",
              "      <td>2015-12-29</td>\n",
              "      <td>2015</td>\n",
              "    </tr>\n",
              "    <tr>\n",
              "      <th>47847</th>\n",
              "      <td>MEDIA</td>\n",
              "      <td>Sean Hannity Threatens To Sue CNN For Slander</td>\n",
              "      <td>Alana Horowitz Satlin</td>\n",
              "      <td>https://www.huffingtonpost.com/entry/sean-hannity-sue-cnn_us_57dba6fae4b0071a6e066f32</td>\n",
              "      <td>He doesn't have much of a case.</td>\n",
              "      <td>2016-09-16</td>\n",
              "      <td>2016</td>\n",
              "    </tr>\n",
              "    <tr>\n",
              "      <th>55800</th>\n",
              "      <td>MEDIA</td>\n",
              "      <td>Silver Bells: Moving On From The Workplace I Loved</td>\n",
              "      <td>Pete Wilgoren, ContributorEmmy winning journalist, blogger, &amp; author</td>\n",
              "      <td>https://www.huffingtonpost.com/entry/silver-bells-moving-on-fr_b_10533374.html</td>\n",
              "      <td>The final chapter in my career with the company arrived unceremoniously in four very average cardboard boxes.  The belongings were well cared for and meticulously cataloged on labels but I really didn't want to look.  After sixteen years with the company, I knew what the boxes contained.</td>\n",
              "      <td>2016-06-18</td>\n",
              "      <td>2016</td>\n",
              "    </tr>\n",
              "    <tr>\n",
              "      <th>75602</th>\n",
              "      <td>MEDIA</td>\n",
              "      <td>95 Percent Of GOP Ad Dollars Comes From Outside Groups</td>\n",
              "      <td>NaN</td>\n",
              "      <td>https://www.huffingtonpost.comhttp://www.nbcnews.com/meet-the-press/super-pacs-outside-groups-dominate-gop-16-ad-spending-n457351</td>\n",
              "      <td>A whopping 95 percent of the TV ad spending in the Republican presidential race has come from outside groups and Super PACs</td>\n",
              "      <td>2015-11-04</td>\n",
              "      <td>2015</td>\n",
              "    </tr>\n",
              "    <tr>\n",
              "      <th>103729</th>\n",
              "      <td>MEDIA</td>\n",
              "      <td>Looking Back at 9 Years of The Colbert Report (VIDEO)</td>\n",
              "      <td>Arianna Huffington, Contributor</td>\n",
              "      <td>https://www.huffingtonpost.com/entry/looking-back-at-9-years-of-the-colbert-report_b_6350384.html</td>\n",
              "      <td>Today, as The Colbert Report airs its final episode, I'm looking back with gratitude on nine years of great television. I loved being on the show several times, discussing everything from my Greek accent to self-sabotage to the obnoxious roommate living in my head. Here are some of my favorite moments on The Colbert Report over the years.</td>\n",
              "      <td>2014-12-18</td>\n",
              "      <td>2014</td>\n",
              "    </tr>\n",
              "  </tbody>\n",
              "</table>\n",
              "</div>"
            ]
          },
          "metadata": {},
          "execution_count": 28
        }
      ]
    },
    {
      "cell_type": "code",
      "source": [
        "raw.loc[raw['category'] == 'WORLDPOST'].sample(5)"
      ],
      "metadata": {
        "colab": {
          "base_uri": "https://localhost:8080/",
          "height": 449
        },
        "id": "FCwr1TgWA4Xr",
        "outputId": "248020b1-dbf8-4316-fa7c-4c0c03b83f87"
      },
      "execution_count": null,
      "outputs": [
        {
          "output_type": "execute_result",
          "data": {
            "text/plain": [
              "         category  \\\n",
              "97130   WORLDPOST   \n",
              "104191  WORLDPOST   \n",
              "117012  WORLDPOST   \n",
              "74113   WORLDPOST   \n",
              "91897   WORLDPOST   \n",
              "\n",
              "                                                                                      headline  \\\n",
              "97130                                             The Ebola Plague: African Heroes and Martyrs   \n",
              "104191                Government and Fans Battle in Court and on the Pitch in Egypt and Turkey   \n",
              "117012                              MH17 And The Long Term Costs Of Russia's Ukraine Incursion   \n",
              "74113                      As Islamist Terrorism Increases, Some Respond...By Assailing Israel   \n",
              "91897   Dear Ben Affleck: My Ancestors Were Slave Owners, Too. Here's What We Can Do About It.   \n",
              "\n",
              "                                                                                                   authors  \\\n",
              "97130                                   Kwei Quartey, ContributorForeign Policy In Focus columnist, author   \n",
              "104191               James Dorsey, ContributorSenior fellow, S. Rajaratnam School of International Studies   \n",
              "117012       Mark Galeotti, ContributorProfessor of Global Affairs at NYUâ€™s Center for Global Affairs...   \n",
              "74113           David Harris, ContributorAJC Chief Executive Officer, Edward and Sandra Meyer Office of...   \n",
              "91897   Thomas Norman DeWolf, ContributorExecutive director, Coming to the Table; Author, Inheriting th...   \n",
              "\n",
              "                                                                                                   link  \\\n",
              "97130   https://www.huffingtonpost.com/entry/the-ebola-plague-african-heroes-and-martyrs_b_6131010.html   \n",
              "104191          https://www.huffingtonpost.com/entry/government-and-fans-battle-in-court_b_6318910.html   \n",
              "117012                      https://www.huffingtonpost.com/entry/putin-russia-mh17-crash_b_5604193.html   \n",
              "74113                     https://www.huffingtonpost.com/entry/as-islamist-terrorism-inc_b_8618712.html   \n",
              "91897                      https://www.huffingtonpost.com/entry/ben-affleck-slave-owners_b_7200510.html   \n",
              "\n",
              "                                                                                                                                                                                                                                                                                             short_description  \\\n",
              "97130   During the height of the Ebola panic, nurse Kacie Hickox, who cared for Ebola victims in Sierra Leone, was forcibly quarantined in New Jersey on her return to the United States. Said a friend and former classmate, \"She's really concerned about her colleagues coming back to the U.S. after her.\"   \n",
              "104191                                                           In Turkey, the government has sought to drive a wedge between militant fans and other supporters by arguing that e-ticketing was a way to combat illegal ticket scalping, increase tax revenues and ensure that stadia are safe for families.   \n",
              "117012                      Courtesy of Malaysia Airlines Flight 17, Putin is now coming to terms with the blowback from his Ukrainian adventure, a hybrid non-linear political-military campaign fought largely through local proxies, and this is something that will dog him for as long as he is in power.   \n",
              "74113                                                                                               For the Swedish foreign minister and, it appears, too many EU nations, the path of least political resistance is to focus obsessively on Israel, irrespective of what else might be going on in the world.   \n",
              "91897                                                                                                                                                     I'm sure you want this whole episode behind you. I get that: I'm related to the most successful transatlantic slave-trading dynasty in U.S. history.   \n",
              "\n",
              "             date  year  \n",
              "97130  2015-03-04  2015  \n",
              "104191 2014-12-13  2014  \n",
              "117012 2014-07-20  2014  \n",
              "74113  2015-11-21  2015  \n",
              "91897  2015-05-04  2015  "
            ],
            "text/html": [
              "<div>\n",
              "<style scoped>\n",
              "    .dataframe tbody tr th:only-of-type {\n",
              "        vertical-align: middle;\n",
              "    }\n",
              "\n",
              "    .dataframe tbody tr th {\n",
              "        vertical-align: top;\n",
              "    }\n",
              "\n",
              "    .dataframe thead th {\n",
              "        text-align: right;\n",
              "    }\n",
              "</style>\n",
              "<table border=\"1\" class=\"dataframe\">\n",
              "  <thead>\n",
              "    <tr style=\"text-align: right;\">\n",
              "      <th></th>\n",
              "      <th>category</th>\n",
              "      <th>headline</th>\n",
              "      <th>authors</th>\n",
              "      <th>link</th>\n",
              "      <th>short_description</th>\n",
              "      <th>date</th>\n",
              "      <th>year</th>\n",
              "    </tr>\n",
              "  </thead>\n",
              "  <tbody>\n",
              "    <tr>\n",
              "      <th>97130</th>\n",
              "      <td>WORLDPOST</td>\n",
              "      <td>The Ebola Plague: African Heroes and Martyrs</td>\n",
              "      <td>Kwei Quartey, ContributorForeign Policy In Focus columnist, author</td>\n",
              "      <td>https://www.huffingtonpost.com/entry/the-ebola-plague-african-heroes-and-martyrs_b_6131010.html</td>\n",
              "      <td>During the height of the Ebola panic, nurse Kacie Hickox, who cared for Ebola victims in Sierra Leone, was forcibly quarantined in New Jersey on her return to the United States. Said a friend and former classmate, \"She's really concerned about her colleagues coming back to the U.S. after her.\"</td>\n",
              "      <td>2015-03-04</td>\n",
              "      <td>2015</td>\n",
              "    </tr>\n",
              "    <tr>\n",
              "      <th>104191</th>\n",
              "      <td>WORLDPOST</td>\n",
              "      <td>Government and Fans Battle in Court and on the Pitch in Egypt and Turkey</td>\n",
              "      <td>James Dorsey, ContributorSenior fellow, S. Rajaratnam School of International Studies</td>\n",
              "      <td>https://www.huffingtonpost.com/entry/government-and-fans-battle-in-court_b_6318910.html</td>\n",
              "      <td>In Turkey, the government has sought to drive a wedge between militant fans and other supporters by arguing that e-ticketing was a way to combat illegal ticket scalping, increase tax revenues and ensure that stadia are safe for families.</td>\n",
              "      <td>2014-12-13</td>\n",
              "      <td>2014</td>\n",
              "    </tr>\n",
              "    <tr>\n",
              "      <th>117012</th>\n",
              "      <td>WORLDPOST</td>\n",
              "      <td>MH17 And The Long Term Costs Of Russia's Ukraine Incursion</td>\n",
              "      <td>Mark Galeotti, ContributorProfessor of Global Affairs at NYUâ€™s Center for Global Affairs...</td>\n",
              "      <td>https://www.huffingtonpost.com/entry/putin-russia-mh17-crash_b_5604193.html</td>\n",
              "      <td>Courtesy of Malaysia Airlines Flight 17, Putin is now coming to terms with the blowback from his Ukrainian adventure, a hybrid non-linear political-military campaign fought largely through local proxies, and this is something that will dog him for as long as he is in power.</td>\n",
              "      <td>2014-07-20</td>\n",
              "      <td>2014</td>\n",
              "    </tr>\n",
              "    <tr>\n",
              "      <th>74113</th>\n",
              "      <td>WORLDPOST</td>\n",
              "      <td>As Islamist Terrorism Increases, Some Respond...By Assailing Israel</td>\n",
              "      <td>David Harris, ContributorAJC Chief Executive Officer, Edward and Sandra Meyer Office of...</td>\n",
              "      <td>https://www.huffingtonpost.com/entry/as-islamist-terrorism-inc_b_8618712.html</td>\n",
              "      <td>For the Swedish foreign minister and, it appears, too many EU nations, the path of least political resistance is to focus obsessively on Israel, irrespective of what else might be going on in the world.</td>\n",
              "      <td>2015-11-21</td>\n",
              "      <td>2015</td>\n",
              "    </tr>\n",
              "    <tr>\n",
              "      <th>91897</th>\n",
              "      <td>WORLDPOST</td>\n",
              "      <td>Dear Ben Affleck: My Ancestors Were Slave Owners, Too. Here's What We Can Do About It.</td>\n",
              "      <td>Thomas Norman DeWolf, ContributorExecutive director, Coming to the Table; Author, Inheriting th...</td>\n",
              "      <td>https://www.huffingtonpost.com/entry/ben-affleck-slave-owners_b_7200510.html</td>\n",
              "      <td>I'm sure you want this whole episode behind you. I get that: I'm related to the most successful transatlantic slave-trading dynasty in U.S. history.</td>\n",
              "      <td>2015-05-04</td>\n",
              "      <td>2015</td>\n",
              "    </tr>\n",
              "  </tbody>\n",
              "</table>\n",
              "</div>"
            ]
          },
          "metadata": {},
          "execution_count": 29
        }
      ]
    },
    {
      "cell_type": "code",
      "source": [
        "raw.loc[raw['category'] == 'THE WORLDPOST'].sample(5)"
      ],
      "metadata": {
        "colab": {
          "base_uri": "https://localhost:8080/",
          "height": 327
        },
        "id": "CMKCeMtFBKhf",
        "outputId": "0125a8d2-7d1b-4ddb-b0a0-3407e339c794"
      },
      "execution_count": null,
      "outputs": [
        {
          "output_type": "execute_result",
          "data": {
            "text/plain": [
              "            category  \\\n",
              "26783  THE WORLDPOST   \n",
              "45611  THE WORLDPOST   \n",
              "41346  THE WORLDPOST   \n",
              "53571  THE WORLDPOST   \n",
              "41343  THE WORLDPOST   \n",
              "\n",
              "                                                                           headline  \\\n",
              "26783                     U.S., China Agree To First Trade Steps Under 100-Day Plan   \n",
              "45611               France Opens Its First Supervised Injection Site For Drug Users   \n",
              "41346                        Africa Is Not Conflicted About Fidel Castroâ€™s Legacy   \n",
              "53571   Hundreds Abducted And Tortured By Egyptian Security Forces, Amnesty Reports   \n",
              "41343  Iraqi Forces Say They've Killed Almost 1,000 Islamic State Fighters In Mosul   \n",
              "\n",
              "                                          authors  \\\n",
              "26783  Ayesha Rascoe and Michael Martina, Reuters   \n",
              "45611                                         NaN   \n",
              "41346                       Lynsey Chutel, Quartz   \n",
              "53571                       Amina Ismail, Reuters   \n",
              "41343    Patrick Markey and Ulf Laessing, Reuters   \n",
              "\n",
              "                                                                                                                       link  \\\n",
              "26783                                    https://www.huffingtonpost.com/entry/trump-china-trade_us_59160883e4b0031e737d930b   \n",
              "45611                     https://www.huffingtonpost.com/entry/france-supervised-injection-site_us_57fce36ee4b0b6a43035681c   \n",
              "41346  https://www.huffingtonpost.com/entry/africa-is-not-conflicted-about-fidel-castros-legacy_us_583c8161e4b03c83311d8d4a   \n",
              "53571                         https://www.huffingtonpost.com/entry/egypt-torture-abduct-dissent_us_57866044e4b08608d332735f   \n",
              "41343           https://www.huffingtonpost.com/entry/iraqi-forces-kill-1000-islamic-state-mosul_us_583c25c7e4b09b60560110d1   \n",
              "\n",
              "                                                                                                                   short_description  \\\n",
              "26783                                                                    â€œThis will help us to bring down the deficit for sure.â€   \n",
              "45611                                     The new center will allows drug users to inject with clean syringes and under supervision.   \n",
              "41346  It was perhaps Cubaâ€™s willingness to fight side-by-side with Africans that made him such a towering figure on the continent   \n",
              "53571                                   An average of three or four people disappear every day, according to the human rights group.   \n",
              "41343                                                              And they've captured almost half of the eastern part of the city.   \n",
              "\n",
              "            date  year  \n",
              "26783 2017-05-12  2017  \n",
              "45611 2016-10-11  2016  \n",
              "41346 2016-11-28  2016  \n",
              "53571 2016-07-13  2016  \n",
              "41343 2016-11-28  2016  "
            ],
            "text/html": [
              "<div>\n",
              "<style scoped>\n",
              "    .dataframe tbody tr th:only-of-type {\n",
              "        vertical-align: middle;\n",
              "    }\n",
              "\n",
              "    .dataframe tbody tr th {\n",
              "        vertical-align: top;\n",
              "    }\n",
              "\n",
              "    .dataframe thead th {\n",
              "        text-align: right;\n",
              "    }\n",
              "</style>\n",
              "<table border=\"1\" class=\"dataframe\">\n",
              "  <thead>\n",
              "    <tr style=\"text-align: right;\">\n",
              "      <th></th>\n",
              "      <th>category</th>\n",
              "      <th>headline</th>\n",
              "      <th>authors</th>\n",
              "      <th>link</th>\n",
              "      <th>short_description</th>\n",
              "      <th>date</th>\n",
              "      <th>year</th>\n",
              "    </tr>\n",
              "  </thead>\n",
              "  <tbody>\n",
              "    <tr>\n",
              "      <th>26783</th>\n",
              "      <td>THE WORLDPOST</td>\n",
              "      <td>U.S., China Agree To First Trade Steps Under 100-Day Plan</td>\n",
              "      <td>Ayesha Rascoe and Michael Martina, Reuters</td>\n",
              "      <td>https://www.huffingtonpost.com/entry/trump-china-trade_us_59160883e4b0031e737d930b</td>\n",
              "      <td>â€œThis will help us to bring down the deficit for sure.â€</td>\n",
              "      <td>2017-05-12</td>\n",
              "      <td>2017</td>\n",
              "    </tr>\n",
              "    <tr>\n",
              "      <th>45611</th>\n",
              "      <td>THE WORLDPOST</td>\n",
              "      <td>France Opens Its First Supervised Injection Site For Drug Users</td>\n",
              "      <td>NaN</td>\n",
              "      <td>https://www.huffingtonpost.com/entry/france-supervised-injection-site_us_57fce36ee4b0b6a43035681c</td>\n",
              "      <td>The new center will allows drug users to inject with clean syringes and under supervision.</td>\n",
              "      <td>2016-10-11</td>\n",
              "      <td>2016</td>\n",
              "    </tr>\n",
              "    <tr>\n",
              "      <th>41346</th>\n",
              "      <td>THE WORLDPOST</td>\n",
              "      <td>Africa Is Not Conflicted About Fidel Castroâ€™s Legacy</td>\n",
              "      <td>Lynsey Chutel, Quartz</td>\n",
              "      <td>https://www.huffingtonpost.com/entry/africa-is-not-conflicted-about-fidel-castros-legacy_us_583c8161e4b03c83311d8d4a</td>\n",
              "      <td>It was perhaps Cubaâ€™s willingness to fight side-by-side with Africans that made him such a towering figure on the continent</td>\n",
              "      <td>2016-11-28</td>\n",
              "      <td>2016</td>\n",
              "    </tr>\n",
              "    <tr>\n",
              "      <th>53571</th>\n",
              "      <td>THE WORLDPOST</td>\n",
              "      <td>Hundreds Abducted And Tortured By Egyptian Security Forces, Amnesty Reports</td>\n",
              "      <td>Amina Ismail, Reuters</td>\n",
              "      <td>https://www.huffingtonpost.com/entry/egypt-torture-abduct-dissent_us_57866044e4b08608d332735f</td>\n",
              "      <td>An average of three or four people disappear every day, according to the human rights group.</td>\n",
              "      <td>2016-07-13</td>\n",
              "      <td>2016</td>\n",
              "    </tr>\n",
              "    <tr>\n",
              "      <th>41343</th>\n",
              "      <td>THE WORLDPOST</td>\n",
              "      <td>Iraqi Forces Say They've Killed Almost 1,000 Islamic State Fighters In Mosul</td>\n",
              "      <td>Patrick Markey and Ulf Laessing, Reuters</td>\n",
              "      <td>https://www.huffingtonpost.com/entry/iraqi-forces-kill-1000-islamic-state-mosul_us_583c25c7e4b09b60560110d1</td>\n",
              "      <td>And they've captured almost half of the eastern part of the city.</td>\n",
              "      <td>2016-11-28</td>\n",
              "      <td>2016</td>\n",
              "    </tr>\n",
              "  </tbody>\n",
              "</table>\n",
              "</div>"
            ]
          },
          "metadata": {},
          "execution_count": 30
        }
      ]
    },
    {
      "cell_type": "code",
      "source": [
        "raw.loc[raw['category'] == 'GOOD NEWS'].sample(5)"
      ],
      "metadata": {
        "colab": {
          "base_uri": "https://localhost:8080/",
          "height": 380
        },
        "id": "9r9xkC-qBaL_",
        "outputId": "15b84037-f99b-4190-b23d-ed10eba59615"
      },
      "execution_count": null,
      "outputs": [
        {
          "output_type": "execute_result",
          "data": {
            "text/plain": [
              "         category  \\\n",
              "70011   GOOD NEWS   \n",
              "113873  GOOD NEWS   \n",
              "49222   GOOD NEWS   \n",
              "75401   GOOD NEWS   \n",
              "80574   GOOD NEWS   \n",
              "\n",
              "                                                                           headline  \\\n",
              "70011   Viral Photo Captures Incredible Moment Between Police Officer, Homeless Man   \n",
              "113873                                                          A Dog Day Afternoon   \n",
              "49222        College Football Player Spots Boy Sitting Alone At Lunch And Joins Him   \n",
              "75401           This Boy Has Outsmarted Us All With His Perfect Math Problem Answer   \n",
              "80574    Clap Your Flippers For Hawaii Hospital That Rescued 2 Endangered Seal Pups   \n",
              "\n",
              "                                                         authors  \\\n",
              "70011                                               Kimberly Yam   \n",
              "113873  Ben Purdy, ContributorOccasional writer, full-time human   \n",
              "49222                                             Nina Golgowski   \n",
              "75401                                               Kimberly Yam   \n",
              "80574                                             Chris D'Angelo   \n",
              "\n",
              "                                                                                                                                                     link  \\\n",
              "70011   https://www.huffingtonpost.com/entry/deputy-brings-homeless-man-he-saw-on-side-of-highway-to-mcdonalds-so-hed-be-warm_us_568d5698e4b0a2b6fb6e4265   \n",
              "113873                                                                            https://www.huffingtonpost.com/entry/a-dog-day-afternoon_b_5703338.html   \n",
              "49222                 https://www.huffingtonpost.com/entry/this-college-football-players-heartwarming-act-left-a-mom-in-tears_us_57c6ce26e4b0e60d31dc3a5a   \n",
              "75401                                                              https://www.huffingtonpost.com/entry/boy-funny-math-answer_us_563bba84e4b0411d30702903   \n",
              "80574                                                        https://www.huffingtonpost.com/entry/hawaiian-monk-seal-hospital_us_55f07f86e4b093be51bd33b9   \n",
              "\n",
              "                                                                                                                                                                                       short_description  \\\n",
              "70011                                                                                                             \"All it takes is a simple act of kindness to change someone's day, and possibly life.\"   \n",
              "113873  With the constant stream of horrible (although important) news stories out there right now, I would like to share a story about a small community of strangers coming together for a good cause.   \n",
              "49222                                                                                      â€œThis is one day I didnâ€™t have to worry if my sweet boy ate lunch alone,\" the child's overjoyed mom said.   \n",
              "75401                                                                                                                                                                                This is everything.   \n",
              "80574                                                                                                                                         \"Each individual counts when you only have 1,100 animals.\"   \n",
              "\n",
              "             date  year  \n",
              "70011  2016-01-07  2016  \n",
              "113873 2014-08-24  2014  \n",
              "49222  2016-08-31  2016  \n",
              "75401  2015-11-06  2015  \n",
              "80574  2015-09-10  2015  "
            ],
            "text/html": [
              "<div>\n",
              "<style scoped>\n",
              "    .dataframe tbody tr th:only-of-type {\n",
              "        vertical-align: middle;\n",
              "    }\n",
              "\n",
              "    .dataframe tbody tr th {\n",
              "        vertical-align: top;\n",
              "    }\n",
              "\n",
              "    .dataframe thead th {\n",
              "        text-align: right;\n",
              "    }\n",
              "</style>\n",
              "<table border=\"1\" class=\"dataframe\">\n",
              "  <thead>\n",
              "    <tr style=\"text-align: right;\">\n",
              "      <th></th>\n",
              "      <th>category</th>\n",
              "      <th>headline</th>\n",
              "      <th>authors</th>\n",
              "      <th>link</th>\n",
              "      <th>short_description</th>\n",
              "      <th>date</th>\n",
              "      <th>year</th>\n",
              "    </tr>\n",
              "  </thead>\n",
              "  <tbody>\n",
              "    <tr>\n",
              "      <th>70011</th>\n",
              "      <td>GOOD NEWS</td>\n",
              "      <td>Viral Photo Captures Incredible Moment Between Police Officer, Homeless Man</td>\n",
              "      <td>Kimberly Yam</td>\n",
              "      <td>https://www.huffingtonpost.com/entry/deputy-brings-homeless-man-he-saw-on-side-of-highway-to-mcdonalds-so-hed-be-warm_us_568d5698e4b0a2b6fb6e4265</td>\n",
              "      <td>\"All it takes is a simple act of kindness to change someone's day, and possibly life.\"</td>\n",
              "      <td>2016-01-07</td>\n",
              "      <td>2016</td>\n",
              "    </tr>\n",
              "    <tr>\n",
              "      <th>113873</th>\n",
              "      <td>GOOD NEWS</td>\n",
              "      <td>A Dog Day Afternoon</td>\n",
              "      <td>Ben Purdy, ContributorOccasional writer, full-time human</td>\n",
              "      <td>https://www.huffingtonpost.com/entry/a-dog-day-afternoon_b_5703338.html</td>\n",
              "      <td>With the constant stream of horrible (although important) news stories out there right now, I would like to share a story about a small community of strangers coming together for a good cause.</td>\n",
              "      <td>2014-08-24</td>\n",
              "      <td>2014</td>\n",
              "    </tr>\n",
              "    <tr>\n",
              "      <th>49222</th>\n",
              "      <td>GOOD NEWS</td>\n",
              "      <td>College Football Player Spots Boy Sitting Alone At Lunch And Joins Him</td>\n",
              "      <td>Nina Golgowski</td>\n",
              "      <td>https://www.huffingtonpost.com/entry/this-college-football-players-heartwarming-act-left-a-mom-in-tears_us_57c6ce26e4b0e60d31dc3a5a</td>\n",
              "      <td>â€œThis is one day I didnâ€™t have to worry if my sweet boy ate lunch alone,\" the child's overjoyed mom said.</td>\n",
              "      <td>2016-08-31</td>\n",
              "      <td>2016</td>\n",
              "    </tr>\n",
              "    <tr>\n",
              "      <th>75401</th>\n",
              "      <td>GOOD NEWS</td>\n",
              "      <td>This Boy Has Outsmarted Us All With His Perfect Math Problem Answer</td>\n",
              "      <td>Kimberly Yam</td>\n",
              "      <td>https://www.huffingtonpost.com/entry/boy-funny-math-answer_us_563bba84e4b0411d30702903</td>\n",
              "      <td>This is everything.</td>\n",
              "      <td>2015-11-06</td>\n",
              "      <td>2015</td>\n",
              "    </tr>\n",
              "    <tr>\n",
              "      <th>80574</th>\n",
              "      <td>GOOD NEWS</td>\n",
              "      <td>Clap Your Flippers For Hawaii Hospital That Rescued 2 Endangered Seal Pups</td>\n",
              "      <td>Chris D'Angelo</td>\n",
              "      <td>https://www.huffingtonpost.com/entry/hawaiian-monk-seal-hospital_us_55f07f86e4b093be51bd33b9</td>\n",
              "      <td>\"Each individual counts when you only have 1,100 animals.\"</td>\n",
              "      <td>2015-09-10</td>\n",
              "      <td>2015</td>\n",
              "    </tr>\n",
              "  </tbody>\n",
              "</table>\n",
              "</div>"
            ]
          },
          "metadata": {},
          "execution_count": 31
        }
      ]
    },
    {
      "cell_type": "code",
      "source": [
        "raw.loc[raw['category'] == 'WEDDINGS'].sample(5)"
      ],
      "metadata": {
        "colab": {
          "base_uri": "https://localhost:8080/",
          "height": 362
        },
        "id": "GVB4tNYVCUS5",
        "outputId": "16633bf2-81d7-420e-cc6c-519626db65df"
      },
      "execution_count": null,
      "outputs": [
        {
          "output_type": "execute_result",
          "data": {
            "text/plain": [
              "        category  \\\n",
              "151528  WEDDINGS   \n",
              "158214  WEDDINGS   \n",
              "139560  WEDDINGS   \n",
              "137139  WEDDINGS   \n",
              "127258  WEDDINGS   \n",
              "\n",
              "                                                                                   headline  \\\n",
              "151528  Golden Gate Bridge Proposal: San Francisco Man Pops The Question From Top Of Bridge   \n",
              "158214                                  Real Weddings: Couples Who Got Married This Weekend   \n",
              "139560                                                             Marrying an Entrepreneur   \n",
              "137139                                                10 Tips For The DIY Bride (and Groom)   \n",
              "127258                                               How to Make Marriage Work for 64 Years   \n",
              "\n",
              "                                                                                         authors  \\\n",
              "151528                                                                                       NaN   \n",
              "158214                                                                                       NaN   \n",
              "139560  Lauren Van Horn, Contributor\\nStrategic Partnerships at Facebook; Co-founder of Bushakan   \n",
              "137139                                                         Jill Bieker, Contributor\\nBlogger   \n",
              "127258                         Anthony Silard, Contributor\\nCEO, The Global Leadership Institute   \n",
              "\n",
              "                                                                                                link  \\\n",
              "151528  https://www.huffingtonpost.com/entry/golden-gate-bridge-proposal_us_5b9d54dce4b03a1dcc86bb4f   \n",
              "158214    https://www.huffingtonpost.com/entry/real-weddings-couples-who_us_5b9d1bede4b03a1dcc84861d   \n",
              "139560     https://www.huffingtonpost.com/entry/marrying-an-entrepreneur_us_5b9da857e4b03a1dcc8af002   \n",
              "137139    https://www.huffingtonpost.com/entry/10-tips-for-the-diy-bride_us_5b9dac78e4b03a1dcc8b3eb4   \n",
              "127258    https://www.huffingtonpost.com/entry/how-to-make-marriage-work_us_5b9df12fe4b03a1dcc8f3370   \n",
              "\n",
              "                                                                                                                                                                                                                                short_description  \\\n",
              "151528                                                                                                                 \"Jordan immediately began crying when I got down on one knee,\" Gonzales said. \"We had been together for five years and she   \n",
              "158214                                                                                                                 Our readers who tied the knot this weekend took their Big Day celebrations all around the globe -- from stateside weddings   \n",
              "139560  This week my husband announced that he is leaving Path to start his own company with a close friend and co-worker. In Silicon Valley, an announcement like this is expected, the norm, no big deal. The thing is, it is terrifying to me.   \n",
              "137139                                                                                  We ended up having everything we wanted and more, while coming in way, way under budget. Here are our tips for planning your DIY day, from the ground up.   \n",
              "127258                                                                                                                  As you think about how to create a life filled with stable, long-term intimacy, remember that the most important thing in   \n",
              "\n",
              "             date  year  \n",
              "151528 2013-07-09  2013  \n",
              "158214 2013-04-29  2013  \n",
              "139560 2013-11-12  2013  \n",
              "137139 2013-12-07  2013  \n",
              "127258 2014-03-24  2014  "
            ],
            "text/html": [
              "<div>\n",
              "<style scoped>\n",
              "    .dataframe tbody tr th:only-of-type {\n",
              "        vertical-align: middle;\n",
              "    }\n",
              "\n",
              "    .dataframe tbody tr th {\n",
              "        vertical-align: top;\n",
              "    }\n",
              "\n",
              "    .dataframe thead th {\n",
              "        text-align: right;\n",
              "    }\n",
              "</style>\n",
              "<table border=\"1\" class=\"dataframe\">\n",
              "  <thead>\n",
              "    <tr style=\"text-align: right;\">\n",
              "      <th></th>\n",
              "      <th>category</th>\n",
              "      <th>headline</th>\n",
              "      <th>authors</th>\n",
              "      <th>link</th>\n",
              "      <th>short_description</th>\n",
              "      <th>date</th>\n",
              "      <th>year</th>\n",
              "    </tr>\n",
              "  </thead>\n",
              "  <tbody>\n",
              "    <tr>\n",
              "      <th>151528</th>\n",
              "      <td>WEDDINGS</td>\n",
              "      <td>Golden Gate Bridge Proposal: San Francisco Man Pops The Question From Top Of Bridge</td>\n",
              "      <td>NaN</td>\n",
              "      <td>https://www.huffingtonpost.com/entry/golden-gate-bridge-proposal_us_5b9d54dce4b03a1dcc86bb4f</td>\n",
              "      <td>\"Jordan immediately began crying when I got down on one knee,\" Gonzales said. \"We had been together for five years and she</td>\n",
              "      <td>2013-07-09</td>\n",
              "      <td>2013</td>\n",
              "    </tr>\n",
              "    <tr>\n",
              "      <th>158214</th>\n",
              "      <td>WEDDINGS</td>\n",
              "      <td>Real Weddings: Couples Who Got Married This Weekend</td>\n",
              "      <td>NaN</td>\n",
              "      <td>https://www.huffingtonpost.com/entry/real-weddings-couples-who_us_5b9d1bede4b03a1dcc84861d</td>\n",
              "      <td>Our readers who tied the knot this weekend took their Big Day celebrations all around the globe -- from stateside weddings</td>\n",
              "      <td>2013-04-29</td>\n",
              "      <td>2013</td>\n",
              "    </tr>\n",
              "    <tr>\n",
              "      <th>139560</th>\n",
              "      <td>WEDDINGS</td>\n",
              "      <td>Marrying an Entrepreneur</td>\n",
              "      <td>Lauren Van Horn, Contributor\\nStrategic Partnerships at Facebook; Co-founder of Bushakan</td>\n",
              "      <td>https://www.huffingtonpost.com/entry/marrying-an-entrepreneur_us_5b9da857e4b03a1dcc8af002</td>\n",
              "      <td>This week my husband announced that he is leaving Path to start his own company with a close friend and co-worker. In Silicon Valley, an announcement like this is expected, the norm, no big deal. The thing is, it is terrifying to me.</td>\n",
              "      <td>2013-11-12</td>\n",
              "      <td>2013</td>\n",
              "    </tr>\n",
              "    <tr>\n",
              "      <th>137139</th>\n",
              "      <td>WEDDINGS</td>\n",
              "      <td>10 Tips For The DIY Bride (and Groom)</td>\n",
              "      <td>Jill Bieker, Contributor\\nBlogger</td>\n",
              "      <td>https://www.huffingtonpost.com/entry/10-tips-for-the-diy-bride_us_5b9dac78e4b03a1dcc8b3eb4</td>\n",
              "      <td>We ended up having everything we wanted and more, while coming in way, way under budget. Here are our tips for planning your DIY day, from the ground up.</td>\n",
              "      <td>2013-12-07</td>\n",
              "      <td>2013</td>\n",
              "    </tr>\n",
              "    <tr>\n",
              "      <th>127258</th>\n",
              "      <td>WEDDINGS</td>\n",
              "      <td>How to Make Marriage Work for 64 Years</td>\n",
              "      <td>Anthony Silard, Contributor\\nCEO, The Global Leadership Institute</td>\n",
              "      <td>https://www.huffingtonpost.com/entry/how-to-make-marriage-work_us_5b9df12fe4b03a1dcc8f3370</td>\n",
              "      <td>As you think about how to create a life filled with stable, long-term intimacy, remember that the most important thing in</td>\n",
              "      <td>2014-03-24</td>\n",
              "      <td>2014</td>\n",
              "    </tr>\n",
              "  </tbody>\n",
              "</table>\n",
              "</div>"
            ]
          },
          "metadata": {},
          "execution_count": 32
        }
      ]
    },
    {
      "cell_type": "code",
      "source": [
        "raw.loc[raw['category'] == 'WOMEN'].sample(5)"
      ],
      "metadata": {
        "colab": {
          "base_uri": "https://localhost:8080/",
          "height": 535
        },
        "id": "5-kxoHT4CyBu",
        "outputId": "f128fcb1-c72f-4296-d477-2f4ad7230e4c"
      },
      "execution_count": null,
      "outputs": [
        {
          "output_type": "execute_result",
          "data": {
            "text/plain": [
              "       category  \\\n",
              "122650    WOMEN   \n",
              "58633     WOMEN   \n",
              "50416     WOMEN   \n",
              "117033    WOMEN   \n",
              "107035    WOMEN   \n",
              "\n",
              "                                                                 headline  \\\n",
              "122650                               Should Women Apologize for Abortion?   \n",
              "58633   Crossing The Line: How Donald Trump Behaved With Women In Private   \n",
              "50416    'Inside Amy Schumer' Writer Goes On Lengthy, Victim-Blaming Rant   \n",
              "117033                                      Every Woman Has a Bikini Body   \n",
              "107035                          How My Single Mom Made Me A Male Feminist   \n",
              "\n",
              "                                                                                        authors  \\\n",
              "122650  Dennis Trainor, ContributorCreator of Acronym TV/ Director- American Autumn: an Occudoc   \n",
              "58633                                                                                       NaN   \n",
              "50416                                                                           Alanna Vagianos   \n",
              "117033                                                        Tony Posnanski, ContributorWriter   \n",
              "107035                          TueNight, ContributorStories From Life's Middle. Every Tuesday.   \n",
              "\n",
              "                                                                                                                                  link  \\\n",
              "122650                                         https://www.huffingtonpost.com/entry/should-women-apologize-for-abortion_b_5334828.html   \n",
              "58633                              https://www.huffingtonpost.comhttp://www.nytimes.com/2016/05/15/us/politics/donald-trump-women.html   \n",
              "50416   https://www.huffingtonpost.com/entry/inside-amy-schumer-writer-goes-on-lengthy-victim-blaming-rant_us_57b4b79ce4b095b2f5421f52   \n",
              "117033                                               https://www.huffingtonpost.com/entry/every-woman-has-a-bikini-body_b_5154818.html   \n",
              "107035                                    https://www.huffingtonpost.com/entry/i-learned-to-be-a-feminist-my-single-mom_b_6117444.html   \n",
              "\n",
              "                                                                                                                                                                                                                                                                                                                                                              short_description  \\\n",
              "122650                                                                                                                                                  In the United Sates, one out of every three women has had an abortion. If you are a women living in Texas and a growing number of states, access to this basic, simple and safe procedure has been severely restricted.   \n",
              "58633                                                                                                                                                                                                                                                                        Donald J. Trump had barely met Rowanne Brewer Lane when he asked her to change out of her clothes.   \n",
              "50416                                                                                                                                                                                                                                                                                                                   â€œI am so saddened and disappointed,\" tweeted Schumer.   \n",
              "117033                                                                                        The media makes it out to be a myth. A goal for every summer. No one truly has the bikini body that fitness/health publications talk about because it is not real. It is fictional. Yet, they give you just a few easy steps to get the body \"they\" want... not the one you want.   \n",
              "107035  I used to think that my mom made her stand when I was seven in order to teach me to be a gentleman, a concept laden with the trappings of chivalry, often landing at odds with the equality demanded by feminism. Now I realize that she was actually teaching me that it was my job to show respect, keep my head up and look at the world through the lens of others.   \n",
              "\n",
              "             date  year  \n",
              "122650 2014-05-16  2014  \n",
              "58633  2016-05-16  2016  \n",
              "50416  2016-08-17  2016  \n",
              "117033 2014-07-19  2014  \n",
              "107035 2014-11-10  2014  "
            ],
            "text/html": [
              "<div>\n",
              "<style scoped>\n",
              "    .dataframe tbody tr th:only-of-type {\n",
              "        vertical-align: middle;\n",
              "    }\n",
              "\n",
              "    .dataframe tbody tr th {\n",
              "        vertical-align: top;\n",
              "    }\n",
              "\n",
              "    .dataframe thead th {\n",
              "        text-align: right;\n",
              "    }\n",
              "</style>\n",
              "<table border=\"1\" class=\"dataframe\">\n",
              "  <thead>\n",
              "    <tr style=\"text-align: right;\">\n",
              "      <th></th>\n",
              "      <th>category</th>\n",
              "      <th>headline</th>\n",
              "      <th>authors</th>\n",
              "      <th>link</th>\n",
              "      <th>short_description</th>\n",
              "      <th>date</th>\n",
              "      <th>year</th>\n",
              "    </tr>\n",
              "  </thead>\n",
              "  <tbody>\n",
              "    <tr>\n",
              "      <th>122650</th>\n",
              "      <td>WOMEN</td>\n",
              "      <td>Should Women Apologize for Abortion?</td>\n",
              "      <td>Dennis Trainor, ContributorCreator of Acronym TV/ Director- American Autumn: an Occudoc</td>\n",
              "      <td>https://www.huffingtonpost.com/entry/should-women-apologize-for-abortion_b_5334828.html</td>\n",
              "      <td>In the United Sates, one out of every three women has had an abortion. If you are a women living in Texas and a growing number of states, access to this basic, simple and safe procedure has been severely restricted.</td>\n",
              "      <td>2014-05-16</td>\n",
              "      <td>2014</td>\n",
              "    </tr>\n",
              "    <tr>\n",
              "      <th>58633</th>\n",
              "      <td>WOMEN</td>\n",
              "      <td>Crossing The Line: How Donald Trump Behaved With Women In Private</td>\n",
              "      <td>NaN</td>\n",
              "      <td>https://www.huffingtonpost.comhttp://www.nytimes.com/2016/05/15/us/politics/donald-trump-women.html</td>\n",
              "      <td>Donald J. Trump had barely met Rowanne Brewer Lane when he asked her to change out of her clothes.</td>\n",
              "      <td>2016-05-16</td>\n",
              "      <td>2016</td>\n",
              "    </tr>\n",
              "    <tr>\n",
              "      <th>50416</th>\n",
              "      <td>WOMEN</td>\n",
              "      <td>'Inside Amy Schumer' Writer Goes On Lengthy, Victim-Blaming Rant</td>\n",
              "      <td>Alanna Vagianos</td>\n",
              "      <td>https://www.huffingtonpost.com/entry/inside-amy-schumer-writer-goes-on-lengthy-victim-blaming-rant_us_57b4b79ce4b095b2f5421f52</td>\n",
              "      <td>â€œI am so saddened and disappointed,\" tweeted Schumer.</td>\n",
              "      <td>2016-08-17</td>\n",
              "      <td>2016</td>\n",
              "    </tr>\n",
              "    <tr>\n",
              "      <th>117033</th>\n",
              "      <td>WOMEN</td>\n",
              "      <td>Every Woman Has a Bikini Body</td>\n",
              "      <td>Tony Posnanski, ContributorWriter</td>\n",
              "      <td>https://www.huffingtonpost.com/entry/every-woman-has-a-bikini-body_b_5154818.html</td>\n",
              "      <td>The media makes it out to be a myth. A goal for every summer. No one truly has the bikini body that fitness/health publications talk about because it is not real. It is fictional. Yet, they give you just a few easy steps to get the body \"they\" want... not the one you want.</td>\n",
              "      <td>2014-07-19</td>\n",
              "      <td>2014</td>\n",
              "    </tr>\n",
              "    <tr>\n",
              "      <th>107035</th>\n",
              "      <td>WOMEN</td>\n",
              "      <td>How My Single Mom Made Me A Male Feminist</td>\n",
              "      <td>TueNight, ContributorStories From Life's Middle. Every Tuesday.</td>\n",
              "      <td>https://www.huffingtonpost.com/entry/i-learned-to-be-a-feminist-my-single-mom_b_6117444.html</td>\n",
              "      <td>I used to think that my mom made her stand when I was seven in order to teach me to be a gentleman, a concept laden with the trappings of chivalry, often landing at odds with the equality demanded by feminism. Now I realize that she was actually teaching me that it was my job to show respect, keep my head up and look at the world through the lens of others.</td>\n",
              "      <td>2014-11-10</td>\n",
              "      <td>2014</td>\n",
              "    </tr>\n",
              "  </tbody>\n",
              "</table>\n",
              "</div>"
            ]
          },
          "metadata": {},
          "execution_count": 33
        }
      ]
    },
    {
      "cell_type": "code",
      "source": [
        "raw.loc[raw['category'] == 'HOME & LIVING'].sample(5)"
      ],
      "metadata": {
        "colab": {
          "base_uri": "https://localhost:8080/",
          "height": 327
        },
        "id": "FgPsQOEyDdbg",
        "outputId": "ce2252fb-1942-4565-b5d8-ab2bdf8b43b1"
      },
      "execution_count": null,
      "outputs": [
        {
          "output_type": "execute_result",
          "data": {
            "text/plain": [
              "             category  \\\n",
              "152595  HOME & LIVING   \n",
              "199384  HOME & LIVING   \n",
              "171438  HOME & LIVING   \n",
              "165349  HOME & LIVING   \n",
              "136114  HOME & LIVING   \n",
              "\n",
              "                                                                                                                headline  \\\n",
              "152595  Celebrities With Green Homes: Jessica Alba, Lisa Ling and Four Other A-Listers With Eco-Friendly Houses (PHOTOS)   \n",
              "199384                                                                                            How to Lay Paver Patio   \n",
              "171438                                                     Holiday Checklist: Everything You Need To Celebrate Christmas   \n",
              "165349                                                                            How to Host a Brunch for Your Sweeties   \n",
              "136114                                         Stunning NYC Apartment 'Mansion' Used To Be A Vacant Parking Lot (PHOTOS)   \n",
              "\n",
              "                                                authors  \\\n",
              "152595                                      Shana Ecker   \n",
              "199384  Eric Stromer, Contributor\\nHost, Over Your Head   \n",
              "171438                                      Shana Ecker   \n",
              "165349                GalTime, Contributor\\nContributor   \n",
              "136114                                              NaN   \n",
              "\n",
              "                                                                                                link  \\\n",
              "152595      https://www.huffingtonpost.com/entry/celebrities-green-homes_us_5b9d4d8be4b03a1dcc867203   \n",
              "199384       https://www.huffingtonpost.com/entry/how-to-lay-paver-patio_us_5b9b5289e4b03a1dcc769cfe   \n",
              "171438  https://www.huffingtonpost.com/entry/holiday-checklist-christmas_us_5b9c9a8de4b03a1dcc803914   \n",
              "165349   https://www.huffingtonpost.com/entry/valentines-day-brunch-tips_us_5b9cd271e4b03a1dcc8222ce   \n",
              "136114        https://www.huffingtonpost.com/entry/nyc-apartment-mansion_us_5b9db8d5e4b03a1dcc8c0559   \n",
              "\n",
              "                                                                                                                                                                  short_description  \\\n",
              "152595                                                                                   Though we're not sure a 22,000-square-foot mansion would ever be approved by Mother Earth.   \n",
              "199384                                                                                   Installing a pavers patio is a great, durable way to create a walkway through your garden.   \n",
              "171438                                                                                                                         Everything youâ€™ll need to be the ultimate hostess.   \n",
              "165349  Valentine's Day doesn't necessarily mean a table for two! The holiday can be even sweeter when toasting to the relationships that last us all year with a group of friends.   \n",
              "136114                                               ** Enter the visionaries at design firm SFA Design, who stepped in to overhaul the 29,702 square-foot space that most recently   \n",
              "\n",
              "             date  year  \n",
              "152595 2013-06-27  2013  \n",
              "199384 2012-02-13  2012  \n",
              "171438 2012-12-10  2012  \n",
              "165349 2013-02-13  2013  \n",
              "136114 2013-12-18  2013  "
            ],
            "text/html": [
              "<div>\n",
              "<style scoped>\n",
              "    .dataframe tbody tr th:only-of-type {\n",
              "        vertical-align: middle;\n",
              "    }\n",
              "\n",
              "    .dataframe tbody tr th {\n",
              "        vertical-align: top;\n",
              "    }\n",
              "\n",
              "    .dataframe thead th {\n",
              "        text-align: right;\n",
              "    }\n",
              "</style>\n",
              "<table border=\"1\" class=\"dataframe\">\n",
              "  <thead>\n",
              "    <tr style=\"text-align: right;\">\n",
              "      <th></th>\n",
              "      <th>category</th>\n",
              "      <th>headline</th>\n",
              "      <th>authors</th>\n",
              "      <th>link</th>\n",
              "      <th>short_description</th>\n",
              "      <th>date</th>\n",
              "      <th>year</th>\n",
              "    </tr>\n",
              "  </thead>\n",
              "  <tbody>\n",
              "    <tr>\n",
              "      <th>152595</th>\n",
              "      <td>HOME &amp; LIVING</td>\n",
              "      <td>Celebrities With Green Homes: Jessica Alba, Lisa Ling and Four Other A-Listers With Eco-Friendly Houses (PHOTOS)</td>\n",
              "      <td>Shana Ecker</td>\n",
              "      <td>https://www.huffingtonpost.com/entry/celebrities-green-homes_us_5b9d4d8be4b03a1dcc867203</td>\n",
              "      <td>Though we're not sure a 22,000-square-foot mansion would ever be approved by Mother Earth.</td>\n",
              "      <td>2013-06-27</td>\n",
              "      <td>2013</td>\n",
              "    </tr>\n",
              "    <tr>\n",
              "      <th>199384</th>\n",
              "      <td>HOME &amp; LIVING</td>\n",
              "      <td>How to Lay Paver Patio</td>\n",
              "      <td>Eric Stromer, Contributor\\nHost, Over Your Head</td>\n",
              "      <td>https://www.huffingtonpost.com/entry/how-to-lay-paver-patio_us_5b9b5289e4b03a1dcc769cfe</td>\n",
              "      <td>Installing a pavers patio is a great, durable way to create a walkway through your garden.</td>\n",
              "      <td>2012-02-13</td>\n",
              "      <td>2012</td>\n",
              "    </tr>\n",
              "    <tr>\n",
              "      <th>171438</th>\n",
              "      <td>HOME &amp; LIVING</td>\n",
              "      <td>Holiday Checklist: Everything You Need To Celebrate Christmas</td>\n",
              "      <td>Shana Ecker</td>\n",
              "      <td>https://www.huffingtonpost.com/entry/holiday-checklist-christmas_us_5b9c9a8de4b03a1dcc803914</td>\n",
              "      <td>Everything youâ€™ll need to be the ultimate hostess.</td>\n",
              "      <td>2012-12-10</td>\n",
              "      <td>2012</td>\n",
              "    </tr>\n",
              "    <tr>\n",
              "      <th>165349</th>\n",
              "      <td>HOME &amp; LIVING</td>\n",
              "      <td>How to Host a Brunch for Your Sweeties</td>\n",
              "      <td>GalTime, Contributor\\nContributor</td>\n",
              "      <td>https://www.huffingtonpost.com/entry/valentines-day-brunch-tips_us_5b9cd271e4b03a1dcc8222ce</td>\n",
              "      <td>Valentine's Day doesn't necessarily mean a table for two! The holiday can be even sweeter when toasting to the relationships that last us all year with a group of friends.</td>\n",
              "      <td>2013-02-13</td>\n",
              "      <td>2013</td>\n",
              "    </tr>\n",
              "    <tr>\n",
              "      <th>136114</th>\n",
              "      <td>HOME &amp; LIVING</td>\n",
              "      <td>Stunning NYC Apartment 'Mansion' Used To Be A Vacant Parking Lot (PHOTOS)</td>\n",
              "      <td>NaN</td>\n",
              "      <td>https://www.huffingtonpost.com/entry/nyc-apartment-mansion_us_5b9db8d5e4b03a1dcc8c0559</td>\n",
              "      <td>** Enter the visionaries at design firm SFA Design, who stepped in to overhaul the 29,702 square-foot space that most recently</td>\n",
              "      <td>2013-12-18</td>\n",
              "      <td>2013</td>\n",
              "    </tr>\n",
              "  </tbody>\n",
              "</table>\n",
              "</div>"
            ]
          },
          "metadata": {},
          "execution_count": 34
        }
      ]
    },
    {
      "cell_type": "code",
      "source": [
        "raw.loc[raw['category'] == 'TRAVEL'].sample(5)"
      ],
      "metadata": {
        "colab": {
          "base_uri": "https://localhost:8080/",
          "height": 449
        },
        "id": "N6cxJfwaDw79",
        "outputId": "98ee5412-53b7-423a-ea6e-7dd5d952a679"
      },
      "execution_count": null,
      "outputs": [
        {
          "output_type": "execute_result",
          "data": {
            "text/plain": [
              "       category  \\\n",
              "168634   TRAVEL   \n",
              "153506   TRAVEL   \n",
              "186971   TRAVEL   \n",
              "178855   TRAVEL   \n",
              "195519   TRAVEL   \n",
              "\n",
              "                                                                   headline  \\\n",
              "168634  First Choice Seeks Official Slide Tester At SplashWorld Water Parks   \n",
              "153506                   Trend Watch: The Rise of Immersive Role-Play Games   \n",
              "186971                   100 Days: A Summer Of Travel, Writing And Learning   \n",
              "178855        Supermodel Maggie Rizer Claims United Airlines Killed Her Dog   \n",
              "195519         Rick Steve's Road Trip: Atlanta's Naked Dogs And Peach Trees   \n",
              "\n",
              "                                                                                         authors  \\\n",
              "168634                                                                                       NaN   \n",
              "153506  MiniTime, Contributor\\nMiniTime is the first family travel site with personalized rec...   \n",
              "186971                               Kay Rodriguez, Contributor\\nEditor-In-Chief of The Kay Days   \n",
              "178855                                                                         Cavan Sieczkowski   \n",
              "195519                                                     Rick Steves, Contributor\\nContributor   \n",
              "\n",
              "                                                                                                                                                link  \\\n",
              "168634                                        https://www.huffingtonpost.com/entry/first-choice-slide-tester-splashworld_us_5b9cb493e4b03a1dcc810e0d   \n",
              "153506                                                    https://www.huffingtonpost.com/entry/trend-watch-the-rise-of-i_us_5b9d4501e4b03a1dcc862558   \n",
              "186971                                                    https://www.huffingtonpost.com/entry/100-days-a-summer-of-trav_us_5b9bdf37e4b03a1dcc7ae162   \n",
              "178855  https://www.huffingtonpost.com/entry/supermodel-maggie-rizer-united-airlines-killed-her-dog-bea-golden-retriever_us_5b9c51b0e4b03a1dcc7dc83f   \n",
              "195519                                                    https://www.huffingtonpost.com/entry/atlanta-naked-dogs-and-pe_us_5b9b7d10e4b03a1dcc780447   \n",
              "\n",
              "                                                                                                                                                                                                                                                                                                                                       short_description  \\\n",
              "168634                                                                                                                                                                                                                        Now that he is leaving the position for another job, his successor will rate the rides across First Choice's 20 properties   \n",
              "153506                                                                   Taking a cue from the enormous popularity of video games, top family travel destinations are offering high-tech interactive gaming experiences that immerse visitors in a storyline. Here are four places your family can experience this growing trend and get in on the game.   \n",
              "186971  I didn't want my nerves to distract me from my experiences abroad, so on a whim, I bought myself a journal and challenged myself to write, every day, for the next 100 days. Writing every day will help me to capture moments during my travels that I hope to remember for years to come -- little happenings that make a world of difference.   \n",
              "178855                                                                                                                                                                                                                       United Airlines did not respond to Rizer's claim that the airline had \"called our veterinarian and fabricated a story about   \n",
              "195519                                                                                                                                                  Atlanta is clearly the Manhattan of the South. It's CNN slick, Coca-Cola fueled and funded and thriving. Still, I'm not awarding creativity points: 52 streets have \"Peach Tree\" in their names.   \n",
              "\n",
              "             date  year  \n",
              "168634 2013-01-10  2013  \n",
              "153506 2013-06-18  2013  \n",
              "186971 2012-06-25  2012  \n",
              "178855 2012-09-21  2012  \n",
              "195519 2012-03-26  2012  "
            ],
            "text/html": [
              "<div>\n",
              "<style scoped>\n",
              "    .dataframe tbody tr th:only-of-type {\n",
              "        vertical-align: middle;\n",
              "    }\n",
              "\n",
              "    .dataframe tbody tr th {\n",
              "        vertical-align: top;\n",
              "    }\n",
              "\n",
              "    .dataframe thead th {\n",
              "        text-align: right;\n",
              "    }\n",
              "</style>\n",
              "<table border=\"1\" class=\"dataframe\">\n",
              "  <thead>\n",
              "    <tr style=\"text-align: right;\">\n",
              "      <th></th>\n",
              "      <th>category</th>\n",
              "      <th>headline</th>\n",
              "      <th>authors</th>\n",
              "      <th>link</th>\n",
              "      <th>short_description</th>\n",
              "      <th>date</th>\n",
              "      <th>year</th>\n",
              "    </tr>\n",
              "  </thead>\n",
              "  <tbody>\n",
              "    <tr>\n",
              "      <th>168634</th>\n",
              "      <td>TRAVEL</td>\n",
              "      <td>First Choice Seeks Official Slide Tester At SplashWorld Water Parks</td>\n",
              "      <td>NaN</td>\n",
              "      <td>https://www.huffingtonpost.com/entry/first-choice-slide-tester-splashworld_us_5b9cb493e4b03a1dcc810e0d</td>\n",
              "      <td>Now that he is leaving the position for another job, his successor will rate the rides across First Choice's 20 properties</td>\n",
              "      <td>2013-01-10</td>\n",
              "      <td>2013</td>\n",
              "    </tr>\n",
              "    <tr>\n",
              "      <th>153506</th>\n",
              "      <td>TRAVEL</td>\n",
              "      <td>Trend Watch: The Rise of Immersive Role-Play Games</td>\n",
              "      <td>MiniTime, Contributor\\nMiniTime is the first family travel site with personalized rec...</td>\n",
              "      <td>https://www.huffingtonpost.com/entry/trend-watch-the-rise-of-i_us_5b9d4501e4b03a1dcc862558</td>\n",
              "      <td>Taking a cue from the enormous popularity of video games, top family travel destinations are offering high-tech interactive gaming experiences that immerse visitors in a storyline. Here are four places your family can experience this growing trend and get in on the game.</td>\n",
              "      <td>2013-06-18</td>\n",
              "      <td>2013</td>\n",
              "    </tr>\n",
              "    <tr>\n",
              "      <th>186971</th>\n",
              "      <td>TRAVEL</td>\n",
              "      <td>100 Days: A Summer Of Travel, Writing And Learning</td>\n",
              "      <td>Kay Rodriguez, Contributor\\nEditor-In-Chief of The Kay Days</td>\n",
              "      <td>https://www.huffingtonpost.com/entry/100-days-a-summer-of-trav_us_5b9bdf37e4b03a1dcc7ae162</td>\n",
              "      <td>I didn't want my nerves to distract me from my experiences abroad, so on a whim, I bought myself a journal and challenged myself to write, every day, for the next 100 days. Writing every day will help me to capture moments during my travels that I hope to remember for years to come -- little happenings that make a world of difference.</td>\n",
              "      <td>2012-06-25</td>\n",
              "      <td>2012</td>\n",
              "    </tr>\n",
              "    <tr>\n",
              "      <th>178855</th>\n",
              "      <td>TRAVEL</td>\n",
              "      <td>Supermodel Maggie Rizer Claims United Airlines Killed Her Dog</td>\n",
              "      <td>Cavan Sieczkowski</td>\n",
              "      <td>https://www.huffingtonpost.com/entry/supermodel-maggie-rizer-united-airlines-killed-her-dog-bea-golden-retriever_us_5b9c51b0e4b03a1dcc7dc83f</td>\n",
              "      <td>United Airlines did not respond to Rizer's claim that the airline had \"called our veterinarian and fabricated a story about</td>\n",
              "      <td>2012-09-21</td>\n",
              "      <td>2012</td>\n",
              "    </tr>\n",
              "    <tr>\n",
              "      <th>195519</th>\n",
              "      <td>TRAVEL</td>\n",
              "      <td>Rick Steve's Road Trip: Atlanta's Naked Dogs And Peach Trees</td>\n",
              "      <td>Rick Steves, Contributor\\nContributor</td>\n",
              "      <td>https://www.huffingtonpost.com/entry/atlanta-naked-dogs-and-pe_us_5b9b7d10e4b03a1dcc780447</td>\n",
              "      <td>Atlanta is clearly the Manhattan of the South. It's CNN slick, Coca-Cola fueled and funded and thriving. Still, I'm not awarding creativity points: 52 streets have \"Peach Tree\" in their names.</td>\n",
              "      <td>2012-03-26</td>\n",
              "      <td>2012</td>\n",
              "    </tr>\n",
              "  </tbody>\n",
              "</table>\n",
              "</div>"
            ]
          },
          "metadata": {},
          "execution_count": 35
        }
      ]
    },
    {
      "cell_type": "code",
      "source": [
        "raw.loc[raw['category'] == 'STYLE & BEAUTY'].sample(5)"
      ],
      "metadata": {
        "colab": {
          "base_uri": "https://localhost:8080/",
          "height": 293
        },
        "id": "auFgHqFBD8xA",
        "outputId": "b7183489-79e3-44b7-a330-7b0ea7207e3a"
      },
      "execution_count": null,
      "outputs": [
        {
          "output_type": "execute_result",
          "data": {
            "text/plain": [
              "              category  \\\n",
              "179029  STYLE & BEAUTY   \n",
              "193747  STYLE & BEAUTY   \n",
              "149966  STYLE & BEAUTY   \n",
              "191656  STYLE & BEAUTY   \n",
              "195478  STYLE & BEAUTY   \n",
              "\n",
              "                                                                        headline  \\\n",
              "179029             I Lost Weight in 2 Weeks by Giving Up Eating Everything White   \n",
              "193747  Platform Heels For Spring: Our Blogger Network Styles The Trend (PHOTOS)   \n",
              "149966                                   Rita Marley's Regal Head Wraps (PHOTOS)   \n",
              "191656                    Kentucky Derby 2012: Hats & Champagne Galore! (PHOTOS)   \n",
              "195478             Bethenny Frankel: Mother, SkinnyGirl Mogul, Skin Care Expert?   \n",
              "\n",
              "                                         authors  \\\n",
              "179029  Vicky Tiel, Contributor\\nDesigner/Author   \n",
              "193747                           Sarah St. Lifer   \n",
              "149966                               Dana Oliver   \n",
              "191656                                       NaN   \n",
              "195478                               Brooke Bobb   \n",
              "\n",
              "                                                                                                  link  \\\n",
              "179029                    https://www.huffingtonpost.com/entry/weight-loss_us_5b9c27dbe4b03a1dcc7cb11a   \n",
              "193747                 https://www.huffingtonpost.com/entry/platform-shoes_us_5b9b90ffe4b03a1dcc78ab28   \n",
              "149966  https://www.huffingtonpost.com/entry/rita-marley-head-wraps-photos_us_5b9d6128e4b03a1dcc874684   \n",
              "191656       https://www.huffingtonpost.com/entry/kentucky-derby-2012-hats_us_5b9babbce4b03a1dcc797e49   \n",
              "195478   https://www.huffingtonpost.com/entry/bethenny-frankel-skinny-girl_us_5b9b7dd0e4b03a1dcc780ab2   \n",
              "\n",
              "                                                                                                                  short_description  \\\n",
              "179029  I must tell all you ladies how I lost 10 pounds in two weeks by giving up eating everything white! Here is how it happened.   \n",
              "193747   Kate Moss once said, \"If I'm going dancing, then I wear the highest heels with the shortest dress,\" and while I agree with   \n",
              "149966     Remembering Bob Marley: Rita Marley may live in the shadow of her late husband Bob Marley's musical legacy, but she's no   \n",
              "191656    Mixed into the champagne-sipping, horse-cheering fans were several behatted celebrities, including Debra Messing, Tinsley   \n",
              "195478  And on a non-mom note, what to do the morning after a few too many (SkinnyGirl) margaritas? Bethenny told us that she likes   \n",
              "\n",
              "             date  year  \n",
              "179029 2012-09-19  2012  \n",
              "193747 2012-04-13  2012  \n",
              "149966 2013-07-25  2013  \n",
              "191656 2012-05-06  2012  \n",
              "195478 2012-03-26  2012  "
            ],
            "text/html": [
              "<div>\n",
              "<style scoped>\n",
              "    .dataframe tbody tr th:only-of-type {\n",
              "        vertical-align: middle;\n",
              "    }\n",
              "\n",
              "    .dataframe tbody tr th {\n",
              "        vertical-align: top;\n",
              "    }\n",
              "\n",
              "    .dataframe thead th {\n",
              "        text-align: right;\n",
              "    }\n",
              "</style>\n",
              "<table border=\"1\" class=\"dataframe\">\n",
              "  <thead>\n",
              "    <tr style=\"text-align: right;\">\n",
              "      <th></th>\n",
              "      <th>category</th>\n",
              "      <th>headline</th>\n",
              "      <th>authors</th>\n",
              "      <th>link</th>\n",
              "      <th>short_description</th>\n",
              "      <th>date</th>\n",
              "      <th>year</th>\n",
              "    </tr>\n",
              "  </thead>\n",
              "  <tbody>\n",
              "    <tr>\n",
              "      <th>179029</th>\n",
              "      <td>STYLE &amp; BEAUTY</td>\n",
              "      <td>I Lost Weight in 2 Weeks by Giving Up Eating Everything White</td>\n",
              "      <td>Vicky Tiel, Contributor\\nDesigner/Author</td>\n",
              "      <td>https://www.huffingtonpost.com/entry/weight-loss_us_5b9c27dbe4b03a1dcc7cb11a</td>\n",
              "      <td>I must tell all you ladies how I lost 10 pounds in two weeks by giving up eating everything white! Here is how it happened.</td>\n",
              "      <td>2012-09-19</td>\n",
              "      <td>2012</td>\n",
              "    </tr>\n",
              "    <tr>\n",
              "      <th>193747</th>\n",
              "      <td>STYLE &amp; BEAUTY</td>\n",
              "      <td>Platform Heels For Spring: Our Blogger Network Styles The Trend (PHOTOS)</td>\n",
              "      <td>Sarah St. Lifer</td>\n",
              "      <td>https://www.huffingtonpost.com/entry/platform-shoes_us_5b9b90ffe4b03a1dcc78ab28</td>\n",
              "      <td>Kate Moss once said, \"If I'm going dancing, then I wear the highest heels with the shortest dress,\" and while I agree with</td>\n",
              "      <td>2012-04-13</td>\n",
              "      <td>2012</td>\n",
              "    </tr>\n",
              "    <tr>\n",
              "      <th>149966</th>\n",
              "      <td>STYLE &amp; BEAUTY</td>\n",
              "      <td>Rita Marley's Regal Head Wraps (PHOTOS)</td>\n",
              "      <td>Dana Oliver</td>\n",
              "      <td>https://www.huffingtonpost.com/entry/rita-marley-head-wraps-photos_us_5b9d6128e4b03a1dcc874684</td>\n",
              "      <td>Remembering Bob Marley: Rita Marley may live in the shadow of her late husband Bob Marley's musical legacy, but she's no</td>\n",
              "      <td>2013-07-25</td>\n",
              "      <td>2013</td>\n",
              "    </tr>\n",
              "    <tr>\n",
              "      <th>191656</th>\n",
              "      <td>STYLE &amp; BEAUTY</td>\n",
              "      <td>Kentucky Derby 2012: Hats &amp; Champagne Galore! (PHOTOS)</td>\n",
              "      <td>NaN</td>\n",
              "      <td>https://www.huffingtonpost.com/entry/kentucky-derby-2012-hats_us_5b9babbce4b03a1dcc797e49</td>\n",
              "      <td>Mixed into the champagne-sipping, horse-cheering fans were several behatted celebrities, including Debra Messing, Tinsley</td>\n",
              "      <td>2012-05-06</td>\n",
              "      <td>2012</td>\n",
              "    </tr>\n",
              "    <tr>\n",
              "      <th>195478</th>\n",
              "      <td>STYLE &amp; BEAUTY</td>\n",
              "      <td>Bethenny Frankel: Mother, SkinnyGirl Mogul, Skin Care Expert?</td>\n",
              "      <td>Brooke Bobb</td>\n",
              "      <td>https://www.huffingtonpost.com/entry/bethenny-frankel-skinny-girl_us_5b9b7dd0e4b03a1dcc780ab2</td>\n",
              "      <td>And on a non-mom note, what to do the morning after a few too many (SkinnyGirl) margaritas? Bethenny told us that she likes</td>\n",
              "      <td>2012-03-26</td>\n",
              "      <td>2012</td>\n",
              "    </tr>\n",
              "  </tbody>\n",
              "</table>\n",
              "</div>"
            ]
          },
          "metadata": {},
          "execution_count": 36
        }
      ]
    },
    {
      "cell_type": "code",
      "source": [
        "raw.loc[raw['category'] == 'IMPACT'].sample(5)"
      ],
      "metadata": {
        "colab": {
          "base_uri": "https://localhost:8080/",
          "height": 415
        },
        "id": "VXI0lUuqazLS",
        "outputId": "ccdc1bcb-8294-4d6b-97ab-ed13776abaed"
      },
      "execution_count": null,
      "outputs": [
        {
          "output_type": "execute_result",
          "data": {
            "text/plain": [
              "       category  \\\n",
              "131325   IMPACT   \n",
              "17739    IMPACT   \n",
              "104517   IMPACT   \n",
              "138084   IMPACT   \n",
              "12008    IMPACT   \n",
              "\n",
              "                                                                                                 headline  \\\n",
              "131325  A Florida County Spent Over $5 Million Jailing Homeless People. It Could've Spent Less On Shelter   \n",
              "17739                                  Houston Businessman Turns His Furniture Stores Into Storm Shelters   \n",
              "104517                            Hope Lives Here: Art and Nature Breathe New Life Into Downtown Kingston   \n",
              "138084                                                             How-To Use Ambiguity to Pioneer Change   \n",
              "12008                                   Trump And Transforming Capitalism: Making Our Movement See Itself   \n",
              "\n",
              "                                                                                          authors  \\\n",
              "131325                                                                           Eleanor Goldberg   \n",
              "17739                                                                              Nina Golgowski   \n",
              "104517                                Kirk-Anthony Hamilton, ContributorEntrepreneur and investor   \n",
              "138084                 Jonathan C. Lewis, Contributor\\nAuthor, The Unfinished Social Entreprenuer   \n",
              "12008   Otto Scharmer, ContributorSenior Lecturer, MIT; Co-founder u.lab and Presencing Institute   \n",
              "\n",
              "                                                                                                                          link  \\\n",
              "131325                          https://www.huffingtonpost.com/entry/housing-homeless-people-costs_us_5bb1bbcfe4b01857b70b2562   \n",
              "17739                   https://www.huffingtonpost.com/entry/furniture-stores-turned-into-shelters_us_59a57622e4b0446b3b867b49   \n",
              "104517                                                     https://www.huffingtonpost.com/entry/hope-lives-here_b_6269476.html   \n",
              "138084                              https://www.huffingtonpost.com/entry/howto-use-ambiguity-to-pi_us_5bb1b81ee4b01857b70ad648   \n",
              "12008   https://www.huffingtonpost.com/entry/trump-and-transforming-capitalism-making-our-movement_us_5a06ef9ce4b0f1dc729a6b39   \n",
              "\n",
              "                                                                                                                                                                                                                                                                                      short_description  \\\n",
              "131325                                                                                                                                                                      \"We set about this challenge ... with a united purpose, and, as a result, Phoenix can take its place as role model city for   \n",
              "17739                                                                                                                                                                                                   The owner of Gallery Furniture says he's welcomed 400 Texans with hot food and a place to rest.   \n",
              "104517  Fleet Street is now an oasis in a place, which would otherwise seem desolate. Inspiration lies in the simplicity of this beautiful concept. It is hoped that the projects will continue to progress to other at-risk communities -- continuing to break down barriers while transforming lives.   \n",
              "138084                                                                                                                                                                Your commitment to social change is not a function of where you work, but of what you believe in. With a little bit of creativity   \n",
              "12008                                                                                                                                                                  â€œTrump is Americaâ€™s wake-up callâ€ I heard a visitor to the United States say the other day. True. Trumpâ€™s first year has   \n",
              "\n",
              "             date  year  \n",
              "131325 2014-02-08  2014  \n",
              "17739  2017-08-29  2017  \n",
              "104517 2014-12-09  2014  \n",
              "138084 2013-11-28  2013  \n",
              "12008  2017-11-11  2017  "
            ],
            "text/html": [
              "<div>\n",
              "<style scoped>\n",
              "    .dataframe tbody tr th:only-of-type {\n",
              "        vertical-align: middle;\n",
              "    }\n",
              "\n",
              "    .dataframe tbody tr th {\n",
              "        vertical-align: top;\n",
              "    }\n",
              "\n",
              "    .dataframe thead th {\n",
              "        text-align: right;\n",
              "    }\n",
              "</style>\n",
              "<table border=\"1\" class=\"dataframe\">\n",
              "  <thead>\n",
              "    <tr style=\"text-align: right;\">\n",
              "      <th></th>\n",
              "      <th>category</th>\n",
              "      <th>headline</th>\n",
              "      <th>authors</th>\n",
              "      <th>link</th>\n",
              "      <th>short_description</th>\n",
              "      <th>date</th>\n",
              "      <th>year</th>\n",
              "    </tr>\n",
              "  </thead>\n",
              "  <tbody>\n",
              "    <tr>\n",
              "      <th>131325</th>\n",
              "      <td>IMPACT</td>\n",
              "      <td>A Florida County Spent Over $5 Million Jailing Homeless People. It Could've Spent Less On Shelter</td>\n",
              "      <td>Eleanor Goldberg</td>\n",
              "      <td>https://www.huffingtonpost.com/entry/housing-homeless-people-costs_us_5bb1bbcfe4b01857b70b2562</td>\n",
              "      <td>\"We set about this challenge ... with a united purpose, and, as a result, Phoenix can take its place as role model city for</td>\n",
              "      <td>2014-02-08</td>\n",
              "      <td>2014</td>\n",
              "    </tr>\n",
              "    <tr>\n",
              "      <th>17739</th>\n",
              "      <td>IMPACT</td>\n",
              "      <td>Houston Businessman Turns His Furniture Stores Into Storm Shelters</td>\n",
              "      <td>Nina Golgowski</td>\n",
              "      <td>https://www.huffingtonpost.com/entry/furniture-stores-turned-into-shelters_us_59a57622e4b0446b3b867b49</td>\n",
              "      <td>The owner of Gallery Furniture says he's welcomed 400 Texans with hot food and a place to rest.</td>\n",
              "      <td>2017-08-29</td>\n",
              "      <td>2017</td>\n",
              "    </tr>\n",
              "    <tr>\n",
              "      <th>104517</th>\n",
              "      <td>IMPACT</td>\n",
              "      <td>Hope Lives Here: Art and Nature Breathe New Life Into Downtown Kingston</td>\n",
              "      <td>Kirk-Anthony Hamilton, ContributorEntrepreneur and investor</td>\n",
              "      <td>https://www.huffingtonpost.com/entry/hope-lives-here_b_6269476.html</td>\n",
              "      <td>Fleet Street is now an oasis in a place, which would otherwise seem desolate. Inspiration lies in the simplicity of this beautiful concept. It is hoped that the projects will continue to progress to other at-risk communities -- continuing to break down barriers while transforming lives.</td>\n",
              "      <td>2014-12-09</td>\n",
              "      <td>2014</td>\n",
              "    </tr>\n",
              "    <tr>\n",
              "      <th>138084</th>\n",
              "      <td>IMPACT</td>\n",
              "      <td>How-To Use Ambiguity to Pioneer Change</td>\n",
              "      <td>Jonathan C. Lewis, Contributor\\nAuthor, The Unfinished Social Entreprenuer</td>\n",
              "      <td>https://www.huffingtonpost.com/entry/howto-use-ambiguity-to-pi_us_5bb1b81ee4b01857b70ad648</td>\n",
              "      <td>Your commitment to social change is not a function of where you work, but of what you believe in. With a little bit of creativity</td>\n",
              "      <td>2013-11-28</td>\n",
              "      <td>2013</td>\n",
              "    </tr>\n",
              "    <tr>\n",
              "      <th>12008</th>\n",
              "      <td>IMPACT</td>\n",
              "      <td>Trump And Transforming Capitalism: Making Our Movement See Itself</td>\n",
              "      <td>Otto Scharmer, ContributorSenior Lecturer, MIT; Co-founder u.lab and Presencing Institute</td>\n",
              "      <td>https://www.huffingtonpost.com/entry/trump-and-transforming-capitalism-making-our-movement_us_5a06ef9ce4b0f1dc729a6b39</td>\n",
              "      <td>â€œTrump is Americaâ€™s wake-up callâ€ I heard a visitor to the United States say the other day. True. Trumpâ€™s first year has</td>\n",
              "      <td>2017-11-11</td>\n",
              "      <td>2017</td>\n",
              "    </tr>\n",
              "  </tbody>\n",
              "</table>\n",
              "</div>"
            ]
          },
          "metadata": {},
          "execution_count": 37
        }
      ]
    },
    {
      "cell_type": "code",
      "source": [
        "raw.loc[raw['category'] == 'SCIENCE'].sample(5)"
      ],
      "metadata": {
        "colab": {
          "base_uri": "https://localhost:8080/",
          "height": 397
        },
        "id": "Pa8REbwUMrEc",
        "outputId": "6f9a9cf5-0bd6-4139-940d-67d134187cc7"
      },
      "execution_count": null,
      "outputs": [
        {
          "output_type": "execute_result",
          "data": {
            "text/plain": [
              "       category  \\\n",
              "173545  SCIENCE   \n",
              "137766  SCIENCE   \n",
              "189073  SCIENCE   \n",
              "83237   SCIENCE   \n",
              "49552   SCIENCE   \n",
              "\n",
              "                                                                                             headline  \\\n",
              "173545                    The Voyager 1 Space Probe and the Generations of Scientists Who Care For It   \n",
              "137766                'Immunize' Yourself Against Bad Moods? New Research Suggests It May Be Possible   \n",
              "189073  Space Shuttle 'Enterprise,' Shuttle Replica 'Explorer' Move In NYC And Houston Sunday, June 3   \n",
              "83237                               Testosterone Therapy Isn't All It's Cracked Up To Be, Study Finds   \n",
              "49552                     6 Scientists Just Spent A Year On Simulated Mars. Here's What They Learned.   \n",
              "\n",
              "                                                              authors  \\\n",
              "173545  J.S. McDougall, Contributor\\nHusband. Father. Farmer. Author.   \n",
              "137766                                              Jacqueline Howard   \n",
              "189073                                                            NaN   \n",
              "83237                                                      Joe Satran   \n",
              "49552                                                  Chris D'Angelo   \n",
              "\n",
              "                                                                                                                                  link  \\\n",
              "173545                                                      https://www.huffingtonpost.com/entry/voyager-1_us_5baeb2f9e4b014374e2deeae   \n",
              "137766                                             https://www.huffingtonpost.com/entry/bad-moods-immunity_us_5baebc8be4b014374e2eb0c9   \n",
              "189073                                      https://www.huffingtonpost.com/entry/space-shuttles-enterprise_us_5baeae6ce4b014374e2d98a7   \n",
              "83237   https://www.huffingtonpost.com/entry/study-finds-testosterone-neither-as-risky-nor-useful-as-hyped_us_55c923c7e4b0923c12bdf3e4   \n",
              "49552                                      https://www.huffingtonpost.com/entry/year-on-mars-hawaii-hiseas_us_57bf7086e4b04193420e7b6e   \n",
              "\n",
              "                                                                                                                                                                                                                                             short_description  \\\n",
              "173545  The question of when Voyager 1 will leave the solar system is exciting, but generally not important. The fact is that it will soon, or already has -- and therefore it has moved the human race into a new chapter of humanity as interstellar beings.   \n",
              "137766                                                                                                                           \"A bad mood is known to slow cognition,\" study co-author Dr. Shay Ben-Haim, a researcher at the university, said in a written   \n",
              "189073                                                                                                                            NASA's Space Shuttle Museum Flights: Complete Coverage Final Flight: Space Shuttle Enterprise Over NYC | Video Photos: Space   \n",
              "83237                                                                                                                                                                             \"It's too early to put this stuff in the water supply,\" one researcher says.   \n",
              "49552                                                                                                                                                                                          The crew \"returns to Earth\" Sunday after 365 days in isolation.   \n",
              "\n",
              "             date  year  \n",
              "173545 2012-11-17  2012  \n",
              "137766 2013-12-01  2013  \n",
              "189073 2012-06-03  2012  \n",
              "83237  2015-08-11  2015  \n",
              "49552  2016-08-27  2016  "
            ],
            "text/html": [
              "<div>\n",
              "<style scoped>\n",
              "    .dataframe tbody tr th:only-of-type {\n",
              "        vertical-align: middle;\n",
              "    }\n",
              "\n",
              "    .dataframe tbody tr th {\n",
              "        vertical-align: top;\n",
              "    }\n",
              "\n",
              "    .dataframe thead th {\n",
              "        text-align: right;\n",
              "    }\n",
              "</style>\n",
              "<table border=\"1\" class=\"dataframe\">\n",
              "  <thead>\n",
              "    <tr style=\"text-align: right;\">\n",
              "      <th></th>\n",
              "      <th>category</th>\n",
              "      <th>headline</th>\n",
              "      <th>authors</th>\n",
              "      <th>link</th>\n",
              "      <th>short_description</th>\n",
              "      <th>date</th>\n",
              "      <th>year</th>\n",
              "    </tr>\n",
              "  </thead>\n",
              "  <tbody>\n",
              "    <tr>\n",
              "      <th>173545</th>\n",
              "      <td>SCIENCE</td>\n",
              "      <td>The Voyager 1 Space Probe and the Generations of Scientists Who Care For It</td>\n",
              "      <td>J.S. McDougall, Contributor\\nHusband. Father. Farmer. Author.</td>\n",
              "      <td>https://www.huffingtonpost.com/entry/voyager-1_us_5baeb2f9e4b014374e2deeae</td>\n",
              "      <td>The question of when Voyager 1 will leave the solar system is exciting, but generally not important. The fact is that it will soon, or already has -- and therefore it has moved the human race into a new chapter of humanity as interstellar beings.</td>\n",
              "      <td>2012-11-17</td>\n",
              "      <td>2012</td>\n",
              "    </tr>\n",
              "    <tr>\n",
              "      <th>137766</th>\n",
              "      <td>SCIENCE</td>\n",
              "      <td>'Immunize' Yourself Against Bad Moods? New Research Suggests It May Be Possible</td>\n",
              "      <td>Jacqueline Howard</td>\n",
              "      <td>https://www.huffingtonpost.com/entry/bad-moods-immunity_us_5baebc8be4b014374e2eb0c9</td>\n",
              "      <td>\"A bad mood is known to slow cognition,\" study co-author Dr. Shay Ben-Haim, a researcher at the university, said in a written</td>\n",
              "      <td>2013-12-01</td>\n",
              "      <td>2013</td>\n",
              "    </tr>\n",
              "    <tr>\n",
              "      <th>189073</th>\n",
              "      <td>SCIENCE</td>\n",
              "      <td>Space Shuttle 'Enterprise,' Shuttle Replica 'Explorer' Move In NYC And Houston Sunday, June 3</td>\n",
              "      <td>NaN</td>\n",
              "      <td>https://www.huffingtonpost.com/entry/space-shuttles-enterprise_us_5baeae6ce4b014374e2d98a7</td>\n",
              "      <td>NASA's Space Shuttle Museum Flights: Complete Coverage Final Flight: Space Shuttle Enterprise Over NYC | Video Photos: Space</td>\n",
              "      <td>2012-06-03</td>\n",
              "      <td>2012</td>\n",
              "    </tr>\n",
              "    <tr>\n",
              "      <th>83237</th>\n",
              "      <td>SCIENCE</td>\n",
              "      <td>Testosterone Therapy Isn't All It's Cracked Up To Be, Study Finds</td>\n",
              "      <td>Joe Satran</td>\n",
              "      <td>https://www.huffingtonpost.com/entry/study-finds-testosterone-neither-as-risky-nor-useful-as-hyped_us_55c923c7e4b0923c12bdf3e4</td>\n",
              "      <td>\"It's too early to put this stuff in the water supply,\" one researcher says.</td>\n",
              "      <td>2015-08-11</td>\n",
              "      <td>2015</td>\n",
              "    </tr>\n",
              "    <tr>\n",
              "      <th>49552</th>\n",
              "      <td>SCIENCE</td>\n",
              "      <td>6 Scientists Just Spent A Year On Simulated Mars. Here's What They Learned.</td>\n",
              "      <td>Chris D'Angelo</td>\n",
              "      <td>https://www.huffingtonpost.com/entry/year-on-mars-hawaii-hiseas_us_57bf7086e4b04193420e7b6e</td>\n",
              "      <td>The crew \"returns to Earth\" Sunday after 365 days in isolation.</td>\n",
              "      <td>2016-08-27</td>\n",
              "      <td>2016</td>\n",
              "    </tr>\n",
              "  </tbody>\n",
              "</table>\n",
              "</div>"
            ]
          },
          "metadata": {},
          "execution_count": 38
        }
      ]
    },
    {
      "cell_type": "code",
      "source": [
        "raw.loc[raw['category'] == 'ARTS & CULTURE'].sample(5)"
      ],
      "metadata": {
        "colab": {
          "base_uri": "https://localhost:8080/",
          "height": 293
        },
        "id": "_cn8Ycn9XMf4",
        "outputId": "db8cd258-b323-447f-a924-af89e3a68de0"
      },
      "execution_count": null,
      "outputs": [
        {
          "output_type": "execute_result",
          "data": {
            "text/plain": [
              "             category  \\\n",
              "29635  ARTS & CULTURE   \n",
              "58716  ARTS & CULTURE   \n",
              "41277  ARTS & CULTURE   \n",
              "48198  ARTS & CULTURE   \n",
              "18250  ARTS & CULTURE   \n",
              "\n",
              "                                                                                                headline  \\\n",
              "29635                                  Colson Whitehead's 'The Underground Railroad' Wins Pulitzer Prize   \n",
              "58716  'Under The Gun' Examines Both Sides Of The Gun-Control Debate, Even If It Will Only Appeal To One   \n",
              "41277                        Pussy Riot To Perform In 'Political Happening' During Art Basel Miami Beach   \n",
              "48198                                      Ladies, Yoko Ono Wants You To Participate In Her Next Artwork   \n",
              "18250              A Sci-Fi Magazine Created Entirely By Writers And Editors With Disabilities Is Coming   \n",
              "\n",
              "               authors  \\\n",
              "29635    Claire Fallon   \n",
              "58716   Matthew Jacobs   \n",
              "41277  Priscilla Frank   \n",
              "48198  Priscilla Frank   \n",
              "18250  Priscilla Frank   \n",
              "\n",
              "                                                                                                                                  link  \\\n",
              "29635  https://www.huffingtonpost.com/entry/colson-whiteheads-the-underground-railroad-wins-pulitzer-prize_us_58ebcd65e4b0ca64d91820fd   \n",
              "58716                                       https://www.huffingtonpost.com/entry/under-the-gun-documentary_us_57361490e4b060aa781a38ac   \n",
              "41277                                https://www.huffingtonpost.com/entry/pussy-riot-art-basel-miami-beach_us_583d8418e4b0860d611658ac   \n",
              "48198                               https://www.huffingtonpost.com/entry/yoko-ono-arising-artwork-feminism_us_57d6b0efe4b06a74c9f57fb3   \n",
              "18250                              https://www.huffingtonpost.com/entry/destroy-science-fiction-disability_us_59949b80e4b0d0d2cc83cec3   \n",
              "\n",
              "                                                                  short_description  \\\n",
              "29635  Other winners include playwright Lynn Nottage and theater critic Hilton Als.   \n",
              "58716                      The Katie Couric-produced documentary premieres on Epix.   \n",
              "41277                                       The exclusive event is invitation-only.   \n",
              "48198                                                          This is not a drill.   \n",
              "18250               Prepare yourself for \"Disabled People Destroy Science Fiction.\"   \n",
              "\n",
              "            date  year  \n",
              "29635 2017-04-10  2017  \n",
              "58716 2016-05-15  2016  \n",
              "41277 2016-11-29  2016  \n",
              "48198 2016-09-12  2016  \n",
              "18250 2017-08-23  2017  "
            ],
            "text/html": [
              "<div>\n",
              "<style scoped>\n",
              "    .dataframe tbody tr th:only-of-type {\n",
              "        vertical-align: middle;\n",
              "    }\n",
              "\n",
              "    .dataframe tbody tr th {\n",
              "        vertical-align: top;\n",
              "    }\n",
              "\n",
              "    .dataframe thead th {\n",
              "        text-align: right;\n",
              "    }\n",
              "</style>\n",
              "<table border=\"1\" class=\"dataframe\">\n",
              "  <thead>\n",
              "    <tr style=\"text-align: right;\">\n",
              "      <th></th>\n",
              "      <th>category</th>\n",
              "      <th>headline</th>\n",
              "      <th>authors</th>\n",
              "      <th>link</th>\n",
              "      <th>short_description</th>\n",
              "      <th>date</th>\n",
              "      <th>year</th>\n",
              "    </tr>\n",
              "  </thead>\n",
              "  <tbody>\n",
              "    <tr>\n",
              "      <th>29635</th>\n",
              "      <td>ARTS &amp; CULTURE</td>\n",
              "      <td>Colson Whitehead's 'The Underground Railroad' Wins Pulitzer Prize</td>\n",
              "      <td>Claire Fallon</td>\n",
              "      <td>https://www.huffingtonpost.com/entry/colson-whiteheads-the-underground-railroad-wins-pulitzer-prize_us_58ebcd65e4b0ca64d91820fd</td>\n",
              "      <td>Other winners include playwright Lynn Nottage and theater critic Hilton Als.</td>\n",
              "      <td>2017-04-10</td>\n",
              "      <td>2017</td>\n",
              "    </tr>\n",
              "    <tr>\n",
              "      <th>58716</th>\n",
              "      <td>ARTS &amp; CULTURE</td>\n",
              "      <td>'Under The Gun' Examines Both Sides Of The Gun-Control Debate, Even If It Will Only Appeal To One</td>\n",
              "      <td>Matthew Jacobs</td>\n",
              "      <td>https://www.huffingtonpost.com/entry/under-the-gun-documentary_us_57361490e4b060aa781a38ac</td>\n",
              "      <td>The Katie Couric-produced documentary premieres on Epix.</td>\n",
              "      <td>2016-05-15</td>\n",
              "      <td>2016</td>\n",
              "    </tr>\n",
              "    <tr>\n",
              "      <th>41277</th>\n",
              "      <td>ARTS &amp; CULTURE</td>\n",
              "      <td>Pussy Riot To Perform In 'Political Happening' During Art Basel Miami Beach</td>\n",
              "      <td>Priscilla Frank</td>\n",
              "      <td>https://www.huffingtonpost.com/entry/pussy-riot-art-basel-miami-beach_us_583d8418e4b0860d611658ac</td>\n",
              "      <td>The exclusive event is invitation-only.</td>\n",
              "      <td>2016-11-29</td>\n",
              "      <td>2016</td>\n",
              "    </tr>\n",
              "    <tr>\n",
              "      <th>48198</th>\n",
              "      <td>ARTS &amp; CULTURE</td>\n",
              "      <td>Ladies, Yoko Ono Wants You To Participate In Her Next Artwork</td>\n",
              "      <td>Priscilla Frank</td>\n",
              "      <td>https://www.huffingtonpost.com/entry/yoko-ono-arising-artwork-feminism_us_57d6b0efe4b06a74c9f57fb3</td>\n",
              "      <td>This is not a drill.</td>\n",
              "      <td>2016-09-12</td>\n",
              "      <td>2016</td>\n",
              "    </tr>\n",
              "    <tr>\n",
              "      <th>18250</th>\n",
              "      <td>ARTS &amp; CULTURE</td>\n",
              "      <td>A Sci-Fi Magazine Created Entirely By Writers And Editors With Disabilities Is Coming</td>\n",
              "      <td>Priscilla Frank</td>\n",
              "      <td>https://www.huffingtonpost.com/entry/destroy-science-fiction-disability_us_59949b80e4b0d0d2cc83cec3</td>\n",
              "      <td>Prepare yourself for \"Disabled People Destroy Science Fiction.\"</td>\n",
              "      <td>2017-08-23</td>\n",
              "      <td>2017</td>\n",
              "    </tr>\n",
              "  </tbody>\n",
              "</table>\n",
              "</div>"
            ]
          },
          "metadata": {},
          "execution_count": 39
        }
      ]
    },
    {
      "cell_type": "code",
      "source": [
        "raw.loc[raw['category'] == 'CRIME'].sample(5)"
      ],
      "metadata": {
        "colab": {
          "base_uri": "https://localhost:8080/",
          "height": 310
        },
        "id": "KN0yGlClYm-M",
        "outputId": "7153efa7-bf19-4dc2-8509-19f52fb31d6a"
      },
      "execution_count": null,
      "outputs": [
        {
          "output_type": "execute_result",
          "data": {
            "text/plain": [
              "       category  \\\n",
              "79693     CRIME   \n",
              "159053    CRIME   \n",
              "47879     CRIME   \n",
              "24335     CRIME   \n",
              "132623    CRIME   \n",
              "\n",
              "                                                                                          headline  \\\n",
              "79693                           Peanut Exec Faces Life Sentence For Shipping Tainted Peanut Butter   \n",
              "159053             Boston Manhunt: Watertown Police Chief Details How Suspect Was Captured (VIDEO)   \n",
              "47879                             Dogs Get High After Alleged Drug Dealer Throws Heroin Over Fence   \n",
              "24335                       Toddlers Die After 'Intentionally' Left In Car By Teenage Mom: Sheriff   \n",
              "132623  Sheila Eddy Murdered Skylar Neese Because She 'Didn't Want To Be Friends With Her Anymore'   \n",
              "\n",
              "                             authors  \\\n",
              "79693   Russ Bynum, Associated Press   \n",
              "159053                           NaN   \n",
              "47879                 Nina Golgowski   \n",
              "24335                 Nina Golgowski   \n",
              "132623               Andres Jauregui   \n",
              "\n",
              "                                                                                                                                        link  \\\n",
              "79693             https://www.huffingtonpost.com/entry/peanut-executive-stewart-parnell-life-sentence-salmonella_us_55fee6b3e4b08820d9190241   \n",
              "159053                          https://www.huffingtonpost.com/entry/boston-manhunt-details-police-chief-account_us_5ba2b23ae4b0c2784da479d0   \n",
              "47879      https://www.huffingtonpost.com/entry/dog-gets-high-after-alleged-drug-dealer-throws-heroin-over-fence_us_57dad5c2e4b04a1497b2f76c   \n",
              "24335   https://www.huffingtonpost.com/entry/toddlers-die-after-intentionally-left-in-car-by-teenage-mom-sheriff_us_593c00f9e4b0c5a35c9ff178   \n",
              "132623                                    https://www.huffingtonpost.com/entry/sheila-eddy-murdered-skylar-neese_us_5ba2bf6fe4b0c2784da583a3   \n",
              "\n",
              "                                                                                                                 short_description  \\\n",
              "79693                                  He's been blamed for a salmonella outbreak that killed 9 people and left hundreds more ill.   \n",
              "159053  Armed with handguns, rifles and at least six bombs -- some of which were hurled at officers from the stolen vehicle -- the   \n",
              "47879                                                  Seventeen bags reportedly landed in a Colorado doggie day care's play area.   \n",
              "24335                                                 Witnesses reported they heard the kids crying and told her to bring them in.   \n",
              "132623    Eddy posted photo tributes to her friendship with Neese on social media shortly before she was arrested and charged with   \n",
              "\n",
              "             date  year  \n",
              "79693  2015-09-20  2015  \n",
              "159053 2013-04-20  2013  \n",
              "47879  2016-09-15  2016  \n",
              "24335  2017-06-10  2017  \n",
              "132623 2014-01-25  2014  "
            ],
            "text/html": [
              "<div>\n",
              "<style scoped>\n",
              "    .dataframe tbody tr th:only-of-type {\n",
              "        vertical-align: middle;\n",
              "    }\n",
              "\n",
              "    .dataframe tbody tr th {\n",
              "        vertical-align: top;\n",
              "    }\n",
              "\n",
              "    .dataframe thead th {\n",
              "        text-align: right;\n",
              "    }\n",
              "</style>\n",
              "<table border=\"1\" class=\"dataframe\">\n",
              "  <thead>\n",
              "    <tr style=\"text-align: right;\">\n",
              "      <th></th>\n",
              "      <th>category</th>\n",
              "      <th>headline</th>\n",
              "      <th>authors</th>\n",
              "      <th>link</th>\n",
              "      <th>short_description</th>\n",
              "      <th>date</th>\n",
              "      <th>year</th>\n",
              "    </tr>\n",
              "  </thead>\n",
              "  <tbody>\n",
              "    <tr>\n",
              "      <th>79693</th>\n",
              "      <td>CRIME</td>\n",
              "      <td>Peanut Exec Faces Life Sentence For Shipping Tainted Peanut Butter</td>\n",
              "      <td>Russ Bynum, Associated Press</td>\n",
              "      <td>https://www.huffingtonpost.com/entry/peanut-executive-stewart-parnell-life-sentence-salmonella_us_55fee6b3e4b08820d9190241</td>\n",
              "      <td>He's been blamed for a salmonella outbreak that killed 9 people and left hundreds more ill.</td>\n",
              "      <td>2015-09-20</td>\n",
              "      <td>2015</td>\n",
              "    </tr>\n",
              "    <tr>\n",
              "      <th>159053</th>\n",
              "      <td>CRIME</td>\n",
              "      <td>Boston Manhunt: Watertown Police Chief Details How Suspect Was Captured (VIDEO)</td>\n",
              "      <td>NaN</td>\n",
              "      <td>https://www.huffingtonpost.com/entry/boston-manhunt-details-police-chief-account_us_5ba2b23ae4b0c2784da479d0</td>\n",
              "      <td>Armed with handguns, rifles and at least six bombs -- some of which were hurled at officers from the stolen vehicle -- the</td>\n",
              "      <td>2013-04-20</td>\n",
              "      <td>2013</td>\n",
              "    </tr>\n",
              "    <tr>\n",
              "      <th>47879</th>\n",
              "      <td>CRIME</td>\n",
              "      <td>Dogs Get High After Alleged Drug Dealer Throws Heroin Over Fence</td>\n",
              "      <td>Nina Golgowski</td>\n",
              "      <td>https://www.huffingtonpost.com/entry/dog-gets-high-after-alleged-drug-dealer-throws-heroin-over-fence_us_57dad5c2e4b04a1497b2f76c</td>\n",
              "      <td>Seventeen bags reportedly landed in a Colorado doggie day care's play area.</td>\n",
              "      <td>2016-09-15</td>\n",
              "      <td>2016</td>\n",
              "    </tr>\n",
              "    <tr>\n",
              "      <th>24335</th>\n",
              "      <td>CRIME</td>\n",
              "      <td>Toddlers Die After 'Intentionally' Left In Car By Teenage Mom: Sheriff</td>\n",
              "      <td>Nina Golgowski</td>\n",
              "      <td>https://www.huffingtonpost.com/entry/toddlers-die-after-intentionally-left-in-car-by-teenage-mom-sheriff_us_593c00f9e4b0c5a35c9ff178</td>\n",
              "      <td>Witnesses reported they heard the kids crying and told her to bring them in.</td>\n",
              "      <td>2017-06-10</td>\n",
              "      <td>2017</td>\n",
              "    </tr>\n",
              "    <tr>\n",
              "      <th>132623</th>\n",
              "      <td>CRIME</td>\n",
              "      <td>Sheila Eddy Murdered Skylar Neese Because She 'Didn't Want To Be Friends With Her Anymore'</td>\n",
              "      <td>Andres Jauregui</td>\n",
              "      <td>https://www.huffingtonpost.com/entry/sheila-eddy-murdered-skylar-neese_us_5ba2bf6fe4b0c2784da583a3</td>\n",
              "      <td>Eddy posted photo tributes to her friendship with Neese on social media shortly before she was arrested and charged with</td>\n",
              "      <td>2014-01-25</td>\n",
              "      <td>2014</td>\n",
              "    </tr>\n",
              "  </tbody>\n",
              "</table>\n",
              "</div>"
            ]
          },
          "metadata": {},
          "execution_count": 40
        }
      ]
    },
    {
      "cell_type": "code",
      "source": [
        "raw.loc[raw['category'] == 'RELIGION'].sample(5)"
      ],
      "metadata": {
        "colab": {
          "base_uri": "https://localhost:8080/",
          "height": 397
        },
        "id": "jIBD95dUZWJl",
        "outputId": "b3830826-751a-4d93-c099-4197748d726a"
      },
      "execution_count": null,
      "outputs": [
        {
          "output_type": "execute_result",
          "data": {
            "text/plain": [
              "        category  \\\n",
              "36723   RELIGION   \n",
              "109723  RELIGION   \n",
              "78527   RELIGION   \n",
              "120565  RELIGION   \n",
              "97319   RELIGION   \n",
              "\n",
              "                                                                                          headline  \\\n",
              "36723                         Pope Francis Sends First Official Telegram To President Donald Trump   \n",
              "109723                                          Why Every Jesus Follower Must Show Up In Ferguson!   \n",
              "78527                Why The Pope's Mention Of Thomas Merton Was More Controversial Than You Think   \n",
              "120565                                            Walking Down a Tree-Lined Lane With Pope Francis   \n",
              "97319   Abercrombie Religious Discrimination Case Less Than Cool For Supreme Court, Sikh Americans   \n",
              "\n",
              "                                                                                          authors  \\\n",
              "36723                                                                             Carol Kuruvilla   \n",
              "109723  Pastor Michael McBride, ContributorDirector, PICO National Networkâ€™s LIVE FREE Campaign   \n",
              "78527                                                    ROSE MARIE BERGER, Religion News Service   \n",
              "120565                           Mike Schwager, ContributorPresident, Worldlink Media Consultants   \n",
              "97319                             Gurjot Kaur, ContributorCivil Rights Attorney, Writer, Activist   \n",
              "\n",
              "                                                                                                                                         link  \\\n",
              "36723   https://www.huffingtonpost.com/entry/pope-francis-sends-first-official-telegram-to-president-donald-trump_us_58825634e4b096b4a23173ac   \n",
              "109723                                                                    https://www.huffingtonpost.com/entry/jesus-ferguson-_b_5967502.html   \n",
              "78527                                             https://www.huffingtonpost.com/entry/thomas-merton-pope-francis_us_560af93be4b0af3706de5881   \n",
              "120565                                                          https://www.huffingtonpost.com/entry/walking-down-a-treelined-_b_5449178.html   \n",
              "97319                                                https://www.huffingtonpost.com/entry/abercrombie-religious-discrimination_b_6772732.html   \n",
              "\n",
              "                                                                                                                                                                                                                                                                                  short_description  \\\n",
              "36723                                                                                                                                                                                                                                                          The pope issued a pointed challenge.   \n",
              "109723                                                                                                                       There is a Ferguson in every community across the country. You may not be able or compelled to make the trip to Ferguson, Missouri, but you can walk across the street   \n",
              "78527                                                                                                                                                                                   The Pope held up Thomas Merton as a model of faith but some American Bishops excised him from the catechism   \n",
              "120565                                                                                              When the Bible spoke of our dominion over the animals, surely it isn't speaking of cruelty towards animals, but responsibility and stewardship. And implicit in stewardship is love and caring.   \n",
              "97319   If the Supreme Court imposes stringent notice requirements on job applicants and employees, it will set the clock back on religious rights in the workplace by decades. Employers will be able to duck their heads into the sand any time a visibly religious Sikh, Muslim or Jew walks in.   \n",
              "\n",
              "             date  year  \n",
              "36723  2017-01-20  2017  \n",
              "109723 2014-10-11  2014  \n",
              "78527  2015-10-03  2015  \n",
              "120565 2014-06-10  2014  \n",
              "97319  2015-03-02  2015  "
            ],
            "text/html": [
              "<div>\n",
              "<style scoped>\n",
              "    .dataframe tbody tr th:only-of-type {\n",
              "        vertical-align: middle;\n",
              "    }\n",
              "\n",
              "    .dataframe tbody tr th {\n",
              "        vertical-align: top;\n",
              "    }\n",
              "\n",
              "    .dataframe thead th {\n",
              "        text-align: right;\n",
              "    }\n",
              "</style>\n",
              "<table border=\"1\" class=\"dataframe\">\n",
              "  <thead>\n",
              "    <tr style=\"text-align: right;\">\n",
              "      <th></th>\n",
              "      <th>category</th>\n",
              "      <th>headline</th>\n",
              "      <th>authors</th>\n",
              "      <th>link</th>\n",
              "      <th>short_description</th>\n",
              "      <th>date</th>\n",
              "      <th>year</th>\n",
              "    </tr>\n",
              "  </thead>\n",
              "  <tbody>\n",
              "    <tr>\n",
              "      <th>36723</th>\n",
              "      <td>RELIGION</td>\n",
              "      <td>Pope Francis Sends First Official Telegram To President Donald Trump</td>\n",
              "      <td>Carol Kuruvilla</td>\n",
              "      <td>https://www.huffingtonpost.com/entry/pope-francis-sends-first-official-telegram-to-president-donald-trump_us_58825634e4b096b4a23173ac</td>\n",
              "      <td>The pope issued a pointed challenge.</td>\n",
              "      <td>2017-01-20</td>\n",
              "      <td>2017</td>\n",
              "    </tr>\n",
              "    <tr>\n",
              "      <th>109723</th>\n",
              "      <td>RELIGION</td>\n",
              "      <td>Why Every Jesus Follower Must Show Up In Ferguson!</td>\n",
              "      <td>Pastor Michael McBride, ContributorDirector, PICO National Networkâ€™s LIVE FREE Campaign</td>\n",
              "      <td>https://www.huffingtonpost.com/entry/jesus-ferguson-_b_5967502.html</td>\n",
              "      <td>There is a Ferguson in every community across the country. You may not be able or compelled to make the trip to Ferguson, Missouri, but you can walk across the street</td>\n",
              "      <td>2014-10-11</td>\n",
              "      <td>2014</td>\n",
              "    </tr>\n",
              "    <tr>\n",
              "      <th>78527</th>\n",
              "      <td>RELIGION</td>\n",
              "      <td>Why The Pope's Mention Of Thomas Merton Was More Controversial Than You Think</td>\n",
              "      <td>ROSE MARIE BERGER, Religion News Service</td>\n",
              "      <td>https://www.huffingtonpost.com/entry/thomas-merton-pope-francis_us_560af93be4b0af3706de5881</td>\n",
              "      <td>The Pope held up Thomas Merton as a model of faith but some American Bishops excised him from the catechism</td>\n",
              "      <td>2015-10-03</td>\n",
              "      <td>2015</td>\n",
              "    </tr>\n",
              "    <tr>\n",
              "      <th>120565</th>\n",
              "      <td>RELIGION</td>\n",
              "      <td>Walking Down a Tree-Lined Lane With Pope Francis</td>\n",
              "      <td>Mike Schwager, ContributorPresident, Worldlink Media Consultants</td>\n",
              "      <td>https://www.huffingtonpost.com/entry/walking-down-a-treelined-_b_5449178.html</td>\n",
              "      <td>When the Bible spoke of our dominion over the animals, surely it isn't speaking of cruelty towards animals, but responsibility and stewardship. And implicit in stewardship is love and caring.</td>\n",
              "      <td>2014-06-10</td>\n",
              "      <td>2014</td>\n",
              "    </tr>\n",
              "    <tr>\n",
              "      <th>97319</th>\n",
              "      <td>RELIGION</td>\n",
              "      <td>Abercrombie Religious Discrimination Case Less Than Cool For Supreme Court, Sikh Americans</td>\n",
              "      <td>Gurjot Kaur, ContributorCivil Rights Attorney, Writer, Activist</td>\n",
              "      <td>https://www.huffingtonpost.com/entry/abercrombie-religious-discrimination_b_6772732.html</td>\n",
              "      <td>If the Supreme Court imposes stringent notice requirements on job applicants and employees, it will set the clock back on religious rights in the workplace by decades. Employers will be able to duck their heads into the sand any time a visibly religious Sikh, Muslim or Jew walks in.</td>\n",
              "      <td>2015-03-02</td>\n",
              "      <td>2015</td>\n",
              "    </tr>\n",
              "  </tbody>\n",
              "</table>\n",
              "</div>"
            ]
          },
          "metadata": {},
          "execution_count": 41
        }
      ]
    },
    {
      "cell_type": "code",
      "source": [
        "raw['category'] = raw['category'].replace(['GREEN'], 'ENVIRONMENT')\n",
        "raw['category'] = raw['category'].replace(['WEIRD NEWS'], 'ENTERTAINMENT')\n",
        "raw['category'] = raw['category'].replace(['SPORTS'], 'ENTERTAINMENT')\n",
        "raw['category'] = raw['category'].replace(['COMEDY'], 'ENTERTAINMENT')\n",
        "\n",
        "\n",
        "raw['category'] = raw['category'].replace(['ARTS'], 'ARTS & CULTURE')\n",
        "raw['category'] = raw['category'].replace(['CULTURE & ARTS'], 'ARTS & CULTURE')\n",
        "raw['category'] = raw['category'].replace(['RELIGION'], 'ARTS & CULTURE')\n",
        "\n",
        "raw['category'] = raw['category'].replace(['HEALTHY LIVING'], 'WELLNESS')\n",
        "\n",
        "raw['category'] = raw['category'].replace(['PARENTING'], 'PARENTS')\n",
        "\n",
        "raw['category'] = raw['category'].replace(['TASTE'], 'FOOD & DRINK')\n",
        "\n",
        "raw['category'] = raw['category'].replace(['COLLEGE'], 'EDUCATION')\n",
        "\n",
        "raw['category'] = raw['category'].replace(['THE WORLDPOST'], 'WORLD NEWS')\n",
        "raw['category'] = raw['category'].replace(['WORLDPOST'], 'WORLD NEWS')\n",
        "\n",
        "raw['category'] = raw['category'].replace(['GOOD NEWS'], 'IMPACT')\n",
        "raw['category'] = raw['category'].replace(['CRIME'], 'IMPACT')\n",
        "raw['category'] = raw['category'].replace(['WOMEN'], 'IMPACT')\n",
        "\n",
        "raw['category'] = raw['category'].replace(['WEDDINGS'], 'RELATIONSHIP')\n",
        "raw['category'] = raw['category'].replace(['DIVORCE'], 'RELATIONSHIP')\n",
        "\n",
        "raw['category'] = raw['category'].replace(['STYLE'], 'LIFESTYLE')\n",
        "raw['category'] = raw['category'].replace(['STYLE & BEAUTY'], 'LIFESTYLE')\n",
        "raw['category'] = raw['category'].replace(['TRAVEL'], 'LIFESTYLE')\n",
        "raw['category'] = raw['category'].replace(['FIFTY'], 'LIFESTYLE')\n",
        "raw['category'] = raw['category'].replace(['HOME & LIVING'], 'LIFESTYLE')\n",
        "\n",
        "raw['category'] = raw['category'].replace(['MONEY'], 'BUSINESS')\n",
        "\n",
        "raw['category'] = raw['category'].replace(['BLACK VOICES'], 'MARGINALISED VOICES')\n",
        "raw['category'] = raw['category'].replace(['LATINO VOICES'], 'MARGINALISED VOICES')"
      ],
      "metadata": {
        "id": "oJmu5MxzQ4I4"
      },
      "execution_count": null,
      "outputs": []
    },
    {
      "cell_type": "code",
      "source": [
        "len(list(raw.category.unique()))"
      ],
      "metadata": {
        "colab": {
          "base_uri": "https://localhost:8080/"
        },
        "id": "c4nLRsF6aFMU",
        "outputId": "c5a9afaa-1670-4da7-f9bd-aa208ea92ce9"
      },
      "execution_count": null,
      "outputs": [
        {
          "output_type": "execute_result",
          "data": {
            "text/plain": [
              "18"
            ]
          },
          "metadata": {},
          "execution_count": 43
        }
      ]
    },
    {
      "cell_type": "code",
      "source": [
        "raw.category.unique()"
      ],
      "metadata": {
        "colab": {
          "base_uri": "https://localhost:8080/"
        },
        "id": "PXEedG7ID8E9",
        "outputId": "9879262a-64c4-40c4-85fa-51330a1cef7a"
      },
      "execution_count": null,
      "outputs": [
        {
          "output_type": "execute_result",
          "data": {
            "text/plain": [
              "array(['IMPACT', 'ENTERTAINMENT', 'WORLD NEWS', 'POLITICS',\n",
              "       'MARGINALISED VOICES', 'QUEER VOICES', 'BUSINESS', 'LIFESTYLE',\n",
              "       'MEDIA', 'TECH', 'ARTS & CULTURE', 'SCIENCE', 'EDUCATION',\n",
              "       'PARENTS', 'ENVIRONMENT', 'FOOD & DRINK', 'WELLNESS',\n",
              "       'RELATIONSHIP'], dtype=object)"
            ]
          },
          "metadata": {},
          "execution_count": 44
        }
      ]
    },
    {
      "cell_type": "code",
      "source": [
        "plt.figure(figsize=(60,24));\n",
        "\n",
        "fig = px.bar(x = raw.category.value_counts().index, y = raw.category.value_counts(), labels = {\n",
        "    \"x\": \"Categories\", #Setting x label to categories\n",
        "    \"y\": \"Count\"}, #Setting y label to count\n",
        "    title = \"Category counts\"); #Setting the title\n",
        "fig.show(renderer=\"colab\");"
      ],
      "metadata": {
        "colab": {
          "base_uri": "https://localhost:8080/",
          "height": 560
        },
        "id": "JX72wBtmEuqj",
        "outputId": "8ae30c8e-939b-46d1-e5b8-0cdbdde0bb0b"
      },
      "execution_count": null,
      "outputs": [
        {
          "output_type": "display_data",
          "data": {
            "text/html": [
              "<html>\n",
              "<head><meta charset=\"utf-8\" /></head>\n",
              "<body>\n",
              "    <div>            <script src=\"https://cdnjs.cloudflare.com/ajax/libs/mathjax/2.7.5/MathJax.js?config=TeX-AMS-MML_SVG\"></script><script type=\"text/javascript\">if (window.MathJax) {MathJax.Hub.Config({SVG: {font: \"STIX-Web\"}});}</script>                <script type=\"text/javascript\">window.PlotlyConfig = {MathJaxConfig: 'local'};</script>\n",
              "        <script src=\"https://cdn.plot.ly/plotly-2.9.0.min.js\"></script>                <div id=\"d6aec4c4-90ce-405b-908f-a3407b0af5a7\" class=\"plotly-graph-div\" style=\"height:525px; width:100%;\"></div>            <script type=\"text/javascript\">                                    window.PLOTLYENV=window.PLOTLYENV || {};                                    if (document.getElementById(\"d6aec4c4-90ce-405b-908f-a3407b0af5a7\")) {                    Plotly.newPlot(                        \"d6aec4c4-90ce-405b-908f-a3407b0af5a7\",                        [{\"alignmentgroup\":\"True\",\"hovertemplate\":\"Categories=%{x}<br>Count=%{y}<extra></extra>\",\"legendgroup\":\"\",\"marker\":{\"color\":\"#636efa\",\"pattern\":{\"shape\":\"\"}},\"name\":\"\",\"offsetgroup\":\"\",\"orientation\":\"v\",\"showlegend\":false,\"textposition\":\"auto\",\"x\":[\"POLITICS\",\"LIFESTYLE\",\"ENTERTAINMENT\",\"WELLNESS\",\"PARENTS\",\"IMPACT\",\"FOOD & DRINK\",\"WORLD NEWS\",\"RELATIONSHIP\",\"BUSINESS\",\"QUEER VOICES\",\"MARGINALISED VOICES\",\"ARTS & CULTURE\",\"ENVIRONMENT\",\"MEDIA\",\"TECH\",\"EDUCATION\",\"SCIENCE\"],\"xaxis\":\"x\",\"y\":[29578,25837,24317,23085,12231,9877,8157,7081,7074,6783,5570,5142,5078,3367,2275,2080,1813,1775],\"yaxis\":\"y\",\"type\":\"bar\"}],                        {\"template\":{\"data\":{\"bar\":[{\"error_x\":{\"color\":\"#2a3f5f\"},\"error_y\":{\"color\":\"#2a3f5f\"},\"marker\":{\"line\":{\"color\":\"#E5ECF6\",\"width\":0.5},\"pattern\":{\"fillmode\":\"overlay\",\"size\":10,\"solidity\":0.2}},\"type\":\"bar\"}],\"barpolar\":[{\"marker\":{\"line\":{\"color\":\"#E5ECF6\",\"width\":0.5},\"pattern\":{\"fillmode\":\"overlay\",\"size\":10,\"solidity\":0.2}},\"type\":\"barpolar\"}],\"carpet\":[{\"aaxis\":{\"endlinecolor\":\"#2a3f5f\",\"gridcolor\":\"white\",\"linecolor\":\"white\",\"minorgridcolor\":\"white\",\"startlinecolor\":\"#2a3f5f\"},\"baxis\":{\"endlinecolor\":\"#2a3f5f\",\"gridcolor\":\"white\",\"linecolor\":\"white\",\"minorgridcolor\":\"white\",\"startlinecolor\":\"#2a3f5f\"},\"type\":\"carpet\"}],\"choropleth\":[{\"colorbar\":{\"outlinewidth\":0,\"ticks\":\"\"},\"type\":\"choropleth\"}],\"contour\":[{\"colorbar\":{\"outlinewidth\":0,\"ticks\":\"\"},\"colorscale\":[[0.0,\"#0d0887\"],[0.1111111111111111,\"#46039f\"],[0.2222222222222222,\"#7201a8\"],[0.3333333333333333,\"#9c179e\"],[0.4444444444444444,\"#bd3786\"],[0.5555555555555556,\"#d8576b\"],[0.6666666666666666,\"#ed7953\"],[0.7777777777777778,\"#fb9f3a\"],[0.8888888888888888,\"#fdca26\"],[1.0,\"#f0f921\"]],\"type\":\"contour\"}],\"contourcarpet\":[{\"colorbar\":{\"outlinewidth\":0,\"ticks\":\"\"},\"type\":\"contourcarpet\"}],\"heatmap\":[{\"colorbar\":{\"outlinewidth\":0,\"ticks\":\"\"},\"colorscale\":[[0.0,\"#0d0887\"],[0.1111111111111111,\"#46039f\"],[0.2222222222222222,\"#7201a8\"],[0.3333333333333333,\"#9c179e\"],[0.4444444444444444,\"#bd3786\"],[0.5555555555555556,\"#d8576b\"],[0.6666666666666666,\"#ed7953\"],[0.7777777777777778,\"#fb9f3a\"],[0.8888888888888888,\"#fdca26\"],[1.0,\"#f0f921\"]],\"type\":\"heatmap\"}],\"heatmapgl\":[{\"colorbar\":{\"outlinewidth\":0,\"ticks\":\"\"},\"colorscale\":[[0.0,\"#0d0887\"],[0.1111111111111111,\"#46039f\"],[0.2222222222222222,\"#7201a8\"],[0.3333333333333333,\"#9c179e\"],[0.4444444444444444,\"#bd3786\"],[0.5555555555555556,\"#d8576b\"],[0.6666666666666666,\"#ed7953\"],[0.7777777777777778,\"#fb9f3a\"],[0.8888888888888888,\"#fdca26\"],[1.0,\"#f0f921\"]],\"type\":\"heatmapgl\"}],\"histogram\":[{\"marker\":{\"pattern\":{\"fillmode\":\"overlay\",\"size\":10,\"solidity\":0.2}},\"type\":\"histogram\"}],\"histogram2d\":[{\"colorbar\":{\"outlinewidth\":0,\"ticks\":\"\"},\"colorscale\":[[0.0,\"#0d0887\"],[0.1111111111111111,\"#46039f\"],[0.2222222222222222,\"#7201a8\"],[0.3333333333333333,\"#9c179e\"],[0.4444444444444444,\"#bd3786\"],[0.5555555555555556,\"#d8576b\"],[0.6666666666666666,\"#ed7953\"],[0.7777777777777778,\"#fb9f3a\"],[0.8888888888888888,\"#fdca26\"],[1.0,\"#f0f921\"]],\"type\":\"histogram2d\"}],\"histogram2dcontour\":[{\"colorbar\":{\"outlinewidth\":0,\"ticks\":\"\"},\"colorscale\":[[0.0,\"#0d0887\"],[0.1111111111111111,\"#46039f\"],[0.2222222222222222,\"#7201a8\"],[0.3333333333333333,\"#9c179e\"],[0.4444444444444444,\"#bd3786\"],[0.5555555555555556,\"#d8576b\"],[0.6666666666666666,\"#ed7953\"],[0.7777777777777778,\"#fb9f3a\"],[0.8888888888888888,\"#fdca26\"],[1.0,\"#f0f921\"]],\"type\":\"histogram2dcontour\"}],\"mesh3d\":[{\"colorbar\":{\"outlinewidth\":0,\"ticks\":\"\"},\"type\":\"mesh3d\"}],\"parcoords\":[{\"line\":{\"colorbar\":{\"outlinewidth\":0,\"ticks\":\"\"}},\"type\":\"parcoords\"}],\"pie\":[{\"automargin\":true,\"type\":\"pie\"}],\"scatter\":[{\"marker\":{\"colorbar\":{\"outlinewidth\":0,\"ticks\":\"\"}},\"type\":\"scatter\"}],\"scatter3d\":[{\"line\":{\"colorbar\":{\"outlinewidth\":0,\"ticks\":\"\"}},\"marker\":{\"colorbar\":{\"outlinewidth\":0,\"ticks\":\"\"}},\"type\":\"scatter3d\"}],\"scattercarpet\":[{\"marker\":{\"colorbar\":{\"outlinewidth\":0,\"ticks\":\"\"}},\"type\":\"scattercarpet\"}],\"scattergeo\":[{\"marker\":{\"colorbar\":{\"outlinewidth\":0,\"ticks\":\"\"}},\"type\":\"scattergeo\"}],\"scattergl\":[{\"marker\":{\"colorbar\":{\"outlinewidth\":0,\"ticks\":\"\"}},\"type\":\"scattergl\"}],\"scattermapbox\":[{\"marker\":{\"colorbar\":{\"outlinewidth\":0,\"ticks\":\"\"}},\"type\":\"scattermapbox\"}],\"scatterpolar\":[{\"marker\":{\"colorbar\":{\"outlinewidth\":0,\"ticks\":\"\"}},\"type\":\"scatterpolar\"}],\"scatterpolargl\":[{\"marker\":{\"colorbar\":{\"outlinewidth\":0,\"ticks\":\"\"}},\"type\":\"scatterpolargl\"}],\"scatterternary\":[{\"marker\":{\"colorbar\":{\"outlinewidth\":0,\"ticks\":\"\"}},\"type\":\"scatterternary\"}],\"surface\":[{\"colorbar\":{\"outlinewidth\":0,\"ticks\":\"\"},\"colorscale\":[[0.0,\"#0d0887\"],[0.1111111111111111,\"#46039f\"],[0.2222222222222222,\"#7201a8\"],[0.3333333333333333,\"#9c179e\"],[0.4444444444444444,\"#bd3786\"],[0.5555555555555556,\"#d8576b\"],[0.6666666666666666,\"#ed7953\"],[0.7777777777777778,\"#fb9f3a\"],[0.8888888888888888,\"#fdca26\"],[1.0,\"#f0f921\"]],\"type\":\"surface\"}],\"table\":[{\"cells\":{\"fill\":{\"color\":\"#EBF0F8\"},\"line\":{\"color\":\"white\"}},\"header\":{\"fill\":{\"color\":\"#C8D4E3\"},\"line\":{\"color\":\"white\"}},\"type\":\"table\"}]},\"layout\":{\"annotationdefaults\":{\"arrowcolor\":\"#2a3f5f\",\"arrowhead\":0,\"arrowwidth\":1},\"autotypenumbers\":\"strict\",\"coloraxis\":{\"colorbar\":{\"outlinewidth\":0,\"ticks\":\"\"}},\"colorscale\":{\"diverging\":[[0,\"#8e0152\"],[0.1,\"#c51b7d\"],[0.2,\"#de77ae\"],[0.3,\"#f1b6da\"],[0.4,\"#fde0ef\"],[0.5,\"#f7f7f7\"],[0.6,\"#e6f5d0\"],[0.7,\"#b8e186\"],[0.8,\"#7fbc41\"],[0.9,\"#4d9221\"],[1,\"#276419\"]],\"sequential\":[[0.0,\"#0d0887\"],[0.1111111111111111,\"#46039f\"],[0.2222222222222222,\"#7201a8\"],[0.3333333333333333,\"#9c179e\"],[0.4444444444444444,\"#bd3786\"],[0.5555555555555556,\"#d8576b\"],[0.6666666666666666,\"#ed7953\"],[0.7777777777777778,\"#fb9f3a\"],[0.8888888888888888,\"#fdca26\"],[1.0,\"#f0f921\"]],\"sequentialminus\":[[0.0,\"#0d0887\"],[0.1111111111111111,\"#46039f\"],[0.2222222222222222,\"#7201a8\"],[0.3333333333333333,\"#9c179e\"],[0.4444444444444444,\"#bd3786\"],[0.5555555555555556,\"#d8576b\"],[0.6666666666666666,\"#ed7953\"],[0.7777777777777778,\"#fb9f3a\"],[0.8888888888888888,\"#fdca26\"],[1.0,\"#f0f921\"]]},\"colorway\":[\"#636efa\",\"#EF553B\",\"#00cc96\",\"#ab63fa\",\"#FFA15A\",\"#19d3f3\",\"#FF6692\",\"#B6E880\",\"#FF97FF\",\"#FECB52\"],\"font\":{\"color\":\"#2a3f5f\"},\"geo\":{\"bgcolor\":\"white\",\"lakecolor\":\"white\",\"landcolor\":\"#E5ECF6\",\"showlakes\":true,\"showland\":true,\"subunitcolor\":\"white\"},\"hoverlabel\":{\"align\":\"left\"},\"hovermode\":\"closest\",\"mapbox\":{\"style\":\"light\"},\"paper_bgcolor\":\"white\",\"plot_bgcolor\":\"#E5ECF6\",\"polar\":{\"angularaxis\":{\"gridcolor\":\"white\",\"linecolor\":\"white\",\"ticks\":\"\"},\"bgcolor\":\"#E5ECF6\",\"radialaxis\":{\"gridcolor\":\"white\",\"linecolor\":\"white\",\"ticks\":\"\"}},\"scene\":{\"xaxis\":{\"backgroundcolor\":\"#E5ECF6\",\"gridcolor\":\"white\",\"gridwidth\":2,\"linecolor\":\"white\",\"showbackground\":true,\"ticks\":\"\",\"zerolinecolor\":\"white\"},\"yaxis\":{\"backgroundcolor\":\"#E5ECF6\",\"gridcolor\":\"white\",\"gridwidth\":2,\"linecolor\":\"white\",\"showbackground\":true,\"ticks\":\"\",\"zerolinecolor\":\"white\"},\"zaxis\":{\"backgroundcolor\":\"#E5ECF6\",\"gridcolor\":\"white\",\"gridwidth\":2,\"linecolor\":\"white\",\"showbackground\":true,\"ticks\":\"\",\"zerolinecolor\":\"white\"}},\"shapedefaults\":{\"line\":{\"color\":\"#2a3f5f\"}},\"ternary\":{\"aaxis\":{\"gridcolor\":\"white\",\"linecolor\":\"white\",\"ticks\":\"\"},\"baxis\":{\"gridcolor\":\"white\",\"linecolor\":\"white\",\"ticks\":\"\"},\"bgcolor\":\"#E5ECF6\",\"caxis\":{\"gridcolor\":\"white\",\"linecolor\":\"white\",\"ticks\":\"\"}},\"title\":{\"x\":0.05},\"xaxis\":{\"automargin\":true,\"gridcolor\":\"white\",\"linecolor\":\"white\",\"ticks\":\"\",\"title\":{\"standoff\":15},\"zerolinecolor\":\"white\",\"zerolinewidth\":2},\"yaxis\":{\"automargin\":true,\"gridcolor\":\"white\",\"linecolor\":\"white\",\"ticks\":\"\",\"title\":{\"standoff\":15},\"zerolinecolor\":\"white\",\"zerolinewidth\":2}}},\"xaxis\":{\"anchor\":\"y\",\"domain\":[0.0,1.0],\"title\":{\"text\":\"Categories\"}},\"yaxis\":{\"anchor\":\"x\",\"domain\":[0.0,1.0],\"title\":{\"text\":\"Count\"}},\"legend\":{\"tracegroupgap\":0},\"title\":{\"text\":\"Category counts\"},\"barmode\":\"relative\"},                        {\"responsive\": true}                    ).then(function(){\n",
              "                            \n",
              "var gd = document.getElementById('d6aec4c4-90ce-405b-908f-a3407b0af5a7');\n",
              "var x = new MutationObserver(function (mutations, observer) {{\n",
              "        var display = window.getComputedStyle(gd).display;\n",
              "        if (!display || display === 'none') {{\n",
              "            console.log([gd, 'removed!']);\n",
              "            Plotly.purge(gd);\n",
              "            observer.disconnect();\n",
              "        }}\n",
              "}});\n",
              "\n",
              "// Listen for the removal of the full notebook cells\n",
              "var notebookContainer = gd.closest('#notebook-container');\n",
              "if (notebookContainer) {{\n",
              "    x.observe(notebookContainer, {childList: true});\n",
              "}}\n",
              "\n",
              "// Listen for the clearing of the current output cell\n",
              "var outputEl = gd.closest('.output');\n",
              "if (outputEl) {{\n",
              "    x.observe(outputEl, {childList: true});\n",
              "}}\n",
              "\n",
              "                        })                };                            </script>        </div>\n",
              "</body>\n",
              "</html>"
            ]
          },
          "metadata": {}
        },
        {
          "output_type": "display_data",
          "data": {
            "text/plain": [
              "<Figure size 4320x1728 with 0 Axes>"
            ]
          },
          "metadata": {}
        }
      ]
    },
    {
      "cell_type": "markdown",
      "source": [
        "Setting the target column and creating a dataframe from it"
      ],
      "metadata": {
        "id": "s9vTywyO8JLe"
      }
    },
    {
      "cell_type": "code",
      "source": [
        "targets = raw[['category']]"
      ],
      "metadata": {
        "id": "JSH7s45Gi-Rz"
      },
      "execution_count": null,
      "outputs": []
    },
    {
      "cell_type": "markdown",
      "source": [
        "# Splitting data into a training and validation set"
      ],
      "metadata": {
        "id": "E9zL1YTa46Vr"
      }
    },
    {
      "cell_type": "code",
      "source": [
        "from sklearn.model_selection import train_test_split"
      ],
      "metadata": {
        "id": "sYmNWM0IhTWx"
      },
      "execution_count": null,
      "outputs": []
    },
    {
      "cell_type": "markdown",
      "source": [
        "Splitting the data into 2, a training set with the inputs and its targets and a validation set with its targets. 30% Split"
      ],
      "metadata": {
        "id": "hXAD6JN4DpVm"
      }
    },
    {
      "cell_type": "code",
      "source": [
        "train_df, val_df, train_targets, val_targets = train_test_split(raw, targets, test_size=0.3, random_state=42)"
      ],
      "metadata": {
        "id": "UQacrFGMid61"
      },
      "execution_count": null,
      "outputs": []
    },
    {
      "cell_type": "markdown",
      "source": [
        "# Cleaning data/Preparation for TFIDF"
      ],
      "metadata": {
        "id": "owMuH5qh5AZx"
      }
    },
    {
      "cell_type": "code",
      "source": [
        "import string"
      ],
      "metadata": {
        "id": "y20hwMh_joDW"
      },
      "execution_count": null,
      "outputs": []
    },
    {
      "cell_type": "markdown",
      "source": [
        "Removing text-errors and punctuations in the specified columns."
      ],
      "metadata": {
        "id": "VxdKqpeE8QUC"
      }
    },
    {
      "cell_type": "code",
      "source": [
        "train_df['short_description'] = train_df['short_description'].str.encode('ascii', 'ignore').str.decode('ascii') #Removing ascii characthers in the data\n",
        "train_df['short_description'] = train_df['short_description'].str.lower() #Setting all the charcaters to lowercase\n",
        "train_df['short_description'] = train_df['short_description'].str.replace('[{}]'.format(string.punctuation), '') #Removing punctuations from the data\n",
        "\n",
        "train_df['headline'] = train_df['headline'].str.encode('ascii', 'ignore').str.decode('ascii') #Removing ascii characthers in the data\n",
        "train_df['headline'] = train_df['headline'].str.lower() #Setting all the charcaters to lowercase\n",
        "train_df['headline'] = train_df['headline'].str.replace('[{}]'.format(string.punctuation), '') #Removing punctuations from the data"
      ],
      "metadata": {
        "id": "eca-WXLw27MG",
        "colab": {
          "base_uri": "https://localhost:8080/"
        },
        "outputId": "64903bf0-163e-4628-fff2-870a3302f519"
      },
      "execution_count": null,
      "outputs": [
        {
          "output_type": "stream",
          "name": "stderr",
          "text": [
            "C:\\Users\\Ethan\\AppData\\Local\\Temp\\ipykernel_6668\\42535777.py:3: FutureWarning:\n",
            "\n",
            "The default value of regex will change from True to False in a future version.\n",
            "\n",
            "C:\\Users\\Ethan\\AppData\\Local\\Temp\\ipykernel_6668\\42535777.py:7: FutureWarning:\n",
            "\n",
            "The default value of regex will change from True to False in a future version.\n",
            "\n"
          ]
        }
      ]
    },
    {
      "cell_type": "markdown",
      "source": [
        "Checking the data to ensure it is cleaned and prepared correctly before TFIDF vectorizing "
      ],
      "metadata": {
        "id": "UPWIjU8CD4PO"
      }
    },
    {
      "cell_type": "code",
      "source": [
        "train_df.sample(5)"
      ],
      "metadata": {
        "id": "aph0T4ikNFrx",
        "colab": {
          "base_uri": "https://localhost:8080/",
          "height": 415
        },
        "outputId": "397601ff-4e84-4b16-a9d8-4629075f6a07"
      },
      "execution_count": null,
      "outputs": [
        {
          "output_type": "execute_result",
          "data": {
            "text/plain": [
              "             category  \\\n",
              "143004      LIFESTYLE   \n",
              "44131   ENTERTAINMENT   \n",
              "134197       WELLNESS   \n",
              "3342         POLITICS   \n",
              "177512       BUSINESS   \n",
              "\n",
              "                                                                    headline  \\\n",
              "143004        10 outfit ideas for this tricky transition fall weather photos   \n",
              "44131               kate beckinsale delights in arranging fruit into penises   \n",
              "134197           learning to cry adventures in anxiety and depression part 2   \n",
              "3342    sen mark warner facebook not being fully forthcoming about data leak   \n",
              "177512                     miguel cabrera triple crown dirt to sell for 3999   \n",
              "\n",
              "                                       authors  \\\n",
              "143004                         Michelle Persad   \n",
              "44131                               Ron Dicker   \n",
              "134197  Rachel Bulatovich, Contributor\\nWriter   \n",
              "3342                                Igor Bobic   \n",
              "177512                      Caroline Fairchild   \n",
              "\n",
              "                                                                                                                           link  \\\n",
              "143004                          https://www.huffingtonpost.com/entry/fall-street-style-outfit-ideas_us_5b9d8f91e4b03a1dcc898542   \n",
              "44131   https://www.huffingtonpost.com/entry/kate-beckinsale-delights-in-forming-fruit-into-penises_us_5811d091e4b064e1b4b09233   \n",
              "134197                                              https://www.huffingtonpost.com/entry/depression_us_5b9dc18ae4b03a1dcc8c7ed3   \n",
              "3342                                 https://www.huffingtonpost.com/entry/facebook-breach-cambridge_us_5ab7d2d0e4b008c9e5f87988   \n",
              "177512                   https://www.huffingtonpost.com/entry/miguel-cabrera-wins-triple-crown-dirt_us_5b9c6068e4b03a1dcc7e3140   \n",
              "\n",
              "                                                                                                                                                                                                           short_description  \\\n",
              "143004                                                                                             thankfully we can look to ladies on the streets of new york for inspiration on how to look cool and maintain a reasonable   \n",
              "44131                                                                                                                                                  she shows off her phallic masterpieces on late night with seth meyers   \n",
              "134197  i would talk to people and they would remark youre depressed but you look so together as if they were mutually exclusive i want everyone to know what im going through because im not ashamed i have no reason to be   \n",
              "3342                                                                                          the senior democrat on the senate intelligence committee is calling on facebook ceo mark zuckerberg to testify before congress   \n",
              "177512                                                                                         miguel cabreras triple crown win was a victory for the baseball player whose name will forever be enshrined in sports history   \n",
              "\n",
              "             date  year  \n",
              "143004 2013-10-07  2013  \n",
              "44131  2016-10-27  2016  \n",
              "134197 2014-01-08  2014  \n",
              "3342   2018-03-25  2018  \n",
              "177512 2012-10-05  2012  "
            ],
            "text/html": [
              "<div>\n",
              "<style scoped>\n",
              "    .dataframe tbody tr th:only-of-type {\n",
              "        vertical-align: middle;\n",
              "    }\n",
              "\n",
              "    .dataframe tbody tr th {\n",
              "        vertical-align: top;\n",
              "    }\n",
              "\n",
              "    .dataframe thead th {\n",
              "        text-align: right;\n",
              "    }\n",
              "</style>\n",
              "<table border=\"1\" class=\"dataframe\">\n",
              "  <thead>\n",
              "    <tr style=\"text-align: right;\">\n",
              "      <th></th>\n",
              "      <th>category</th>\n",
              "      <th>headline</th>\n",
              "      <th>authors</th>\n",
              "      <th>link</th>\n",
              "      <th>short_description</th>\n",
              "      <th>date</th>\n",
              "      <th>year</th>\n",
              "    </tr>\n",
              "  </thead>\n",
              "  <tbody>\n",
              "    <tr>\n",
              "      <th>143004</th>\n",
              "      <td>LIFESTYLE</td>\n",
              "      <td>10 outfit ideas for this tricky transition fall weather photos</td>\n",
              "      <td>Michelle Persad</td>\n",
              "      <td>https://www.huffingtonpost.com/entry/fall-street-style-outfit-ideas_us_5b9d8f91e4b03a1dcc898542</td>\n",
              "      <td>thankfully we can look to ladies on the streets of new york for inspiration on how to look cool and maintain a reasonable</td>\n",
              "      <td>2013-10-07</td>\n",
              "      <td>2013</td>\n",
              "    </tr>\n",
              "    <tr>\n",
              "      <th>44131</th>\n",
              "      <td>ENTERTAINMENT</td>\n",
              "      <td>kate beckinsale delights in arranging fruit into penises</td>\n",
              "      <td>Ron Dicker</td>\n",
              "      <td>https://www.huffingtonpost.com/entry/kate-beckinsale-delights-in-forming-fruit-into-penises_us_5811d091e4b064e1b4b09233</td>\n",
              "      <td>she shows off her phallic masterpieces on late night with seth meyers</td>\n",
              "      <td>2016-10-27</td>\n",
              "      <td>2016</td>\n",
              "    </tr>\n",
              "    <tr>\n",
              "      <th>134197</th>\n",
              "      <td>WELLNESS</td>\n",
              "      <td>learning to cry adventures in anxiety and depression part 2</td>\n",
              "      <td>Rachel Bulatovich, Contributor\\nWriter</td>\n",
              "      <td>https://www.huffingtonpost.com/entry/depression_us_5b9dc18ae4b03a1dcc8c7ed3</td>\n",
              "      <td>i would talk to people and they would remark youre depressed but you look so together as if they were mutually exclusive i want everyone to know what im going through because im not ashamed i have no reason to be</td>\n",
              "      <td>2014-01-08</td>\n",
              "      <td>2014</td>\n",
              "    </tr>\n",
              "    <tr>\n",
              "      <th>3342</th>\n",
              "      <td>POLITICS</td>\n",
              "      <td>sen mark warner facebook not being fully forthcoming about data leak</td>\n",
              "      <td>Igor Bobic</td>\n",
              "      <td>https://www.huffingtonpost.com/entry/facebook-breach-cambridge_us_5ab7d2d0e4b008c9e5f87988</td>\n",
              "      <td>the senior democrat on the senate intelligence committee is calling on facebook ceo mark zuckerberg to testify before congress</td>\n",
              "      <td>2018-03-25</td>\n",
              "      <td>2018</td>\n",
              "    </tr>\n",
              "    <tr>\n",
              "      <th>177512</th>\n",
              "      <td>BUSINESS</td>\n",
              "      <td>miguel cabrera triple crown dirt to sell for 3999</td>\n",
              "      <td>Caroline Fairchild</td>\n",
              "      <td>https://www.huffingtonpost.com/entry/miguel-cabrera-wins-triple-crown-dirt_us_5b9c6068e4b03a1dcc7e3140</td>\n",
              "      <td>miguel cabreras triple crown win was a victory for the baseball player whose name will forever be enshrined in sports history</td>\n",
              "      <td>2012-10-05</td>\n",
              "      <td>2012</td>\n",
              "    </tr>\n",
              "  </tbody>\n",
              "</table>\n",
              "</div>"
            ]
          },
          "metadata": {},
          "execution_count": 51
        }
      ]
    },
    {
      "cell_type": "markdown",
      "source": [
        "Importing list of stopwords"
      ],
      "metadata": {
        "id": "-sP9-uNc8hjk"
      }
    },
    {
      "cell_type": "code",
      "source": [
        "import nltk\n",
        "from nltk.corpus import stopwords\n",
        "nltk.download('stopwords')\n"
      ],
      "metadata": {
        "id": "TmjgtOjZfzQN",
        "colab": {
          "base_uri": "https://localhost:8080/"
        },
        "outputId": "fe9ef931-fb78-498d-8c7d-0c205fd0fcc4"
      },
      "execution_count": null,
      "outputs": [
        {
          "output_type": "stream",
          "name": "stderr",
          "text": [
            "[nltk_data] Downloading package stopwords to\n",
            "[nltk_data]     C:\\Users\\Ethan\\AppData\\Roaming\\nltk_data...\n",
            "[nltk_data]   Package stopwords is already up-to-date!\n"
          ]
        },
        {
          "output_type": "execute_result",
          "data": {
            "text/plain": [
              "True"
            ]
          },
          "metadata": {},
          "execution_count": 52
        }
      ]
    },
    {
      "cell_type": "markdown",
      "source": [
        "Setting english stopwords as our datasets information is in english"
      ],
      "metadata": {
        "id": "1NVaAymoEFTT"
      }
    },
    {
      "cell_type": "code",
      "source": [
        "stop = stopwords.words('english')"
      ],
      "metadata": {
        "id": "OJ2kDyRyjjrX"
      },
      "execution_count": null,
      "outputs": []
    },
    {
      "cell_type": "markdown",
      "source": [
        "# TFIDF Vectorizing"
      ],
      "metadata": {
        "id": "LGI-ocKmXKcU"
      }
    },
    {
      "cell_type": "markdown",
      "source": [
        "Importing TFIDF Vectorizer from the scikit learn library"
      ],
      "metadata": {
        "id": "E4ffuwnZ8tVp"
      }
    },
    {
      "cell_type": "code",
      "source": [
        "from sklearn.feature_extraction.text import TfidfVectorizer"
      ],
      "metadata": {
        "id": "2F7nnl2KhuX2"
      },
      "execution_count": null,
      "outputs": []
    },
    {
      "cell_type": "markdown",
      "source": [
        "Defining a function and setting parameters for the vectorizer"
      ],
      "metadata": {
        "id": "AGH1zzte8zq_"
      }
    },
    {
      "cell_type": "code",
      "source": [
        "def tfid(y, features):\n",
        "  vectorizer = TfidfVectorizer(lowercase=True, #Lowercasing all data\n",
        "                               stop_words = stop, #using stopwords data from the previous section\n",
        "                               max_df=0.80, #when building the vocabulary ignore terms that have a document frequency higher than 80%, \n",
        "                               max_features=features, \n",
        "                               ngram_range=(1,3))  \n",
        "  vectorizer.fit(y) #fitting the data to 'y'\n",
        "  cleaned_desc = vectorizer.transform(y) #transforming 'y'\n",
        "  print(cleaned_desc.shape)\n",
        "  dense = cleaned_desc.todense() #Returning a dense matrix of the transformed data\n",
        "  denselist = dense.tolist() #Converting the matrix to a list\n",
        "  feature_names = vectorizer.get_feature_names_out() #Getting the feature names of the data, AKA the words that hold value\n",
        "  return(denselist, feature_names); #Return the list and feature names of the model\n"
      ],
      "metadata": {
        "id": "t3NHGRzmzVqI"
      },
      "execution_count": null,
      "outputs": []
    },
    {
      "cell_type": "code",
      "source": [
        "train_df.dropna(subset=['headline'], inplace = True) #Dropping null values in headline category"
      ],
      "metadata": {
        "id": "ooqYtHsd4daH"
      },
      "execution_count": null,
      "outputs": []
    },
    {
      "cell_type": "code",
      "source": [
        "train_df.isna().sum()"
      ],
      "metadata": {
        "colab": {
          "base_uri": "https://localhost:8080/"
        },
        "id": "5cOHKhmm4nL-",
        "outputId": "b01c3f0b-6462-44ff-c31c-bc0ea1c68346"
      },
      "execution_count": null,
      "outputs": [
        {
          "output_type": "execute_result",
          "data": {
            "text/plain": [
              "category    0\n",
              "headline    0\n",
              "           ..\n",
              "date        0\n",
              "year        0\n",
              "Length: 7, dtype: int64"
            ]
          },
          "metadata": {},
          "execution_count": 57
        }
      ]
    },
    {
      "cell_type": "code",
      "source": [
        "val_df.isna().sum()"
      ],
      "metadata": {
        "colab": {
          "base_uri": "https://localhost:8080/"
        },
        "id": "5JTh4zVIjioo",
        "outputId": "9609e358-0822-4536-9795-99616bf438e6"
      },
      "execution_count": null,
      "outputs": [
        {
          "output_type": "execute_result",
          "data": {
            "text/plain": [
              "category    0\n",
              "headline    0\n",
              "           ..\n",
              "date        0\n",
              "year        0\n",
              "Length: 7, dtype: int64"
            ]
          },
          "metadata": {},
          "execution_count": 58
        }
      ]
    },
    {
      "cell_type": "markdown",
      "source": [
        "Creating a new column which combine headline and short descriptions columns "
      ],
      "metadata": {
        "id": "VszZXVvH9RcU"
      }
    },
    {
      "cell_type": "code",
      "source": [
        "train_df['combined'] = train_df['headline'] + \" \" + train_df['short_description'] + \" \" + train_df['link']"
      ],
      "metadata": {
        "id": "rvnRE7XbeYca"
      },
      "execution_count": null,
      "outputs": []
    },
    {
      "cell_type": "code",
      "source": [
        "val_df['combined'] = val_df['headline'] + \" \" + val_df['short_description'] + \" \" + val_df['link']"
      ],
      "metadata": {
        "id": "UixUFpWvjwft"
      },
      "execution_count": null,
      "outputs": []
    },
    {
      "cell_type": "markdown",
      "source": [
        "Calling the function created earlier for TFIDF"
      ],
      "metadata": {
        "id": "h9-1Sqj29bD9"
      }
    },
    {
      "cell_type": "code",
      "source": [
        "combined_vec, combined_features = tfid(train_df['combined'], 3000)"
      ],
      "metadata": {
        "colab": {
          "base_uri": "https://localhost:8080/"
        },
        "id": "WRLTIh_UfFFQ",
        "outputId": "b2165f5d-6dc0-4e18-aff5-df18b434f5a5"
      },
      "execution_count": null,
      "outputs": [
        {
          "output_type": "stream",
          "name": "stdout",
          "text": [
            "(126780, 3000)\n"
          ]
        }
      ]
    },
    {
      "cell_type": "code",
      "source": [
        "combined_features"
      ],
      "metadata": {
        "colab": {
          "base_uri": "https://localhost:8080/"
        },
        "id": "TzxcPoLr6isK",
        "outputId": "fca040df-2891-44b3-c3ac-a50b21f97e6f"
      },
      "execution_count": null,
      "outputs": [
        {
          "output_type": "execute_result",
          "data": {
            "text/plain": [
              "array(['01', '02', '03', ..., 'youtube', 'youve', 'zika'], dtype=object)"
            ]
          },
          "metadata": {},
          "execution_count": 563
        }
      ]
    },
    {
      "cell_type": "code",
      "source": [
        "train_targets.shape"
      ],
      "metadata": {
        "colab": {
          "base_uri": "https://localhost:8080/"
        },
        "id": "tOgNU3B1-E12",
        "outputId": "25100563-742c-4723-d4ae-c037b5bf7349"
      },
      "execution_count": null,
      "outputs": [
        {
          "output_type": "execute_result",
          "data": {
            "text/plain": [
              "(126784, 1)"
            ]
          },
          "metadata": {},
          "execution_count": 61
        }
      ]
    },
    {
      "cell_type": "markdown",
      "source": [
        "Updating train_targets DF so when we train the model there is no mismatch in dimensions/values"
      ],
      "metadata": {
        "id": "boD5DUXJ9qP4"
      }
    },
    {
      "cell_type": "code",
      "source": [
        "train_targets = train_df[['category']]"
      ],
      "metadata": {
        "id": "O5PXE1UX9_wN"
      },
      "execution_count": null,
      "outputs": []
    },
    {
      "cell_type": "code",
      "source": [
        "train_df['category']"
      ],
      "metadata": {
        "colab": {
          "base_uri": "https://localhost:8080/"
        },
        "id": "KOd8ERWlkRQy",
        "outputId": "a2a8378e-027e-4f6e-a7a2-2612e35e5e6b"
      },
      "execution_count": null,
      "outputs": [
        {
          "output_type": "execute_result",
          "data": {
            "text/plain": [
              "104854         PARENTS\n",
              "185246        BUSINESS\n",
              "              ...     \n",
              "166515    FOOD & DRINK\n",
              "141577       LIFESTYLE\n",
              "Name: category, Length: 126780, dtype: object"
            ]
          },
          "metadata": {},
          "execution_count": 63
        }
      ]
    },
    {
      "cell_type": "code",
      "source": [
        "train_targets.shape"
      ],
      "metadata": {
        "colab": {
          "base_uri": "https://localhost:8080/"
        },
        "id": "r9hFxC5HkOM8",
        "outputId": "ee3b9df1-0e8a-4591-a3e5-460802e755f2"
      },
      "execution_count": null,
      "outputs": [
        {
          "output_type": "execute_result",
          "data": {
            "text/plain": [
              "(126780, 1)"
            ]
          },
          "metadata": {},
          "execution_count": 64
        }
      ]
    },
    {
      "cell_type": "code",
      "source": [
        "def hyperParams(**params):\n",
        "    vectorizer = TfidfVectorizer(**params) #**params for tuning the TFIDF model\n",
        "    vectorizer.fit(train_df['combined']) #Fitting model to the combined column in the training set\n",
        "    cleaned_desc = vectorizer.transform(train_df['combined']) #Transforming the training set\n",
        "    return cleaned_desc, vectorizer"
      ],
      "metadata": {
        "id": "7PUvMDEZERNN"
      },
      "execution_count": null,
      "outputs": []
    },
    {
      "cell_type": "code",
      "source": [
        "def increment(x): #Incremting function for different rounds/epochs when training/tuning\n",
        "  arr = []\n",
        "  for i in range(3):\n",
        "   arr.append(x + x)\n",
        "   x = x + x\n",
        "  return arr"
      ],
      "metadata": {
        "id": "6zQ2bW9-ESzi"
      },
      "execution_count": null,
      "outputs": []
    },
    {
      "cell_type": "markdown",
      "source": [
        "# Gradient Boosting Classifer\n"
      ],
      "metadata": {
        "id": "InYh-WOsXFrW"
      }
    },
    {
      "cell_type": "markdown",
      "source": [
        "Trying the RandomForestClassifier as a model"
      ],
      "metadata": {
        "id": "69-7NLPa-ncW"
      }
    },
    {
      "cell_type": "code",
      "source": [
        "from xgboost import XGBClassifier\n",
        "from xgboost import plot_tree\n",
        "from sklearn import preprocessing"
      ],
      "metadata": {
        "id": "7j978U1NOOzD",
        "colab": {
          "base_uri": "https://localhost:8080/"
        },
        "outputId": "1158fa52-3316-4e39-8645-2a8222b92289"
      },
      "execution_count": null,
      "outputs": [
        {
          "output_type": "stream",
          "name": "stderr",
          "text": [
            "C:\\Users\\Ethan\\AppData\\Local\\Programs\\Python\\Python39\\lib\\site-packages\\xgboost\\compat.py:36: FutureWarning:\n",
            "\n",
            "pandas.Int64Index is deprecated and will be removed from pandas in a future version. Use pandas.Index with the appropriate dtype instead.\n",
            "\n"
          ]
        }
      ]
    },
    {
      "cell_type": "markdown",
      "source": [
        "Defining functions for hyper parameter testing"
      ],
      "metadata": {
        "id": "Rhiv-umND9Js"
      }
    },
    {
      "cell_type": "code",
      "source": [
        "lbl = preprocessing.LabelEncoder()\n",
        "encoded_train_cats = lbl.fit_transform(train_targets.category.astype(str))\n",
        "encoded_val_cats = lbl.fit_transform(val_targets.category.astype(str))\n",
        "\n",
        "def RandomForestHyperParams(x, vector, **params):\n",
        "    model = XGBClassifier(**params) #**params for tuning the RandomForestClassifier model\n",
        "    model.fit(x, encoded_train_cats) #Fitting the model \n",
        "    print(\"Training set score: {:.5f}\".format(model.score(x, encoded_train_cats))) #Predictions for training set\n",
        "    valvector = vector.transform(val_df.combined) #Transforming the validation data for predictions\n",
        "    print(\"Validation set score: {:.5f}\\n\".format(model.score(valvector, encoded_val_cats))) #Predictions for validation set\n",
        "    Forest_history.append({\"train_score\":model.score(x, encoded_train_cats), \"val_score\":model.score(valvector, encoded_val_cats)})\n",
        "    return model"
      ],
      "metadata": {
        "id": "mAPdJQrjn_7D"
      },
      "execution_count": null,
      "outputs": []
    },
    {
      "cell_type": "code",
      "source": [
        "def ForestTuning(): \n",
        "  range = increment(4000)\n",
        "  counter = 1;\n",
        "  for i in range:\n",
        "    clean, vectorizer = hyperParams(lowercase=True, max_df=0.80, max_features= i, ngram_range=(1,3)) #Setting the parameters for TFIDF vectorizing\n",
        "    print(\"\\nRound {}: Max_features = {}\".format(counter, i)) #Displaying the round/epoch and the current parameters\n",
        "    model = RandomForestHyperParams(x = clean, vector = vectorizer, n_estimators= 20, max_depth = 6, n_jobs=-1, random_state=42) #Setting the RandomForestClassifier parameters\n",
        "    counter += 1; #Keeping track of the current round/epoch\n",
        "  return model, vectorizer"
      ],
      "metadata": {
        "id": "70BdBeY1Y5BY"
      },
      "execution_count": null,
      "outputs": []
    },
    {
      "cell_type": "code",
      "source": [
        "%%time\n",
        "Forest_history = []\n",
        "model, vectorizer = ForestTuning()"
      ],
      "metadata": {
        "colab": {
          "base_uri": "https://localhost:8080/"
        },
        "id": "_j8MLyz9mkdo",
        "outputId": "425a5352-2037-47f2-9865-a636ea949c6e"
      },
      "execution_count": null,
      "outputs": [
        {
          "output_type": "stream",
          "name": "stdout",
          "text": [
            "\n",
            "Round 1: Max_features = 8000\n"
          ]
        },
        {
          "output_type": "stream",
          "name": "stderr",
          "text": [
            "C:\\Users\\Ethan\\AppData\\Local\\Programs\\Python\\Python39\\lib\\site-packages\\xgboost\\sklearn.py:1224: UserWarning:\n",
            "\n",
            "The use of label encoder in XGBClassifier is deprecated and will be removed in a future release. To remove this warning, do the following: 1) Pass option use_label_encoder=False when constructing XGBClassifier object; and 2) Encode your labels (y) as integers starting with 0, i.e. 0, 1, 2, ..., [num_class - 1].\n",
            "\n"
          ]
        },
        {
          "output_type": "stream",
          "name": "stdout",
          "text": [
            "[23:53:49] WARNING: C:/Users/Administrator/workspace/xgboost-win64_release_1.5.1/src/learner.cc:1115: Starting in XGBoost 1.3.0, the default evaluation metric used with the objective 'multi:softprob' was changed from 'merror' to 'mlogloss'. Explicitly set eval_metric if you'd like to restore the old behavior.\n",
            "Training set score: 0.64801\n",
            "Validation set score: 0.60385\n",
            "\n",
            "\n",
            "Round 2: Max_features = 16000\n"
          ]
        },
        {
          "output_type": "stream",
          "name": "stderr",
          "text": [
            "C:\\Users\\Ethan\\AppData\\Local\\Programs\\Python\\Python39\\lib\\site-packages\\xgboost\\sklearn.py:1224: UserWarning:\n",
            "\n",
            "The use of label encoder in XGBClassifier is deprecated and will be removed in a future release. To remove this warning, do the following: 1) Pass option use_label_encoder=False when constructing XGBClassifier object; and 2) Encode your labels (y) as integers starting with 0, i.e. 0, 1, 2, ..., [num_class - 1].\n",
            "\n"
          ]
        },
        {
          "output_type": "stream",
          "name": "stdout",
          "text": [
            "[23:56:14] WARNING: C:/Users/Administrator/workspace/xgboost-win64_release_1.5.1/src/learner.cc:1115: Starting in XGBoost 1.3.0, the default evaluation metric used with the objective 'multi:softprob' was changed from 'merror' to 'mlogloss'. Explicitly set eval_metric if you'd like to restore the old behavior.\n",
            "Training set score: 0.65014\n",
            "Validation set score: 0.60864\n",
            "\n",
            "\n",
            "Round 3: Max_features = 32000\n"
          ]
        },
        {
          "output_type": "stream",
          "name": "stderr",
          "text": [
            "C:\\Users\\Ethan\\AppData\\Local\\Programs\\Python\\Python39\\lib\\site-packages\\xgboost\\sklearn.py:1224: UserWarning:\n",
            "\n",
            "The use of label encoder in XGBClassifier is deprecated and will be removed in a future release. To remove this warning, do the following: 1) Pass option use_label_encoder=False when constructing XGBClassifier object; and 2) Encode your labels (y) as integers starting with 0, i.e. 0, 1, 2, ..., [num_class - 1].\n",
            "\n"
          ]
        },
        {
          "output_type": "stream",
          "name": "stdout",
          "text": [
            "[23:58:47] WARNING: C:/Users/Administrator/workspace/xgboost-win64_release_1.5.1/src/learner.cc:1115: Starting in XGBoost 1.3.0, the default evaluation metric used with the objective 'multi:softprob' was changed from 'merror' to 'mlogloss'. Explicitly set eval_metric if you'd like to restore the old behavior.\n",
            "Training set score: 0.65022\n",
            "Validation set score: 0.60930\n",
            "\n",
            "CPU times: total: 40min 30s\n",
            "Wall time: 7min 41s\n"
          ]
        }
      ]
    },
    {
      "cell_type": "markdown",
      "source": [
        "**Max_features in the TFIDF vectorizer seems to play a big part in the models predictions. Previous testing showed that tuning the RandomForestClassifier showed little to no difference in the accuracy of the model**"
      ],
      "metadata": {
        "id": "MvSRr6_vEHIL"
      }
    },
    {
      "cell_type": "markdown",
      "source": [
        "Sample Predictions"
      ],
      "metadata": {
        "id": "-snk5WUQFZAA"
      }
    },
    {
      "cell_type": "code",
      "source": [
        "list(lbl.inverse_transform(model.predict(vectorizer.transform([\"Texas sues Biden administration to stop mask mandates on planes – as it happened\"])))) #Poltical headline"
      ],
      "metadata": {
        "colab": {
          "base_uri": "https://localhost:8080/"
        },
        "id": "um2Ki488_lIE",
        "outputId": "a7401ee9-a8ee-44c9-f5b1-0e9db9596efa"
      },
      "execution_count": null,
      "outputs": [
        {
          "output_type": "execute_result",
          "data": {
            "text/plain": [
              "['ENTERTAINMENT']"
            ]
          },
          "metadata": {},
          "execution_count": 85
        }
      ]
    },
    {
      "cell_type": "code",
      "source": [
        "list(lbl.inverse_transform(model.predict(vectorizer.transform([\"Google moves to make Android apps more private\"])))) #Tech headline"
      ],
      "metadata": {
        "colab": {
          "base_uri": "https://localhost:8080/"
        },
        "id": "MNY1DmRCDQN1",
        "outputId": "40ab13a7-3f6b-448d-f5a9-5060ef34b6df"
      },
      "execution_count": null,
      "outputs": [
        {
          "output_type": "execute_result",
          "data": {
            "text/plain": [
              "['TECH']"
            ]
          },
          "metadata": {},
          "execution_count": 86
        }
      ]
    },
    {
      "cell_type": "code",
      "source": [
        "list(lbl.inverse_transform(model.predict(vectorizer.transform([\"Googles plan to limit data tracking on its Chrome browser has been extended to cover apps on its Android-based smartphones.\"])))) #Tech short description"
      ],
      "metadata": {
        "colab": {
          "base_uri": "https://localhost:8080/"
        },
        "id": "f8JvBYZxDTCp",
        "outputId": "968cd616-63a9-41dd-e7a6-15ea391ccbae"
      },
      "execution_count": null,
      "outputs": [
        {
          "output_type": "execute_result",
          "data": {
            "text/plain": [
              "['TECH']"
            ]
          },
          "metadata": {},
          "execution_count": 87
        }
      ]
    },
    {
      "cell_type": "code",
      "source": [
        "list(lbl.inverse_transform(model.predict(vectorizer.transform([\"Austria and Germany have both announced plans to relax Covid-19 measures, weeks after pushing for compulsory vaccinations to curb infections.\"])))) #World News"
      ],
      "metadata": {
        "colab": {
          "base_uri": "https://localhost:8080/"
        },
        "id": "H0F2YpN9DgPT",
        "outputId": "93e8923d-b337-4f80-eeb0-c4c07452e374"
      },
      "execution_count": null,
      "outputs": [
        {
          "output_type": "execute_result",
          "data": {
            "text/plain": [
              "['WORLD NEWS']"
            ]
          },
          "metadata": {},
          "execution_count": 88
        }
      ]
    },
    {
      "cell_type": "code",
      "source": [
        "list(lbl.inverse_transform(model.predict(vectorizer.transform(['EUROPE Soldier abused for being gay told to provide intimate pictures to prove his sexuality'])))) #Queer News"
      ],
      "metadata": {
        "colab": {
          "base_uri": "https://localhost:8080/"
        },
        "id": "qb-8v6K5FeQD",
        "outputId": "dc8eecf3-164c-4965-c35c-ec19bac3ed37"
      },
      "execution_count": null,
      "outputs": [
        {
          "output_type": "execute_result",
          "data": {
            "text/plain": [
              "['QUEER VOICES']"
            ]
          },
          "metadata": {},
          "execution_count": 89
        }
      ]
    },
    {
      "cell_type": "markdown",
      "source": [
        "Here our model predicts a wrong category, lets try providing the description in the following line"
      ],
      "metadata": {
        "id": "RvwLSiN6HEF6"
      }
    },
    {
      "cell_type": "code",
      "source": [
        "list(lbl.inverse_transform(model.predict(vectorizer.transform(['Five healthy ways to discipline children'])))) #Parenting News"
      ],
      "metadata": {
        "colab": {
          "base_uri": "https://localhost:8080/"
        },
        "id": "9X1_gXrZG2uQ",
        "outputId": "48915d44-dc09-4d6c-dce6-cef5217ff719"
      },
      "execution_count": null,
      "outputs": [
        {
          "output_type": "execute_result",
          "data": {
            "text/plain": [
              "['WELLNESS']"
            ]
          },
          "metadata": {},
          "execution_count": 90
        }
      ]
    },
    {
      "cell_type": "markdown",
      "source": [
        "Still a wrong prediction, lets try combining both the headline and descripton"
      ],
      "metadata": {
        "id": "h0rfF0hCHQ3o"
      }
    },
    {
      "cell_type": "code",
      "source": [
        "list(lbl.inverse_transform(model.predict(vectorizer.transform(['A positive disciplining strategy can help develop a positive relationship and set expectations based on the behavioral outcomes, says an expert.']))))"
      ],
      "metadata": {
        "colab": {
          "base_uri": "https://localhost:8080/"
        },
        "id": "Bn7B9VgOHJ-v",
        "outputId": "24604d17-8617-4215-f68f-126419c20b81"
      },
      "execution_count": null,
      "outputs": [
        {
          "output_type": "execute_result",
          "data": {
            "text/plain": [
              "['ENTERTAINMENT']"
            ]
          },
          "metadata": {},
          "execution_count": 91
        }
      ]
    },
    {
      "cell_type": "markdown",
      "source": [
        "Still wrong, here we can see our model is not 100% accurate."
      ],
      "metadata": {
        "id": "hibxnylBHiJU"
      }
    },
    {
      "cell_type": "code",
      "source": [
        "list(lbl.inverse_transform(model.predict(vectorizer.transform(['Five healthy ways to discipline children A positive disciplining strategy can help develop a positive relationship and set expectations based on the behavioral outcomes, says an expert.']))))"
      ],
      "metadata": {
        "colab": {
          "base_uri": "https://localhost:8080/"
        },
        "id": "URYgjOx-HdH7",
        "outputId": "35e94b94-f248-4899-d4ed-bccc45f86c47"
      },
      "execution_count": null,
      "outputs": [
        {
          "output_type": "execute_result",
          "data": {
            "text/plain": [
              "['WELLNESS']"
            ]
          },
          "metadata": {},
          "execution_count": 92
        }
      ]
    },
    {
      "cell_type": "code",
      "source": [
        "sns.set_style(\"darkgrid\")\n",
        "\n",
        "plt.plot([x[\"val_score\"] for x in Forest_history], 'r-o')\n",
        "plt.plot([x[\"train_score\"] for x in Forest_history], 'b-o')\n",
        "\n",
        "plt.xticks([])\n",
        "\n",
        "plt.legend(['Validation Set Score', 'Training Set Score'])"
      ],
      "metadata": {
        "colab": {
          "base_uri": "https://localhost:8080/",
          "height": 266
        },
        "id": "NpgMlsro1oVQ",
        "outputId": "440b912b-40d1-41ea-e360-b0a430cf2a46"
      },
      "execution_count": null,
      "outputs": [
        {
          "output_type": "execute_result",
          "data": {
            "text/plain": [
              "<matplotlib.legend.Legend at 0x1c40a3ab430>"
            ]
          },
          "metadata": {},
          "execution_count": 93
        },
        {
          "output_type": "display_data",
          "data": {
            "text/plain": [
              "<Figure size 432x288 with 1 Axes>"
            ],
            "image/png": "[encoded data removed]"
          },
          "metadata": {}
        }
      ]
    },
    {
      "cell_type": "markdown",
      "source": [
        "# Naive Bayes\n"
      ],
      "metadata": {
        "id": "PHExkI_0YYuv"
      }
    },
    {
      "cell_type": "code",
      "source": [
        "from sklearn.naive_bayes import MultinomialNB"
      ],
      "metadata": {
        "id": "IHjSVa7GoEmW"
      },
      "execution_count": null,
      "outputs": []
    },
    {
      "cell_type": "code",
      "source": [
        "def NaiveModelHyperParams(x, vector, **params):\n",
        "    model = MultinomialNB(**params) #**params for tuning the MultinomialNB model\n",
        "    model.fit(x, train_targets) #Fitting the model \n",
        "    print(\"Training set score: {:.5f}\".format(model.score(x, train_targets.values.ravel()))) #Predictions for training set\n",
        "    valvector = vector.transform(val_df.combined) #Transforming the validation data for predictions\n",
        "    print(\"Validation set score: {:.5f}\\n\".format(model.score(valvector, val_targets.values.ravel()))) #Predictions for validation set\n",
        "    Naive_history.append({\"train_score\":model.score(x, train_targets.values.ravel()), \"val_score\":model.score(valvector, val_targets.values.ravel())})\n",
        "    return model"
      ],
      "metadata": {
        "id": "FDnkdWaYxvbU"
      },
      "execution_count": null,
      "outputs": []
    },
    {
      "cell_type": "code",
      "source": [
        "def NaiveTuning():\n",
        "  range = increment(4000)\n",
        "  counter = 1;\n",
        "  for i in range:\n",
        "    clean, vectorizer = hyperParams(lowercase=True, max_df=0.80, max_features= i, ngram_range=(1,3)) #Setting the parameters for TFIDF vectorizing\n",
        "    print(\"\\nRound {}: Max_features = {}\".format(counter, i))  #Displaying the round/epoch and the current parameters\n",
        "    model = NaiveModelHyperParams(x = clean, vector = vectorizer)  #Setting the MultinomailNB model parameters\n",
        "    counter += 1;\n",
        "  return model, vectorizer"
      ],
      "metadata": {
        "id": "yp3hhgJ8x5KH"
      },
      "execution_count": null,
      "outputs": []
    },
    {
      "cell_type": "markdown",
      "source": [
        "**Max_features in the TFIDF vectorizer seems to play a big part in the models predictions. Previous testing showed that tuning the RandomForestClassifier showed little to no difference in the accuracy of the model**"
      ],
      "metadata": {
        "id": "qkRl6hDjJDn3"
      }
    },
    {
      "cell_type": "code",
      "source": [
        "%%time\n",
        "Naive_history = []\n",
        "model, vectorizer = NaiveTuning()"
      ],
      "metadata": {
        "colab": {
          "base_uri": "https://localhost:8080/"
        },
        "id": "3IVRA4_PyVZP",
        "outputId": "fbb1b448-bb02-4031-b68a-5e7a7636f33d"
      },
      "execution_count": null,
      "outputs": [
        {
          "output_type": "stream",
          "name": "stdout",
          "text": [
            "\n",
            "Round 1: Max_features = 8000\n"
          ]
        },
        {
          "output_type": "stream",
          "name": "stderr",
          "text": [
            "C:\\Users\\Ethan\\AppData\\Local\\Programs\\Python\\Python39\\lib\\site-packages\\sklearn\\utils\\validation.py:993: DataConversionWarning:\n",
            "\n",
            "A column-vector y was passed when a 1d array was expected. Please change the shape of y to (n_samples, ), for example using ravel().\n",
            "\n"
          ]
        },
        {
          "output_type": "stream",
          "name": "stdout",
          "text": [
            "Training set score: 0.65346\n",
            "Validation set score: 0.62367\n",
            "\n",
            "\n",
            "Round 2: Max_features = 16000\n"
          ]
        },
        {
          "output_type": "stream",
          "name": "stderr",
          "text": [
            "C:\\Users\\Ethan\\AppData\\Local\\Programs\\Python\\Python39\\lib\\site-packages\\sklearn\\utils\\validation.py:993: DataConversionWarning:\n",
            "\n",
            "A column-vector y was passed when a 1d array was expected. Please change the shape of y to (n_samples, ), for example using ravel().\n",
            "\n"
          ]
        },
        {
          "output_type": "stream",
          "name": "stdout",
          "text": [
            "Training set score: 0.66887\n",
            "Validation set score: 0.63019\n",
            "\n",
            "\n",
            "Round 3: Max_features = 32000\n"
          ]
        },
        {
          "output_type": "stream",
          "name": "stderr",
          "text": [
            "C:\\Users\\Ethan\\AppData\\Local\\Programs\\Python\\Python39\\lib\\site-packages\\sklearn\\utils\\validation.py:993: DataConversionWarning:\n",
            "\n",
            "A column-vector y was passed when a 1d array was expected. Please change the shape of y to (n_samples, ), for example using ravel().\n",
            "\n"
          ]
        },
        {
          "output_type": "stream",
          "name": "stdout",
          "text": [
            "Training set score: 0.66938\n",
            "Validation set score: 0.62165\n",
            "\n",
            "CPU times: total: 2min 24s\n",
            "Wall time: 2min 27s\n"
          ]
        }
      ]
    },
    {
      "cell_type": "markdown",
      "source": [
        "Sample Predictions"
      ],
      "metadata": {
        "id": "_q1Y-i2wI1bx"
      }
    },
    {
      "cell_type": "code",
      "source": [
        "model"
      ],
      "metadata": {
        "colab": {
          "base_uri": "https://localhost:8080/"
        },
        "id": "jhVnmzPzMUP6",
        "outputId": "224916a3-1a54-4caa-afc9-de83717e3e22"
      },
      "execution_count": null,
      "outputs": [
        {
          "output_type": "execute_result",
          "data": {
            "text/plain": [
              "MultinomialNB()"
            ]
          },
          "metadata": {},
          "execution_count": 71
        }
      ]
    },
    {
      "cell_type": "code",
      "source": [
        "model.predict(vectorizer.transform([\"Texas sues Biden administration to stop mask mandates on planes – as it happened\"])), #Poltical headline"
      ],
      "metadata": {
        "colab": {
          "base_uri": "https://localhost:8080/"
        },
        "outputId": "cba62fa8-40fb-43d5-ac5d-74271cd39428",
        "id": "HT0UYka-I1bx"
      },
      "execution_count": null,
      "outputs": [
        {
          "output_type": "execute_result",
          "data": {
            "text/plain": [
              "(array(['POLITICS'], dtype='<U19'),)"
            ]
          },
          "metadata": {},
          "execution_count": 72
        }
      ]
    },
    {
      "cell_type": "code",
      "source": [
        "model.predict(vectorizer.transform([\"Google moves to make Android apps more private\"])) #Tech headline"
      ],
      "metadata": {
        "colab": {
          "base_uri": "https://localhost:8080/"
        },
        "outputId": "d55d1acd-37ac-48f5-ffe3-29a40523f78d",
        "id": "2-T-e64TI1bx"
      },
      "execution_count": null,
      "outputs": [
        {
          "output_type": "execute_result",
          "data": {
            "text/plain": [
              "array(['LIFESTYLE'], dtype='<U19')"
            ]
          },
          "metadata": {},
          "execution_count": 73
        }
      ]
    },
    {
      "cell_type": "code",
      "source": [
        "model.predict(vectorizer.transform([\"Googles plan to limit data tracking on its Chrome browser has been extended to cover apps on its Android-based smartphones.\"])) #Tech short description"
      ],
      "metadata": {
        "colab": {
          "base_uri": "https://localhost:8080/"
        },
        "outputId": "182e6e3b-d9c2-49f4-b96c-884e79e1fe54",
        "id": "Jxv20nU_I1by"
      },
      "execution_count": null,
      "outputs": [
        {
          "output_type": "execute_result",
          "data": {
            "text/plain": [
              "array(['POLITICS'], dtype='<U19')"
            ]
          },
          "metadata": {},
          "execution_count": 74
        }
      ]
    },
    {
      "cell_type": "code",
      "source": [
        "model.predict(vectorizer.transform([\"Austria and Germany have both announced plans to relax Covid-19 measures, weeks after pushing for compulsory vaccinations to curb infections.\"])) #General/Covid News"
      ],
      "metadata": {
        "colab": {
          "base_uri": "https://localhost:8080/"
        },
        "outputId": "6194a8a2-936c-43cd-c80f-0b30e931cb06",
        "id": "ElvQBebmI1by"
      },
      "execution_count": null,
      "outputs": [
        {
          "output_type": "execute_result",
          "data": {
            "text/plain": [
              "array(['WORLD NEWS'], dtype='<U19')"
            ]
          },
          "metadata": {},
          "execution_count": 75
        }
      ]
    },
    {
      "cell_type": "code",
      "source": [
        "model.predict(vectorizer.transform(['EUROPE Soldier abused for being gay told to provide intimate pictures to prove his sexuality'])) #Queer News"
      ],
      "metadata": {
        "colab": {
          "base_uri": "https://localhost:8080/"
        },
        "outputId": "d021f055-0536-4f4f-bd77-3ae0903e322d",
        "id": "w4hoRD28I1by"
      },
      "execution_count": null,
      "outputs": [
        {
          "output_type": "execute_result",
          "data": {
            "text/plain": [
              "array(['QUEER VOICES'], dtype='<U19')"
            ]
          },
          "metadata": {},
          "execution_count": 76
        }
      ]
    },
    {
      "cell_type": "markdown",
      "source": [
        "Here our model predicts a wrong category, lets try providing the description in the following line"
      ],
      "metadata": {
        "id": "JgP8idWKI1by"
      }
    },
    {
      "cell_type": "code",
      "source": [
        "model.predict(vectorizer.transform(['Five healthy ways to discipline children'])) #Parenting News"
      ],
      "metadata": {
        "colab": {
          "base_uri": "https://localhost:8080/"
        },
        "outputId": "0fb65b72-e954-4cd1-8ce3-928c2f635805",
        "id": "yfBYVXdEI1by"
      },
      "execution_count": null,
      "outputs": [
        {
          "output_type": "execute_result",
          "data": {
            "text/plain": [
              "array(['WELLNESS'], dtype='<U19')"
            ]
          },
          "metadata": {},
          "execution_count": 77
        }
      ]
    },
    {
      "cell_type": "markdown",
      "source": [
        "Still a wrong prediction, lets try combining both the headline and descripton"
      ],
      "metadata": {
        "id": "rdmWMPXUI1by"
      }
    },
    {
      "cell_type": "code",
      "source": [
        "model.predict(vectorizer.transform(['A positive disciplining strategy can help develop a positive relationship and set expectations based on the behavioral outcomes, says an expert.']))"
      ],
      "metadata": {
        "colab": {
          "base_uri": "https://localhost:8080/"
        },
        "outputId": "5fc9e940-8e5c-4658-88f2-278592c857b4",
        "id": "gL89uV4XI1by"
      },
      "execution_count": null,
      "outputs": [
        {
          "output_type": "execute_result",
          "data": {
            "text/plain": [
              "array(['WELLNESS'], dtype='<U19')"
            ]
          },
          "metadata": {},
          "execution_count": 78
        }
      ]
    },
    {
      "cell_type": "markdown",
      "source": [
        "Still wrong, here we can see our model is not 100% accurate."
      ],
      "metadata": {
        "id": "kGNB480hI1by"
      }
    },
    {
      "cell_type": "code",
      "source": [
        "model.predict(vectorizer.transform(['Five healthy ways to discipline children A positive disciplining strategy can help develop a positive relationship and set expectations based on the behavioral outcomes, says an expert.']))"
      ],
      "metadata": {
        "colab": {
          "base_uri": "https://localhost:8080/"
        },
        "outputId": "8e5fe49a-451c-4730-d8a6-c649f8fba98e",
        "id": "wH9NP1HnI1by"
      },
      "execution_count": null,
      "outputs": [
        {
          "output_type": "execute_result",
          "data": {
            "text/plain": [
              "array(['WELLNESS'], dtype='<U19')"
            ]
          },
          "metadata": {},
          "execution_count": 79
        }
      ]
    },
    {
      "cell_type": "code",
      "source": [
        "sns.set_style(\"darkgrid\")\n",
        "\n",
        "plt.plot([x[\"val_score\"] for x in Naive_history], 'r-o')\n",
        "plt.plot([x[\"train_score\"] for x in Naive_history], 'b-o')\n",
        "\n",
        "plt.xticks([])\n",
        "\n",
        "plt.legend(['Validation Set Score', 'Training Set Score'])"
      ],
      "metadata": {
        "colab": {
          "base_uri": "https://localhost:8080/",
          "height": 269
        },
        "id": "Zk65eF7P1cEg",
        "outputId": "8683501c-93fd-417c-fb9a-4c8df8eb9dae"
      },
      "execution_count": null,
      "outputs": [
        {
          "output_type": "execute_result",
          "data": {
            "text/plain": [
              "<matplotlib.legend.Legend at 0x1c444599490>"
            ]
          },
          "metadata": {},
          "execution_count": 80
        },
        {
          "output_type": "display_data",
          "data": {
            "text/plain": [
              "<Figure size 432x288 with 1 Axes>"
            ],
            "image/png": "[encoded data removed]"
          },
          "metadata": {}
        }
      ]
    },
    {
      "cell_type": "markdown",
      "source": [
        "# SGD Classifier"
      ],
      "metadata": {
        "id": "4TSdMIS1GbWI"
      }
    },
    {
      "cell_type": "code",
      "source": [
        "from sklearn.linear_model import SGDClassifier"
      ],
      "metadata": {
        "id": "jSvTzWuMGbWI"
      },
      "execution_count": null,
      "outputs": []
    },
    {
      "cell_type": "code",
      "source": [
        "def SGDModelHyperParams(x, vector, **params):\n",
        "    model = SGDClassifier(**params) #**params for tuning the SGD Classifier model\n",
        "    model.fit(x, train_targets) #Fitting the model \n",
        "    print(\"Training set score: {:.5f}\".format(model.score(x, train_targets.values.ravel()))) #Predictions for training set\n",
        "    valvector = vector.transform(val_df.combined) #Transforming the validation data for predictions\n",
        "    print(\"Validation set score: {:.5f}\\n\".format(model.score(valvector, val_targets.values.ravel()))) #Predictions for validation set\n",
        "    SGD_history.append({\"train_score\":model.score(x, train_targets.values.ravel()), \"val_score\":model.score(valvector, val_targets.values.ravel())})\n",
        "    return model"
      ],
      "metadata": {
        "id": "qgrsGUc6GbWJ"
      },
      "execution_count": null,
      "outputs": []
    },
    {
      "cell_type": "code",
      "source": [
        "def SGDTuning():\n",
        "  range = increment(4000)\n",
        "  counter = 1;\n",
        "  for i in range:\n",
        "    clean, vectorizer = hyperParams(lowercase=True, max_df=0.80, max_features= i, ngram_range=(1,3)) #Setting the parameters for TFIDF vectorizing\n",
        "    print(\"\\nRound {}: Max_features = {}\".format(counter, i))  #Displaying the round/epoch and the current parameters\n",
        "    model = SGDModelHyperParams(x = clean, vector = vectorizer ,n_jobs = -1, random_state=42, alpha = 0.0000095)  #Setting the SGD model parameters\n",
        "    counter += 1\n",
        "  return model, vectorizer"
      ],
      "metadata": {
        "id": "mpRt-LJMGbWJ"
      },
      "execution_count": null,
      "outputs": []
    },
    {
      "cell_type": "code",
      "source": [
        "%%time\n",
        "SGD_history = []\n",
        "model, vectorizer = SGDTuning()"
      ],
      "metadata": {
        "colab": {
          "base_uri": "https://localhost:8080/"
        },
        "outputId": "cc9ded59-ca6a-4f38-c9fb-e37d9e33eef8",
        "id": "xy8q8jzRGbWJ"
      },
      "execution_count": null,
      "outputs": [
        {
          "output_type": "stream",
          "name": "stdout",
          "text": [
            "\n",
            "Round 1: Max_features = 8000\n"
          ]
        },
        {
          "output_type": "stream",
          "name": "stderr",
          "text": [
            "C:\\Users\\Ethan\\AppData\\Local\\Programs\\Python\\Python39\\lib\\site-packages\\sklearn\\utils\\validation.py:993: DataConversionWarning:\n",
            "\n",
            "A column-vector y was passed when a 1d array was expected. Please change the shape of y to (n_samples, ), for example using ravel().\n",
            "\n"
          ]
        },
        {
          "output_type": "stream",
          "name": "stdout",
          "text": [
            "Training set score: 0.76930\n",
            "Validation set score: 0.69004\n",
            "\n",
            "\n",
            "Round 2: Max_features = 16000\n"
          ]
        },
        {
          "output_type": "stream",
          "name": "stderr",
          "text": [
            "C:\\Users\\Ethan\\AppData\\Local\\Programs\\Python\\Python39\\lib\\site-packages\\sklearn\\utils\\validation.py:993: DataConversionWarning:\n",
            "\n",
            "A column-vector y was passed when a 1d array was expected. Please change the shape of y to (n_samples, ), for example using ravel().\n",
            "\n"
          ]
        },
        {
          "output_type": "stream",
          "name": "stdout",
          "text": [
            "Training set score: 0.81675\n",
            "Validation set score: 0.70679\n",
            "\n",
            "\n",
            "Round 3: Max_features = 32000\n"
          ]
        },
        {
          "output_type": "stream",
          "name": "stderr",
          "text": [
            "C:\\Users\\Ethan\\AppData\\Local\\Programs\\Python\\Python39\\lib\\site-packages\\sklearn\\utils\\validation.py:993: DataConversionWarning:\n",
            "\n",
            "A column-vector y was passed when a 1d array was expected. Please change the shape of y to (n_samples, ), for example using ravel().\n",
            "\n"
          ]
        },
        {
          "output_type": "stream",
          "name": "stdout",
          "text": [
            "Training set score: 0.85986\n",
            "Validation set score: 0.71805\n",
            "\n",
            "CPU times: total: 2min 55s\n",
            "Wall time: 2min 38s\n"
          ]
        }
      ]
    },
    {
      "cell_type": "markdown",
      "source": [
        "Sample Predictions"
      ],
      "metadata": {
        "id": "qwCpRoXSGqc8"
      }
    },
    {
      "cell_type": "code",
      "source": [
        "sns.set_style(\"darkgrid\")\n",
        "\n",
        "plt.plot([x[\"val_score\"] for x in SGD_history], 'r-o')\n",
        "plt.plot([x[\"train_score\"] for x in SGD_history], 'b-o')\n",
        "\n",
        "plt.xticks([])\n",
        "\n",
        "plt.legend(['Validation Set Score', 'Training Set Score'])"
      ],
      "metadata": {
        "colab": {
          "base_uri": "https://localhost:8080/",
          "height": 266
        },
        "id": "L9FbuDPuu1GM",
        "outputId": "55020719-a1b5-4c81-8bdf-4c42db060d91"
      },
      "execution_count": null,
      "outputs": [
        {
          "output_type": "execute_result",
          "data": {
            "text/plain": [
              "<matplotlib.legend.Legend at 0x209105f9400>"
            ]
          },
          "metadata": {},
          "execution_count": 614
        },
        {
          "output_type": "display_data",
          "data": {
            "text/plain": [
              "<Figure size 432x288 with 1 Axes>"
            ],
            "image/png": "[encoded data removed]"
          },
          "metadata": {}
        }
      ]
    },
    {
      "cell_type": "code",
      "source": [
        "model.predict(vectorizer.transform([\"Texas sues Biden administration to stop mask mandates on planes – as it happened\"])) #Poltical headline"
      ],
      "metadata": {
        "colab": {
          "base_uri": "https://localhost:8080/"
        },
        "outputId": "507a6988-3cd4-4ceb-cfb0-744a35bc8f90",
        "id": "raVEiEw3Gqc8"
      },
      "execution_count": null,
      "outputs": [
        {
          "output_type": "execute_result",
          "data": {
            "text/plain": [
              "array(['POLITICS'], dtype='<U19')"
            ]
          },
          "metadata": {},
          "execution_count": 615
        }
      ]
    },
    {
      "cell_type": "code",
      "source": [
        "model.predict(vectorizer.transform([\"Google moves to make Android apps more private\"])) #Tech headline"
      ],
      "metadata": {
        "colab": {
          "base_uri": "https://localhost:8080/"
        },
        "outputId": "bf233e9c-5075-4517-fef7-233bda4da2f8",
        "id": "wYlUhZq0Gqc9"
      },
      "execution_count": null,
      "outputs": [
        {
          "output_type": "execute_result",
          "data": {
            "text/plain": [
              "array(['TECH'], dtype='<U19')"
            ]
          },
          "metadata": {},
          "execution_count": 616
        }
      ]
    },
    {
      "cell_type": "code",
      "source": [
        "model.predict(vectorizer.transform([\"Googles plan to limit data tracking on its Chrome browser has been extended to cover apps on its Android-based smartphones.\"])) #Tech short description"
      ],
      "metadata": {
        "colab": {
          "base_uri": "https://localhost:8080/"
        },
        "outputId": "b39779bc-bd42-4d7d-808e-1c9e339fe10e",
        "id": "tVlBVz7RGqc9"
      },
      "execution_count": null,
      "outputs": [
        {
          "output_type": "execute_result",
          "data": {
            "text/plain": [
              "array(['TECH'], dtype='<U19')"
            ]
          },
          "metadata": {},
          "execution_count": 617
        }
      ]
    },
    {
      "cell_type": "code",
      "source": [
        "model.predict(vectorizer.transform([\"Austria and Germany have both announced plans to relax Covid-19 measures, weeks after pushing for compulsory vaccinations to curb infections.\"])) #General/Covid News"
      ],
      "metadata": {
        "colab": {
          "base_uri": "https://localhost:8080/"
        },
        "outputId": "84b5d54c-23fd-4e5a-b2ed-13edd1a2a942",
        "id": "KvHiVW8SGqc9"
      },
      "execution_count": null,
      "outputs": [
        {
          "output_type": "execute_result",
          "data": {
            "text/plain": [
              "array(['WELLNESS'], dtype='<U19')"
            ]
          },
          "metadata": {},
          "execution_count": 618
        }
      ]
    },
    {
      "cell_type": "code",
      "source": [
        "model.predict(vectorizer.transform(['EUROPE Soldier abused for being gay told to provide intimate pictures to prove his sexuality'])) #Queer News"
      ],
      "metadata": {
        "colab": {
          "base_uri": "https://localhost:8080/"
        },
        "outputId": "2cfe76b1-ef02-4e6d-a427-13e951c9c493",
        "id": "PCe_nLR8Gqc9"
      },
      "execution_count": null,
      "outputs": [
        {
          "output_type": "execute_result",
          "data": {
            "text/plain": [
              "array(['QUEER VOICES'], dtype='<U19')"
            ]
          },
          "metadata": {},
          "execution_count": 619
        }
      ]
    },
    {
      "cell_type": "code",
      "source": [
        "model.predict(vectorizer.transform(['Five healthy ways to discipline children'])) #Parenting News"
      ],
      "metadata": {
        "colab": {
          "base_uri": "https://localhost:8080/"
        },
        "outputId": "10cf3f9a-c8a1-4064-f3a4-4af133a782f7",
        "id": "1Wps04FkGqc9"
      },
      "execution_count": null,
      "outputs": [
        {
          "output_type": "execute_result",
          "data": {
            "text/plain": [
              "array(['PARENTS'], dtype='<U19')"
            ]
          },
          "metadata": {},
          "execution_count": 620
        }
      ]
    },
    {
      "cell_type": "markdown",
      "source": [
        "With the short description of the previous headline the model predicts this as a Wellness category"
      ],
      "metadata": {
        "id": "WzbPbfi-Gqc9"
      }
    },
    {
      "cell_type": "code",
      "source": [
        "model.predict(vectorizer.transform(['A positive disciplining strategy can help develop a positive relationship and set expectations based on the behavioral outcomes, says an expert.']))"
      ],
      "metadata": {
        "colab": {
          "base_uri": "https://localhost:8080/"
        },
        "outputId": "0858eee0-a953-4fe0-de3e-1c7d81a53c31",
        "id": "a7DXqoJ2Gqc9"
      },
      "execution_count": null,
      "outputs": [
        {
          "output_type": "execute_result",
          "data": {
            "text/plain": [
              "array(['WELLNESS'], dtype='<U19')"
            ]
          },
          "metadata": {},
          "execution_count": 621
        }
      ]
    },
    {
      "cell_type": "markdown",
      "source": [
        "And with both headline and short description the model predicts this as a Wellness category"
      ],
      "metadata": {
        "id": "KAD3nD_AGqc9"
      }
    },
    {
      "cell_type": "code",
      "source": [
        "model.predict(vectorizer.transform(['Five healthy ways to discipline children A positive disciplining strategy can help develop a positive relationship and set expectations based on the behavioral outcomes, says an expert.']))"
      ],
      "metadata": {
        "colab": {
          "base_uri": "https://localhost:8080/"
        },
        "outputId": "8b831f5e-24f9-4179-be94-77a1f885fd27",
        "id": "vNoPeAt9Gqc9"
      },
      "execution_count": null,
      "outputs": [
        {
          "output_type": "execute_result",
          "data": {
            "text/plain": [
              "array(['WELLNESS'], dtype='<U19')"
            ]
          },
          "metadata": {},
          "execution_count": 622
        }
      ]
    },
    {
      "cell_type": "markdown",
      "source": [
        "# **Conclusion**\n",
        "While the models are not 100% accurate, we can see that they perform better than a random descesion model. When given vague headlines the model still manages to predict a category which is close to the correct category. When given a clearer headline or short description the model performs execptionally well. With some more tuning and testing of different models I am sure the predictions could be better. Another thing to keep in mind is that some news categories are subjective, what one person may say is entertainment another could say lifestyle.\n",
        "\n",
        "#References: \n",
        "https://scikit-learn.org/stable/modules/generated/sklearn.feature_extraction.text.TfidfVectorizer.html\n",
        "\n",
        "https://scikit-learn.org/stable/modules/classes.html?highlight=naive%20bayes#module-sklearn.naive_bayes\n",
        "\n",
        "https://scikit-learn.org/stable/modules/generated/sklearn.ensemble.RandomForestClassifier.html?highlight=randomforest#sklearn.ensemble.RandomForestClassifier\n",
        "\n",
        "https://plotly.com/python/\n",
        "\n",
        "https://www.youtube.com/watch?v=i74DVqMsRWY\n",
        "\n",
        "https://numpy.org/doc/stable/reference/index.html\n",
        "\n"
      ],
      "metadata": {
        "id": "tgIS4ngyIoiW"
      }
    }
  ]
}