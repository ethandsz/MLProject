{
  "nbformat": 4,
  "nbformat_minor": 0,
  "metadata": {
    "colab": {
      "name": "MLProject.ipynb",
      "provenance": [],
      "collapsed_sections": [],
      "mount_file_id": "1VHPL41d-OBs939nuenhDhww8cExMxpDK",
      "authorship_tag": "ABX9TyMIf887sBjCnSYyVB8GkVrL",
      "include_colab_link": true
    },
    "kernelspec": {
      "name": "python3",
      "display_name": "Python 3"
    },
    "language_info": {
      "name": "python"
    }
  },
  "cells": [
    {
      "cell_type": "markdown",
      "metadata": {
        "id": "view-in-github",
        "colab_type": "text"
      },
      "source": [
        "<a href=\"https://colab.research.google.com/github/ethandsz/MLProject/blob/main/MLProject.ipynb\" target=\"_parent\"><img src=\"https://colab.research.google.com/assets/colab-badge.svg\" alt=\"Open In Colab\"/></a>"
      ]
    },
    {
      "cell_type": "markdown",
      "source": [
        "# **![EthanDSZ linkedin banner-01.png](data:image/png;base64,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)News Headline Category Prediction**\n"
      ],
      "metadata": {
        "id": "Fz9uXwEZDG-6"
      }
    },
    {
      "cell_type": "code",
      "execution_count": null,
      "metadata": {
        "id": "uewNILOrwLBO"
      },
      "outputs": [],
      "source": [
        "import pandas as pd\n",
        "import numpy as np\n",
        "from sklearn.model_selection import train_test_split\n",
        "import seaborn as sns\n",
        "import matplotlib.pyplot as plt\n",
        "import os\n",
        "import plotly.express as px\n",
        "import plotly.graph_objects as go\n",
        "%matplotlib inline"
      ]
    },
    {
      "cell_type": "markdown",
      "source": [
        "# Importing data, exploratory analysis, and setting target column(s) for training"
      ],
      "metadata": {
        "id": "uXNcuQCF5OlJ"
      }
    },
    {
      "cell_type": "code",
      "source": [
        "#raw = pd.read_excel('drive/MyDrive/Headline/Headlines.xlsx')\n",
        "raw = pd.read_excel('Downloads/Headlines.xlsx')"
      ],
      "metadata": {
        "id": "LkHFxf60wRlV"
      },
      "execution_count": null,
      "outputs": []
    },
    {
      "cell_type": "code",
      "source": [
        "raw"
      ],
      "metadata": {
        "colab": {
          "base_uri": "https://localhost:8080/",
          "height": 424
        },
        "id": "5aaoCivZwIfH",
        "outputId": "86cdb2c6-b4ea-4d39-8f9a-2b7b549d9019"
      },
      "execution_count": null,
      "outputs": [
        {
          "output_type": "execute_result",
          "data": {
            "text/plain": [
              "        Unnamed: 0       category  \\\n",
              "0                0          CRIME   \n",
              "1                1  ENTERTAINMENT   \n",
              "2                2  ENTERTAINMENT   \n",
              "3                3  ENTERTAINMENT   \n",
              "4                4  ENTERTAINMENT   \n",
              "...            ...            ...   \n",
              "200848      200848           TECH   \n",
              "200849      200849         SPORTS   \n",
              "200850      200850         SPORTS   \n",
              "200851      200851         SPORTS   \n",
              "200852      200852         SPORTS   \n",
              "\n",
              "                                                 headline           authors  \\\n",
              "0       There Were 2 Mass Shootings In Texas Last Week...   Melissa Jeltsen   \n",
              "1       Will Smith Joins Diplo And Nicky Jam For The 2...     Andy McDonald   \n",
              "2         Hugh Grant Marries For The First Time At Age 57        Ron Dicker   \n",
              "3       Jim Carrey Blasts 'Castrato' Adam Schiff And D...        Ron Dicker   \n",
              "4       Julianna Margulies Uses Donald Trump Poop Bags...        Ron Dicker   \n",
              "...                                                   ...               ...   \n",
              "200848  RIM CEO Thorsten Heins' 'Significant' Plans Fo...  Reuters, Reuters   \n",
              "200849  Maria Sharapova Stunned By Victoria Azarenka I...               NaN   \n",
              "200850  Giants Over Patriots, Jets Over Colts Among  M...               NaN   \n",
              "200851  Aldon Smith Arrested: 49ers Linebacker Busted ...               NaN   \n",
              "200852  Dwight Howard Rips Teammates After Magic Loss ...               NaN   \n",
              "\n",
              "                                                     link  \\\n",
              "0       https://www.huffingtonpost.com/entry/texas-ama...   \n",
              "1       https://www.huffingtonpost.com/entry/will-smit...   \n",
              "2       https://www.huffingtonpost.com/entry/hugh-gran...   \n",
              "3       https://www.huffingtonpost.com/entry/jim-carre...   \n",
              "4       https://www.huffingtonpost.com/entry/julianna-...   \n",
              "...                                                   ...   \n",
              "200848  https://www.huffingtonpost.com/entry/rim-ceo-t...   \n",
              "200849  https://www.huffingtonpost.com/entry/maria-sha...   \n",
              "200850  https://www.huffingtonpost.com/entry/super-bow...   \n",
              "200851  https://www.huffingtonpost.com/entry/aldon-smi...   \n",
              "200852  https://www.huffingtonpost.com/entry/dwight-ho...   \n",
              "\n",
              "                                        short_description       date  \n",
              "0       She left her husband. He killed their children... 2018-05-26  \n",
              "1                                Of course it has a song. 2018-05-26  \n",
              "2       The actor and his longtime girlfriend Anna Ebe... 2018-05-26  \n",
              "3       The actor gives Dems an ass-kicking for not fi... 2018-05-26  \n",
              "4       The \"Dietland\" actress said using the bags is ... 2018-05-26  \n",
              "...                                                   ...        ...  \n",
              "200848  Verizon Wireless and AT&T are already promotin... 2012-01-28  \n",
              "200849  Afterward, Azarenka, more effusive with the pr... 2012-01-28  \n",
              "200850  Leading up to Super Bowl XLVI, the most talked... 2012-01-28  \n",
              "200851  CORRECTION: An earlier version of this story i... 2012-01-28  \n",
              "200852  The five-time all-star center tore into his te... 2012-01-28  \n",
              "\n",
              "[200853 rows x 7 columns]"
            ],
            "text/html": [
              "<div>\n",
              "<style scoped>\n",
              "    .dataframe tbody tr th:only-of-type {\n",
              "        vertical-align: middle;\n",
              "    }\n",
              "\n",
              "    .dataframe tbody tr th {\n",
              "        vertical-align: top;\n",
              "    }\n",
              "\n",
              "    .dataframe thead th {\n",
              "        text-align: right;\n",
              "    }\n",
              "</style>\n",
              "<table border=\"1\" class=\"dataframe\">\n",
              "  <thead>\n",
              "    <tr style=\"text-align: right;\">\n",
              "      <th></th>\n",
              "      <th>Unnamed: 0</th>\n",
              "      <th>category</th>\n",
              "      <th>headline</th>\n",
              "      <th>authors</th>\n",
              "      <th>link</th>\n",
              "      <th>short_description</th>\n",
              "      <th>date</th>\n",
              "    </tr>\n",
              "  </thead>\n",
              "  <tbody>\n",
              "    <tr>\n",
              "      <th>0</th>\n",
              "      <td>0</td>\n",
              "      <td>CRIME</td>\n",
              "      <td>There Were 2 Mass Shootings In Texas Last Week...</td>\n",
              "      <td>Melissa Jeltsen</td>\n",
              "      <td>https://www.huffingtonpost.com/entry/texas-ama...</td>\n",
              "      <td>She left her husband. He killed their children...</td>\n",
              "      <td>2018-05-26</td>\n",
              "    </tr>\n",
              "    <tr>\n",
              "      <th>1</th>\n",
              "      <td>1</td>\n",
              "      <td>ENTERTAINMENT</td>\n",
              "      <td>Will Smith Joins Diplo And Nicky Jam For The 2...</td>\n",
              "      <td>Andy McDonald</td>\n",
              "      <td>https://www.huffingtonpost.com/entry/will-smit...</td>\n",
              "      <td>Of course it has a song.</td>\n",
              "      <td>2018-05-26</td>\n",
              "    </tr>\n",
              "    <tr>\n",
              "      <th>2</th>\n",
              "      <td>2</td>\n",
              "      <td>ENTERTAINMENT</td>\n",
              "      <td>Hugh Grant Marries For The First Time At Age 57</td>\n",
              "      <td>Ron Dicker</td>\n",
              "      <td>https://www.huffingtonpost.com/entry/hugh-gran...</td>\n",
              "      <td>The actor and his longtime girlfriend Anna Ebe...</td>\n",
              "      <td>2018-05-26</td>\n",
              "    </tr>\n",
              "    <tr>\n",
              "      <th>3</th>\n",
              "      <td>3</td>\n",
              "      <td>ENTERTAINMENT</td>\n",
              "      <td>Jim Carrey Blasts 'Castrato' Adam Schiff And D...</td>\n",
              "      <td>Ron Dicker</td>\n",
              "      <td>https://www.huffingtonpost.com/entry/jim-carre...</td>\n",
              "      <td>The actor gives Dems an ass-kicking for not fi...</td>\n",
              "      <td>2018-05-26</td>\n",
              "    </tr>\n",
              "    <tr>\n",
              "      <th>4</th>\n",
              "      <td>4</td>\n",
              "      <td>ENTERTAINMENT</td>\n",
              "      <td>Julianna Margulies Uses Donald Trump Poop Bags...</td>\n",
              "      <td>Ron Dicker</td>\n",
              "      <td>https://www.huffingtonpost.com/entry/julianna-...</td>\n",
              "      <td>The \"Dietland\" actress said using the bags is ...</td>\n",
              "      <td>2018-05-26</td>\n",
              "    </tr>\n",
              "    <tr>\n",
              "      <th>...</th>\n",
              "      <td>...</td>\n",
              "      <td>...</td>\n",
              "      <td>...</td>\n",
              "      <td>...</td>\n",
              "      <td>...</td>\n",
              "      <td>...</td>\n",
              "      <td>...</td>\n",
              "    </tr>\n",
              "    <tr>\n",
              "      <th>200848</th>\n",
              "      <td>200848</td>\n",
              "      <td>TECH</td>\n",
              "      <td>RIM CEO Thorsten Heins' 'Significant' Plans Fo...</td>\n",
              "      <td>Reuters, Reuters</td>\n",
              "      <td>https://www.huffingtonpost.com/entry/rim-ceo-t...</td>\n",
              "      <td>Verizon Wireless and AT&amp;T are already promotin...</td>\n",
              "      <td>2012-01-28</td>\n",
              "    </tr>\n",
              "    <tr>\n",
              "      <th>200849</th>\n",
              "      <td>200849</td>\n",
              "      <td>SPORTS</td>\n",
              "      <td>Maria Sharapova Stunned By Victoria Azarenka I...</td>\n",
              "      <td>NaN</td>\n",
              "      <td>https://www.huffingtonpost.com/entry/maria-sha...</td>\n",
              "      <td>Afterward, Azarenka, more effusive with the pr...</td>\n",
              "      <td>2012-01-28</td>\n",
              "    </tr>\n",
              "    <tr>\n",
              "      <th>200850</th>\n",
              "      <td>200850</td>\n",
              "      <td>SPORTS</td>\n",
              "      <td>Giants Over Patriots, Jets Over Colts Among  M...</td>\n",
              "      <td>NaN</td>\n",
              "      <td>https://www.huffingtonpost.com/entry/super-bow...</td>\n",
              "      <td>Leading up to Super Bowl XLVI, the most talked...</td>\n",
              "      <td>2012-01-28</td>\n",
              "    </tr>\n",
              "    <tr>\n",
              "      <th>200851</th>\n",
              "      <td>200851</td>\n",
              "      <td>SPORTS</td>\n",
              "      <td>Aldon Smith Arrested: 49ers Linebacker Busted ...</td>\n",
              "      <td>NaN</td>\n",
              "      <td>https://www.huffingtonpost.com/entry/aldon-smi...</td>\n",
              "      <td>CORRECTION: An earlier version of this story i...</td>\n",
              "      <td>2012-01-28</td>\n",
              "    </tr>\n",
              "    <tr>\n",
              "      <th>200852</th>\n",
              "      <td>200852</td>\n",
              "      <td>SPORTS</td>\n",
              "      <td>Dwight Howard Rips Teammates After Magic Loss ...</td>\n",
              "      <td>NaN</td>\n",
              "      <td>https://www.huffingtonpost.com/entry/dwight-ho...</td>\n",
              "      <td>The five-time all-star center tore into his te...</td>\n",
              "      <td>2012-01-28</td>\n",
              "    </tr>\n",
              "  </tbody>\n",
              "</table>\n",
              "<p>200853 rows × 7 columns</p>\n",
              "</div>"
            ]
          },
          "metadata": {},
          "execution_count": 3
        }
      ]
    },
    {
      "cell_type": "markdown",
      "source": [
        "Dropping \"Unnamed: 0\" as it has no useful data"
      ],
      "metadata": {
        "id": "gyc4M1yD7mq6"
      }
    },
    {
      "cell_type": "code",
      "source": [
        "raw.drop(columns=\"Unnamed: 0\", inplace= True) "
      ],
      "metadata": {
        "id": "X5EMSxxZ2PGC"
      },
      "execution_count": null,
      "outputs": []
    },
    {
      "cell_type": "markdown",
      "source": [
        "Checking the number of categories and their names"
      ],
      "metadata": {
        "id": "MI_CjFnZ7vnY"
      }
    },
    {
      "cell_type": "code",
      "source": [
        "len(list(raw.category.unique()))"
      ],
      "metadata": {
        "id": "G_kc_rxhyQbM",
        "colab": {
          "base_uri": "https://localhost:8080/"
        },
        "outputId": "4666393a-6401-420e-977e-18b87906124d"
      },
      "execution_count": null,
      "outputs": [
        {
          "output_type": "execute_result",
          "data": {
            "text/plain": [
              "41"
            ]
          },
          "metadata": {},
          "execution_count": 5
        }
      ]
    },
    {
      "cell_type": "markdown",
      "source": [
        ""
      ],
      "metadata": {
        "id": "vHbf8mSADgzo"
      }
    },
    {
      "cell_type": "code",
      "source": [
        "raw.category.unique()"
      ],
      "metadata": {
        "colab": {
          "base_uri": "https://localhost:8080/"
        },
        "id": "jnRystIMrFgK",
        "outputId": "13a64df9-34b7-4f67-fc0b-facb19e7dc3b"
      },
      "execution_count": null,
      "outputs": [
        {
          "output_type": "execute_result",
          "data": {
            "text/plain": [
              "array(['CRIME', 'ENTERTAINMENT', 'WORLD NEWS', 'IMPACT', 'POLITICS',\n",
              "       'WEIRD NEWS', 'BLACK VOICES', 'WOMEN', 'COMEDY', 'QUEER VOICES',\n",
              "       'SPORTS', 'BUSINESS', 'TRAVEL', 'MEDIA', 'TECH', 'RELIGION',\n",
              "       'SCIENCE', 'LATINO VOICES', 'EDUCATION', 'COLLEGE', 'PARENTS',\n",
              "       'ARTS & CULTURE', 'STYLE', 'GREEN', 'TASTE', 'HEALTHY LIVING',\n",
              "       'THE WORLDPOST', 'GOOD NEWS', 'WORLDPOST', 'FIFTY', 'ARTS',\n",
              "       'WELLNESS', 'PARENTING', 'HOME & LIVING', 'STYLE & BEAUTY',\n",
              "       'DIVORCE', 'WEDDINGS', 'FOOD & DRINK', 'MONEY', 'ENVIRONMENT',\n",
              "       'CULTURE & ARTS'], dtype=object)"
            ]
          },
          "metadata": {},
          "execution_count": 6
        }
      ]
    },
    {
      "cell_type": "code",
      "source": [
        "raw.authors.unique().size"
      ],
      "metadata": {
        "colab": {
          "base_uri": "https://localhost:8080/"
        },
        "id": "w2tgjWIQ39d0",
        "outputId": "9f8b7bd5-7547-4acf-c393-80a0a2bc5aa8"
      },
      "execution_count": null,
      "outputs": [
        {
          "output_type": "execute_result",
          "data": {
            "text/plain": [
              "27993"
            ]
          },
          "metadata": {},
          "execution_count": 7
        }
      ]
    },
    {
      "cell_type": "markdown",
      "source": [
        "Dropping null/NaN values in the specified columns"
      ],
      "metadata": {
        "id": "vwraOeqR741f"
      }
    },
    {
      "cell_type": "code",
      "source": [
        "raw.dropna(subset = ['short_description', 'headline'], inplace = True) #Dropping all rows which contain Null/NaN values in the specified columns"
      ],
      "metadata": {
        "id": "dzhdqVmDirVm"
      },
      "execution_count": null,
      "outputs": []
    },
    {
      "cell_type": "markdown",
      "source": [
        "Plot of the top 25 reported categories"
      ],
      "metadata": {
        "id": "DIWUH_oM7_AX"
      }
    },
    {
      "cell_type": "code",
      "source": [
        "plt.figure(figsize=(60,24));\n",
        "\n",
        "fig = px.bar(x = raw.category.value_counts().index[:25], y = raw.category.value_counts()[:25], labels = {\n",
        "    \"x\": \"Categories\", #Setting x label to categories\n",
        "    \"y\": \"Count\"}, #Setting y label to count\n",
        "    title = \"Top 25 categories\"); #Setting the title\n",
        "fig.show(renderer=\"colab\");"
      ],
      "metadata": {
        "colab": {
          "base_uri": "https://localhost:8080/",
          "height": 559
        },
        "id": "69aVtfJVtAdd",
        "outputId": "6d87978e-5b17-46d2-8a56-23653a1684d3"
      },
      "execution_count": null,
      "outputs": [
        {
          "output_type": "display_data",
          "data": {
            "text/html": [
              "<html>\n",
              "<head><meta charset=\"utf-8\" /></head>\n",
              "<body>\n",
              "    <div>            <script src=\"https://cdnjs.cloudflare.com/ajax/libs/mathjax/2.7.5/MathJax.js?config=TeX-AMS-MML_SVG\"></script><script type=\"text/javascript\">if (window.MathJax) {MathJax.Hub.Config({SVG: {font: \"STIX-Web\"}});}</script>                <script type=\"text/javascript\">window.PlotlyConfig = {MathJaxConfig: 'local'};</script>\n",
              "        <script src=\"https://cdn.plot.ly/plotly-2.9.0.min.js\"></script>                <div id=\"1f87e9a1-bd43-45cf-9752-1127de68fb1c\" class=\"plotly-graph-div\" style=\"height:525px; width:100%;\"></div>            <script type=\"text/javascript\">                                    window.PLOTLYENV=window.PLOTLYENV || {};                                    if (document.getElementById(\"1f87e9a1-bd43-45cf-9752-1127de68fb1c\")) {                    Plotly.newPlot(                        \"1f87e9a1-bd43-45cf-9752-1127de68fb1c\",                        [{\"alignmentgroup\":\"True\",\"hovertemplate\":\"Categories=%{x}<br>Count=%{y}<extra></extra>\",\"legendgroup\":\"\",\"marker\":{\"color\":\"#636efa\",\"pattern\":{\"shape\":\"\"}},\"name\":\"\",\"offsetgroup\":\"\",\"orientation\":\"v\",\"showlegend\":false,\"textposition\":\"auto\",\"x\":[\"POLITICS\",\"WELLNESS\",\"ENTERTAINMENT\",\"STYLE & BEAUTY\",\"TRAVEL\",\"PARENTING\",\"FOOD & DRINK\",\"QUEER VOICES\",\"HEALTHY LIVING\",\"BUSINESS\",\"COMEDY\",\"SPORTS\",\"HOME & LIVING\",\"BLACK VOICES\",\"THE WORLDPOST\",\"WEDDINGS\",\"PARENTS\",\"DIVORCE\",\"WOMEN\",\"IMPACT\",\"CRIME\",\"MEDIA\",\"WEIRD NEWS\",\"WORLD NEWS\",\"TECH\"],\"xaxis\":\"x\",\"y\":[29578,17820,13470,9636,9402,8675,6217,5570,5265,5077,4417,4221,4190,4121,3664,3650,3556,3424,3102,3061,2675,2275,2209,2175,2080],\"yaxis\":\"y\",\"type\":\"bar\"}],                        {\"template\":{\"data\":{\"bar\":[{\"error_x\":{\"color\":\"#2a3f5f\"},\"error_y\":{\"color\":\"#2a3f5f\"},\"marker\":{\"line\":{\"color\":\"#E5ECF6\",\"width\":0.5},\"pattern\":{\"fillmode\":\"overlay\",\"size\":10,\"solidity\":0.2}},\"type\":\"bar\"}],\"barpolar\":[{\"marker\":{\"line\":{\"color\":\"#E5ECF6\",\"width\":0.5},\"pattern\":{\"fillmode\":\"overlay\",\"size\":10,\"solidity\":0.2}},\"type\":\"barpolar\"}],\"carpet\":[{\"aaxis\":{\"endlinecolor\":\"#2a3f5f\",\"gridcolor\":\"white\",\"linecolor\":\"white\",\"minorgridcolor\":\"white\",\"startlinecolor\":\"#2a3f5f\"},\"baxis\":{\"endlinecolor\":\"#2a3f5f\",\"gridcolor\":\"white\",\"linecolor\":\"white\",\"minorgridcolor\":\"white\",\"startlinecolor\":\"#2a3f5f\"},\"type\":\"carpet\"}],\"choropleth\":[{\"colorbar\":{\"outlinewidth\":0,\"ticks\":\"\"},\"type\":\"choropleth\"}],\"contour\":[{\"colorbar\":{\"outlinewidth\":0,\"ticks\":\"\"},\"colorscale\":[[0.0,\"#0d0887\"],[0.1111111111111111,\"#46039f\"],[0.2222222222222222,\"#7201a8\"],[0.3333333333333333,\"#9c179e\"],[0.4444444444444444,\"#bd3786\"],[0.5555555555555556,\"#d8576b\"],[0.6666666666666666,\"#ed7953\"],[0.7777777777777778,\"#fb9f3a\"],[0.8888888888888888,\"#fdca26\"],[1.0,\"#f0f921\"]],\"type\":\"contour\"}],\"contourcarpet\":[{\"colorbar\":{\"outlinewidth\":0,\"ticks\":\"\"},\"type\":\"contourcarpet\"}],\"heatmap\":[{\"colorbar\":{\"outlinewidth\":0,\"ticks\":\"\"},\"colorscale\":[[0.0,\"#0d0887\"],[0.1111111111111111,\"#46039f\"],[0.2222222222222222,\"#7201a8\"],[0.3333333333333333,\"#9c179e\"],[0.4444444444444444,\"#bd3786\"],[0.5555555555555556,\"#d8576b\"],[0.6666666666666666,\"#ed7953\"],[0.7777777777777778,\"#fb9f3a\"],[0.8888888888888888,\"#fdca26\"],[1.0,\"#f0f921\"]],\"type\":\"heatmap\"}],\"heatmapgl\":[{\"colorbar\":{\"outlinewidth\":0,\"ticks\":\"\"},\"colorscale\":[[0.0,\"#0d0887\"],[0.1111111111111111,\"#46039f\"],[0.2222222222222222,\"#7201a8\"],[0.3333333333333333,\"#9c179e\"],[0.4444444444444444,\"#bd3786\"],[0.5555555555555556,\"#d8576b\"],[0.6666666666666666,\"#ed7953\"],[0.7777777777777778,\"#fb9f3a\"],[0.8888888888888888,\"#fdca26\"],[1.0,\"#f0f921\"]],\"type\":\"heatmapgl\"}],\"histogram\":[{\"marker\":{\"pattern\":{\"fillmode\":\"overlay\",\"size\":10,\"solidity\":0.2}},\"type\":\"histogram\"}],\"histogram2d\":[{\"colorbar\":{\"outlinewidth\":0,\"ticks\":\"\"},\"colorscale\":[[0.0,\"#0d0887\"],[0.1111111111111111,\"#46039f\"],[0.2222222222222222,\"#7201a8\"],[0.3333333333333333,\"#9c179e\"],[0.4444444444444444,\"#bd3786\"],[0.5555555555555556,\"#d8576b\"],[0.6666666666666666,\"#ed7953\"],[0.7777777777777778,\"#fb9f3a\"],[0.8888888888888888,\"#fdca26\"],[1.0,\"#f0f921\"]],\"type\":\"histogram2d\"}],\"histogram2dcontour\":[{\"colorbar\":{\"outlinewidth\":0,\"ticks\":\"\"},\"colorscale\":[[0.0,\"#0d0887\"],[0.1111111111111111,\"#46039f\"],[0.2222222222222222,\"#7201a8\"],[0.3333333333333333,\"#9c179e\"],[0.4444444444444444,\"#bd3786\"],[0.5555555555555556,\"#d8576b\"],[0.6666666666666666,\"#ed7953\"],[0.7777777777777778,\"#fb9f3a\"],[0.8888888888888888,\"#fdca26\"],[1.0,\"#f0f921\"]],\"type\":\"histogram2dcontour\"}],\"mesh3d\":[{\"colorbar\":{\"outlinewidth\":0,\"ticks\":\"\"},\"type\":\"mesh3d\"}],\"parcoords\":[{\"line\":{\"colorbar\":{\"outlinewidth\":0,\"ticks\":\"\"}},\"type\":\"parcoords\"}],\"pie\":[{\"automargin\":true,\"type\":\"pie\"}],\"scatter\":[{\"marker\":{\"colorbar\":{\"outlinewidth\":0,\"ticks\":\"\"}},\"type\":\"scatter\"}],\"scatter3d\":[{\"line\":{\"colorbar\":{\"outlinewidth\":0,\"ticks\":\"\"}},\"marker\":{\"colorbar\":{\"outlinewidth\":0,\"ticks\":\"\"}},\"type\":\"scatter3d\"}],\"scattercarpet\":[{\"marker\":{\"colorbar\":{\"outlinewidth\":0,\"ticks\":\"\"}},\"type\":\"scattercarpet\"}],\"scattergeo\":[{\"marker\":{\"colorbar\":{\"outlinewidth\":0,\"ticks\":\"\"}},\"type\":\"scattergeo\"}],\"scattergl\":[{\"marker\":{\"colorbar\":{\"outlinewidth\":0,\"ticks\":\"\"}},\"type\":\"scattergl\"}],\"scattermapbox\":[{\"marker\":{\"colorbar\":{\"outlinewidth\":0,\"ticks\":\"\"}},\"type\":\"scattermapbox\"}],\"scatterpolar\":[{\"marker\":{\"colorbar\":{\"outlinewidth\":0,\"ticks\":\"\"}},\"type\":\"scatterpolar\"}],\"scatterpolargl\":[{\"marker\":{\"colorbar\":{\"outlinewidth\":0,\"ticks\":\"\"}},\"type\":\"scatterpolargl\"}],\"scatterternary\":[{\"marker\":{\"colorbar\":{\"outlinewidth\":0,\"ticks\":\"\"}},\"type\":\"scatterternary\"}],\"surface\":[{\"colorbar\":{\"outlinewidth\":0,\"ticks\":\"\"},\"colorscale\":[[0.0,\"#0d0887\"],[0.1111111111111111,\"#46039f\"],[0.2222222222222222,\"#7201a8\"],[0.3333333333333333,\"#9c179e\"],[0.4444444444444444,\"#bd3786\"],[0.5555555555555556,\"#d8576b\"],[0.6666666666666666,\"#ed7953\"],[0.7777777777777778,\"#fb9f3a\"],[0.8888888888888888,\"#fdca26\"],[1.0,\"#f0f921\"]],\"type\":\"surface\"}],\"table\":[{\"cells\":{\"fill\":{\"color\":\"#EBF0F8\"},\"line\":{\"color\":\"white\"}},\"header\":{\"fill\":{\"color\":\"#C8D4E3\"},\"line\":{\"color\":\"white\"}},\"type\":\"table\"}]},\"layout\":{\"annotationdefaults\":{\"arrowcolor\":\"#2a3f5f\",\"arrowhead\":0,\"arrowwidth\":1},\"autotypenumbers\":\"strict\",\"coloraxis\":{\"colorbar\":{\"outlinewidth\":0,\"ticks\":\"\"}},\"colorscale\":{\"diverging\":[[0,\"#8e0152\"],[0.1,\"#c51b7d\"],[0.2,\"#de77ae\"],[0.3,\"#f1b6da\"],[0.4,\"#fde0ef\"],[0.5,\"#f7f7f7\"],[0.6,\"#e6f5d0\"],[0.7,\"#b8e186\"],[0.8,\"#7fbc41\"],[0.9,\"#4d9221\"],[1,\"#276419\"]],\"sequential\":[[0.0,\"#0d0887\"],[0.1111111111111111,\"#46039f\"],[0.2222222222222222,\"#7201a8\"],[0.3333333333333333,\"#9c179e\"],[0.4444444444444444,\"#bd3786\"],[0.5555555555555556,\"#d8576b\"],[0.6666666666666666,\"#ed7953\"],[0.7777777777777778,\"#fb9f3a\"],[0.8888888888888888,\"#fdca26\"],[1.0,\"#f0f921\"]],\"sequentialminus\":[[0.0,\"#0d0887\"],[0.1111111111111111,\"#46039f\"],[0.2222222222222222,\"#7201a8\"],[0.3333333333333333,\"#9c179e\"],[0.4444444444444444,\"#bd3786\"],[0.5555555555555556,\"#d8576b\"],[0.6666666666666666,\"#ed7953\"],[0.7777777777777778,\"#fb9f3a\"],[0.8888888888888888,\"#fdca26\"],[1.0,\"#f0f921\"]]},\"colorway\":[\"#636efa\",\"#EF553B\",\"#00cc96\",\"#ab63fa\",\"#FFA15A\",\"#19d3f3\",\"#FF6692\",\"#B6E880\",\"#FF97FF\",\"#FECB52\"],\"font\":{\"color\":\"#2a3f5f\"},\"geo\":{\"bgcolor\":\"white\",\"lakecolor\":\"white\",\"landcolor\":\"#E5ECF6\",\"showlakes\":true,\"showland\":true,\"subunitcolor\":\"white\"},\"hoverlabel\":{\"align\":\"left\"},\"hovermode\":\"closest\",\"mapbox\":{\"style\":\"light\"},\"paper_bgcolor\":\"white\",\"plot_bgcolor\":\"#E5ECF6\",\"polar\":{\"angularaxis\":{\"gridcolor\":\"white\",\"linecolor\":\"white\",\"ticks\":\"\"},\"bgcolor\":\"#E5ECF6\",\"radialaxis\":{\"gridcolor\":\"white\",\"linecolor\":\"white\",\"ticks\":\"\"}},\"scene\":{\"xaxis\":{\"backgroundcolor\":\"#E5ECF6\",\"gridcolor\":\"white\",\"gridwidth\":2,\"linecolor\":\"white\",\"showbackground\":true,\"ticks\":\"\",\"zerolinecolor\":\"white\"},\"yaxis\":{\"backgroundcolor\":\"#E5ECF6\",\"gridcolor\":\"white\",\"gridwidth\":2,\"linecolor\":\"white\",\"showbackground\":true,\"ticks\":\"\",\"zerolinecolor\":\"white\"},\"zaxis\":{\"backgroundcolor\":\"#E5ECF6\",\"gridcolor\":\"white\",\"gridwidth\":2,\"linecolor\":\"white\",\"showbackground\":true,\"ticks\":\"\",\"zerolinecolor\":\"white\"}},\"shapedefaults\":{\"line\":{\"color\":\"#2a3f5f\"}},\"ternary\":{\"aaxis\":{\"gridcolor\":\"white\",\"linecolor\":\"white\",\"ticks\":\"\"},\"baxis\":{\"gridcolor\":\"white\",\"linecolor\":\"white\",\"ticks\":\"\"},\"bgcolor\":\"#E5ECF6\",\"caxis\":{\"gridcolor\":\"white\",\"linecolor\":\"white\",\"ticks\":\"\"}},\"title\":{\"x\":0.05},\"xaxis\":{\"automargin\":true,\"gridcolor\":\"white\",\"linecolor\":\"white\",\"ticks\":\"\",\"title\":{\"standoff\":15},\"zerolinecolor\":\"white\",\"zerolinewidth\":2},\"yaxis\":{\"automargin\":true,\"gridcolor\":\"white\",\"linecolor\":\"white\",\"ticks\":\"\",\"title\":{\"standoff\":15},\"zerolinecolor\":\"white\",\"zerolinewidth\":2}}},\"xaxis\":{\"anchor\":\"y\",\"domain\":[0.0,1.0],\"title\":{\"text\":\"Categories\"}},\"yaxis\":{\"anchor\":\"x\",\"domain\":[0.0,1.0],\"title\":{\"text\":\"Count\"}},\"legend\":{\"tracegroupgap\":0},\"title\":{\"text\":\"Top 25 categories\"},\"barmode\":\"relative\"},                        {\"responsive\": true}                    ).then(function(){\n",
              "                            \n",
              "var gd = document.getElementById('1f87e9a1-bd43-45cf-9752-1127de68fb1c');\n",
              "var x = new MutationObserver(function (mutations, observer) {{\n",
              "        var display = window.getComputedStyle(gd).display;\n",
              "        if (!display || display === 'none') {{\n",
              "            console.log([gd, 'removed!']);\n",
              "            Plotly.purge(gd);\n",
              "            observer.disconnect();\n",
              "        }}\n",
              "}});\n",
              "\n",
              "// Listen for the removal of the full notebook cells\n",
              "var notebookContainer = gd.closest('#notebook-container');\n",
              "if (notebookContainer) {{\n",
              "    x.observe(notebookContainer, {childList: true});\n",
              "}}\n",
              "\n",
              "// Listen for the clearing of the current output cell\n",
              "var outputEl = gd.closest('.output');\n",
              "if (outputEl) {{\n",
              "    x.observe(outputEl, {childList: true});\n",
              "}}\n",
              "\n",
              "                        })                };                            </script>        </div>\n",
              "</body>\n",
              "</html>"
            ]
          },
          "metadata": {}
        },
        {
          "output_type": "display_data",
          "data": {
            "text/plain": [
              "<Figure size 4320x1728 with 0 Axes>"
            ]
          },
          "metadata": {}
        }
      ]
    },
    {
      "cell_type": "markdown",
      "source": [
        "Setting the target column and creating a dataframe from it"
      ],
      "metadata": {
        "id": "s9vTywyO8JLe"
      }
    },
    {
      "cell_type": "code",
      "source": [
        "targets = raw[['category']]"
      ],
      "metadata": {
        "id": "JSH7s45Gi-Rz"
      },
      "execution_count": null,
      "outputs": []
    },
    {
      "cell_type": "markdown",
      "source": [
        "# Splitting data into a training and validation set"
      ],
      "metadata": {
        "id": "E9zL1YTa46Vr"
      }
    },
    {
      "cell_type": "code",
      "source": [
        "from sklearn.model_selection import train_test_split"
      ],
      "metadata": {
        "id": "sYmNWM0IhTWx"
      },
      "execution_count": null,
      "outputs": []
    },
    {
      "cell_type": "markdown",
      "source": [
        "Splitting the data into 2, a training set with the inputs and its targets and a validation set with its targets. 30% Split"
      ],
      "metadata": {
        "id": "hXAD6JN4DpVm"
      }
    },
    {
      "cell_type": "code",
      "source": [
        "train_df, val_df, train_targets, val_targets = train_test_split(raw, targets, test_size=0.3, random_state=42)"
      ],
      "metadata": {
        "id": "UQacrFGMid61"
      },
      "execution_count": null,
      "outputs": []
    },
    {
      "cell_type": "markdown",
      "source": [
        "# Cleaning data/Preparation for TFIDF"
      ],
      "metadata": {
        "id": "owMuH5qh5AZx"
      }
    },
    {
      "cell_type": "code",
      "source": [
        "import string"
      ],
      "metadata": {
        "id": "y20hwMh_joDW"
      },
      "execution_count": null,
      "outputs": []
    },
    {
      "cell_type": "markdown",
      "source": [
        "Removing text-errors and punctuations in the specified columns."
      ],
      "metadata": {
        "id": "VxdKqpeE8QUC"
      }
    },
    {
      "cell_type": "code",
      "source": [
        "train_df['short_description'] = train_df['short_description'].str.encode('ascii', 'ignore').str.decode('ascii') #Removing ascii characthers in the data\n",
        "train_df['short_description'] = train_df['short_description'].str.lower() #Setting all the charcaters to lowercase\n",
        "train_df['short_description'] = train_df['short_description'].str.replace('[{}]'.format(string.punctuation), '') #Removing punctuations from the data\n",
        "\n",
        "train_df['headline'] = train_df['headline'].str.encode('ascii', 'ignore').str.decode('ascii') #Removing ascii characthers in the data\n",
        "train_df['headline'] = train_df['headline'].str.lower() #Setting all the charcaters to lowercase\n",
        "train_df['headline'] = train_df['headline'].str.replace('[{}]'.format(string.punctuation), '') #Removing punctuations from the data"
      ],
      "metadata": {
        "id": "eca-WXLw27MG",
        "colab": {
          "base_uri": "https://localhost:8080/"
        },
        "outputId": "1fd68172-e9e1-46ea-ef9e-c9b85e146941"
      },
      "execution_count": null,
      "outputs": [
        {
          "output_type": "stream",
          "name": "stderr",
          "text": [
            "C:\\Users\\Ethan\\AppData\\Local\\Temp\\ipykernel_13532\\42535777.py:3: FutureWarning:\n",
            "\n",
            "The default value of regex will change from True to False in a future version.\n",
            "\n",
            "C:\\Users\\Ethan\\AppData\\Local\\Temp\\ipykernel_13532\\42535777.py:7: FutureWarning:\n",
            "\n",
            "The default value of regex will change from True to False in a future version.\n",
            "\n"
          ]
        }
      ]
    },
    {
      "cell_type": "markdown",
      "source": [
        "Checking the data to ensure it is cleaned and prepared correctly before TFIDF vectorizing "
      ],
      "metadata": {
        "id": "UPWIjU8CD4PO"
      }
    },
    {
      "cell_type": "code",
      "source": [
        "train_df.sample(5)"
      ],
      "metadata": {
        "id": "aph0T4ikNFrx",
        "colab": {
          "base_uri": "https://localhost:8080/",
          "height": 206
        },
        "outputId": "d852c19b-c1a6-4121-accc-e50348dabd65"
      },
      "execution_count": null,
      "outputs": [
        {
          "output_type": "execute_result",
          "data": {
            "text/plain": [
              "              category                                           headline  \\\n",
              "184936       PARENTING                                      green vs pink   \n",
              "175093  STYLE & BEAUTY             byronesque the new standard in vintage   \n",
              "139413          TRAVEL                  10 ways to upgrade holiday travel   \n",
              "21991     QUEER VOICES  gay in nigeria the stark reality for lgbt peop...   \n",
              "42826     QUEER VOICES                      so much more than sour grapes   \n",
              "\n",
              "                                                  authors  \\\n",
              "184936  Kara Gebhart Uhl, Contributor\\nBlogger, pleiad...   \n",
              "175093       Malcolm Harris, Contributor\\nCurator of Cool   \n",
              "139413  Rana Florida, Contributor\\nCEO, The Creative C...   \n",
              "21991                                                 NaN   \n",
              "42826   Annie L. Scholl, ContributorWriter. Photograph...   \n",
              "\n",
              "                                                     link  \\\n",
              "184936  https://www.huffingtonpost.com/entry/pink-for-...   \n",
              "175093  https://www.huffingtonpost.com/entry/byronesqu...   \n",
              "139413  https://www.huffingtonpost.com/entry/10-ways-t...   \n",
              "21991   https://www.huffingtonpost.comhttp://www.indep...   \n",
              "42826   https://www.huffingtonpost.com/entry/so-much-m...   \n",
              "\n",
              "                                        short_description       date  \n",
              "184936  a few weeks ago sophie and my mom were talking... 2012-07-17  \n",
              "175093  as a true lover of authentic vintage with a st... 2012-10-31  \n",
              "139413  is there anything that airlines and airports c... 2013-11-14  \n",
              "21991   michael ighodaro was attacked byhomophobesin h... 2017-07-08  \n",
              "42826   election night my wife and i went out to eat a... 2016-11-11  "
            ],
            "text/html": [
              "<div>\n",
              "<style scoped>\n",
              "    .dataframe tbody tr th:only-of-type {\n",
              "        vertical-align: middle;\n",
              "    }\n",
              "\n",
              "    .dataframe tbody tr th {\n",
              "        vertical-align: top;\n",
              "    }\n",
              "\n",
              "    .dataframe thead th {\n",
              "        text-align: right;\n",
              "    }\n",
              "</style>\n",
              "<table border=\"1\" class=\"dataframe\">\n",
              "  <thead>\n",
              "    <tr style=\"text-align: right;\">\n",
              "      <th></th>\n",
              "      <th>category</th>\n",
              "      <th>headline</th>\n",
              "      <th>authors</th>\n",
              "      <th>link</th>\n",
              "      <th>short_description</th>\n",
              "      <th>date</th>\n",
              "    </tr>\n",
              "  </thead>\n",
              "  <tbody>\n",
              "    <tr>\n",
              "      <th>184936</th>\n",
              "      <td>PARENTING</td>\n",
              "      <td>green vs pink</td>\n",
              "      <td>Kara Gebhart Uhl, Contributor\\nBlogger, pleiad...</td>\n",
              "      <td>https://www.huffingtonpost.com/entry/pink-for-...</td>\n",
              "      <td>a few weeks ago sophie and my mom were talking...</td>\n",
              "      <td>2012-07-17</td>\n",
              "    </tr>\n",
              "    <tr>\n",
              "      <th>175093</th>\n",
              "      <td>STYLE &amp; BEAUTY</td>\n",
              "      <td>byronesque the new standard in vintage</td>\n",
              "      <td>Malcolm Harris, Contributor\\nCurator of Cool</td>\n",
              "      <td>https://www.huffingtonpost.com/entry/byronesqu...</td>\n",
              "      <td>as a true lover of authentic vintage with a st...</td>\n",
              "      <td>2012-10-31</td>\n",
              "    </tr>\n",
              "    <tr>\n",
              "      <th>139413</th>\n",
              "      <td>TRAVEL</td>\n",
              "      <td>10 ways to upgrade holiday travel</td>\n",
              "      <td>Rana Florida, Contributor\\nCEO, The Creative C...</td>\n",
              "      <td>https://www.huffingtonpost.com/entry/10-ways-t...</td>\n",
              "      <td>is there anything that airlines and airports c...</td>\n",
              "      <td>2013-11-14</td>\n",
              "    </tr>\n",
              "    <tr>\n",
              "      <th>21991</th>\n",
              "      <td>QUEER VOICES</td>\n",
              "      <td>gay in nigeria the stark reality for lgbt peop...</td>\n",
              "      <td>NaN</td>\n",
              "      <td>https://www.huffingtonpost.comhttp://www.indep...</td>\n",
              "      <td>michael ighodaro was attacked byhomophobesin h...</td>\n",
              "      <td>2017-07-08</td>\n",
              "    </tr>\n",
              "    <tr>\n",
              "      <th>42826</th>\n",
              "      <td>QUEER VOICES</td>\n",
              "      <td>so much more than sour grapes</td>\n",
              "      <td>Annie L. Scholl, ContributorWriter. Photograph...</td>\n",
              "      <td>https://www.huffingtonpost.com/entry/so-much-m...</td>\n",
              "      <td>election night my wife and i went out to eat a...</td>\n",
              "      <td>2016-11-11</td>\n",
              "    </tr>\n",
              "  </tbody>\n",
              "</table>\n",
              "</div>"
            ]
          },
          "metadata": {},
          "execution_count": 11
        }
      ]
    },
    {
      "cell_type": "markdown",
      "source": [
        "Importing list of stopwords"
      ],
      "metadata": {
        "id": "-sP9-uNc8hjk"
      }
    },
    {
      "cell_type": "code",
      "source": [
        "import nltk\n",
        "from nltk.corpus import stopwords\n",
        "nltk.download('stopwords')\n"
      ],
      "metadata": {
        "id": "TmjgtOjZfzQN",
        "colab": {
          "base_uri": "https://localhost:8080/"
        },
        "outputId": "b2ec6f77-a361-40cf-d91d-fe378aada4d9"
      },
      "execution_count": null,
      "outputs": [
        {
          "output_type": "stream",
          "name": "stderr",
          "text": [
            "[nltk_data] Downloading package stopwords to\n",
            "[nltk_data]     C:\\Users\\Ethan\\AppData\\Roaming\\nltk_data...\n",
            "[nltk_data]   Package stopwords is already up-to-date!\n"
          ]
        },
        {
          "output_type": "execute_result",
          "data": {
            "text/plain": [
              "True"
            ]
          },
          "metadata": {},
          "execution_count": 12
        }
      ]
    },
    {
      "cell_type": "markdown",
      "source": [
        "Setting english stopwords as our datasets information is in english"
      ],
      "metadata": {
        "id": "1NVaAymoEFTT"
      }
    },
    {
      "cell_type": "code",
      "source": [
        "stop = stopwords.words('english')"
      ],
      "metadata": {
        "id": "OJ2kDyRyjjrX"
      },
      "execution_count": null,
      "outputs": []
    },
    {
      "cell_type": "markdown",
      "source": [
        "# TFIDF Vectorizing"
      ],
      "metadata": {
        "id": "LGI-ocKmXKcU"
      }
    },
    {
      "cell_type": "markdown",
      "source": [
        "Importing TFIDF Vectorizer from the scikit learn library"
      ],
      "metadata": {
        "id": "E4ffuwnZ8tVp"
      }
    },
    {
      "cell_type": "code",
      "source": [
        "from sklearn.feature_extraction.text import TfidfVectorizer"
      ],
      "metadata": {
        "id": "2F7nnl2KhuX2"
      },
      "execution_count": null,
      "outputs": []
    },
    {
      "cell_type": "markdown",
      "source": [
        "Defining a function and setting parameters for the vectorizer"
      ],
      "metadata": {
        "id": "AGH1zzte8zq_"
      }
    },
    {
      "cell_type": "code",
      "source": [
        "def tfid(y):\n",
        "  vectorizer = TfidfVectorizer(lowercase=True, #Lowercasing all data\n",
        "                               stop_words = stop, #using stopwords data from the previous section\n",
        "                               max_df=0.80, #when building the vocabulary ignore terms that have a document frequency higher than 80%, \n",
        "                               max_features=3000, \n",
        "                               ngram_range=(1,3))  \n",
        "  vectorizer.fit(y) #fitting the data to 'y'\n",
        "  cleaned_desc = vectorizer.transform(y) #transforming 'y'\n",
        "  print(cleaned_desc.shape)\n",
        "  dense = cleaned_desc.todense() #Returning a dense matrix of the transformed data\n",
        "  denselist = dense.tolist() #Converting the matrix to a list\n",
        "  feature_names = vectorizer.get_feature_names_out() #Getting the feature names of the data, AKA the words that hold value\n",
        "  return(denselist, feature_names); #Return the list and feature names of the model\n"
      ],
      "metadata": {
        "id": "t3NHGRzmzVqI"
      },
      "execution_count": null,
      "outputs": []
    },
    {
      "cell_type": "code",
      "source": [
        "train_df.dropna(subset=['headline'], inplace = True) #Dropping null values in headline category"
      ],
      "metadata": {
        "id": "ooqYtHsd4daH"
      },
      "execution_count": null,
      "outputs": []
    },
    {
      "cell_type": "code",
      "source": [
        "train_df.isna().sum()"
      ],
      "metadata": {
        "colab": {
          "base_uri": "https://localhost:8080/"
        },
        "id": "5cOHKhmm4nL-",
        "outputId": "4f583ac3-cce9-4862-d2f5-f03fc86a8a4b"
      },
      "execution_count": null,
      "outputs": [
        {
          "output_type": "execute_result",
          "data": {
            "text/plain": [
              "category                 0\n",
              "headline                 0\n",
              "authors              22405\n",
              "link                     0\n",
              "short_description        0\n",
              "date                     0\n",
              "dtype: int64"
            ]
          },
          "metadata": {},
          "execution_count": 17
        }
      ]
    },
    {
      "cell_type": "code",
      "source": [
        "val_df.isna().sum()"
      ],
      "metadata": {
        "colab": {
          "base_uri": "https://localhost:8080/"
        },
        "id": "5JTh4zVIjioo",
        "outputId": "c6082d3e-896e-403e-f28d-1cf5fffc57e6"
      },
      "execution_count": null,
      "outputs": [
        {
          "output_type": "execute_result",
          "data": {
            "text/plain": [
              "category                0\n",
              "headline                0\n",
              "authors              9745\n",
              "link                    0\n",
              "short_description       0\n",
              "date                    0\n",
              "dtype: int64"
            ]
          },
          "metadata": {},
          "execution_count": 18
        }
      ]
    },
    {
      "cell_type": "markdown",
      "source": [
        "Creating a new column which combine headline and short descriptions columns "
      ],
      "metadata": {
        "id": "VszZXVvH9RcU"
      }
    },
    {
      "cell_type": "code",
      "source": [
        "train_df['combined'] = train_df['headline'] + \" \" + train_df['short_description']"
      ],
      "metadata": {
        "id": "rvnRE7XbeYca"
      },
      "execution_count": null,
      "outputs": []
    },
    {
      "cell_type": "code",
      "source": [
        "val_df['combined'] = val_df['headline'] + \" \" + val_df['short_description']"
      ],
      "metadata": {
        "id": "UixUFpWvjwft"
      },
      "execution_count": null,
      "outputs": []
    },
    {
      "cell_type": "markdown",
      "source": [
        "Calling the function created earlier for TFIDF"
      ],
      "metadata": {
        "id": "h9-1Sqj29bD9"
      }
    },
    {
      "cell_type": "code",
      "source": [
        "combined_vec, combined_features = tfid(train_df['combined'])"
      ],
      "metadata": {
        "colab": {
          "base_uri": "https://localhost:8080/"
        },
        "id": "WRLTIh_UfFFQ",
        "outputId": "8c45d94b-06e7-4ade-8a05-a538c706c9e7"
      },
      "execution_count": null,
      "outputs": [
        {
          "output_type": "stream",
          "name": "stdout",
          "text": [
            "(126780, 3000)\n"
          ]
        }
      ]
    },
    {
      "cell_type": "code",
      "source": [
        "combined_features"
      ],
      "metadata": {
        "colab": {
          "base_uri": "https://localhost:8080/"
        },
        "id": "TzxcPoLr6isK",
        "outputId": "5b5020cd-6968-4643-d929-395e370765eb"
      },
      "execution_count": null,
      "outputs": [
        {
          "output_type": "execute_result",
          "data": {
            "text/plain": [
              "array(['10', '10 things', '100', ..., 'youtube', 'youve', 'zika'],\n",
              "      dtype=object)"
            ]
          },
          "metadata": {},
          "execution_count": 22
        }
      ]
    },
    {
      "cell_type": "code",
      "source": [
        "train_targets.shape"
      ],
      "metadata": {
        "colab": {
          "base_uri": "https://localhost:8080/"
        },
        "id": "tOgNU3B1-E12",
        "outputId": "304cf1f0-f718-4644-ac62-8e47a0540338"
      },
      "execution_count": null,
      "outputs": [
        {
          "output_type": "execute_result",
          "data": {
            "text/plain": [
              "(126784, 1)"
            ]
          },
          "metadata": {},
          "execution_count": 23
        }
      ]
    },
    {
      "cell_type": "markdown",
      "source": [
        "Updating train_targets DF so when we train the model there is no mismatch in dimensions/values"
      ],
      "metadata": {
        "id": "boD5DUXJ9qP4"
      }
    },
    {
      "cell_type": "code",
      "source": [
        "train_targets = train_df[['category']]"
      ],
      "metadata": {
        "id": "O5PXE1UX9_wN"
      },
      "execution_count": null,
      "outputs": []
    },
    {
      "cell_type": "code",
      "source": [
        "train_df['category']"
      ],
      "metadata": {
        "colab": {
          "base_uri": "https://localhost:8080/"
        },
        "id": "KOd8ERWlkRQy",
        "outputId": "14e7d315-8931-4007-b6e5-54185e7812dc"
      },
      "execution_count": null,
      "outputs": [
        {
          "output_type": "execute_result",
          "data": {
            "text/plain": [
              "104854           PARENTS\n",
              "185246          BUSINESS\n",
              "29477           POLITICS\n",
              "81917      ENTERTAINMENT\n",
              "101141          BUSINESS\n",
              "               ...      \n",
              "139495          WELLNESS\n",
              "121540             WOMEN\n",
              "151561           DIVORCE\n",
              "166515      FOOD & DRINK\n",
              "141577    STYLE & BEAUTY\n",
              "Name: category, Length: 126780, dtype: object"
            ]
          },
          "metadata": {},
          "execution_count": 25
        }
      ]
    },
    {
      "cell_type": "code",
      "source": [
        "train_targets.shape"
      ],
      "metadata": {
        "colab": {
          "base_uri": "https://localhost:8080/"
        },
        "id": "r9hFxC5HkOM8",
        "outputId": "a85ee11c-cbbd-43dd-fc0a-5f4f646c2091"
      },
      "execution_count": null,
      "outputs": [
        {
          "output_type": "execute_result",
          "data": {
            "text/plain": [
              "(126780, 1)"
            ]
          },
          "metadata": {},
          "execution_count": 26
        }
      ]
    },
    {
      "cell_type": "markdown",
      "source": [
        "# RandomForest"
      ],
      "metadata": {
        "id": "InYh-WOsXFrW"
      }
    },
    {
      "cell_type": "markdown",
      "source": [
        "Trying the RandomForestClassifier as a model"
      ],
      "metadata": {
        "id": "69-7NLPa-ncW"
      }
    },
    {
      "cell_type": "code",
      "source": [
        "from sklearn.ensemble import RandomForestClassifier"
      ],
      "metadata": {
        "id": "DP3AR6nN42Qx"
      },
      "execution_count": null,
      "outputs": []
    },
    {
      "cell_type": "code",
      "source": [
        "forest_model = RandomForestClassifier(n_estimators= 5, n_jobs=-1, random_state=42) #Setting a baseline model with 5 trees"
      ],
      "metadata": {
        "id": "ZEOGGWV6-UHR"
      },
      "execution_count": null,
      "outputs": []
    },
    {
      "cell_type": "code",
      "source": [
        "%%time\n",
        "forest_model.fit(combined_vec, train_targets.values.ravel()) #Fitting the model"
      ],
      "metadata": {
        "colab": {
          "base_uri": "https://localhost:8080/"
        },
        "id": "t-MsLUI3G7ts",
        "outputId": "cceb2b1a-a804-4922-ef55-add807411c96"
      },
      "execution_count": null,
      "outputs": [
        {
          "output_type": "stream",
          "name": "stdout",
          "text": [
            "CPU times: total: 2min 15s\n",
            "Wall time: 1min 26s\n"
          ]
        },
        {
          "output_type": "execute_result",
          "data": {
            "text/plain": [
              "RandomForestClassifier(n_estimators=5, n_jobs=-1, random_state=42)"
            ]
          },
          "metadata": {},
          "execution_count": 33
        }
      ]
    },
    {
      "cell_type": "code",
      "source": [
        "forest_model.score(combined_vec, train_targets.values.ravel()) #Model score using the training set"
      ],
      "metadata": {
        "colab": {
          "base_uri": "https://localhost:8080/"
        },
        "id": "niPMMs0RHVcE",
        "outputId": "735cbc09-cbd7-403c-ff87-383af693a02e"
      },
      "execution_count": null,
      "outputs": [
        {
          "output_type": "execute_result",
          "data": {
            "text/plain": [
              "0.9472945259504654"
            ]
          },
          "metadata": {},
          "execution_count": 34
        }
      ]
    },
    {
      "cell_type": "markdown",
      "source": [
        "Defining functions for hyper parameter testing"
      ],
      "metadata": {
        "id": "Rhiv-umND9Js"
      }
    },
    {
      "cell_type": "code",
      "source": [
        "def hyperParams(**params):\n",
        "    vectorizer = TfidfVectorizer(**params) #**params for tuning the TFIDF model\n",
        "    vectorizer.fit(train_df['combined']) #Fitting model to the combined column in the training set\n",
        "    cleaned_desc = vectorizer.transform(train_df['combined']) #Transforming the training set\n",
        "    return cleaned_desc, vectorizer"
      ],
      "metadata": {
        "id": "UNKvU1DlIZBg"
      },
      "execution_count": null,
      "outputs": []
    },
    {
      "cell_type": "code",
      "source": [
        "def modelHyperParams(x, vector, **params):\n",
        "    model = RandomForestClassifier(**params) #**params for tuning the RandomForestClassifier model\n",
        "    model.fit(x, train_targets) #Fitting the model \n",
        "    print(\"Training set score: {:.5f}\".format(model.score(x, train_targets.values.ravel()))) #Predictions for training set\n",
        "    valvector = vector.transform(val_df.combined) #Transforming the validation data for predictions\n",
        "    print(\"Validation set score: {:.5f}\\n\".format(model.score(valvector, val_targets.values.ravel()))) #Predictions for validation set"
      ],
      "metadata": {
        "id": "mAPdJQrjn_7D"
      },
      "execution_count": null,
      "outputs": []
    },
    {
      "cell_type": "code",
      "source": [
        "def increment(x): #Incremting function for different rounds/epochs when training/tuning\n",
        "  arr = []\n",
        "  for i in range(3):\n",
        "   arr.append(x + x)\n",
        "   x = x + x\n",
        "  return arr"
      ],
      "metadata": {
        "id": "oGAETpx6tchX"
      },
      "execution_count": null,
      "outputs": []
    },
    {
      "cell_type": "code",
      "source": [
        "def ForestTuning(): \n",
        "  range = increment(1000)\n",
        "  counter = 1;\n",
        "  for i in range:\n",
        "    clean, vectored = hyperParams(lowercase=True, max_df=0.80, max_features= i, ngram_range=(1,3)) #Setting the parameters for TFIDF vectorizing\n",
        "    print(\"\\nRound {}: Max_features = {}\".format(counter, i)) #Displaying the round/epoch and the current parameters\n",
        "    modelHyperParams(x = clean, vector = vectored, n_estimators= 50, n_jobs=-1, random_state=42) #Setting the RandomForestClassifier parameters\n",
        "    counter += 1; #Keeping track of the current round/epoch"
      ],
      "metadata": {
        "id": "70BdBeY1Y5BY"
      },
      "execution_count": null,
      "outputs": []
    },
    {
      "cell_type": "code",
      "source": [
        "%%time\n",
        "ForestTuning()"
      ],
      "metadata": {
        "colab": {
          "base_uri": "https://localhost:8080/"
        },
        "id": "_j8MLyz9mkdo",
        "outputId": "592ca6eb-4cf3-4521-850a-31f82a143ddd"
      },
      "execution_count": null,
      "outputs": [
        {
          "output_type": "stream",
          "name": "stdout",
          "text": [
            "\n",
            "Round 1: Max_features = 2000\n"
          ]
        },
        {
          "output_type": "stream",
          "name": "stderr",
          "text": [
            "C:\\Users\\Ethan\\AppData\\Local\\Temp\\ipykernel_13648\\3948895064.py:3: DataConversionWarning:\n",
            "\n",
            "A column-vector y was passed when a 1d array was expected. Please change the shape of y to (n_samples,), for example using ravel().\n",
            "\n"
          ]
        },
        {
          "output_type": "stream",
          "name": "stdout",
          "text": [
            "Training set score: 0.99986\n",
            "Validation set score: 0.46927\n",
            "\n",
            "\n",
            "Round 2: Max_features = 4000\n"
          ]
        },
        {
          "output_type": "stream",
          "name": "stderr",
          "text": [
            "C:\\Users\\Ethan\\AppData\\Local\\Temp\\ipykernel_13648\\3948895064.py:3: DataConversionWarning:\n",
            "\n",
            "A column-vector y was passed when a 1d array was expected. Please change the shape of y to (n_samples,), for example using ravel().\n",
            "\n"
          ]
        },
        {
          "output_type": "stream",
          "name": "stdout",
          "text": [
            "Training set score: 0.99990\n",
            "Validation set score: 0.48542\n",
            "\n",
            "\n",
            "Round 3: Max_features = 8000\n"
          ]
        },
        {
          "output_type": "stream",
          "name": "stderr",
          "text": [
            "C:\\Users\\Ethan\\AppData\\Local\\Temp\\ipykernel_13648\\3948895064.py:3: DataConversionWarning:\n",
            "\n",
            "A column-vector y was passed when a 1d array was expected. Please change the shape of y to (n_samples,), for example using ravel().\n",
            "\n"
          ]
        },
        {
          "output_type": "stream",
          "name": "stdout",
          "text": [
            "Training set score: 0.99989\n",
            "Validation set score: 0.49407\n",
            "\n",
            "CPU times: total: 25min 40s\n",
            "Wall time: 5min 13s\n"
          ]
        }
      ]
    },
    {
      "cell_type": "markdown",
      "source": [
        "**Max_features in the TFIDF vectorizer seems to play a big part in the models predictions. Previous testing showed that tuning the RandomForestClassifier showed little to no difference in the accuracy of the model**"
      ],
      "metadata": {
        "id": "MvSRr6_vEHIL"
      }
    },
    {
      "cell_type": "code",
      "source": [
        "model = RandomForestClassifier(n_estimators= 10, n_jobs=-1, random_state=42)"
      ],
      "metadata": {
        "id": "Xg1sP2wu9_LV"
      },
      "execution_count": null,
      "outputs": []
    },
    {
      "cell_type": "code",
      "source": [
        "model.fit(combined_vec, train_targets.values.ravel())"
      ],
      "metadata": {
        "colab": {
          "base_uri": "https://localhost:8080/"
        },
        "id": "iBuXDr74-Pon",
        "outputId": "09e5d4a9-a135-485c-de8a-87fddc41930f"
      },
      "execution_count": null,
      "outputs": [
        {
          "output_type": "execute_result",
          "data": {
            "text/plain": [
              "RandomForestClassifier(n_estimators=10, n_jobs=-1, random_state=42)"
            ]
          },
          "metadata": {},
          "execution_count": 30
        }
      ]
    },
    {
      "cell_type": "code",
      "source": [
        "model.score(combined_vec, train_targets.values.ravel())"
      ],
      "metadata": {
        "colab": {
          "base_uri": "https://localhost:8080/"
        },
        "id": "dzXNlfdC-7jm",
        "outputId": "96f3290f-4da5-4bc7-ed12-da5040968b42"
      },
      "execution_count": null,
      "outputs": [
        {
          "output_type": "execute_result",
          "data": {
            "text/plain": [
              "0.984824104748383"
            ]
          },
          "metadata": {},
          "execution_count": 42
        }
      ]
    },
    {
      "cell_type": "code",
      "source": [
        "vectorizer = TfidfVectorizer(lowercase=True, stop_words = stop, max_df=0.80, max_features=3000, ngram_range=(1,3))\n",
        "vectorizer.fit(train_df['combined'])"
      ],
      "metadata": {
        "colab": {
          "base_uri": "https://localhost:8080/"
        },
        "id": "ijIsdz6tCdcZ",
        "outputId": "8597d568-8b67-4c9c-9df9-64f94a580954"
      },
      "execution_count": null,
      "outputs": [
        {
          "output_type": "execute_result",
          "data": {
            "text/plain": [
              "TfidfVectorizer(max_df=0.8, max_features=3000, ngram_range=(1, 3),\n",
              "                stop_words=['i', 'me', 'my', 'myself', 'we', 'our', 'ours',\n",
              "                            'ourselves', 'you', \"you're\", \"you've\", \"you'll\",\n",
              "                            \"you'd\", 'your', 'yours', 'yourself', 'yourselves',\n",
              "                            'he', 'him', 'his', 'himself', 'she', \"she's\",\n",
              "                            'her', 'hers', 'herself', 'it', \"it's\", 'its',\n",
              "                            'itself', ...])"
            ]
          },
          "metadata": {},
          "execution_count": 32
        }
      ]
    },
    {
      "cell_type": "markdown",
      "source": [
        "Sample Predictions"
      ],
      "metadata": {
        "id": "-snk5WUQFZAA"
      }
    },
    {
      "cell_type": "code",
      "source": [
        "model.predict(vectorizer.transform([\"Texas sues Biden administration to stop mask mandates on planes – as it happened\"])), #Poltical headline"
      ],
      "metadata": {
        "colab": {
          "base_uri": "https://localhost:8080/"
        },
        "id": "um2Ki488_lIE",
        "outputId": "b8f48a31-1fa6-4dff-f0e0-912d8a0ca97d"
      },
      "execution_count": null,
      "outputs": [
        {
          "output_type": "execute_result",
          "data": {
            "text/plain": [
              "(array(['POLITICS'], dtype=object),)"
            ]
          },
          "metadata": {},
          "execution_count": 33
        }
      ]
    },
    {
      "cell_type": "code",
      "source": [
        "model.predict(vectorizer.transform([\"Google moves to make Android apps more private\"])) #Tech headline"
      ],
      "metadata": {
        "colab": {
          "base_uri": "https://localhost:8080/"
        },
        "id": "MNY1DmRCDQN1",
        "outputId": "5c79974b-6ab0-481b-970c-005aa1702bd8"
      },
      "execution_count": null,
      "outputs": [
        {
          "output_type": "execute_result",
          "data": {
            "text/plain": [
              "array(['TECH'], dtype=object)"
            ]
          },
          "metadata": {},
          "execution_count": 34
        }
      ]
    },
    {
      "cell_type": "code",
      "source": [
        "model.predict(vectorizer.transform([\"Googles plan to limit data tracking on its Chrome browser has been extended to cover apps on its Android-based smartphones.\"])) #Tech short description"
      ],
      "metadata": {
        "colab": {
          "base_uri": "https://localhost:8080/"
        },
        "id": "f8JvBYZxDTCp",
        "outputId": "4901320f-5171-487a-80bb-ec13fb73488c"
      },
      "execution_count": null,
      "outputs": [
        {
          "output_type": "execute_result",
          "data": {
            "text/plain": [
              "array(['ENTERTAINMENT'], dtype=object)"
            ]
          },
          "metadata": {},
          "execution_count": 35
        }
      ]
    },
    {
      "cell_type": "code",
      "source": [
        "model.predict(vectorizer.transform([\"Austria and Germany have both announced plans to relax Covid-19 measures, weeks after pushing for compulsory vaccinations to curb infections.\"])) #General/Covid News"
      ],
      "metadata": {
        "colab": {
          "base_uri": "https://localhost:8080/"
        },
        "id": "H0F2YpN9DgPT",
        "outputId": "6f9fc757-bc45-408e-e8d8-14fdd24a1901"
      },
      "execution_count": null,
      "outputs": [
        {
          "output_type": "execute_result",
          "data": {
            "text/plain": [
              "array(['WELLNESS'], dtype=object)"
            ]
          },
          "metadata": {},
          "execution_count": 36
        }
      ]
    },
    {
      "cell_type": "code",
      "source": [
        "model.predict(vectorizer.transform(['EUROPE Soldier abused for being gay told to provide intimate pictures to prove his sexuality'])) #Queer News"
      ],
      "metadata": {
        "colab": {
          "base_uri": "https://localhost:8080/"
        },
        "id": "qb-8v6K5FeQD",
        "outputId": "6733733c-1134-41af-ba37-a0096706d3f8"
      },
      "execution_count": null,
      "outputs": [
        {
          "output_type": "execute_result",
          "data": {
            "text/plain": [
              "array(['QUEER VOICES'], dtype=object)"
            ]
          },
          "metadata": {},
          "execution_count": 37
        }
      ]
    },
    {
      "cell_type": "markdown",
      "source": [
        "Here our model predicts a wrong category, lets try providing the description in the following line"
      ],
      "metadata": {
        "id": "RvwLSiN6HEF6"
      }
    },
    {
      "cell_type": "code",
      "source": [
        "model.predict(vectorizer.transform(['Five healthy ways to discipline children'])) #Parenting News"
      ],
      "metadata": {
        "colab": {
          "base_uri": "https://localhost:8080/"
        },
        "id": "9X1_gXrZG2uQ",
        "outputId": "ebaaa6e9-86bc-449b-b266-8ede299459bf"
      },
      "execution_count": null,
      "outputs": [
        {
          "output_type": "execute_result",
          "data": {
            "text/plain": [
              "array(['PARENTING'], dtype=object)"
            ]
          },
          "metadata": {},
          "execution_count": 38
        }
      ]
    },
    {
      "cell_type": "markdown",
      "source": [
        "Still a wrong prediction, lets try combining both the headline and descripton"
      ],
      "metadata": {
        "id": "h0rfF0hCHQ3o"
      }
    },
    {
      "cell_type": "code",
      "source": [
        "model.predict(vectorizer.transform(['A positive disciplining strategy can help develop a positive relationship and set expectations based on the behavioral outcomes, says an expert.']))"
      ],
      "metadata": {
        "colab": {
          "base_uri": "https://localhost:8080/"
        },
        "id": "Bn7B9VgOHJ-v",
        "outputId": "9fc037c4-0f7e-447e-ceef-00bf9a7a8ac6"
      },
      "execution_count": null,
      "outputs": [
        {
          "output_type": "execute_result",
          "data": {
            "text/plain": [
              "array(['WELLNESS'], dtype=object)"
            ]
          },
          "metadata": {},
          "execution_count": 39
        }
      ]
    },
    {
      "cell_type": "markdown",
      "source": [
        "Still wrong, here we can see our model is not 100% accurate."
      ],
      "metadata": {
        "id": "hibxnylBHiJU"
      }
    },
    {
      "cell_type": "code",
      "source": [
        "model.predict(vectorizer.transform(['Five healthy ways to discipline children A positive disciplining strategy can help develop a positive relationship and set expectations based on the behavioral outcomes, says an expert.']))"
      ],
      "metadata": {
        "colab": {
          "base_uri": "https://localhost:8080/"
        },
        "id": "URYgjOx-HdH7",
        "outputId": "1d759cd2-442f-490c-b95c-3320b6a852f2"
      },
      "execution_count": null,
      "outputs": [
        {
          "output_type": "execute_result",
          "data": {
            "text/plain": [
              "array(['PARENTING'], dtype=object)"
            ]
          },
          "metadata": {},
          "execution_count": 40
        }
      ]
    },
    {
      "cell_type": "code",
      "source": [
        "model.predict(vectorizer.transform(['Farmers']))"
      ],
      "metadata": {
        "colab": {
          "base_uri": "https://localhost:8080/"
        },
        "id": "NsxmRVMj6xth",
        "outputId": "51fbeedc-47a4-4e4d-c877-75a8ecb65c42"
      },
      "execution_count": null,
      "outputs": [
        {
          "output_type": "execute_result",
          "data": {
            "text/plain": [
              "array(['POLITICS'], dtype=object)"
            ]
          },
          "metadata": {},
          "execution_count": 70
        }
      ]
    },
    {
      "cell_type": "code",
      "source": [
        "raw.category.unique()"
      ],
      "metadata": {
        "colab": {
          "base_uri": "https://localhost:8080/"
        },
        "id": "sGbla-7RFouA",
        "outputId": "e295614c-c811-432b-d06a-7d400d397c68"
      },
      "execution_count": null,
      "outputs": [
        {
          "output_type": "execute_result",
          "data": {
            "text/plain": [
              "array(['CRIME', 'ENTERTAINMENT', 'WORLD NEWS', 'IMPACT', 'POLITICS',\n",
              "       'WEIRD NEWS', 'BLACK VOICES', 'WOMEN', 'COMEDY', 'QUEER VOICES',\n",
              "       'SPORTS', 'BUSINESS', 'TRAVEL', 'MEDIA', 'TECH', 'RELIGION',\n",
              "       'SCIENCE', 'LATINO VOICES', 'EDUCATION', 'COLLEGE', 'PARENTS',\n",
              "       'ARTS & CULTURE', 'STYLE', 'GREEN', 'TASTE', 'HEALTHY LIVING',\n",
              "       'THE WORLDPOST', 'GOOD NEWS', 'WORLDPOST', 'FIFTY', 'ARTS',\n",
              "       'WELLNESS', 'PARENTING', 'HOME & LIVING', 'STYLE & BEAUTY',\n",
              "       'DIVORCE', 'WEDDINGS', 'FOOD & DRINK', 'MONEY', 'ENVIRONMENT',\n",
              "       'CULTURE & ARTS'], dtype=object)"
            ]
          },
          "metadata": {},
          "execution_count": 52
        }
      ]
    },
    {
      "cell_type": "markdown",
      "source": [
        "# Naive Bayes\n"
      ],
      "metadata": {
        "id": "PHExkI_0YYuv"
      }
    },
    {
      "cell_type": "code",
      "source": [
        "from sklearn.naive_bayes import BernoulliNB, ComplementNB"
      ],
      "metadata": {
        "id": "IHjSVa7GoEmW"
      },
      "execution_count": null,
      "outputs": []
    },
    {
      "cell_type": "code",
      "source": [
        "model = BernoulliNB()  #Setting a baseline model"
      ],
      "metadata": {
        "id": "aEc9Zs8Kolpk"
      },
      "execution_count": null,
      "outputs": []
    },
    {
      "cell_type": "code",
      "source": [
        "model.fit(combined_vec, train_targets.values.ravel())  #Fitting the model"
      ],
      "metadata": {
        "colab": {
          "base_uri": "https://localhost:8080/"
        },
        "id": "1q_qEuB2lBn2",
        "outputId": "535d3489-1cf6-4a53-e942-70d7e4a92ec4"
      },
      "execution_count": null,
      "outputs": [
        {
          "output_type": "execute_result",
          "data": {
            "text/plain": [
              "BernoulliNB()"
            ]
          },
          "metadata": {},
          "execution_count": 55
        }
      ]
    },
    {
      "cell_type": "code",
      "source": [
        "model.score(combined_vec, train_targets.values.ravel())  #Model score using the training set"
      ],
      "metadata": {
        "colab": {
          "base_uri": "https://localhost:8080/"
        },
        "id": "lkt2MTxVo6uA",
        "outputId": "0241992c-af0c-4feb-c0b1-c5693f51b616"
      },
      "execution_count": null,
      "outputs": [
        {
          "output_type": "execute_result",
          "data": {
            "text/plain": [
              "0.585794289320082"
            ]
          },
          "metadata": {},
          "execution_count": 56
        }
      ]
    },
    {
      "cell_type": "code",
      "source": [
        "def NaiveModelHyperParams(x, vector, **params):\n",
        "    model = BernoulliNB(**params) #**params for tuning the BernoulliNB model\n",
        "    model.fit(x, train_targets) #Fitting the model \n",
        "    print(\"Training set score: {:.5f}\".format(model.score(x, train_targets.values.ravel()))) #Predictions for training set\n",
        "    valvector = vector.transform(val_df.combined) #Transforming the validation data for predictions\n",
        "    print(\"Validation set score: {:.5f}\\n\".format(model.score(valvector, val_targets.values.ravel()))) #Predictions for validation set"
      ],
      "metadata": {
        "id": "FDnkdWaYxvbU"
      },
      "execution_count": null,
      "outputs": []
    },
    {
      "cell_type": "code",
      "source": [
        "def NaiveTuning():\n",
        "  range = increment(4000)\n",
        "  counter = 1;\n",
        "  for i in range:\n",
        "    clean, vectored = hyperParams(lowercase=True, max_df=0.80, max_features= i, ngram_range=(1,3)) #Setting the parameters for TFIDF vectorizing\n",
        "    print(\"\\nRound {}: Max_features = {}\".format(counter, i))  #Displaying the round/epoch and the current parameters\n",
        "    NaiveModelHyperParams(x = clean, vector = vectored)  #Setting the BernoulliNB model parameters\n",
        "    counter += 1;"
      ],
      "metadata": {
        "id": "yp3hhgJ8x5KH"
      },
      "execution_count": null,
      "outputs": []
    },
    {
      "cell_type": "markdown",
      "source": [
        "**Max_features in the TFIDF vectorizer seems to play a big part in the models predictions. Previous testing showed that tuning the RandomForestClassifier showed little to no difference in the accuracy of the model**"
      ],
      "metadata": {
        "id": "qkRl6hDjJDn3"
      }
    },
    {
      "cell_type": "code",
      "source": [
        "%%time\n",
        "NaiveTuning()"
      ],
      "metadata": {
        "colab": {
          "base_uri": "https://localhost:8080/"
        },
        "id": "3IVRA4_PyVZP",
        "outputId": "2fa9bc26-1d3c-47b2-d5a9-da3a0478ad85"
      },
      "execution_count": null,
      "outputs": [
        {
          "output_type": "stream",
          "name": "stdout",
          "text": [
            "\n",
            "Round 1: Max_features = 8000\n"
          ]
        },
        {
          "output_type": "stream",
          "name": "stderr",
          "text": [
            "C:\\Users\\Ethan\\AppData\\Local\\Programs\\Python\\Python39\\lib\\site-packages\\sklearn\\utils\\validation.py:993: DataConversionWarning:\n",
            "\n",
            "A column-vector y was passed when a 1d array was expected. Please change the shape of y to (n_samples, ), for example using ravel().\n",
            "\n"
          ]
        },
        {
          "output_type": "stream",
          "name": "stdout",
          "text": [
            "Training set score: 0.59261\n",
            "Validation set score: 0.51097\n",
            "\n",
            "\n",
            "Round 2: Max_features = 16000\n"
          ]
        },
        {
          "output_type": "stream",
          "name": "stderr",
          "text": [
            "C:\\Users\\Ethan\\AppData\\Local\\Programs\\Python\\Python39\\lib\\site-packages\\sklearn\\utils\\validation.py:993: DataConversionWarning:\n",
            "\n",
            "A column-vector y was passed when a 1d array was expected. Please change the shape of y to (n_samples, ), for example using ravel().\n",
            "\n"
          ]
        },
        {
          "output_type": "stream",
          "name": "stdout",
          "text": [
            "Training set score: 0.63773\n",
            "Validation set score: 0.52985\n",
            "\n",
            "\n",
            "Round 3: Max_features = 32000\n"
          ]
        },
        {
          "output_type": "stream",
          "name": "stderr",
          "text": [
            "C:\\Users\\Ethan\\AppData\\Local\\Programs\\Python\\Python39\\lib\\site-packages\\sklearn\\utils\\validation.py:993: DataConversionWarning:\n",
            "\n",
            "A column-vector y was passed when a 1d array was expected. Please change the shape of y to (n_samples, ), for example using ravel().\n",
            "\n"
          ]
        },
        {
          "output_type": "stream",
          "name": "stdout",
          "text": [
            "Training set score: 0.65342\n",
            "Validation set score: 0.53372\n",
            "\n",
            "CPU times: total: 1min 52s\n",
            "Wall time: 1min 53s\n"
          ]
        }
      ]
    },
    {
      "cell_type": "markdown",
      "source": [
        "Sample Predictions"
      ],
      "metadata": {
        "id": "_q1Y-i2wI1bx"
      }
    },
    {
      "cell_type": "code",
      "source": [
        "model.predict(vectorizer.transform([\"Texas sues Biden administration to stop mask mandates on planes – as it happened\"])), #Poltical headline"
      ],
      "metadata": {
        "colab": {
          "base_uri": "https://localhost:8080/"
        },
        "outputId": "ff1e0748-42de-4bee-f1e3-db360608cd61",
        "id": "HT0UYka-I1bx"
      },
      "execution_count": null,
      "outputs": [
        {
          "output_type": "execute_result",
          "data": {
            "text/plain": [
              "(array(['POLITICS'], dtype='<U14'),)"
            ]
          },
          "metadata": {},
          "execution_count": 60
        }
      ]
    },
    {
      "cell_type": "code",
      "source": [
        "model.predict(vectorizer.transform([\"Google moves to make Android apps more private\"])) #Tech headline"
      ],
      "metadata": {
        "colab": {
          "base_uri": "https://localhost:8080/"
        },
        "outputId": "3ba222a7-8fd9-4ec8-bd4b-d345e1f2ea2e",
        "id": "2-T-e64TI1bx"
      },
      "execution_count": null,
      "outputs": [
        {
          "output_type": "execute_result",
          "data": {
            "text/plain": [
              "array(['TECH'], dtype='<U14')"
            ]
          },
          "metadata": {},
          "execution_count": 61
        }
      ]
    },
    {
      "cell_type": "code",
      "source": [
        "model.predict(vectorizer.transform([\"Googles plan to limit data tracking on its Chrome browser has been extended to cover apps on its Android-based smartphones.\"])) #Tech short description"
      ],
      "metadata": {
        "colab": {
          "base_uri": "https://localhost:8080/"
        },
        "outputId": "000a6cd6-3955-4ad1-8901-f7cc94f1ac6b",
        "id": "Jxv20nU_I1by"
      },
      "execution_count": null,
      "outputs": [
        {
          "output_type": "execute_result",
          "data": {
            "text/plain": [
              "array(['TECH'], dtype='<U14')"
            ]
          },
          "metadata": {},
          "execution_count": 62
        }
      ]
    },
    {
      "cell_type": "code",
      "source": [
        "model.predict(vectorizer.transform([\"Austria and Germany have both announced plans to relax Covid-19 measures, weeks after pushing for compulsory vaccinations to curb infections.\"])) #General/Covid News"
      ],
      "metadata": {
        "colab": {
          "base_uri": "https://localhost:8080/"
        },
        "outputId": "22c69c99-3c5a-484f-caba-9e7405039c15",
        "id": "ElvQBebmI1by"
      },
      "execution_count": null,
      "outputs": [
        {
          "output_type": "execute_result",
          "data": {
            "text/plain": [
              "array(['WORLD NEWS'], dtype='<U14')"
            ]
          },
          "metadata": {},
          "execution_count": 63
        }
      ]
    },
    {
      "cell_type": "code",
      "source": [
        "model.predict(vectorizer.transform(['EUROPE Soldier abused for being gay told to provide intimate pictures to prove his sexuality'])) #Queer News"
      ],
      "metadata": {
        "colab": {
          "base_uri": "https://localhost:8080/"
        },
        "outputId": "3860e3f3-ac16-48d1-a50e-7d57afbdc4f7",
        "id": "w4hoRD28I1by"
      },
      "execution_count": null,
      "outputs": [
        {
          "output_type": "execute_result",
          "data": {
            "text/plain": [
              "array(['QUEER VOICES'], dtype='<U14')"
            ]
          },
          "metadata": {},
          "execution_count": 64
        }
      ]
    },
    {
      "cell_type": "markdown",
      "source": [
        "Here our model predicts a wrong category, lets try providing the description in the following line"
      ],
      "metadata": {
        "id": "JgP8idWKI1by"
      }
    },
    {
      "cell_type": "code",
      "source": [
        "model.predict(vectorizer.transform(['Five healthy ways to discipline children'])) #Parenting News"
      ],
      "metadata": {
        "colab": {
          "base_uri": "https://localhost:8080/"
        },
        "outputId": "ff648c7a-3da1-4e20-eca7-d9267cadcdcf",
        "id": "yfBYVXdEI1by"
      },
      "execution_count": null,
      "outputs": [
        {
          "output_type": "execute_result",
          "data": {
            "text/plain": [
              "array(['WELLNESS'], dtype='<U14')"
            ]
          },
          "metadata": {},
          "execution_count": 65
        }
      ]
    },
    {
      "cell_type": "markdown",
      "source": [
        "Still a wrong prediction, lets try combining both the headline and descripton"
      ],
      "metadata": {
        "id": "rdmWMPXUI1by"
      }
    },
    {
      "cell_type": "code",
      "source": [
        "model.predict(vectorizer.transform(['A positive disciplining strategy can help develop a positive relationship and set expectations based on the behavioral outcomes, says an expert.']))"
      ],
      "metadata": {
        "colab": {
          "base_uri": "https://localhost:8080/"
        },
        "outputId": "1ba2990f-1809-40f4-d4c4-47a46e6a93e0",
        "id": "gL89uV4XI1by"
      },
      "execution_count": null,
      "outputs": [
        {
          "output_type": "execute_result",
          "data": {
            "text/plain": [
              "array(['WELLNESS'], dtype='<U14')"
            ]
          },
          "metadata": {},
          "execution_count": 66
        }
      ]
    },
    {
      "cell_type": "markdown",
      "source": [
        "Still wrong, here we can see our model is not 100% accurate."
      ],
      "metadata": {
        "id": "kGNB480hI1by"
      }
    },
    {
      "cell_type": "code",
      "source": [
        "model.predict(vectorizer.transform(['Five healthy ways to discipline children A positive disciplining strategy can help develop a positive relationship and set expectations based on the behavioral outcomes, says an expert.']))"
      ],
      "metadata": {
        "colab": {
          "base_uri": "https://localhost:8080/"
        },
        "outputId": "4067482b-6759-4011-967f-3e52fb625313",
        "id": "wH9NP1HnI1by"
      },
      "execution_count": null,
      "outputs": [
        {
          "output_type": "execute_result",
          "data": {
            "text/plain": [
              "array(['WELLNESS'], dtype='<U14')"
            ]
          },
          "metadata": {},
          "execution_count": 67
        }
      ]
    },
    {
      "cell_type": "markdown",
      "source": [
        "# **Conclusion**\n",
        "While the models are not 100% accurate, we can see that they better than a dumb model would. When given vague headlines the model still manages to predict a category which is close to the correct category. When given a clearer headline or short description the model performs execptionally well. With some more tuning and testing of different models I am sure the predictions could be better. \n",
        "\n",
        "#References: \n",
        "https://scikit-learn.org/stable/modules/generated/sklearn.feature_extraction.text.TfidfVectorizer.html\n",
        "\n",
        "https://scikit-learn.org/stable/modules/classes.html?highlight=naive%20bayes#module-sklearn.naive_bayes\n",
        "\n",
        "https://scikit-learn.org/stable/modules/generated/sklearn.ensemble.RandomForestClassifier.html?highlight=randomforest#sklearn.ensemble.RandomForestClassifier\n",
        "\n",
        "https://plotly.com/python/\n",
        "\n",
        "https://www.youtube.com/watch?v=i74DVqMsRWY\n",
        "\n",
        "https://numpy.org/doc/stable/reference/index.html\n",
        "\n"
      ],
      "metadata": {
        "id": "tgIS4ngyIoiW"
      }
    }
  ]
}